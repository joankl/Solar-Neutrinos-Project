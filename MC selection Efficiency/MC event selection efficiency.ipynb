{
 "cells": [
  {
   "cell_type": "markdown",
   "id": "c5d6a9c1-a217-4946-8f77-099e307f4f83",
   "metadata": {},
   "source": [
    "# Notebook Dedicated to Compute the Event Selection Efficiency of MC Data of Solar Nue and 208Tl"
   ]
  },
  {
   "cell_type": "code",
   "execution_count": 2,
   "id": "ead39c79-9952-45a8-816e-417108e6b05a",
   "metadata": {},
   "outputs": [],
   "source": [
    "import uproot\n",
    "import numpy as np\n",
    "import pandas as pd\n",
    "import random\n",
    "\n",
    "import glob\n",
    "import re\n",
    "\n",
    "import seaborn as sn\n",
    "import matplotlib\n",
    "import matplotlib.pyplot as plt\n",
    "from matplotlib import cm"
   ]
  },
  {
   "cell_type": "markdown",
   "id": "5726751b-40ef-4c24-940a-5d3642f924a5",
   "metadata": {},
   "source": [
    "# Load Data\n",
    "Use the Train Dataset to Estimate the selection efficiency of solar Nue and 208Tl events"
   ]
  },
  {
   "cell_type": "code",
   "execution_count": 13,
   "id": "231a729c-65ba-45f2-8102-b93207b4ed4e",
   "metadata": {},
   "outputs": [],
   "source": [
    "# ========== Define the event selection cuts to compute the efficiency ==========\n",
    "imag_dim = (10,10)\n",
    "\n",
    "energy_inf_cut = 2.5\n",
    "energy_sup_cut = 12\n",
    "\n",
    "posr_cut = 5500\n",
    "\n",
    "time_res_inf_cut = -1\n",
    "time_res_sup_cut = 5\n",
    "\n",
    "nhits_cut = 20 #Nhits cut to be applied after the time residual cuts\n",
    "\n",
    "energy_sup_model_train = 7  #Define the energy sup cut used to train the model\n",
    "\n",
    "# ========== files directory==========\n",
    "main_dir = f'E:/Data/solars/mc/ML Data/Train/np_arrays/E_{energy_inf_cut}_{energy_sup_cut}_MeV_R_{posr_cut}_mm_Delta_{time_res_inf_cut}_{time_res_sup_cut}_ns/'\n",
    "solar_fname = 'solarNue_n_init_evs_*.npy'\n",
    "tl208_fname = '208Tl_n_init_evs_*.npy'\n",
    "\n",
    "flist_solar = glob.glob(main_dir + solar_fname)\n",
    "flist_208tl = glob.glob(main_dir + tl208_fname)"
   ]
  },
  {
   "cell_type": "markdown",
   "id": "a16a8dba-e791-4a1a-a0a9-160a51cd5782",
   "metadata": {},
   "source": [
    "## Initial Nº of events"
   ]
  },
  {
   "cell_type": "code",
   "execution_count": 5,
   "id": "8eea04b2-1c9e-410c-af8c-d31ee6ff5f79",
   "metadata": {},
   "outputs": [
    {
     "name": "stdout",
     "output_type": "stream",
     "text": [
      "N of initial MC 8B Nue events = 2794531\n",
      "N of initial MC 208Tl events = 938314\n"
     ]
    }
   ],
   "source": [
    "N_init_solar = []  #Nº of initial solar 8B events \n",
    "N_init_208tl = []  #Nº of initial 208Tl events\n",
    "\n",
    "#Loop over solars:\n",
    "for fsolar_i in flist_solar:\n",
    "    n_init_ev = np.load(fsolar_i)[0]\n",
    "    N_init_solar.append(n_init_ev)\n",
    "N_init_solar = np.array(N_init_solar)\n",
    "N_init_solar = np.sum(N_init_solar)\n",
    "\n",
    "#Loop over 208Tl:\n",
    "for f208tl_i in flist_208tl:\n",
    "    n_init_ev = np.load(f208tl_i)[0]\n",
    "    N_init_208tl.append(n_init_ev)\n",
    "\n",
    "N_init_208tl = np.array(N_init_208tl)\n",
    "N_init_208tl = np.sum(N_init_208tl)\n",
    "\n",
    "print(f'N of initial MC 8B Nue events = {N_init_solar}')\n",
    "print(f'N of initial MC 208Tl events = {N_init_208tl}')"
   ]
  },
  {
   "cell_type": "markdown",
   "id": "56eee7b8-485e-4f32-ac16-b4e7141b89d2",
   "metadata": {},
   "source": [
    "## Final Nº of events: Load the Saved Pandas DataFrame"
   ]
  },
  {
   "cell_type": "code",
   "execution_count": 14,
   "id": "b2ed742d-5ee7-4e9a-84b6-5e7ccd736fb7",
   "metadata": {},
   "outputs": [
    {
     "name": "stdout",
     "output_type": "stream",
     "text": [
      "N of final MC 8B Nue events = 803545\n",
      "N of final MC 208Tl events = 515054\n"
     ]
    }
   ],
   "source": [
    "# ====================== Load the pd.DataFrame ======================\n",
    "train_dataset_dir = f'E:/Data/solars/mc/ML Data/Train/pd_dataframe/'\n",
    "fname = f'df_Dim_{imag_dim[0]}_E_{energy_inf_cut}_{energy_sup_cut}_MeV_R_{posr_cut}_mm_Delta_{time_res_inf_cut}_{time_res_sup_cut}_ns.csv'\n",
    "\n",
    "df_train = pd.read_csv(train_dataset_dir + fname)\n",
    "\n",
    "# Separate solar 8B Nue from 208Tl Datasets\n",
    "dataset_sig_train = (df_train[df_train['IsNu'] == 1]).reset_index()\n",
    "dataset_bkg_train = (df_train[df_train['IsTl'] == 1]).reset_index()\n",
    "\n",
    "# ========== Apply cuts on pd Dataframe as used to train the ML Model ==========\n",
    "#cut in solar energy:\n",
    "solar_energy_condition = (dataset_sig_train['energy (MeV)'] >= energy_inf_cut) & (dataset_sig_train['energy (MeV)'] <= energy_sup_model_train)\n",
    "dataset_sig_train = (dataset_sig_train[solar_energy_condition])\n",
    "\n",
    "#cut in 208tl energy:\n",
    "tl208_energy_condition = (dataset_bkg_train['energy (MeV)'] >= energy_inf_cut) & (dataset_bkg_train['energy (MeV)'] <= energy_sup_model_train)\n",
    "dataset_bkg_train = (dataset_bkg_train[tl208_energy_condition])\n",
    "# ===============================================================================\n",
    "\n",
    "#Extract the Number of final events:\n",
    "N_final_solar = dataset_sig_train.shape[0]\n",
    "N_final_208tl = dataset_bkg_train.shape[0]\n",
    "\n",
    "print(f'N of final MC 8B Nue events = {N_final_solar}')\n",
    "print(f'N of final MC 208Tl events = {N_final_208tl}')"
   ]
  },
  {
   "cell_type": "markdown",
   "id": "0b43ff3f-f2cd-4ea7-88f5-6716255eb315",
   "metadata": {},
   "source": [
    "# Efficiency Computation"
   ]
  },
  {
   "cell_type": "code",
   "execution_count": 15,
   "id": "73c80769-afaf-4fdb-a3dc-056ac39c6532",
   "metadata": {},
   "outputs": [
    {
     "name": "stdout",
     "output_type": "stream",
     "text": [
      "MC solar 8B-Nue events selection efficiency = 0.28754198826207333 \n",
      "MC 208-Thallium events selection efficiency = 0.5489143293183305 \n"
     ]
    }
   ],
   "source": [
    "solar_eff = N_final_solar/ N_init_solar\n",
    "tl208_eff = N_final_208tl / N_init_208tl\n",
    "\n",
    "print(f'MC solar 8B-Nue events selection efficiency = {solar_eff} ')\n",
    "print(f'MC 208-Thallium events selection efficiency = {tl208_eff} ')"
   ]
  },
  {
   "cell_type": "code",
   "execution_count": null,
   "id": "a111faee-0d9b-4e82-94a7-21db2949e82d",
   "metadata": {},
   "outputs": [],
   "source": []
  }
 ],
 "metadata": {
  "kernelspec": {
   "display_name": "Python 3 (ipykernel)",
   "language": "python",
   "name": "python3"
  },
  "language_info": {
   "codemirror_mode": {
    "name": "ipython",
    "version": 3
   },
   "file_extension": ".py",
   "mimetype": "text/x-python",
   "name": "python",
   "nbconvert_exporter": "python",
   "pygments_lexer": "ipython3",
   "version": "3.12.2"
  }
 },
 "nbformat": 4,
 "nbformat_minor": 5
}
