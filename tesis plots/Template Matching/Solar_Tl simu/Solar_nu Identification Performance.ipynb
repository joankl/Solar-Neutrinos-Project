{
 "cells": [
  {
   "cell_type": "markdown",
   "id": "afc1ea3a-fb4a-4eab-9e02-6531fb1761ff",
   "metadata": {},
   "source": [
    "# Rendimiento de Clasificación de Template Matching\n",
    "Notebook dedicado a estudiar el rendimiento de clasificación de eventos de solar_nu y ruido usando Template Matching"
   ]
  },
  {
   "cell_type": "code",
   "execution_count": 1,
   "id": "4c3d8df0-b1b4-425c-894b-1a52284ef20e",
   "metadata": {},
   "outputs": [],
   "source": [
    "import cv2 as cv\n",
    "import uproot\n",
    "import numpy as np\n",
    "\n",
    "import matplotlib\n",
    "import matplotlib.pyplot as plt\n",
    "from matplotlib import cm\n",
    "\n",
    "import seaborn as sn"
   ]
  },
  {
   "cell_type": "code",
   "execution_count": 2,
   "id": "4990be9b-d01b-46d2-974a-1407190f8ab6",
   "metadata": {},
   "outputs": [],
   "source": [
    "def magnitude(vector): \n",
    "    #Funcion para calcular radio de eventos al centro del detector\n",
    "    \n",
    "    norm = []\n",
    "    for vec in vector:\n",
    "    \tnorm.append(np.linalg.norm(vec))\n",
    "\n",
    "    return np.array(norm, dtype = np.float32)"
   ]
  },
  {
   "cell_type": "markdown",
   "id": "59f8bb24-0a35-4d22-be87-bb1037bac688",
   "metadata": {},
   "source": [
    "# 1 - Extraer datos"
   ]
  },
  {
   "cell_type": "code",
   "execution_count": 3,
   "id": "d35ade07-e2b2-4e95-bb08-7066768e7b1f",
   "metadata": {},
   "outputs": [
    {
     "data": {
      "text/plain": [
       "['T;4', 'T;3', 'pmt;2', 'pmt;1']"
      ]
     },
     "execution_count": 3,
     "metadata": {},
     "output_type": "execute_result"
    }
   ],
   "source": [
    "# Archivo de Neutrinos Solares\n",
    "solar_file = uproot.open(\"/snoplus simulations/solar_nu/split_simu_Analysis_solar_Nue.root\")\n",
    "solar_file.keys()"
   ]
  },
  {
   "cell_type": "code",
   "execution_count": 4,
   "id": "f3df5414-f6fd-405b-98ad-23af70d0429f",
   "metadata": {},
   "outputs": [
    {
     "data": {
      "text/plain": [
       "['T;7', 'T;6', 'pmt;2', 'pmt;1']"
      ]
     },
     "execution_count": 4,
     "metadata": {},
     "output_type": "execute_result"
    }
   ],
   "source": [
    "#Archivo de Ruido (Talio)\n",
    "tl_file = uproot.open(\"/snoplus simulations/talio/split_simu_Analysis_Tl.root\")\n",
    "tl_file.keys()"
   ]
  },
  {
   "cell_type": "code",
   "execution_count": 5,
   "id": "27313462-5a58-49fe-8715-256f85248704",
   "metadata": {},
   "outputs": [],
   "source": [
    "solar_data = solar_file['T;4']\n",
    "tl_data = tl_file['T;7']\n",
    "pmt_info = solar_file['pmt;1']"
   ]
  },
  {
   "cell_type": "markdown",
   "id": "6d307827-eece-44de-b040-98b79d94ff4c",
   "metadata": {},
   "source": [
    "## 1.1 - PMT info"
   ]
  },
  {
   "cell_type": "code",
   "execution_count": 6,
   "id": "a01b5fcb-f5ef-42ce-a991-b860dc17d161",
   "metadata": {},
   "outputs": [],
   "source": [
    "pmt_id = np.array(pmt_info['pmt_id'], dtype = np.int16)\n",
    "pmt_pos_xyz = np.array(pmt_info['pmt_pos_xyz'])\n",
    "pmt_pos_sph = np.array(pmt_info['pmt_pos_sph'])\n",
    "pmt_type = np.array(pmt_info['pmt_type'], dtype = np.int16)"
   ]
  },
  {
   "cell_type": "markdown",
   "id": "efb47e36-ed33-4ae4-87c1-51fc53a31901",
   "metadata": {},
   "source": [
    "## 1.2 - Solar Variables"
   ]
  },
  {
   "cell_type": "code",
   "execution_count": 7,
   "id": "b3cdc9c7-7dac-49f8-bfeb-99224abe69fc",
   "metadata": {},
   "outputs": [
    {
     "data": {
      "text/plain": [
       "['evtid',\n",
       " 'mcID',\n",
       " 'energy',\n",
       " 'mc_position',\n",
       " 'mc_momentum',\n",
       " 'position',\n",
       " 'momentum',\n",
       " 'hit_pmtid',\n",
       " 'hit_pmttime',\n",
       " 'hit_residual',\n",
       " 'hit_type']"
      ]
     },
     "execution_count": 7,
     "metadata": {},
     "output_type": "execute_result"
    }
   ],
   "source": [
    "solar_data.keys()"
   ]
  },
  {
   "cell_type": "markdown",
   "id": "c72e83b0-fba5-4357-85c8-5709fae23f9b",
   "metadata": {},
   "source": [
    "Lets cut on number of events, for now"
   ]
  },
  {
   "cell_type": "raw",
   "id": "0bde98ed-8710-4234-8e87-f86bf66f7bb6",
   "metadata": {},
   "source": [
    "n_events = 750\n",
    "solar_mcID = np.array(solar_data['mcID'], dtype = np.int16)\n",
    "solar_limit = (np.where(solar_mcID == n_events + 1)[0])[0] - 1"
   ]
  },
  {
   "cell_type": "code",
   "execution_count": 8,
   "id": "55cc2924-da67-4742-b737-900ee1955d08",
   "metadata": {},
   "outputs": [],
   "source": [
    "solar_mcID = np.array(solar_data['mcID'], dtype = np.int16)#[:solar_limit]\n",
    "solar_energy = np.array(solar_data['energy'], dtype = np.float32)#[:solar_limit]\n",
    "solar_mc_position = np.array(solar_data['mc_position'])#[:solar_limit]   #-> Position Generation\n",
    "solar_mc_momentum = np.array(solar_data['mc_momentum'])#[:solar_limit]   #-> IMPORTANT: Direction of simulated event\n",
    "solar_position = np.array(solar_data['position'])#[:solar_limit]        \n",
    "solar_hit_pmtid = np.array(solar_data['hit_pmtid'], dtype = np.int16)#[:solar_limit]\n",
    "solar_time_residual = np.array(solar_data['hit_residual'])#[:solar_limit]\n",
    "solar_hit_type = np.array(solar_data['hit_type'], dtype = np.int16)#[:solar_limit]"
   ]
  },
  {
   "cell_type": "markdown",
   "id": "77310fd8-84e9-4aa1-9a9b-505291e596f9",
   "metadata": {
    "editable": true,
    "slideshow": {
     "slide_type": ""
    },
    "tags": []
   },
   "source": [
    "## 1.3 - Tálio Variables"
   ]
  },
  {
   "cell_type": "raw",
   "id": "2c0455ff-d8db-402f-a03e-63845eb91a7e",
   "metadata": {},
   "source": [
    "tl_mcID = np.array(tl_data['mcID'], dtype = np.int16)\n",
    "tl_limit = (np.where(tl_mcID == n_events + 1)[0])[0] - 1"
   ]
  },
  {
   "cell_type": "code",
   "execution_count": 9,
   "id": "a68dc9b5-bdf5-4f17-9497-29100f84eb31",
   "metadata": {},
   "outputs": [],
   "source": [
    "tl_mcID = np.array(tl_data['mcID'], dtype = np.int16)#[:tl_limit]\n",
    "tl_energy = np.array(tl_data['energy'], dtype = np.float32)#[:tl_limit]\n",
    "tl_mc_position = np.array(tl_data['mc_position'])#[:tl_limit]   #-> Position Generation\n",
    "tl_mc_momentum = np.array(tl_data['mc_momentum'])#[:tl_limit]   #-> IMPORTANT: Direction of simulated event\n",
    "tl_position = np.array(tl_data['position'])#[:tl_limit]        \n",
    "tl_hit_pmtid = np.array(tl_data['hit_pmtid'], dtype = np.int16)#[:tl_limit]\n",
    "tl_time_residual = np.array(tl_data['hit_residual'])#[:tl_limit]\n",
    "tl_hit_type = np.array(tl_data['hit_type'], dtype = np.int16)#[:tl_limit]"
   ]
  },
  {
   "cell_type": "markdown",
   "id": "64ae0787-d390-4a63-8ff6-c4f40a9f0e92",
   "metadata": {},
   "source": [
    "# 2 - Select Valid Data\n",
    "\n",
    "Select only hits that verify pmt_type = 1"
   ]
  },
  {
   "cell_type": "code",
   "execution_count": 10,
   "id": "29bb3ecd-ff00-43ea-a195-cf4afaa936a1",
   "metadata": {},
   "outputs": [],
   "source": [
    "valid_pmt_id = np.array(np.where(pmt_type == 1)[0]) # PMT valid ID match with index where pmt_type=1\n",
    "\n",
    "#extract valid indices in data\n",
    "solar_valid_id_info_i = np.array(np.where(np.in1d(solar_hit_pmtid, valid_pmt_id))[0])\n",
    "tl_valid_id_info__i = np.array(np.where(np.in1d(tl_hit_pmtid, valid_pmt_id))[0])\n",
    "\n",
    "#extract coordinates of pmt_type = 1\n",
    "valid_pmt_xyz = []   #List of valid PMT coordinates (type 1)\n",
    "for i_dx in valid_pmt_id:\n",
    "    valid_pmt_xyz.append(pmt_pos_xyz[i_dx])\n",
    "valid_pmt_xyz = np.array(valid_pmt_xyz)"
   ]
  },
  {
   "cell_type": "code",
   "execution_count": 11,
   "id": "549547b0-df15-4066-bb10-dab85651638f",
   "metadata": {},
   "outputs": [
    {
     "data": {
      "text/plain": [
       "array([      0,       1,       2, ..., 6223501, 6223502, 6223503],\n",
       "      dtype=int64)"
      ]
     },
     "execution_count": 11,
     "metadata": {},
     "output_type": "execute_result"
    }
   ],
   "source": [
    "solar_valid_id_info_i"
   ]
  },
  {
   "cell_type": "markdown",
   "id": "a9df00e7-2891-4368-9775-ac2fe1c21fd7",
   "metadata": {},
   "source": [
    "# 3 - Process Data\n",
    "\n",
    "Procesamiento de datos (corte en volumen, energia y tiempo), calculo de observable cos(α)"
   ]
  },
  {
   "cell_type": "markdown",
   "id": "476ece15-bdd7-4431-a341-d52d041def03",
   "metadata": {},
   "source": [
    "## 3.1 - Ajuste de Procesamiento\n",
    "\n",
    "El ajuste será aplicado a simulaciones de Tálio y de neutrinos Solares"
   ]
  },
  {
   "cell_type": "code",
   "execution_count": 13,
   "id": "96c3dea3-a39d-4bab-8531-80dbfd9fcb4a",
   "metadata": {},
   "outputs": [],
   "source": [
    "#params to adjust the cuts--------------------------------------------\n",
    "#Split Data\n",
    "split = 10\n",
    "\n",
    "#energy cut\n",
    "inf_en_cut = 4\n",
    "up_en_cut = 6\n",
    "\n",
    "#time cut\n",
    "inf_cut = -5\n",
    "up_cut = 12\n",
    "\n",
    "#radial cut\n",
    "radi_cut_method = True   #If true, apply radial cuts given by rad_cut_val to data\n",
    "rad_cut_val = 5500.0   # Buen valor de corte para observar una identificación efizas de neutrinos solares\n",
    "#--------------------------------------------------------------------------"
   ]
  },
  {
   "cell_type": "markdown",
   "id": "f81c4045-7666-4f83-ab1e-8274fb188488",
   "metadata": {},
   "source": [
    "### 3.1.1 - Procesamiento de Solares"
   ]
  },
  {
   "cell_type": "code",
   "execution_count": 14,
   "id": "cb587332-f9a3-48cf-955d-9dafe250be19",
   "metadata": {
    "editable": true,
    "slideshow": {
     "slide_type": ""
    },
    "tags": []
   },
   "outputs": [
    {
     "name": "stdout",
     "output_type": "stream",
     "text": [
      "slipt nº: 0\n",
      "In energy cut\n",
      "In radi_cut\n",
      "computing cos(alpha)\n",
      "doing time residual cuts\n",
      "slipt nº: 1\n",
      "In energy cut\n",
      "In radi_cut\n",
      "computing cos(alpha)\n",
      "doing time residual cuts\n",
      "slipt nº: 2\n",
      "In energy cut\n",
      "In radi_cut\n",
      "computing cos(alpha)\n",
      "doing time residual cuts\n",
      "slipt nº: 3\n",
      "In energy cut\n",
      "In radi_cut\n",
      "computing cos(alpha)\n",
      "doing time residual cuts\n",
      "slipt nº: 4\n",
      "In energy cut\n",
      "In radi_cut\n",
      "computing cos(alpha)\n",
      "doing time residual cuts\n",
      "slipt nº: 5\n",
      "In energy cut\n",
      "In radi_cut\n",
      "computing cos(alpha)\n",
      "doing time residual cuts\n",
      "slipt nº: 6\n",
      "In energy cut\n",
      "In radi_cut\n",
      "computing cos(alpha)\n",
      "doing time residual cuts\n",
      "slipt nº: 7\n",
      "In energy cut\n",
      "In radi_cut\n",
      "computing cos(alpha)\n",
      "doing time residual cuts\n",
      "slipt nº: 8\n",
      "In energy cut\n",
      "In radi_cut\n",
      "computing cos(alpha)\n",
      "doing time residual cuts\n",
      "slipt nº: 9\n",
      "In energy cut\n",
      "In radi_cut\n",
      "computing cos(alpha)\n",
      "doing time residual cuts\n"
     ]
    }
   ],
   "source": [
    "# Dividir valid_id_info_ev_i en partes\n",
    "valid_info_ev_split = np.array_split(solar_valid_id_info_i, split)  #---> split(array, parts)\n",
    "\n",
    "#variables to save: with time residual cuts and radi cut (radi cut is optional, depends on the simulation)\n",
    "solar_multi_time_residual_cut = []\n",
    "solar_multi_cos_angle_cut = []\n",
    "#multi_position_cut = []\n",
    "solar_multi_mc_momentum_cut = []\n",
    "solar_multi_mc_ID_cut = []\n",
    "solar_multi_energy_cut = []\n",
    "\n",
    "#loop over valid_info_ev_split\n",
    "for n_loop, split_array in enumerate(valid_info_ev_split):\n",
    "    print('slipt nº:', n_loop)\n",
    "    # extract all valid simulated info \n",
    "    multi_energy = []\n",
    "    multi_mc_ID = []\n",
    "    multi_time_residual = []\n",
    "    multi_pmt_id_hit = []\n",
    "    multi_position = []\n",
    "    #multi_mc_position = []\n",
    "    multi_mc_momentum = []   \n",
    "    multi_xyz_hit = []\n",
    "\n",
    "    for valid_i in split_array:\n",
    "        multi_energy.append(solar_energy[valid_i])\n",
    "        multi_mc_ID.append(solar_mcID[valid_i])\n",
    "        multi_time_residual.append(solar_time_residual[valid_i])\n",
    "        multi_pmt_id_hit.append(solar_hit_pmtid[valid_i])\n",
    "        multi_position.append(solar_position[valid_i])\n",
    "        #multi_mc_position.append(mc_position[valid_i])\n",
    "        multi_mc_momentum.append(solar_mc_momentum[valid_i])\n",
    "    multi_energy = np.array(multi_energy)\n",
    "    multi_time_residual = np.array(multi_time_residual)\n",
    "    multi_pmt_id_hit = np.array(multi_pmt_id_hit)\n",
    "    multi_position = np.array(multi_position)\n",
    "\n",
    "    for id_i in multi_pmt_id_hit:\n",
    "        multi_xyz_hit.append(pmt_pos_xyz[id_i])\n",
    "    multi_xyz_hit = np.array(multi_xyz_hit)\n",
    "\n",
    "    #energy_cut:\n",
    "    print('In energy cut')\n",
    "    condition_en_cut = (multi_energy > inf_en_cut) & (multi_energy < up_en_cut)\n",
    "    \n",
    "    #variables to extract\n",
    "    multi_energy = np.extract(condition_en_cut, multi_energy)\n",
    "    multi_mc_ID = np.extract(condition_en_cut, multi_mc_ID)\n",
    "    multi_time_residual = np.extract(condition_en_cut, multi_time_residual)\n",
    "    multi_pmt_id_hit = np.extract(condition_en_cut, multi_pmt_id_hit)\n",
    "\n",
    "    multi_mc_momentum_en_cut = []\n",
    "    multi_position_en_cut = []\n",
    "    for e_dx in np.where(condition_en_cut)[0]:\n",
    "        multi_mc_momentum_en_cut.append(multi_mc_momentum[e_dx])\n",
    "        multi_position_en_cut.append(multi_position[e_dx])\n",
    "    multi_mc_momentum = np.array(multi_mc_momentum_en_cut)\n",
    "    multi_position = np.array(multi_position_en_cut)\n",
    "    #freed memory\n",
    "    multi_mc_momentum_en_cut = None\n",
    "    multi_position_en_cut = None\n",
    "            \n",
    "    #Radial Cut:\n",
    "    if radi_cut_method == True:\n",
    "        print('In radi_cut')\n",
    "        #mc_position_norm = magnitude(multi_mc_position)\n",
    "        position_norm = magnitude(multi_position)\n",
    "        max_radi = rad_cut_val\n",
    "        radi_condition = (position_norm < max_radi)\n",
    "        index_cut_radi = np.array(np.where(radi_condition)[0])\n",
    "        #variables to extract\n",
    "        multi_time_residual = np.extract(radi_condition, multi_time_residual)\n",
    "        multi_pmt_id_hit = np.extract(radi_condition, multi_pmt_id_hit)\n",
    "        multi_energy = np.extract(radi_condition, multi_energy)\n",
    "\n",
    "        multi_mc_ID_radi_cut = []\n",
    "        multi_mc_momentum_radi_cut = []\n",
    "        multi_position_radi_cut = []\n",
    "        multi_xyz_hit_radi_cut = [] \n",
    "\n",
    "        for j_dx in index_cut_radi:\n",
    "            multi_mc_momentum_radi_cut.append(multi_mc_momentum[j_dx])\n",
    "            multi_position_radi_cut.append(multi_position[j_dx])          #HERE\n",
    "            multi_mc_ID_radi_cut.append(multi_mc_ID[j_dx])\n",
    "\n",
    "        for id_i in multi_pmt_id_hit:\n",
    "            multi_xyz_hit_radi_cut.append(pmt_pos_xyz[id_i])\n",
    "\n",
    "        multi_mc_ID = multi_mc_ID_radi_cut\n",
    "        multi_mc_momentum = multi_mc_momentum_radi_cut   #HERE\n",
    "        multi_position = multi_position_radi_cut\n",
    "        multi_xyz_hit = multi_xyz_hit_radi_cut\n",
    "        \n",
    "        #freed memory\n",
    "        multi_mc_ID_radi_cut = None\n",
    "        multi_mc_momentum_radi_cut = None\n",
    "        multi_position_radi_cut = None\n",
    "        multi_xyz_hit_radi_cut = None\n",
    "        radi_condition = None\n",
    "        index_cut_radi = None\n",
    "        \n",
    "    #cos(alpha) calculation -> Uses the definition of scalar product\n",
    "    multi_cos_angle = []\n",
    "    N = np.shape(multi_xyz_hit)[0]\n",
    "\n",
    "    print('computing cos(alpha)')\n",
    "    for k in range(N):\n",
    "        #event_direction = np.array([0,0,-1])\n",
    "        event_direction = multi_mc_momentum[k]\n",
    "        scalar_product = np.dot(multi_xyz_hit[k], event_direction)\n",
    "        norm_1 = np.linalg.norm(event_direction)\n",
    "        norm_2 = np.linalg.norm(multi_xyz_hit[k])\n",
    "        cos_val = scalar_product/(norm_1*norm_2)\n",
    "        \n",
    "        multi_cos_angle.append(cos_val)\n",
    "\n",
    "    #Time residual cut:\n",
    "    print('doing time residual cuts')\n",
    "    for i in np.where((multi_time_residual > inf_cut) & (multi_time_residual < up_cut))[0]:\n",
    "        solar_multi_time_residual_cut.append(multi_time_residual[i])\n",
    "        solar_multi_cos_angle_cut.append(multi_cos_angle[i])\n",
    "        #solar_multi_position_cut.append(multi_position[i])\n",
    "        solar_multi_mc_momentum_cut.append(multi_mc_momentum[i])\n",
    "        solar_multi_mc_ID_cut.append(multi_mc_ID[i])\n",
    "        solar_multi_energy_cut.append(multi_energy[i])\n",
    "\n",
    "    #freed memory\n",
    "    multi_cos_angle = None\n",
    "\n",
    "    #freen memory:    \n",
    "    multi_mc_ID = None\n",
    "    multi_time_residual = None\n",
    "    multi_pmt_id_hit = None\n",
    "    multi_position = None\n",
    "    multi_mc_position = None\n",
    "    multi_mc_momentum = None\n",
    "    multi_xyz_hit = None\n",
    "    multi_energy = None\n",
    "\n",
    "#multi_position_cut = np.array(multi_position_cut)\n",
    "solar_multi_mc_momentum_cut = np.array(solar_multi_mc_momentum_cut)\n",
    "solar_multi_mc_ID_cut = np.array(solar_multi_mc_ID_cut, dtype = np.int16)\n",
    "solar_multi_energy_cut = np.array(solar_multi_energy_cut)"
   ]
  },
  {
   "cell_type": "raw",
   "id": "f850cc95-c8b5-4ed5-a6dc-97ba92f0e5f7",
   "metadata": {
    "editable": true,
    "slideshow": {
     "slide_type": ""
    },
    "tags": []
   },
   "source": [
    "(np.unique(solar_multi_mc_ID_cut))"
   ]
  },
  {
   "cell_type": "raw",
   "id": "44f07d43-72b5-4882-87e9-f4a75ae17a93",
   "metadata": {},
   "source": [
    "(np.unique(solar_multi_energy_cut))"
   ]
  },
  {
   "cell_type": "markdown",
   "id": "08544316-7770-45c9-8bc3-85afaccdc13b",
   "metadata": {},
   "source": [
    "### 3.1.2 - Procesamiento de Tálio"
   ]
  },
  {
   "cell_type": "code",
   "execution_count": 15,
   "id": "7c05c3e5-4f6d-48ed-bb25-90ea1c2ca525",
   "metadata": {
    "editable": true,
    "slideshow": {
     "slide_type": ""
    },
    "tags": []
   },
   "outputs": [
    {
     "name": "stdout",
     "output_type": "stream",
     "text": [
      "slipt nº: 0\n",
      "In energy cut\n",
      "In radi_cut\n",
      "computing cos(alpha)\n",
      "doing time residual cuts\n",
      "slipt nº: 1\n",
      "In energy cut\n",
      "In radi_cut\n",
      "computing cos(alpha)\n",
      "doing time residual cuts\n",
      "slipt nº: 2\n",
      "In energy cut\n",
      "In radi_cut\n",
      "computing cos(alpha)\n",
      "doing time residual cuts\n",
      "slipt nº: 3\n",
      "In energy cut\n",
      "In radi_cut\n",
      "computing cos(alpha)\n",
      "doing time residual cuts\n",
      "slipt nº: 4\n",
      "In energy cut\n",
      "In radi_cut\n",
      "computing cos(alpha)\n",
      "doing time residual cuts\n",
      "slipt nº: 5\n",
      "In energy cut\n",
      "In radi_cut\n",
      "computing cos(alpha)\n",
      "doing time residual cuts\n",
      "slipt nº: 6\n",
      "In energy cut\n",
      "In radi_cut\n",
      "computing cos(alpha)\n",
      "doing time residual cuts\n",
      "slipt nº: 7\n",
      "In energy cut\n",
      "In radi_cut\n",
      "computing cos(alpha)\n",
      "doing time residual cuts\n",
      "slipt nº: 8\n",
      "In energy cut\n",
      "In radi_cut\n",
      "computing cos(alpha)\n",
      "doing time residual cuts\n",
      "slipt nº: 9\n",
      "In energy cut\n",
      "In radi_cut\n",
      "computing cos(alpha)\n",
      "doing time residual cuts\n"
     ]
    }
   ],
   "source": [
    "# Dividir valid_id_info_ev_i en partes\n",
    "valid_info_ev_split = np.array_split(tl_valid_id_info__i, split)  #---> split(array, parts)\n",
    "\n",
    "#variables to save: with time residual cuts and radi cut (radi cut is optional, depends on the simulation)\n",
    "tl_multi_time_residual_cut = []\n",
    "tl_multi_cos_angle_cut = []\n",
    "#multi_position_cut = []\n",
    "tl_multi_mc_momentum_cut = []\n",
    "tl_multi_mc_ID_cut = []\n",
    "tl_multi_energy_cut = []\n",
    "tl_multi_hit_xyz_cut = []  #save the coordinates of hits to be used to generate the background with (random direction != mc_momentum)\n",
    "\n",
    "#loop over valid_info_ev_split\n",
    "for n_loop, split_array in enumerate(valid_info_ev_split):\n",
    "    print('slipt nº:', n_loop)\n",
    "    # extract all valid simulated info \n",
    "    multi_energy = []\n",
    "    multi_mc_ID = []\n",
    "    multi_time_residual = []\n",
    "    multi_pmt_id_hit = []\n",
    "    multi_position = []\n",
    "    #multi_mc_position = []\n",
    "    multi_mc_momentum = []   \n",
    "    multi_xyz_hit = []\n",
    "\n",
    "    for valid_i in split_array:\n",
    "        multi_energy.append(tl_energy[valid_i])\n",
    "        multi_mc_ID.append(tl_mcID[valid_i])\n",
    "        multi_time_residual.append(tl_time_residual[valid_i])\n",
    "        multi_pmt_id_hit.append(tl_hit_pmtid[valid_i])\n",
    "        multi_position.append(tl_position[valid_i])\n",
    "        #multi_mc_position.append(mc_position[valid_i])\n",
    "        multi_mc_momentum.append(tl_mc_momentum[valid_i])\n",
    "    multi_energy = np.array(multi_energy)\n",
    "    multi_time_residual = np.array(multi_time_residual)\n",
    "    multi_pmt_id_hit = np.array(multi_pmt_id_hit)\n",
    "    multi_position = np.array(multi_position)\n",
    "\n",
    "    for id_i in multi_pmt_id_hit:\n",
    "        multi_xyz_hit.append(pmt_pos_xyz[id_i])\n",
    "    multi_xyz_hit = np.array(multi_xyz_hit)\n",
    "\n",
    "    #energy_cut:\n",
    "    print('In energy cut')\n",
    "    condition_en_cut = (multi_energy > inf_en_cut) & (multi_energy < up_en_cut)\n",
    "    \n",
    "    #variables to extract\n",
    "    multi_energy = np.extract(condition_en_cut, multi_energy)\n",
    "    multi_mc_ID = np.extract(condition_en_cut, multi_mc_ID)\n",
    "    multi_time_residual = np.extract(condition_en_cut, multi_time_residual)\n",
    "    multi_pmt_id_hit = np.extract(condition_en_cut, multi_pmt_id_hit)\n",
    "\n",
    "    multi_mc_momentum_en_cut = []\n",
    "    multi_position_en_cut = []\n",
    "    for e_dx in np.where(condition_en_cut)[0]:\n",
    "        multi_mc_momentum_en_cut.append(multi_mc_momentum[e_dx])\n",
    "        multi_position_en_cut.append(multi_position[e_dx])\n",
    "    multi_mc_momentum = np.array(multi_mc_momentum_en_cut)\n",
    "    multi_position = np.array(multi_position_en_cut)\n",
    "    #freed memory\n",
    "    multi_mc_momentum_en_cut = None\n",
    "    multi_position_en_cut = None\n",
    "            \n",
    "    #Radial Cut:\n",
    "    if radi_cut_method == True:\n",
    "        print('In radi_cut')\n",
    "        #mc_position_norm = magnitude(multi_mc_position)\n",
    "        position_norm = magnitude(multi_position)\n",
    "        max_radi = rad_cut_val\n",
    "        radi_condition = (position_norm < max_radi)\n",
    "        index_cut_radi = np.array(np.where(radi_condition)[0])\n",
    "        #variables to extract\n",
    "        multi_time_residual = np.extract(radi_condition, multi_time_residual)\n",
    "        multi_pmt_id_hit = np.extract(radi_condition, multi_pmt_id_hit)\n",
    "        multi_energy = np.extract(radi_condition, multi_energy)\n",
    "\n",
    "        multi_mc_ID_radi_cut = []\n",
    "        multi_mc_momentum_radi_cut = []\n",
    "        multi_position_radi_cut = []\n",
    "        multi_xyz_hit_radi_cut = [] \n",
    "\n",
    "        for j_dx in index_cut_radi:\n",
    "            multi_mc_momentum_radi_cut.append(multi_mc_momentum[j_dx])\n",
    "            multi_position_radi_cut.append(multi_position[j_dx])          #HERE\n",
    "            multi_mc_ID_radi_cut.append(multi_mc_ID[j_dx])\n",
    "\n",
    "        for id_i in multi_pmt_id_hit:\n",
    "            multi_xyz_hit_radi_cut.append(pmt_pos_xyz[id_i])\n",
    "\n",
    "        multi_mc_ID = multi_mc_ID_radi_cut\n",
    "        multi_mc_momentum = multi_mc_momentum_radi_cut   #HERE\n",
    "        multi_position = multi_position_radi_cut\n",
    "        multi_xyz_hit = multi_xyz_hit_radi_cut\n",
    "        \n",
    "        #freed memory\n",
    "        multi_mc_ID_radi_cut = None\n",
    "        multi_mc_momentum_radi_cut = None\n",
    "        multi_position_radi_cut = None\n",
    "        multi_xyz_hit_radi_cut = None\n",
    "        radi_condition = None\n",
    "        index_cut_radi = None\n",
    "        \n",
    "    #cos(alpha) calculation -> Uses the definition of scalar product\n",
    "    multi_cos_angle = []\n",
    "    N = np.shape(multi_xyz_hit)[0]\n",
    "\n",
    "    print('computing cos(alpha)')\n",
    "    for k in range(N):\n",
    "        #event_direction = np.array([0,0,-1])\n",
    "        event_direction = multi_mc_momentum[k]\n",
    "        scalar_product = np.dot(multi_xyz_hit[k], event_direction)\n",
    "        norm_1 = np.linalg.norm(event_direction)\n",
    "        norm_2 = np.linalg.norm(multi_xyz_hit[k])\n",
    "        cos_val = scalar_product/(norm_1*norm_2)\n",
    "        \n",
    "        multi_cos_angle.append(cos_val)\n",
    "\n",
    "    #Time residual cut:\n",
    "    print('doing time residual cuts')\n",
    "    for i in np.where((multi_time_residual > inf_cut) & (multi_time_residual < up_cut))[0]:\n",
    "        tl_multi_time_residual_cut.append(multi_time_residual[i])\n",
    "        tl_multi_cos_angle_cut.append(multi_cos_angle[i])\n",
    "        #multi_position_cut.append(multi_position[i])\n",
    "        tl_multi_mc_momentum_cut.append(multi_mc_momentum[i])\n",
    "        tl_multi_mc_ID_cut.append(multi_mc_ID[i])\n",
    "        tl_multi_energy_cut.append(multi_energy[i])\n",
    "        tl_multi_hit_xyz_cut.append(multi_xyz_hit[i])\n",
    "\n",
    "    #freed memory\n",
    "    multi_cos_angle = None\n",
    "\n",
    "    #freen memory:    \n",
    "    multi_mc_ID = None\n",
    "    multi_time_residual = None\n",
    "    multi_pmt_id_hit = None\n",
    "    multi_position = None\n",
    "    multi_mc_position = None\n",
    "    multi_mc_momentum = None\n",
    "    multi_xyz_hit = None\n",
    "    multi_energy = None\n",
    "\n",
    "#multi_position_cut = np.array(multi_position_cut)\n",
    "tl_multi_mc_momentum_cut = np.array(tl_multi_mc_momentum_cut)\n",
    "tl_multi_mc_ID_cut = np.array(tl_multi_mc_ID_cut, dtype = np.int16)\n",
    "tl_multi_energy_cut = np.array(tl_multi_energy_cut)\n",
    "tl_multi_hit_xyz_cut = np.array(tl_multi_hit_xyz_cut)"
   ]
  },
  {
   "cell_type": "raw",
   "id": "bc3b1b33-a60a-43ce-939a-3e006f2f3bc9",
   "metadata": {},
   "source": [
    "tl_multi_mc_momentum_cut"
   ]
  },
  {
   "cell_type": "raw",
   "id": "698feb9e-1173-4f2a-859c-ffca44efd37c",
   "metadata": {
    "editable": true,
    "slideshow": {
     "slide_type": ""
    },
    "tags": []
   },
   "source": [
    "np.unique(solar_multi_mc_ID_cut)"
   ]
  },
  {
   "cell_type": "raw",
   "id": "4ac56f12-e4de-4340-89b0-f63412192b30",
   "metadata": {
    "editable": true,
    "scrolled": true,
    "slideshow": {
     "slide_type": ""
    },
    "tags": []
   },
   "source": [
    "np.unique(tl_multi_mc_ID_cut)"
   ]
  },
  {
   "cell_type": "raw",
   "id": "148abb8f-31aa-46fd-b8a1-4627cb4fd03c",
   "metadata": {
    "scrolled": true
   },
   "source": [
    "np.unique(solar_multi_energy_cut)"
   ]
  },
  {
   "cell_type": "raw",
   "id": "da4ea840-604e-4170-950b-262570e1b7ed",
   "metadata": {
    "scrolled": true
   },
   "source": [
    "np.unique(tl_multi_energy_cut)"
   ]
  },
  {
   "cell_type": "markdown",
   "id": "8408f45a-9b1e-4370-b3f4-983d7906b520",
   "metadata": {},
   "source": [
    "# 4 - Escoger ROI"
   ]
  },
  {
   "cell_type": "code",
   "execution_count": 16,
   "id": "bde1730c-4bab-49ec-abb4-3b72c7987ebd",
   "metadata": {
    "editable": true,
    "slideshow": {
     "slide_type": ""
    },
    "tags": []
   },
   "outputs": [
    {
     "data": {
      "text/plain": [
       "Text(0.5, 1.0, 'ROI Selection - MultiEV - 5 MeV - random(dir)')"
      ]
     },
     "execution_count": 16,
     "metadata": {},
     "output_type": "execute_result"
    },
    {
     "data": {
      "image/png": "[encoded data removed]",
      "text/plain": [
       "<Figure size 500x500 with 1 Axes>"
      ]
     },
     "metadata": {},
     "output_type": "display_data"
    }
   ],
   "source": [
    "bins = 10\n",
    "\n",
    "#Load Data\n",
    "H_norm_multi_ev = np.genfromtxt('Templates/arr_H_Hit_norm_5_10.csv', delimiter = ',')\n",
    "\n",
    "#select rectangular ROI by positions in Normalized array\n",
    "\n",
    "#corners\n",
    "#time res\n",
    "c1 = 6 #top L (y)\n",
    "c2 = bins - 1 #bottom L (y)\n",
    "\n",
    "#cos(α)\n",
    "c3 = 1 #bottom L (x)\n",
    "c4 = 5 #bottom R (x)\n",
    "\n",
    "ROI = H_norm_multi_ev[c1:c2, c3:c4]\n",
    "\n",
    "#Display region selection\n",
    "NormHits_multi_ev_display = H_norm_multi_ev.copy()\n",
    "NormHits_multi_ev_display[c1:c2,c3] = 0.01\n",
    "NormHits_multi_ev_display[c1:c2, c4] = 0.01\n",
    "NormHits_multi_ev_display[c2, c3:c4+1] = 0.01\n",
    "NormHits_multi_ev_display[c1, c3+1:c4] = 0.01\n",
    "\n",
    "title = 'ROI Selection - MultiEV - 5 MeV - random(dir)'\n",
    "plt.figure(figsize=(5,5))\n",
    "plt.imshow(NormHits_multi_ev_display, extent = [-5, 12, 1, -1], aspect = 'auto')\n",
    "plt.title(title, fontsize = 10)\n",
    "#plt.savefig('figs/'+title+'_'+str(bins)+'.png', format = 'png')"
   ]
  },
  {
   "cell_type": "markdown",
   "id": "ade2c041-58b2-4804-b725-0befef6ea494",
   "metadata": {},
   "source": [
    "# 5 - Pattern Matching dentro de ROI"
   ]
  },
  {
   "cell_type": "markdown",
   "id": "f4eeaa54-cc26-48a8-9f58-590fc91cd9d7",
   "metadata": {},
   "source": [
    "## 5.1 - Solar neutrinos"
   ]
  },
  {
   "cell_type": "code",
   "execution_count": 17,
   "id": "1a21720c-2e3b-4307-b81e-de96930986b2",
   "metadata": {
    "editable": true,
    "slideshow": {
     "slide_type": ""
    },
    "tags": []
   },
   "outputs": [
    {
     "name": "stderr",
     "output_type": "stream",
     "text": [
      "C:\\Users\\joanc\\AppData\\Local\\Temp\\ipykernel_17676\\1908599841.py:47: RuntimeWarning: invalid value encountered in divide\n",
      "  H_ev_Hit_norm = H_ev/sum_hit_ev\n",
      "C:\\Users\\joanc\\AppData\\Local\\Temp\\ipykernel_17676\\1908599841.py:60: RuntimeWarning: invalid value encountered in cast\n",
      "  H_ev_T = H_ev_Hit_norm.astype(np.uint8)\n",
      "C:\\Users\\joanc\\AppData\\Local\\Temp\\ipykernel_17676\\1908599841.py:63: RuntimeWarning: invalid value encountered in cast\n",
      "  H_T = H_ev_norm.astype(np.uint8)\n"
     ]
    }
   ],
   "source": [
    "# Operar sobre eventos individuales y hacer matching dentro de ROI usando la prediccion de los rectagulos de la función cv.matchtemplate().\n",
    "# Si Esta fuera de ROI -> evento con label = 0, si esta dentro entonces label = 1 \n",
    "\n",
    "#Ajustes\n",
    "bins = 10\n",
    "\n",
    "#Separar mcIDs:\n",
    "break_i = [0] #List of indices where data change of event ID\n",
    "N_data = len(solar_multi_mc_ID_cut)\n",
    "for i in range(N_data-1):\n",
    "    if solar_multi_mc_ID_cut[i] != solar_multi_mc_ID_cut[i+1]:\n",
    "        break_i.append(i+1)\n",
    "break_i = np.array(break_i, dtype = np.int32)\n",
    "\n",
    "solar_N_evts = len(break_i)\n",
    "\n",
    "# To construc the confussion Matrix\n",
    "solar_nu_expected = np.ones(solar_N_evts-1, dtype = np.int8)\n",
    "solar_nu_predicted = []\n",
    "\n",
    "#IDs list\n",
    "IDs = range(solar_N_evts-1)\n",
    "\n",
    "#To save:\n",
    "solar_direction = []   #-> Important! To be used in background observavel calculations\n",
    "\n",
    "for id_i in IDs:\n",
    "    #init and final of each evID\n",
    "    i = break_i[id_i]\n",
    "    f = break_i[id_i + 1]\n",
    "    \n",
    "    #select event data\n",
    "    time_residual_ev = np.array(solar_multi_time_residual_cut[i:f])\n",
    "    cos_angel_ev = np.array(solar_multi_cos_angle_cut[i:f])\n",
    "    #energy_ev = np.array(solar_multi_energy_cut[i:f], dtype = np.float16)[0]\n",
    "\n",
    "    #save direction of event\n",
    "    solar_direction.append(solar_multi_mc_momentum_cut[i])\n",
    "\n",
    "    #construct histograms:\n",
    "\n",
    "    #Δα distribution\n",
    "    H_ev, xedges, yedges = np.histogram2d(x = cos_angel_ev, y =  time_residual_ev, bins = [bins, bins])\n",
    "\n",
    "    #Normalization\n",
    "    sum_hit_ev = np.sum(H_ev,axis=0)\n",
    "    H_ev_Hit_norm = H_ev/sum_hit_ev\n",
    "\n",
    "    #Operation between H_norm_multi_ev and H_ev_Hit_norm\n",
    "    H_ev_boost = H_ev_Hit_norm*H_norm_multi_ev\n",
    "\n",
    "    #Choose Template for Matching\n",
    "    H_template = H_norm_multi_ev[6:10, 1:5]  #Values defined by observations on solar_nue notebook for 10bins\n",
    "\n",
    "    #prepare data for template matching\n",
    "    #1) Norm transformation\n",
    "    H_ev_norm = cv.normalize(H_ev_boost, None, alpha = 0, beta = 255, norm_type=cv.NORM_MINMAX)\n",
    "    H_template_norm = cv.normalize(H_template, None, alpha = 0, beta = 255, norm_type=cv.NORM_MINMAX)\n",
    "    H_ev_norm2match = cv.normalize(H_ev, None, alpha = 0, beta = 255, norm_type=cv.NORM_MINMAX)\n",
    "    H_ev_T = H_ev_Hit_norm.astype(np.uint8)\n",
    "\n",
    "    #2) Rescaling Data\n",
    "    H_T = H_ev_norm.astype(np.uint8) \n",
    "    H_template_T = H_template_norm.astype(np.uint8) \n",
    "\n",
    "    #Method \n",
    "    method = eval('cv.TM_CCORR')  #Eficaz\n",
    "\n",
    "    #Apply template matching\n",
    "    match_res = cv.matchTemplate(H_T, H_template_T, method)\n",
    "    min_val, max_val, min_loc, max_loc = cv.minMaxLoc(match_res)\n",
    "    \n",
    "    #Construct Region of identification \n",
    "    h, w = np.shape(H_template_T)\n",
    "    top_left = max_loc\n",
    "    bottom_right = (top_left[0] + w, top_left[1] + h)\n",
    "\n",
    "    #compare vertices of ROI and identified ROI \n",
    "    ident_c1 = top_left[1]\n",
    "    ident_c2 = bottom_right[1]\n",
    "    ident_c3 = top_left[0]\n",
    "    ident_c4 = bottom_right[0]\n",
    "\n",
    "    if (ident_c1 >= c1 and ident_c2 <= bins and ident_c3 >= c3 and ident_c4 <= c4):\n",
    "        solar_nu_predicted.append(1)\n",
    "    else:\n",
    "        solar_nu_predicted.append(0)\n",
    "        \n",
    "    #See identified ROI\n",
    "    #ROI_ident = cv.rectangle(H_ev_norm2match, top_left, bottom_right, color = 255, thickness = 1)\n",
    "    #plt.imshow(ROI_ident)\n",
    "\n",
    "solar_direction = np.array(solar_direction)\n",
    "solar_nu_predicted = np.array(solar_nu_predicted)"
   ]
  },
  {
   "cell_type": "markdown",
   "id": "62d49e34-4a85-4cda-9d9d-b2a532fd78a0",
   "metadata": {},
   "source": [
    "## 5.2 - Tálio "
   ]
  },
  {
   "cell_type": "code",
   "execution_count": 18,
   "id": "80ead2ef-91cf-41c2-a2b6-ea292c7d4e77",
   "metadata": {},
   "outputs": [
    {
     "name": "stderr",
     "output_type": "stream",
     "text": [
      "C:\\Users\\joanc\\AppData\\Local\\Temp\\ipykernel_17676\\120065718.py:53: RuntimeWarning: invalid value encountered in divide\n",
      "  H_ev_Hit_norm = H_ev/sum_hit_ev\n",
      "C:\\Users\\joanc\\AppData\\Local\\Temp\\ipykernel_17676\\120065718.py:66: RuntimeWarning: invalid value encountered in cast\n",
      "  H_ev_T = H_ev_Hit_norm.astype(np.uint8)\n",
      "C:\\Users\\joanc\\AppData\\Local\\Temp\\ipykernel_17676\\120065718.py:69: RuntimeWarning: invalid value encountered in cast\n",
      "  H_T = H_ev_norm.astype(np.uint8)\n"
     ]
    }
   ],
   "source": [
    "#Separar mcIDs:\n",
    "break_i = [0] #List of indices where data change of event ID\n",
    "N_data = len(solar_multi_mc_ID_cut)\n",
    "for i in range(N_data-1):\n",
    "    if tl_multi_mc_ID_cut[i] != tl_multi_mc_ID_cut[i+1]:\n",
    "        break_i.append(i+1)\n",
    "break_i = np.array(break_i, dtype = np.int32)\n",
    "\n",
    "N_evts = solar_N_evts\n",
    "\n",
    "# To construc the confussion Matrix\n",
    "tl_expected = np.zeros(N_evts-1, dtype = np.int8)\n",
    "tl_predicted = []\n",
    "\n",
    "#IDs list\n",
    "IDs = range(N_evts-1)\n",
    "#IDs = [5]\n",
    "\n",
    "#to save\n",
    "tl_direction = [] #Talio direction\n",
    "\n",
    "for id_i in IDs:\n",
    "    #init and final of each evID\n",
    "    i = break_i[id_i]\n",
    "    f = break_i[id_i + 1]\n",
    "    \n",
    "    #select event data\n",
    "    time_residual_ev = np.array(tl_multi_time_residual_cut[i:f])\n",
    "    #cos_angel_ev = np.array(tl_multi_cos_angle_cut[i:f])\n",
    "    #energy_ev = np.array(solar_multi_energy_cut[i:f], dtype = np.float16)[0]\n",
    "    hit_xyz_ev = np.array(tl_multi_hit_xyz_cut[i:f])\n",
    "\n",
    "    tl_direction.append(tl_multi_mc_momentum_cut[i])\n",
    "    \n",
    "    pse_momentum = solar_direction[id_i]\n",
    "    pse_cos_ev = []\n",
    "    N = np.shape(hit_xyz_ev)[0]\n",
    "    #compute fake cos(α)\n",
    "    for k_dx in range(N):\n",
    "        scalar_prd = np.dot(hit_xyz_ev[k_dx], pse_momentum)\n",
    "        norm_1 = np.linalg.norm(pse_momentum)\n",
    "        norm_2 = np.linalg.norm(hit_xyz_ev[k_dx])\n",
    "        cos_val = scalar_prd/(norm_1*norm_2) \n",
    "        pse_cos_ev.append(cos_val)\n",
    "\n",
    "    #construct histograms:\n",
    "\n",
    "    #Δα distribution\n",
    "    H_ev, xedges, yedges = np.histogram2d(x = pse_cos_ev, y =  time_residual_ev, bins = [bins, bins])\n",
    "\n",
    "    #Normalization\n",
    "    sum_hit_ev = np.sum(H_ev,axis=0)\n",
    "    H_ev_Hit_norm = H_ev/sum_hit_ev\n",
    "\n",
    "    #Operation between H_norm_multi_ev and H_ev_Hit_norm\n",
    "    H_ev_boost = H_ev_Hit_norm*H_norm_multi_ev\n",
    "\n",
    "    #Choose Template for Matching\n",
    "    H_template = H_norm_multi_ev[6:10, 1:5]  #Values defined by observations on solar_nue notebook for 10bins\n",
    "\n",
    "    #prepare data for template matching\n",
    "    #1) Norm transformation\n",
    "    H_ev_norm = cv.normalize(H_ev_boost, None, alpha = 0, beta = 255, norm_type=cv.NORM_MINMAX)\n",
    "    H_template_norm = cv.normalize(H_template, None, alpha = 0, beta = 255, norm_type=cv.NORM_MINMAX)\n",
    "    H_ev_norm2match = cv.normalize(H_ev, None, alpha = 0, beta = 255, norm_type=cv.NORM_MINMAX)\n",
    "    H_ev_T = H_ev_Hit_norm.astype(np.uint8)\n",
    "\n",
    "    #2) Rescaling Data\n",
    "    H_T = H_ev_norm.astype(np.uint8) \n",
    "    H_template_T = H_template_norm.astype(np.uint8) \n",
    "\n",
    "    #Method \n",
    "    method = eval('cv.TM_CCORR')  #Eficaz\n",
    "\n",
    "    #Apply template matching\n",
    "    match_res = cv.matchTemplate(H_T, H_template_T, method)\n",
    "    min_val, max_val, min_loc, max_loc = cv.minMaxLoc(match_res)\n",
    "    \n",
    "    #Construct Region of identification \n",
    "    h, w = np.shape(H_template_T)\n",
    "    top_left = max_loc\n",
    "    bottom_right = (top_left[0] + w, top_left[1] + h)\n",
    "\n",
    "    #compare vertices of ROI and identified ROI \n",
    "    ident_c1 = top_left[1]\n",
    "    ident_c2 = bottom_right[1]\n",
    "    ident_c3 = top_left[0]\n",
    "    ident_c4 = bottom_right[0]\n",
    "\n",
    "    if (ident_c1 >= c1 and ident_c2 <= bins and ident_c3 >= c3 and ident_c4 <= c4):\n",
    "        tl_predicted.append(1)\n",
    "    else:\n",
    "        tl_predicted.append(0)\n",
    "        \n",
    "    #See identified ROI\n",
    "    #ROI_ident = cv.rectangle(H_ev_norm2match, top_left, bottom_right, color = 255, thickness = 1)\n",
    "    #plt.imshow(ROI_ident)\n",
    "\n",
    "tl_predicted = np.array(tl_predicted)\n",
    "tl_direction = np.array(tl_direction)"
   ]
  },
  {
   "cell_type": "code",
   "execution_count": 24,
   "id": "1eae7844-429c-45fc-90c0-2b66048adca6",
   "metadata": {},
   "outputs": [
    {
     "data": {
      "text/plain": [
       "array([0, 0, 0, ..., 0, 0, 0], dtype=int8)"
      ]
     },
     "execution_count": 24,
     "metadata": {},
     "output_type": "execute_result"
    }
   ],
   "source": [
    "tl_expected"
   ]
  },
  {
   "cell_type": "code",
   "execution_count": 23,
   "id": "1b9ca734-ccfc-41c7-9b02-b72228601820",
   "metadata": {},
   "outputs": [
    {
     "data": {
      "text/plain": [
       "array([0, 0, 0, ..., 1, 0, 0])"
      ]
     },
     "execution_count": 23,
     "metadata": {},
     "output_type": "execute_result"
    }
   ],
   "source": [
    "solar_nu_predicted"
   ]
  },
  {
   "cell_type": "markdown",
   "id": "6c6d1023-656c-4306-8fb0-c9cdeef32a7f",
   "metadata": {},
   "source": [
    "## 5.3 - Construcción de Matriz de Confusión\n",
    "\n",
    "Necesitamos extraer las predicciones para Tálio y para Neutrinos solares y concatenar!"
   ]
  },
  {
   "cell_type": "code",
   "execution_count": 26,
   "id": "9a362618-6014-4d5e-b534-f29d6a6113b4",
   "metadata": {},
   "outputs": [],
   "source": [
    "expected = np.concatenate((solar_nu_expected,tl_expected))\n",
    "predicted = np.concatenate((solar_nu_predicted,tl_predicted))"
   ]
  },
  {
   "cell_type": "code",
   "execution_count": 61,
   "id": "677d563a-4101-4c20-8bf2-924f6085545e",
   "metadata": {},
   "outputs": [
    {
     "data": {
      "image/png": "[encoded data removed]",
      "text/plain": [
       "<Figure size 700x700 with 1 Axes>"
      ]
     },
     "metadata": {},
     "output_type": "display_data"
    }
   ],
   "source": [
    "from sklearn import metrics\n",
    "\n",
    "confusion_matrix = metrics.confusion_matrix(expected, predicted)\n",
    "\n",
    "title = 'Confusion Matrix - r(mm) < ' +str(rad_cut_val) + '\\n energy: [4,6] MeV'\n",
    "\n",
    "plt.figure(figsize =(7,7))\n",
    "sn.heatmap(confusion_matrix, annot = True, cbar = False, xticklabels = ['Thallium' ,'Solar $ν_e$'], yticklabels = ['Thallium' ,'Solar $ν_e$'], cmap = cm.tab20c,  linewidth=.5)\n",
    "plt.title(title, fontsize = 10)\n",
    "plt.savefig('figs/Confusion Matrix_'+ str(rad_cut_val) + '_' + str(bins) +'.png', format = 'png',  bbox_inches = 'tight')"
   ]
  },
  {
   "cell_type": "code",
   "execution_count": null,
   "id": "d0dde1e3-f0a7-4ba3-8303-f95ceeb7ca0c",
   "metadata": {
    "editable": true,
    "slideshow": {
     "slide_type": ""
    },
    "tags": []
   },
   "outputs": [],
   "source": []
  }
 ],
 "metadata": {
  "kernelspec": {
   "display_name": "Python 3 (ipykernel)",
   "language": "python",
   "name": "python3"
  },
  "language_info": {
   "codemirror_mode": {
    "name": "ipython",
    "version": 3
   },
   "file_extension": ".py",
   "mimetype": "text/x-python",
   "name": "python",
   "nbconvert_exporter": "python",
   "pygments_lexer": "ipython3",
   "version": "3.12.2"
  }
 },
 "nbformat": 4,
 "nbformat_minor": 5
}
