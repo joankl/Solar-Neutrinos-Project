{
 "cells": [
  {
   "cell_type": "markdown",
   "id": "31be405a-cf18-422d-93af-17f214884602",
   "metadata": {},
   "source": [
    "# Extraer Histogramas de eventos unicos (center vtx, random dir)"
   ]
  },
  {
   "cell_type": "code",
   "execution_count": 2,
   "id": "09a1e2f0-00e6-4316-a5b0-114892306145",
   "metadata": {
    "editable": true,
    "slideshow": {
     "slide_type": ""
    },
    "tags": []
   },
   "outputs": [],
   "source": [
    "import uproot\n",
    "import numpy as np\n",
    "\n",
    "import matplotlib\n",
    "import matplotlib.pyplot as plt\n",
    "from matplotlib import cm\n",
    "import seaborn as sn"
   ]
  },
  {
   "cell_type": "markdown",
   "id": "ee9d0aca-998c-499d-8a29-c25ae19ce45f",
   "metadata": {},
   "source": [
    "# 1 - Extraer datos"
   ]
  },
  {
   "cell_type": "code",
   "execution_count": 3,
   "id": "5dbb62a0-edf2-434f-97d8-2a3d2ea03a52",
   "metadata": {},
   "outputs": [
    {
     "data": {
      "text/plain": [
       "['T;64', 'T;63', 'pmt;2', 'pmt;1']"
      ]
     },
     "execution_count": 3,
     "metadata": {},
     "output_type": "execute_result"
    }
   ],
   "source": [
    "file = uproot.open(\"/snoplus simulations/electron bulk/center point/random direction/High Statistic/simu_Analysis_elec_5MeV.root\")\n",
    "file.keys()"
   ]
  },
  {
   "cell_type": "code",
   "execution_count": 4,
   "id": "ef089a17-5c1e-4adf-8d73-10fd0e239c1d",
   "metadata": {},
   "outputs": [],
   "source": [
    "data1 = file['T;64']\n",
    "pmt_info = file['pmt;1']"
   ]
  },
  {
   "cell_type": "markdown",
   "id": "2291cd66-1f01-4295-a065-bc1dfd963713",
   "metadata": {},
   "source": [
    "## 1.1 - EV info"
   ]
  },
  {
   "cell_type": "code",
   "execution_count": 5,
   "id": "4e9a000a-e245-41f7-aae4-24ed4cdfe45c",
   "metadata": {},
   "outputs": [],
   "source": [
    "#evtid = np.array(data1['evtid'], dtype = np.int16)\n",
    "mcID = np.array(data1['mcID'], dtype = np.int16)\n",
    "#mc_position = np.array(data1['mc_position'])   #-> Position Generation\n",
    "mc_momentum = np.array(data1['mc_momentum'])   #-> IMPORTANT: Direction of simulated event\n",
    "position = np.array(data1['position'])        \n",
    "hit_pmtid = np.array(data1['hit_pmtid'], dtype = np.int16)\n",
    "time_residual = np.array(data1['hit_residual'])\n",
    "hit_type = np.array(data1['hit_type'], dtype = np.int16)"
   ]
  },
  {
   "cell_type": "markdown",
   "id": "46cc155e-fac1-4aa2-8819-73f87faeae24",
   "metadata": {},
   "source": [
    "## 1.2 - PMT info"
   ]
  },
  {
   "cell_type": "code",
   "execution_count": 6,
   "id": "477ba6fb-7717-46e7-9e29-6a902b6a1f3f",
   "metadata": {},
   "outputs": [],
   "source": [
    "pmt_id = np.array(pmt_info['pmt_id'], dtype = np.int16)\n",
    "pmt_pos_xyz = np.array(pmt_info['pmt_pos_xyz'])\n",
    "pmt_pos_sph = np.array(pmt_info['pmt_pos_sph'])\n",
    "pmt_type = np.array(pmt_info['pmt_type'], dtype = np.int16)"
   ]
  },
  {
   "cell_type": "markdown",
   "id": "290b70da-4974-428c-801a-78f887642daa",
   "metadata": {},
   "source": [
    "## 1.3 - Extract Valid PMT info index"
   ]
  },
  {
   "cell_type": "markdown",
   "id": "cc94b231-f777-4e3c-bfa4-816d5f32d05f",
   "metadata": {},
   "source": [
    "- Index"
   ]
  },
  {
   "cell_type": "code",
   "execution_count": 9,
   "id": "cf8ac9bb-1b1e-4dcc-a072-74d3763062a6",
   "metadata": {},
   "outputs": [
    {
     "data": {
      "text/plain": [
       "array([        0,         1,         2, ..., 139457001, 139457002,\n",
       "       139457003], dtype=int64)"
      ]
     },
     "execution_count": 9,
     "metadata": {},
     "output_type": "execute_result"
    }
   ],
   "source": [
    "valid_pmt_id = np.array(np.where(pmt_type == 1)[0])   # PMT valid ID match with index of where pmt_type=1\n",
    "\n",
    "valid_id_info_ev_i = np.array(np.where(np.in1d(hit_pmtid, valid_pmt_id))[0])\n",
    "valid_id_info_ev_i"
   ]
  },
  {
   "cell_type": "markdown",
   "id": "91ed0173-6726-4f38-8ca7-32744c309cdc",
   "metadata": {},
   "source": [
    "- PMT valid ID"
   ]
  },
  {
   "cell_type": "code",
   "execution_count": 21,
   "id": "61c74871-9799-43aa-8b87-ac6b26d49bc7",
   "metadata": {},
   "outputs": [
    {
     "data": {
      "text/plain": [
       "array([   1,    2,    3, ..., 9693, 9694, 9695], dtype=int16)"
      ]
     },
     "execution_count": 21,
     "metadata": {},
     "output_type": "execute_result"
    }
   ],
   "source": [
    "condition = (pmt_type == 1)\n",
    "pmt_valid_id = np.extract(condition, pmt_id)\n",
    "pmt_valid_id"
   ]
  },
  {
   "cell_type": "markdown",
   "id": "09f6b86f-09cf-4b05-b67d-9bd316634f72",
   "metadata": {},
   "source": [
    "## 1.3 - Encontrar Segmentación de eventos"
   ]
  },
  {
   "cell_type": "code",
   "execution_count": 7,
   "id": "6c57eedf-b432-40fc-ac00-427caeb06d68",
   "metadata": {},
   "outputs": [],
   "source": [
    "#Separar mcIDs:\n",
    "break_i = [0] #List of indices where data change of event ID\n",
    "N_data = len(mcID)\n",
    "for i in range(N_data-1):\n",
    "    if mcID[i] != mcID[i+1]:\n",
    "        break_i.append(i+1)\n",
    "break_i = np.array(break_i, dtype = np.int32)"
   ]
  },
  {
   "cell_type": "code",
   "execution_count": 8,
   "id": "cc1a5eaf-848a-426f-8213-5f3e5d975ee8",
   "metadata": {},
   "outputs": [
    {
     "data": {
      "text/plain": [
       "array([        0,      1322,      2750, ..., 139452754, 139454117,\n",
       "       139455577])"
      ]
     },
     "execution_count": 8,
     "metadata": {},
     "output_type": "execute_result"
    }
   ],
   "source": [
    "break_i"
   ]
  },
  {
   "cell_type": "markdown",
   "id": "6a91952a-4be3-4e8c-b63d-0c6225b9f26d",
   "metadata": {},
   "source": [
    "## 1.4 - Extraer información valida de un evento"
   ]
  },
  {
   "cell_type": "code",
   "execution_count": 28,
   "id": "ca2b496b-a37b-4a3b-94a2-9e22020a8cd5",
   "metadata": {},
   "outputs": [],
   "source": [
    "#Choose an evID\n",
    "ev_id = 0\n",
    "\n",
    "ev_i = break_i[ev_id]\n",
    "ev_f = break_i[ev_id + 1]\n",
    "\n",
    "#Observable\n",
    "time_res_ev = time_residual[ev_i:ev_f]\n",
    "\n",
    "#extract valid observable data (PMT Type = 1)\n",
    "pmt_id_ev = hit_pmtid[ev_i:ev_f]\n",
    "\n",
    "valid_info_i = np.where(np.in1d(pmt_id_ev, pmt_valid_id))[0]\n",
    "\n",
    "#filtered observable\n",
    "time_res_ev = time_res_ev[valid_info_i]"
   ]
  },
  {
   "cell_type": "code",
   "execution_count": 29,
   "id": "30253a55-4af0-4471-9bd0-299090000e7a",
   "metadata": {},
   "outputs": [
    {
     "data": {
      "text/plain": [
       "array([-68.63178824,   3.43324894,   2.55684093, ..., 201.54200236,\n",
       "       222.30404705, 224.15601823])"
      ]
     },
     "execution_count": 29,
     "metadata": {},
     "output_type": "execute_result"
    }
   ],
   "source": [
    "time_res_ev"
   ]
  },
  {
   "cell_type": "markdown",
   "id": "677d8775-53a1-4442-afbe-aa528bb15170",
   "metadata": {},
   "source": [
    "# 2 - Graficar los Observables"
   ]
  },
  {
   "cell_type": "code",
   "execution_count": 73,
   "id": "9f5812c8-918a-439c-8c5b-636d0bf840e6",
   "metadata": {},
   "outputs": [
    {
     "data": {
      "image/png": "[encoded data removed]",
      "text/plain": [
       "<Figure size 800x600 with 1 Axes>"
      ]
     },
     "metadata": {},
     "output_type": "display_data"
    }
   ],
   "source": [
    "sn.reset_orig()\n",
    "# Crear el histograma utilizando seaborn\n",
    "\n",
    "plt.figure(figsize=(8,6))\n",
    "\n",
    "sn.histplot(time_res_ev, binwidth = 8, element = 'step', alpha = 0, color = 'blue', linewidth = 1.1)\n",
    "\n",
    "plt.title(r'Time Residual Distribution for a Single Event- 5 MeV - $\\vec{0}$ Vertex Generation', fontsize = 10)\n",
    "plt.xlabel('time residual (ns)')\n",
    "\n",
    "plt.xlim(-20, 200)\n",
    "plt.yscale('log')\n",
    "plt.savefig('figs/time residual single event - 5 MeV - center vtx.png', format = 'png', bbox_inches = 'tight')\n",
    "plt.show()"
   ]
  },
  {
   "cell_type": "code",
   "execution_count": null,
   "id": "db886861-b822-40b9-b7bd-65adf22975c0",
   "metadata": {},
   "outputs": [],
   "source": []
  }
 ],
 "metadata": {
  "kernelspec": {
   "display_name": "Python 3 (ipykernel)",
   "language": "python",
   "name": "python3"
  },
  "language_info": {
   "codemirror_mode": {
    "name": "ipython",
    "version": 3
   },
   "file_extension": ".py",
   "mimetype": "text/x-python",
   "name": "python",
   "nbconvert_exporter": "python",
   "pygments_lexer": "ipython3",
   "version": "3.12.2"
  }
 },
 "nbformat": 4,
 "nbformat_minor": 5
}
