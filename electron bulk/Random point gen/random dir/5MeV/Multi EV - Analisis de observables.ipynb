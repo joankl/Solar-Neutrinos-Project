{
 "cells": [
  {
   "cell_type": "code",
   "execution_count": 1,
   "id": "f138ecc1-6d47-4cc2-a73d-3b08ab5d88ab",
   "metadata": {},
   "outputs": [],
   "source": [
    "import uproot\n",
    "import numpy as np\n",
    "\n",
    "import matplotlib\n",
    "import matplotlib.pyplot as plt\n",
    "from matplotlib import cm\n",
    "\n",
    "import seaborn as sn"
   ]
  },
  {
   "cell_type": "code",
   "execution_count": 2,
   "id": "005661e8-00ed-4663-846b-c70846cb1a8b",
   "metadata": {},
   "outputs": [],
   "source": [
    "def magnitude(vector): \n",
    "    #Funcion para calcular radio de eventos al centro del detector\n",
    "    \n",
    "    norm = []\n",
    "    for vec in vector:\n",
    "    \tnorm.append(np.linalg.norm(vec))\n",
    "\n",
    "    return np.array(norm, dtype = np.float32)"
   ]
  },
  {
   "cell_type": "markdown",
   "id": "6729dbb4-84e3-43c2-b066-d27b6a59432f",
   "metadata": {},
   "source": [
    "# 1 - Extracting Data and Moving to GPU"
   ]
  },
  {
   "cell_type": "code",
   "execution_count": 6,
   "id": "074bbd8b-0a2a-4c89-bc9d-0fc033a05aba",
   "metadata": {},
   "outputs": [
    {
     "data": {
      "text/plain": [
       "['T;61', 'T;60', 'pmt;2', 'pmt;1']"
      ]
     },
     "execution_count": 6,
     "metadata": {},
     "output_type": "execute_result"
    }
   ],
   "source": [
    "file = uproot.open(\"/snoplus simulations/electron bulk/random point/random dir/High Statistic/simu_Analysis_elec_5MeV.root\")\n",
    "file.keys()"
   ]
  },
  {
   "cell_type": "code",
   "execution_count": 7,
   "id": "e46cbf39-69ab-4ddf-8a35-c2292408a23a",
   "metadata": {},
   "outputs": [
    {
     "data": {
      "text/plain": [
       "['evtid',\n",
       " 'mcID',\n",
       " 'energy',\n",
       " 'mc_position',\n",
       " 'mc_momentum',\n",
       " 'position',\n",
       " 'momentum',\n",
       " 'hit_pmtid',\n",
       " 'hit_pmttime',\n",
       " 'hit_residual',\n",
       " 'hit_type']"
      ]
     },
     "execution_count": 7,
     "metadata": {},
     "output_type": "execute_result"
    }
   ],
   "source": [
    "data1 = file['T;61']\n",
    "data1.keys()"
   ]
  },
  {
   "cell_type": "code",
   "execution_count": 8,
   "id": "3bdd08b2-e7f8-4032-8e5e-59d673208b39",
   "metadata": {},
   "outputs": [
    {
     "data": {
      "text/plain": [
       "['pmt_id', 'pmt_pos_xyz', 'pmt_pos_sph', 'pmt_type']"
      ]
     },
     "execution_count": 8,
     "metadata": {},
     "output_type": "execute_result"
    }
   ],
   "source": [
    "pmt_info = file['pmt;1']\n",
    "pmt_info.keys()"
   ]
  },
  {
   "cell_type": "markdown",
   "id": "a3a255a8-9995-4934-a5e1-b2d4dfc3973a",
   "metadata": {},
   "source": [
    "## 1.1 - EV info"
   ]
  },
  {
   "cell_type": "code",
   "execution_count": 9,
   "id": "17c7dc26-5016-4f1c-96c1-098d7573e7d1",
   "metadata": {},
   "outputs": [],
   "source": [
    "#evtid = np.array(data1['evtid'], dtype = np.int16)\n",
    "#mcID = np.array(data1['mcID'], dtype = np.int16)\n",
    "mc_position = np.array(data1['mc_position'])  # -> Position Generation\n",
    "mc_momentum = np.array(data1['mc_momentum'])  # -> IMPORTANT: Direction of simulated event\n",
    "position = np.array(data1['position'])        \n",
    "hit_pmtid = np.array(data1['hit_pmtid'], dtype = np.int16)\n",
    "time_residual = np.array(data1['hit_residual'])\n",
    "hit_type = np.array(data1['hit_type'], dtype = np.int16)"
   ]
  },
  {
   "cell_type": "markdown",
   "id": "2dfa391a-2cde-4eea-89ad-2f3b76d250a2",
   "metadata": {},
   "source": [
    "## 1.1 - PMT info"
   ]
  },
  {
   "cell_type": "code",
   "execution_count": 10,
   "id": "fa899d61-9c16-484f-9ddf-6a94b26548bb",
   "metadata": {},
   "outputs": [],
   "source": [
    "pmt_id = np.array(pmt_info['pmt_id'], dtype = np.int16)\n",
    "pmt_pos_xyz = np.array(pmt_info['pmt_pos_xyz'])\n",
    "pmt_pos_sph = np.array(pmt_info['pmt_pos_sph'])\n",
    "pmt_type = np.array(pmt_info['pmt_type'], dtype = np.int16)"
   ]
  },
  {
   "cell_type": "markdown",
   "id": "165a7bf9-c57e-4fb9-9fa9-77b38ae6f52b",
   "metadata": {},
   "source": [
    "# 2 - Observe Data - Time Residual"
   ]
  },
  {
   "cell_type": "code",
   "execution_count": 9,
   "id": "bf9cb714-2f81-4af3-a0f8-eeafaf0e5d59",
   "metadata": {},
   "outputs": [
    {
     "data": {
      "image/png": "[encoded data removed]",
      "text/plain": [
       "<Figure size 800x600 with 1 Axes>"
      ]
     },
     "metadata": {},
     "output_type": "display_data"
    }
   ],
   "source": [
    "plt.figure(figsize=(8,6))\n",
    "sn.histplot(time_residual.cpu(), bins = 100)\n",
    "plt.xlabel('var')\n",
    "plt.ylabel('events')\n",
    "plt.yscale('log')"
   ]
  },
  {
   "cell_type": "markdown",
   "id": "d7f56f36-2220-4ef9-87a1-eb90138c8703",
   "metadata": {},
   "source": [
    "# 3 - Extract Valid Data"
   ]
  },
  {
   "cell_type": "markdown",
   "id": "c1fa9921-bcc4-41a1-ae8d-cfd8ebd3d5e5",
   "metadata": {},
   "source": [
    "## 3.1 - Extract  valid PMT id"
   ]
  },
  {
   "cell_type": "code",
   "execution_count": 11,
   "id": "03a0c882-1c43-4241-90de-9b4501834d31",
   "metadata": {},
   "outputs": [
    {
     "data": {
      "text/plain": [
       "array([        0,         1,         2, ..., 131016005, 131016006,\n",
       "       131016007], dtype=int64)"
      ]
     },
     "execution_count": 11,
     "metadata": {},
     "output_type": "execute_result"
    }
   ],
   "source": [
    "## Numpy proofs to validate pytorch tools\n",
    "\n",
    "valid_pmt_id = np.array(np.where(pmt_type == 1)[0])   # PMT valid ID match with index of where pmt_type=1\n",
    "\n",
    "valid_id_info_ev_i = np.array(np.where(np.in1d(hit_pmtid, valid_pmt_id))[0])\n",
    "valid_id_info_ev_i"
   ]
  },
  {
   "cell_type": "markdown",
   "id": "bd436ce1-3c54-4447-8c5d-3a7b97567ed0",
   "metadata": {},
   "source": [
    "# 4 - Optimizar uso de Memoria\n",
    "\n",
    "- Intentemos hacer un loop sobre subconjuntos de valid_id_info_ev e ir guardando esta información en arrays fuera del Loop;\n",
    "- Librar memoria de variables cada que se reinicie el Loop entre los subconjuntos de valid_id_info_ev_i"
   ]
  },
  {
   "cell_type": "markdown",
   "id": "57a6cc31-246b-4b46-99c5-9028f3c6db28",
   "metadata": {},
   "source": [
    "## 4.1 - Extraer Datos Validos"
   ]
  },
  {
   "cell_type": "code",
   "execution_count": 15,
   "id": "234f529b-9bf9-4a2c-9517-345a4f131b6d",
   "metadata": {},
   "outputs": [
    {
     "name": "stdout",
     "output_type": "stream",
     "text": [
      "slipt nº: 0\n",
      "In radi_cut, split nº:  0\n",
      "computing cos(alpha)\n",
      "doing time residual cuts\n",
      "slipt nº: 1\n",
      "In radi_cut, split nº:  1\n",
      "computing cos(alpha)\n",
      "doing time residual cuts\n",
      "slipt nº: 2\n",
      "In radi_cut, split nº:  2\n",
      "computing cos(alpha)\n",
      "doing time residual cuts\n",
      "slipt nº: 3\n",
      "In radi_cut, split nº:  3\n",
      "computing cos(alpha)\n",
      "doing time residual cuts\n",
      "slipt nº: 4\n",
      "In radi_cut, split nº:  4\n",
      "computing cos(alpha)\n",
      "doing time residual cuts\n"
     ]
    }
   ],
   "source": [
    "#params to adjust the cuts--------------------------------------------\n",
    "#Split Data\n",
    "split = 5\n",
    "#time cut\n",
    "inf_cut = -5\n",
    "up_cut = 7\n",
    "\n",
    "#radia cut\n",
    "radi_cut_method = True   #If true, apply radial cuts given by rad_cut_val to data\n",
    "rad_cut_val = 5500\n",
    "#--------------------------------------------------------------------------\n",
    "\n",
    "\n",
    "# Dividir valid_id_info_ev_i en partes\n",
    "valid_info_ev_split = np.array_split(valid_id_info_ev_i, split)  #---> split(array, parts)\n",
    "\n",
    "#variables to save: with time residual cuts and radi cut (radi cut depends on the simulation)\n",
    "multi_time_residual_cut = []\n",
    "multi_cos_angle_cut = []\n",
    "#Variables necesarias para nueva normalización\n",
    "multi_position_cut = []\n",
    "multi_momentum_cut = []\n",
    "\n",
    "#loop over valid_info_ev_split\n",
    "for n_loop, split_array in enumerate(valid_info_ev_split):\n",
    "    print('slipt nº:', n_loop)\n",
    "    # extract all valid simulated info \n",
    "    #multi_time_residual = np.array([])\n",
    "    multi_time_residual = []\n",
    "    #multi_pmt_id_hit = np.array([])\n",
    "    multi_pmt_id_hit = []\n",
    "    multi_position = []\n",
    "    multi_mc_position = []\n",
    "    multi_mc_momentum = []   \n",
    "    multi_xyz_hit = []\n",
    "\n",
    "    for valid_i in split_array:\n",
    "        #multi_time_residual = np.append(multi_time_residual, time_residual[valid_i])\n",
    "        #multi_pmt_id_hit = np.append(multi_pmt_id_hit, hit_pmtid[valid_i])\n",
    "        multi_time_residual.append(time_residual[valid_i])\n",
    "        multi_pmt_id_hit.append(hit_pmtid[valid_i])\n",
    "        multi_position.append(position[valid_i])\n",
    "        multi_mc_position.append(mc_position[valid_i])\n",
    "        multi_mc_momentum.append(mc_momentum[valid_i])\n",
    "    multi_time_residual = np.array(multi_time_residual)\n",
    "    multi_pmt_id_hit = np.array(multi_pmt_id_hit)\n",
    "\n",
    "    for id_i in multi_pmt_id_hit:\n",
    "        multi_xyz_hit.append(pmt_pos_xyz[id_i])\n",
    "    multi_xyz_hit = np.array(multi_xyz_hit)\n",
    "\n",
    "    #Radial Cut:\n",
    "    if radi_cut_method == True:\n",
    "        print('In radi_cut, split nº: ', n_loop)\n",
    "        #mc_position_norm = magnitude(multi_mc_position)\n",
    "        position_norm = magnitude(multi_position)\n",
    "        max_radi = rad_cut_val\n",
    "        radi_condition = (position_norm < max_radi)\n",
    "        index_cut_radi = np.array(np.where(radi_condition)[0])\n",
    "\n",
    "        #variables to extract\n",
    "        multi_time_residual = np.extract(radi_condition, multi_time_residual)\n",
    "        multi_pmt_id_hit = np.extract(radi_condition, multi_pmt_id_hit)\n",
    "\n",
    "        multi_mc_momentum_radi_cut = []\n",
    "        multi_position_radi_cut = []\n",
    "        multi_xyz_hit_radi_cut = [] \n",
    "\n",
    "        for j_dx in index_cut_radi:\n",
    "            multi_mc_momentum_radi_cut.append(multi_mc_momentum[j_dx])\n",
    "            multi_position_radi_cut.append(multi_position[j_dx])          #HERE\n",
    "\n",
    "        for id_i in multi_pmt_id_hit:\n",
    "            multi_xyz_hit_radi_cut.append(pmt_pos_xyz[id_i])\n",
    "\n",
    "        multi_mc_momentum = multi_mc_momentum_radi_cut   #HERE\n",
    "        multi_position = multi_position_radi_cut\n",
    "        multi_xyz_hit = multi_xyz_hit_radi_cut\n",
    "        \n",
    "        #freed memory\n",
    "        multi_mc_momentum_radi_cut = None\n",
    "        multi_position_radi_cut = None\n",
    "        multi_xyz_hit_radi_cut = None\n",
    "        radi_condition = None\n",
    "        index_cut_radi = None\n",
    "        \n",
    "    #cos(alpha) calculation -> Uses the definition of scalar product\n",
    "    multi_cos_angle = []\n",
    "    N = np.shape(multi_xyz_hit)[0]\n",
    "\n",
    "    print('computing cos(alpha)')\n",
    "    for k in range(N):\n",
    "        \n",
    "        scalar_product = np.dot(multi_xyz_hit[k], multi_mc_momentum[k])\n",
    "        norm_1 = np.linalg.norm(multi_mc_momentum[k])\n",
    "        norm_2 = np.linalg.norm(multi_xyz_hit[k])\n",
    "        cos_val = scalar_product/(norm_1*norm_2)\n",
    "        \n",
    "        multi_cos_angle.append(cos_val)\n",
    "\n",
    "    #Time residual cut:\n",
    "    print('doing time residual cuts')\n",
    "    for i in np.where((multi_time_residual > inf_cut) & (multi_time_residual < up_cut))[0]:\n",
    "        multi_time_residual_cut.append(multi_time_residual[i])\n",
    "        multi_cos_angle_cut.append(multi_cos_angle[i])\n",
    "        multi_momentum_cut.append(multi_mc_momentum[i])\n",
    "        multi_position_cut.append(multi_position[i])\n",
    "\n",
    "    #freed memory\n",
    "    multi_cos_angle = None"
   ]
  },
  {
   "cell_type": "code",
   "execution_count": 20,
   "id": "ec77e02c-09f5-41b5-b053-58a266c49107",
   "metadata": {
    "collapsed": true,
    "jupyter": {
     "outputs_hidden": true,
     "source_hidden": true
    }
   },
   "outputs": [
    {
     "data": {
      "text/plain": [
       "Text(0.5, 1.0, 'Simulated 5 MeV e$^-$ - R < 5500(mm)')"
      ]
     },
     "execution_count": 20,
     "metadata": {},
     "output_type": "execute_result"
    },
    {
     "data": {
      "image/png": "[encoded data removed]",
      "text/plain": [
       "<Figure size 640x480 with 1 Axes>"
      ]
     },
     "metadata": {},
     "output_type": "display_data"
    }
   ],
   "source": [
    "sn.histplot(multi_cos_angle_cut, bins = 50)\n",
    "plt.xlabel(r'cos($\\alpha$)')\n",
    "plt.yscale('log')\n",
    "plt.title(r'Simulated 5 MeV e$^-$ - R < ' + str(rad_cut_val) + '(mm)')"
   ]
  },
  {
   "cell_type": "code",
   "execution_count": 17,
   "id": "58365184-e7af-4cf2-8786-bbd5ef3c8e27",
   "metadata": {
    "collapsed": true,
    "jupyter": {
     "outputs_hidden": true,
     "source_hidden": true
    }
   },
   "outputs": [
    {
     "data": {
      "image/png": "[encoded data removed]",
      "text/plain": [
       "<Figure size 640x480 with 1 Axes>"
      ]
     },
     "metadata": {},
     "output_type": "display_data"
    }
   ],
   "source": [
    "sn.histplot(multi_time_residual_cut, bins = 50)\n",
    "plt.xlabel(r'Time Residual (ns)')\n",
    "plt.yscale('log')"
   ]
  },
  {
   "cell_type": "markdown",
   "id": "81c7c5ee-9f33-4de2-ae90-0f68ceb58db3",
   "metadata": {},
   "source": [
    "# 5 - Plots"
   ]
  },
  {
   "cell_type": "markdown",
   "id": "b766fe96-f8a2-4061-bb40-93a562d201b7",
   "metadata": {},
   "source": [
    "## 5.1 - Time residual vs. $cos(α)$"
   ]
  },
  {
   "cell_type": "code",
   "execution_count": 12,
   "id": "199f56f3-d150-4fa9-a2b5-4446b379c263",
   "metadata": {
    "scrolled": true
   },
   "outputs": [
    {
     "name": "stdout",
     "output_type": "stream",
     "text": [
      "Using matplotlib backend: TkAgg\n"
     ]
    }
   ],
   "source": [
    "%matplotlib\n",
    "# 2d Histogram\n",
    "bins = 40\n",
    "\n",
    "if radi_cut_method == True:\n",
    "    title = 'cos(α) vs. Time Residual Multiple evID - 10MeV - random (dir, vtx) \\n volume cut using recons. position'\n",
    "\n",
    "else:\n",
    "    title = 'cos(α) vs. time residual - Multiple evID - 10MeV - random (dir,vtx)'\n",
    "\n",
    "plt.figure(figsize=(10,8))\n",
    "sn.set_style(rc = {'axes.facecolor': 'black'})\n",
    "sn.histplot(x = multi_cos_angle_cut, y = multi_time_residual_cut, bins = [bins, bins], stat='count', cbar = 'True', cmap = cm.nipy_spectral)\n",
    "plt.ylabel('time residual')\n",
    "plt.xlabel('cos(α)')\n",
    "plt.title(title, fontsize= 10)\n",
    "\n",
    "#equal acis ration\n",
    "#ax = plt.gca()\n",
    "#ax.set_aspect('equal', adjustable='box')\n",
    "plt.show()\n",
    "#plt.savefig('figs/Low Stat/cos(α) vs. Time Residual Multiple evID - 10MeV - random (dir, vtx) - volume cut using recons. position.png', format = 'png')"
   ]
  },
  {
   "cell_type": "markdown",
   "id": "8ecdc7f4-fda5-4d93-93f2-d2943ddd3e0e",
   "metadata": {},
   "source": [
    "## 5.2 - Normalization"
   ]
  },
  {
   "cell_type": "code",
   "execution_count": 52,
   "id": "c7863b8f-4116-44bb-8cff-e9723a5e692a",
   "metadata": {},
   "outputs": [
    {
     "data": {
      "text/plain": [
       "<matplotlib.colorbar.Colorbar at 0x19536fffec0>"
      ]
     },
     "execution_count": 52,
     "metadata": {},
     "output_type": "execute_result"
    }
   ],
   "source": [
    "#Transforma Data into an Image Matrix\n",
    "\n",
    "H, xedges, yedges = np.histogram2d(x = multi_cos_angle_cut, y = multi_time_residual_cut, bins = [bins, bins])\n",
    "\n",
    "#Now recover the data axis representation of time residual vs cos(alpha)\n",
    "left = np.min(multi_time_residual_cut)\n",
    "right = np.max(multi_time_residual_cut)\n",
    "bottom = np.min(multi_cos_angle_cut)\n",
    "top = np.max(multi_cos_angle_cut)\n",
    "\n",
    "#Titles\n",
    "title = 'cos(α) - Multiple evID - 10MeV - random (dir, vtx) \\n volume cut using recons. position '\n",
    "ylabel = 'cos(α)'\n",
    "xlabel = 'time residual'\n",
    "\n",
    "plt.figure(figsize=(10,8))\n",
    "plt.imshow(H, extent = [left, right, top, bottom], aspect=\"auto\" ) #---> Here is our image as a Matrix Pixel\n",
    "plt.title(title, fontsize= 10)\n",
    "plt.ylabel(ylabel)\n",
    "plt.xlabel(xlabel)\n",
    "plt.colorbar()\n",
    "#plt.savefig('figs/Low Stat/' + title +'(imshow).png', format = 'png')"
   ]
  },
  {
   "cell_type": "markdown",
   "id": "9fa966e5-c01f-406a-92b2-692fc7826069",
   "metadata": {},
   "source": [
    "#### 4.1.2.1 - Normalization by Nhits"
   ]
  },
  {
   "cell_type": "code",
   "execution_count": 53,
   "id": "8501d05b-2c05-4777-b4a6-ca31da80badb",
   "metadata": {},
   "outputs": [],
   "source": [
    "# sum of hits in each bin = sum over each column element of the matrix.\n",
    "sum_hit = np.sum(H,axis=0)  \n",
    "\n",
    "H_normalized1 = H / sum_hit\n",
    "\n",
    "N1title = 'Normalization by NHits - Multiple evID - 10MeV - random (dir, vtx) \\n volume cut using recons. position'\n",
    "\n",
    "plt.figure(figsize=(10,8))\n",
    "plt.imshow(H_normalized1, extent = [left, right, top, bottom], aspect=\"auto\" )\n",
    "plt.title(N1title)\n",
    "plt.ylabel(ylabel)\n",
    "plt.xlabel(xlabel)\n",
    "plt.colorbar()\n",
    "#plt.savefig('figs/Low Stat/Normalization by NHits - Multiple evID - 10MeV - random (dir, vtx)-volume cut using recons. position.png', format = 'png')"
   ]
  },
  {
   "cell_type": "code",
   "execution_count": null,
   "id": "2617e56c-e018-4507-a4eb-1acbe146cf25",
   "metadata": {},
   "outputs": [],
   "source": []
  }
 ],
 "metadata": {
  "kernelspec": {
   "display_name": "Python 3 (ipykernel)",
   "language": "python",
   "name": "python3"
  },
  "language_info": {
   "codemirror_mode": {
    "name": "ipython",
    "version": 3
   },
   "file_extension": ".py",
   "mimetype": "text/x-python",
   "name": "python",
   "nbconvert_exporter": "python",
   "pygments_lexer": "ipython3",
   "version": "3.12.2"
  }
 },
 "nbformat": 4,
 "nbformat_minor": 5
}
