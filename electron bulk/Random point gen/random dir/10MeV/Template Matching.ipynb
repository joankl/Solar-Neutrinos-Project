{
 "cells": [
  {
   "cell_type": "markdown",
   "id": "1f29f5c4-06c2-4449-bfb9-60fc7b4af23a",
   "metadata": {},
   "source": [
    "# Notebook dedicado à deteção de padrões no observavel cos(α) vs.  time residual\n",
    "\n",
    "following: https://docs.opencv.org/4.x/d4/dc6/tutorial_py_template_matching.html"
   ]
  },
  {
   "cell_type": "code",
   "execution_count": 1,
   "id": "5b032995-e27b-4008-9865-78711a40101d",
   "metadata": {},
   "outputs": [],
   "source": [
    "import cv2 as cv\n",
    "import numpy as np\n",
    "from matplotlib import pyplot as plt\n",
    "\n",
    "import uproot\n",
    "import numpy as np\n",
    "\n",
    "import matplotlib\n",
    "import matplotlib.pyplot as plt\n",
    "from matplotlib import cm\n",
    "\n",
    "import seaborn as sn"
   ]
  },
  {
   "cell_type": "code",
   "execution_count": 2,
   "id": "02e85b04-1a9f-41a4-8ccf-e61835caf132",
   "metadata": {},
   "outputs": [],
   "source": [
    "def magnitude(vector): \n",
    "    #Funcion para calcular radio de eventos al centro del detector\n",
    "    \n",
    "    norm = []\n",
    "    for vec in vector:\n",
    "    \tnorm.append(np.linalg.norm(vec))\n",
    "\n",
    "    return np.array(norm, dtype = np.float32)"
   ]
  },
  {
   "cell_type": "markdown",
   "id": "36b175ef-0acf-4ed3-a6c5-13b7a57bdf18",
   "metadata": {},
   "source": [
    "# 1 - Extraer datos"
   ]
  },
  {
   "cell_type": "code",
   "execution_count": 3,
   "id": "1073ac07-cc3f-4e72-93bd-f473d5376762",
   "metadata": {
    "scrolled": true
   },
   "outputs": [
    {
     "data": {
      "text/plain": [
       "['T;6', 'T;5', 'pmt;2', 'pmt;1']"
      ]
     },
     "execution_count": 3,
     "metadata": {},
     "output_type": "execute_result"
    }
   ],
   "source": [
    "file = uproot.open(\"/snoplus simulations/electron bulk/random point/random dir/Low Statistic/simu_Analysis_elec_10MeV.root\")\n",
    "file.keys()"
   ]
  },
  {
   "cell_type": "code",
   "execution_count": 4,
   "id": "5e6b19ba-6da0-4eb3-9316-d961b76e12fe",
   "metadata": {
    "scrolled": true
   },
   "outputs": [
    {
     "data": {
      "text/plain": [
       "['evtid',\n",
       " 'mcID',\n",
       " 'energy',\n",
       " 'mc_position',\n",
       " 'mc_momentum',\n",
       " 'position',\n",
       " 'momentum',\n",
       " 'hit_pmtid',\n",
       " 'hit_pmttime',\n",
       " 'hit_residual',\n",
       " 'hit_type']"
      ]
     },
     "execution_count": 4,
     "metadata": {},
     "output_type": "execute_result"
    }
   ],
   "source": [
    "data1 = file['T;6']\n",
    "data1.keys()"
   ]
  },
  {
   "cell_type": "code",
   "execution_count": 5,
   "id": "c9f5f806-93d4-40bb-a658-4d916efc7ef3",
   "metadata": {},
   "outputs": [
    {
     "data": {
      "text/plain": [
       "['pmt_id', 'pmt_pos_xyz', 'pmt_pos_sph', 'pmt_type']"
      ]
     },
     "execution_count": 5,
     "metadata": {},
     "output_type": "execute_result"
    }
   ],
   "source": [
    "pmt_info = file['pmt;1']\n",
    "pmt_info.keys()"
   ]
  },
  {
   "cell_type": "markdown",
   "id": "b347915e-8553-4ebd-8889-064a329f3719",
   "metadata": {},
   "source": [
    "## 1.1 - EV info"
   ]
  },
  {
   "cell_type": "code",
   "execution_count": 6,
   "id": "15539535-6be5-4bcd-aeb8-a0c1e5ab2bff",
   "metadata": {},
   "outputs": [],
   "source": [
    "#evtid = np.array(data1['evtid'], dtype = np.int16)\n",
    "mcID = np.array(data1['mcID'], dtype = np.int16)\n",
    "mc_position = np.array(data1['mc_position'])   #-> Position Generation\n",
    "mc_momentum = np.array(data1['mc_momentum'])   #-> IMPORTANT: Direction of simulated event\n",
    "position = np.array(data1['position'])        \n",
    "hit_pmtid = np.array(data1['hit_pmtid'], dtype = np.int16)\n",
    "time_residual = np.array(data1['hit_residual'])\n",
    "hit_type = np.array(data1['hit_type'], dtype = np.int16)"
   ]
  },
  {
   "cell_type": "markdown",
   "id": "6bd1415f-42ce-4ec8-8690-8f2cc8e4287b",
   "metadata": {},
   "source": [
    "## 1.2 - PMT info"
   ]
  },
  {
   "cell_type": "code",
   "execution_count": 7,
   "id": "094b9c6a-2927-4220-a8b9-60288ba17d67",
   "metadata": {},
   "outputs": [],
   "source": [
    "pmt_id = np.array(pmt_info['pmt_id'], dtype = np.int16)\n",
    "pmt_pos_xyz = np.array(pmt_info['pmt_pos_xyz'])\n",
    "pmt_pos_sph = np.array(pmt_info['pmt_pos_sph'])\n",
    "pmt_type = np.array(pmt_info['pmt_type'], dtype = np.int16)"
   ]
  },
  {
   "cell_type": "markdown",
   "id": "dc7fe058-b795-4301-a3c1-0177ea7bc450",
   "metadata": {},
   "source": [
    "# 2 - Select Data"
   ]
  },
  {
   "cell_type": "markdown",
   "id": "c4687676-ed8e-4f61-a1d0-302fc3b25906",
   "metadata": {},
   "source": [
    "## 2.1 - Extract  valid PMT id"
   ]
  },
  {
   "cell_type": "code",
   "execution_count": 8,
   "id": "23aa570f-8f03-45fa-8846-9ab13c95be08",
   "metadata": {},
   "outputs": [
    {
     "data": {
      "text/plain": [
       "array([       0,        1,        2, ..., 11158432, 11158433, 11158434],\n",
       "      dtype=int64)"
      ]
     },
     "execution_count": 8,
     "metadata": {},
     "output_type": "execute_result"
    }
   ],
   "source": [
    "valid_pmt_id = np.array(np.where(pmt_type == 1)[0])   # PMT valid ID match with index of where pmt_type=1\n",
    "\n",
    "valid_id_info_ev_i = np.array(np.where(np.in1d(hit_pmtid, valid_pmt_id))[0])\n",
    "valid_id_info_ev_i"
   ]
  },
  {
   "cell_type": "markdown",
   "id": "5ce5c068-64e9-453a-b928-3b799693c7c4",
   "metadata": {},
   "source": [
    "### 2.1.1 - Extraer información valida de PMT info"
   ]
  },
  {
   "cell_type": "code",
   "execution_count": 9,
   "id": "41fe9bf8-b089-4a8d-8b20-30396e1eddc7",
   "metadata": {},
   "outputs": [],
   "source": [
    "valid_pmt_xyz = []\n",
    "\n",
    "for i_dx in valid_pmt_id:\n",
    "    valid_pmt_xyz.append(pmt_pos_xyz[i_dx])\n",
    "valid_pmt_xyz = np.array(valid_pmt_xyz)"
   ]
  },
  {
   "cell_type": "markdown",
   "id": "12dce735-5ace-40b2-b4cf-47f6be84e629",
   "metadata": {},
   "source": [
    "## 2.2 - Extracción y cortes en Datos de Eventos Validos"
   ]
  },
  {
   "cell_type": "code",
   "execution_count": 53,
   "id": "2590e2ac-7df8-4d7d-a25e-2ee1de6a739a",
   "metadata": {},
   "outputs": [
    {
     "name": "stdout",
     "output_type": "stream",
     "text": [
      "slipt nº: 0\n",
      "In radi_cut, split nº:  0\n",
      "computing cos(alpha)\n",
      "doing time residual cuts\n",
      "slipt nº: 1\n",
      "In radi_cut, split nº:  1\n",
      "computing cos(alpha)\n",
      "doing time residual cuts\n",
      "slipt nº: 2\n",
      "In radi_cut, split nº:  2\n",
      "computing cos(alpha)\n",
      "doing time residual cuts\n",
      "slipt nº: 3\n",
      "In radi_cut, split nº:  3\n",
      "computing cos(alpha)\n",
      "doing time residual cuts\n",
      "slipt nº: 4\n",
      "In radi_cut, split nº:  4\n",
      "computing cos(alpha)\n",
      "doing time residual cuts\n"
     ]
    }
   ],
   "source": [
    "#params to adjust the cuts--------------------------------------------\n",
    "#Split Data\n",
    "split = 5\n",
    "#time cut\n",
    "inf_cut = -5\n",
    "up_cut = 15\n",
    "\n",
    "#radial cut\n",
    "radi_cut_method = True   #If true, apply radial cuts given by rad_cut_val to data\n",
    "rad_cut_val = 3500.0\n",
    "#--------------------------------------------------------------------------\n",
    "\n",
    "\n",
    "# Dividir valid_id_info_ev_i en partes\n",
    "valid_info_ev_split = np.array_split(valid_id_info_ev_i, split)  #---> split(array, parts)\n",
    "\n",
    "#variables to save: with time residual cuts and radi cut (radi cut is optional, depends on the simulation)\n",
    "multi_time_residual_cut = []\n",
    "multi_cos_angle_cut = []\n",
    "#multi_position_cut = []\n",
    "#multi_mc_momentum_cut = []\n",
    "multi_mc_ID_cut = []\n",
    "\n",
    "#loop over valid_info_ev_split\n",
    "for n_loop, split_array in enumerate(valid_info_ev_split):\n",
    "    print('slipt nº:', n_loop)\n",
    "    # extract all valid simulated info \n",
    "    multi_mc_ID = []\n",
    "    multi_time_residual = []\n",
    "    multi_pmt_id_hit = []\n",
    "    multi_position = []\n",
    "    multi_mc_position = []\n",
    "    multi_mc_momentum = []   \n",
    "    multi_xyz_hit = []\n",
    "\n",
    "    for valid_i in split_array:\n",
    "        multi_mc_ID.append(mcID[valid_i])\n",
    "        multi_time_residual.append(time_residual[valid_i])\n",
    "        multi_pmt_id_hit.append(hit_pmtid[valid_i])\n",
    "        multi_position.append(position[valid_i])\n",
    "        #multi_mc_position.append(mc_position[valid_i])\n",
    "        multi_mc_momentum.append(mc_momentum[valid_i])\n",
    "    multi_time_residual = np.array(multi_time_residual)\n",
    "    multi_pmt_id_hit = np.array(multi_pmt_id_hit)\n",
    "    multi_position = np.array(multi_position)\n",
    "\n",
    "    for id_i in multi_pmt_id_hit:\n",
    "        multi_xyz_hit.append(pmt_pos_xyz[id_i])\n",
    "    multi_xyz_hit = np.array(multi_xyz_hit)\n",
    "\n",
    "    #Radial Cut:\n",
    "    if radi_cut_method == True:\n",
    "        print('In radi_cut, split nº: ', n_loop)\n",
    "        #mc_position_norm = magnitude(multi_mc_position)\n",
    "        position_norm = magnitude(multi_position)\n",
    "        max_radi = rad_cut_val\n",
    "        radi_condition = (position_norm < max_radi)\n",
    "        index_cut_radi = np.array(np.where(radi_condition)[0])\n",
    "\n",
    "        #variables to extract\n",
    "        multi_time_residual = np.extract(radi_condition, multi_time_residual)\n",
    "        multi_pmt_id_hit = np.extract(radi_condition, multi_pmt_id_hit)\n",
    "\n",
    "        multi_mc_ID_radi_cut = []\n",
    "        multi_mc_momentum_radi_cut = []\n",
    "        multi_position_radi_cut = []\n",
    "        multi_xyz_hit_radi_cut = [] \n",
    "\n",
    "        for j_dx in index_cut_radi:\n",
    "            multi_mc_momentum_radi_cut.append(multi_mc_momentum[j_dx])\n",
    "            multi_position_radi_cut.append(multi_position[j_dx])          #HERE\n",
    "            multi_mc_ID_radi_cut.append(multi_mc_ID[j_dx])\n",
    "\n",
    "        for id_i in multi_pmt_id_hit:\n",
    "            multi_xyz_hit_radi_cut.append(pmt_pos_xyz[id_i])\n",
    "\n",
    "        multi_mc_ID = multi_mc_ID_radi_cut\n",
    "        multi_mc_momentum = multi_mc_momentum_radi_cut   #HERE\n",
    "        multi_position = multi_position_radi_cut\n",
    "        multi_xyz_hit = multi_xyz_hit_radi_cut\n",
    "        \n",
    "        #freed memory\n",
    "        multi_mc_ID_radi_cut = None\n",
    "        multi_mc_momentum_radi_cut = None\n",
    "        multi_position_radi_cut = None\n",
    "        multi_xyz_hit_radi_cut = None\n",
    "        radi_condition = None\n",
    "        index_cut_radi = None\n",
    "        \n",
    "    #cos(alpha) calculation -> Uses the definition of scalar product\n",
    "    multi_cos_angle = []\n",
    "    N = np.shape(multi_xyz_hit)[0]\n",
    "\n",
    "    print('computing cos(alpha)')\n",
    "    for k in range(N):\n",
    "        #event_direction = np.array([0,0,-1])\n",
    "        event_direction = multi_mc_momentum[k]\n",
    "        scalar_product = np.dot(multi_xyz_hit[k], event_direction)\n",
    "        norm_1 = np.linalg.norm(event_direction)\n",
    "        norm_2 = np.linalg.norm(multi_xyz_hit[k])\n",
    "        cos_val = scalar_product/(norm_1*norm_2)\n",
    "        \n",
    "        multi_cos_angle.append(cos_val)\n",
    "\n",
    "    #Time residual cut:\n",
    "    print('doing time residual cuts')\n",
    "    for i in np.where((multi_time_residual > inf_cut) & (multi_time_residual < up_cut))[0]:\n",
    "        multi_time_residual_cut.append(multi_time_residual[i])\n",
    "        multi_cos_angle_cut.append(multi_cos_angle[i])\n",
    "        #multi_position_cut.append(multi_position[i])\n",
    "        #multi_mc_momentum_cut.append(multi_mc_momentum[i])\n",
    "        multi_mc_ID_cut.append(multi_mc_ID[i])\n",
    "\n",
    "    #freed memory\n",
    "    multi_cos_angle = None\n",
    "\n",
    "    #freen memory:    \n",
    "    multi_mc_ID = None\n",
    "    multi_time_residual = None\n",
    "    multi_pmt_id_hit = None\n",
    "    multi_position = None\n",
    "    multi_mc_position = None\n",
    "    multi_mc_momentum = None\n",
    "    multi_xyz_hit = None\n",
    "    \n",
    "#multi_position_cut = np.array(multi_position_cut)\n",
    "#multi_mc_momentum_cut = np.array(multi_mc_momentum_cut)\n",
    "multi_mc_ID_cut = np.array(multi_mc_ID_cut, dtype = np.int16)"
   ]
  },
  {
   "cell_type": "markdown",
   "id": "63ccdfbd-1171-4647-868e-87dd0f058c65",
   "metadata": {},
   "source": [
    "# 3 - Histograma 2D: time residual vs. cos(α)"
   ]
  },
  {
   "cell_type": "code",
   "execution_count": 54,
   "id": "13246b91-ae08-4d04-8a2d-8745b7e0c693",
   "metadata": {},
   "outputs": [
    {
     "data": {
      "image/png": "[encoded data removed]",
      "text/plain": [
       "<Figure size 700x700 with 2 Axes>"
      ]
     },
     "metadata": {},
     "output_type": "display_data"
    }
   ],
   "source": [
    "#%matplotlib\n",
    "# 2d Histogram\n",
    "bins = 35\n",
    "#Titles\n",
    "\n",
    "if radi_cut_method == True:\n",
    "    title = 'cos(α) vs. time Residual Multiple evID - 10MeV - randor (dir, vtx) \\n volume cut r(mm) < '+str(rad_cut_val)\n",
    "\n",
    "else:\n",
    "    title = 'cos(α) vs. time residual - Multiple evID - 10MeV - randor (dir, vtx)'\n",
    "    \n",
    "ylabel = 'time residual'\n",
    "xlabel = 'cos(α)'\n",
    "\n",
    "#bins defined above when computing the Nº of PMTs in each Δα!\n",
    "\n",
    "plt.figure(figsize=(7,7))\n",
    "sn.set_style(rc = {'axes.facecolor': 'black'})\n",
    "sn.histplot(x = multi_cos_angle_cut, y = multi_time_residual_cut, bins = [bins, bins], stat='count', cbar = 'True', cmap = cm.nipy_spectral, hue_norm = (0,1))\n",
    "plt.ylabel(ylabel)\n",
    "plt.xlabel(xlabel)\n",
    "plt.title(title, fontsize= 10)\n",
    "\n",
    "#equal acis ration\n",
    "#ax = plt.gca()\n",
    "#ax.set_aspect('equal', adjustable='box')\n",
    "#plt.savefig('figs/Low Stat/cos(α) vs. time residual - Multiple evID - 10MeV_' + str(rad_cut_val) + '_' + str(bins) + '.png', format = 'png')\n",
    "plt.show()"
   ]
  },
  {
   "cell_type": "markdown",
   "id": "7599e867-7223-4afe-a491-9ecdcb56bddd",
   "metadata": {},
   "source": [
    "## 3.1 - Extraer Información de Imagen"
   ]
  },
  {
   "cell_type": "markdown",
   "id": "325243aa-be7d-4107-8f44-db408395e4a0",
   "metadata": {},
   "source": [
    "### 3.1.1 - Imagen completa"
   ]
  },
  {
   "cell_type": "code",
   "execution_count": 55,
   "id": "aad6f65d-5ea4-41cd-a87c-dd7545020ee5",
   "metadata": {},
   "outputs": [
    {
     "data": {
      "text/plain": [
       "<matplotlib.image.AxesImage at 0x2069d1c6c60>"
      ]
     },
     "execution_count": 55,
     "metadata": {},
     "output_type": "execute_result"
    },
    {
     "data": {
      "image/png": "[encoded data removed]",
      "text/plain": [
       "<Figure size 640x480 with 1 Axes>"
      ]
     },
     "metadata": {},
     "output_type": "display_data"
    }
   ],
   "source": [
    "H, xedges, yedges = np.histogram2d(x = multi_cos_angle_cut, y = multi_time_residual_cut, bins = [bins, bins])\n",
    "plt.imshow(H)"
   ]
  },
  {
   "cell_type": "markdown",
   "id": "754eec6c-9aaa-4544-9067-555440412d83",
   "metadata": {},
   "source": [
    "### 3.1.2 - Extraer Template\n",
    "\n",
    "- 1 Usar Imagen normalizada"
   ]
  },
  {
   "cell_type": "code",
   "execution_count": 56,
   "id": "844701c6-7e92-4ea3-84cf-30f71737900a",
   "metadata": {},
   "outputs": [
    {
     "data": {
      "image/png": "[encoded data removed]",
      "text/plain": [
       "<Figure size 600x600 with 1 Axes>"
      ]
     },
     "metadata": {},
     "output_type": "display_data"
    }
   ],
   "source": [
    "# sum of hits in each bin = sum over each column element of the matrix.\n",
    "sum_hit = np.sum(H,axis=0)  \n",
    "\n",
    "H_Hit_norm = H / sum_hit\n",
    "\n",
    "if radi_cut_method == True:\n",
    "    N2title = 'Normalization by NHits - Multiple evID - 10MeV - z_dir \\n volume cut r(mm) < '+str(rad_cut_val)\n",
    "\n",
    "else:\n",
    "    N2title = 'Normalization by NHits - Multiple evID - 10MeV - z_dir'\n",
    "\n",
    "N_ylabel = 'cos(α)'\n",
    "N_xlabel = 'time residual'\n",
    "\n",
    "plt.figure(figsize=(6,6))\n",
    "plt.imshow(H_Hit_norm)\n",
    "#plt.colorbar()\n",
    "plt.show()"
   ]
  },
  {
   "cell_type": "code",
   "execution_count": 65,
   "id": "a26d5dd5-027b-4bda-888c-75b7a6f53c5b",
   "metadata": {},
   "outputs": [
    {
     "data": {
      "image/png": "[encoded data removed]",
      "text/plain": [
       "<Figure size 640x480 with 1 Axes>"
      ]
     },
     "metadata": {},
     "output_type": "display_data"
    }
   ],
   "source": [
    "#choose region of template\n",
    "H_template = H_Hit_norm[23:34, 3:10]   \n",
    "plt.imshow(H_template)\n",
    "#plt.savefig('figs/Low Stat/template matching/template(3)_'+str(rad_cut_val)+'_'+str(bins)+'.png' , format = 'png')\n",
    "\n",
    "#Registros interesante en cortes del template:\n",
    "#[24:34, 4:10](1) -> Se observa perfectamente el pico en ROI\n",
    "#[23:34, 3:10](3) -> Mejor pico\n",
    "#[25:34, 4:11](2) -> Este intervalo demuestra que tan sensible es el matching cuando nos extendemos en time_residual\n",
    "#cuanto mas corto en time residual y mas amplio en cos(alpha) es mas probable observar el pico en ROI (solo dentro de ciertos valores!)"
   ]
  },
  {
   "cell_type": "raw",
   "id": "e2cd98d1-9948-4e28-956a-660e96b589f1",
   "metadata": {},
   "source": [
    "#Guardar Imagenes\n",
    "plt.imsave('figs/Low Stat/data.png', H)\n",
    "plt.imsave('figs/Low Stat/template.png', H_template)"
   ]
  },
  {
   "cell_type": "raw",
   "id": "c9dbe793-ca49-4c9a-8111-29eb3bc241c8",
   "metadata": {},
   "source": [
    "# Abrir imagenes\n",
    "img = cv.imread('figs/Low Stat/data.png')\n",
    "template_image = cv.imread('figs/Low Stat/template.png')"
   ]
  },
  {
   "cell_type": "markdown",
   "id": "0d139cec-1762-44bf-992f-755c716c092c",
   "metadata": {},
   "source": [
    "### 3.2.2 - Tratar Template Matching Method"
   ]
  },
  {
   "cell_type": "code",
   "execution_count": 66,
   "id": "92c0250b-91f1-4bc4-b263-5c0ce493c57a",
   "metadata": {},
   "outputs": [],
   "source": [
    "#normalize data before match.Template method\n",
    "H_norm = cv.normalize(H, None, alpha = 0, beta = 255, norm_type=cv.NORM_MINMAX)\n",
    "H_template_norm = cv.normalize(H_template, None, alpha = 0, beta = 255, norm_type=cv.NORM_MINMAX)\n",
    "\n",
    "#rescaling images after normlazitaion -> necessary to be accepte by match.template()!\n",
    "H_T = H_norm.astype(np.uint8) #Ideal: np.uint16\n",
    "H_template_T = H_template_norm.astype(np.uint8)  #Ideal: np.float16"
   ]
  },
  {
   "cell_type": "code",
   "execution_count": 67,
   "id": "a107a452-75b4-4aed-b710-70509cc552ae",
   "metadata": {},
   "outputs": [],
   "source": [
    "# Choose method\n",
    "method = eval('cv.TM_CCOEFF')\n",
    "\n",
    "#Apply template matching\n",
    "match_res = cv.matchTemplate(H_T, H_template_T, method)\n",
    "\n",
    "# obtain the maximum value\n",
    "min_val, max_val, min_loc, max_loc = cv.minMaxLoc(match_res)  #obtain maximun and minimun values and location of array"
   ]
  },
  {
   "cell_type": "code",
   "execution_count": 68,
   "id": "3d69d308-31b7-4cc1-9894-91965ef7905c",
   "metadata": {},
   "outputs": [
    {
     "data": {
      "image/png": "[encoded data removed]",
      "text/plain": [
       "<Figure size 640x480 with 1 Axes>"
      ]
     },
     "metadata": {},
     "output_type": "display_data"
    }
   ],
   "source": [
    "plt.imshow(match_res)\n",
    "#plt.savefig('figs/Low Stat/template matching/matching(3)_'+str(rad_cut_val)+'_'+str(bins)+'.png' , format = 'png')"
   ]
  },
  {
   "cell_type": "code",
   "execution_count": 99,
   "id": "d547e5ee-56fc-4f40-b6fa-6709450406ee",
   "metadata": {},
   "outputs": [
    {
     "data": {
      "text/plain": [
       "(24, 12)"
      ]
     },
     "execution_count": 99,
     "metadata": {},
     "output_type": "execute_result"
    }
   ],
   "source": [
    "min_loc"
   ]
  },
  {
   "cell_type": "code",
   "execution_count": 69,
   "id": "6810ea18-c5d0-419c-9d89-b5bf00834aa4",
   "metadata": {},
   "outputs": [
    {
     "data": {
      "text/plain": [
       "<matplotlib.image.AxesImage at 0x206b1e0eff0>"
      ]
     },
     "execution_count": 69,
     "metadata": {},
     "output_type": "execute_result"
    },
    {
     "data": {
      "image/png": "[encoded data removed]",
      "text/plain": [
       "<Figure size 640x480 with 1 Axes>"
      ]
     },
     "metadata": {},
     "output_type": "display_data"
    }
   ],
   "source": [
    "# Localizar donde esta el maximo en la imagen usando un rectangulo\n",
    "\n",
    "h, w = np.shape(H_template_T)\n",
    "top_left = max_loc\n",
    "bottom_right = (top_left[0] + w, top_left[1] + h)\n",
    "\n",
    "ROI_ident = cv.rectangle(H_T, top_left, bottom_right, color = 255, thickness = 2)\n",
    "\n",
    "plt.imshow(ROI_ident)"
   ]
  },
  {
   "cell_type": "code",
   "execution_count": null,
   "id": "3a1f5f9e-9c15-4d95-85cf-535d7f166114",
   "metadata": {},
   "outputs": [],
   "source": []
  }
 ],
 "metadata": {
  "kernelspec": {
   "display_name": "Python 3 (ipykernel)",
   "language": "python",
   "name": "python3"
  },
  "language_info": {
   "codemirror_mode": {
    "name": "ipython",
    "version": 3
   },
   "file_extension": ".py",
   "mimetype": "text/x-python",
   "name": "python",
   "nbconvert_exporter": "python",
   "pygments_lexer": "ipython3",
   "version": "3.12.3"
  }
 },
 "nbformat": 4,
 "nbformat_minor": 5
}
