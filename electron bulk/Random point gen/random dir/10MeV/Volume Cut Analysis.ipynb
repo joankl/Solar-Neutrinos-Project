{
 "cells": [
  {
   "cell_type": "markdown",
   "id": "2cedf3f8-454e-4498-992c-4f3f4c67d4b5",
   "metadata": {},
   "source": [
    "# Cortes en Volumen para simulaciones de random direction y random vertex"
   ]
  },
  {
   "cell_type": "code",
   "execution_count": 1,
   "id": "103cadb9-abbc-4823-8ae0-04d052e6e71f",
   "metadata": {},
   "outputs": [],
   "source": [
    "import uproot\n",
    "import numpy as np\n",
    "\n",
    "import matplotlib\n",
    "import matplotlib.pyplot as plt\n",
    "from matplotlib import cm\n",
    "\n",
    "import seaborn as sn"
   ]
  },
  {
   "cell_type": "code",
   "execution_count": 2,
   "id": "72aa9075-b9bf-451c-86d1-f749fa4df5b7",
   "metadata": {},
   "outputs": [],
   "source": [
    "def magnitude(vector): \n",
    "    #Funcion para calcular radio de eventos al centro del detector\n",
    "    \n",
    "    norm = []\n",
    "    for vec in vector:\n",
    "    \tnorm.append(np.linalg.norm(vec))\n",
    "\n",
    "    return np.array(norm, dtype = np.float32)"
   ]
  },
  {
   "cell_type": "markdown",
   "id": "0088125a-1d34-48a3-93cb-f9c8a6f79032",
   "metadata": {},
   "source": [
    "# 1 - Extracting Data"
   ]
  },
  {
   "cell_type": "code",
   "execution_count": 3,
   "id": "cdd4b176-a553-49df-b772-f1a174e3e74c",
   "metadata": {},
   "outputs": [
    {
     "data": {
      "text/plain": [
       "['T;6', 'T;5', 'pmt;2', 'pmt;1']"
      ]
     },
     "execution_count": 3,
     "metadata": {},
     "output_type": "execute_result"
    }
   ],
   "source": [
    "file = uproot.open(\"/snoplus simulations/electron bulk/random point/random dir/Low Statistic/simu_Analysis_elec_10MeV.root\")\n",
    "file.keys()"
   ]
  },
  {
   "cell_type": "code",
   "execution_count": 4,
   "id": "279172b4-d324-40cc-aa96-f1e1a75a367b",
   "metadata": {},
   "outputs": [
    {
     "data": {
      "text/plain": [
       "['evtid',\n",
       " 'mcID',\n",
       " 'energy',\n",
       " 'mc_position',\n",
       " 'mc_momentum',\n",
       " 'position',\n",
       " 'momentum',\n",
       " 'hit_pmtid',\n",
       " 'hit_pmttime',\n",
       " 'hit_residual',\n",
       " 'hit_type']"
      ]
     },
     "execution_count": 4,
     "metadata": {},
     "output_type": "execute_result"
    }
   ],
   "source": [
    "data1 = file['T;6']\n",
    "data1.keys()"
   ]
  },
  {
   "cell_type": "code",
   "execution_count": 5,
   "id": "dffb888d-7471-4531-b9a4-2c4cec550b2c",
   "metadata": {},
   "outputs": [
    {
     "data": {
      "text/plain": [
       "['pmt_id', 'pmt_pos_xyz', 'pmt_pos_sph', 'pmt_type']"
      ]
     },
     "execution_count": 5,
     "metadata": {},
     "output_type": "execute_result"
    }
   ],
   "source": [
    "pmt_info = file['pmt;1']\n",
    "pmt_info.keys()"
   ]
  },
  {
   "cell_type": "markdown",
   "id": "aafc2ba1-2115-4a5b-b70e-e67372e96569",
   "metadata": {},
   "source": [
    "## 1.1 - EV info"
   ]
  },
  {
   "cell_type": "code",
   "execution_count": 6,
   "id": "a336885c-acf0-42ec-a67d-4807bb9c243b",
   "metadata": {},
   "outputs": [],
   "source": [
    "#evtid = np.array(data1['evtid'], dtype = np.int16)\n",
    "#mcID = np.array(data1['mcID'], dtype = np.int16)\n",
    "mc_position = np.array(data1['mc_position'])  # -> Position Generation\n",
    "mc_momentum = np.array(data1['mc_momentum'])  # -> IMPORTANT: Direction of simulated event\n",
    "position = np.array(data1['position'])        \n",
    "hit_pmtid = np.array(data1['hit_pmtid'], dtype = np.int16)\n",
    "time_residual = np.array(data1['hit_residual'])\n",
    "hit_type = np.array(data1['hit_type'], dtype = np.int16)"
   ]
  },
  {
   "cell_type": "markdown",
   "id": "d3c8df11-5425-4d00-8e5c-ded296a02d3f",
   "metadata": {},
   "source": [
    "## 1.2 - PMT info"
   ]
  },
  {
   "cell_type": "code",
   "execution_count": 7,
   "id": "8f99a02f-14db-4c4d-a14e-8816a9f43e3f",
   "metadata": {},
   "outputs": [],
   "source": [
    "pmt_id = np.array(pmt_info['pmt_id'], dtype = np.int16)\n",
    "pmt_pos_xyz = np.array(pmt_info['pmt_pos_xyz'])\n",
    "pmt_pos_sph = np.array(pmt_info['pmt_pos_sph'])\n",
    "pmt_type = np.array(pmt_info['pmt_type'], dtype = np.int16)"
   ]
  },
  {
   "cell_type": "markdown",
   "id": "8adce8e1-adc3-440c-89d2-4568bed9ef63",
   "metadata": {},
   "source": [
    "# 2 - Extract Valid Data"
   ]
  },
  {
   "cell_type": "markdown",
   "id": "0192f1e7-6d4b-4e4d-b34c-d60946a104ed",
   "metadata": {},
   "source": [
    "## 2.1 - Extract  valid PMT id"
   ]
  },
  {
   "cell_type": "code",
   "execution_count": 8,
   "id": "323a3d3d-2019-4bf5-a347-0493615baf04",
   "metadata": {},
   "outputs": [
    {
     "data": {
      "text/plain": [
       "array([       0,        1,        2, ..., 11158432, 11158433, 11158434],\n",
       "      dtype=int64)"
      ]
     },
     "execution_count": 8,
     "metadata": {},
     "output_type": "execute_result"
    }
   ],
   "source": [
    "## Numpy proofs to validate pytorch tools\n",
    "\n",
    "valid_pmt_id = np.array(np.where(pmt_type == 1)[0])   # PMT valid ID match with index of where pmt_type=1\n",
    "\n",
    "valid_id_info_ev_i = np.array(np.where(np.in1d(hit_pmtid, valid_pmt_id))[0])\n",
    "valid_id_info_ev_i"
   ]
  },
  {
   "cell_type": "markdown",
   "id": "72472c1c-ecb9-4889-9f50-1e87008c618a",
   "metadata": {},
   "source": [
    "# 3 - Optimizar uso de Memoria\n",
    "\n",
    "- Intentemos hacer un loop sobre subconjuntos de valid_id_info_ev e ir guardando esta información en arrays fuera del Loop;\n",
    "- Librar memoria de variables cada que se reinicie el Loop entre los subconjuntos de valid_id_info_ev_i"
   ]
  },
  {
   "cell_type": "code",
   "execution_count": 9,
   "id": "c69b797c-290f-4b04-a20d-1ea92b022859",
   "metadata": {},
   "outputs": [
    {
     "name": "stdout",
     "output_type": "stream",
     "text": [
      "slipt nº: 0\n",
      "In radi_cut, split nº:  0\n",
      "computing cos(alpha)\n",
      "doing time residual cuts\n",
      "slipt nº: 1\n",
      "In radi_cut, split nº:  1\n",
      "computing cos(alpha)\n",
      "doing time residual cuts\n",
      "slipt nº: 2\n",
      "In radi_cut, split nº:  2\n",
      "computing cos(alpha)\n",
      "doing time residual cuts\n",
      "slipt nº: 3\n",
      "In radi_cut, split nº:  3\n",
      "computing cos(alpha)\n",
      "doing time residual cuts\n",
      "slipt nº: 4\n",
      "In radi_cut, split nº:  4\n",
      "computing cos(alpha)\n",
      "doing time residual cuts\n"
     ]
    }
   ],
   "source": [
    "#params to adjust the cuts--------------------------------------------\n",
    "#Split Data\n",
    "split = 5\n",
    "#time cut\n",
    "inf_cut = -5\n",
    "up_cut = 15\n",
    "\n",
    "#radia cut\n",
    "radi_cut_method = True   #If true, apply radial cuts given by rad_cut_val to data\n",
    "rad_cut_val = 5500.0\n",
    "#--------------------------------------------------------------------------\n",
    "\n",
    "\n",
    "# Dividir valid_id_info_ev_i en partes\n",
    "valid_info_ev_split = np.array_split(valid_id_info_ev_i, split)  #---> split(array, parts)\n",
    "\n",
    "#variables to save: with time residual cuts and radi cut (radi cut depends on the simulation)\n",
    "multi_time_residual_cut = []\n",
    "multi_cos_angle_cut = []\n",
    "\n",
    "#loop over valid_info_ev_split\n",
    "for n_loop, split_array in enumerate(valid_info_ev_split):\n",
    "    print('slipt nº:', n_loop)\n",
    "    # extract all valid simulated info \n",
    "    #multi_time_residual = np.array([])\n",
    "    multi_time_residual = []\n",
    "    #multi_pmt_id_hit = np.array([])\n",
    "    multi_pmt_id_hit = []\n",
    "    multi_position = []\n",
    "    multi_mc_position = []\n",
    "    multi_mc_momentum = []   \n",
    "    multi_xyz_hit = []\n",
    "\n",
    "    for valid_i in split_array:\n",
    "        #multi_time_residual = np.append(multi_time_residual, time_residual[valid_i])\n",
    "        #multi_pmt_id_hit = np.append(multi_pmt_id_hit, hit_pmtid[valid_i])\n",
    "        multi_time_residual.append(time_residual[valid_i])\n",
    "        multi_pmt_id_hit.append(hit_pmtid[valid_i])\n",
    "        multi_position.append(position[valid_i])\n",
    "        multi_mc_position.append(mc_position[valid_i])\n",
    "        multi_mc_momentum.append(mc_momentum[valid_i])\n",
    "    multi_time_residual = np.array(multi_time_residual)\n",
    "    multi_pmt_id_hit = np.array(multi_pmt_id_hit)\n",
    "\n",
    "    for id_i in multi_pmt_id_hit:\n",
    "        multi_xyz_hit.append(pmt_pos_xyz[id_i])\n",
    "\n",
    "\n",
    "    #Radial Cut:\n",
    "    if radi_cut_method == True:\n",
    "        print('In radi_cut, split nº: ', n_loop)\n",
    "        #mc_position_norm = magnitude(multi_mc_position)\n",
    "        position_norm = magnitude(multi_position)\n",
    "        max_radi = rad_cut_val\n",
    "        radi_condition = (position_norm < max_radi)\n",
    "        index_cut_radi = np.array(np.where(radi_condition)[0])\n",
    "\n",
    "        #variables to extract\n",
    "        multi_time_residual = np.extract(radi_condition, multi_time_residual)\n",
    "        multi_pmt_id_hit = np.extract(radi_condition, multi_pmt_id_hit)\n",
    "\n",
    "        multi_mc_momentum_radi_cut = []\n",
    "        multi_xyz_hit_radi_cut = [] \n",
    "\n",
    "        for j_dx in index_cut_radi:\n",
    "            multi_mc_momentum_radi_cut.append(multi_mc_momentum[j_dx])\n",
    "\n",
    "        for id_i in multi_pmt_id_hit:\n",
    "            multi_xyz_hit_radi_cut.append(pmt_pos_xyz[id_i])\n",
    "\n",
    "        multi_mc_momentum = multi_mc_momentum_radi_cut\n",
    "        multi_xyz_hit = multi_xyz_hit_radi_cut\n",
    "        \n",
    "        #freed memory\n",
    "        multi_mc_momentum_radi_cut = None\n",
    "        multi_xyz_hit_radi_cut = None\n",
    "        radi_condition = None\n",
    "        index_cut_radi = None\n",
    "        \n",
    "    #cos(alpha) calculation -> Uses the definition of scalar product\n",
    "    multi_cos_angle = []\n",
    "    N = np.shape(multi_xyz_hit)[0]\n",
    "\n",
    "    print('computing cos(alpha)')\n",
    "    for k in range(N):\n",
    "        scalar_product = np.dot(multi_xyz_hit[k], multi_mc_momentum[k])\n",
    "        norm_1 = np.linalg.norm(multi_mc_momentum[k])\n",
    "        norm_2 = np.linalg.norm(multi_xyz_hit[k])\n",
    "        cos_val = scalar_product/(norm_1*norm_2)\n",
    "        \n",
    "        multi_cos_angle.append(cos_val)\n",
    "\n",
    "    #Time residual cut:\n",
    "    print('doing time residual cuts')\n",
    "    for i in np.where((multi_time_residual > inf_cut) & (multi_time_residual < up_cut))[0]:\n",
    "        multi_time_residual_cut.append(multi_time_residual[i])\n",
    "        multi_cos_angle_cut.append(multi_cos_angle[i])\n",
    "\n",
    "    #freed memory\n",
    "    multi_cos_angle = None"
   ]
  },
  {
   "cell_type": "markdown",
   "id": "0eb67b29-ddd4-4361-bd50-3fbb148614ec",
   "metadata": {},
   "source": [
    "# 4 - Plots"
   ]
  },
  {
   "cell_type": "markdown",
   "id": "b30cd4a0-e3a2-4b1f-83b7-426c08d32a1e",
   "metadata": {},
   "source": [
    "## 4.1 - Time residual vs. $cos(α)$"
   ]
  },
  {
   "cell_type": "code",
   "execution_count": 11,
   "id": "658ff1c7-59fe-4e2f-874b-c9decdedd059",
   "metadata": {
    "scrolled": true
   },
   "outputs": [
    {
     "name": "stdout",
     "output_type": "stream",
     "text": [
      "Using matplotlib backend: TkAgg\n"
     ]
    }
   ],
   "source": [
    "%matplotlib\n",
    "# 2d Histogram\n",
    "bins = 60\n",
    "\n",
    "if radi_cut_method == True:\n",
    "    title = 'cos(α) vs. Time Residual Multiple evID - 10MeV - random (dir, vtx) \\n volume cut r(mm) < '+str(rad_cut_val)\n",
    "\n",
    "else:\n",
    "    title = 'cos(α) vs. time residual - Multiple evID - 10MeV - random (dir,vtx)'\n",
    "\n",
    "plt.figure(figsize=(10,8))\n",
    "sn.set_style(rc = {'axes.facecolor': 'black'})\n",
    "sn.histplot(x = multi_cos_angle_cut, y = multi_time_residual_cut, bins = [bins, bins], stat='count', cbar = 'True', cmap = cm.nipy_spectral)\n",
    "plt.ylabel('time residual')\n",
    "plt.xlabel('cos(α)')\n",
    "plt.title(title, fontsize= 10)\n",
    "\n",
    "#equal acis ration\n",
    "#ax = plt.gca()\n",
    "#ax.set_aspect('equal', adjustable='box')\n",
    "plt.show()\n",
    "#plt.savefig('figs/Low Stat/cos(α) vs. Time Residual Multiple evID - 10MeV - random (dir, vtx) - volume cut r less '+str(rad_cut_val)+'.png', format = 'png')"
   ]
  },
  {
   "cell_type": "markdown",
   "id": "345243f5-df61-4468-99ba-c79dbc821da9",
   "metadata": {},
   "source": [
    "### 4.1.2 - Normalization"
   ]
  },
  {
   "cell_type": "markdown",
   "id": "96c4d310-2e71-415e-8a34-7bc74fc4ee34",
   "metadata": {},
   "source": [
    "#### 4.1.2.1 - Extraer datos para normalización"
   ]
  },
  {
   "cell_type": "code",
   "execution_count": 12,
   "id": "7afe0402-dcb3-4f91-b92e-40fdce5c7716",
   "metadata": {},
   "outputs": [
    {
     "data": {
      "text/plain": [
       "<matplotlib.colorbar.Colorbar at 0x18bc2f85d90>"
      ]
     },
     "execution_count": 12,
     "metadata": {},
     "output_type": "execute_result"
    }
   ],
   "source": [
    "#Transforma Data into an Image Matrix\n",
    "\n",
    "H, xedges, yedges = np.histogram2d(x = multi_cos_angle_cut, y = multi_time_residual_cut, bins = [bins, bins])\n",
    "\n",
    "#Now recover the data axis representation of time residual vs cos(alpha)\n",
    "left = np.min(multi_time_residual_cut)\n",
    "right = np.max(multi_time_residual_cut)\n",
    "bottom = np.min(multi_cos_angle_cut)\n",
    "top = np.max(multi_cos_angle_cut)\n",
    "\n",
    "#Titles\n",
    "title = 'cos(α) - Multiple evID - 10MeV - random (dir, vtx) \\n volume cut r(mm) < '+str(rad_cut_val)\n",
    "ylabel = 'cos(α)'\n",
    "xlabel = 'time residual'\n",
    "\n",
    "plt.figure(figsize=(10,8))\n",
    "plt.imshow(H, extent = [left, right, top, bottom], aspect=\"auto\" ) #---> Here is our image as a Matrix Pixel\n",
    "plt.title(title, fontsize= 10)\n",
    "plt.ylabel(ylabel)\n",
    "plt.xlabel(xlabel)\n",
    "plt.colorbar()\n",
    "#plt.savefig('figs/Low Stat/' + title +'(imshow).png', format = 'png')"
   ]
  },
  {
   "cell_type": "markdown",
   "id": "f6bccb1f-f315-49c2-8c04-be73940a8aa2",
   "metadata": {},
   "source": [
    "#### 4.1.2.2 - Normalización por Nhits"
   ]
  },
  {
   "cell_type": "code",
   "execution_count": 13,
   "id": "8a946fd9-3f7e-4c00-b7d6-ecac7bd5223d",
   "metadata": {},
   "outputs": [
    {
     "data": {
      "text/plain": [
       "<matplotlib.colorbar.Colorbar at 0x18c4a710e90>"
      ]
     },
     "execution_count": 13,
     "metadata": {},
     "output_type": "execute_result"
    }
   ],
   "source": [
    "# sum of hits in each bin = sum over each column element of the matrix.\n",
    "sum_hit = np.sum(H,axis=0)  \n",
    "\n",
    "H_normalized1 = H / sum_hit\n",
    "\n",
    "N1title = 'Normalization by NHits - Multiple evID - 10MeV - random (dir, vtx) \\n volume cut r(mm) < '+str(rad_cut_val)\n",
    "\n",
    "plt.figure(figsize=(10,8))\n",
    "plt.imshow(H_normalized1, extent = [left, right, top, bottom], aspect=\"auto\" )\n",
    "plt.title(N1title)\n",
    "plt.ylabel(ylabel)\n",
    "plt.xlabel(xlabel)\n",
    "plt.colorbar()\n",
    "#plt.savefig('figs/Low Stat/Normalization by NHits - Multiple evID - 10MeV - random (dir, vtx) - volume cut r less '+str(rad_cut_val)+'.png', format = 'png')"
   ]
  },
  {
   "cell_type": "code",
   "execution_count": 14,
   "id": "751eb3b2-8910-4199-a114-68e579486fb0",
   "metadata": {},
   "outputs": [],
   "source": [
    "#np.savetxt('norm_observable_info-mc_position-'+str(rad_cut_val)+'_'+str(bins)+'.csv', H_normalized1, delimiter=\",\")\n",
    "#np.savetxt('norm_observable_info-recons_position-'+str(rad_cut_val)+'_'+str(bins)+'.csv', H_normalized1, delimiter=\",\")"
   ]
  },
  {
   "cell_type": "code",
   "execution_count": 15,
   "id": "baab2550-4d33-4b2c-bab8-e79b6c7f2926",
   "metadata": {},
   "outputs": [],
   "source": [
    "H_normalized_mc = np.genfromtxt('norm_observable_info-mc_position-5500.0_60.csv', delimiter=',')\n",
    "H_normalized_recons = np.genfromtxt('norm_observable_info-recons_position-5500.0_60.csv', delimiter=',')"
   ]
  },
  {
   "cell_type": "markdown",
   "id": "c46031fa-58a6-4187-825e-c25b427f8d8a",
   "metadata": {},
   "source": [
    "# 5 - Analisis de Sistematicos (posición de MC vs. posición reconstruida)\n",
    "\n",
    "Comparemos los resultados de la normalizacion de ambos Datos"
   ]
  },
  {
   "cell_type": "code",
   "execution_count": 123,
   "id": "b926ac17-0898-4fbe-92ff-d60bfb5a0bce",
   "metadata": {},
   "outputs": [],
   "source": [
    "H_ratio = (H_normalized_mc+1)/(H_normalized_recons+1)  #sumamos +1 para evitar divisiones por 0"
   ]
  },
  {
   "cell_type": "code",
   "execution_count": 76,
   "id": "52a94dc2-cf3b-4099-8687-8873aa4d0e1d",
   "metadata": {},
   "outputs": [
    {
     "data": {
      "text/plain": [
       "<matplotlib.colorbar.Colorbar at 0x1952b2314c0>"
      ]
     },
     "execution_count": 76,
     "metadata": {},
     "output_type": "execute_result"
    }
   ],
   "source": [
    "plt.imshow(H_ratio)\n",
    "plt.colorbar()"
   ]
  },
  {
   "cell_type": "code",
   "execution_count": 129,
   "id": "c148f00d-ba05-4a69-a1fd-40853c95aeee",
   "metadata": {},
   "outputs": [],
   "source": [
    "import matplotlib as mpl\n",
    "mpl.rcParams.update(mpl.rcParamsDefault)\n",
    "ratio = np.ravel(H_ratio)\n",
    "plt.figure(figsize=(14,8))\n",
    "plt.plot(ratio, marker = 'x')\n",
    "plt.xlabel('Matrix element')\n",
    "plt.ylabel('Ratio')\n",
    "plt.title('Ratio Between Normalized Data using MC and recons. position')\n",
    "plt.grid()\n",
    "plt.show()\n",
    "#plt.savefig('figs/Low Stat/Ratio Between Normalized Data using MC and recons position.png', format = 'png')"
   ]
  },
  {
   "cell_type": "code",
   "execution_count": 140,
   "id": "ca577f7b-b301-475a-8bb7-0597a822bac3",
   "metadata": {},
   "outputs": [],
   "source": [
    "import matplotlib as mpl\n",
    "mpl.rcParams.update(mpl.rcParamsDefault)\n",
    "plt.figure(figsize=(7,5))\n",
    "plt.hist(ratio, bins = len(ratio))\n",
    "plt.xlabel('ratio')\n",
    "plt.title('Ratio Distribution')\n",
    "plt.show()\n",
    "plt.savefig('figs/Low Stat/Ratio distribution.png', format = 'png')"
   ]
  },
  {
   "cell_type": "code",
   "execution_count": null,
   "id": "eb1afd06-81e8-43c4-9e64-8473cde04d02",
   "metadata": {},
   "outputs": [],
   "source": []
  }
 ],
 "metadata": {
  "kernelspec": {
   "display_name": "Python 3 (ipykernel)",
   "language": "python",
   "name": "python3"
  },
  "language_info": {
   "codemirror_mode": {
    "name": "ipython",
    "version": 3
   },
   "file_extension": ".py",
   "mimetype": "text/x-python",
   "name": "python",
   "nbconvert_exporter": "python",
   "pygments_lexer": "ipython3",
   "version": "3.12.3"
  }
 },
 "nbformat": 4,
 "nbformat_minor": 5
}
