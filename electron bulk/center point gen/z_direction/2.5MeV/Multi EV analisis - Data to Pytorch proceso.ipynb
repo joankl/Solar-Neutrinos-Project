{
 "cells": [
  {
   "cell_type": "code",
   "execution_count": 1,
   "id": "f138ecc1-6d47-4cc2-a73d-3b08ab5d88ab",
   "metadata": {},
   "outputs": [],
   "source": [
    "import uproot\n",
    "import numpy as np\n",
    "\n",
    "import matplotlib\n",
    "import matplotlib.pyplot as plt\n",
    "from matplotlib import cm\n",
    "\n",
    "import seaborn as sn\n",
    "\n",
    "import torch"
   ]
  },
  {
   "cell_type": "markdown",
   "id": "6729dbb4-84e3-43c2-b066-d27b6a59432f",
   "metadata": {},
   "source": [
    "# 1 - Extracting Data and Moving to GPU"
   ]
  },
  {
   "cell_type": "code",
   "execution_count": 2,
   "id": "074bbd8b-0a2a-4c89-bc9d-0fc033a05aba",
   "metadata": {},
   "outputs": [
    {
     "data": {
      "text/plain": [
       "['T;34', 'T;33', 'pmt;2', 'pmt;1']"
      ]
     },
     "execution_count": 2,
     "metadata": {},
     "output_type": "execute_result"
    }
   ],
   "source": [
    "file = uproot.open(\"/snoplus simulations/electron bulk/center point/z direction/High Statistic/simu_Analysis_elec_z_2.5MeV.root\")\n",
    "file.keys()"
   ]
  },
  {
   "cell_type": "code",
   "execution_count": 3,
   "id": "e46cbf39-69ab-4ddf-8a35-c2292408a23a",
   "metadata": {},
   "outputs": [
    {
     "data": {
      "text/plain": [
       "['evtid',\n",
       " 'mcID',\n",
       " 'energy',\n",
       " 'mc_position',\n",
       " 'mc_momentum',\n",
       " 'position',\n",
       " 'momentum',\n",
       " 'hit_pmtid',\n",
       " 'hit_pmttime',\n",
       " 'hit_residual',\n",
       " 'hit_type']"
      ]
     },
     "execution_count": 3,
     "metadata": {},
     "output_type": "execute_result"
    }
   ],
   "source": [
    "data1 = file['T;34']\n",
    "data1.keys()"
   ]
  },
  {
   "cell_type": "code",
   "execution_count": 4,
   "id": "3bdd08b2-e7f8-4032-8e5e-59d673208b39",
   "metadata": {},
   "outputs": [
    {
     "data": {
      "text/plain": [
       "['pmt_id', 'pmt_pos_xyz', 'pmt_pos_sph', 'pmt_type']"
      ]
     },
     "execution_count": 4,
     "metadata": {},
     "output_type": "execute_result"
    }
   ],
   "source": [
    "pmt_info = file['pmt;1']\n",
    "pmt_info.keys()"
   ]
  },
  {
   "cell_type": "markdown",
   "id": "a3a255a8-9995-4934-a5e1-b2d4dfc3973a",
   "metadata": {},
   "source": [
    "## 1.1 - EV info"
   ]
  },
  {
   "cell_type": "code",
   "execution_count": 5,
   "id": "796444a2-f6ba-497b-ba5a-eb5bc8f104c2",
   "metadata": {},
   "outputs": [],
   "source": [
    "evtid = torch.tensor(np.array(data1['evtid'])).cuda()\n",
    "mcID = torch.tensor(np.array(data1['mcID'])).cuda()\n",
    "mc_position = torch.tensor(np.array(data1['mc_position'])).cuda()\n",
    "mc_momentum = torch.tensor(np.array(data1['mc_momentum'])).cuda()  # -> IMPORTANT: Direction of simulated event\n",
    "position = torch.tensor(np.array(data1['position'])).cuda()\n",
    "hit_pmtid = torch.tensor(np.array(data1['hit_pmtid'])).cuda()\n",
    "hit_pmttime = torch.tensor(np.array(data1['hit_pmttime'])).cuda()\n",
    "time_residual = torch.tensor(np.array(data1['hit_residual'])).cuda()\n",
    "hit_type = torch.tensor(np.array(data1['hit_type'])).cuda()"
   ]
  },
  {
   "cell_type": "markdown",
   "id": "2dfa391a-2cde-4eea-89ad-2f3b76d250a2",
   "metadata": {},
   "source": [
    "## 1.1 - PMT info"
   ]
  },
  {
   "cell_type": "code",
   "execution_count": 6,
   "id": "14f35826-e96e-4630-9efe-7e3ccc3c6ed0",
   "metadata": {},
   "outputs": [],
   "source": [
    "pmt_id = torch.tensor(np.array(pmt_info['pmt_id'])).cuda()\n",
    "pmt_pos_xyz = torch.tensor(np.array(pmt_info['pmt_pos_xyz'])).cuda()\n",
    "pmt_pos_sph = torch.tensor(np.array(pmt_info['pmt_pos_sph'])).cuda()\n",
    "pmt_type = torch.tensor(np.array(pmt_info['pmt_type'])).cuda()"
   ]
  },
  {
   "cell_type": "markdown",
   "id": "165a7bf9-c57e-4fb9-9fa9-77b38ae6f52b",
   "metadata": {},
   "source": [
    "# 2 - Observe Data - Time Residual"
   ]
  },
  {
   "cell_type": "code",
   "execution_count": 9,
   "id": "bf9cb714-2f81-4af3-a0f8-eeafaf0e5d59",
   "metadata": {},
   "outputs": [
    {
     "data": {
      "image/png": "[encoded data removed]",
      "text/plain": [
       "<Figure size 800x600 with 1 Axes>"
      ]
     },
     "metadata": {},
     "output_type": "display_data"
    }
   ],
   "source": [
    "plt.figure(figsize=(8,6))\n",
    "sn.histplot(time_residual.cpu(), bins = 100)\n",
    "plt.xlabel('var')\n",
    "plt.ylabel('events')\n",
    "plt.yscale('log')"
   ]
  },
  {
   "cell_type": "code",
   "execution_count": 9,
   "id": "a806b884-33ed-420e-ad0e-f6978e17f290",
   "metadata": {
    "scrolled": true
   },
   "outputs": [
    {
     "data": {
      "text/plain": [
       "72106087"
      ]
     },
     "execution_count": 9,
     "metadata": {},
     "output_type": "execute_result"
    }
   ],
   "source": [
    "len(time_residual)"
   ]
  },
  {
   "cell_type": "markdown",
   "id": "d7f56f36-2220-4ef9-87a1-eb90138c8703",
   "metadata": {},
   "source": [
    "# 3 - Extract Valid Data"
   ]
  },
  {
   "cell_type": "markdown",
   "id": "10cf6dd1-0f70-4890-bb19-2aa9891f4db0",
   "metadata": {},
   "source": [
    "## 3.1 - Extract Index of valids PMT Type"
   ]
  },
  {
   "cell_type": "code",
   "execution_count": 7,
   "id": "5c2b65b6-c922-4316-bc2a-29df3465c8ab",
   "metadata": {},
   "outputs": [
    {
     "data": {
      "text/plain": [
       "array([       0,        1,        2, ..., 72106083, 72106084, 72106085],\n",
       "      dtype=int64)"
      ]
     },
     "execution_count": 7,
     "metadata": {},
     "output_type": "execute_result"
    }
   ],
   "source": [
    "## Numpy proofs to validate pytorch tools\n",
    "\n",
    "np_valid_pmt_id = np.where(pmt_type.cpu() == 1)[0]   # PMT valid ID match with index of where pmt_type=1\n",
    "\n",
    "np_valid_id_info_ev_i = np.where(np.in1d(hit_pmtid.cpu(), np_valid_pmt_id))[0]\n",
    "np_valid_id_info_ev_i"
   ]
  },
  {
   "cell_type": "code",
   "execution_count": 8,
   "id": "8a274c21-6983-403c-9c7d-358abca285e3",
   "metadata": {},
   "outputs": [
    {
     "name": "stdout",
     "output_type": "stream",
     "text": [
      "tensor([       0,        1,        2,  ..., 72106083, 72106084, 72106085],\n",
      "       device='cuda:0')\n"
     ]
    }
   ],
   "source": [
    "# Torch Tensor Method\n",
    "\n",
    "valid_pmt_id = torch.where(pmt_type == 1)[0].cuda()  #pmt valid ID match with index of where pmt_type=1\n",
    "#print(valid_pmt_id)\n",
    "\n",
    "#Now, with valid_pmt_id, extract valid index of EV Data     \n",
    "condition = (torch.isin(hit_pmtid,valid_pmt_id))\n",
    "valid_id_info_ev_i = (torch.where(condition))[0] # --> index of valid info\n",
    "print(valid_id_info_ev_i)"
   ]
  },
  {
   "cell_type": "markdown",
   "id": "147ab708-8c5c-447c-ac84-edb5b68f3b2e",
   "metadata": {},
   "source": [
    "## 3.2 - Extract valid info of EV\n",
    "\n",
    "Use numpy type because Concatenates Faster!"
   ]
  },
  {
   "cell_type": "code",
   "execution_count": 9,
   "id": "37ad766c-b8f4-4a13-a05f-808fdefa454b",
   "metadata": {
    "scrolled": true
   },
   "outputs": [],
   "source": [
    "# CONCATENATE DATA IN NUMPY ARRAY IS FASTER!\n",
    "valid_pmt_id = np.where(pmt_type.cpu() == 1)[0]   #pmt valid ID match with index of where pmt_type=1\n",
    "valid_pmt_id_ev = []\n",
    "\n",
    "np_time_residual = np.array(data1['hit_residual'])\n",
    "np_pmt_id_hit = np.array(data1['hit_pmtid'])         # Hit IDs to extract coordinates!\n",
    "np_mc_momentum = np.array(data1['mc_momentum'])\n",
    "np_xyz_pmt = np.array(pmt_info['pmt_pos_xyz'])\n",
    "\n",
    "\n",
    "# With valid index data extract valid data\n",
    "\n",
    "data_portion = 1   # percentage of data\n",
    "lim_data = round(len(np_valid_id_info_ev_i)*data_portion)\n",
    "\n",
    "multi_time_residual = []\n",
    "multi_pmt_id_hit = []\n",
    "multi_mc_momentum = []   #PENSAR BIEN COMO EXTRAER -> Se repite dentro de cada EV muchas veces -> Separar por evIDs\n",
    "multi_xyz_hit = []\n",
    "\n",
    "for valid_i in np_valid_id_info_ev_i[0:lim_data]:\n",
    "    multi_time_residual.append(np_time_residual[valid_i])\n",
    "    multi_mc_momentum.append(np_mc_momentum[valid_i])\n",
    "    multi_pmt_id_hit.append(np_pmt_id_hit[valid_i])\n",
    "    \n",
    "multi_time_residual = np.array(multi_time_residual)   #Has to be an array to use numpoy tools bellow!\n",
    "\n",
    "#extract xyz_hit from pmt_id_hit\n",
    "for id_i in multi_pmt_id_hit:\n",
    "    multi_xyz_hit.append(np_xyz_pmt[id_i])"
   ]
  },
  {
   "cell_type": "code",
   "execution_count": 10,
   "id": "c4083de3-fbff-4e5c-93fa-b2cc161d8d7a",
   "metadata": {},
   "outputs": [
    {
     "data": {
      "text/plain": [
       "True"
      ]
     },
     "execution_count": 10,
     "metadata": {},
     "output_type": "execute_result"
    }
   ],
   "source": [
    "len(multi_xyz_hit) == len(multi_mc_momentum)"
   ]
  },
  {
   "cell_type": "markdown",
   "id": "3c0713d4-2464-4923-a785-94407ec67ac7",
   "metadata": {},
   "source": [
    "### 3.2.3 - Construct Observable $cos(α)$"
   ]
  },
  {
   "cell_type": "code",
   "execution_count": null,
   "id": "a0cf8218-23dd-4cf1-a504-88819a9bd1c2",
   "metadata": {},
   "outputs": [],
   "source": [
    "multi_cos_angle = []\n",
    "vec_dir = np.array([0.0, 0.0, -1.0])\n",
    "N = np.shape(multi_xyz_hit)[0]\n",
    "\n",
    "for k in range(N):\n",
    "    cos_val = np.dot(multi_xyz_hit[k], vec_dir)/np.linalg.norm(multi_xyz_hit[k])\n",
    "    multi_cos_angle.append(cos_val)\n",
    "multi_cos_angle = np.array(multi_cos_angle)"
   ]
  },
  {
   "cell_type": "code",
   "execution_count": 15,
   "id": "c6d9a8b9-a6f3-4a34-a76f-b3e40fff7649",
   "metadata": {},
   "outputs": [
    {
     "data": {
      "text/plain": [
       "0.9313158469428728"
      ]
     },
     "execution_count": 15,
     "metadata": {},
     "output_type": "execute_result"
    }
   ],
   "source": [
    "cos_val"
   ]
  },
  {
   "cell_type": "markdown",
   "id": "81c7c5ee-9f33-4de2-ae90-0f68ceb58db3",
   "metadata": {},
   "source": [
    "# 4 - Plots"
   ]
  },
  {
   "cell_type": "markdown",
   "id": "b766fe96-f8a2-4061-bb40-93a562d201b7",
   "metadata": {},
   "source": [
    "## 4.1 - Time residual vs. $cos(α)$"
   ]
  },
  {
   "cell_type": "markdown",
   "id": "457477e0-b209-44aa-b64e-85430a7d647b",
   "metadata": {},
   "source": [
    "### 4.1.1 - cut time residual"
   ]
  },
  {
   "cell_type": "code",
   "execution_count": 16,
   "id": "08819065-7c76-4bb1-bddd-0847c3b3f263",
   "metadata": {},
   "outputs": [],
   "source": [
    "up_cut = 20\n",
    "inf_cut = -5\n",
    "\n",
    "multi_time_res_cut = []\n",
    "multi_cos_angle_cut = []\n",
    "\n",
    "for i in np.where((multi_time_residual > inf_cut) & (multi_time_residual < up_cut))[0]:\n",
    "\n",
    "    multi_time_res_cut.append(multi_time_residual[i])\n",
    "    multi_cos_angle_cut.append(multi_cos_angle[i])"
   ]
  },
  {
   "cell_type": "code",
   "execution_count": 22,
   "id": "9b1463b9-d70e-4022-a7bf-8cd50f116871",
   "metadata": {},
   "outputs": [
    {
     "name": "stdout",
     "output_type": "stream",
     "text": [
      "Using matplotlib backend: TkAgg\n"
     ]
    }
   ],
   "source": [
    "%matplotlib\n",
    "# 2d Histogram\n",
    "title = 'cos(α) - Multiple evID - 2.5MeV - z dir'\n",
    "\n",
    "plt.figure(figsize=(8,8))\n",
    "sn.set_style(rc = {'axes.facecolor': 'black'})\n",
    "sn.histplot(x = multi_cos_angle_cut, y = multi_time_res_cut, bins = [30,30], stat='count', cbar = 'True', cmap = cm.nipy_spectral)\n",
    "plt.ylabel('time res.')\n",
    "plt.xlabel('cos(α)')\n",
    "plt.title(title)\n",
    "\n",
    "#equal acis ration\n",
    "#ax = plt.gca()\n",
    "#ax.set_aspect('equal', adjustable='box')\n",
    "plt.show()"
   ]
  },
  {
   "cell_type": "markdown",
   "id": "8ecdc7f4-fda5-4d93-93f2-d2943ddd3e0e",
   "metadata": {},
   "source": [
    "### 4.1.2 - Normalization"
   ]
  },
  {
   "cell_type": "code",
   "execution_count": 24,
   "id": "6953fd80-8a90-4e70-9e10-c693c2f03ae8",
   "metadata": {},
   "outputs": [
    {
     "data": {
      "text/plain": [
       "<matplotlib.colorbar.Colorbar at 0x14f9d6bfb90>"
      ]
     },
     "execution_count": 24,
     "metadata": {},
     "output_type": "execute_result"
    }
   ],
   "source": [
    "#Transforma Data into an Image Matrix\n",
    "bins = 30\n",
    "H, xedges, yedges = np.histogram2d(x = multi_cos_angle_cut, y = multi_time_res_cut, bins = [bins, bins])\n",
    "\n",
    "#Now recover the data axis representation of time residual vs cos(alpha)\n",
    "left = np.min(multi_time_res_cut)\n",
    "right = np.max(multi_time_res_cut)\n",
    "bottom = np.min(multi_cos_angle_cut)\n",
    "top = np.max(multi_cos_angle_cut)\n",
    "\n",
    "#Titles\n",
    "title = 'cos(α) - Multiple evID - 2.5MeV - z dir'\n",
    "ylabel = 'cos(α)'\n",
    "xlabel = 'time res.'\n",
    "\n",
    "plt.imshow(H, extent = [left, right, top, bottom], aspect=\"auto\" ) #---> Here is our image as a Matrix Pixel\n",
    "plt.title(title)\n",
    "plt.ylabel(ylabel)\n",
    "plt.xlabel(xlabel)\n",
    "plt.colorbar()"
   ]
  },
  {
   "cell_type": "markdown",
   "id": "9fa966e5-c01f-406a-92b2-692fc7826069",
   "metadata": {},
   "source": [
    "#### 4.1.2.1 - Normalization by Nhits"
   ]
  },
  {
   "cell_type": "code",
   "execution_count": 25,
   "id": "7e85fe33-5f1d-487b-ac0f-1084bcac9366",
   "metadata": {},
   "outputs": [
    {
     "data": {
      "text/plain": [
       "<matplotlib.colorbar.Colorbar at 0x146c53ec830>"
      ]
     },
     "execution_count": 25,
     "metadata": {},
     "output_type": "execute_result"
    }
   ],
   "source": [
    "# sum of hits in each bin = sum over each column element of the matrix.\n",
    "sum_hit = np.sum(H,axis=0)  \n",
    "\n",
    "H_normalized1 = H / sum_hit\n",
    "\n",
    "N1title = 'Normalization by NHits in cos(α) section - Multiple evID - 2.5 MeV - z dir'\n",
    "\n",
    "plt.imshow(H_normalized1, extent = [left, right, top, bottom], aspect=\"auto\" )\n",
    "plt.title(N1title)\n",
    "plt.ylabel(ylabel)\n",
    "plt.xlabel(xlabel)\n",
    "plt.colorbar()"
   ]
  },
  {
   "cell_type": "code",
   "execution_count": null,
   "id": "2617e56c-e018-4507-a4eb-1acbe146cf25",
   "metadata": {},
   "outputs": [],
   "source": []
  }
 ],
 "metadata": {
  "kernelspec": {
   "display_name": "Python 3 (ipykernel)",
   "language": "python",
   "name": "python3"
  },
  "language_info": {
   "codemirror_mode": {
    "name": "ipython",
    "version": 3
   },
   "file_extension": ".py",
   "mimetype": "text/x-python",
   "name": "python",
   "nbconvert_exporter": "python",
   "pygments_lexer": "ipython3",
   "version": "3.12.2"
  }
 },
 "nbformat": 4,
 "nbformat_minor": 5
}
