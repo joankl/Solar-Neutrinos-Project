{
 "cells": [
  {
   "cell_type": "markdown",
   "id": "b8c736e9-ed38-4ec7-8f7b-afd30fa28d35",
   "metadata": {
    "editable": true,
    "slideshow": {
     "slide_type": ""
    },
    "tags": []
   },
   "source": [
    "# Plot de Histograma 3D - time residuals, cos(angulo entre dirección de eventos y hits), counts\n",
    "\n",
    "\n",
    "Atención: algunas secciones de este notebook estan hechas para tratar simulaciones con solo 1 job. CUIDADO AL CORRER TODAS LAS CELDAS PORQUE DARÁ ERROR!"
   ]
  },
  {
   "cell_type": "code",
   "execution_count": 1,
   "id": "aae6d500-74d6-48bb-a504-550df00cac87",
   "metadata": {
    "editable": true,
    "slideshow": {
     "slide_type": ""
    },
    "tags": []
   },
   "outputs": [],
   "source": [
    "from analysis_simulation_subset import Analysis_simulation, magnitude\n",
    "import uproot\n",
    "import numpy as np\n",
    "from numpy import array, where, shape, reshape, pi\n",
    "\n",
    "import matplotlib\n",
    "import matplotlib.pyplot as plt\n",
    "from mpl_toolkits import mplot3d\n",
    "from mpl_toolkits.mplot3d import Axes3D\n",
    "from matplotlib import cm\n",
    "import seaborn as sn\n",
    "\n",
    "import pandas as pd"
   ]
  },
  {
   "cell_type": "markdown",
   "id": "834ab778-4e9c-4676-9ad4-45e5426a3897",
   "metadata": {},
   "source": [
    "# 1 - Extraer datos"
   ]
  },
  {
   "cell_type": "markdown",
   "id": "58630ffa-77a0-415f-bace-26d18ca5b36a",
   "metadata": {},
   "source": [
    "## 1.1 - datos simulados"
   ]
  },
  {
   "cell_type": "code",
   "execution_count": 2,
   "id": "d492b29e-9a87-43d8-a1ac-be5076c559bd",
   "metadata": {},
   "outputs": [
    {
     "data": {
      "text/plain": [
       "['T;7', 'T;6', 'pmt;2', 'pmt;1']"
      ]
     },
     "execution_count": 2,
     "metadata": {},
     "output_type": "execute_result"
    }
   ],
   "source": [
    "file = uproot.open(\"/snoplus simulations/electron bulk/center point/simu_Analysis_elec_z_2.5MeV.root\")\n",
    "file.keys()"
   ]
  },
  {
   "cell_type": "code",
   "execution_count": 3,
   "id": "ff8c4e34-0b95-4d3b-a9a7-d91954f4fc6f",
   "metadata": {
    "editable": true,
    "scrolled": true,
    "slideshow": {
     "slide_type": ""
    },
    "tags": []
   },
   "outputs": [],
   "source": [
    "data1 = file['T;7']\n",
    "#evtid = np.array(data1['mcID'])"
   ]
  },
  {
   "cell_type": "code",
   "execution_count": null,
   "id": "335ecd6e-be7c-4881-a8a1-42985ae6f3ee",
   "metadata": {
    "editable": true,
    "slideshow": {
     "slide_type": ""
    },
    "tags": []
   },
   "outputs": [
    {
     "name": "stdout",
     "output_type": "stream",
     "text": [
      "job: 0\n",
      "job: 1\n",
      "job: 2\n",
      "job: 3\n",
      "job: 4\n",
      "job: 5\n",
      "job: 6\n",
      "job: 7\n",
      "job: 8\n",
      "job: 9\n",
      "job: 10\n",
      "job: 11\n",
      "job: 12\n"
     ]
    }
   ],
   "source": [
    "#df = Analysis_simulation(file, [0,2,3,4])\n",
    "#ID_list = np.unique(evtid)\n",
    "df = Analysis_simulation(file)\n",
    "df.head()"
   ]
  },
  {
   "cell_type": "markdown",
   "id": "ca75f8c2-567c-41f5-a1bf-fb1edf5b2952",
   "metadata": {},
   "source": [
    "### 1.1.1 - Unify all Info"
   ]
  },
  {
   "cell_type": "code",
   "execution_count": null,
   "id": "31c2eaf5-195e-4313-ab2b-975fd2a32c13",
   "metadata": {
    "editable": true,
    "scrolled": true,
    "slideshow": {
     "slide_type": ""
    },
    "tags": []
   },
   "outputs": [],
   "source": [
    "#Info to be concatenated:\n",
    "\n",
    "multi_time_residual = np.array([])\n",
    "multi_pmt_ID = np.array([], dtype= np.int64)\n",
    "multi_cos_angle = np.array([])\n",
    "pmt_multi_ev_xyz = []\n",
    "pmt_multi_ev_sph = []\n",
    "\n",
    "\n",
    "job = (df['job']).to_numpy()\n",
    "\n",
    "#run over jobs\n",
    "for job_i in job:\n",
    "    print(job_i)\n",
    "    \n",
    "    job_n = df.loc[df['job'] == job_i]\n",
    "    \n",
    "    evtID_job = (job_n['eventID']).to_numpy()[0]\n",
    "    time_residual_job = (job_n['time residual']).to_numpy()[0]        #Time residual structure --> time_res[0][evID]\n",
    "    hitpmt_ID_job = (job_n['hitpmt ID']).to_numpy()[0]                #hitpmt_ID structure --> hitpmt_ID[0][evID]\n",
    "    xyz_hit = (job_n['PMT xyz']).to_numpy()[0]                        #coord structure --> xyz_hit [0][evID]\n",
    "    sph_hit = (job_n['PMT spherical']).to_numpy()[0]                  #coord structure --> sph_hit [0][evID]\n",
    "\n",
    "    # On each job, run over the mcIDs and extract info for each ID\n",
    "    for ID_i in np.unique(evtID_job):\n",
    "        \n",
    "        multi_time_residual = np.append(multi_time_residual, time_residual_job[ID_i]).ravel()\n",
    "        multi_pmt_ID = np.append(multi_pmt_ID, hitpmt_ID_job[ID_i]).ravel()\n",
    "        \n",
    "        xyz_hit_id = xyz_hit[ID_i]\n",
    "        sph_hit_id = sph_hit[ID_i]\n",
    "\n",
    "        #compute cos(α)\n",
    "        cos_id = []\n",
    "        N = np.shape(xyz_hit_id)[0]\n",
    "        vec_ev = np.array([0.0, 0.0, -1.0])\n",
    "        for k in range(N):\n",
    "            cos_val = np.dot(xyz_hit_id[k],vec_ev)/np.linalg.norm(xyz_hit_id[k])\n",
    "            cos_id.append(cos_val)\n",
    "        multi_cos_angle = np.append(multi_cos_angle, cos_id).ravel()\n"
   ]
  },
  {
   "cell_type": "markdown",
   "id": "d2f252db-3599-4a56-b174-04d3975a1271",
   "metadata": {},
   "source": [
    "### 1.1.2 - Check reconstruction Error"
   ]
  },
  {
   "cell_type": "markdown",
   "id": "adf99a75-1ae5-4829-bd3c-b4350f71346d",
   "metadata": {},
   "source": [
    "recons_error = np.array(df['reconst error'])\n",
    "\n",
    "matplotlib.rcdefaults()\n",
    "\n",
    "plt.figure(figsize=(30,10))\n",
    "plt.title('Error of Reconstruction |r - r´|')\n",
    "plt.ylabel('error (mm)')\n",
    "plt.xlabel('mcID')\n",
    "\n",
    "plt.plot(recons_error)\n",
    "plt.grid()\n",
    "#plt.xticks(ID)\n",
    "plt.show()"
   ]
  },
  {
   "cell_type": "markdown",
   "id": "c49a61a4-3c0a-41d1-9245-0f1e5a2a6e52",
   "metadata": {},
   "source": [
    "## 1.2 - calculo de observable $cos(\\alpha)$\n",
    "\n",
    "- calculo del coseno via la definición de producto escalar;\n",
    "- Uso las funciones de numpy np.dot() para calcular producto escalar y np.linalg.norm() para calcular la norma de los vectores"
   ]
  },
  {
   "cell_type": "markdown",
   "id": "bd300824-e1d7-4e36-be32-69bbbc6700d6",
   "metadata": {},
   "source": [
    "# event direction:\n",
    "vec_ev = np.array([0.0, 0.0, -1.0])\n",
    "\n",
    "#proof\n",
    "print('scalar product', np.dot(vec_ev,vec_ev))\n",
    "print('norm',np.linalg.norm(vec_ev))"
   ]
  },
  {
   "cell_type": "markdown",
   "id": "f45afaf5-8430-4235-b714-7bc164ad9b2e",
   "metadata": {
    "scrolled": true
   },
   "source": [
    "# extract the xyz_hit_coordinantes_type1 and time_residuals of ev_id = ?\n",
    "ID = 3\n",
    "evt_id_n = df.loc[df['eventID'] == ID]\n",
    "\n",
    "#pmt_id = (evt_id_n['hitpmt ID']).to_numpy()[0]\n",
    "xyz_hit = (evt_id_n['PMT xyz']).to_numpy()[0]\n",
    "xyz_hit_1 = (evt_id_n['xyz hit 1']).to_numpy()[0][0]\n",
    "xyz_hit_2 = (evt_id_n['xyz hit 2']).to_numpy()[0][0]\n",
    "\n",
    "time_residual_hit1 = (evt_id_n['time residual hit 1']).to_numpy()[0]\n",
    "time_residual = (evt_id_n['time residual']).to_numpy()[0]"
   ]
  },
  {
   "cell_type": "markdown",
   "id": "47656a0a-6d11-48ad-aee8-07f829186c99",
   "metadata": {
    "scrolled": true
   },
   "source": [
    "xyz_hit[0]"
   ]
  },
  {
   "cell_type": "markdown",
   "id": "3b938210-c502-4b66-9370-bdf5f1b4b784",
   "metadata": {},
   "source": [
    "#Compute cos(angle)\n",
    "vec_ev = np.array([0.0, 0.0, -1.0])\n",
    "cos_angle = np.array([])\n",
    "\n",
    "N = shape(xyz_hit)[0] \n",
    "for i in range(N):\n",
    "    cos_val = np.dot(xyz_hit[i],vec_ev)/np.linalg.norm(xyz_hit[i])\n",
    "    cos_angle = np.append(cos_angle, cos_val)\n",
    "cos_angle"
   ]
  },
  {
   "cell_type": "markdown",
   "id": "8e2ecc16-f682-4690-94f7-f8069be0dd3e",
   "metadata": {},
   "source": [
    "# 2 - Gráficos"
   ]
  },
  {
   "cell_type": "markdown",
   "id": "82623a0c-a4b0-4769-9656-ecaa3f62778c",
   "metadata": {},
   "source": [
    "## 2.1 - 2D histogram"
   ]
  },
  {
   "cell_type": "code",
   "execution_count": 9,
   "id": "59d7659b-9e72-43a4-a6e5-512fa00fbfbc",
   "metadata": {},
   "outputs": [
    {
     "data": {
      "image/png": "[encoded data removed]",
      "text/plain": [
       "<Figure size 800x800 with 2 Axes>"
      ]
     },
     "metadata": {},
     "output_type": "display_data"
    }
   ],
   "source": [
    "title = 'cos(α) - evtID = 3 - 10MeV'\n",
    "\n",
    "plt.figure(figsize=(8,8))\n",
    "sn.set_style(rc = {'axes.facecolor': 'black'})\n",
    "sn.histplot(x = multi_cos_angle, y = multi_time_residual, bins = [30,30], stat='count', cbar = 'True', cmap = cm.nipy_spectral)\n",
    "plt.ylabel('time res.')\n",
    "plt.xlabel('cos(α)')\n",
    "plt.title(title)\n",
    "\n",
    "#equal acis ration\n",
    "#ax = plt.gca()\n",
    "#ax.set_aspect('equal', adjustable='box')\n",
    "plt.show()"
   ]
  },
  {
   "cell_type": "markdown",
   "id": "74266dd0-c685-4faa-a9d3-bf093b3c6bf4",
   "metadata": {
    "jp-MarkdownHeadingCollapsed": true
   },
   "source": [
    "## 2.2 - 3D histogram"
   ]
  },
  {
   "cell_type": "markdown",
   "id": "423b860e-16f4-4702-ad40-adde277c5b55",
   "metadata": {
    "scrolled": true
   },
   "source": [
    "#importing the libraries\n",
    "%matplotlib\n",
    "import numpy as np\n",
    "from matplotlib import pyplot as plt\n",
    "from matplotlib import style\n",
    "\n",
    "import matplotlib as mpl\n",
    "mpl.rcParams.update(mpl.rcParamsDefault)\n",
    "\n",
    "#extract count of events\n",
    "counts, x_bin_edges, y_bin_edges = np.histogram2d(x = cos_angle, y = time_residual, bins = [30, 30]) #PROBLEMA! No me deja usar nº diferente de bins\n",
    "\n",
    "#Obtain coordinates of bins ---------------------------------\n",
    "x_bin = [] # x_bin coordinate\n",
    "y_bin = [] # y_bin coordinate\n",
    "\n",
    "Nx = len(x_bin_edges)\n",
    "Ny = len(y_bin_edges)\n",
    "\n",
    "for (x_i, y_i) in zip(range(Nx-1), range(Ny-1)):\n",
    "    mid_point_x = (x_bin_edges[x_i] + x_bin_edges[x_i+1])/2\n",
    "    mid_point_y = (y_bin_edges[x_i] + y_bin_edges[x_i+1])/2\n",
    "    \n",
    "    x_bin.append(mid_point_x)\n",
    "    y_bin.append(mid_point_y)\n",
    "#----------------------------------------------------------------\n",
    "\n",
    "xx, yy = np.meshgrid(x_bin, y_bin)\n",
    "\n",
    "x, y = xx.ravel(), yy.ravel()\n",
    "z = 0\n",
    "\n",
    "bin_width_x = x_bin_edges[1] - x_bin_edges[0]\n",
    "bin_width_y = y_bin_edges[1] - y_bin_edges[0]\n",
    "\n",
    "dx = bin_width_x\n",
    "dy = bin_width_y\n",
    "dz = counts.T.ravel()\n",
    "\n",
    "#plotting 3D bars\n",
    "#more style: https://matplotlib.org/stable/gallery/style_sheets/style_sheets_reference.html\n",
    "style.use('seaborn-v0_8-colorblind')\n",
    "fig = plt.figure()\n",
    "ax = fig.add_subplot(111, projection='3d')\n",
    "#colors: https://matplotlib.org/stable/gallery/color/named_colors.html\n",
    "ax.bar3d(x, y, z, dx, dy, dz, color='cornflowerblue' )\n",
    "ax.view_init(elev=24., azim=-33)\n",
    "\n",
    "ax.set_xlabel('cos(α)')\n",
    "ax.set_ylabel('time residual')\n",
    "ax.set_zlabel('Counts')\n",
    "plt.show()\n",
    "\n",
    "#plt.savefig('proof.png', format='png')"
   ]
  },
  {
   "cell_type": "markdown",
   "id": "16ed22a6-6f6b-43f9-b7ba-93e373754351",
   "metadata": {
    "jp-MarkdownHeadingCollapsed": true
   },
   "source": [
    "### 2.2.1 - 3D plot con cortes en time residual"
   ]
  },
  {
   "cell_type": "markdown",
   "id": "fe9f858c-0582-497c-bc86-00baa3d8a6f8",
   "metadata": {},
   "source": [
    "inf_cut = -5\n",
    "up_cut = 30\n",
    "\n",
    "time_residual_cut = np.array([]) \n",
    "cos_angle_cut = np.array([])                                  \n",
    "\n",
    "#cuts\n",
    "for i in np.where((np.array(time_residual) > inf_cut) & (np.array(time_residual) < up_cut))[0]:\n",
    "    time_residual_cut = np.append(time_residual_cut, time_residual[i])\n",
    "    cos_angle_cut = np.append(cos_angle_cut, cos_angle[i])\n",
    "\n",
    "counts, x_bin_edges, y_bin_edges = np.histogram2d(x = cos_angle_cut, y = time_residual_cut, bins = [50, 50])\n",
    "\n",
    "#Obtain coordinates of bins ---------------------------------\n",
    "x_bin = []\n",
    "y_bin = []\n",
    "\n",
    "Nx = len(x_bin_edges)\n",
    "Ny = len(y_bin_edges)\n",
    "\n",
    "for (x_i, y_i) in zip(range(Nx-1), range(Ny-1)):\n",
    "    mid_point_x = (x_bin_edges[x_i] + x_bin_edges[x_i+1])/2\n",
    "    mid_point_y = (y_bin_edges[x_i] + y_bin_edges[x_i+1])/2\n",
    "    \n",
    "    x_bin.append(mid_point_x)\n",
    "    y_bin.append(mid_point_y)\n",
    "#----------------------------------------------------------------\n",
    "\n",
    "xx, yy = np.meshgrid(x_bin, y_bin)\n",
    "\n",
    "x, y = xx.ravel(), yy.ravel()\n",
    "z = 0\n",
    "\n",
    "bin_width_x = x_bin_edges[1] - x_bin_edges[0]\n",
    "bin_width_y = y_bin_edges[1] - y_bin_edges[0]\n",
    "\n",
    "dx = bin_width_x\n",
    "dy = bin_width_y\n",
    "dz = counts.T.ravel()\n",
    "\n",
    "#plotting 3D bars\n",
    "#more style: https://matplotlib.org/stable/gallery/style_sheets/style_sheets_reference.html\n",
    "style.use('seaborn-v0_8-colorblind')\n",
    "fig = plt.figure()\n",
    "ax = fig.add_subplot(111, projection='3d')\n",
    "#colors: https://matplotlib.org/stable/gallery/color/named_colors.html\n",
    "ax.bar3d(x, y, z, dx, dy, dz, color='cornflowerblue' )\n",
    "ax.view_init(elev=24., azim=-33)\n",
    "\n",
    "title = 'Hit type 1 - cut - evID = ' + str(ID) + ' - 10MeV ' \n",
    "x_title = ' cos(α) '\n",
    "y_title = ' time residual '\n",
    "z_title = 'Counts'\n",
    "\n",
    "plt.title(title)\n",
    "ax.set_xlabel(x_title)\n",
    "ax.set_ylabel(y_title)\n",
    "ax.set_zlabel(z_title)\n",
    "\n",
    "plt.show()"
   ]
  },
  {
   "cell_type": "markdown",
   "id": "cbbbb08c-3802-40aa-b971-f9dddc4e8164",
   "metadata": {
    "jp-MarkdownHeadingCollapsed": true
   },
   "source": [
    "## 2.3 Superposition 2D histograms: Multiples evIDs"
   ]
  },
  {
   "cell_type": "markdown",
   "id": "3d68c6e9-5a4b-4219-bfdb-04a6233d3557",
   "metadata": {
    "scrolled": true
   },
   "source": [
    "##### extract the xyz_hit_coordinantes and time_residuals of ev_id\n",
    "\n",
    "multi_cos_angle = []\n",
    "multi_time_residual = np.array([])\n",
    "multi_pmt_ID = np.array([], dtype= np.int64)\n",
    "\n",
    "vec_ev = np.array([0.0, 0.0, -1.0])\n",
    "\n",
    "for id_x in ID_list:\n",
    "    evt_id_n = df.loc[df['eventID'] == id_x]\n",
    "    time_residual_id = (evt_id_n['time residual']).to_numpy()[0]\n",
    "    xyz_hit_id = (evt_id_n['PMT xyz']).to_numpy()[0]\n",
    "    pmt_id = (evt_id_n['hitpmt ID']).to_numpy()[0]\n",
    "    \n",
    "    multi_time_residual = np.append(multi_time_residual, time_residual_id).ravel()\n",
    "    multi_pmt_ID = np.append(multi_pmt_ID, pmt_id).ravel()\n",
    "    \n",
    "    #xyz_hit_1 = (evt_id_n['xyz hit 1']).to_numpy()[0][0]\n",
    "    #xyz_hit_2 = (evt_id_n['xyz hit 2']).to_numpy()[0][0]\n",
    "    #time_residual_hit1 = (evt_id_n['time residual hit 1']).to_numpy()[0]\n",
    "\n",
    "    #compute cos(alpha)\n",
    "    N = shape(xyz_hit_id)[0]\n",
    "    for k in range(N):\n",
    "        cos_val = np.dot(xyz_hit_id[k],vec_ev)/np.linalg.norm(xyz_hit_id[k])\n",
    "        multi_cos_angle.append(cos_val)"
   ]
  },
  {
   "cell_type": "code",
   "execution_count": 10,
   "id": "f4c845ed-488e-4fef-9e53-5cd4862258f7",
   "metadata": {},
   "outputs": [],
   "source": [
    "# Time residual cuts\n",
    "\n",
    "up_cut = 4\n",
    "inf_cut = -5\n",
    "\n",
    "multi_time_res_cut = []\n",
    "multi_cos_angle_cut = []\n",
    "multi_pmt_ID_cut = []\n",
    "\n",
    "for i in np.where((multi_time_residual > inf_cut) & (multi_time_residual < up_cut))[0]:\n",
    "\n",
    "    multi_time_res_cut.append(multi_time_residual[i])\n",
    "    multi_cos_angle_cut.append(multi_cos_angle[i])\n",
    "    multi_pmt_ID_cut.append(multi_pmt_ID[i])\n"
   ]
  },
  {
   "cell_type": "code",
   "execution_count": 12,
   "id": "2275e4b3-d93d-4958-b089-674621246d37",
   "metadata": {},
   "outputs": [
    {
     "name": "stdout",
     "output_type": "stream",
     "text": [
      "Using matplotlib backend: TkAgg\n"
     ]
    }
   ],
   "source": [
    "%matplotlib\n",
    "# 2d Histogram\n",
    "title = 'cos(α) - Multiple evID - 5MeV'\n",
    "\n",
    "plt.figure(figsize=(8,8))\n",
    "sn.set_style(rc = {'axes.facecolor': 'black'})\n",
    "sn.histplot(x = multi_cos_angle_cut, y = multi_time_res_cut, bins = [30,30], stat='count', cbar = 'True', cmap = cm.nipy_spectral)\n",
    "plt.ylabel('time res.')\n",
    "plt.xlabel('cos(α)')\n",
    "plt.title(title)\n",
    "\n",
    "#equal acis ration\n",
    "#ax = plt.gca()\n",
    "#ax.set_aspect('equal', adjustable='box')\n",
    "plt.show()"
   ]
  },
  {
   "cell_type": "markdown",
   "id": "23f08ab4-2134-4168-9c5f-a7b30b189ece",
   "metadata": {},
   "source": [
    "## 2.4 Extract and Plot PMTs giving Cherenkov"
   ]
  },
  {
   "cell_type": "markdown",
   "id": "e5587b77-3ee3-4339-a64d-00e490bf8fe5",
   "metadata": {},
   "source": [
    "### 2.4.1 PMT Information"
   ]
  },
  {
   "cell_type": "code",
   "execution_count": 13,
   "id": "c5b5b4cb-ec9b-4a3d-b54c-4e103020f462",
   "metadata": {},
   "outputs": [
    {
     "data": {
      "text/plain": [
       "['pmt_id', 'pmt_pos_xyz', 'pmt_pos_sph', 'pmt_type']"
      ]
     },
     "execution_count": 13,
     "metadata": {},
     "output_type": "execute_result"
    }
   ],
   "source": [
    "pmt_info = file['pmt;1']\n",
    "pmt_info.keys()"
   ]
  },
  {
   "cell_type": "code",
   "execution_count": 14,
   "id": "79d1f6a9-d6c9-4c55-9d96-469044a4f072",
   "metadata": {},
   "outputs": [],
   "source": [
    "pmt_id = array(pmt_info['pmt_id'])\n",
    "pmt_pos_xyz = array(pmt_info['pmt_pos_xyz'])\n",
    "pmt_pos_sph = array(pmt_info['pmt_pos_sph'])\n",
    "pmt_type = array(pmt_info['pmt_type'])"
   ]
  },
  {
   "cell_type": "markdown",
   "id": "38f163ba-aa79-4dc2-a26b-971ae6df99ec",
   "metadata": {},
   "source": [
    "Recuerda, el ID del PMT coincide con el indice de su posición en la lista de coordenadas de PMT"
   ]
  },
  {
   "cell_type": "code",
   "execution_count": 15,
   "id": "84462aea-c2f0-4adb-b2d2-ab5a06374c1e",
   "metadata": {
    "scrolled": true
   },
   "outputs": [],
   "source": [
    "pmt_multi_ev_xyz = []\n",
    "pmt_multi_ev_sph = []\n",
    "\n",
    "for i_dx in multi_pmt_ID_cut:\n",
    "    pmt_multi_ev_xyz.append(pmt_pos_xyz[i_dx])\n",
    "    pmt_multi_ev_sph.append(pmt_pos_sph[i_dx])\n",
    "\n",
    "pmt_multi_ev_xyz = np.array(pmt_multi_ev_xyz)\n",
    "pmt_multi_ev_sph = np.array(pmt_multi_ev_sph)"
   ]
  },
  {
   "cell_type": "code",
   "execution_count": 16,
   "id": "ae04b350-ef03-4b81-8b63-639e20ff3b1c",
   "metadata": {
    "scrolled": true
   },
   "outputs": [],
   "source": [
    "#cartesian\n",
    "x_multi_ev = pmt_multi_ev_xyz[:,0]\n",
    "y_multi_ev = pmt_multi_ev_xyz[:,1]\n",
    "z_multi_ev = pmt_multi_ev_xyz[:,2]\n",
    "\n",
    "#spherical\n",
    "zenit_multi_ev = pmt_multi_ev_sph[:,0]\n",
    "azimut_multi_ev = pmt_multi_ev_sph[:,1]"
   ]
  },
  {
   "cell_type": "code",
   "execution_count": 17,
   "id": "77c708c7-43e6-413b-af70-c03df539d626",
   "metadata": {},
   "outputs": [
    {
     "data": {
      "text/plain": [
       "496270"
      ]
     },
     "execution_count": 17,
     "metadata": {},
     "output_type": "execute_result"
    }
   ],
   "source": [
    "len(x_multi_ev)"
   ]
  },
  {
   "cell_type": "markdown",
   "id": "5e1329a4-a462-423b-bba1-29e189835dab",
   "metadata": {},
   "source": [
    "### 2.4.2 Plot PMTs"
   ]
  },
  {
   "cell_type": "markdown",
   "id": "4f914582-3e51-448c-baf8-94c7738b1227",
   "metadata": {},
   "source": [
    "#### Angular Plot"
   ]
  },
  {
   "cell_type": "code",
   "execution_count": 18,
   "id": "4e80280b-aefa-4f00-b130-8b3e8c62c8e9",
   "metadata": {},
   "outputs": [],
   "source": [
    "bins = 25\n",
    "title = '$φ(cos(θ)$ angular distribution - Multi EV - 10MeV - cut'\n",
    "x_title = 'cos(zenith)'\n",
    "y_title = 'azimuth'\n",
    "\n",
    "plt.figure(figsize=(8,8))\n",
    "plt.hist2d(x = np.cos(zenit_multi_ev), y = azimut_multi_ev, bins = [bins,bins], density = True)\n",
    "plt.xlabel(x_title)\n",
    "plt.ylabel(y_title)\n",
    "plt.title(title)\n",
    "\n",
    "plt.show()"
   ]
  },
  {
   "cell_type": "markdown",
   "id": "9ace0a9e-3851-4e21-bf89-c492955d3e04",
   "metadata": {},
   "source": [
    "#### 3D cartesian plot"
   ]
  },
  {
   "cell_type": "code",
   "execution_count": 19,
   "id": "428bd9dd-23fc-4a57-b717-e534cff54844",
   "metadata": {},
   "outputs": [
    {
     "name": "stderr",
     "output_type": "stream",
     "text": [
      "No artists with labels found to put in legend.  Note that artists whose label start with an underscore are ignored when legend() is called with no argument.\n"
     ]
    }
   ],
   "source": [
    "import matplotlib as mpl\n",
    "mpl.rcParams.update(mpl.rcParamsDefault)\n",
    "\n",
    "fig = plt.figure(figsize = (10,10))\n",
    "ax = fig.add_subplot(projection='3d')\n",
    "\n",
    "ax.scatter(x_multi_ev, y_multi_ev, z_multi_ev, c = 'blue', s = 1)\n",
    "#ax.scatter(x_hit_2, y_hit_2, z_hit_2, c = 'r', s = 5, label = 'SCINT')\n",
    "#ax.scatter(x_vertex, y_vertex, z_vertex, c = 'g', s = 10, label = 'VERTEX')\n",
    "plt.legend()\n",
    "\n",
    "ax.axes.set_xlim3d(left=-9000, right=9000) \n",
    "ax.axes.set_ylim3d(bottom=-9000, top=9000) \n",
    "ax.axes.set_zlim3d(bottom=-9000, top=9000) \n",
    "\n",
    "plt.show()"
   ]
  },
  {
   "cell_type": "code",
   "execution_count": 80,
   "id": "ced3285f-2cfa-4f23-b83f-16bef4b0cf17",
   "metadata": {},
   "outputs": [
    {
     "data": {
      "text/plain": [
       "array([[ -590.79,  8176.05, -1561.49],\n",
       "       [-2919.72,  1646.2 , -7709.78],\n",
       "       [  364.87,  8337.09,  1018.02],\n",
       "       ...,\n",
       "       [ 7761.61,  2677.09,  1901.15],\n",
       "       [ 6457.76,  5274.93,  1071.42],\n",
       "       [-4593.05,  6858.03, -1640.88]])"
      ]
     },
     "execution_count": 80,
     "metadata": {},
     "output_type": "execute_result"
    }
   ],
   "source": [
    "pmt_multi_ev_xyz"
   ]
  },
  {
   "cell_type": "code",
   "execution_count": null,
   "id": "2d7e94de-85ef-4ed0-a952-367db223ed2d",
   "metadata": {},
   "outputs": [],
   "source": []
  }
 ],
 "metadata": {
  "kernelspec": {
   "display_name": "Python 3 (ipykernel)",
   "language": "python",
   "name": "python3"
  },
  "language_info": {
   "codemirror_mode": {
    "name": "ipython",
    "version": 3
   },
   "file_extension": ".py",
   "mimetype": "text/x-python",
   "name": "python",
   "nbconvert_exporter": "python",
   "pygments_lexer": "ipython3",
   "version": "3.12.2"
  }
 },
 "nbformat": 4,
 "nbformat_minor": 5
}
