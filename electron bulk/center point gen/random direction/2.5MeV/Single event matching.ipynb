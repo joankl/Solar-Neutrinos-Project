{
 "cells": [
  {
   "cell_type": "code",
   "execution_count": 1,
   "id": "3b6eff3c-b403-46dc-b8ea-420a83310d82",
   "metadata": {},
   "outputs": [],
   "source": [
    "import cv2 as cv\n",
    "import uproot\n",
    "import numpy as np\n",
    "\n",
    "import matplotlib\n",
    "import matplotlib.pyplot as plt\n",
    "from matplotlib import cm\n",
    "\n",
    "import seaborn as sn"
   ]
  },
  {
   "cell_type": "code",
   "execution_count": 2,
   "id": "5557ae2b-bd55-4874-affe-1a650a06e757",
   "metadata": {},
   "outputs": [],
   "source": [
    "def magnitude(vector): \n",
    "    #Funcion para calcular radio de eventos al centro del detector\n",
    "    \n",
    "    norm = []\n",
    "    for vec in vector:\n",
    "    \tnorm.append(np.linalg.norm(vec))\n",
    "\n",
    "    return np.array(norm, dtype = np.float32)"
   ]
  },
  {
   "cell_type": "markdown",
   "id": "cc4d3352-f4dd-4813-90c7-bb6d92a6dbd6",
   "metadata": {},
   "source": [
    "# 1 - Extraer datos"
   ]
  },
  {
   "cell_type": "code",
   "execution_count": 3,
   "id": "4c8d8c36-dad0-4dba-accb-87cf9c3379bc",
   "metadata": {},
   "outputs": [
    {
     "data": {
      "text/plain": [
       "['T;34', 'T;33', 'pmt;2', 'pmt;1']"
      ]
     },
     "execution_count": 3,
     "metadata": {},
     "output_type": "execute_result"
    }
   ],
   "source": [
    "file = uproot.open(\"/snoplus simulations/electron bulk/center point/random direction/High Statistic/simu_Analysis_elec_2.5MeV.root\")\n",
    "file.keys()"
   ]
  },
  {
   "cell_type": "code",
   "execution_count": 4,
   "id": "750f537e-47c8-4bb6-92d1-a50e2e5528da",
   "metadata": {},
   "outputs": [
    {
     "data": {
      "text/plain": [
       "['pmt_id', 'pmt_pos_xyz', 'pmt_pos_sph', 'pmt_type']"
      ]
     },
     "execution_count": 4,
     "metadata": {},
     "output_type": "execute_result"
    }
   ],
   "source": [
    "pmt_info = file['pmt;1']\n",
    "pmt_info.keys()"
   ]
  },
  {
   "cell_type": "code",
   "execution_count": 5,
   "id": "ba82c895-0137-4371-9998-eaa6b7ab992f",
   "metadata": {
    "scrolled": true
   },
   "outputs": [
    {
     "data": {
      "text/plain": [
       "['evtid',\n",
       " 'mcID',\n",
       " 'energy',\n",
       " 'mc_position',\n",
       " 'mc_momentum',\n",
       " 'position',\n",
       " 'momentum',\n",
       " 'hit_pmtid',\n",
       " 'hit_pmttime',\n",
       " 'hit_residual',\n",
       " 'hit_type']"
      ]
     },
     "execution_count": 5,
     "metadata": {},
     "output_type": "execute_result"
    }
   ],
   "source": [
    "data1 = file['T;34']\n",
    "data1.keys()"
   ]
  },
  {
   "cell_type": "markdown",
   "id": "3784cc47-5aa7-46e8-8179-cac2208c7e43",
   "metadata": {},
   "source": [
    "## 1.1 - EV info"
   ]
  },
  {
   "cell_type": "code",
   "execution_count": 6,
   "id": "da311b3a-62dc-4044-9165-10f96f1f1c6c",
   "metadata": {},
   "outputs": [],
   "source": [
    "#evtid = np.array(data1['evtid'], dtype = np.int16)\n",
    "mcID = np.array(data1['mcID'], dtype = np.int16)\n",
    "energy = np.array(data1['energy'])\n",
    "#mc_position = np.array(data1['mc_position'])   #-> Position Generation\n",
    "mc_momentum = np.array(data1['mc_momentum'])   #-> IMPORTANT: Direction of simulated event\n",
    "position = np.array(data1['position'])        \n",
    "hit_pmtid = np.array(data1['hit_pmtid'], dtype = np.int16)\n",
    "time_residual = np.array(data1['hit_residual'])\n",
    "hit_type = np.array(data1['hit_type'], dtype = np.int16)"
   ]
  },
  {
   "cell_type": "markdown",
   "id": "e008743c-8665-455e-8a57-101647691ae2",
   "metadata": {},
   "source": [
    "## 1.2 - PMT info"
   ]
  },
  {
   "cell_type": "code",
   "execution_count": 7,
   "id": "db561942-f0ef-49fa-ae2c-0c4519fc649a",
   "metadata": {},
   "outputs": [],
   "source": [
    "pmt_id = np.array(pmt_info['pmt_id'], dtype = np.int16)\n",
    "pmt_pos_xyz = np.array(pmt_info['pmt_pos_xyz'])\n",
    "pmt_pos_sph = np.array(pmt_info['pmt_pos_sph'])\n",
    "pmt_type = np.array(pmt_info['pmt_type'], dtype = np.int16)"
   ]
  },
  {
   "cell_type": "markdown",
   "id": "cd796ce7-84b2-4583-ab6d-83a1f2466e2c",
   "metadata": {},
   "source": [
    "# 2 - Select Data"
   ]
  },
  {
   "cell_type": "markdown",
   "id": "fd5305e7-3ff4-4205-8fce-ace6fbaa59be",
   "metadata": {},
   "source": [
    "## 2.1 - Extract  valid PMT id"
   ]
  },
  {
   "cell_type": "code",
   "execution_count": 8,
   "id": "25654253-3985-471d-98ca-0cd2de136475",
   "metadata": {},
   "outputs": [
    {
     "data": {
      "text/plain": [
       "array([       0,        1,        2, ..., 72087723, 72087724, 72087725],\n",
       "      dtype=int64)"
      ]
     },
     "execution_count": 8,
     "metadata": {},
     "output_type": "execute_result"
    }
   ],
   "source": [
    "valid_pmt_id = np.array(np.where(pmt_type == 1)[0])   # PMT valid ID match with index of where pmt_type=1\n",
    "\n",
    "valid_id_info_ev_i = np.array(np.where(np.in1d(hit_pmtid, valid_pmt_id))[0])\n",
    "valid_id_info_ev_i"
   ]
  },
  {
   "cell_type": "markdown",
   "id": "41b0b7f4-dbe7-4527-a5c6-f60c8e88db90",
   "metadata": {},
   "source": [
    "### 2.1.1 - Extraer información valida de PMT info"
   ]
  },
  {
   "cell_type": "code",
   "execution_count": 9,
   "id": "eee64e88-5f71-48e8-970b-1dd5a2c28c45",
   "metadata": {},
   "outputs": [],
   "source": [
    "valid_pmt_xyz = []\n",
    "\n",
    "for i_dx in valid_pmt_id:\n",
    "    valid_pmt_xyz.append(pmt_pos_xyz[i_dx])\n",
    "valid_pmt_xyz = np.array(valid_pmt_xyz)"
   ]
  },
  {
   "cell_type": "markdown",
   "id": "0149174c-7c6d-4130-91b9-91eee6c83861",
   "metadata": {},
   "source": [
    "## 2.2 - Extracción y cortes en Datos de Eventos Validos"
   ]
  },
  {
   "cell_type": "code",
   "execution_count": 10,
   "id": "48431595-6eb4-42b3-96df-62324be1debd",
   "metadata": {},
   "outputs": [
    {
     "name": "stdout",
     "output_type": "stream",
     "text": [
      "slipt nº: 0\n",
      "computing cos(alpha)\n",
      "doing time residual cuts\n",
      "slipt nº: 1\n",
      "computing cos(alpha)\n",
      "doing time residual cuts\n",
      "slipt nº: 2\n",
      "computing cos(alpha)\n",
      "doing time residual cuts\n",
      "slipt nº: 3\n",
      "computing cos(alpha)\n",
      "doing time residual cuts\n",
      "slipt nº: 4\n",
      "computing cos(alpha)\n",
      "doing time residual cuts\n"
     ]
    }
   ],
   "source": [
    "#params to adjust the cuts--------------------------------------------\n",
    "#Split Data\n",
    "split = 5\n",
    "#time cut\n",
    "inf_cut = -5\n",
    "up_cut = 15\n",
    "\n",
    "#radial cut\n",
    "radi_cut_method = False   #If true, apply radial cuts given by rad_cut_val to data\n",
    "rad_cut_val = 5500.0\n",
    "#--------------------------------------------------------------------------\n",
    "\n",
    "\n",
    "# Dividir valid_id_info_ev_i en partes\n",
    "valid_info_ev_split = np.array_split(valid_id_info_ev_i, split)  #---> split(array, parts)\n",
    "\n",
    "#variables to save: with time residual cuts and radi cut (radi cut is optional, depends on the simulation)\n",
    "multi_time_residual_cut = []\n",
    "multi_cos_angle_cut = []\n",
    "#multi_position_cut = []\n",
    "#multi_mc_momentum_cut = []\n",
    "multi_mc_ID_cut = []\n",
    "\n",
    "#loop over valid_info_ev_split\n",
    "for n_loop, split_array in enumerate(valid_info_ev_split):\n",
    "    print('slipt nº:', n_loop)\n",
    "    # extract all valid simulated info \n",
    "    multi_mc_ID = []\n",
    "    multi_time_residual = []\n",
    "    multi_pmt_id_hit = []\n",
    "    #multi_position = []\n",
    "    #multi_mc_position = []\n",
    "    multi_mc_momentum = []   \n",
    "    multi_xyz_hit = []\n",
    "\n",
    "    for valid_i in split_array:\n",
    "        multi_mc_ID.append(mcID[valid_i])\n",
    "        multi_time_residual.append(time_residual[valid_i])\n",
    "        multi_pmt_id_hit.append(hit_pmtid[valid_i])\n",
    "        #multi_position.append(position[valid_i])\n",
    "        #multi_mc_position.append(mc_position[valid_i])\n",
    "        multi_mc_momentum.append(mc_momentum[valid_i])\n",
    "    multi_time_residual = np.array(multi_time_residual)\n",
    "    multi_pmt_id_hit = np.array(multi_pmt_id_hit)\n",
    "    #multi_position = np.array(multi_position)\n",
    "\n",
    "    for id_i in multi_pmt_id_hit:\n",
    "        multi_xyz_hit.append(pmt_pos_xyz[id_i])\n",
    "    multi_xyz_hit = np.array(multi_xyz_hit)\n",
    "\n",
    "    #Radial Cut:\n",
    "    if radi_cut_method == True:\n",
    "        print('In radi_cut, split nº: ', n_loop)\n",
    "        #mc_position_norm = magnitude(multi_mc_position)\n",
    "        position_norm = magnitude(multi_position)\n",
    "        max_radi = rad_cut_val\n",
    "        radi_condition = (position_norm < max_radi)\n",
    "        index_cut_radi = np.array(np.where(radi_condition)[0])\n",
    "\n",
    "        #variables to extract\n",
    "        multi_time_residual = np.extract(radi_condition, multi_time_residual)\n",
    "        multi_pmt_id_hit = np.extract(radi_condition, multi_pmt_id_hit)\n",
    "\n",
    "        multi_mc_ID_radi_cut = []\n",
    "        multi_mc_momentum_radi_cut = []\n",
    "        multi_position_radi_cut = []\n",
    "        multi_xyz_hit_radi_cut = [] \n",
    "\n",
    "        for j_dx in index_cut_radi:\n",
    "            multi_mc_momentum_radi_cut.append(multi_mc_momentum[j_dx])\n",
    "            multi_position_radi_cut.append(multi_position[j_dx])          #HERE\n",
    "            multi_mc_ID_radi_cut.append(multi_mc_ID[j_dx])\n",
    "\n",
    "        for id_i in multi_pmt_id_hit:\n",
    "            multi_xyz_hit_radi_cut.append(pmt_pos_xyz[id_i])\n",
    "\n",
    "        multi_mc_ID = multi_mc_ID_radi_cut\n",
    "        multi_mc_momentum = multi_mc_momentum_radi_cut   #HERE\n",
    "        multi_position = multi_position_radi_cut\n",
    "        multi_xyz_hit = multi_xyz_hit_radi_cut\n",
    "        \n",
    "        #freed memory\n",
    "        multi_mc_ID_radi_cut = None\n",
    "        multi_mc_momentum_radi_cut = None\n",
    "        multi_position_radi_cut = None\n",
    "        multi_xyz_hit_radi_cut = None\n",
    "        radi_condition = None\n",
    "        index_cut_radi = None\n",
    "        \n",
    "    #cos(alpha) calculation -> Uses the definition of scalar product\n",
    "    multi_cos_angle = []\n",
    "    N = np.shape(multi_xyz_hit)[0]\n",
    "\n",
    "    print('computing cos(alpha)')\n",
    "    for k in range(N):\n",
    "        #event_direction = np.array([0,0,-1])\n",
    "        event_direction = multi_mc_momentum[k]\n",
    "        scalar_product = np.dot(multi_xyz_hit[k], event_direction)\n",
    "        norm_1 = np.linalg.norm(event_direction)\n",
    "        norm_2 = np.linalg.norm(multi_xyz_hit[k])\n",
    "        cos_val = scalar_product/(norm_1*norm_2)\n",
    "        \n",
    "        multi_cos_angle.append(cos_val)\n",
    "\n",
    "    #Time residual cut:\n",
    "    print('doing time residual cuts')\n",
    "    for i in np.where((multi_time_residual > inf_cut) & (multi_time_residual < up_cut))[0]:\n",
    "        multi_time_residual_cut.append(multi_time_residual[i])\n",
    "        multi_cos_angle_cut.append(multi_cos_angle[i])\n",
    "        #multi_position_cut.append(multi_position[i])\n",
    "        #multi_mc_momentum_cut.append(multi_mc_momentum[i])\n",
    "        multi_mc_ID_cut.append(multi_mc_ID[i])\n",
    "\n",
    "    #freed memory\n",
    "    multi_cos_angle = None\n",
    "\n",
    "    #freen memory:    \n",
    "    multi_mc_ID = None\n",
    "    multi_time_residual = None\n",
    "    multi_pmt_id_hit = None\n",
    "    multi_position = None\n",
    "    multi_mc_position = None\n",
    "    multi_mc_momentum = None\n",
    "    multi_xyz_hit = None\n",
    "    \n",
    "#multi_position_cut = np.array(multi_position_cut)\n",
    "#multi_mc_momentum_cut = np.array(multi_mc_momentum_cut)\n",
    "multi_mc_ID_cut = np.array(multi_mc_ID_cut, dtype = np.int16)"
   ]
  },
  {
   "cell_type": "markdown",
   "id": "3cb1043e-5ed7-47ce-bcd7-a5877990d148",
   "metadata": {},
   "source": [
    "# 2.3 - Separate Event Information "
   ]
  },
  {
   "cell_type": "code",
   "execution_count": 11,
   "id": "1e43b1b3-fdcf-43e1-8cd0-14be4877ec1a",
   "metadata": {
    "scrolled": true
   },
   "outputs": [],
   "source": [
    "break_i = [0] #List of indices where data change of event ID\n",
    "\n",
    "N_evts = len(multi_mc_ID_cut)\n",
    "for i in range(N_evts-1):\n",
    "    if multi_mc_ID_cut[i] != multi_mc_ID_cut[i+1]:\n",
    "        break_i.append(i+1)    \n",
    "break_i = np.array(break_i, dtype = np.int32)"
   ]
  },
  {
   "cell_type": "markdown",
   "id": "c5cc216f-e0bb-42cc-8dd5-c76a1b20b1b3",
   "metadata": {},
   "source": [
    "# 3 - Observe 2DHist for Δ vs. α - MultiEV/Single EV"
   ]
  },
  {
   "cell_type": "code",
   "execution_count": 79,
   "id": "61f81e42-5df2-405f-b487-bcc89fc64c2b",
   "metadata": {},
   "outputs": [],
   "source": [
    "#Escoger un eventID para observar y hacer match\n",
    "\n",
    "i = break_i[2]\n",
    "f = break_i[3]\n",
    "\n",
    "#multi_mc_ID_cut[i:f]\n",
    "\n",
    "#select event data\n",
    "time_residual_ev = np.array(multi_time_residual_cut[i:f])\n",
    "cos_angel_ev = np.array(multi_cos_angle_cut[i:f])"
   ]
  },
  {
   "cell_type": "code",
   "execution_count": 100,
   "id": "0e67e04c-4c30-461a-adea-6df07012cded",
   "metadata": {},
   "outputs": [
    {
     "data": {
      "text/plain": [
       "<matplotlib.colorbar.Colorbar at 0x1da4b0c6390>"
      ]
     },
     "execution_count": 100,
     "metadata": {},
     "output_type": "execute_result"
    },
    {
     "data": {
      "image/png": "[encoded data removed]",
      "text/plain": [
       "<Figure size 800x600 with 2 Axes>"
      ]
     },
     "metadata": {},
     "output_type": "display_data"
    }
   ],
   "source": [
    "bins = 35\n",
    "\n",
    "if radi_cut_method == True:\n",
    "    title = 'cos(α) vs. time Residual Multiple evID - 2.5MeV - randor (dir) \\n volume cut r(mm) < '+str(rad_cut_val)\n",
    "\n",
    "else:\n",
    "    title = 'cos(α) vs. time residual - Multiple evID - 2.5MeV - randor (dir)'\n",
    "\n",
    "\n",
    "xlabel = 'time residual'\n",
    "ylabel = 'cos(α)'\n",
    "\n",
    "H, xedges, yedges = np.histogram2d(x = multi_cos_angle_cut, y =  multi_time_residual_cut, bins = [bins, bins])\n",
    "\n",
    "# plot limits\n",
    "left = np.min(multi_time_residual_cut)\n",
    "right = np.max(multi_time_residual_cut)\n",
    "bottom = np.min(multi_cos_angle_cut)\n",
    "top = np.max(multi_cos_angle_cut)\n",
    "\n",
    "plt.figure(figsize=(8,6))\n",
    "plt.imshow(H, extent = [left, right, top, bottom], aspect=\"auto\" ) #---> Here is our image as a Matrix Pixel\n",
    "plt.title(title, fontsize= 10)\n",
    "plt.ylabel(ylabel)\n",
    "plt.xlabel(xlabel)\n",
    "plt.colorbar()"
   ]
  },
  {
   "cell_type": "markdown",
   "id": "2f756102-2027-4c6a-ab89-eb38ddc21391",
   "metadata": {},
   "source": [
    "# 4 - Recognition using Templates"
   ]
  },
  {
   "cell_type": "raw",
   "id": "edc3f3ca-86fa-481f-8210-7d16a0fd83e1",
   "metadata": {},
   "source": [
    "#Load Template\n",
    "\n",
    "template = np.genfromtxt('Template Arrays/template(2).csv', delimiter=',')\n",
    "\n",
    "#normalize data before match.Template method\n",
    "H_norm = cv.normalize(H, None, alpha = 0, beta = 255, norm_type=cv.NORM_MINMAX)\n",
    "template_norm = cv.normalize(template, None, alpha = 0, beta = 255, norm_type=cv.NORM_MINMAX)\n",
    "\n",
    "#rescaling images after normlazitaion -> necessary to be accepte by match.template()!\n",
    "H_T = H_norm.astype(np.uint8) #Ideal: np.uint16\n",
    "template_T = template_norm.astype(np.uint8)  #Ideal: np.float16\n",
    "\n",
    "# Choose method\n",
    "method = eval('cv.TM_CCOEFF')\n",
    "\n",
    "#Apply template matching\n",
    "match_res = cv.matchTemplate(H_T, template_T, method)\n",
    "\n",
    "# obtain the maximum value\n",
    "min_val, max_val, min_loc, max_loc = cv.minMaxLoc(match_res)  #obtain maximun and minimun values and location of array\n",
    "\n",
    "#Show matrix compatibility\n",
    "plt.imshow(match_res)\n",
    "\n",
    "# Localizar donde esta el maximo en la imagen usando un rectangulo\n",
    "h, w = np.shape(template_norm)\n",
    "top_left = max_loc\n",
    "bottom_right = (top_left[0] + w, top_left[1] + h)\n",
    "\n",
    "ROI_ident = cv.rectangle(H_T, top_left, bottom_right, color = 255, thickness = 1)\n",
    "\n",
    "plt.imshow(ROI_ident)"
   ]
  },
  {
   "cell_type": "markdown",
   "id": "2c8a708a-179e-412d-b722-33c8f822656f",
   "metadata": {},
   "source": [
    "## 4.1 - Load and Loop Over Templates and Events"
   ]
  },
  {
   "cell_type": "markdown",
   "id": "eb75e698-9fc9-48a3-9748-966817cb95e8",
   "metadata": {},
   "source": []
  },
  {
   "cell_type": "code",
   "execution_count": 116,
   "id": "3fdb1e9f-46ea-4542-a6f1-18f09020ed8c",
   "metadata": {
    "scrolled": true
   },
   "outputs": [],
   "source": [
    "#Loop over events\n",
    "\n",
    "#Choose number of events\n",
    "N_evs = 19                                      #real number of events is N_evs + 1\n",
    "index_list = np.arange(0,N_evs + 1,1)\n",
    "\n",
    "for ev_i in index_list:\n",
    "\n",
    "    #consecutive single events\n",
    "    i = break_i[ev_i]\n",
    "    f = break_i[ev_i+1]\n",
    "    time_residual_ev = np.array(multi_time_residual_cut[i:f])\n",
    "    cos_angel_ev = np.array(multi_cos_angle_cut[i:f])\n",
    "    \n",
    "    # 2DHistrogram of single event:\n",
    "    xlabel = 'time residual'\n",
    "    ylabel = 'cos(α)'\n",
    "\n",
    "    H, xedges, yedges = np.histogram2d(x = cos_angel_ev, y =  time_residual_ev, bins = [bins, bins])\n",
    "    \n",
    "    if radi_cut_method == True:\n",
    "        title = 'cos(α) vs. time Residual - evID =' + str(ev_i) + '- 2.5MeV - randor (dir) \\n volume cut r(mm) < '+str(rad_cut_val)\n",
    "    \n",
    "    else:\n",
    "        title = 'cos(α) vs. time residual - evID =' + str(ev_i) + ' - 2.5MeV - randor (dir)'\n",
    "\n",
    "    left = np.min(time_residual_ev)\n",
    "    right = np.max(time_residual_ev)\n",
    "    bottom = np.min(cos_angel_ev)\n",
    "    top = np.max(cos_angel_ev)\n",
    "    \n",
    "    plt.figure(figsize=(8,6))\n",
    "    plt.imshow(H, extent = [left, right, top, bottom], aspect=\"auto\" ) #---> Here is our image as a Matrix Pixel\n",
    "    plt.title(title, fontsize= 10)\n",
    "    plt.ylabel(ylabel)\n",
    "    plt.xlabel(xlabel)\n",
    "    plt.colorbar()\n",
    "    plt.savefig('figs/Single Event/' + title + '_' +str(bins) + '.png', format = 'png')\n",
    "    \n",
    "    #Loop over templates\n",
    "    template_sample = [1, 2, 3]\n",
    "    \n",
    "    for sample_i in template_sample:\n",
    "        template = np.genfromtxt('Template Arrays/template('+str(sample_i)+').csv', delimiter=',')\n",
    "        \n",
    "        #normalize data before match.Template method\n",
    "        H_norm = cv.normalize(H, None, alpha = 0, beta = 255, norm_type=cv.NORM_MINMAX)\n",
    "        template_norm = cv.normalize(template, None, alpha = 0, beta = 255, norm_type=cv.NORM_MINMAX)\n",
    "        \n",
    "        #rescaling images after normlazitaion -> necessary to be accepte by match.template()!\n",
    "        H_T = H_norm.astype(np.uint8) #Ideal: np.uint16\n",
    "        template_T = template_norm.astype(np.uint8)  #Ideal: np.float16\n",
    "    \n",
    "        # Choose method\n",
    "        method = eval('cv.TM_CCOEFF')\n",
    "        \n",
    "        #Apply template matching\n",
    "        match_res = cv.matchTemplate(H_T, template_T, method)\n",
    "        \n",
    "        # obtain the maximum value\n",
    "        min_val, max_val, min_loc, max_loc = cv.minMaxLoc(match_res)  #obtain maximun and minimun values and location of array\n",
    "        \n",
    "        # Localizar donde esta el maximo en la imagen usando un rectangulo\n",
    "        h, w = np.shape(template_norm)\n",
    "        top_left = max_loc\n",
    "        bottom_right = (top_left[0] + w, top_left[1] + h)\n",
    "            \n",
    "        #plots \n",
    "        #template\n",
    "        title = 'Template('+str(sample_i)+')'\n",
    "        plt.imshow(template)\n",
    "        plt.title(title)\n",
    "        plt.savefig('figs/Single Event/template matching/'+title+'.png', format = 'png')\n",
    "        \n",
    "        #Matching\n",
    "        title = 'Matching Result('+str(sample_i)+')'+ ' evID =' + str(ev_i)\n",
    "        plt.imshow(match_res)\n",
    "        plt.title(title)\n",
    "        plt.savefig('figs/Single Event/template matching/'+title+'.png', format = 'png')\n",
    "        \n",
    "        #recognition\n",
    "        title = 'Pattern Identification('+str(sample_i)+')' + ' evID =' + str(ev_i)\n",
    "        ROI_ident = cv.rectangle(H_T, top_left, bottom_right, color = 255, thickness = 1)\n",
    "        plt.imshow(ROI_ident, extent = [left, right, top, bottom], aspect = 'auto')\n",
    "        plt.title(title)\n",
    "        plt.ylabel(ylabel)\n",
    "        plt.xlabel(xlabel)\n",
    "        plt.savefig('figs/Single Event/template matching/'+title+'.png', format = 'png')\n",
    "#dont show figures here        \n",
    "plt.close('all')"
   ]
  },
  {
   "cell_type": "code",
   "execution_count": null,
   "id": "a8a74140-77f0-4206-a61b-d01fca718068",
   "metadata": {},
   "outputs": [],
   "source": []
  }
 ],
 "metadata": {
  "kernelspec": {
   "display_name": "Python 3 (ipykernel)",
   "language": "python",
   "name": "python3"
  },
  "language_info": {
   "codemirror_mode": {
    "name": "ipython",
    "version": 3
   },
   "file_extension": ".py",
   "mimetype": "text/x-python",
   "name": "python",
   "nbconvert_exporter": "python",
   "pygments_lexer": "ipython3",
   "version": "3.12.2"
  }
 },
 "nbformat": 4,
 "nbformat_minor": 5
}
