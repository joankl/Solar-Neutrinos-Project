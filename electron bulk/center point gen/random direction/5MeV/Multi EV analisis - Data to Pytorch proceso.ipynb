{
 "cells": [
  {
   "cell_type": "code",
   "execution_count": 13,
   "id": "f138ecc1-6d47-4cc2-a73d-3b08ab5d88ab",
   "metadata": {},
   "outputs": [],
   "source": [
    "import uproot\n",
    "import numpy as np\n",
    "\n",
    "import matplotlib\n",
    "import matplotlib.pyplot as plt\n",
    "from matplotlib import cm\n",
    "\n",
    "import seaborn as sn"
   ]
  },
  {
   "cell_type": "markdown",
   "id": "6729dbb4-84e3-43c2-b066-d27b6a59432f",
   "metadata": {},
   "source": [
    "# 1 - Extracting Data and Moving to GPU"
   ]
  },
  {
   "cell_type": "code",
   "execution_count": 2,
   "id": "074bbd8b-0a2a-4c89-bc9d-0fc033a05aba",
   "metadata": {},
   "outputs": [
    {
     "data": {
      "text/plain": [
       "['T;64', 'T;63', 'pmt;2', 'pmt;1']"
      ]
     },
     "execution_count": 2,
     "metadata": {},
     "output_type": "execute_result"
    }
   ],
   "source": [
    "file = uproot.open(\"/snoplus simulations/electron bulk/center point/random direction/High Statistic/simu_Analysis_elec_5MeV.root\")\n",
    "file.keys()"
   ]
  },
  {
   "cell_type": "code",
   "execution_count": 3,
   "id": "e46cbf39-69ab-4ddf-8a35-c2292408a23a",
   "metadata": {},
   "outputs": [
    {
     "data": {
      "text/plain": [
       "['evtid',\n",
       " 'mcID',\n",
       " 'energy',\n",
       " 'mc_position',\n",
       " 'mc_momentum',\n",
       " 'position',\n",
       " 'momentum',\n",
       " 'hit_pmtid',\n",
       " 'hit_pmttime',\n",
       " 'hit_residual',\n",
       " 'hit_type']"
      ]
     },
     "execution_count": 3,
     "metadata": {},
     "output_type": "execute_result"
    }
   ],
   "source": [
    "data1 = file['T;64']\n",
    "data1.keys()"
   ]
  },
  {
   "cell_type": "code",
   "execution_count": 4,
   "id": "3bdd08b2-e7f8-4032-8e5e-59d673208b39",
   "metadata": {},
   "outputs": [
    {
     "data": {
      "text/plain": [
       "['pmt_id', 'pmt_pos_xyz', 'pmt_pos_sph', 'pmt_type']"
      ]
     },
     "execution_count": 4,
     "metadata": {},
     "output_type": "execute_result"
    }
   ],
   "source": [
    "pmt_info = file['pmt;1']\n",
    "pmt_info.keys()"
   ]
  },
  {
   "cell_type": "markdown",
   "id": "a3a255a8-9995-4934-a5e1-b2d4dfc3973a",
   "metadata": {},
   "source": [
    "## 1.1 - EV info"
   ]
  },
  {
   "cell_type": "code",
   "execution_count": 5,
   "id": "796444a2-f6ba-497b-ba5a-eb5bc8f104c2",
   "metadata": {},
   "outputs": [],
   "source": [
    "evtid = np.array(data1['evtid'], dtype = np.int16)\n",
    "mcID = np.array(data1['mcID'], dtype = np.int16)\n",
    "#mc_position = np.array(data1['mc_position'])\n",
    "mc_momentum = np.array(data1['mc_momentum'], dtype = np.float16) # -> IMPORTANT: Direction of simulated event\n",
    "#position = np.array(data1['position'])\n",
    "hit_pmtid = np.array(data1['hit_pmtid'], dtype = np.int16)\n",
    "time_residual = np.array(data1['hit_residual'], dtype = np.float16)\n",
    "hit_type = np.array(data1['hit_type'], dtype = np.int16)"
   ]
  },
  {
   "cell_type": "raw",
   "id": "829e91e3-3d54-4792-aae8-df8450e5b480",
   "metadata": {},
   "source": [
    "evtid = None\n",
    "mcID = None\n",
    "#mc_position = np.array(data1['mc_position'])\n",
    "mc_momentum = None # -> IMPORTANT: Direction of simulated event\n",
    "#position = np.array(data1['position'])\n",
    "hit_pmtid = None\n",
    "time_residual = None\n",
    "hit_type = None"
   ]
  },
  {
   "cell_type": "markdown",
   "id": "2dfa391a-2cde-4eea-89ad-2f3b76d250a2",
   "metadata": {},
   "source": [
    "## 1.1 - PMT info"
   ]
  },
  {
   "cell_type": "code",
   "execution_count": 11,
   "id": "14f35826-e96e-4630-9efe-7e3ccc3c6ed0",
   "metadata": {},
   "outputs": [],
   "source": [
    "pmt_id = np.array(pmt_info['pmt_id'], dtype = np.int16)\n",
    "pmt_pos_xyz = np.array(pmt_info['pmt_pos_xyz'], dtype = np.float32)\n",
    "pmt_pos_sph = np.array(pmt_info['pmt_pos_sph'], dtype = np.float32)\n",
    "pmt_type = np.array(pmt_info['pmt_type'], dtype = np.int16)"
   ]
  },
  {
   "cell_type": "markdown",
   "id": "165a7bf9-c57e-4fb9-9fa9-77b38ae6f52b",
   "metadata": {},
   "source": [
    "# 2 - Observe Data - Time Residual"
   ]
  },
  {
   "cell_type": "code",
   "execution_count": 7,
   "id": "bf9cb714-2f81-4af3-a0f8-eeafaf0e5d59",
   "metadata": {},
   "outputs": [
    {
     "data": {
      "image/png": "[encoded data removed]",
      "text/plain": [
       "<Figure size 800x600 with 1 Axes>"
      ]
     },
     "metadata": {},
     "output_type": "display_data"
    }
   ],
   "source": [
    "plt.figure(figsize=(8,6))\n",
    "sn.histplot(time_residual.cpu(), bins = 100)\n",
    "plt.xlabel('var')\n",
    "plt.ylabel('events')\n",
    "plt.yscale('log')"
   ]
  },
  {
   "cell_type": "code",
   "execution_count": 9,
   "id": "a806b884-33ed-420e-ad0e-f6978e17f290",
   "metadata": {
    "scrolled": true
   },
   "outputs": [
    {
     "data": {
      "text/plain": [
       "array([   3.83100239,   42.11361182,    4.48512906, ...,  177.35358081,\n",
       "        156.26340828, -603.61997274])"
      ]
     },
     "execution_count": 9,
     "metadata": {},
     "output_type": "execute_result"
    }
   ],
   "source": [
    "time_residual"
   ]
  },
  {
   "cell_type": "markdown",
   "id": "d7f56f36-2220-4ef9-87a1-eb90138c8703",
   "metadata": {},
   "source": [
    "# 3 - Extract Valid Data"
   ]
  },
  {
   "cell_type": "markdown",
   "id": "10cf6dd1-0f70-4890-bb19-2aa9891f4db0",
   "metadata": {},
   "source": [
    "## 3.1 - Extract Index of valids PMT Type"
   ]
  },
  {
   "cell_type": "code",
   "execution_count": 18,
   "id": "5c2b65b6-c922-4316-bc2a-29df3465c8ab",
   "metadata": {},
   "outputs": [
    {
     "data": {
      "text/plain": [
       "array([   1,    2,    3, ..., 9693, 9694, 9695], dtype=int16)"
      ]
     },
     "execution_count": 18,
     "metadata": {},
     "output_type": "execute_result"
    }
   ],
   "source": [
    "## Numpy proofs to validate pytorch tools\n",
    "\n",
    "valid_pmt_id = np.array(np.where(pmt_type == 1)[0], dtype = np.int16)  # PMT valid ID match with index of where pmt_type=1\n",
    "\n",
    "valid_id_info_ev_i = np.array(np.where(np.in1d(hit_pmtid, valid_pmt_id))[0], dtype = np.int32)\n",
    "valid_id_info_ev_i"
   ]
  },
  {
   "cell_type": "raw",
   "id": "155c45ed-d57a-4e00-9959-08fb204323c5",
   "metadata": {},
   "source": [
    "# Torch Tensor Method\n",
    "\n",
    "valid_pmt_id = torch.where(pmt_type == 1)[0].cuda()  #pmt valid ID match with index of where pmt_type=1\n",
    "#print(valid_pmt_id)\n",
    "\n",
    "#Now, with valid_pmt_id, extract valid index of EV Data     \n",
    "condition = (torch.isin(hit_pmtid,valid_pmt_id))\n",
    "valid_id_info_ev_i = (torch.where(condition))[0] # --> index of valid info\n",
    "print(valid_id_info_ev_i)"
   ]
  },
  {
   "cell_type": "markdown",
   "id": "147ab708-8c5c-447c-ac84-edb5b68f3b2e",
   "metadata": {},
   "source": [
    "## 3.2 - Extract valid info of EV\n",
    "\n",
    "Use numpy type because Concatenates Faster!"
   ]
  },
  {
   "cell_type": "code",
   "execution_count": null,
   "id": "37ad766c-b8f4-4a13-a05f-808fdefa454b",
   "metadata": {
    "scrolled": true
   },
   "outputs": [],
   "source": [
    "# With valid index data extract valid data\n",
    "\n",
    "data_portion = 1   # percentage of data\n",
    "lim_data = round(len(valid_id_info_ev_i)*data_portion)\n",
    "\n",
    "multi_time_residual = []\n",
    "multi_pmt_id_hit = []\n",
    "multi_mc_momentum = []   #PENSAR BIEN COMO EXTRAER -> Se repite dentro de cada EV muchas veces -> Separar por evIDs\n",
    "multi_xyz_hit = []\n",
    "\n",
    "for valid_i in valid_id_info_ev_i[0:lim_data]:\n",
    "    multi_time_residual.append(time_residual[valid_i])\n",
    "    multi_mc_momentum.append(mc_momentum[valid_i])\n",
    "    multi_pmt_id_hit.append(hit_pmtid[valid_i])\n",
    "    \n",
    "multi_time_residual = np.array(multi_time_residual, dtype = np.float16)   #Has to be an array to use numpoy tools bellow!\n",
    "\n",
    "#extract xyz_hit from pmt_id_hit\n",
    "for id_i in multi_pmt_id_hit:\n",
    "    multi_xyz_hit.append(pmt_pos_xyz[id_i])"
   ]
  },
  {
   "cell_type": "code",
   "execution_count": 11,
   "id": "c4083de3-fbff-4e5c-93fa-b2cc161d8d7a",
   "metadata": {},
   "outputs": [
    {
     "data": {
      "text/plain": [
       "True"
      ]
     },
     "execution_count": 11,
     "metadata": {},
     "output_type": "execute_result"
    }
   ],
   "source": [
    "len(multi_xyz_hit) == len(multi_mc_momentum)"
   ]
  },
  {
   "cell_type": "markdown",
   "id": "3c0713d4-2464-4923-a785-94407ec67ac7",
   "metadata": {},
   "source": [
    "### 3.2.3 - Construct Observable $cos(α)$"
   ]
  },
  {
   "cell_type": "code",
   "execution_count": 12,
   "id": "e0f80fb6-be71-480f-a6f4-66434e7ef909",
   "metadata": {},
   "outputs": [],
   "source": [
    "multi_cos_angle = []\n",
    "N = np.shape(multi_xyz_hit)[0]\n",
    "\n",
    "for k in range(N):\n",
    "    cos_val = np.dot(multi_xyz_hit[k], multi_mc_momentum[k])/(np.linalg.norm(multi_mc_momentum[k])*np.linalg.norm(multi_xyz_hit[k]))\n",
    "    multi_cos_angle.append(cos_val)\n",
    "multi_cos_angle = np.array(multi_cos_angle)"
   ]
  },
  {
   "cell_type": "code",
   "execution_count": 23,
   "id": "c6d9a8b9-a6f3-4a34-a76f-b3e40fff7649",
   "metadata": {},
   "outputs": [
    {
     "data": {
      "text/plain": [
       "-0.7969589859059613"
      ]
     },
     "execution_count": 23,
     "metadata": {},
     "output_type": "execute_result"
    }
   ],
   "source": [
    "cos_val"
   ]
  },
  {
   "cell_type": "markdown",
   "id": "81c7c5ee-9f33-4de2-ae90-0f68ceb58db3",
   "metadata": {},
   "source": [
    "# 4 - Plots"
   ]
  },
  {
   "cell_type": "markdown",
   "id": "b766fe96-f8a2-4061-bb40-93a562d201b7",
   "metadata": {},
   "source": [
    "## 4.1 - Time residual vs. $cos(α)$"
   ]
  },
  {
   "cell_type": "markdown",
   "id": "457477e0-b209-44aa-b64e-85430a7d647b",
   "metadata": {},
   "source": [
    "### 4.1.1 - cut time residual"
   ]
  },
  {
   "cell_type": "code",
   "execution_count": 13,
   "id": "08819065-7c76-4bb1-bddd-0847c3b3f263",
   "metadata": {},
   "outputs": [],
   "source": [
    "up_cut = 20\n",
    "inf_cut = -5\n",
    "\n",
    "multi_time_res_cut = []\n",
    "multi_cos_angle_cut = []\n",
    "\n",
    "for i in np.where((multi_time_residual > inf_cut) & (multi_time_residual < up_cut))[0]:\n",
    "\n",
    "    multi_time_res_cut.append(multi_time_residual[i])\n",
    "    multi_cos_angle_cut.append(multi_cos_angle[i])"
   ]
  },
  {
   "cell_type": "code",
   "execution_count": 18,
   "id": "9b1463b9-d70e-4022-a7bf-8cd50f116871",
   "metadata": {},
   "outputs": [
    {
     "name": "stdout",
     "output_type": "stream",
     "text": [
      "Using matplotlib backend: TkAgg\n"
     ]
    }
   ],
   "source": [
    "%matplotlib\n",
    "# 2d Histogram\n",
    "title = 'cos(α) - Multiple evID - 5MeV - random dir.'\n",
    "\n",
    "bins = 40\n",
    "plt.figure(figsize=(10,8))\n",
    "#sn.set_style(rc = {'axes.facecolor': 'black'})\n",
    "plt.hist2d(x = multi_cos_angle_cut, y = multi_time_res_cut, bins = [bins,bins], cmap = cm.nipy_spectral)\n",
    "plt.colorbar()\n",
    "plt.ylabel('time residual')\n",
    "plt.xlabel('cos(α)')\n",
    "plt.title(title)\n",
    "\n",
    "#equal acis ration\n",
    "#ax = plt.gca()\n",
    "#ax.set_aspect('equal', adjustable='box')\n",
    "plt.show()\n",
    "#plt.savefig('figs/High Stat/' + title + '.png', format = 'png')"
   ]
  },
  {
   "cell_type": "markdown",
   "id": "8ecdc7f4-fda5-4d93-93f2-d2943ddd3e0e",
   "metadata": {},
   "source": [
    "### 4.1.2 - Normalization"
   ]
  },
  {
   "cell_type": "code",
   "execution_count": 26,
   "id": "6953fd80-8a90-4e70-9e10-c693c2f03ae8",
   "metadata": {},
   "outputs": [],
   "source": [
    "#Transforma Data into an Image Matrix\n",
    "\n",
    "H, xedges, yedges = np.histogram2d(x = multi_cos_angle_cut, y = multi_time_res_cut, bins = [bins, bins])\n",
    "\n",
    "#Now recover the data axis representation of time residual vs cos(alpha)\n",
    "left = np.min(multi_time_res_cut)\n",
    "right = np.max(multi_time_res_cut)\n",
    "bottom = np.min(multi_cos_angle_cut)\n",
    "top = np.max(multi_cos_angle_cut)\n",
    "\n",
    "#Titles\n",
    "title = 'cos(α) - Multiple evID - 5MeV - random dir.'\n",
    "ylabel = 'cos(α)'\n",
    "xlabel = 'time residual'\n",
    "\n",
    "plt.figure(figsize=(10,8))\n",
    "plt.imshow(H, extent = [left, right, top, bottom], aspect=\"auto\" ) #---> Here is our image as a Matrix Pixel\n",
    "plt.title(title)\n",
    "plt.ylabel(ylabel)\n",
    "plt.xlabel(xlabel)\n",
    "plt.colorbar()\n",
    "#plt.savefig('figs/High Stat/' + title +'(imshow).png', format = 'png')"
   ]
  },
  {
   "cell_type": "markdown",
   "id": "9fa966e5-c01f-406a-92b2-692fc7826069",
   "metadata": {},
   "source": [
    "#### 4.1.2.1 - Normalization by Nhits"
   ]
  },
  {
   "cell_type": "code",
   "execution_count": 28,
   "id": "7e85fe33-5f1d-487b-ac0f-1084bcac9366",
   "metadata": {},
   "outputs": [],
   "source": [
    "# sum of hits in each bin = sum over each column element of the matrix.\n",
    "sum_hit = np.sum(H,axis=0)  \n",
    "\n",
    "H_normalized1 = H / sum_hit\n",
    "\n",
    "N1title = 'Normalization by NHits - Multiple evID - 5MeV - random dir.'\n",
    "\n",
    "plt.figure(figsize=(10,8))\n",
    "plt.imshow(H_normalized1, extent = [left, right, top, bottom], aspect=\"auto\" )\n",
    "plt.title(N1title)\n",
    "plt.ylabel(ylabel)\n",
    "plt.xlabel(xlabel)\n",
    "plt.colorbar()\n",
    "#plt.savefig('figs/High Stat/' + N1title +'.png', format = 'png')"
   ]
  }
 ],
 "metadata": {
  "kernelspec": {
   "display_name": "Python 3 (ipykernel)",
   "language": "python",
   "name": "python3"
  },
  "language_info": {
   "codemirror_mode": {
    "name": "ipython",
    "version": 3
   },
   "file_extension": ".py",
   "mimetype": "text/x-python",
   "name": "python",
   "nbconvert_exporter": "python",
   "pygments_lexer": "ipython3",
   "version": "3.12.3"
  }
 },
 "nbformat": 4,
 "nbformat_minor": 5
}
