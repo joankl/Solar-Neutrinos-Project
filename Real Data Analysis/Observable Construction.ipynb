{
 "cells": [
  {
   "cell_type": "markdown",
   "id": "4cfb1960-00bc-42bc-b597-564e7cefefb6",
   "metadata": {},
   "source": [
    "# Notebook Dedicated to Build the Observables of Interest and Save a Dataset for ML\n",
    "\n",
    "makes use of the data extracted from real_data_analysis notebook"
   ]
  },
  {
   "cell_type": "code",
   "execution_count": 45,
   "id": "cb028425-172e-4216-8362-2a1920e671bf",
   "metadata": {},
   "outputs": [],
   "source": [
    "import numpy as np\n",
    "import pandas as pd\n",
    "\n",
    "import seaborn as sn\n",
    "\n",
    "import glob\n",
    "import re"
   ]
  },
  {
   "cell_type": "code",
   "execution_count": 46,
   "id": "ac77cbe8-4a1a-4b5f-82a3-f5e44ceaa3c8",
   "metadata": {},
   "outputs": [],
   "source": [
    "def alpha_num_sort(list_route):\n",
    "    # Función auxiliar para extraer número de la ruta\n",
    "    def extract_num(route):\n",
    "        # Busca el primer número en el nombre del archivo\n",
    "        match = re.search(r'(\\d+)', route)\n",
    "        return int(match.group(1)) if match else -1  # Si no hay número, devuelve -1\n",
    "\n",
    "    # Ordena la lista usando el número extraído\n",
    "    return sorted(list_route, key=extract_num)"
   ]
  },
  {
   "cell_type": "markdown",
   "id": "1e33f84f-2d4d-4337-bf00-cfa089c5a2cf",
   "metadata": {},
   "source": [
    "# Load Data"
   ]
  },
  {
   "cell_type": "markdown",
   "id": "b8430443-3cdc-400e-9746-41885b1b1f69",
   "metadata": {},
   "source": [
    "Load the Data of each fragemented observables"
   ]
  },
  {
   "cell_type": "markdown",
   "id": "64afd520-17cb-4e99-8ca8-8d7778e9a113",
   "metadata": {},
   "source": [
    "### !! Before Saving the Dataset and reading the Data, define the cuts used to construct the pd.dataframe"
   ]
  },
  {
   "cell_type": "code",
   "execution_count": 50,
   "id": "aaaf56f6-9cba-4ce5-ac43-9fcf14b2ba31",
   "metadata": {},
   "outputs": [],
   "source": [
    "imag_dim = (10,10)\n",
    "en_inf_cut = 2.5\n",
    "en_sup_cut = 12\n",
    "posr_cut = 5500\n",
    "time_res_inf_cut = -1\n",
    "time_res_sup_cut = 5\n",
    "nhits_cut = 20"
   ]
  },
  {
   "cell_type": "code",
   "execution_count": 48,
   "id": "afd8fe4c-8e04-4949-86c5-4032ea542f1a",
   "metadata": {},
   "outputs": [
    {
     "name": "stdout",
     "output_type": "stream",
     "text": [
      "preparing observable evtid\n",
      "preparing observable evtid_bi214\n",
      "preparing observable energy\n",
      "preparing observable posr\n",
      "preparing observable cos_alpha\n",
      "preparing observable hit_residual\n"
     ]
    }
   ],
   "source": [
    "main_dir = 'analysis_out/en_down_2_pt_5_MeV/'\n",
    "observable_name = ['evtid', 'evtid_bi214', 'energy', 'posr', 'cos_alpha', 'hit_residual']\n",
    "\n",
    "for var_i in observable_name:\n",
    "    print(f'preparing observable {var_i}')\n",
    "    # Empty array fir each observable iteration\n",
    "    locals()[var_i] = np.array([])\n",
    "\n",
    "    # file pattern \"_\"\n",
    "    pattern = re.compile(rf\"{re.escape(var_i)}_(\\d+)\\.npy$\")\n",
    "\n",
    "    # filtering\n",
    "    files_all = glob.glob(main_dir + var_i + \"_*.npy\")\n",
    "    files_num = [f for f in files_all if pattern.search(f)]\n",
    "\n",
    "    # alphanumeric order\n",
    "    flist_var_i = alpha_num_sort(files_num)\n",
    "\n",
    "    for file_i in flist_var_i:\n",
    "        arr = np.load(file_i)\n",
    "        #print(file_i, arr.shape)\n",
    "        locals()[var_i] = np.append(locals()[var_i], arr)"
   ]
  },
  {
   "cell_type": "code",
   "execution_count": 49,
   "id": "f8f6bcd8-60e7-4895-9abc-8e5f79e37b67",
   "metadata": {},
   "outputs": [
    {
     "data": {
      "text/plain": [
       "(62030,)"
      ]
     },
     "execution_count": 49,
     "metadata": {},
     "output_type": "execute_result"
    }
   ],
   "source": [
    "energy.shape"
   ]
  },
  {
   "cell_type": "markdown",
   "id": "249e6593-4d4a-4412-875b-5ee81e3b94ff",
   "metadata": {},
   "source": [
    "# Organize Data by events\n",
    "\n",
    "1) Find where the evid breaks and extract the data within this interval as a single events;\n",
    "2) Apply a cut in the number of nhits within the time residual cut;\n",
    "3) Construct the normalized Δα distribution 10x10 and flat the image;\n",
    "4) Extract only one energy and radial pos per events;\n",
    "5) Remove the Bi214 suspected events through evtID index;"
   ]
  },
  {
   "cell_type": "markdown",
   "id": "45911c17-4bbd-4494-9ffb-b3ec5735bfc3",
   "metadata": {},
   "source": [
    "## Track Single Event Information"
   ]
  },
  {
   "cell_type": "code",
   "execution_count": 51,
   "id": "041d5c2d-813a-458b-87ec-dfb4ad64c0a5",
   "metadata": {},
   "outputs": [],
   "source": [
    "# Empty lists which will contain de non-repeated values of the observables for singles events\n",
    "energy_ev = []  #flatten list structure\n",
    "posr_ev = []    #flatten list structure\n",
    "evtid_ev = []   #flatten list structure\n",
    "evtid_bi214_ev = np.unique(evtid_bi214).astype(np.uint64)\n",
    "\n",
    "#per-hit observables\n",
    "cos_alpha_ev = []  #List filled with np.arrays() where each array correspond to and event\n",
    "time_residual_ev = [] #List filled with np.arrays() where each array correspond to and event\n",
    "\n",
    "# ====== Track of single-event values ======\n",
    "\n",
    "#evID index break list\n",
    "data_break_i = [0]  #array whose elements are the index from where an event start and end.\n",
    "\n",
    "N_data = len(evtid)\n",
    "\n",
    "for i_dx in range(N_data - 1):\n",
    "    if evtid[i_dx] != evtid[i_dx+1]:\n",
    "        data_break_i.append(i_dx+1)\n",
    "\n",
    "#add the last index to complete the data_break_i list\n",
    "data_break_i.append(N_data - 1)\n",
    "\n",
    "N_terms = len(data_break_i)\n",
    "\n",
    "#Start to save the non-redundant values and separate the time residuals and angles for each event\n",
    "for i_dx in range(N_terms - 2):\n",
    "    init_i = data_break_i[i_dx]\n",
    "    final_i = data_break_i[i_dx+1]\n",
    "\n",
    "    #energy\n",
    "    energy_ev_i = energy[init_i : final_i]\n",
    "    #print(energy_ev_i)\n",
    "    energy_ev.append(energy_ev_i[0])\n",
    "\n",
    "    #position\n",
    "    posr_ev_i = posr[init_i : final_i]\n",
    "    posr_ev.append(posr_ev_i[0])\n",
    "\n",
    "    #evtid\n",
    "    evtid_ev_i = evtid[init_i : final_i]\n",
    "    evtid_ev.append(evtid_ev_i[0])\n",
    "    \n",
    "    #Time residuals\n",
    "    time_residual_ev_i = hit_residual[init_i : final_i]\n",
    "    time_residual_ev.append(time_residual_ev_i)\n",
    "    \n",
    "    #cos(α)\n",
    "    cos_alpha_ev_i = cos_alpha[init_i : final_i]\n",
    "    cos_alpha_ev.append(cos_alpha_ev_i)\n",
    "\n",
    "energy_ev = np.array(energy_ev)\n",
    "posr_ev = np.array(posr_ev)\n",
    "evtid_ev = np.array(evtid_ev).astype(np.uint64)\n",
    "\n",
    "# ========= Remove the Bi214 candidates entries =========\n",
    "index_to_remove = np.where((np.in1d(evtid_ev, evtid_bi214_ev)))[0]\n",
    "\n",
    "energy_ev = np.delete(energy_ev, index_to_remove)\n",
    "posr_ev = np.delete(posr_ev, index_to_remove)\n",
    "evtid_ev = np.delete(evtid_ev, index_to_remove)\n",
    "cos_alpha_ev = [cos_alpha_ev[i] for i in range(len(cos_alpha_ev)) if i not in index_to_remove]\n",
    "time_residual_ev = [time_residual_ev[i] for i in range(len(time_residual_ev)) if i not in index_to_remove]\n",
    "\n",
    "# ========== NHits cut ==================\n",
    "#Save the nhits per event:\n",
    "nhits_ev = [] #List with the number of hits within the time residual window per event\n",
    "N_evs = len(cos_alpha_ev)\n",
    "\n",
    "for i_dx in range(N_evs):\n",
    "    nhit_ev_i = len(cos_alpha_ev[i_dx])\n",
    "    nhits_ev.append(nhit_ev_i)\n",
    "nhits_ev = np.array(nhits_ev)\n",
    "\n",
    "#Look for where the nhits >= nhitscut\n",
    "nhits_condition = (nhits_ev >= nhits_cut)\n",
    "\n",
    "energy_ev = energy_ev[nhits_condition]\n",
    "posr_ev = posr_ev[nhits_condition]\n",
    "cos_alpha_ev = [arr for arr, cond in zip(cos_alpha_ev, nhits_condition) if cond]\n",
    "time_residual_ev = [arr for arr, cond in zip(time_residual_ev, nhits_condition) if cond]"
   ]
  },
  {
   "cell_type": "markdown",
   "id": "ed14a811-2637-4411-a092-c8ee871f0d5b",
   "metadata": {},
   "source": [
    "## Contruct the Binned Observable Norm($\\Delta$, $\\alpha$)"
   ]
  },
  {
   "cell_type": "code",
   "execution_count": 52,
   "id": "688d448f-eff9-4546-9d93-226f40b1bfcf",
   "metadata": {},
   "outputs": [
    {
     "name": "stderr",
     "output_type": "stream",
     "text": [
      "C:\\Users\\joanc\\AppData\\Local\\Temp\\ipykernel_12360\\539803404.py:20: RuntimeWarning: invalid value encountered in divide\n",
      "  H_norm_ev_i = H_ev_i/sum_hit_ev_i\n"
     ]
    }
   ],
   "source": [
    "#Define ranges of interest\n",
    "range_time = (time_res_inf_cut, time_res_sup_cut)\n",
    "range_cos = (-1, 1)\n",
    "\n",
    "pixels_ev = np.empty((0, 100)) #Empty array to be filled with the 100 pixel values of the normalized Δα Images\n",
    "\n",
    "N_evs = len(cos_alpha_ev)\n",
    "\n",
    "for i_dx in range(N_evs):\n",
    "    \n",
    "    cos_alpha_ev_i = cos_alpha_ev[i_dx]\n",
    "    time_residual_ev_i = time_residual_ev[i_dx]\n",
    "    \n",
    "        # =========== Construct the 2D binned histogram ===========\n",
    "    bins = image_dim[0] #Image dim\n",
    "    H_ev_i, _, _ = np.histogram2d(x = cos_alpha_ev_i, y = time_residual_ev_i, bins = [bins, bins], range = [range_cos, range_time])\n",
    "    #print(H_ev_i)\n",
    "    #Normalize the Histogram by NCounts in a slice of cos(α) along all the time residual\n",
    "    sum_hit_ev_i = np.sum(H_ev_i, axis = 0)\n",
    "    H_norm_ev_i = H_ev_i/sum_hit_ev_i\n",
    "    H_norm_ev_i = np.nan_to_num(H_norm_ev_i, nan = 0.0)\n",
    "\n",
    "    H_norm_flaten = H_norm_ev_i.reshape(1,100) #here we should have an array with 100 entries\n",
    "    #print(H_norm_flaten0.shape)\n",
    "    pixels_ev = np.append(pixels_ev, H_norm_flaten, axis = 0)"
   ]
  },
  {
   "cell_type": "code",
   "execution_count": 53,
   "id": "4a0e4dec-05da-4b0a-a57c-778ab3b22ded",
   "metadata": {},
   "outputs": [
    {
     "data": {
      "text/plain": [
       "(209, 100)"
      ]
     },
     "execution_count": 53,
     "metadata": {},
     "output_type": "execute_result"
    }
   ],
   "source": [
    "pixels_ev.shape"
   ]
  },
  {
   "cell_type": "markdown",
   "id": "bb99e5e5-f6c6-449f-9321-16d31dbacb6e",
   "metadata": {},
   "source": [
    "# Construct the Pandas Dataframe of Real Data"
   ]
  },
  {
   "cell_type": "code",
   "execution_count": 54,
   "id": "1638a7ae-30b7-4cab-b800-d27f2201fb2d",
   "metadata": {},
   "outputs": [],
   "source": [
    "save = True\n",
    "save_dir = 'real_dataset_ML/'\n",
    "fname = f'real_dataset_Dim_{image_dim[0]}_E_{en_inf_cut}_{en_sup_cut}_MeV_R_{posr_cut}_mm_Delta_{time_res_inf_cut}_{time_res_sup_cut}_ns.csv'"
   ]
  },
  {
   "cell_type": "markdown",
   "id": "77922f6b-36b3-40ab-b747-41ef5430e142",
   "metadata": {},
   "source": [
    "## Save the Dataset"
   ]
  },
  {
   "cell_type": "code",
   "execution_count": 55,
   "id": "8471b5d3-1d43-4a3f-abfc-f293027218f3",
   "metadata": {},
   "outputs": [
    {
     "name": "stderr",
     "output_type": "stream",
     "text": [
      "C:\\Users\\joanc\\AppData\\Local\\Temp\\ipykernel_12360\\1909765308.py:13: PerformanceWarning: DataFrame is highly fragmented.  This is usually the result of calling `frame.insert` many times, which has poor performance.  Consider joining all columns at once using pd.concat(axis=1) instead. To get a de-fragmented frame, use `newframe = frame.copy()`\n",
      "  df['energy (MeV)'] = energy_ev\n",
      "C:\\Users\\joanc\\AppData\\Local\\Temp\\ipykernel_12360\\1909765308.py:14: PerformanceWarning: DataFrame is highly fragmented.  This is usually the result of calling `frame.insert` many times, which has poor performance.  Consider joining all columns at once using pd.concat(axis=1) instead. To get a de-fragmented frame, use `newframe = frame.copy()`\n",
      "  df['radius (mm)'] = posr_ev\n"
     ]
    }
   ],
   "source": [
    "N_pixels = pixels_ev.shape[1]\n",
    "\n",
    "for i in range(N_pixels):\n",
    "    locals()['pixel_' + str(i)] = pixels_ev[:,i]\n",
    "\n",
    "#Construct Data Frame with the pixel values\n",
    "data = {}\n",
    "df = pd.DataFrame(data)\n",
    "\n",
    "for i in range(N_pixels):\n",
    "    df['pixel_'+str(i)] = locals()['pixel_' +str(i)]\n",
    "\n",
    "df['energy (MeV)'] = energy_ev\n",
    "df['radius (mm)'] = posr_ev\n",
    "\n",
    "if save:\n",
    "    #save the pandas df\n",
    "    df.to_csv(save_dir + fname)"
   ]
  },
  {
   "cell_type": "markdown",
   "id": "b4349b19-05a6-4267-a6c1-a9f2e911c860",
   "metadata": {},
   "source": [
    "## Load the Dataset"
   ]
  },
  {
   "cell_type": "code",
   "execution_count": 56,
   "id": "6b7665d5-8c5b-4779-8f6c-d2fa0088fca8",
   "metadata": {},
   "outputs": [],
   "source": [
    "df = pd.read_csv(save_dir + fname)"
   ]
  },
  {
   "cell_type": "code",
   "execution_count": 57,
   "id": "c59981ce-85b0-4858-b595-3eacdf7ae3de",
   "metadata": {},
   "outputs": [],
   "source": [
    "energy = np.array(df['energy (MeV)'])"
   ]
  },
  {
   "cell_type": "code",
   "execution_count": 58,
   "id": "aa472849-e144-43fd-ba9e-9b58ec783b4b",
   "metadata": {},
   "outputs": [
    {
     "data": {
      "text/plain": [
       "<Axes: ylabel='Count'>"
      ]
     },
     "execution_count": 58,
     "metadata": {},
     "output_type": "execute_result"
    },
    {
     "data": {
      "image/png": "[encoded data removed]",
      "text/plain": [
       "<Figure size 640x480 with 1 Axes>"
      ]
     },
     "metadata": {},
     "output_type": "display_data"
    }
   ],
   "source": [
    "energy_bwdt = 0.70\n",
    "sn.histplot(energy, binwidth=energy_bwdt)"
   ]
  },
  {
   "cell_type": "code",
   "execution_count": null,
   "id": "0b8aa933-2bd9-4e8c-9b28-bab6fc96901e",
   "metadata": {},
   "outputs": [],
   "source": []
  }
 ],
 "metadata": {
  "kernelspec": {
   "display_name": "Python 3 (ipykernel)",
   "language": "python",
   "name": "python3"
  },
  "language_info": {
   "codemirror_mode": {
    "name": "ipython",
    "version": 3
   },
   "file_extension": ".py",
   "mimetype": "text/x-python",
   "name": "python",
   "nbconvert_exporter": "python",
   "pygments_lexer": "ipython3",
   "version": "3.12.2"
  }
 },
 "nbformat": 4,
 "nbformat_minor": 5
}
