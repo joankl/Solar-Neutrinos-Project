{
 "cells": [
  {
   "cell_type": "markdown",
   "id": "4cfb1960-00bc-42bc-b597-564e7cefefb6",
   "metadata": {},
   "source": [
    "# Notebook Dedicated to Build the Observables of Interest and Save a Dataset for ML\n",
    "\n",
    "makes use of the data extracted from real_data_analysis notebook"
   ]
  },
  {
   "cell_type": "code",
   "execution_count": 1,
   "id": "cb028425-172e-4216-8362-2a1920e671bf",
   "metadata": {},
   "outputs": [],
   "source": [
    "import numpy as np\n",
    "import pandas as pd\n",
    "\n",
    "import seaborn as sn\n",
    "\n",
    "import glob\n",
    "import re"
   ]
  },
  {
   "cell_type": "code",
   "execution_count": 2,
   "id": "ac77cbe8-4a1a-4b5f-82a3-f5e44ceaa3c8",
   "metadata": {},
   "outputs": [],
   "source": [
    "def alpha_num_sort(list_route):\n",
    "    # Función auxiliar para extraer número de la ruta\n",
    "    def extract_num(route):\n",
    "        # Busca el primer número en el nombre del archivo\n",
    "        match = re.search(r'(\\d+)', route)\n",
    "        return int(match.group(1)) if match else -1  # Si no hay número, devuelve -1\n",
    "\n",
    "    # Ordena la lista usando el número extraído\n",
    "    return sorted(list_route, key=extract_num)"
   ]
  },
  {
   "cell_type": "markdown",
   "id": "1e33f84f-2d4d-4337-bf00-cfa089c5a2cf",
   "metadata": {},
   "source": [
    "# Load Data"
   ]
  },
  {
   "cell_type": "markdown",
   "id": "b8430443-3cdc-400e-9746-41885b1b1f69",
   "metadata": {},
   "source": [
    "Load the Data of each fragemented observables"
   ]
  },
  {
   "cell_type": "markdown",
   "id": "64afd520-17cb-4e99-8ca8-8d7778e9a113",
   "metadata": {},
   "source": [
    "### !! Before reading the Data and Saving the Dataset, define the cuts used to construct the pd.dataframe"
   ]
  },
  {
   "cell_type": "code",
   "execution_count": 32,
   "id": "aaaf56f6-9cba-4ce5-ac43-9fcf14b2ba31",
   "metadata": {},
   "outputs": [],
   "source": [
    "en_inf_cut = 2.5\n",
    "en_sup_cut = 12\n",
    "posr_cut = 5000"
   ]
  },
  {
   "cell_type": "code",
   "execution_count": 33,
   "id": "cffa5692-5da7-44a7-b94a-bd51faee8b14",
   "metadata": {},
   "outputs": [
    {
     "name": "stdout",
     "output_type": "stream",
     "text": [
      "preparing observable evtid\n",
      "preparing observable energy\n",
      "preparing observable posr\n",
      "preparing observable cos_alpha\n",
      "preparing observable hit_residual\n",
      "preparing observable clockCount50\n"
     ]
    }
   ],
   "source": [
    "main_dir = 'analysis_out/en_up_2_pt_5_MeV/'\n",
    "\n",
    "observable_name = ['evtid', 'energy', 'posr', 'cos_alpha', 'hit_residual', 'clockCount50']\n",
    "\n",
    "for var_i in observable_name:\n",
    "    print(f'preparing observable {var_i}')\n",
    "    #Prepare the empty arrays of the observables\n",
    "    locals()[var_i] = np.array([])\n",
    "    #create the file lists of the  fragemented observable in loop\n",
    "    flist_var_i = alpha_num_sort(glob.glob(main_dir + var_i + '_*.npy'))\n",
    "\n",
    "    for file_i in flist_var_i:\n",
    "        locals()[var_i] = np.append(locals()[var_i], np.load(file_i))\n",
    "\n",
    "#Prepare the empty arrays of the observables"
   ]
  },
  {
   "cell_type": "code",
   "execution_count": 34,
   "id": "f8f6bcd8-60e7-4895-9abc-8e5f79e37b67",
   "metadata": {},
   "outputs": [
    {
     "data": {
      "text/plain": [
       "(41174,)"
      ]
     },
     "execution_count": 34,
     "metadata": {},
     "output_type": "execute_result"
    }
   ],
   "source": [
    "energy.shape"
   ]
  },
  {
   "cell_type": "code",
   "execution_count": 35,
   "id": "634a8e63-07d0-4305-b946-7361e00ab20c",
   "metadata": {},
   "outputs": [
    {
     "data": {
      "text/plain": [
       "(421,)"
      ]
     },
     "execution_count": 35,
     "metadata": {},
     "output_type": "execute_result"
    }
   ],
   "source": [
    "np.unique(energy).shape"
   ]
  },
  {
   "cell_type": "code",
   "execution_count": 36,
   "id": "88f7fe03-a257-47aa-a4c6-788f22711989",
   "metadata": {},
   "outputs": [
    {
     "data": {
      "text/plain": [
       "(41174,)"
      ]
     },
     "execution_count": 36,
     "metadata": {},
     "output_type": "execute_result"
    }
   ],
   "source": [
    "posr.shape"
   ]
  },
  {
   "cell_type": "markdown",
   "id": "249e6593-4d4a-4412-875b-5ee81e3b94ff",
   "metadata": {},
   "source": [
    "# Organize Data by events\n",
    "\n",
    "1) Find where the evid breaks and extract the data within this interval as a single events;\n",
    "2) Construct the normalized Δα distribution 10x10 and flat the image;\n",
    "3) Extract only one energy and radial pos per events;"
   ]
  },
  {
   "cell_type": "code",
   "execution_count": 37,
   "id": "7eac5593-7890-4237-9ecb-e18530430b95",
   "metadata": {},
   "outputs": [],
   "source": [
    "#evID index break list\n",
    "\n",
    "data_break_i = [0]  #array whose elements are the index from where an event start and end.\n",
    "\n",
    "N_data = len(evtid)\n",
    "\n",
    "for i_dx in range(N_data - 1):\n",
    "    if evtid[i_dx] != evtid[i_dx+1]:\n",
    "        data_break_i.append(i_dx+1)\n",
    "\n",
    "#add the last index to complete the data_break_i list\n",
    "data_break_i.append(N_data - 1)"
   ]
  },
  {
   "cell_type": "code",
   "execution_count": 38,
   "id": "1bafd480-674f-4b77-8532-aabf30bd24f9",
   "metadata": {},
   "outputs": [
    {
     "name": "stderr",
     "output_type": "stream",
     "text": [
      "C:\\Users\\joanc\\AppData\\Local\\Temp\\ipykernel_16840\\2349763584.py:32: RuntimeWarning: invalid value encountered in divide\n",
      "  H_norm_ev_i = H_ev_i/sum_hit_ev_i\n"
     ]
    }
   ],
   "source": [
    "#empty list which will contain de non-repeated values of the observables for singles events\n",
    "energy_ev = []\n",
    "posr_ev = []\n",
    "#Empty array to be filled with the 100 pixel values of the normalized Δα Images\n",
    "pixels_ev = np.empty((0, 100))\n",
    "\n",
    "N_terms = len(data_break_i)\n",
    "\n",
    "for i_dx in range(N_terms - 2):\n",
    "    init_i = data_break_i[i_dx]\n",
    "    final_i = data_break_i[i_dx+1]\n",
    "\n",
    "    #energy\n",
    "    energy_ev_i = energy[init_i : final_i]\n",
    "    energy_ev.append(energy_ev_i[0])\n",
    "\n",
    "    #position\n",
    "    posr_ev_i = posr[init_i : final_i]\n",
    "    posr_ev.append(posr_ev_i[0])\n",
    "\n",
    "    #Normalized Δα pixel values:\n",
    "    #extract the time residuals and cos(α)\n",
    "    time_residual_ev_i = hit_residual[init_i : final_i]\n",
    "    cos_alpha_ev_i = cos_alpha[init_i : final_i]\n",
    "\n",
    "    #Construct the 2D binned histogram\n",
    "    bins = 10 #Image dim\n",
    "    H_ev_i, _, _ = np.histogram2d(x = cos_alpha_ev_i, y = time_residual_ev_i, bins = [bins, bins])\n",
    "    #print(H_ev_i)\n",
    "    #Normalize the Histogram by NCounts in a slice of cos(α) along all the time residual\n",
    "    sum_hit_ev_i = np.sum(H_ev_i, axis = 0)\n",
    "    H_norm_ev_i = H_ev_i/sum_hit_ev_i\n",
    "    H_norm_ev_i = np.nan_to_num(H_norm_ev_i, nan = 0.0)\n",
    "\n",
    "    H_norm_flaten = H_norm_ev_i.reshape(1,100) #here we should have an array with 100 entries\n",
    "    #print(H_norm_flaten0.shape)\n",
    "    pixels_ev = np.append(pixels_ev, H_norm_flaten, axis = 0)\n",
    "\n",
    "energy_ev = np.array(energy_ev)\n",
    "posr_ev = np.array(posr_ev)"
   ]
  },
  {
   "cell_type": "code",
   "execution_count": 40,
   "id": "b782c2ac-9861-459d-8a64-e290b0ce9710",
   "metadata": {},
   "outputs": [
    {
     "data": {
      "text/plain": [
       "(421,)"
      ]
     },
     "execution_count": 40,
     "metadata": {},
     "output_type": "execute_result"
    }
   ],
   "source": [
    "energy_ev.shape"
   ]
  },
  {
   "cell_type": "code",
   "execution_count": 41,
   "id": "14a4006b-e88c-4c4d-87a8-2516995ccd0f",
   "metadata": {},
   "outputs": [
    {
     "data": {
      "text/plain": [
       "(421,)"
      ]
     },
     "execution_count": 41,
     "metadata": {},
     "output_type": "execute_result"
    }
   ],
   "source": [
    "posr_ev.shape"
   ]
  },
  {
   "cell_type": "code",
   "execution_count": 42,
   "id": "df977608-a360-4070-989d-9e41dbdd18d9",
   "metadata": {},
   "outputs": [
    {
     "data": {
      "text/plain": [
       "(421, 100)"
      ]
     },
     "execution_count": 42,
     "metadata": {},
     "output_type": "execute_result"
    }
   ],
   "source": [
    "pixels_ev.shape"
   ]
  },
  {
   "cell_type": "markdown",
   "id": "bb99e5e5-f6c6-449f-9321-16d31dbacb6e",
   "metadata": {},
   "source": [
    "# Construct the Pandas Dataframe of Real Data"
   ]
  },
  {
   "cell_type": "code",
   "execution_count": 39,
   "id": "8471b5d3-1d43-4a3f-abfc-f293027218f3",
   "metadata": {},
   "outputs": [
    {
     "name": "stderr",
     "output_type": "stream",
     "text": [
      "C:\\Users\\joanc\\AppData\\Local\\Temp\\ipykernel_16840\\4158850838.py:14: PerformanceWarning: DataFrame is highly fragmented.  This is usually the result of calling `frame.insert` many times, which has poor performance.  Consider joining all columns at once using pd.concat(axis=1) instead. To get a de-fragmented frame, use `newframe = frame.copy()`\n",
      "  df['energy (MeV)'] = energy_ev\n",
      "C:\\Users\\joanc\\AppData\\Local\\Temp\\ipykernel_16840\\4158850838.py:15: PerformanceWarning: DataFrame is highly fragmented.  This is usually the result of calling `frame.insert` many times, which has poor performance.  Consider joining all columns at once using pd.concat(axis=1) instead. To get a de-fragmented frame, use `newframe = frame.copy()`\n",
      "  df['radius (mm)'] = posr_ev\n"
     ]
    }
   ],
   "source": [
    "save = True\n",
    "N_pixels = pixels_ev.shape[1]\n",
    "\n",
    "for i in range(N_pixels):\n",
    "    locals()['pixel_' + str(i)] = pixels_ev[:,i]\n",
    "\n",
    "#Construct Data Frame with the pixel values\n",
    "data = {}\n",
    "df = pd.DataFrame(data)\n",
    "\n",
    "for i in range(N_pixels):\n",
    "    df['pixel_'+str(i)] = locals()['pixel_' +str(i)]\n",
    "\n",
    "df['energy (MeV)'] = energy_ev\n",
    "df['radius (mm)'] = posr_ev\n",
    "\n",
    "if save:\n",
    "    #save the pandas df\n",
    "    df.to_csv(f'real_dataset_ML/real_dataset_E_{en_inf_cut}_{en_sup_cut}_MeV_R_{posr_cut}_mm.csv')"
   ]
  },
  {
   "cell_type": "code",
   "execution_count": 31,
   "id": "6b7665d5-8c5b-4779-8f6c-d2fa0088fca8",
   "metadata": {},
   "outputs": [
    {
     "data": {
      "text/html": [
       "<div>\n",
       "<style scoped>\n",
       "    .dataframe tbody tr th:only-of-type {\n",
       "        vertical-align: middle;\n",
       "    }\n",
       "\n",
       "    .dataframe tbody tr th {\n",
       "        vertical-align: top;\n",
       "    }\n",
       "\n",
       "    .dataframe thead th {\n",
       "        text-align: right;\n",
       "    }\n",
       "</style>\n",
       "<table border=\"1\" class=\"dataframe\">\n",
       "  <thead>\n",
       "    <tr style=\"text-align: right;\">\n",
       "      <th></th>\n",
       "      <th>pixel_0</th>\n",
       "      <th>pixel_1</th>\n",
       "      <th>pixel_2</th>\n",
       "      <th>pixel_3</th>\n",
       "      <th>pixel_4</th>\n",
       "      <th>pixel_5</th>\n",
       "      <th>pixel_6</th>\n",
       "      <th>pixel_7</th>\n",
       "      <th>pixel_8</th>\n",
       "      <th>pixel_9</th>\n",
       "      <th>...</th>\n",
       "      <th>pixel_92</th>\n",
       "      <th>pixel_93</th>\n",
       "      <th>pixel_94</th>\n",
       "      <th>pixel_95</th>\n",
       "      <th>pixel_96</th>\n",
       "      <th>pixel_97</th>\n",
       "      <th>pixel_98</th>\n",
       "      <th>pixel_99</th>\n",
       "      <th>energy (MeV)</th>\n",
       "      <th>radius (mm)</th>\n",
       "    </tr>\n",
       "  </thead>\n",
       "  <tbody>\n",
       "    <tr>\n",
       "      <th>0</th>\n",
       "      <td>0.0</td>\n",
       "      <td>0.00</td>\n",
       "      <td>0.0</td>\n",
       "      <td>0.2</td>\n",
       "      <td>0.000000</td>\n",
       "      <td>0.10</td>\n",
       "      <td>0.058824</td>\n",
       "      <td>0.131579</td>\n",
       "      <td>0.148148</td>\n",
       "      <td>0.100000</td>\n",
       "      <td>...</td>\n",
       "      <td>0.000000</td>\n",
       "      <td>0.200000</td>\n",
       "      <td>0.111111</td>\n",
       "      <td>0.000000</td>\n",
       "      <td>0.000000</td>\n",
       "      <td>0.105263</td>\n",
       "      <td>0.037037</td>\n",
       "      <td>0.133333</td>\n",
       "      <td>4.044874</td>\n",
       "      <td>2425.253906</td>\n",
       "    </tr>\n",
       "    <tr>\n",
       "      <th>1</th>\n",
       "      <td>0.0</td>\n",
       "      <td>0.25</td>\n",
       "      <td>0.0</td>\n",
       "      <td>0.0</td>\n",
       "      <td>0.117647</td>\n",
       "      <td>0.00</td>\n",
       "      <td>0.000000</td>\n",
       "      <td>0.076923</td>\n",
       "      <td>0.107143</td>\n",
       "      <td>0.137931</td>\n",
       "      <td>...</td>\n",
       "      <td>0.125000</td>\n",
       "      <td>0.000000</td>\n",
       "      <td>0.117647</td>\n",
       "      <td>0.153846</td>\n",
       "      <td>0.160000</td>\n",
       "      <td>0.076923</td>\n",
       "      <td>0.178571</td>\n",
       "      <td>0.068966</td>\n",
       "      <td>3.546911</td>\n",
       "      <td>3926.669922</td>\n",
       "    </tr>\n",
       "    <tr>\n",
       "      <th>2</th>\n",
       "      <td>0.0</td>\n",
       "      <td>0.00</td>\n",
       "      <td>0.0</td>\n",
       "      <td>0.2</td>\n",
       "      <td>0.083333</td>\n",
       "      <td>0.25</td>\n",
       "      <td>0.000000</td>\n",
       "      <td>0.000000</td>\n",
       "      <td>0.000000</td>\n",
       "      <td>0.103448</td>\n",
       "      <td>...</td>\n",
       "      <td>0.142857</td>\n",
       "      <td>0.200000</td>\n",
       "      <td>0.166667</td>\n",
       "      <td>0.250000</td>\n",
       "      <td>0.166667</td>\n",
       "      <td>0.090909</td>\n",
       "      <td>0.000000</td>\n",
       "      <td>0.034483</td>\n",
       "      <td>3.584208</td>\n",
       "      <td>1686.395874</td>\n",
       "    </tr>\n",
       "    <tr>\n",
       "      <th>3</th>\n",
       "      <td>0.0</td>\n",
       "      <td>0.00</td>\n",
       "      <td>0.0</td>\n",
       "      <td>0.0</td>\n",
       "      <td>0.076923</td>\n",
       "      <td>0.00</td>\n",
       "      <td>0.000000</td>\n",
       "      <td>0.080000</td>\n",
       "      <td>0.000000</td>\n",
       "      <td>0.032258</td>\n",
       "      <td>...</td>\n",
       "      <td>0.142857</td>\n",
       "      <td>0.111111</td>\n",
       "      <td>0.230769</td>\n",
       "      <td>0.238095</td>\n",
       "      <td>0.058824</td>\n",
       "      <td>0.240000</td>\n",
       "      <td>0.178571</td>\n",
       "      <td>0.193548</td>\n",
       "      <td>4.000314</td>\n",
       "      <td>3871.861816</td>\n",
       "    </tr>\n",
       "    <tr>\n",
       "      <th>4</th>\n",
       "      <td>0.0</td>\n",
       "      <td>0.00</td>\n",
       "      <td>0.0</td>\n",
       "      <td>0.0</td>\n",
       "      <td>0.000000</td>\n",
       "      <td>0.05</td>\n",
       "      <td>0.000000</td>\n",
       "      <td>0.000000</td>\n",
       "      <td>0.023256</td>\n",
       "      <td>0.054054</td>\n",
       "      <td>...</td>\n",
       "      <td>0.090909</td>\n",
       "      <td>0.125000</td>\n",
       "      <td>0.277778</td>\n",
       "      <td>0.150000</td>\n",
       "      <td>0.178571</td>\n",
       "      <td>0.111111</td>\n",
       "      <td>0.232558</td>\n",
       "      <td>0.189189</td>\n",
       "      <td>4.135279</td>\n",
       "      <td>3998.809082</td>\n",
       "    </tr>\n",
       "  </tbody>\n",
       "</table>\n",
       "<p>5 rows × 102 columns</p>\n",
       "</div>"
      ],
      "text/plain": [
       "   pixel_0  pixel_1  pixel_2  pixel_3   pixel_4  pixel_5   pixel_6   pixel_7  \\\n",
       "0      0.0     0.00      0.0      0.2  0.000000     0.10  0.058824  0.131579   \n",
       "1      0.0     0.25      0.0      0.0  0.117647     0.00  0.000000  0.076923   \n",
       "2      0.0     0.00      0.0      0.2  0.083333     0.25  0.000000  0.000000   \n",
       "3      0.0     0.00      0.0      0.0  0.076923     0.00  0.000000  0.080000   \n",
       "4      0.0     0.00      0.0      0.0  0.000000     0.05  0.000000  0.000000   \n",
       "\n",
       "    pixel_8   pixel_9  ...  pixel_92  pixel_93  pixel_94  pixel_95  pixel_96  \\\n",
       "0  0.148148  0.100000  ...  0.000000  0.200000  0.111111  0.000000  0.000000   \n",
       "1  0.107143  0.137931  ...  0.125000  0.000000  0.117647  0.153846  0.160000   \n",
       "2  0.000000  0.103448  ...  0.142857  0.200000  0.166667  0.250000  0.166667   \n",
       "3  0.000000  0.032258  ...  0.142857  0.111111  0.230769  0.238095  0.058824   \n",
       "4  0.023256  0.054054  ...  0.090909  0.125000  0.277778  0.150000  0.178571   \n",
       "\n",
       "   pixel_97  pixel_98  pixel_99  energy (MeV)  radius (mm)  \n",
       "0  0.105263  0.037037  0.133333      4.044874  2425.253906  \n",
       "1  0.076923  0.178571  0.068966      3.546911  3926.669922  \n",
       "2  0.090909  0.000000  0.034483      3.584208  1686.395874  \n",
       "3  0.240000  0.178571  0.193548      4.000314  3871.861816  \n",
       "4  0.111111  0.232558  0.189189      4.135279  3998.809082  \n",
       "\n",
       "[5 rows x 102 columns]"
      ]
     },
     "execution_count": 31,
     "metadata": {},
     "output_type": "execute_result"
    }
   ],
   "source": [
    "df.head()"
   ]
  },
  {
   "cell_type": "code",
   "execution_count": null,
   "id": "c59981ce-85b0-4858-b595-3eacdf7ae3de",
   "metadata": {},
   "outputs": [],
   "source": []
  }
 ],
 "metadata": {
  "kernelspec": {
   "display_name": "Python 3 (ipykernel)",
   "language": "python",
   "name": "python3"
  },
  "language_info": {
   "codemirror_mode": {
    "name": "ipython",
    "version": 3
   },
   "file_extension": ".py",
   "mimetype": "text/x-python",
   "name": "python",
   "nbconvert_exporter": "python",
   "pygments_lexer": "ipython3",
   "version": "3.12.2"
  }
 },
 "nbformat": 4,
 "nbformat_minor": 5
}
