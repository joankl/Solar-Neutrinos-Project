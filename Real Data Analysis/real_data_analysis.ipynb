{
 "cells": [
  {
   "cell_type": "markdown",
   "id": "6afa52a1-f6d3-4a5d-9deb-5625e7e079a2",
   "metadata": {},
   "source": [
    "# Notebook Dedicado a Explorar Datos Reales candidatos a solar Nue y Guardar los Datos que seran usados para Construir el Dataset de ML en otro Notebook"
   ]
  },
  {
   "cell_type": "code",
   "execution_count": 1,
   "id": "623f8316-e360-44f7-b26f-dbec1dcdecab",
   "metadata": {},
   "outputs": [],
   "source": [
    "import uproot\n",
    "import numpy as np\n",
    "\n",
    "import glob\n",
    "import re\n",
    "import os\n",
    "\n",
    "import seaborn as sn\n",
    "import matplotlib\n",
    "import matplotlib.pyplot as plt\n",
    "from matplotlib import cm"
   ]
  },
  {
   "cell_type": "markdown",
   "id": "889ce9bc-35da-4564-8bbc-07b32109a493",
   "metadata": {},
   "source": [
    "# Read Files"
   ]
  },
  {
   "cell_type": "code",
   "execution_count": 2,
   "id": "5849cf1f-1693-4964-abbf-fd12e64cf318",
   "metadata": {
    "scrolled": true
   },
   "outputs": [
    {
     "data": {
      "text/plain": [
       "['E:/Data/solars/solarnu_Realdata/energy_down_2_pt_5_MeV/Bi214_coinc_2.5MeV\\\\real_data_solar_analysis_0.root',\n",
       " 'E:/Data/solars/solarnu_Realdata/energy_down_2_pt_5_MeV/Bi214_coinc_2.5MeV\\\\real_data_solar_analysis_1.root',\n",
       " 'E:/Data/solars/solarnu_Realdata/energy_down_2_pt_5_MeV/Bi214_coinc_2.5MeV\\\\real_data_solar_analysis_2.root',\n",
       " 'E:/Data/solars/solarnu_Realdata/energy_down_2_pt_5_MeV/Bi214_coinc_2.5MeV\\\\real_data_solar_analysis_3.root',\n",
       " 'E:/Data/solars/solarnu_Realdata/energy_down_2_pt_5_MeV/Bi214_coinc_2.5MeV\\\\real_data_solar_analysis_4.root',\n",
       " 'E:/Data/solars/solarnu_Realdata/energy_down_2_pt_5_MeV/Bi214_coinc_2.5MeV\\\\real_data_solar_analysis_5.root',\n",
       " 'E:/Data/solars/solarnu_Realdata/energy_down_2_pt_5_MeV/Bi214_coinc_2.5MeV\\\\real_data_solar_analysis_6.root',\n",
       " 'E:/Data/solars/solarnu_Realdata/energy_down_2_pt_5_MeV/Bi214_coinc_2.5MeV\\\\real_data_solar_analysis_7.root',\n",
       " 'E:/Data/solars/solarnu_Realdata/energy_down_2_pt_5_MeV/Bi214_coinc_2.5MeV\\\\real_data_solar_analysis_8.root',\n",
       " 'E:/Data/solars/solarnu_Realdata/energy_down_2_pt_5_MeV/Bi214_coinc_2.5MeV\\\\real_data_solar_analysis_9.root',\n",
       " 'E:/Data/solars/solarnu_Realdata/energy_down_2_pt_5_MeV/Bi214_coinc_2.5MeV\\\\real_data_solar_analysis_10.root',\n",
       " 'E:/Data/solars/solarnu_Realdata/energy_down_2_pt_5_MeV/Bi214_coinc_2.5MeV\\\\real_data_solar_analysis_11.root',\n",
       " 'E:/Data/solars/solarnu_Realdata/energy_down_2_pt_5_MeV/Bi214_coinc_2.5MeV\\\\real_data_solar_analysis_12.root',\n",
       " 'E:/Data/solars/solarnu_Realdata/energy_down_2_pt_5_MeV/Bi214_coinc_2.5MeV\\\\real_data_solar_analysis_13.root',\n",
       " 'E:/Data/solars/solarnu_Realdata/energy_down_2_pt_5_MeV/Bi214_coinc_2.5MeV\\\\real_data_solar_analysis_14.root',\n",
       " 'E:/Data/solars/solarnu_Realdata/energy_down_2_pt_5_MeV/Bi214_coinc_2.5MeV\\\\real_data_solar_analysis_15.root',\n",
       " 'E:/Data/solars/solarnu_Realdata/energy_down_2_pt_5_MeV/Bi214_coinc_2.5MeV\\\\real_data_solar_analysis_16.root',\n",
       " 'E:/Data/solars/solarnu_Realdata/energy_down_2_pt_5_MeV/Bi214_coinc_2.5MeV\\\\real_data_solar_analysis_17.root',\n",
       " 'E:/Data/solars/solarnu_Realdata/energy_down_2_pt_5_MeV/Bi214_coinc_2.5MeV\\\\real_data_solar_analysis_18.root',\n",
       " 'E:/Data/solars/solarnu_Realdata/energy_down_2_pt_5_MeV/Bi214_coinc_2.5MeV\\\\real_data_solar_analysis_19.root',\n",
       " 'E:/Data/solars/solarnu_Realdata/energy_down_2_pt_5_MeV/Bi214_coinc_2.5MeV\\\\real_data_solar_analysis_20.root',\n",
       " 'E:/Data/solars/solarnu_Realdata/energy_down_2_pt_5_MeV/Bi214_coinc_2.5MeV\\\\real_data_solar_analysis_21.root',\n",
       " 'E:/Data/solars/solarnu_Realdata/energy_down_2_pt_5_MeV/Bi214_coinc_2.5MeV\\\\real_data_solar_analysis_22.root',\n",
       " 'E:/Data/solars/solarnu_Realdata/energy_down_2_pt_5_MeV/Bi214_coinc_2.5MeV\\\\real_data_solar_analysis_23.root',\n",
       " 'E:/Data/solars/solarnu_Realdata/energy_down_2_pt_5_MeV/Bi214_coinc_2.5MeV\\\\real_data_solar_analysis_24.root',\n",
       " 'E:/Data/solars/solarnu_Realdata/energy_down_2_pt_5_MeV/Bi214_coinc_2.5MeV\\\\real_data_solar_analysis_25.root',\n",
       " 'E:/Data/solars/solarnu_Realdata/energy_down_2_pt_5_MeV/Bi214_coinc_2.5MeV\\\\real_data_solar_analysis_26.root',\n",
       " 'E:/Data/solars/solarnu_Realdata/energy_down_2_pt_5_MeV/Bi214_coinc_2.5MeV\\\\real_data_solar_analysis_27.root',\n",
       " 'E:/Data/solars/solarnu_Realdata/energy_down_2_pt_5_MeV/Bi214_coinc_2.5MeV\\\\real_data_solar_analysis_28.root']"
      ]
     },
     "execution_count": 2,
     "metadata": {},
     "output_type": "execute_result"
    }
   ],
   "source": [
    "main_dir = 'E:/Data/solars/solarnu_Realdata/energy_down_2_pt_5_MeV/Bi214_coinc_2.5MeV/'\n",
    "fname_pattern = 'real_data_solar_analysis_*.root'\n",
    "\n",
    "flist = glob.glob(os.path.join(main_dir, fname_pattern))\n",
    "\n",
    "def alpha_num_sort(list_route):\n",
    "    def extract_num(route):\n",
    "        filename = os.path.basename(route)\n",
    "        match = re.search(r'analysis_(\\d+)\\.root$', filename)\n",
    "        return int(match.group(1)) if match else -1\n",
    "    return sorted(list_route, key=extract_num)\n",
    "\n",
    "flist = alpha_num_sort(flist)\n",
    "flist"
   ]
  },
  {
   "cell_type": "code",
   "execution_count": 3,
   "id": "3289dbd9-b170-4ecd-85b5-9b5520fbd068",
   "metadata": {},
   "outputs": [
    {
     "name": "stdout",
     "output_type": "stream",
     "text": [
      "['T;1', 'pmt;1']\n"
     ]
    },
    {
     "data": {
      "text/plain": [
       "(757,)"
      ]
     },
     "execution_count": 3,
     "metadata": {},
     "output_type": "execute_result"
    }
   ],
   "source": [
    "file = uproot.open(flist[0])\n",
    "print(file.keys())\n",
    "data = file['T;1']\n",
    "np.unique(np.array(data['energy'])).shape"
   ]
  },
  {
   "cell_type": "code",
   "execution_count": 4,
   "id": "75665c3e-7132-45e3-8703-b3fbd0c35219",
   "metadata": {},
   "outputs": [
    {
     "data": {
      "text/plain": [
       "['energy',\n",
       " 'evtid',\n",
       " 'evtid_bi214',\n",
       " 'ev_time_day',\n",
       " 'ev_time_sec',\n",
       " 'ev_time_nanosec',\n",
       " 'position',\n",
       " 'pos_position_error',\n",
       " 'neg_position_error',\n",
       " 'dc_flag',\n",
       " 'neck_nhit_pmt',\n",
       " 'hit_pmtid',\n",
       " 'hit_pmttime',\n",
       " 'clockCount50',\n",
       " 'hit_residual']"
      ]
     },
     "execution_count": 4,
     "metadata": {},
     "output_type": "execute_result"
    }
   ],
   "source": [
    "data = file['T;1']\n",
    "data.keys()"
   ]
  },
  {
   "cell_type": "markdown",
   "id": "792dfbca-a575-4601-ac39-02ec6b29a205",
   "metadata": {},
   "source": [
    "# Solar Direction Function"
   ]
  },
  {
   "cell_type": "code",
   "execution_count": 6,
   "id": "f40edb04-56ff-4e13-9e49-33cf9e2a7ae1",
   "metadata": {},
   "outputs": [],
   "source": [
    "def sun_direction(UTdays, UTsecs, UTnsecs):\n",
    "\n",
    "    #Esta funcion no recibe un array de numeros! solo valores numericos y no listas.\n",
    "    # Constantes\n",
    "    labtwist_degrees = -49.58\n",
    "    pi = np.pi\n",
    "    twopi = 2 * pi\n",
    "    to_rad = pi / 180.0\n",
    "\n",
    "    # Offset en días: diferencia entre el tiempo cero de SNO+ (1 Jan 2010) y Jan 0, 2000\n",
    "    days_offset = 2451543.5 - 2455197.5\n",
    "\n",
    "    # Días desde Jan 0, 2000\n",
    "    days = UTdays + UTsecs / 86400.0 + UTnsecs / (1.0e9 * 86400.0) - days_offset\n",
    "\n",
    "    # Constantes astronómicas\n",
    "    ecl = (23.4393 - 3.563E-7 * days) * to_rad\n",
    "    w = (282.9404 + 4.70935E-5 * days) * to_rad\n",
    "    e = 0.016709 - 1.151E-9 * days\n",
    "    ma = (356.0470 + 0.9856002585 * days) * to_rad\n",
    "\n",
    "    # Eccentric anomaly\n",
    "    ea = ma + e * np.sin(ma) * (1.0 + e * np.cos(ma))\n",
    "\n",
    "    # Dirección hacia el Sol (coordenadas eclípticas)\n",
    "    xv = np.cos(ea) - e\n",
    "    yv = np.sqrt(1.0 - e * e) * np.sin(ea)\n",
    "\n",
    "    # True anomaly\n",
    "    v = np.arctan2(yv, xv)\n",
    "\n",
    "    # Longitud solar\n",
    "    sun_longitude = v + w\n",
    "\n",
    "    # Coordenadas geocéntricas eclípticas\n",
    "    xs = np.cos(sun_longitude)\n",
    "    ys = np.sin(sun_longitude)\n",
    "    vec1 = np.array([\n",
    "        ys * np.cos(ecl),\n",
    "        ys * np.sin(ecl),\n",
    "        xs\n",
    "    ])\n",
    "\n",
    "    # Rotación terrestre diaria\n",
    "    k0 = 0.27499\n",
    "    k1 = 1.0 + 1.0 / 365.2425\n",
    "    spin = k0 + k1 * days\n",
    "    spin_angle = (spin - int(spin)) * twopi\n",
    "\n",
    "    # Latitud y longitud del detector (en radianes)\n",
    "    longitude = (81 + 12 / 60 + 5 / 3600) * to_rad\n",
    "    latitude = (46 + 28 / 60 + 31.0 / 3600) * to_rad\n",
    "    labtwist = labtwist_degrees * to_rad\n",
    "\n",
    "    # Rotaciones: Z(labtwist) * X(latitude) * Y(longitude - spin_angle)\n",
    "    def rotation_matrix_y(angle):\n",
    "        return np.array([\n",
    "            [np.cos(angle), 0, np.sin(angle)],\n",
    "            [0, 1, 0],\n",
    "            [-np.sin(angle), 0, np.cos(angle)]\n",
    "        ])\n",
    "\n",
    "    def rotation_matrix_x(angle):\n",
    "        return np.array([\n",
    "            [1, 0, 0],\n",
    "            [0, np.cos(angle), -np.sin(angle)],\n",
    "            [0, np.sin(angle), np.cos(angle)]\n",
    "        ])\n",
    "\n",
    "    def rotation_matrix_z(angle):\n",
    "        return np.array([\n",
    "            [np.cos(angle), -np.sin(angle), 0],\n",
    "            [np.sin(angle), np.cos(angle), 0],\n",
    "            [0, 0, 1]\n",
    "        ])\n",
    "\n",
    "    rot = (\n",
    "        rotation_matrix_z(labtwist) @\n",
    "        rotation_matrix_x(latitude) @\n",
    "        rotation_matrix_y(longitude - spin_angle)\n",
    "    )\n",
    "\n",
    "    sun_dir = rot @ vec1  # Producto matriz * vector\n",
    "\n",
    "    return sun_dir  # Es un array de 3 elementos: [x, y, z]"
   ]
  },
  {
   "cell_type": "markdown",
   "id": "8269b6e5-3b98-4294-a400-a53c2bcf9c83",
   "metadata": {},
   "source": [
    "# Analysis Function - Data Selection, cos alpha computatation and Data Storing"
   ]
  },
  {
   "cell_type": "raw",
   "id": "d1fdcafc-30df-431e-93d9-1ac3be29c81e",
   "metadata": {
    "jupyter": {
     "source_hidden": true
    }
   },
   "source": [
    "#Function to Compute the radial position of events\n",
    "def magnitude(vector): \n",
    "    x = vector[:,0]\n",
    "    y = vector[:,1]\n",
    "    z = vector[:,2]\n",
    "\n",
    "    r = np.sqrt(x**2 + y**2 + z**2)\n",
    "    r = r.astype(np.float32)\n",
    "    return r\n",
    "\n",
    "#Analysis code settings  ------------------------------\n",
    "\n",
    "out_file_dir = 'analysis_out/'\n",
    "\n",
    "#Data Cuts:\n",
    "energy_inf_cut = 2.5\n",
    "energy_sup_cut = 12\n",
    "\n",
    "time_res_inf_cut = -5.0\n",
    "time_res_sup_cut = 7.0\n",
    "\n",
    "posr_cut = 5500\n",
    "\n",
    "#Delta_t (ns) between events\n",
    "\n",
    "#dcflag_cut = int(0x2100000042C2)\n",
    "\n",
    "#Nº of splitten loops to analyze the data: \n",
    "#N_split = 20 # the more split, the less memory expensive is the code\n",
    "#------------------------------------------------------\n",
    "\n",
    "for input_file_dir in flist:\n",
    "    print(f'In file {input_file_dir}')\n",
    "    \n",
    "    #Load the Data:\n",
    "    load_data = uproot.open(input_file_dir)\n",
    "    \n",
    "    #select the tree of event data and PMT info\n",
    "    event_data = load_data['T;1']\n",
    "    pmt_data = load_data['pmt;1']\n",
    "    \n",
    "    #event info to be used:\n",
    "    var_event_list = ['evtid', 'energy', 'position', 'hit_pmtid', \n",
    "                      'hit_residual', 'dc_flag', 'ev_time_day', \n",
    "                      'ev_time_sec', 'ev_time_nanosec', 'clockCount50']  #list the name of the varibles to be extracted and used for the solarnu analysis.\n",
    "    \n",
    "    #pmt info to be used\n",
    "    var_pmt_list = ['pmt_id', 'pmt_pos_xyz', 'pmt_type']\n",
    "    \n",
    "    #Observables to save\n",
    "    var_name_save_list = ['evtid','energy', 'posr', 'hit_residual', 'clockCount50']\n",
    "    multi_cos_alpha = np.array([]) #create the empty list of the cos_alpha for the multiple PMTs record\n",
    "    \n",
    "    # Extract the variables with the name of the var_event_list in numpy.array from the .root file\n",
    "\n",
    "    for var_name_i in var_event_list:\n",
    "        locals()[var_name_i] = np.array(event_data[var_name_i])\n",
    "\n",
    "        clock Count transformation\n",
    "        if var_name_i == 'clockCount50':\n",
    "            clockCount50 = clockCount50*20\n",
    "        #print(f'Loaded Observable {var_name_i} and value: ', locals()[var_name_i])\n",
    "\n",
    "\n",
    "    \n",
    "    # Compute the distance from the reconst. vertx to the center of the detector\n",
    "    posr = magnitude(position)\n",
    "    \n",
    "    # Extract the pmt info\n",
    "    for var_name_i in var_pmt_list:\n",
    "        locals()[var_name_i] = np.array(pmt_data[var_name_i])\n",
    "        #print(f'Loaded PMT infor {var_name_i} and values: ', locals()[var_name_i])\n",
    "    \n",
    "    # Select the valid PMT information through pmt_type selection\n",
    "    pmt_type_condition = (pmt_type == 1)\n",
    "    \n",
    "    #Selecting the pmt_id_valid is enough to filter all the PMT info (as the pmt_pos):\n",
    "    #for example, selecting the valid hit_pmtid will automatically choose the valid pmt_pos using the pmtid as the index of the data\n",
    "    pmt_id_valid = pmt_id[pmt_type_condition] #list with the valid pmt_id\n",
    "    \n",
    "    #Extract the valid components of the event data through the selection of the pmt_id_valid:\n",
    "    hit_pmt_id_condition = np.in1d(hit_pmtid, pmt_id_valid)\n",
    "    #Also include  general cuts on energy and event position, and a dcFlag cut\n",
    "    energy_condition = (energy >= energy_inf_cut) & (energy <= energy_sup_cut)\n",
    "    time_res_condition = (hit_residual >= time_res_inf_cut) & (hit_residual <= time_res_sup_cut)\n",
    "    posr_condition = (posr <= 5500 )\n",
    "    #dcFlag_condition = ((dcflag_cut & dc_flag) == int(mask_cut))\n",
    "    \n",
    "    general_condition = hit_pmt_id_condition & energy_condition & time_res_condition & posr_condition #& dcFlag_condition\n",
    "    \n",
    "    #Loop to extract the samples which verify general condition\n",
    "    for var_name_i in var_event_list:\n",
    "        #print('before pmt_id selection', locals()[var_name_i].shape)\n",
    "        locals()[var_name_i] = locals()[var_name_i][general_condition]  #selection of the observable entries that verify the general condition\n",
    "        #print('after pmt_id selection', locals()[var_name_i].shape)\n",
    "    posr = posr[general_condition]\n",
    "    \n",
    "    #Now, save the observables of interest from var_event_list after general condition cut. This include the Time Residuals!\n",
    "    for var_name_i in var_name_save_list:\n",
    "        np.save(out_file_dir + var_name_i, locals()[var_name_i])\n",
    "    \n",
    "    #Loop over PMTs records to compute the angle between each hit PMT and the Sun direction: ----------------------------------------------------------\n",
    "    \n",
    "    N_samples = len(hit_residual) #Number of samples to be analyzed\n",
    "    #sample_idx_split = np.slipt(np.array(range(N_samples)), N_split) # A list splitten in N_sample arrays which contains the sample index\n",
    "\n",
    "    \n",
    "    for sample_idx in range(N_samples):    \n",
    "        #Extract universal time for this event:\n",
    "        Utime_day = ev_time_day[sample_idx]\n",
    "        Utime_sec = ev_time_sec[sample_idx]\n",
    "        Utime_nsec = ev_time_nanosec[sample_idx]\n",
    "    \n",
    "        #Compute the Sun's outward direction\n",
    "        sun_dir = sun_direction(UTdays = Utime_day, UTsecs = Utime_sec, UTnsecs = Utime_nsec)*(-1)\n",
    "        #print(f'sun direction: {sun_dir}')\n",
    "    \n",
    "        #Extract the hit PMT coordinates:\n",
    "        pmt_hit_id = hit_pmtid[sample_idx]  # first take the id of the hit PMT to look for its coordinates. \n",
    "        pmt_hit_xyz = pmt_pos_xyz[pmt_hit_id] # The ID is equivalent to the index of the pmt_pos.\n",
    "        #print(f'pmt direction: {pmt_hit_xyz}')\n",
    "    \n",
    "        #Compute the cos_alpha of the angles between hit_pmt with the sun direction by the scalar product definition: The Sun vector verifies norm = 1\n",
    "        #cos(alpha) = dot_prod/norm1*norm2  \n",
    "        norm2 = np.linalg.norm(pmt_hit_xyz)\n",
    "        pmt_hit_xyz = pmt_hit_xyz/norm2  #normalized vector\n",
    "        \n",
    "        dot_prod = np.dot(sun_dir, pmt_hit_xyz)\n",
    "        \n",
    "        cos_alpha = dot_prod\n",
    "        #print(f'cos of angle = {cos_alpha}')\n",
    "        \n",
    "        multi_cos_alpha = np.append(multi_cos_alpha, cos_alpha)\n",
    "    \n",
    "        #save the cos_alpha computation\n",
    "        np.save(out_file_dir + 'cos_alpha', multi_cos_alpha)\n",
    "# -----------------------------------------------------------------------------------------------------------------------------------------------------------"
   ]
  },
  {
   "cell_type": "code",
   "execution_count": 7,
   "id": "40701a46-e71a-45fb-89ea-13f65b4d3ea6",
   "metadata": {
    "scrolled": true
   },
   "outputs": [
    {
     "name": "stdout",
     "output_type": "stream",
     "text": [
      "In file E:/Data/solars/solarnu_Realdata/energy_down_2_pt_5_MeV/Bi214_coinc_2.5MeV\\real_data_solar_analysis_0.root\n",
      "performing general cuts\n",
      "In file E:/Data/solars/solarnu_Realdata/energy_down_2_pt_5_MeV/Bi214_coinc_2.5MeV\\real_data_solar_analysis_1.root\n",
      "performing general cuts\n",
      "In file E:/Data/solars/solarnu_Realdata/energy_down_2_pt_5_MeV/Bi214_coinc_2.5MeV\\real_data_solar_analysis_2.root\n",
      "performing general cuts\n",
      "In file E:/Data/solars/solarnu_Realdata/energy_down_2_pt_5_MeV/Bi214_coinc_2.5MeV\\real_data_solar_analysis_3.root\n",
      "performing general cuts\n",
      "In file E:/Data/solars/solarnu_Realdata/energy_down_2_pt_5_MeV/Bi214_coinc_2.5MeV\\real_data_solar_analysis_4.root\n",
      "performing general cuts\n",
      "In file E:/Data/solars/solarnu_Realdata/energy_down_2_pt_5_MeV/Bi214_coinc_2.5MeV\\real_data_solar_analysis_5.root\n",
      "performing general cuts\n",
      "In file E:/Data/solars/solarnu_Realdata/energy_down_2_pt_5_MeV/Bi214_coinc_2.5MeV\\real_data_solar_analysis_6.root\n",
      "performing general cuts\n",
      "In file E:/Data/solars/solarnu_Realdata/energy_down_2_pt_5_MeV/Bi214_coinc_2.5MeV\\real_data_solar_analysis_7.root\n",
      "performing general cuts\n",
      "In file E:/Data/solars/solarnu_Realdata/energy_down_2_pt_5_MeV/Bi214_coinc_2.5MeV\\real_data_solar_analysis_8.root\n",
      "performing general cuts\n",
      "In file E:/Data/solars/solarnu_Realdata/energy_down_2_pt_5_MeV/Bi214_coinc_2.5MeV\\real_data_solar_analysis_9.root\n",
      "performing general cuts\n",
      "In file E:/Data/solars/solarnu_Realdata/energy_down_2_pt_5_MeV/Bi214_coinc_2.5MeV\\real_data_solar_analysis_10.root\n",
      "performing general cuts\n",
      "In file E:/Data/solars/solarnu_Realdata/energy_down_2_pt_5_MeV/Bi214_coinc_2.5MeV\\real_data_solar_analysis_11.root\n",
      "performing general cuts\n",
      "In file E:/Data/solars/solarnu_Realdata/energy_down_2_pt_5_MeV/Bi214_coinc_2.5MeV\\real_data_solar_analysis_12.root\n",
      "performing general cuts\n",
      "In file E:/Data/solars/solarnu_Realdata/energy_down_2_pt_5_MeV/Bi214_coinc_2.5MeV\\real_data_solar_analysis_13.root\n",
      "performing general cuts\n",
      "In file E:/Data/solars/solarnu_Realdata/energy_down_2_pt_5_MeV/Bi214_coinc_2.5MeV\\real_data_solar_analysis_14.root\n",
      "performing general cuts\n",
      "In file E:/Data/solars/solarnu_Realdata/energy_down_2_pt_5_MeV/Bi214_coinc_2.5MeV\\real_data_solar_analysis_15.root\n",
      "performing general cuts\n",
      "In file E:/Data/solars/solarnu_Realdata/energy_down_2_pt_5_MeV/Bi214_coinc_2.5MeV\\real_data_solar_analysis_16.root\n",
      "performing general cuts\n",
      "In file E:/Data/solars/solarnu_Realdata/energy_down_2_pt_5_MeV/Bi214_coinc_2.5MeV\\real_data_solar_analysis_17.root\n",
      "performing general cuts\n",
      "In file E:/Data/solars/solarnu_Realdata/energy_down_2_pt_5_MeV/Bi214_coinc_2.5MeV\\real_data_solar_analysis_18.root\n",
      "performing general cuts\n",
      "In file E:/Data/solars/solarnu_Realdata/energy_down_2_pt_5_MeV/Bi214_coinc_2.5MeV\\real_data_solar_analysis_19.root\n",
      "performing general cuts\n",
      "In file E:/Data/solars/solarnu_Realdata/energy_down_2_pt_5_MeV/Bi214_coinc_2.5MeV\\real_data_solar_analysis_20.root\n",
      "performing general cuts\n",
      "In file E:/Data/solars/solarnu_Realdata/energy_down_2_pt_5_MeV/Bi214_coinc_2.5MeV\\real_data_solar_analysis_21.root\n",
      "performing general cuts\n",
      "In file E:/Data/solars/solarnu_Realdata/energy_down_2_pt_5_MeV/Bi214_coinc_2.5MeV\\real_data_solar_analysis_22.root\n",
      "performing general cuts\n",
      "In file E:/Data/solars/solarnu_Realdata/energy_down_2_pt_5_MeV/Bi214_coinc_2.5MeV\\real_data_solar_analysis_23.root\n",
      "performing general cuts\n",
      "In file E:/Data/solars/solarnu_Realdata/energy_down_2_pt_5_MeV/Bi214_coinc_2.5MeV\\real_data_solar_analysis_24.root\n",
      "performing general cuts\n",
      "In file E:/Data/solars/solarnu_Realdata/energy_down_2_pt_5_MeV/Bi214_coinc_2.5MeV\\real_data_solar_analysis_25.root\n",
      "performing general cuts\n",
      "In file E:/Data/solars/solarnu_Realdata/energy_down_2_pt_5_MeV/Bi214_coinc_2.5MeV\\real_data_solar_analysis_26.root\n",
      "performing general cuts\n",
      "In file E:/Data/solars/solarnu_Realdata/energy_down_2_pt_5_MeV/Bi214_coinc_2.5MeV\\real_data_solar_analysis_27.root\n",
      "performing general cuts\n",
      "In file E:/Data/solars/solarnu_Realdata/energy_down_2_pt_5_MeV/Bi214_coinc_2.5MeV\\real_data_solar_analysis_28.root\n",
      "performing general cuts\n"
     ]
    }
   ],
   "source": [
    "#Function to Compute the radial position of events\n",
    "def magnitude(vector): \n",
    "    x = vector[:,0]\n",
    "    y = vector[:,1]\n",
    "    z = vector[:,2]\n",
    "\n",
    "    r = np.sqrt(x**2 + y**2 + z**2)\n",
    "    r = r.astype(np.float32)\n",
    "    return r\n",
    "\n",
    "#Analysis code settings  ------------------------------\n",
    "out_file_dir = 'analysis_out/en_down_2_pt_5_MeV/'\n",
    "\n",
    "# General Data Selection Cuts:\n",
    "energy_inf_cut = 2.5\n",
    "energy_sup_cut = 12\n",
    "\n",
    "posr_cut = 5500\n",
    "\n",
    "time_res_inf_cut = -5.0\n",
    "time_res_sup_cut = 7.0\n",
    "# -------------------------------------------------------\n",
    "\n",
    "for index_file, input_file_dir in enumerate(flist):\n",
    "    print(f'In file {input_file_dir}')\n",
    "    \n",
    "    #Load the Data:\n",
    "    load_data = uproot.open(input_file_dir)\n",
    "    \n",
    "    #select the tree of event data and PMT info\n",
    "    TTree_data_name = load_data.keys()[0]\n",
    "    TTree_pmt_info_name = load_data.keys()[-1]\n",
    "    \n",
    "    event_data = load_data[TTree_data_name]\n",
    "    pmt_data = load_data[TTree_pmt_info_name]\n",
    "    \n",
    "    #event info to be readen:\n",
    "    var_event_list = ['evtid', 'energy', 'position', 'hit_pmtid', \n",
    "                      'hit_residual', 'dc_flag', 'ev_time_day', \n",
    "                      'ev_time_sec', 'ev_time_nanosec', 'clockCount50']  #list the name of the varibles to be extracted and used for the solarnu analysis.\n",
    "    \n",
    "    #pmt info to be used\n",
    "    var_pmt_list = ['pmt_id', 'pmt_pos_xyz', 'pmt_type']\n",
    "    \n",
    "    #Observables to save\n",
    "    #var_name_save_list = ['evtid', 'evtid_bi214', 'energy', 'posr', 'hit_residual', 'clockCount50']\n",
    "    var_name_save_list = ['evtid', 'energy', 'posr', 'hit_residual']\n",
    "    multi_cos_alpha = np.array([]) #create the empty list of the cos_alpha for the multiple PMTs record\n",
    "    \n",
    "    # Extract the variables with the name of the var_event_list in numpy.array from the .root file\n",
    "    observables = {}\n",
    "    \n",
    "    # Load variables from the TTree\n",
    "    for var_name_i in var_event_list:\n",
    "        observables[var_name_i] = np.array(event_data[var_name_i])\n",
    "        # Transform clockCount50\n",
    "        #if var_name_i == 'clockCount50':\n",
    "            #observables['clockCount50'] = observables['clockCount50'] * 20\n",
    "    \n",
    "    observables['evtid_bi214'] = np.array(event_data['evtid_bi214'])\n",
    "    \n",
    "    # The evtID Bi214 has a lot of meaningless zeroes. Lets remove them:\n",
    "    #no_zero_condition = (observables['evtid_bi214'] != 0)\n",
    "    #observables['evtid_bi214'] = observables['evtid_bi214'][no_zero_condition]\n",
    "    \n",
    "    #Extract the energy of the Bi214 candidates\n",
    "    #evID_condition = np.in1d(observables['evtid'], observables['evtid_bi214'])\n",
    "    #observables['energy_bi214'] = observables['energy'][evID_condition]\n",
    "    \n",
    "    # posr Calculation\n",
    "    observables['posr'] = magnitude(observables['position'])\n",
    "    \n",
    "    # Load PMTs quantities fro TTree\n",
    "    for var_name_i in var_pmt_list:\n",
    "        observables[var_name_i] = np.array(pmt_data[var_name_i])\n",
    "\n",
    "    # ------------ General cuts ------------\n",
    "    print('performing general cuts')\n",
    "\n",
    "    # Filtering of pmt_id through pmt type selection\n",
    "    pmt_type_condition = (observables['pmt_type'] == 1)\n",
    "    pmt_id_valid = observables['pmt_id'][pmt_type_condition]\n",
    "\n",
    "    hit_pmt_id_condition = np.in1d(observables['hit_pmtid'], pmt_id_valid)\n",
    "    energy_condition = (observables['energy'] >= energy_inf_cut) & (observables['energy'] <= energy_sup_cut)\n",
    "    time_res_condition = (observables['hit_residual'] >= time_res_inf_cut) & (observables['hit_residual'] <= time_res_sup_cut)\n",
    "    posr_condition = (observables['posr'] <= posr_cut)\n",
    "    \n",
    "    general_condition = hit_pmt_id_condition & energy_condition & time_res_condition & posr_condition\n",
    "    \n",
    "    # Aplicar condición general a las variables del evento\n",
    "    for var_name_i in var_event_list:\n",
    "        observables[var_name_i] = observables[var_name_i][general_condition]\n",
    "    observables['posr'] = observables['posr'][general_condition]\n",
    "\n",
    "\n",
    "    #print(f'selected energies form {input_file_dir}: {observables['energy']} with shape {observables['energy'].shape}')\n",
    "\n",
    "    # --------- Remove redundante values through evID. Nhits Cut -------------------\n",
    "    #print('performing nhits cuts after general selections')\n",
    "    #evtid = observables['evtid']\n",
    "    #N_data = len(evtid)\n",
    "    #indices_to_delete = [] #Indiced to removo from the observable arrays due to nhits cut\n",
    "\n",
    "    #data_break_i = [0]  #array whose elements are the index from where an event start and end.\n",
    "    #Loop to extract the indices where evtid breaks\n",
    "    #for i_dx in range(N_data - 1):\n",
    "    #    if evtid[i_dx] != evtid[i_dx+1]:\n",
    "    #        data_break_i.append(i_dx + 1)\n",
    "            \n",
    "    #data_break_i.append(N_data - 1)\n",
    "\n",
    "    #N_terms = len(data_break_i)\n",
    "\n",
    "    #for i_dx in range(N_terms - 2):\n",
    "    #    init_i = data_break_i[i_dx]\n",
    "    #    final_i = data_break_i[i_dx + 1]\n",
    "\n",
    "        #Nhits cut: Remove the indices of observables that verify the nhits_cut\n",
    "        #nhits_ev = final_i - init_i\n",
    "        #if nhits_ev < nhits_cut:\n",
    "            #indices_to_delete.extend(range(init_i, final_i + 1))\n",
    "            \n",
    "    #indices_to_delete = np.array(indices_to_delete)\n",
    "    #for var_name_i in var_event_list + ['posr']:\n",
    "    #    observables[var_name_i] = np.delete(observables[var_name_i], indices_to_delete)\n",
    "    \n",
    "    #print(f'energy shape = {observables['energy'].shape}')\n",
    "    #print(f'posr shape = {observables['posr'].shape}')\n",
    "    #print(f'evID shape = {observables['evtid'].shape}')\n",
    "    # ------------------------------------------------------------------------------------- \n",
    "\n",
    "    # Save variables to interest\n",
    "    for var_name_i in var_name_save_list + ['evtid_bi214']:\n",
    "        np.save(out_file_dir + var_name_i + f'_{index_file}.npy', observables[var_name_i])\n",
    "    \n",
    "    N_samples = len(observables['hit_residual'])\n",
    "    \n",
    "    for sample_idx in range(N_samples):\n",
    "        Utime_day = observables['ev_time_day'][sample_idx]\n",
    "        Utime_sec = observables['ev_time_sec'][sample_idx]\n",
    "        Utime_nsec = observables['ev_time_nanosec'][sample_idx]\n",
    "    \n",
    "        sun_dir = sun_direction(UTdays=Utime_day, UTsecs=Utime_sec, UTnsecs=Utime_nsec) * (-1)\n",
    "    \n",
    "        pmt_hit_id = observables['hit_pmtid'][sample_idx]\n",
    "        pmt_hit_xyz = observables['pmt_pos_xyz'][pmt_hit_id]\n",
    "    \n",
    "        norm2 = np.linalg.norm(pmt_hit_xyz)\n",
    "        pmt_hit_xyz = pmt_hit_xyz / norm2\n",
    "    \n",
    "        dot_prod = np.dot(sun_dir, pmt_hit_xyz)\n",
    "        cos_alpha = dot_prod\n",
    "    \n",
    "        multi_cos_alpha = np.append(multi_cos_alpha, cos_alpha)\n",
    "    \n",
    "    # Guardar los cos(alpha)\n",
    "    np.save(out_file_dir + 'cos_alpha' + f'_{index_file}.npy', multi_cos_alpha)"
   ]
  },
  {
   "cell_type": "markdown",
   "id": "ad0cda83-8e8e-415e-b6ff-3d650c864af2",
   "metadata": {},
   "source": [
    "# Load the saved numpy observables for Analysis"
   ]
  },
  {
   "cell_type": "code",
   "execution_count": 8,
   "id": "6751cfe7-8b75-4952-8e4e-73d218a114a8",
   "metadata": {},
   "outputs": [
    {
     "name": "stdout",
     "output_type": "stream",
     "text": [
      "preparing observable evtid\n",
      "preparing observable evtid_bi214\n",
      "preparing observable energy\n",
      "preparing observable posr\n",
      "preparing observable cos_alpha\n",
      "preparing observable hit_residual\n"
     ]
    }
   ],
   "source": [
    "main_dir = 'analysis_out/en_down_2_pt_5_MeV/'\n",
    "observable_name = ['evtid', 'evtid_bi214', 'energy', 'posr', 'cos_alpha', 'hit_residual']\n",
    "\n",
    "for var_i in observable_name:\n",
    "    print(f'preparing observable {var_i}')\n",
    "    # Empty array fir each observable iteration\n",
    "    locals()[var_i] = np.array([])\n",
    "\n",
    "    # file pattern \"_\"\n",
    "    pattern = re.compile(rf\"{re.escape(var_i)}_(\\d+)\\.npy$\")\n",
    "\n",
    "    # filtering\n",
    "    files_all = glob.glob(main_dir + var_i + \"_*.npy\")\n",
    "    files_num = [f for f in files_all if pattern.search(f)]\n",
    "\n",
    "    # alphanumeric order\n",
    "    flist_var_i = alpha_num_sort(files_num)\n",
    "\n",
    "    for file_i in flist_var_i:\n",
    "        arr = np.load(file_i)\n",
    "        #print(file_i, arr.shape)\n",
    "        locals()[var_i] = np.append(locals()[var_i], arr)"
   ]
  },
  {
   "cell_type": "code",
   "execution_count": 9,
   "id": "52928655-efb3-4708-ae85-8d43bcc8e7b3",
   "metadata": {},
   "outputs": [
    {
     "data": {
      "text/plain": [
       "(62030,)"
      ]
     },
     "execution_count": 9,
     "metadata": {},
     "output_type": "execute_result"
    }
   ],
   "source": [
    "energy.shape"
   ]
  },
  {
   "cell_type": "markdown",
   "id": "dd403fdf-0a55-405f-a5d7-aa907ec9d9eb",
   "metadata": {},
   "source": [
    "## Remove Redundant Values"
   ]
  },
  {
   "cell_type": "code",
   "execution_count": 10,
   "id": "f7d3b30a-7387-466e-8002-0393a03c1007",
   "metadata": {
    "scrolled": true
   },
   "outputs": [],
   "source": [
    "# Empty lists which will contain de non-repeated values of the observables for singles events\n",
    "energy_ev = []  #flatten list structure\n",
    "posr_ev = []    #flatten list structure\n",
    "evtid_ev = []   #flatten list structure\n",
    "evtid_bi214_ev = np.unique(evtid_bi214).astype(np.uint64)\n",
    "cos_alpha_ev = []  #List filled with np.arrays() where each array correspond to and event\n",
    "time_residual_ev = [] #List filled with np.arrays() where each array correspond to and event\n",
    "\n",
    "\n",
    "#evID index break list\n",
    "data_break_i = [0]  #array whose elements are the index from where an event start and end.\n",
    "\n",
    "N_data = len(evtid)\n",
    "\n",
    "for i_dx in range(N_data - 1):\n",
    "    if evtid[i_dx] != evtid[i_dx+1]:\n",
    "        data_break_i.append(i_dx+1)\n",
    "\n",
    "#add the last index to complete the data_break_i list\n",
    "data_break_i.append(N_data - 1)\n",
    "\n",
    "N_terms = len(data_break_i)\n",
    "\n",
    "#Start to save the non-redundant values and separate the time residuals and angles for each event\n",
    "for i_dx in range(N_terms - 2):\n",
    "    init_i = data_break_i[i_dx]\n",
    "    final_i = data_break_i[i_dx+1]\n",
    "\n",
    "    #energy\n",
    "    energy_ev_i = energy[init_i : final_i]\n",
    "    #print(energy_ev_i)\n",
    "    energy_ev.append(energy_ev_i[0])\n",
    "\n",
    "    #position\n",
    "    posr_ev_i = posr[init_i : final_i]\n",
    "    posr_ev.append(posr_ev_i[0])\n",
    "\n",
    "    #evtid\n",
    "    evtid_ev_i = evtid[init_i : final_i]\n",
    "    evtid_ev.append(evtid_ev_i[0])\n",
    "    \n",
    "    #Time residuals\n",
    "    time_residual_ev_i = hit_residual[init_i : final_i]\n",
    "    time_residual_ev.append(time_residual_ev_i)\n",
    "    \n",
    "    #cos(α)\n",
    "    cos_alpha_ev_i = cos_alpha[init_i : final_i]\n",
    "    cos_alpha_ev.append(cos_alpha_ev_i)\n",
    "\n",
    "energy_ev = np.array(energy_ev)\n",
    "posr_ev = np.array(posr_ev)\n",
    "evtid_ev = np.array(evtid_ev).astype(np.uint64)"
   ]
  },
  {
   "cell_type": "markdown",
   "id": "9fd065cd-af54-45df-b5c0-f00c796701d4",
   "metadata": {},
   "source": [
    "## Selection of Bi214 Candidates Records and nhits cut within $\\Delta$ Window"
   ]
  },
  {
   "cell_type": "code",
   "execution_count": 11,
   "id": "47812747-3fe9-4f9d-aacb-b16cfbc32fb6",
   "metadata": {},
   "outputs": [
    {
     "data": {
      "text/plain": [
       "666"
      ]
     },
     "execution_count": 11,
     "metadata": {},
     "output_type": "execute_result"
    }
   ],
   "source": [
    "len(energy_ev)"
   ]
  },
  {
   "cell_type": "code",
   "execution_count": 30,
   "id": "4ff27da6-cb36-4157-b9a4-cf8a84257c19",
   "metadata": {},
   "outputs": [],
   "source": [
    "#Cuts after time residual selection (due to the reduction of avaliable PMTs because of time residual cuts)\n",
    "nhits_cut = 20\n",
    "\n",
    "#matching on no-hit observables:\n",
    "bi214_index = np.where((np.in1d(evtid_ev, evtid_bi214_ev)))[0]\n",
    "#print(bi214_index)\n",
    "\n",
    "# Energy of suspected Bi214\n",
    "energy_bi214 = np.array(energy_ev)[bi214_index]\n",
    "\n",
    "# ========= Remove Bi214 entries form the solars analysis dataset =========\n",
    "energy_solars = np.delete(energy_ev, bi214_index)\n",
    "posr_solars = np.delete(posr_ev, bi214_index)\n",
    "evtid_solars = np.delete(evtid_ev, bi214_index)\n",
    "cos_alpha_solars = [cos_alpha_ev[i] for i in range(len(cos_alpha_ev)) if i not in bi214_index]\n",
    "time_residual_solars = [time_residual_ev[i] for i in range(len(time_residual_ev)) if i not in bi214_index]\n",
    "\n",
    "# ========= Select Events with nhits >= nhits_cut through the len of the per hit observables =========\n",
    "\n",
    "#Save the nhits per event:\n",
    "nhits_ev = [] #List with the number of hits within the time residual window per event\n",
    "N_evs = len(cos_alpha_solars)\n",
    "\n",
    "for i_dx in range(N_evs):\n",
    "    nhit_ev_i = len(cos_alpha_solars[i_dx])\n",
    "    nhits_ev.append(nhit_ev_i)\n",
    "nhits_ev = np.array(nhits_ev)\n",
    "\n",
    "#Look for where the nhits >= nhitscut\n",
    "nhits_condition = (nhits_ev >= nhits_cut)\n",
    "\n",
    "energy_solars = energy_solars[nhits_condition]\n",
    "posr_solars = posr_solars[nhits_condition]\n",
    "cos_alpha_solars = [arr for arr, cond in zip(cos_alpha_solars, nhits_condition) if cond]\n",
    "time_residual_solars = [arr for arr, cond in zip(time_residual_solars, nhits_condition) if cond]"
   ]
  },
  {
   "cell_type": "code",
   "execution_count": 31,
   "id": "3d0cc225-83be-4635-8556-98297c74b0df",
   "metadata": {},
   "outputs": [
    {
     "data": {
      "text/plain": [
       "209"
      ]
     },
     "execution_count": 31,
     "metadata": {},
     "output_type": "execute_result"
    }
   ],
   "source": [
    "len(cos_alpha_solars)"
   ]
  },
  {
   "cell_type": "code",
   "execution_count": 29,
   "id": "57a5da69-d83a-42ac-890d-c9e913c0e109",
   "metadata": {},
   "outputs": [
    {
     "data": {
      "text/plain": [
       "209"
      ]
     },
     "execution_count": 29,
     "metadata": {},
     "output_type": "execute_result"
    }
   ],
   "source": [
    "len(energy_solars)"
   ]
  },
  {
   "cell_type": "markdown",
   "id": "eb233810-7e20-4e0d-b06f-5005b2431f9e",
   "metadata": {},
   "source": [
    "# Plots"
   ]
  },
  {
   "cell_type": "markdown",
   "id": "4993bcac-f1ce-4237-9b39-13c6e863d9da",
   "metadata": {},
   "source": [
    "## Real Data Plots"
   ]
  },
  {
   "cell_type": "code",
   "execution_count": 32,
   "id": "7bca463b-cbeb-4272-bf3c-4afe16b6470b",
   "metadata": {},
   "outputs": [],
   "source": [
    "#Title settings -----------------------------------------------\n",
    "dcFlag_cut = 0x2100000042C2\n",
    "\n",
    "energy_cut_title = rf'Energy cut: [{energy_inf_cut}, {energy_sup_cut}] (MeV) '\n",
    "posr_cut_title = rf'R $\\leq$ {posr_cut} (mm) '\n",
    "dcFlag_cut_title = rf'mask = {hex(dcFlag_cut)} '\n",
    "\n",
    "#Save figures setting -------------------------------------------\n",
    "save = False\n",
    "save_dir = 'figs/Real Data observable distributions/'"
   ]
  },
  {
   "cell_type": "code",
   "execution_count": 33,
   "id": "90ecd09a-7a4e-4287-b59b-993e11feadfd",
   "metadata": {},
   "outputs": [
    {
     "data": {
      "image/png": "[encoded data removed]",
      "text/plain": [
       "<Figure size 1500x500 with 2 Axes>"
      ]
     },
     "metadata": {},
     "output_type": "display_data"
    }
   ],
   "source": [
    "#Binning settings -----------------\n",
    "energy_bi214_binwidth = 0.1\n",
    "energy_solars_binwidth = 0.7\n",
    "posr_binwidth = 290\n",
    "\n",
    "# ---------------------------------\n",
    "\n",
    "fig, axes = plt.subplots(1, 2,  figsize=(15, 5))\n",
    "\n",
    "sn.histplot(energy_bi214, ax = axes[0], binwidth = energy_bi214_binwidth, color = 'b', element = 'step', alpha = 0, label = r'Removed $^{214}$Bi Candidates')\n",
    "sn.histplot(energy_solars, ax = axes[0], binwidth = energy_solars_binwidth, color = 'r', element = 'step', alpha = 0, label = r'Data')\n",
    "sn.histplot(posr_ev, ax = axes[1], binwidth = posr_binwidth, color = 'b', element = 'step', alpha = 0)\n",
    "\n",
    "axes[0].legend()\n",
    "axes[0].set_xlabel('Event Energy (MeV)', fontsize = 11)\n",
    "#axes[0].set_xlim(min(energy_ev), max(energy_ev))\n",
    "axes[0].set_yscale('log')\n",
    "\n",
    "axes[1].set_xlabel('Event Radial Position (mm)', fontsize = 11)\n",
    "#axes[1].set_xlim(min(posr_ev), max(posr_ev))\n",
    "\n",
    "plt.suptitle('Real Data Solar Analysis - ' + energy_cut_title + posr_cut_title  + dcFlag_cut_title, fontsize = 11)\n",
    "\n",
    "if save:\n",
    "    plt.savefig(f'{save_dir}energy_join_radial_distribution_E_{energy_inf_cut}_{energy_sup_cut}MeV_R_{posr_cut}mm.png', format = 'png', bbox_inches = 'tight')\n",
    "plt.show()"
   ]
  },
  {
   "cell_type": "code",
   "execution_count": 38,
   "id": "df5f9407-fbf4-4991-9a4d-18b9cf6490fe",
   "metadata": {},
   "outputs": [
    {
     "data": {
      "image/png": "[encoded data removed]",
      "text/plain": [
       "<Figure size 1500x500 with 2 Axes>"
      ]
     },
     "metadata": {},
     "output_type": "display_data"
    }
   ],
   "source": [
    "fig, axes = plt.subplots(1, 2,  figsize=(15, 5))\n",
    "\n",
    "cos_binwidth = 0.15\n",
    "\n",
    "sn.histplot(np.concatenate(cos_alpha_ev), ax = axes[0], binwidth = cos_binwidth, color = 'b', element = 'step', alpha = 0, label = r'Data with $^{214}$Bi')\n",
    "sn.histplot(np.concatenate(cos_alpha_solars), ax = axes[1], binwidth = cos_binwidth, color = 'r', element = 'step', alpha = 0, label = r'Data without $^{214}$Bi')\n",
    "\n",
    "axes[0].set_xlabel(r'cos($\\alpha$)', fontsize = 10.5)\n",
    "axes[0].legend(loc = 'upper left')\n",
    "axes[0].set_yscale('log')\n",
    "\n",
    "axes[1].set_xlabel(r'cos($\\alpha$)', fontsize = 10.5)\n",
    "axes[1].legend(loc = 'upper left')\n",
    "axes[1].set_yscale('log')\n",
    "\n",
    "plt.suptitle('Real Data Solar Analysis - ' + energy_cut_title + posr_cut_title  + '\\n' + dcFlag_cut_title, fontsize = 10.5)\n",
    "\n",
    "if save:\n",
    "    plt.savefig(f'{save_dir}cos_alpha_distribution_E_{energy_inf_cut}_{energy_sup_cut}MeV_R_{posr_cut}mm.png', format = 'png', bbox_inches = 'tight')\n",
    "    \n",
    "plt.show()"
   ]
  },
  {
   "cell_type": "code",
   "execution_count": null,
   "id": "6bd480d0-2e2b-4121-aebf-dce6cc43b864",
   "metadata": {},
   "outputs": [],
   "source": []
  }
 ],
 "metadata": {
  "kernelspec": {
   "display_name": "Python 3 (ipykernel)",
   "language": "python",
   "name": "python3"
  },
  "language_info": {
   "codemirror_mode": {
    "name": "ipython",
    "version": 3
   },
   "file_extension": ".py",
   "mimetype": "text/x-python",
   "name": "python",
   "nbconvert_exporter": "python",
   "pygments_lexer": "ipython3",
   "version": "3.12.2"
  }
 },
 "nbformat": 4,
 "nbformat_minor": 5
}
