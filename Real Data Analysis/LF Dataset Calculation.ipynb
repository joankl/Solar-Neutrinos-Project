{
 "cells": [
  {
   "cell_type": "markdown",
   "id": "e28865ca-0d82-4a90-b829-f1fc84757b8f",
   "metadata": {},
   "source": [
    "# Notebook Dedicated to Obtain an Estimative for the total Live-time of the Used Dataset"
   ]
  },
  {
   "cell_type": "code",
   "execution_count": 3,
   "id": "f7a665d1-c9fa-42ef-899a-13dcafd4ee3a",
   "metadata": {},
   "outputs": [],
   "source": [
    "import uproot\n",
    "import numpy as np\n",
    "\n",
    "import matplotlib.pyplot as plt\n",
    "import seaborn as sn\n",
    "\n",
    "import glob\n",
    "import re\n",
    "import os\n",
    "import itertools\n",
    "import pickle"
   ]
  },
  {
   "cell_type": "markdown",
   "id": "f4b9c757-feb7-42d8-8411-9c5ea0513cd7",
   "metadata": {
    "jp-MarkdownHeadingCollapsed": true
   },
   "source": [
    "# Using the LT List of Daniel"
   ]
  },
  {
   "cell_type": "markdown",
   "id": "ef53e1cb-aaba-4717-be4d-61da52ce7155",
   "metadata": {},
   "source": [
    "## Load Data"
   ]
  },
  {
   "cell_type": "markdown",
   "id": "b0147060-b351-4121-8a1e-be63e3b23b20",
   "metadata": {},
   "source": [
    "### List of the Run Numbers of the Dataset"
   ]
  },
  {
   "cell_type": "code",
   "execution_count": 67,
   "id": "97d6fac7-51b3-4b92-86d8-619894f54973",
   "metadata": {},
   "outputs": [],
   "source": [
    "main_dir = 'E:/Data/solars/solarnu_Realdata/'\n",
    "fname = 'run_numbers.txt'\n",
    "\n",
    "runID_list =[]\n",
    "\n",
    "with open(main_dir + fname, \"r\", encoding=\"utf-8\") as f:\n",
    "    for line in f:\n",
    "        if line.strip():\n",
    "            run_id_i = line.split()\n",
    "            runID_list.append(int(run_id_i[0]))\n",
    "        \n",
    "runID_list = np.array(runID_list)\n",
    "runID_list = np.unique (runID_list)"
   ]
  },
  {
   "cell_type": "code",
   "execution_count": 68,
   "id": "c6862d09-781d-4acc-9b61-e42428e73573",
   "metadata": {},
   "outputs": [
    {
     "data": {
      "text/plain": [
       "(97,)"
      ]
     },
     "execution_count": 68,
     "metadata": {},
     "output_type": "execute_result"
    }
   ],
   "source": [
    "runID_list.shape"
   ]
  },
  {
   "cell_type": "markdown",
   "id": "e2aeff7a-4564-4f22-b48a-d09ff7124e7a",
   "metadata": {},
   "source": [
    "### List of the Run Numbers with LT values"
   ]
  },
  {
   "cell_type": "code",
   "execution_count": 69,
   "id": "1be63609-d0f1-4455-a7ed-573893486bc4",
   "metadata": {
    "scrolled": true
   },
   "outputs": [],
   "source": [
    "file_dir = 'E:/Data/antinu/antinu_realdata/runID_list_time.txt'\n",
    "\n",
    "runID_lt, time1_lt, time2_lt = [], [], []\n",
    "\n",
    "with open(file_dir, \"r\", encoding=\"utf-8\") as f:\n",
    "    for linea in f:\n",
    "        if linea.strip():  # Evitar líneas vacías\n",
    "            valores = linea.split()  # Separa por espacios o tabulaciones\n",
    "            runID_lt.append(int(valores[0]))\n",
    "            time1_lt.append(float(valores[1]))\n",
    "            time2_lt.append(float(valores[2]))\n",
    "            \n",
    "runID_lt = np.array(runID_lt)\n",
    "time2_lt = np.array(time2_lt) # NET LIVETIME (DAYS)"
   ]
  },
  {
   "cell_type": "code",
   "execution_count": 103,
   "id": "a910a4db-8f77-461a-8068-c4979feb7961",
   "metadata": {},
   "outputs": [
    {
     "data": {
      "text/plain": [
       "0.04045685096405452"
      ]
     },
     "execution_count": 103,
     "metadata": {},
     "output_type": "execute_result"
    }
   ],
   "source": [
    "av_run_time = np.mean(time2_lt) # Avarage Run time. Is observed the Lack of a run ID in the live-time list\n",
    "                                # Take the Run Time avarage to fill this values\n",
    "av_run_time"
   ]
  },
  {
   "cell_type": "markdown",
   "id": "2f8a44f2-c4e0-49cd-bcae-5b268f8632b0",
   "metadata": {},
   "source": [
    "## Livetime Calculation"
   ]
  },
  {
   "cell_type": "code",
   "execution_count": 104,
   "id": "94fbe410-7ca3-4352-8631-706b0bfcd0ba",
   "metadata": {},
   "outputs": [
    {
     "data": {
      "text/plain": [
       "3.9804650983020173"
      ]
     },
     "execution_count": 104,
     "metadata": {},
     "output_type": "execute_result"
    }
   ],
   "source": [
    "# Extract the index of runID_lt where the values of the dataset runID_list exist\n",
    "index_lt = np.where((np.in1d(runID_lt, runID_list)))[0]\n",
    "\n",
    "tot_lt_days = np.sum(time2_lt[index_lt]) \n",
    "tot_lt_days + av_run_time"
   ]
  },
  {
   "cell_type": "code",
   "execution_count": 71,
   "id": "41d5f0b0-a6e9-4952-acae-6d60910f35c3",
   "metadata": {},
   "outputs": [
    {
     "data": {
      "text/plain": [
       "309233"
      ]
     },
     "execution_count": 71,
     "metadata": {},
     "output_type": "execute_result"
    }
   ],
   "source": [
    "np.max(runID_list)"
   ]
  },
  {
   "cell_type": "code",
   "execution_count": 72,
   "id": "bfd37be9-4589-4765-be78-0b7310e50ed8",
   "metadata": {},
   "outputs": [
    {
     "data": {
      "text/plain": [
       "(96,)"
      ]
     },
     "execution_count": 72,
     "metadata": {},
     "output_type": "execute_result"
    }
   ],
   "source": [
    "index_lt.shape"
   ]
  },
  {
   "cell_type": "code",
   "execution_count": 76,
   "id": "7979443e-8533-4b47-9163-663981442f54",
   "metadata": {},
   "outputs": [
    {
     "data": {
      "text/plain": [
       "(6099,)"
      ]
     },
     "execution_count": 76,
     "metadata": {},
     "output_type": "execute_result"
    }
   ],
   "source": [
    "np.unique(runID_lt).shape"
   ]
  },
  {
   "cell_type": "code",
   "execution_count": 99,
   "id": "eb84ca05-3b52-4766-bb16-6f43d678a5e4",
   "metadata": {},
   "outputs": [],
   "source": [
    "time = []\n",
    "for run_i in np.unique(runID_list):\n",
    "    run_id_condition = (runID_lt == run_i)\n",
    "    selec_time = time2_lt[run_id_condition]\n",
    "    time.append(selec_time)"
   ]
  },
  {
   "cell_type": "code",
   "execution_count": 96,
   "id": "ba13de05-09b5-497b-a703-4991e6b50988",
   "metadata": {},
   "outputs": [
    {
     "data": {
      "text/plain": [
       "array([300000, 300001, 300002, ..., 310635, 310636, 310637])"
      ]
     },
     "execution_count": 96,
     "metadata": {},
     "output_type": "execute_result"
    }
   ],
   "source": [
    "runID_lt"
   ]
  },
  {
   "cell_type": "code",
   "execution_count": 94,
   "id": "a0ce77e8-3107-4ba0-b1af-3174fa1ec7f3",
   "metadata": {},
   "outputs": [
    {
     "data": {
      "text/plain": [
       "array([300007, 300023, 300436, 300487, 300500, 300817, 300854, 300901,\n",
       "       300944, 300947, 301011, 301074, 301131, 301144, 301232, 301304,\n",
       "       301335, 301351, 301365, 301418, 301423, 301475, 301480, 301494,\n",
       "       301495, 301504, 301649, 301653, 301721, 301973, 302005, 303039,\n",
       "       303109, 303443, 303858, 303878, 304091, 304095, 304120, 304159,\n",
       "       304171, 304191, 304199, 304867, 304896, 304914, 305087, 305366,\n",
       "       305386, 305495, 305581, 305600, 305708, 305953, 306362, 306424,\n",
       "       306425, 306427, 306522, 306670, 306778, 306975, 306984, 307005,\n",
       "       307055, 307068, 307115, 307153, 307409, 307458, 307464, 307497,\n",
       "       307550, 307625, 307626, 307632, 307650, 307848, 307932, 307976,\n",
       "       308010, 308024, 308027, 308032, 308091, 308135, 308160, 308243,\n",
       "       308722, 308825, 308852, 308937, 308944, 308948, 309042, 309233])"
      ]
     },
     "execution_count": 94,
     "metadata": {},
     "output_type": "execute_result"
    }
   ],
   "source": [
    "runID_lt[np.where((np.in1d(runID_lt, runID_list)))[0]]"
   ]
  },
  {
   "cell_type": "markdown",
   "id": "925c4a2f-f4a4-4cb2-b7e1-0073fbf67481",
   "metadata": {},
   "source": [
    "# Using the Universal Time\n",
    "\n",
    "The Idea is to read the Utime (days, secs, nsecs) of events and perform a diference between consecutive different values for different events of UTime. These differences are then added and we get and effective lifetime of the real dataset"
   ]
  },
  {
   "cell_type": "markdown",
   "id": "e57e8f96-3630-4442-b0d6-83389cc32dad",
   "metadata": {},
   "source": [
    "## Load Data"
   ]
  },
  {
   "cell_type": "code",
   "execution_count": 4,
   "id": "234cd422-5918-4ffc-8457-c8d8aab715f1",
   "metadata": {
    "scrolled": true
   },
   "outputs": [
    {
     "data": {
      "text/plain": [
       "['E:/Data/solars/solarnu_Realdata/energy_down_2_pt_5_MeV/Bi214_coinc_2.5MeV\\\\real_data_solar_analysis_0.root',\n",
       " 'E:/Data/solars/solarnu_Realdata/energy_down_2_pt_5_MeV/Bi214_coinc_2.5MeV\\\\real_data_solar_analysis_1.root',\n",
       " 'E:/Data/solars/solarnu_Realdata/energy_down_2_pt_5_MeV/Bi214_coinc_2.5MeV\\\\real_data_solar_analysis_2.root',\n",
       " 'E:/Data/solars/solarnu_Realdata/energy_down_2_pt_5_MeV/Bi214_coinc_2.5MeV\\\\real_data_solar_analysis_3.root',\n",
       " 'E:/Data/solars/solarnu_Realdata/energy_down_2_pt_5_MeV/Bi214_coinc_2.5MeV\\\\real_data_solar_analysis_4.root',\n",
       " 'E:/Data/solars/solarnu_Realdata/energy_down_2_pt_5_MeV/Bi214_coinc_2.5MeV\\\\real_data_solar_analysis_5.root',\n",
       " 'E:/Data/solars/solarnu_Realdata/energy_down_2_pt_5_MeV/Bi214_coinc_2.5MeV\\\\real_data_solar_analysis_6.root',\n",
       " 'E:/Data/solars/solarnu_Realdata/energy_down_2_pt_5_MeV/Bi214_coinc_2.5MeV\\\\real_data_solar_analysis_7.root',\n",
       " 'E:/Data/solars/solarnu_Realdata/energy_down_2_pt_5_MeV/Bi214_coinc_2.5MeV\\\\real_data_solar_analysis_8.root',\n",
       " 'E:/Data/solars/solarnu_Realdata/energy_down_2_pt_5_MeV/Bi214_coinc_2.5MeV\\\\real_data_solar_analysis_9.root',\n",
       " 'E:/Data/solars/solarnu_Realdata/energy_down_2_pt_5_MeV/Bi214_coinc_2.5MeV\\\\real_data_solar_analysis_10.root',\n",
       " 'E:/Data/solars/solarnu_Realdata/energy_down_2_pt_5_MeV/Bi214_coinc_2.5MeV\\\\real_data_solar_analysis_11.root',\n",
       " 'E:/Data/solars/solarnu_Realdata/energy_down_2_pt_5_MeV/Bi214_coinc_2.5MeV\\\\real_data_solar_analysis_12.root',\n",
       " 'E:/Data/solars/solarnu_Realdata/energy_down_2_pt_5_MeV/Bi214_coinc_2.5MeV\\\\real_data_solar_analysis_13.root',\n",
       " 'E:/Data/solars/solarnu_Realdata/energy_down_2_pt_5_MeV/Bi214_coinc_2.5MeV\\\\real_data_solar_analysis_14.root',\n",
       " 'E:/Data/solars/solarnu_Realdata/energy_down_2_pt_5_MeV/Bi214_coinc_2.5MeV\\\\real_data_solar_analysis_15.root',\n",
       " 'E:/Data/solars/solarnu_Realdata/energy_down_2_pt_5_MeV/Bi214_coinc_2.5MeV\\\\real_data_solar_analysis_16.root',\n",
       " 'E:/Data/solars/solarnu_Realdata/energy_down_2_pt_5_MeV/Bi214_coinc_2.5MeV\\\\real_data_solar_analysis_17.root',\n",
       " 'E:/Data/solars/solarnu_Realdata/energy_down_2_pt_5_MeV/Bi214_coinc_2.5MeV\\\\real_data_solar_analysis_18.root',\n",
       " 'E:/Data/solars/solarnu_Realdata/energy_down_2_pt_5_MeV/Bi214_coinc_2.5MeV\\\\real_data_solar_analysis_19.root',\n",
       " 'E:/Data/solars/solarnu_Realdata/energy_down_2_pt_5_MeV/Bi214_coinc_2.5MeV\\\\real_data_solar_analysis_20.root',\n",
       " 'E:/Data/solars/solarnu_Realdata/energy_down_2_pt_5_MeV/Bi214_coinc_2.5MeV\\\\real_data_solar_analysis_21.root',\n",
       " 'E:/Data/solars/solarnu_Realdata/energy_down_2_pt_5_MeV/Bi214_coinc_2.5MeV\\\\real_data_solar_analysis_22.root',\n",
       " 'E:/Data/solars/solarnu_Realdata/energy_down_2_pt_5_MeV/Bi214_coinc_2.5MeV\\\\real_data_solar_analysis_23.root',\n",
       " 'E:/Data/solars/solarnu_Realdata/energy_down_2_pt_5_MeV/Bi214_coinc_2.5MeV\\\\real_data_solar_analysis_24.root',\n",
       " 'E:/Data/solars/solarnu_Realdata/energy_down_2_pt_5_MeV/Bi214_coinc_2.5MeV\\\\real_data_solar_analysis_25.root',\n",
       " 'E:/Data/solars/solarnu_Realdata/energy_down_2_pt_5_MeV/Bi214_coinc_2.5MeV\\\\real_data_solar_analysis_26.root',\n",
       " 'E:/Data/solars/solarnu_Realdata/energy_down_2_pt_5_MeV/Bi214_coinc_2.5MeV\\\\real_data_solar_analysis_27.root',\n",
       " 'E:/Data/solars/solarnu_Realdata/energy_down_2_pt_5_MeV/Bi214_coinc_2.5MeV\\\\real_data_solar_analysis_28.root']"
      ]
     },
     "execution_count": 4,
     "metadata": {},
     "output_type": "execute_result"
    }
   ],
   "source": [
    "# ========= Create file Directory List =========\n",
    "main_dir = 'E:/Data/solars/solarnu_Realdata/energy_down_2_pt_5_MeV/Bi214_coinc_2.5MeV/'\n",
    "fname_pattern = 'real_data_solar_analysis_*.root'\n",
    "\n",
    "flist = glob.glob(os.path.join(main_dir, fname_pattern))\n",
    "\n",
    "def alpha_num_sort(list_route):\n",
    "    def extract_num(route):\n",
    "        filename = os.path.basename(route)\n",
    "        match = re.search(r'analysis_(\\d+)\\.root$', filename)\n",
    "        return int(match.group(1)) if match else -1\n",
    "    return sorted(list_route, key=extract_num)\n",
    "\n",
    "flist = alpha_num_sort(flist)\n",
    "flist"
   ]
  },
  {
   "cell_type": "markdown",
   "id": "86aa5078-9327-4a15-b9bc-a8d30d4e67aa",
   "metadata": {},
   "source": [
    "## One File Proof"
   ]
  },
  {
   "cell_type": "code",
   "execution_count": 24,
   "id": "7b376a3e-b53e-4371-a35d-b784232cc97a",
   "metadata": {},
   "outputs": [
    {
     "data": {
      "text/plain": [
       "9.804998120644676"
      ]
     },
     "execution_count": 24,
     "metadata": {},
     "output_type": "execute_result"
    }
   ],
   "source": [
    "# ========= Read information from the file list =========\n",
    "file = uproot.open(flist[0])\n",
    "data = file['T;1']\n",
    "\n",
    "evtid = np.array(data['evtid'])\n",
    "ev_time_day = np.array(data['ev_time_day'])\n",
    "ev_time_sec = np.array(data['ev_time_sec'])  # -> Pass to days through sec/86400\n",
    "ev_time_nanosec = np.array(data['ev_time_nanosec'])# -> Pass to days through nsec/(1e9*86400)\n",
    "\n",
    "# ===== Remove  redundante values through evID =====\n",
    "#Empty lists tyo be filled with the non-repeated event values\n",
    "evtid_ev = []\n",
    "ev_time_day_ev = []\n",
    "ev_time_sec_ev = []\n",
    "ev_time_nanosec_ev = []\n",
    "\n",
    "#evID index break list\n",
    "data_break_i = [0]  #array whose elements are the index from where an event start and end.\n",
    "\n",
    "N_data = len(evtid)\n",
    "\n",
    "for i_dx in range(N_data - 1):\n",
    "    if evtid[i_dx] != evtid[i_dx+1]:\n",
    "        data_break_i.append(i_dx+1)\n",
    "\n",
    "#add the last index to complete the data_break_i list\n",
    "data_break_i.append(N_data - 1)\n",
    "\n",
    "N_terms = len(data_break_i)\n",
    "\n",
    "#Start to save the non-redundant values and separate the time residuals and angles for each event\n",
    "for i_dx in range(N_terms - 2):\n",
    "    init_i = data_break_i[i_dx]\n",
    "    final_i = data_break_i[i_dx+1]\n",
    "\n",
    "    evtid_ev.append(evtid[init_i: final_i][0])\n",
    "    ev_time_day_ev.append(ev_time_day[init_i: final_i][0])\n",
    "    ev_time_sec_ev.append(ev_time_sec[init_i: final_i][0])\n",
    "    ev_time_nanosec_ev.append(ev_time_nanosec[init_i: final_i][0])\n",
    "\n",
    "evtid_ev = np.array(evtid_ev)\n",
    "ev_time_day_ev = np.array(ev_time_day_ev)\n",
    "ev_time_sec_ev = np.array(ev_time_sec_ev)\n",
    "ev_time_nanosec_ev = np.array(ev_time_nanosec_ev)\n",
    "\n",
    "# ===== Live-time Computation =====\n",
    "\n",
    "#Time diferences:\n",
    "dt_days = np.diff(ev_time_day_ev)\n",
    "dt_sec = np.diff(ev_time_sec_ev)\n",
    "dt_nsec = np.diff(ev_time_nanosec_ev)\n",
    "\n",
    "#Total Times:\n",
    "days_tot = np.sum(dt_days)\n",
    "sec_tot = np.sum(dt_sec)\n",
    "nsec_tot = np.sum(dt_nsec)\n",
    "\n",
    "live_time_tot = days_tot + sec_tot/86400.0 + nsec_tot/(1.0e9 * 86400.0)\n",
    "live_time_tot"
   ]
  },
  {
   "cell_type": "code",
   "execution_count": 5,
   "id": "1902b708-c9c3-418d-ae15-0de28e7b704f",
   "metadata": {},
   "outputs": [
    {
     "data": {
      "text/plain": [
       "['E:/Data/solars/solarnu_Realdata/energy_down_2_pt_5_MeV/Bi214_coinc_2.5MeV\\\\real_data_solar_analysis_27.root',\n",
       " 'E:/Data/solars/solarnu_Realdata/energy_down_2_pt_5_MeV/Bi214_coinc_2.5MeV\\\\real_data_solar_analysis_28.root']"
      ]
     },
     "execution_count": 5,
     "metadata": {},
     "output_type": "execute_result"
    }
   ],
   "source": [
    "flist"
   ]
  },
  {
   "cell_type": "markdown",
   "id": "30260d8c-b84b-452f-8b50-5077f09c35fb",
   "metadata": {},
   "source": [
    "## All Files UTime Reading"
   ]
  },
  {
   "cell_type": "code",
   "execution_count": 30,
   "id": "3104752f-c5d8-40d3-be8e-be6374c2ff3e",
   "metadata": {},
   "outputs": [
    {
     "name": "stdout",
     "output_type": "stream",
     "text": [
      "Total Live-time = 308.79705514596526\n"
     ]
    }
   ],
   "source": [
    "# Save the total interval times for each readen file\n",
    "days_tot = []\n",
    "sec_tot = []\n",
    "nsec_tot = []\n",
    "\n",
    "for index_file, input_file_dir in enumerate(flist):\n",
    "    #print(f'In file {input_file_dir}')\n",
    "    \n",
    "    #Load the Data:\n",
    "    load_data = uproot.open(input_file_dir)\n",
    "\n",
    "    #select the tree of event data\n",
    "    TTree_data_name = load_data.keys()[0]\n",
    "    event_data = load_data[TTree_data_name]\n",
    "\n",
    "    #Select observables\n",
    "    evtid = np.array(event_data['evtid'])\n",
    "    ev_time_day = np.array(event_data['ev_time_day'])\n",
    "    ev_time_sec = np.array(event_data['ev_time_sec'])  # -> Pass to days through sec/86400\n",
    "    ev_time_nanosec = np.array(event_data['ev_time_nanosec'])# -> Pass to days through nsec/(1e9*86400)\n",
    "\n",
    "    # ===== Remove  redundante values through evID =====\n",
    "    #Empty lists tyo be filled with the non-repeated event values\n",
    "    evtid_ev = []\n",
    "    ev_time_day_ev = []\n",
    "    ev_time_sec_ev = []\n",
    "    ev_time_nanosec_ev = []\n",
    "    \n",
    "    #evID index break list\n",
    "    data_break_i = [0]  #array whose elements are the index from where an event start and end.\n",
    "    \n",
    "    N_data = len(evtid)\n",
    "    for i_dx in range(N_data - 1):\n",
    "        if evtid[i_dx] != evtid[i_dx+1]:\n",
    "            data_break_i.append(i_dx+1)\n",
    "    \n",
    "    #add the last index to complete the data_break_i list\n",
    "    data_break_i.append(N_data - 1)\n",
    "    \n",
    "    N_terms = len(data_break_i)\n",
    "    \n",
    "    #Start to save the non-redundant values and separate the time residuals and angles for each event\n",
    "    for i_dx in range(N_terms - 2):\n",
    "        init_i = data_break_i[i_dx]\n",
    "        final_i = data_break_i[i_dx+1]\n",
    "    \n",
    "        evtid_ev.append(evtid[init_i: final_i][0])\n",
    "        ev_time_day_ev.append(ev_time_day[init_i: final_i][0])\n",
    "        ev_time_sec_ev.append(ev_time_sec[init_i: final_i][0])\n",
    "        ev_time_nanosec_ev.append(ev_time_nanosec[init_i: final_i][0])\n",
    "    \n",
    "    evtid_ev = np.array(evtid_ev)\n",
    "    ev_time_day_ev = np.array(ev_time_day_ev)\n",
    "    ev_time_sec_ev = np.array(ev_time_sec_ev)\n",
    "    ev_time_nanosec_ev = np.array(ev_time_nanosec_ev)\n",
    "    \n",
    "    # ===== Live-time Computation =====\n",
    "    #print('Live-time Calculation ...')\n",
    "    \n",
    "    #Time diferences:\n",
    "    dt_days = np.diff(ev_time_day_ev)\n",
    "    dt_sec = np.diff(ev_time_sec_ev)\n",
    "    dt_nsec = np.diff(ev_time_nanosec_ev)\n",
    "    \n",
    "    #Save Total Times per file:\n",
    "    days_tot.append(np.sum(dt_days))\n",
    "    sec_tot.append(np.sum(dt_sec))\n",
    "    nsec_tot.append(np.sum(dt_nsec))\n",
    "\n",
    "#Total Live-time Calculation:\n",
    "days_tot = np.array(days_tot)\n",
    "sec_tot = np.array(sec_tot)\n",
    "nsec_tot = np.array(nsec_tot)\n",
    "\n",
    "live_time_tot = np.sum(days_tot) + np.sum(sec_tot)/86400.0 + np.sum(nsec_tot)/(1.0e9 * 86400.0)\n",
    "print(f'Total Live-time = {live_time_tot}')"
   ]
  },
  {
   "cell_type": "code",
   "execution_count": null,
   "id": "3c74975b-2fe5-41fe-80fc-f4e919bcb918",
   "metadata": {},
   "outputs": [],
   "source": []
  }
 ],
 "metadata": {
  "kernelspec": {
   "display_name": "Python 3 (ipykernel)",
   "language": "python",
   "name": "python3"
  },
  "language_info": {
   "codemirror_mode": {
    "name": "ipython",
    "version": 3
   },
   "file_extension": ".py",
   "mimetype": "text/x-python",
   "name": "python",
   "nbconvert_exporter": "python",
   "pygments_lexer": "ipython3",
   "version": "3.12.2"
  }
 },
 "nbformat": 4,
 "nbformat_minor": 5
}
