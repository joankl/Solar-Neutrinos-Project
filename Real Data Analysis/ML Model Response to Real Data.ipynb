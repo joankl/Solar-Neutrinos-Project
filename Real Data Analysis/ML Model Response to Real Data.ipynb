{
 "cells": [
  {
   "cell_type": "markdown",
   "id": "8fa2750e-7c52-4844-8f4a-c606d5049971",
   "metadata": {},
   "source": [
    "# Notebook Dedicated to Study the Response of the Trained Classifier when Passing Real Data sets to perform Predictions"
   ]
  },
  {
   "cell_type": "code",
   "execution_count": 1,
   "id": "b47b4fe6-8c00-45ba-a151-db499c145b62",
   "metadata": {},
   "outputs": [],
   "source": [
    "import numpy as np\n",
    "\n",
    "import matplotlib\n",
    "import matplotlib.pyplot as plt\n",
    "from matplotlib import cm\n",
    "\n",
    "import seaborn as sn\n",
    "import pandas as pd\n",
    "\n",
    "import tensorflow as tf\n",
    "from sklearn.preprocessing import StandardScaler\n",
    "#from tensorflow.keras.models import Model, Sequential\n",
    "#from tensorflow.keras.layers import Input, Dense, concatenate, Dropout\n",
    "#from keras.losses import BinaryCrossentropy\n",
    "#from sklearn.metrics import roc_curve\n",
    "#from sklearn.metrics import auc\n",
    "#from sklearn.utils import shuffle"
   ]
  },
  {
   "cell_type": "code",
   "execution_count": 100,
   "id": "d42919eb-5df7-4122-959b-a79ee2889edc",
   "metadata": {},
   "outputs": [],
   "source": [
    "import colorsys\n",
    "# Función para generar variantes más claras y más oscuras de un color\n",
    "def generate_color_variants(base_color, num_variants, factor = 0.3):\n",
    "    # Convertir el color base a valores de HSV\n",
    "    r, g, b = base_color\n",
    "    h, l, s = colorsys.rgb_to_hls(r, g, b)\n",
    "    \n",
    "    # Generar variantes\n",
    "    variants = []\n",
    "    for i in range(1, num_variants + 1):\n",
    "        # Hacer el color más claro\n",
    "        lighter = colorsys.hls_to_rgb(h, min(1, l * (1 + factor * i)), s)\n",
    "        # Hacer el color más oscuro\n",
    "        darker = colorsys.hls_to_rgb(h, max(0, l * (1 - factor * i)), s)\n",
    "        variants.append(lighter)\n",
    "        variants.append(darker)\n",
    "        \n",
    "    return variants\n",
    "\n",
    "# Color base (rojo)\n",
    "base_red = (1, 0, 0) # RGB para rojo puro\n",
    "# Color base (azuk)\n",
    "base_blue = (0, 0, 1) # RGB para azul puro\n",
    "num_variants = 5\n",
    "\n",
    "red_variants = generate_color_variants(base_red, num_variants)\n",
    "blue_variants = generate_color_variants(base_blue, num_variants)"
   ]
  },
  {
   "cell_type": "markdown",
   "id": "459b3063-bdb6-405a-a6b3-4b00512d43a8",
   "metadata": {},
   "source": [
    "# Load and Extract the Data"
   ]
  },
  {
   "cell_type": "code",
   "execution_count": 3,
   "id": "863a279e-f24f-4466-9d2b-b2716f5091f8",
   "metadata": {},
   "outputs": [
    {
     "data": {
      "text/html": [
       "<div>\n",
       "<style scoped>\n",
       "    .dataframe tbody tr th:only-of-type {\n",
       "        vertical-align: middle;\n",
       "    }\n",
       "\n",
       "    .dataframe tbody tr th {\n",
       "        vertical-align: top;\n",
       "    }\n",
       "\n",
       "    .dataframe thead th {\n",
       "        text-align: right;\n",
       "    }\n",
       "</style>\n",
       "<table border=\"1\" class=\"dataframe\">\n",
       "  <thead>\n",
       "    <tr style=\"text-align: right;\">\n",
       "      <th></th>\n",
       "      <th>Unnamed: 0</th>\n",
       "      <th>pixel_0</th>\n",
       "      <th>pixel_1</th>\n",
       "      <th>pixel_2</th>\n",
       "      <th>pixel_3</th>\n",
       "      <th>pixel_4</th>\n",
       "      <th>pixel_5</th>\n",
       "      <th>pixel_6</th>\n",
       "      <th>pixel_7</th>\n",
       "      <th>pixel_8</th>\n",
       "      <th>...</th>\n",
       "      <th>pixel_92</th>\n",
       "      <th>pixel_93</th>\n",
       "      <th>pixel_94</th>\n",
       "      <th>pixel_95</th>\n",
       "      <th>pixel_96</th>\n",
       "      <th>pixel_97</th>\n",
       "      <th>pixel_98</th>\n",
       "      <th>pixel_99</th>\n",
       "      <th>energy (MeV)</th>\n",
       "      <th>radius (mm)</th>\n",
       "    </tr>\n",
       "  </thead>\n",
       "  <tbody>\n",
       "    <tr>\n",
       "      <th>0</th>\n",
       "      <td>0</td>\n",
       "      <td>0.0</td>\n",
       "      <td>0.00</td>\n",
       "      <td>0.0</td>\n",
       "      <td>0.2</td>\n",
       "      <td>0.000000</td>\n",
       "      <td>0.10</td>\n",
       "      <td>0.058824</td>\n",
       "      <td>0.131579</td>\n",
       "      <td>0.148148</td>\n",
       "      <td>...</td>\n",
       "      <td>0.000000</td>\n",
       "      <td>0.200000</td>\n",
       "      <td>0.111111</td>\n",
       "      <td>0.000000</td>\n",
       "      <td>0.000000</td>\n",
       "      <td>0.105263</td>\n",
       "      <td>0.037037</td>\n",
       "      <td>0.133333</td>\n",
       "      <td>4.044874</td>\n",
       "      <td>2425.253906</td>\n",
       "    </tr>\n",
       "    <tr>\n",
       "      <th>1</th>\n",
       "      <td>1</td>\n",
       "      <td>0.0</td>\n",
       "      <td>0.25</td>\n",
       "      <td>0.0</td>\n",
       "      <td>0.0</td>\n",
       "      <td>0.117647</td>\n",
       "      <td>0.00</td>\n",
       "      <td>0.000000</td>\n",
       "      <td>0.076923</td>\n",
       "      <td>0.107143</td>\n",
       "      <td>...</td>\n",
       "      <td>0.125000</td>\n",
       "      <td>0.000000</td>\n",
       "      <td>0.117647</td>\n",
       "      <td>0.153846</td>\n",
       "      <td>0.160000</td>\n",
       "      <td>0.076923</td>\n",
       "      <td>0.178571</td>\n",
       "      <td>0.068966</td>\n",
       "      <td>3.546911</td>\n",
       "      <td>3926.669922</td>\n",
       "    </tr>\n",
       "    <tr>\n",
       "      <th>2</th>\n",
       "      <td>2</td>\n",
       "      <td>0.0</td>\n",
       "      <td>0.00</td>\n",
       "      <td>0.0</td>\n",
       "      <td>0.2</td>\n",
       "      <td>0.083333</td>\n",
       "      <td>0.25</td>\n",
       "      <td>0.000000</td>\n",
       "      <td>0.000000</td>\n",
       "      <td>0.000000</td>\n",
       "      <td>...</td>\n",
       "      <td>0.142857</td>\n",
       "      <td>0.200000</td>\n",
       "      <td>0.166667</td>\n",
       "      <td>0.250000</td>\n",
       "      <td>0.166667</td>\n",
       "      <td>0.090909</td>\n",
       "      <td>0.000000</td>\n",
       "      <td>0.034483</td>\n",
       "      <td>3.584208</td>\n",
       "      <td>1686.395874</td>\n",
       "    </tr>\n",
       "    <tr>\n",
       "      <th>3</th>\n",
       "      <td>3</td>\n",
       "      <td>0.0</td>\n",
       "      <td>0.00</td>\n",
       "      <td>0.0</td>\n",
       "      <td>0.0</td>\n",
       "      <td>0.076923</td>\n",
       "      <td>0.00</td>\n",
       "      <td>0.000000</td>\n",
       "      <td>0.080000</td>\n",
       "      <td>0.000000</td>\n",
       "      <td>...</td>\n",
       "      <td>0.142857</td>\n",
       "      <td>0.111111</td>\n",
       "      <td>0.230769</td>\n",
       "      <td>0.238095</td>\n",
       "      <td>0.058824</td>\n",
       "      <td>0.240000</td>\n",
       "      <td>0.178571</td>\n",
       "      <td>0.193548</td>\n",
       "      <td>4.000314</td>\n",
       "      <td>3871.861816</td>\n",
       "    </tr>\n",
       "    <tr>\n",
       "      <th>4</th>\n",
       "      <td>4</td>\n",
       "      <td>0.0</td>\n",
       "      <td>0.00</td>\n",
       "      <td>0.0</td>\n",
       "      <td>0.0</td>\n",
       "      <td>0.000000</td>\n",
       "      <td>0.05</td>\n",
       "      <td>0.000000</td>\n",
       "      <td>0.000000</td>\n",
       "      <td>0.023256</td>\n",
       "      <td>...</td>\n",
       "      <td>0.090909</td>\n",
       "      <td>0.125000</td>\n",
       "      <td>0.277778</td>\n",
       "      <td>0.150000</td>\n",
       "      <td>0.178571</td>\n",
       "      <td>0.111111</td>\n",
       "      <td>0.232558</td>\n",
       "      <td>0.189189</td>\n",
       "      <td>4.135279</td>\n",
       "      <td>3998.809082</td>\n",
       "    </tr>\n",
       "  </tbody>\n",
       "</table>\n",
       "<p>5 rows × 103 columns</p>\n",
       "</div>"
      ],
      "text/plain": [
       "   Unnamed: 0  pixel_0  pixel_1  pixel_2  pixel_3   pixel_4  pixel_5  \\\n",
       "0           0      0.0     0.00      0.0      0.2  0.000000     0.10   \n",
       "1           1      0.0     0.25      0.0      0.0  0.117647     0.00   \n",
       "2           2      0.0     0.00      0.0      0.2  0.083333     0.25   \n",
       "3           3      0.0     0.00      0.0      0.0  0.076923     0.00   \n",
       "4           4      0.0     0.00      0.0      0.0  0.000000     0.05   \n",
       "\n",
       "    pixel_6   pixel_7   pixel_8  ...  pixel_92  pixel_93  pixel_94  pixel_95  \\\n",
       "0  0.058824  0.131579  0.148148  ...  0.000000  0.200000  0.111111  0.000000   \n",
       "1  0.000000  0.076923  0.107143  ...  0.125000  0.000000  0.117647  0.153846   \n",
       "2  0.000000  0.000000  0.000000  ...  0.142857  0.200000  0.166667  0.250000   \n",
       "3  0.000000  0.080000  0.000000  ...  0.142857  0.111111  0.230769  0.238095   \n",
       "4  0.000000  0.000000  0.023256  ...  0.090909  0.125000  0.277778  0.150000   \n",
       "\n",
       "   pixel_96  pixel_97  pixel_98  pixel_99  energy (MeV)  radius (mm)  \n",
       "0  0.000000  0.105263  0.037037  0.133333      4.044874  2425.253906  \n",
       "1  0.160000  0.076923  0.178571  0.068966      3.546911  3926.669922  \n",
       "2  0.166667  0.090909  0.000000  0.034483      3.584208  1686.395874  \n",
       "3  0.058824  0.240000  0.178571  0.193548      4.000314  3871.861816  \n",
       "4  0.178571  0.111111  0.232558  0.189189      4.135279  3998.809082  \n",
       "\n",
       "[5 rows x 103 columns]"
      ]
     },
     "execution_count": 3,
     "metadata": {},
     "output_type": "execute_result"
    }
   ],
   "source": [
    "#Choose the real dataset based on the cuts on energy ans position\n",
    "en_inf_cut = 3.5\n",
    "en_sup_cut = 12\n",
    "posr_cut = 5000\n",
    "\n",
    "#Load Data\n",
    "real_data_dir = f'C:/Users/joanc/jupyter notebooks/solar neutrino analysis/real data analysis/real_dataset_ML/real_dataset_E_{en_inf_cut}_{en_sup_cut}_MeV_R_{posr_cut}_mm.csv'\n",
    "\n",
    "df_real_data = pd.read_csv(real_data_dir)\n",
    "df_real_data.head()"
   ]
  },
  {
   "cell_type": "code",
   "execution_count": 18,
   "id": "4d931e33-da54-4a64-b387-3b7ae3d437c3",
   "metadata": {},
   "outputs": [],
   "source": [
    "#Separate observables\n",
    "pixel_pattern = r'^pixel_\\d+$'\n",
    "\n",
    "df_pixel = df_real_data.filter(regex=pixel_pattern)\n",
    "df_energy = df_real_data[['energy (MeV)']]\n",
    "df_radius = df_real_data[['radius (mm)']]"
   ]
  },
  {
   "cell_type": "markdown",
   "id": "cb9865a6-4127-40c1-bc03-230877d783fb",
   "metadata": {},
   "source": [
    "# Transform the Data with Standard Scaler and Normalize the Radius of event by the Volume"
   ]
  },
  {
   "cell_type": "code",
   "execution_count": 33,
   "id": "4dc90ffd-fd36-481c-b58a-aa5069bde278",
   "metadata": {},
   "outputs": [],
   "source": [
    "#First, normalize the Radius\n",
    "vol = posr_cut**3\n",
    "df_norm_radius = (df_radius**3/vol)\n",
    "\n",
    "#Proceed with Std. Scaler\n",
    "scaler_pixels = StandardScaler()\n",
    "scaler_energy = StandardScaler()\n",
    "scaler_radius = StandardScaler()\n",
    "\n",
    "pixel_transf = scaler_pixels.fit_transform(df_pixel)\n",
    "energy_transf = scaler_energy.fit_transform(df_energy).T[0]\n",
    "norm_radius_transf = scaler_pixels.fit_transform(df_norm_radius).T[0]"
   ]
  },
  {
   "cell_type": "code",
   "execution_count": 39,
   "id": "e6a3c899-d503-4aa7-9611-9a5f0ec9e028",
   "metadata": {},
   "outputs": [
    {
     "data": {
      "text/plain": [
       "(136, 100)"
      ]
     },
     "execution_count": 39,
     "metadata": {},
     "output_type": "execute_result"
    }
   ],
   "source": [
    "pixel_transf.shape"
   ]
  },
  {
   "cell_type": "markdown",
   "id": "02e6f736-dcc8-4d8b-b7e9-16fb6b48010b",
   "metadata": {},
   "source": [
    "# Load the Classifier Model"
   ]
  },
  {
   "cell_type": "code",
   "execution_count": 36,
   "id": "76342e6f-737a-449d-9a50-01aec253d946",
   "metadata": {},
   "outputs": [
    {
     "name": "stderr",
     "output_type": "stream",
     "text": [
      "WARNING:absl:Compiled the loaded model, but the compiled metrics have yet to be built. `model.compile_metrics` will be empty until you train or evaluate the model.\n"
     ]
    },
    {
     "data": {
      "text/html": [
       "<pre style=\"white-space:pre;overflow-x:auto;line-height:normal;font-family:Menlo,'DejaVu Sans Mono',consolas,'Courier New',monospace\"><span style=\"font-weight: bold\">Model: \"functional_1\"</span>\n",
       "</pre>\n"
      ],
      "text/plain": [
       "\u001b[1mModel: \"functional_1\"\u001b[0m\n"
      ]
     },
     "metadata": {},
     "output_type": "display_data"
    },
    {
     "data": {
      "text/html": [
       "<pre style=\"white-space:pre;overflow-x:auto;line-height:normal;font-family:Menlo,'DejaVu Sans Mono',consolas,'Courier New',monospace\">┏━━━━━━━━━━━━━━━━━━━━━━━━━━━━━━━┳━━━━━━━━━━━━━━━━━━━━━━━━━━━┳━━━━━━━━━━━━━━━━━┳━━━━━━━━━━━━━━━━━━━━━━━━━━━━┓\n",
       "┃<span style=\"font-weight: bold\"> Layer (type)                  </span>┃<span style=\"font-weight: bold\"> Output Shape              </span>┃<span style=\"font-weight: bold\">         Param # </span>┃<span style=\"font-weight: bold\"> Connected to               </span>┃\n",
       "┡━━━━━━━━━━━━━━━━━━━━━━━━━━━━━━━╇━━━━━━━━━━━━━━━━━━━━━━━━━━━╇━━━━━━━━━━━━━━━━━╇━━━━━━━━━━━━━━━━━━━━━━━━━━━━┩\n",
       "│ image_input (<span style=\"color: #0087ff; text-decoration-color: #0087ff\">InputLayer</span>)      │ (<span style=\"color: #00d7ff; text-decoration-color: #00d7ff\">None</span>, <span style=\"color: #00af00; text-decoration-color: #00af00\">100</span>)               │               <span style=\"color: #00af00; text-decoration-color: #00af00\">0</span> │ -                          │\n",
       "├───────────────────────────────┼───────────────────────────┼─────────────────┼────────────────────────────┤\n",
       "│ im_ly_0 (<span style=\"color: #0087ff; text-decoration-color: #0087ff\">Dense</span>)               │ (<span style=\"color: #00d7ff; text-decoration-color: #00d7ff\">None</span>, <span style=\"color: #00af00; text-decoration-color: #00af00\">72</span>)                │           <span style=\"color: #00af00; text-decoration-color: #00af00\">7,272</span> │ image_input[<span style=\"color: #00af00; text-decoration-color: #00af00\">0</span>][<span style=\"color: #00af00; text-decoration-color: #00af00\">0</span>]          │\n",
       "├───────────────────────────────┼───────────────────────────┼─────────────────┼────────────────────────────┤\n",
       "│ im_ly_1 (<span style=\"color: #0087ff; text-decoration-color: #0087ff\">Dense</span>)               │ (<span style=\"color: #00d7ff; text-decoration-color: #00d7ff\">None</span>, <span style=\"color: #00af00; text-decoration-color: #00af00\">56</span>)                │           <span style=\"color: #00af00; text-decoration-color: #00af00\">4,088</span> │ im_ly_0[<span style=\"color: #00af00; text-decoration-color: #00af00\">0</span>][<span style=\"color: #00af00; text-decoration-color: #00af00\">0</span>]              │\n",
       "├───────────────────────────────┼───────────────────────────┼─────────────────┼────────────────────────────┤\n",
       "│ im_ly_2 (<span style=\"color: #0087ff; text-decoration-color: #0087ff\">Dense</span>)               │ (<span style=\"color: #00d7ff; text-decoration-color: #00d7ff\">None</span>, <span style=\"color: #00af00; text-decoration-color: #00af00\">53</span>)                │           <span style=\"color: #00af00; text-decoration-color: #00af00\">3,021</span> │ im_ly_1[<span style=\"color: #00af00; text-decoration-color: #00af00\">0</span>][<span style=\"color: #00af00; text-decoration-color: #00af00\">0</span>]              │\n",
       "├───────────────────────────────┼───────────────────────────┼─────────────────┼────────────────────────────┤\n",
       "│ im_ly_3 (<span style=\"color: #0087ff; text-decoration-color: #0087ff\">Dense</span>)               │ (<span style=\"color: #00d7ff; text-decoration-color: #00d7ff\">None</span>, <span style=\"color: #00af00; text-decoration-color: #00af00\">52</span>)                │           <span style=\"color: #00af00; text-decoration-color: #00af00\">2,808</span> │ im_ly_2[<span style=\"color: #00af00; text-decoration-color: #00af00\">0</span>][<span style=\"color: #00af00; text-decoration-color: #00af00\">0</span>]              │\n",
       "├───────────────────────────────┼───────────────────────────┼─────────────────┼────────────────────────────┤\n",
       "│ im_ly_4 (<span style=\"color: #0087ff; text-decoration-color: #0087ff\">Dense</span>)               │ (<span style=\"color: #00d7ff; text-decoration-color: #00d7ff\">None</span>, <span style=\"color: #00af00; text-decoration-color: #00af00\">51</span>)                │           <span style=\"color: #00af00; text-decoration-color: #00af00\">2,703</span> │ im_ly_3[<span style=\"color: #00af00; text-decoration-color: #00af00\">0</span>][<span style=\"color: #00af00; text-decoration-color: #00af00\">0</span>]              │\n",
       "├───────────────────────────────┼───────────────────────────┼─────────────────┼────────────────────────────┤\n",
       "│ im_ly_5 (<span style=\"color: #0087ff; text-decoration-color: #0087ff\">Dense</span>)               │ (<span style=\"color: #00d7ff; text-decoration-color: #00d7ff\">None</span>, <span style=\"color: #00af00; text-decoration-color: #00af00\">50</span>)                │           <span style=\"color: #00af00; text-decoration-color: #00af00\">2,600</span> │ im_ly_4[<span style=\"color: #00af00; text-decoration-color: #00af00\">0</span>][<span style=\"color: #00af00; text-decoration-color: #00af00\">0</span>]              │\n",
       "├───────────────────────────────┼───────────────────────────┼─────────────────┼────────────────────────────┤\n",
       "│ im_ly_6 (<span style=\"color: #0087ff; text-decoration-color: #0087ff\">Dense</span>)               │ (<span style=\"color: #00d7ff; text-decoration-color: #00d7ff\">None</span>, <span style=\"color: #00af00; text-decoration-color: #00af00\">50</span>)                │           <span style=\"color: #00af00; text-decoration-color: #00af00\">2,550</span> │ im_ly_5[<span style=\"color: #00af00; text-decoration-color: #00af00\">0</span>][<span style=\"color: #00af00; text-decoration-color: #00af00\">0</span>]              │\n",
       "├───────────────────────────────┼───────────────────────────┼─────────────────┼────────────────────────────┤\n",
       "│ im_ly_7 (<span style=\"color: #0087ff; text-decoration-color: #0087ff\">Dense</span>)               │ (<span style=\"color: #00d7ff; text-decoration-color: #00d7ff\">None</span>, <span style=\"color: #00af00; text-decoration-color: #00af00\">50</span>)                │           <span style=\"color: #00af00; text-decoration-color: #00af00\">2,550</span> │ im_ly_6[<span style=\"color: #00af00; text-decoration-color: #00af00\">0</span>][<span style=\"color: #00af00; text-decoration-color: #00af00\">0</span>]              │\n",
       "├───────────────────────────────┼───────────────────────────┼─────────────────┼────────────────────────────┤\n",
       "│ im_ly_8 (<span style=\"color: #0087ff; text-decoration-color: #0087ff\">Dense</span>)               │ (<span style=\"color: #00d7ff; text-decoration-color: #00d7ff\">None</span>, <span style=\"color: #00af00; text-decoration-color: #00af00\">50</span>)                │           <span style=\"color: #00af00; text-decoration-color: #00af00\">2,550</span> │ im_ly_7[<span style=\"color: #00af00; text-decoration-color: #00af00\">0</span>][<span style=\"color: #00af00; text-decoration-color: #00af00\">0</span>]              │\n",
       "├───────────────────────────────┼───────────────────────────┼─────────────────┼────────────────────────────┤\n",
       "│ energy_input (<span style=\"color: #0087ff; text-decoration-color: #0087ff\">InputLayer</span>)     │ (<span style=\"color: #00d7ff; text-decoration-color: #00d7ff\">None</span>, <span style=\"color: #00af00; text-decoration-color: #00af00\">1</span>)                 │               <span style=\"color: #00af00; text-decoration-color: #00af00\">0</span> │ -                          │\n",
       "├───────────────────────────────┼───────────────────────────┼─────────────────┼────────────────────────────┤\n",
       "│ radius_input (<span style=\"color: #0087ff; text-decoration-color: #0087ff\">InputLayer</span>)     │ (<span style=\"color: #00d7ff; text-decoration-color: #00d7ff\">None</span>, <span style=\"color: #00af00; text-decoration-color: #00af00\">1</span>)                 │               <span style=\"color: #00af00; text-decoration-color: #00af00\">0</span> │ -                          │\n",
       "├───────────────────────────────┼───────────────────────────┼─────────────────┼────────────────────────────┤\n",
       "│ concatenate (<span style=\"color: #0087ff; text-decoration-color: #0087ff\">Concatenate</span>)     │ (<span style=\"color: #00d7ff; text-decoration-color: #00d7ff\">None</span>, <span style=\"color: #00af00; text-decoration-color: #00af00\">52</span>)                │               <span style=\"color: #00af00; text-decoration-color: #00af00\">0</span> │ im_ly_8[<span style=\"color: #00af00; text-decoration-color: #00af00\">0</span>][<span style=\"color: #00af00; text-decoration-color: #00af00\">0</span>],             │\n",
       "│                               │                           │                 │ energy_input[<span style=\"color: #00af00; text-decoration-color: #00af00\">0</span>][<span style=\"color: #00af00; text-decoration-color: #00af00\">0</span>],        │\n",
       "│                               │                           │                 │ radius_input[<span style=\"color: #00af00; text-decoration-color: #00af00\">0</span>][<span style=\"color: #00af00; text-decoration-color: #00af00\">0</span>]         │\n",
       "├───────────────────────────────┼───────────────────────────┼─────────────────┼────────────────────────────┤\n",
       "│ bdo_ly_0 (<span style=\"color: #0087ff; text-decoration-color: #0087ff\">Dense</span>)              │ (<span style=\"color: #00d7ff; text-decoration-color: #00d7ff\">None</span>, <span style=\"color: #00af00; text-decoration-color: #00af00\">80</span>)                │           <span style=\"color: #00af00; text-decoration-color: #00af00\">4,240</span> │ concatenate[<span style=\"color: #00af00; text-decoration-color: #00af00\">0</span>][<span style=\"color: #00af00; text-decoration-color: #00af00\">0</span>]          │\n",
       "├───────────────────────────────┼───────────────────────────┼─────────────────┼────────────────────────────┤\n",
       "│ bdo_layer1 (<span style=\"color: #0087ff; text-decoration-color: #0087ff\">Dense</span>)            │ (<span style=\"color: #00d7ff; text-decoration-color: #00d7ff\">None</span>, <span style=\"color: #00af00; text-decoration-color: #00af00\">30</span>)                │           <span style=\"color: #00af00; text-decoration-color: #00af00\">2,430</span> │ bdo_ly_0[<span style=\"color: #00af00; text-decoration-color: #00af00\">0</span>][<span style=\"color: #00af00; text-decoration-color: #00af00\">0</span>]             │\n",
       "├───────────────────────────────┼───────────────────────────┼─────────────────┼────────────────────────────┤\n",
       "│ bdo_layer2 (<span style=\"color: #0087ff; text-decoration-color: #0087ff\">Dense</span>)            │ (<span style=\"color: #00d7ff; text-decoration-color: #00d7ff\">None</span>, <span style=\"color: #00af00; text-decoration-color: #00af00\">30</span>)                │             <span style=\"color: #00af00; text-decoration-color: #00af00\">930</span> │ bdo_layer1[<span style=\"color: #00af00; text-decoration-color: #00af00\">0</span>][<span style=\"color: #00af00; text-decoration-color: #00af00\">0</span>]           │\n",
       "├───────────────────────────────┼───────────────────────────┼─────────────────┼────────────────────────────┤\n",
       "│ bdo_layer3 (<span style=\"color: #0087ff; text-decoration-color: #0087ff\">Dense</span>)            │ (<span style=\"color: #00d7ff; text-decoration-color: #00d7ff\">None</span>, <span style=\"color: #00af00; text-decoration-color: #00af00\">30</span>)                │             <span style=\"color: #00af00; text-decoration-color: #00af00\">930</span> │ bdo_layer2[<span style=\"color: #00af00; text-decoration-color: #00af00\">0</span>][<span style=\"color: #00af00; text-decoration-color: #00af00\">0</span>]           │\n",
       "├───────────────────────────────┼───────────────────────────┼─────────────────┼────────────────────────────┤\n",
       "│ dropout (<span style=\"color: #0087ff; text-decoration-color: #0087ff\">Dropout</span>)             │ (<span style=\"color: #00d7ff; text-decoration-color: #00d7ff\">None</span>, <span style=\"color: #00af00; text-decoration-color: #00af00\">30</span>)                │               <span style=\"color: #00af00; text-decoration-color: #00af00\">0</span> │ bdo_layer3[<span style=\"color: #00af00; text-decoration-color: #00af00\">0</span>][<span style=\"color: #00af00; text-decoration-color: #00af00\">0</span>]           │\n",
       "├───────────────────────────────┼───────────────────────────┼─────────────────┼────────────────────────────┤\n",
       "│ ado_ly_0 (<span style=\"color: #0087ff; text-decoration-color: #0087ff\">Dense</span>)              │ (<span style=\"color: #00d7ff; text-decoration-color: #00d7ff\">None</span>, <span style=\"color: #00af00; text-decoration-color: #00af00\">28</span>)                │             <span style=\"color: #00af00; text-decoration-color: #00af00\">868</span> │ dropout[<span style=\"color: #00af00; text-decoration-color: #00af00\">0</span>][<span style=\"color: #00af00; text-decoration-color: #00af00\">0</span>]              │\n",
       "├───────────────────────────────┼───────────────────────────┼─────────────────┼────────────────────────────┤\n",
       "│ ado_ly_1 (<span style=\"color: #0087ff; text-decoration-color: #0087ff\">Dense</span>)              │ (<span style=\"color: #00d7ff; text-decoration-color: #00d7ff\">None</span>, <span style=\"color: #00af00; text-decoration-color: #00af00\">12</span>)                │             <span style=\"color: #00af00; text-decoration-color: #00af00\">348</span> │ ado_ly_0[<span style=\"color: #00af00; text-decoration-color: #00af00\">0</span>][<span style=\"color: #00af00; text-decoration-color: #00af00\">0</span>]             │\n",
       "├───────────────────────────────┼───────────────────────────┼─────────────────┼────────────────────────────┤\n",
       "│ nu_predict (<span style=\"color: #0087ff; text-decoration-color: #0087ff\">Dense</span>)            │ (<span style=\"color: #00d7ff; text-decoration-color: #00d7ff\">None</span>, <span style=\"color: #00af00; text-decoration-color: #00af00\">2</span>)                 │              <span style=\"color: #00af00; text-decoration-color: #00af00\">26</span> │ ado_ly_1[<span style=\"color: #00af00; text-decoration-color: #00af00\">0</span>][<span style=\"color: #00af00; text-decoration-color: #00af00\">0</span>]             │\n",
       "└───────────────────────────────┴───────────────────────────┴─────────────────┴────────────────────────────┘\n",
       "</pre>\n"
      ],
      "text/plain": [
       "┏━━━━━━━━━━━━━━━━━━━━━━━━━━━━━━━┳━━━━━━━━━━━━━━━━━━━━━━━━━━━┳━━━━━━━━━━━━━━━━━┳━━━━━━━━━━━━━━━━━━━━━━━━━━━━┓\n",
       "┃\u001b[1m \u001b[0m\u001b[1mLayer (type)                 \u001b[0m\u001b[1m \u001b[0m┃\u001b[1m \u001b[0m\u001b[1mOutput Shape             \u001b[0m\u001b[1m \u001b[0m┃\u001b[1m \u001b[0m\u001b[1m        Param #\u001b[0m\u001b[1m \u001b[0m┃\u001b[1m \u001b[0m\u001b[1mConnected to              \u001b[0m\u001b[1m \u001b[0m┃\n",
       "┡━━━━━━━━━━━━━━━━━━━━━━━━━━━━━━━╇━━━━━━━━━━━━━━━━━━━━━━━━━━━╇━━━━━━━━━━━━━━━━━╇━━━━━━━━━━━━━━━━━━━━━━━━━━━━┩\n",
       "│ image_input (\u001b[38;5;33mInputLayer\u001b[0m)      │ (\u001b[38;5;45mNone\u001b[0m, \u001b[38;5;34m100\u001b[0m)               │               \u001b[38;5;34m0\u001b[0m │ -                          │\n",
       "├───────────────────────────────┼───────────────────────────┼─────────────────┼────────────────────────────┤\n",
       "│ im_ly_0 (\u001b[38;5;33mDense\u001b[0m)               │ (\u001b[38;5;45mNone\u001b[0m, \u001b[38;5;34m72\u001b[0m)                │           \u001b[38;5;34m7,272\u001b[0m │ image_input[\u001b[38;5;34m0\u001b[0m][\u001b[38;5;34m0\u001b[0m]          │\n",
       "├───────────────────────────────┼───────────────────────────┼─────────────────┼────────────────────────────┤\n",
       "│ im_ly_1 (\u001b[38;5;33mDense\u001b[0m)               │ (\u001b[38;5;45mNone\u001b[0m, \u001b[38;5;34m56\u001b[0m)                │           \u001b[38;5;34m4,088\u001b[0m │ im_ly_0[\u001b[38;5;34m0\u001b[0m][\u001b[38;5;34m0\u001b[0m]              │\n",
       "├───────────────────────────────┼───────────────────────────┼─────────────────┼────────────────────────────┤\n",
       "│ im_ly_2 (\u001b[38;5;33mDense\u001b[0m)               │ (\u001b[38;5;45mNone\u001b[0m, \u001b[38;5;34m53\u001b[0m)                │           \u001b[38;5;34m3,021\u001b[0m │ im_ly_1[\u001b[38;5;34m0\u001b[0m][\u001b[38;5;34m0\u001b[0m]              │\n",
       "├───────────────────────────────┼───────────────────────────┼─────────────────┼────────────────────────────┤\n",
       "│ im_ly_3 (\u001b[38;5;33mDense\u001b[0m)               │ (\u001b[38;5;45mNone\u001b[0m, \u001b[38;5;34m52\u001b[0m)                │           \u001b[38;5;34m2,808\u001b[0m │ im_ly_2[\u001b[38;5;34m0\u001b[0m][\u001b[38;5;34m0\u001b[0m]              │\n",
       "├───────────────────────────────┼───────────────────────────┼─────────────────┼────────────────────────────┤\n",
       "│ im_ly_4 (\u001b[38;5;33mDense\u001b[0m)               │ (\u001b[38;5;45mNone\u001b[0m, \u001b[38;5;34m51\u001b[0m)                │           \u001b[38;5;34m2,703\u001b[0m │ im_ly_3[\u001b[38;5;34m0\u001b[0m][\u001b[38;5;34m0\u001b[0m]              │\n",
       "├───────────────────────────────┼───────────────────────────┼─────────────────┼────────────────────────────┤\n",
       "│ im_ly_5 (\u001b[38;5;33mDense\u001b[0m)               │ (\u001b[38;5;45mNone\u001b[0m, \u001b[38;5;34m50\u001b[0m)                │           \u001b[38;5;34m2,600\u001b[0m │ im_ly_4[\u001b[38;5;34m0\u001b[0m][\u001b[38;5;34m0\u001b[0m]              │\n",
       "├───────────────────────────────┼───────────────────────────┼─────────────────┼────────────────────────────┤\n",
       "│ im_ly_6 (\u001b[38;5;33mDense\u001b[0m)               │ (\u001b[38;5;45mNone\u001b[0m, \u001b[38;5;34m50\u001b[0m)                │           \u001b[38;5;34m2,550\u001b[0m │ im_ly_5[\u001b[38;5;34m0\u001b[0m][\u001b[38;5;34m0\u001b[0m]              │\n",
       "├───────────────────────────────┼───────────────────────────┼─────────────────┼────────────────────────────┤\n",
       "│ im_ly_7 (\u001b[38;5;33mDense\u001b[0m)               │ (\u001b[38;5;45mNone\u001b[0m, \u001b[38;5;34m50\u001b[0m)                │           \u001b[38;5;34m2,550\u001b[0m │ im_ly_6[\u001b[38;5;34m0\u001b[0m][\u001b[38;5;34m0\u001b[0m]              │\n",
       "├───────────────────────────────┼───────────────────────────┼─────────────────┼────────────────────────────┤\n",
       "│ im_ly_8 (\u001b[38;5;33mDense\u001b[0m)               │ (\u001b[38;5;45mNone\u001b[0m, \u001b[38;5;34m50\u001b[0m)                │           \u001b[38;5;34m2,550\u001b[0m │ im_ly_7[\u001b[38;5;34m0\u001b[0m][\u001b[38;5;34m0\u001b[0m]              │\n",
       "├───────────────────────────────┼───────────────────────────┼─────────────────┼────────────────────────────┤\n",
       "│ energy_input (\u001b[38;5;33mInputLayer\u001b[0m)     │ (\u001b[38;5;45mNone\u001b[0m, \u001b[38;5;34m1\u001b[0m)                 │               \u001b[38;5;34m0\u001b[0m │ -                          │\n",
       "├───────────────────────────────┼───────────────────────────┼─────────────────┼────────────────────────────┤\n",
       "│ radius_input (\u001b[38;5;33mInputLayer\u001b[0m)     │ (\u001b[38;5;45mNone\u001b[0m, \u001b[38;5;34m1\u001b[0m)                 │               \u001b[38;5;34m0\u001b[0m │ -                          │\n",
       "├───────────────────────────────┼───────────────────────────┼─────────────────┼────────────────────────────┤\n",
       "│ concatenate (\u001b[38;5;33mConcatenate\u001b[0m)     │ (\u001b[38;5;45mNone\u001b[0m, \u001b[38;5;34m52\u001b[0m)                │               \u001b[38;5;34m0\u001b[0m │ im_ly_8[\u001b[38;5;34m0\u001b[0m][\u001b[38;5;34m0\u001b[0m],             │\n",
       "│                               │                           │                 │ energy_input[\u001b[38;5;34m0\u001b[0m][\u001b[38;5;34m0\u001b[0m],        │\n",
       "│                               │                           │                 │ radius_input[\u001b[38;5;34m0\u001b[0m][\u001b[38;5;34m0\u001b[0m]         │\n",
       "├───────────────────────────────┼───────────────────────────┼─────────────────┼────────────────────────────┤\n",
       "│ bdo_ly_0 (\u001b[38;5;33mDense\u001b[0m)              │ (\u001b[38;5;45mNone\u001b[0m, \u001b[38;5;34m80\u001b[0m)                │           \u001b[38;5;34m4,240\u001b[0m │ concatenate[\u001b[38;5;34m0\u001b[0m][\u001b[38;5;34m0\u001b[0m]          │\n",
       "├───────────────────────────────┼───────────────────────────┼─────────────────┼────────────────────────────┤\n",
       "│ bdo_layer1 (\u001b[38;5;33mDense\u001b[0m)            │ (\u001b[38;5;45mNone\u001b[0m, \u001b[38;5;34m30\u001b[0m)                │           \u001b[38;5;34m2,430\u001b[0m │ bdo_ly_0[\u001b[38;5;34m0\u001b[0m][\u001b[38;5;34m0\u001b[0m]             │\n",
       "├───────────────────────────────┼───────────────────────────┼─────────────────┼────────────────────────────┤\n",
       "│ bdo_layer2 (\u001b[38;5;33mDense\u001b[0m)            │ (\u001b[38;5;45mNone\u001b[0m, \u001b[38;5;34m30\u001b[0m)                │             \u001b[38;5;34m930\u001b[0m │ bdo_layer1[\u001b[38;5;34m0\u001b[0m][\u001b[38;5;34m0\u001b[0m]           │\n",
       "├───────────────────────────────┼───────────────────────────┼─────────────────┼────────────────────────────┤\n",
       "│ bdo_layer3 (\u001b[38;5;33mDense\u001b[0m)            │ (\u001b[38;5;45mNone\u001b[0m, \u001b[38;5;34m30\u001b[0m)                │             \u001b[38;5;34m930\u001b[0m │ bdo_layer2[\u001b[38;5;34m0\u001b[0m][\u001b[38;5;34m0\u001b[0m]           │\n",
       "├───────────────────────────────┼───────────────────────────┼─────────────────┼────────────────────────────┤\n",
       "│ dropout (\u001b[38;5;33mDropout\u001b[0m)             │ (\u001b[38;5;45mNone\u001b[0m, \u001b[38;5;34m30\u001b[0m)                │               \u001b[38;5;34m0\u001b[0m │ bdo_layer3[\u001b[38;5;34m0\u001b[0m][\u001b[38;5;34m0\u001b[0m]           │\n",
       "├───────────────────────────────┼───────────────────────────┼─────────────────┼────────────────────────────┤\n",
       "│ ado_ly_0 (\u001b[38;5;33mDense\u001b[0m)              │ (\u001b[38;5;45mNone\u001b[0m, \u001b[38;5;34m28\u001b[0m)                │             \u001b[38;5;34m868\u001b[0m │ dropout[\u001b[38;5;34m0\u001b[0m][\u001b[38;5;34m0\u001b[0m]              │\n",
       "├───────────────────────────────┼───────────────────────────┼─────────────────┼────────────────────────────┤\n",
       "│ ado_ly_1 (\u001b[38;5;33mDense\u001b[0m)              │ (\u001b[38;5;45mNone\u001b[0m, \u001b[38;5;34m12\u001b[0m)                │             \u001b[38;5;34m348\u001b[0m │ ado_ly_0[\u001b[38;5;34m0\u001b[0m][\u001b[38;5;34m0\u001b[0m]             │\n",
       "├───────────────────────────────┼───────────────────────────┼─────────────────┼────────────────────────────┤\n",
       "│ nu_predict (\u001b[38;5;33mDense\u001b[0m)            │ (\u001b[38;5;45mNone\u001b[0m, \u001b[38;5;34m2\u001b[0m)                 │              \u001b[38;5;34m26\u001b[0m │ ado_ly_1[\u001b[38;5;34m0\u001b[0m][\u001b[38;5;34m0\u001b[0m]             │\n",
       "└───────────────────────────────┴───────────────────────────┴─────────────────┴────────────────────────────┘\n"
      ]
     },
     "metadata": {},
     "output_type": "display_data"
    },
    {
     "data": {
      "text/html": [
       "<pre style=\"white-space:pre;overflow-x:auto;line-height:normal;font-family:Menlo,'DejaVu Sans Mono',consolas,'Courier New',monospace\"><span style=\"font-weight: bold\"> Total params: </span><span style=\"color: #00af00; text-decoration-color: #00af00\">39,916</span> (155.93 KB)\n",
       "</pre>\n"
      ],
      "text/plain": [
       "\u001b[1m Total params: \u001b[0m\u001b[38;5;34m39,916\u001b[0m (155.93 KB)\n"
      ]
     },
     "metadata": {},
     "output_type": "display_data"
    },
    {
     "data": {
      "text/html": [
       "<pre style=\"white-space:pre;overflow-x:auto;line-height:normal;font-family:Menlo,'DejaVu Sans Mono',consolas,'Courier New',monospace\"><span style=\"font-weight: bold\"> Trainable params: </span><span style=\"color: #00af00; text-decoration-color: #00af00\">39,914</span> (155.91 KB)\n",
       "</pre>\n"
      ],
      "text/plain": [
       "\u001b[1m Trainable params: \u001b[0m\u001b[38;5;34m39,914\u001b[0m (155.91 KB)\n"
      ]
     },
     "metadata": {},
     "output_type": "display_data"
    },
    {
     "data": {
      "text/html": [
       "<pre style=\"white-space:pre;overflow-x:auto;line-height:normal;font-family:Menlo,'DejaVu Sans Mono',consolas,'Courier New',monospace\"><span style=\"font-weight: bold\"> Non-trainable params: </span><span style=\"color: #00af00; text-decoration-color: #00af00\">0</span> (0.00 B)\n",
       "</pre>\n"
      ],
      "text/plain": [
       "\u001b[1m Non-trainable params: \u001b[0m\u001b[38;5;34m0\u001b[0m (0.00 B)\n"
      ]
     },
     "metadata": {},
     "output_type": "display_data"
    },
    {
     "data": {
      "text/html": [
       "<pre style=\"white-space:pre;overflow-x:auto;line-height:normal;font-family:Menlo,'DejaVu Sans Mono',consolas,'Courier New',monospace\"><span style=\"font-weight: bold\"> Optimizer params: </span><span style=\"color: #00af00; text-decoration-color: #00af00\">2</span> (12.00 B)\n",
       "</pre>\n"
      ],
      "text/plain": [
       "\u001b[1m Optimizer params: \u001b[0m\u001b[38;5;34m2\u001b[0m (12.00 B)\n"
      ]
     },
     "metadata": {},
     "output_type": "display_data"
    }
   ],
   "source": [
    "model_dir = 'C:/Users/joanc/jupyter notebooks/solar neutrino analysis/Machine Learning/models/10x10/optimized models/std_transf_and_Std_Norm_Vol_models/Observed Nu Energy for train/'\n",
    "model_name = 'MLM4_5500_(2.5_12)_(-5_7)_aucOP_test_split.h5'\n",
    "\n",
    "model = tf.keras.models.load_model(model_dir + model_name)\n",
    "model.summary()"
   ]
  },
  {
   "cell_type": "markdown",
   "id": "f19ad378-a33f-473a-9fcf-7a82a8ac258d",
   "metadata": {},
   "source": [
    "# Model Predictions"
   ]
  },
  {
   "cell_type": "code",
   "execution_count": 50,
   "id": "350e2580-eaa4-48cb-baf1-836da3f1d6a7",
   "metadata": {},
   "outputs": [
    {
     "name": "stdout",
     "output_type": "stream",
     "text": [
      "\u001b[1m5/5\u001b[0m \u001b[32m━━━━━━━━━━━━━━━━━━━━\u001b[0m\u001b[37m\u001b[0m \u001b[1m0s\u001b[0m 1ms/step \n"
     ]
    }
   ],
   "source": [
    "predictions = model.predict([pixel_transf, energy_transf, norm_radius_transf])\n",
    "\n",
    "sig_prediction = predictions[:,0]\n",
    "bkg_prediction = predictions[:,1]"
   ]
  },
  {
   "cell_type": "code",
   "execution_count": 77,
   "id": "2a9618ab-7541-4dac-a427-e59310089a36",
   "metadata": {},
   "outputs": [
    {
     "data": {
      "text/plain": [
       "array([2.10357277e-04, 1.00000000e+00, 9.49844480e-01, 3.82169958e-07,\n",
       "       2.03234123e-07, 4.03563492e-03, 3.24893954e-05, 8.64860177e-01,\n",
       "       8.63309264e-01, 3.05356088e-11, 9.99999940e-01, 1.19137636e-03,\n",
       "       9.55290869e-02, 3.04644141e-14, 3.74475829e-02, 5.09103480e-12,\n",
       "       4.73536869e-11, 9.99999940e-01, 9.23780560e-01, 1.00000000e+00,\n",
       "       9.10164715e-07, 2.58173793e-09, 9.77770030e-01, 1.00000000e+00,\n",
       "       1.35699004e-12, 1.82988569e-01, 9.99997497e-01, 9.96332526e-01,\n",
       "       9.99884188e-01, 1.81763667e-07, 1.00000000e+00, 7.86324872e-09,\n",
       "       1.00000000e+00, 3.42689484e-04, 1.33690328e-05, 3.84382446e-08,\n",
       "       3.17709579e-04, 1.37335714e-03, 1.81265009e-18, 6.84090436e-01,\n",
       "       1.27451167e-05, 2.61898240e-04, 1.38265355e-09, 1.00000000e+00,\n",
       "       1.00000000e+00, 3.44412121e-09, 1.00000000e+00, 9.99984860e-01,\n",
       "       1.00000000e+00, 2.30320066e-01, 6.92269742e-01, 1.19441146e-09,\n",
       "       1.62543001e-05, 3.82110965e-03, 1.00000000e+00, 1.19062314e-07,\n",
       "       9.92168009e-01, 5.57277424e-09, 9.96456146e-01, 5.15503643e-06,\n",
       "       9.99356329e-01, 1.19963533e-03, 5.29619463e-15, 3.96193461e-14,\n",
       "       5.11298692e-09, 4.94300900e-03, 8.55263114e-01, 7.54704815e-05,\n",
       "       3.54059812e-05, 1.62227340e-17, 1.00000000e+00, 9.99976933e-01,\n",
       "       1.15423091e-01, 9.99999940e-01, 1.42737204e-04, 1.00000000e+00,\n",
       "       9.93298709e-01, 9.69076335e-01, 1.00000000e+00, 1.00000000e+00,\n",
       "       1.94009932e-04, 2.38200111e-04, 9.96342123e-01, 6.12443720e-04,\n",
       "       8.42777193e-01, 1.13936774e-04, 3.98951955e-02, 1.00000000e+00,\n",
       "       1.00000000e+00, 2.74827022e-10, 2.06245211e-04, 5.61596152e-11,\n",
       "       9.99867916e-01, 1.70065509e-03, 7.78385460e-01, 1.00000000e+00,\n",
       "       1.54742578e-04, 4.85120097e-07, 2.14424881e-06, 1.00000000e+00,\n",
       "       1.19619106e-03, 7.30576176e-07, 3.61005823e-06, 4.92474763e-04,\n",
       "       1.00000000e+00, 1.00000000e+00, 9.60321128e-01, 1.00000000e+00,\n",
       "       1.00000000e+00, 5.49039487e-06, 1.00000000e+00, 9.98874366e-01,\n",
       "       1.95558350e-05, 9.99999225e-01, 1.53397437e-08, 1.00000000e+00,\n",
       "       1.00000000e+00, 7.26802785e-10, 1.04304208e-05, 9.80799198e-01,\n",
       "       1.00000000e+00, 1.00000000e+00, 9.20650018e-06, 6.46889902e-08,\n",
       "       4.87451143e-05, 3.82102095e-03, 1.85238677e-21, 4.75685629e-05,\n",
       "       5.06240118e-04, 1.00000000e+00, 9.77047980e-01, 9.39862788e-01,\n",
       "       2.88755091e-05, 9.99524772e-01, 8.94635320e-01, 3.31455539e-13],\n",
       "      dtype=float32)"
      ]
     },
     "execution_count": 77,
     "metadata": {},
     "output_type": "execute_result"
    }
   ],
   "source": [
    "sig_prediction"
   ]
  },
  {
   "cell_type": "code",
   "execution_count": 76,
   "id": "f3176bdb-7d35-47b2-8c1a-765f655ec01b",
   "metadata": {},
   "outputs": [
    {
     "data": {
      "text/plain": [
       "<matplotlib.collections.PathCollection at 0x218a7bb8d10>"
      ]
     },
     "execution_count": 76,
     "metadata": {},
     "output_type": "execute_result"
    },
    {
     "data": {
      "image/png": "[encoded data removed]",
      "text/plain": [
       "<Figure size 640x480 with 1 Axes>"
      ]
     },
     "metadata": {},
     "output_type": "display_data"
    }
   ],
   "source": [
    "plt.scatter(sig_prediction, range(len(sig_prediction)))"
   ]
  },
  {
   "cell_type": "markdown",
   "id": "796c8c51-8a3c-4037-beae-862dc21c0175",
   "metadata": {},
   "source": [
    "## Apply thesholds to select predicted events and Observe their Energy"
   ]
  },
  {
   "cell_type": "code",
   "execution_count": 63,
   "id": "03269ca5-fca6-4da0-802e-089721cd6056",
   "metadata": {},
   "outputs": [],
   "source": [
    "thr_list = [0.95, 0.8, 0.70] #List with the threshold values to filter events\n",
    "\n",
    "#lists to be filled with lists (one for each thr value) with the energy values for events that pass the thr values as suspected backgrounds and suspected signals\n",
    "energy_sig_thr = [] \n",
    "energy_bkg_thr = []\n",
    "\n",
    "for thr_value in thr_list:\n",
    "\n",
    "    #Take the index where the thr value is satisfied\n",
    "    sig_index = np.where(sig_prediction > thr_value)[0]\n",
    "    bkg_index = np.where(bkg_prediction > thr_value)[0]\n",
    "\n",
    "    #Extract the energy of events that survives the thr selection\n",
    "    sig_energy_survive = np.array(df_energy).T[0][sig_index]\n",
    "    bkg_energy_survive = np.array(df_energy).T[0][bkg_index]\n",
    "\n",
    "    #Save the filtered Values\n",
    "    energy_sig_thr.append(sig_energy_survive)\n",
    "    energy_bkg_thr.append(bkg_energy_survive)"
   ]
  },
  {
   "cell_type": "code",
   "execution_count": 106,
   "id": "20881bd8-1231-41c1-b9be-7b7b72e6fd74",
   "metadata": {},
   "outputs": [
    {
     "data": {
      "image/png": "[encoded data removed]",
      "text/plain": [
       "<Figure size 800x550 with 1 Axes>"
      ]
     },
     "metadata": {},
     "output_type": "display_data"
    }
   ],
   "source": [
    "bins = 5\n",
    "\n",
    "plt.figure(figsize = (8, 5.5))\n",
    "for i_dx, thr_value in enumerate(thr_list):\n",
    "\n",
    "    sn.histplot(energy_sig_thr[i_dx], alpha = 0, element = 'step', bins = bins, \n",
    "                color = red_variants[i_dx], label = f'Suspected 8B-Nue event with thr = {thr_value}')\n",
    "    sn.histplot(energy_sig_thr[i_dx], alpha = 0, element = 'step', bins = bins, \n",
    "                color = blue_variants[i_dx], label = f'Suspected 208_Tl event with thr = {thr_value}')\n",
    "\n",
    "plt.legend(loc='best', fontsize = 9.5)\n",
    "plt.yscale('log')\n",
    "plt.xlabel('Energy (MeV)')\n",
    "plt.show()"
   ]
  },
  {
   "cell_type": "code",
   "execution_count": null,
   "id": "c6efaa77-cc0a-4bff-b09c-4954f9585bb8",
   "metadata": {},
   "outputs": [],
   "source": []
  }
 ],
 "metadata": {
  "kernelspec": {
   "display_name": "Python 3 (ipykernel)",
   "language": "python",
   "name": "python3"
  },
  "language_info": {
   "codemirror_mode": {
    "name": "ipython",
    "version": 3
   },
   "file_extension": ".py",
   "mimetype": "text/x-python",
   "name": "python",
   "nbconvert_exporter": "python",
   "pygments_lexer": "ipython3",
   "version": "3.12.2"
  }
 },
 "nbformat": 4,
 "nbformat_minor": 5
}
