{
 "cells": [
  {
   "cell_type": "markdown",
   "id": "afc1ea3a-fb4a-4eab-9e02-6531fb1761ff",
   "metadata": {},
   "source": [
    "# Prepare Data\n",
    "Notebook dedicado a extraer datos de simulación y organizarlos en pd.DataFrames y estudiar la correlación de las features de entrenamiento\n",
    "\n",
    "### ! NOTA: Este notebook fue inicialmente creado para extraer eventos de neutrinos solares y eventos ed Talio en la misma proporción, ahora seran retirado unicamente evetos de neutrinos solares, por ahora, para equilibriar el espectro a altas energias"
   ]
  },
  {
   "cell_type": "code",
   "execution_count": 1,
   "id": "4c3d8df0-b1b4-425c-894b-1a52284ef20e",
   "metadata": {},
   "outputs": [],
   "source": [
    "import uproot\n",
    "import numpy as np\n",
    "\n",
    "import matplotlib\n",
    "import matplotlib.pyplot as plt\n",
    "from matplotlib import cm\n",
    "\n",
    "import seaborn as sn\n",
    "import pandas as pd \n",
    "\n",
    "from sklearn.preprocessing import RobustScaler, normalize"
   ]
  },
  {
   "cell_type": "code",
   "execution_count": 2,
   "id": "4990be9b-d01b-46d2-974a-1407190f8ab6",
   "metadata": {},
   "outputs": [],
   "source": [
    "def magnitude(vector): \n",
    "    #Funcion para calcular radio de eventos al centro del detector\n",
    "    \n",
    "    norm = []\n",
    "    for vec in vector:\n",
    "    \tnorm.append(np.linalg.norm(vec))\n",
    "\n",
    "    return np.array(norm, dtype = np.float32)"
   ]
  },
  {
   "cell_type": "markdown",
   "id": "59f8bb24-0a35-4d22-be87-bb1037bac688",
   "metadata": {},
   "source": [
    "# 1 - Extraer datos"
   ]
  },
  {
   "cell_type": "code",
   "execution_count": 3,
   "id": "d35ade07-e2b2-4e95-bb08-7066768e7b1f",
   "metadata": {},
   "outputs": [
    {
     "data": {
      "text/plain": [
       "['T;61', 'T;60', 'pmt;2', 'pmt;1']"
      ]
     },
     "execution_count": 3,
     "metadata": {},
     "output_type": "execute_result"
    }
   ],
   "source": [
    "# Archivo de Neutrinos Solares\n",
    "solar_file = uproot.open(\"/snoplus simulations/solar_nu/High Stat/split_3_simu_Analysis_solar_Nue.root\")  \n",
    "solar_file.keys()"
   ]
  },
  {
   "cell_type": "code",
   "execution_count": 4,
   "id": "27313462-5a58-49fe-8715-256f85248704",
   "metadata": {},
   "outputs": [],
   "source": [
    "solar_data = solar_file['T;61']\n",
    "pmt_info = solar_file['pmt;1']"
   ]
  },
  {
   "cell_type": "markdown",
   "id": "6d307827-eece-44de-b040-98b79d94ff4c",
   "metadata": {},
   "source": [
    "## 1.1 - PMT info"
   ]
  },
  {
   "cell_type": "code",
   "execution_count": 5,
   "id": "a01b5fcb-f5ef-42ce-a991-b860dc17d161",
   "metadata": {},
   "outputs": [],
   "source": [
    "pmt_id = np.array(pmt_info['pmt_id'], dtype = np.int16)\n",
    "pmt_pos_xyz = np.array(pmt_info['pmt_pos_xyz'])\n",
    "pmt_pos_sph = np.array(pmt_info['pmt_pos_sph'])\n",
    "pmt_type = np.array(pmt_info['pmt_type'], dtype = np.int16)"
   ]
  },
  {
   "cell_type": "markdown",
   "id": "efb47e36-ed33-4ae4-87c1-51fc53a31901",
   "metadata": {},
   "source": [
    "## 1.2 - Solar Variables"
   ]
  },
  {
   "cell_type": "code",
   "execution_count": 6,
   "id": "b3cdc9c7-7dac-49f8-bfeb-99224abe69fc",
   "metadata": {},
   "outputs": [
    {
     "data": {
      "text/plain": [
       "['evtid',\n",
       " 'mcID',\n",
       " 'energy',\n",
       " 'mc_position',\n",
       " 'mc_momentum',\n",
       " 'position',\n",
       " 'momentum',\n",
       " 'hit_pmtid',\n",
       " 'hit_pmttime',\n",
       " 'hit_residual',\n",
       " 'hit_type']"
      ]
     },
     "execution_count": 6,
     "metadata": {},
     "output_type": "execute_result"
    }
   ],
   "source": [
    "solar_data.keys()"
   ]
  },
  {
   "cell_type": "raw",
   "id": "7d4e424f-e6f9-4433-9d5c-af62f56f8e9b",
   "metadata": {},
   "source": [
    "#Lets cut on number of events, for now\n",
    "n_events = 750\n",
    "solar_mcID = np.array(solar_data['mcID'], dtype = np.int16)\n",
    "solar_limit = (np.where(solar_mcID == n_events + 1)[0])[0] - 1"
   ]
  },
  {
   "cell_type": "code",
   "execution_count": 7,
   "id": "55cc2924-da67-4742-b737-900ee1955d08",
   "metadata": {},
   "outputs": [],
   "source": [
    "solar_mcID = np.array(solar_data['mcID'], dtype = np.int16)#[:solar_limit]\n",
    "solar_energy = np.array(solar_data['energy'], dtype = np.float32)#[:solar_limit]\n",
    "solar_mc_position = np.array(solar_data['mc_position'])#[:solar_limit]   #-> Position Generation\n",
    "solar_mc_momentum = np.array(solar_data['mc_momentum'])#[:solar_limit]   #-> IMPORTANT: Direction of simulated event\n",
    "solar_position = np.array(solar_data['position'])#[:solar_limit]        \n",
    "solar_hit_pmtid = np.array(solar_data['hit_pmtid'], dtype = np.int16)#[:solar_limit]\n",
    "solar_time_residual = np.array(solar_data['hit_residual'])#[:solar_limit]\n",
    "solar_hit_type = np.array(solar_data['hit_type'], dtype = np.int16)#[:solar_limit]"
   ]
  },
  {
   "cell_type": "markdown",
   "id": "a1815103-778d-4103-bd13-3685695603a9",
   "metadata": {},
   "source": [
    "## 1.3 - Numero de Eventos de Simulación"
   ]
  },
  {
   "cell_type": "markdown",
   "id": "6ec70a5e-da2a-4e85-a4bd-725068562737",
   "metadata": {},
   "source": [
    "### 1.3.1 - Nº solar_nu"
   ]
  },
  {
   "cell_type": "code",
   "execution_count": 8,
   "id": "3067d2ea-9959-40e5-9a8d-1a18bdc484e9",
   "metadata": {},
   "outputs": [
    {
     "name": "stdout",
     "output_type": "stream",
     "text": [
      "Solar events: 142427\n"
     ]
    }
   ],
   "source": [
    "solar_break_i = [0]\n",
    "\n",
    "solar_N_data = len(solar_mcID)\n",
    "\n",
    "for solar_i in range(solar_N_data-1):\n",
    "    if solar_mcID[solar_i] != solar_mcID[solar_i+1]:\n",
    "        solar_break_i.append(solar_i+1)\n",
    "\n",
    "solar_break_i = np.array(solar_break_i)\n",
    "\n",
    "N_solar_evs = len(solar_break_i)\n",
    "\n",
    "print('Solar events:', N_solar_evs)"
   ]
  },
  {
   "cell_type": "markdown",
   "id": "1b567681-0667-4644-935c-607e4c860a75",
   "metadata": {
    "jp-MarkdownHeadingCollapsed": true
   },
   "source": [
    "### * (Espectro de Energia de Simulación) Cortes de Calidad (volumen)"
   ]
  },
  {
   "cell_type": "code",
   "execution_count": 9,
   "id": "7686dde5-20c1-451b-ad77-aa110a62800c",
   "metadata": {},
   "outputs": [
    {
     "ename": "NameError",
     "evalue": "name 'tl_break_i' is not defined",
     "output_type": "error",
     "traceback": [
      "\u001b[1;31m---------------------------------------------------------------------------\u001b[0m",
      "\u001b[1;31mNameError\u001b[0m                                 Traceback (most recent call last)",
      "Cell \u001b[1;32mIn[9], line 12\u001b[0m\n\u001b[0;32m      9\u001b[0m     uni_solar_en\u001b[38;5;241m.\u001b[39mappend(solar_energy[i])\n\u001b[0;32m     10\u001b[0m     uni_solar_pos\u001b[38;5;241m.\u001b[39mappend(solar_position[i])\n\u001b[1;32m---> 12\u001b[0m \u001b[38;5;28;01mfor\u001b[39;00m j \u001b[38;5;129;01min\u001b[39;00m \u001b[43mtl_break_i\u001b[49m:\n\u001b[0;32m     13\u001b[0m     uni_tl_en\u001b[38;5;241m.\u001b[39mappend(tl_energy[j])\n\u001b[0;32m     14\u001b[0m     uni_tl_pos\u001b[38;5;241m.\u001b[39mappend(tl_position[j])\n",
      "\u001b[1;31mNameError\u001b[0m: name 'tl_break_i' is not defined"
     ]
    }
   ],
   "source": [
    "#Extract unique Data\n",
    "uni_solar_en = []\n",
    "uni_solar_pos = []\n",
    "\n",
    "uni_tl_en = []\n",
    "uni_tl_pos = []\n",
    "\n",
    "for i in solar_break_i:\n",
    "    uni_solar_en.append(solar_energy[i])\n",
    "    uni_solar_pos.append(solar_position[i])\n",
    "    \n",
    "for j in tl_break_i:\n",
    "    uni_tl_en.append(tl_energy[j])\n",
    "    uni_tl_pos.append(tl_position[j])\n",
    "\n",
    "\n",
    "uni_solar_en = np.array(uni_solar_en)\n",
    "uni_solar_pos = np.array(uni_solar_pos)\n",
    "uni_solar_rad = magnitude(uni_solar_pos)\n",
    "\n",
    "uni_tl_en = np.array(uni_tl_en)\n",
    "uni_tl_pos = np.array(uni_tl_pos)\n",
    "uni_tl_rad = magnitude(uni_tl_pos)\n",
    "\n",
    "#Cuts (energy and volume)\n",
    "min_energy = 0.5\n",
    "max_rad = 5500.0\n",
    "\n",
    "uni_solar_en_cut = []\n",
    "uni_solar_rad_cut = []\n",
    "\n",
    "uni_tl_en_cut = []\n",
    "uni_tl_rad_cut = []\n",
    "\n",
    "for i in np.where((uni_solar_rad < max_rad) & (uni_solar_en > min_energy))[0]:\n",
    "    uni_solar_en_cut.append(uni_solar_en[i])\n",
    "    uni_solar_rad_cut.append(uni_solar_rad[i])\n",
    "\n",
    "for j in np.where((uni_tl_rad < max_rad) & (uni_tl_en > min_energy))[0]:\n",
    "    uni_tl_en_cut.append(uni_tl_en[j])\n",
    "    uni_tl_rad_cut.append(uni_tl_rad[j])\n",
    "\n",
    "uni_solar_en_cut = np.array(uni_solar_en_cut)\n",
    "uni_solar_rad_cut = np.array(uni_solar_rad_cut)\n",
    "\n",
    "uni_tl_en_cut = np.array(uni_tl_en_cut)\n",
    "uni_tl_rad_cut = np.array(uni_tl_rad_cut)\n",
    "\n",
    "all_energy = np.concatenate((uni_solar_en_cut, uni_tl_en_cut))"
   ]
  },
  {
   "cell_type": "code",
   "execution_count": 38,
   "id": "8559997c-dfd0-439c-a62e-d8905b29a866",
   "metadata": {},
   "outputs": [
    {
     "data": {
      "text/plain": [
       "302209"
      ]
     },
     "execution_count": 38,
     "metadata": {},
     "output_type": "execute_result"
    }
   ],
   "source": [
    "len(uni_solar_en)"
   ]
  },
  {
   "cell_type": "code",
   "execution_count": 39,
   "id": "c2e89e6c-fd12-402c-8695-749697ef8d3b",
   "metadata": {},
   "outputs": [
    {
     "data": {
      "text/plain": [
       "159817"
      ]
     },
     "execution_count": 39,
     "metadata": {},
     "output_type": "execute_result"
    }
   ],
   "source": [
    "len(uni_tl_en)"
   ]
  },
  {
   "cell_type": "code",
   "execution_count": 40,
   "id": "3fad274d-a188-4635-a754-8dea17a115a7",
   "metadata": {},
   "outputs": [
    {
     "data": {
      "image/png": "[encoded data removed]",
      "text/plain": [
       "<Figure size 1500x500 with 2 Axes>"
      ]
     },
     "metadata": {},
     "output_type": "display_data"
    }
   ],
   "source": [
    "binwidth_en = 0.2\n",
    "alpha_en = 0.7\n",
    "linewidth_en = 2\n",
    "\n",
    "binwidth_rad = 100\n",
    "alpha_rad = 0.7\n",
    "linewidth_rad = 1.5\n",
    "\n",
    "figure, axes = plt.subplots(1,2, figsize=(15, 5))\n",
    "\n",
    "sn.histplot(uni_solar_en_cut, binwidth = binwidth_en, color = 'r', label = 'Solar $ν_e$', common_bins = True, \n",
    "            alpha = alpha_en, linewidth = linewidth_en, element = 'step', kde=False, ax = axes[0])\n",
    "sn.histplot(uni_tl_en_cut, binwidth = binwidth_en, color = 'b', label = 'Tl', common_bins = True, \n",
    "            alpha = alpha_en, linewidth = linewidth_en, element = 'step', kde=False, ax = axes[0])\n",
    "\n",
    "sn.histplot(uni_solar_rad_cut, binwidth = binwidth_rad, color = 'r', label = 'Solar $ν_e$', common_bins = True, \n",
    "            alpha = alpha_rad, linewidth = linewidth_rad, element = 'step', kde=False, ax = axes[1])\n",
    "sn.histplot(uni_tl_rad_cut, binwidth = binwidth_rad, color = 'b', label = 'Tl', common_bins = True, \n",
    "            alpha = alpha_rad, linewidth = linewidth_rad, element = 'step', kde=False, ax = axes[1])\n",
    "\n",
    "\n",
    "axes[0].set_title('Energy (MeV)')\n",
    "axes[1].set_title('Radius (mm)')\n",
    "\n",
    "axes[0].legend()\n",
    "axes[1].legend(loc = 'upper left')\n",
    "\n",
    "axes[0].set_yscale('log')\n",
    "\n",
    "axes[0].set_xlim(np.min(all_energy), np.max(all_energy) + 1)\n",
    "axes[1].set_xlim(0,5600)\n",
    "\n",
    "plt.suptitle('Simulated Events for R < ('+str(max_rad)+' mm) and E > ('+str(min_energy)+' MeV)')\n",
    "#plt.savefig('figs/First Model/10x10/Data/simulated_data_(E,R).png', format = 'png', bbox_inches = 'tight')"
   ]
  },
  {
   "cell_type": "markdown",
   "id": "64ae0787-d390-4a63-8ff6-c4f40a9f0e92",
   "metadata": {
    "editable": true,
    "slideshow": {
     "slide_type": ""
    },
    "tags": []
   },
   "source": [
    "# 2 - Select Valid Data\n",
    "\n",
    "Select only hits that verify pmt_type = 1"
   ]
  },
  {
   "cell_type": "code",
   "execution_count": 9,
   "id": "29bb3ecd-ff00-43ea-a195-cf4afaa936a1",
   "metadata": {},
   "outputs": [],
   "source": [
    "valid_pmt_id = np.array(np.where(pmt_type == 1)[0]) # PMT valid ID match with index where pmt_type=1\n",
    "\n",
    "#extract valid indices in data\n",
    "solar_valid_id_info_i = np.array(np.where(np.in1d(solar_hit_pmtid, valid_pmt_id))[0])\n",
    "\n",
    "#extract coordinates of pmt_type = 1\n",
    "valid_pmt_xyz = []   #List of valid PMT coordinates (type 1)\n",
    "for i_dx in valid_pmt_id:\n",
    "    valid_pmt_xyz.append(pmt_pos_xyz[i_dx])\n",
    "valid_pmt_xyz = np.array(valid_pmt_xyz)"
   ]
  },
  {
   "cell_type": "code",
   "execution_count": 13,
   "id": "549547b0-df15-4066-bb10-dab85651638f",
   "metadata": {},
   "outputs": [
    {
     "data": {
      "text/plain": [
       "array([        0,         1,         2, ..., 101582484, 101582485,\n",
       "       101582486], dtype=int64)"
      ]
     },
     "execution_count": 13,
     "metadata": {},
     "output_type": "execute_result"
    }
   ],
   "source": [
    "solar_valid_id_info_i"
   ]
  },
  {
   "cell_type": "markdown",
   "id": "a9df00e7-2891-4368-9775-ac2fe1c21fd7",
   "metadata": {},
   "source": [
    "# 3 - Process Data\n",
    "\n",
    "Procesamiento de datos (corte en volumen, energia y tiempo), calculo de observable cos(α)"
   ]
  },
  {
   "cell_type": "markdown",
   "id": "476ece15-bdd7-4431-a341-d52d041def03",
   "metadata": {},
   "source": [
    "## 3.1 - Ajuste de Procesamiento\n",
    "\n",
    "El ajuste será aplicado a simulaciones de Tálio y de neutrinos Solares"
   ]
  },
  {
   "cell_type": "code",
   "execution_count": 10,
   "id": "96c3dea3-a39d-4bab-8531-80dbfd9fcb4a",
   "metadata": {},
   "outputs": [],
   "source": [
    "#params to adjust the cuts--------------------------------------------\n",
    "#Split Data\n",
    "split = 20\n",
    "\n",
    "#energy cut\n",
    "inf_en_cut = 2.5\n",
    "up_en_cut = 14\n",
    "\n",
    "#time cut (ns)\n",
    "inf_cut = -5.0\n",
    "up_cut = 7.0\n",
    "\n",
    "#radial cut\n",
    "radi_cut_method = True   #If true, apply radial cuts given by rad_cut_val to data\n",
    "rad_cut_val = 5500.0   # Buen valor de corte para observar una identificación efizas de neutrinos solares\n",
    "#--------------------------------------------------------------------------"
   ]
  },
  {
   "cell_type": "markdown",
   "id": "f81c4045-7666-4f83-ab1e-8274fb188488",
   "metadata": {},
   "source": [
    "### 3.1.1 - Procesamiento de Solares"
   ]
  },
  {
   "cell_type": "code",
   "execution_count": 11,
   "id": "cb587332-f9a3-48cf-955d-9dafe250be19",
   "metadata": {
    "editable": true,
    "slideshow": {
     "slide_type": ""
    },
    "tags": []
   },
   "outputs": [
    {
     "name": "stdout",
     "output_type": "stream",
     "text": [
      "slipt nº: 0\n",
      "In energy cut\n",
      "In radi_cut\n",
      "computing cos(alpha)\n",
      "doing time residual cuts\n",
      "slipt nº: 1\n",
      "In energy cut\n",
      "In radi_cut\n",
      "computing cos(alpha)\n",
      "doing time residual cuts\n",
      "slipt nº: 2\n",
      "In energy cut\n",
      "In radi_cut\n",
      "computing cos(alpha)\n",
      "doing time residual cuts\n",
      "slipt nº: 3\n",
      "In energy cut\n",
      "In radi_cut\n"
     ]
    },
    {
     "ename": "KeyboardInterrupt",
     "evalue": "",
     "output_type": "error",
     "traceback": [
      "\u001b[1;31m---------------------------------------------------------------------------\u001b[0m",
      "\u001b[1;31mKeyboardInterrupt\u001b[0m                         Traceback (most recent call last)",
      "Cell \u001b[1;32mIn[11], line 69\u001b[0m\n\u001b[0;32m     67\u001b[0m \u001b[38;5;28mprint\u001b[39m(\u001b[38;5;124m'\u001b[39m\u001b[38;5;124mIn radi_cut\u001b[39m\u001b[38;5;124m'\u001b[39m)\n\u001b[0;32m     68\u001b[0m \u001b[38;5;66;03m#mc_position_norm = magnitude(multi_mc_position)\u001b[39;00m\n\u001b[1;32m---> 69\u001b[0m position_norm \u001b[38;5;241m=\u001b[39m \u001b[43mmagnitude\u001b[49m\u001b[43m(\u001b[49m\u001b[43mmulti_position\u001b[49m\u001b[43m)\u001b[49m\n\u001b[0;32m     70\u001b[0m multi_radi\u001b[38;5;241m.\u001b[39mappend(position_norm)\n\u001b[0;32m     72\u001b[0m max_radi \u001b[38;5;241m=\u001b[39m rad_cut_val\n",
      "Cell \u001b[1;32mIn[2], line 6\u001b[0m, in \u001b[0;36mmagnitude\u001b[1;34m(vector)\u001b[0m\n\u001b[0;32m      4\u001b[0m norm \u001b[38;5;241m=\u001b[39m []\n\u001b[0;32m      5\u001b[0m \u001b[38;5;28;01mfor\u001b[39;00m vec \u001b[38;5;129;01min\u001b[39;00m vector:\n\u001b[1;32m----> 6\u001b[0m \tnorm\u001b[38;5;241m.\u001b[39mappend(\u001b[43mnp\u001b[49m\u001b[38;5;241;43m.\u001b[39;49m\u001b[43mlinalg\u001b[49m\u001b[38;5;241;43m.\u001b[39;49m\u001b[43mnorm\u001b[49m\u001b[43m(\u001b[49m\u001b[43mvec\u001b[49m\u001b[43m)\u001b[49m)\n\u001b[0;32m      8\u001b[0m \u001b[38;5;28;01mreturn\u001b[39;00m np\u001b[38;5;241m.\u001b[39marray(norm, dtype \u001b[38;5;241m=\u001b[39m np\u001b[38;5;241m.\u001b[39mfloat32)\n",
      "File \u001b[1;32m~\\AppData\\Local\\Programs\\Python\\Python312\\Lib\\site-packages\\numpy\\linalg\\linalg.py:2552\u001b[0m, in \u001b[0;36mnorm\u001b[1;34m(x, ord, axis, keepdims)\u001b[0m\n\u001b[0;32m   2550\u001b[0m     sqnorm \u001b[38;5;241m=\u001b[39m x_real\u001b[38;5;241m.\u001b[39mdot(x_real) \u001b[38;5;241m+\u001b[39m x_imag\u001b[38;5;241m.\u001b[39mdot(x_imag)\n\u001b[0;32m   2551\u001b[0m \u001b[38;5;28;01melse\u001b[39;00m:\n\u001b[1;32m-> 2552\u001b[0m     sqnorm \u001b[38;5;241m=\u001b[39m \u001b[43mx\u001b[49m\u001b[38;5;241;43m.\u001b[39;49m\u001b[43mdot\u001b[49m\u001b[43m(\u001b[49m\u001b[43mx\u001b[49m\u001b[43m)\u001b[49m\n\u001b[0;32m   2553\u001b[0m ret \u001b[38;5;241m=\u001b[39m sqrt(sqnorm)\n\u001b[0;32m   2554\u001b[0m \u001b[38;5;28;01mif\u001b[39;00m keepdims:\n",
      "\u001b[1;31mKeyboardInterrupt\u001b[0m: "
     ]
    }
   ],
   "source": [
    "# Dividir valid_id_info_ev_i en partes\n",
    "valid_info_ev_split = np.array_split(solar_valid_id_info_i, split)  #---> split(array, parts)\n",
    "\n",
    "#variables to save: with time residual cuts and radi cut (radi cut is optional, depends on the simulation)\n",
    "solar_multi_time_residual_cut = []\n",
    "solar_multi_cos_angle_cut = []\n",
    "#multi_position_cut = []\n",
    "solar_multi_mc_momentum_cut = []\n",
    "solar_multi_mc_ID_cut = []\n",
    "solar_multi_energy_cut = []\n",
    "solar_multi_radi_cut = []\n",
    "\n",
    "#loop over valid_info_ev_split\n",
    "for n_loop, split_array in enumerate(valid_info_ev_split):\n",
    "    print('slipt nº:', n_loop)\n",
    "    # extract all valid simulated info \n",
    "    multi_radi = []\n",
    "    multi_energy = []\n",
    "    multi_mc_ID = []\n",
    "    multi_time_residual = []\n",
    "    multi_pmt_id_hit = []\n",
    "    multi_position = []\n",
    "    #multi_mc_position = []\n",
    "    multi_mc_momentum = []   \n",
    "    multi_xyz_hit = []\n",
    "\n",
    "    for valid_i in split_array:\n",
    "        multi_energy.append(solar_energy[valid_i])\n",
    "        multi_mc_ID.append(solar_mcID[valid_i])\n",
    "        multi_time_residual.append(solar_time_residual[valid_i])\n",
    "        multi_pmt_id_hit.append(solar_hit_pmtid[valid_i])\n",
    "        multi_position.append(solar_position[valid_i])\n",
    "        #multi_mc_position.append(mc_position[valid_i])\n",
    "        multi_mc_momentum.append(solar_mc_momentum[valid_i])\n",
    "    multi_energy = np.array(multi_energy)\n",
    "    multi_time_residual = np.array(multi_time_residual)\n",
    "    multi_pmt_id_hit = np.array(multi_pmt_id_hit)\n",
    "    multi_position = np.array(multi_position)\n",
    "\n",
    "    for id_i in multi_pmt_id_hit:\n",
    "        multi_xyz_hit.append(pmt_pos_xyz[id_i])\n",
    "    multi_xyz_hit = np.array(multi_xyz_hit)\n",
    "\n",
    "    #energy_cut:\n",
    "    print('In energy cut')\n",
    "    condition_en_cut = (multi_energy > inf_en_cut) & (multi_energy < up_en_cut)\n",
    "    \n",
    "    #variables to extract\n",
    "    multi_energy = np.extract(condition_en_cut, multi_energy)\n",
    "    multi_mc_ID = np.extract(condition_en_cut, multi_mc_ID)\n",
    "    multi_time_residual = np.extract(condition_en_cut, multi_time_residual)\n",
    "    multi_pmt_id_hit = np.extract(condition_en_cut, multi_pmt_id_hit)\n",
    "\n",
    "    multi_mc_momentum_en_cut = []\n",
    "    multi_position_en_cut = []\n",
    "    for e_dx in np.where(condition_en_cut)[0]:\n",
    "        multi_mc_momentum_en_cut.append(multi_mc_momentum[e_dx])\n",
    "        multi_position_en_cut.append(multi_position[e_dx])\n",
    "    multi_mc_momentum = np.array(multi_mc_momentum_en_cut)\n",
    "    multi_position = np.array(multi_position_en_cut)\n",
    "    #freed memory\n",
    "    multi_mc_momentum_en_cut = None\n",
    "    multi_position_en_cut = None\n",
    "            \n",
    "    #Radial Cut:\n",
    "    if radi_cut_method == True:\n",
    "        print('In radi_cut')\n",
    "        #mc_position_norm = magnitude(multi_mc_position)\n",
    "        position_norm = magnitude(multi_position)\n",
    "        multi_radi.append(position_norm)\n",
    "        \n",
    "        max_radi = rad_cut_val\n",
    "        radi_condition = (position_norm < max_radi)\n",
    "        index_cut_radi = np.array(np.where(radi_condition)[0])\n",
    "        #variables to extract\n",
    "        multi_time_residual = np.extract(radi_condition, multi_time_residual)\n",
    "        multi_pmt_id_hit = np.extract(radi_condition, multi_pmt_id_hit)\n",
    "        multi_energy = np.extract(radi_condition, multi_energy)\n",
    "        multi_radi = np.extract(radi_condition, multi_radi)\n",
    "\n",
    "        multi_mc_ID_radi_cut = []\n",
    "        multi_mc_momentum_radi_cut = []\n",
    "        multi_position_radi_cut = []\n",
    "        multi_xyz_hit_radi_cut = [] \n",
    "\n",
    "        for j_dx in index_cut_radi:\n",
    "            multi_mc_momentum_radi_cut.append(multi_mc_momentum[j_dx])\n",
    "            multi_position_radi_cut.append(multi_position[j_dx])          #HERE\n",
    "            multi_mc_ID_radi_cut.append(multi_mc_ID[j_dx])\n",
    "\n",
    "        for id_i in multi_pmt_id_hit:\n",
    "            multi_xyz_hit_radi_cut.append(pmt_pos_xyz[id_i])\n",
    "\n",
    "        multi_mc_ID = multi_mc_ID_radi_cut\n",
    "        multi_mc_momentum = multi_mc_momentum_radi_cut   #HERE\n",
    "        multi_position = multi_position_radi_cut\n",
    "        multi_xyz_hit = multi_xyz_hit_radi_cut\n",
    "        \n",
    "        #freed memory\n",
    "        multi_mc_ID_radi_cut = None\n",
    "        multi_mc_momentum_radi_cut = None\n",
    "        multi_position_radi_cut = None\n",
    "        multi_xyz_hit_radi_cut = None\n",
    "        radi_condition = None\n",
    "        index_cut_radi = None\n",
    "        \n",
    "    #cos(alpha) calculation -> Uses the definition of scalar product\n",
    "    multi_cos_angle = []\n",
    "    N = np.shape(multi_xyz_hit)[0]\n",
    "\n",
    "    print('computing cos(alpha)')\n",
    "    for k in range(N):\n",
    "        #event_direction = np.array([0,0,-1])\n",
    "        event_direction = multi_mc_momentum[k]\n",
    "        scalar_product = np.dot(multi_xyz_hit[k], event_direction)\n",
    "        norm_1 = np.linalg.norm(event_direction)\n",
    "        norm_2 = np.linalg.norm(multi_xyz_hit[k])\n",
    "        cos_val = scalar_product/(norm_1*norm_2)\n",
    "        \n",
    "        multi_cos_angle.append(cos_val)\n",
    "\n",
    "    #Time residual cut:\n",
    "    print('doing time residual cuts')\n",
    "    for i in np.where((multi_time_residual > inf_cut) & (multi_time_residual < up_cut))[0]:\n",
    "        solar_multi_time_residual_cut.append(multi_time_residual[i])\n",
    "        solar_multi_cos_angle_cut.append(multi_cos_angle[i])\n",
    "        #solar_multi_position_cut.append(multi_position[i])\n",
    "        solar_multi_mc_momentum_cut.append(multi_mc_momentum[i])\n",
    "        solar_multi_mc_ID_cut.append(multi_mc_ID[i])\n",
    "        solar_multi_energy_cut.append(multi_energy[i])\n",
    "        solar_multi_radi_cut.append(multi_radi[i])\n",
    "\n",
    "    #freed memory\n",
    "    multi_cos_angle = None\n",
    "\n",
    "    #freen memory:    \n",
    "    multi_mc_ID = None\n",
    "    multi_time_residual = None\n",
    "    multi_pmt_id_hit = None\n",
    "    multi_position = None\n",
    "    multi_mc_position = None\n",
    "    multi_mc_momentum = None\n",
    "    multi_xyz_hit = None\n",
    "    multi_energy = None\n",
    "    multi_radi = None\n",
    "\n",
    "#multi_position_cut = np.array(multi_position_cut)\n",
    "solar_multi_mc_momentum_cut = np.array(solar_multi_mc_momentum_cut)\n",
    "solar_multi_mc_ID_cut = np.array(solar_multi_mc_ID_cut, dtype = np.int16)\n",
    "solar_multi_energy_cut = np.array(solar_multi_energy_cut)\n",
    "solar_multi_radi_cut = np.array(solar_multi_radi_cut)"
   ]
  },
  {
   "cell_type": "raw",
   "id": "f850cc95-c8b5-4ed5-a6dc-97ba92f0e5f7",
   "metadata": {
    "editable": true,
    "slideshow": {
     "slide_type": ""
    },
    "tags": []
   },
   "source": [
    "(np.unique(solar_multi_mc_ID_cut))"
   ]
  },
  {
   "cell_type": "raw",
   "id": "44f07d43-72b5-4882-87e9-f4a75ae17a93",
   "metadata": {},
   "source": [
    "(np.unique(solar_multi_energy_cut))"
   ]
  },
  {
   "cell_type": "markdown",
   "id": "f418df44-352f-4af6-a843-70834c2cf9b4",
   "metadata": {},
   "source": [
    "# 4 - Extraer Datos de Entrenamiento\n",
    "\n",
    "Serán extraidos, evento a evento, las imagenes de la distribucion Δα y se hará la correspondencia de un label solar νe = 1)"
   ]
  },
  {
   "cell_type": "code",
   "execution_count": 12,
   "id": "536d7d91-4dff-4357-b3ab-d90c6ada892e",
   "metadata": {},
   "outputs": [
    {
     "name": "stdout",
     "output_type": "stream",
     "text": [
      "Nº Solar Events: despues de corte  161026\n"
     ]
    }
   ],
   "source": [
    "solar_break_i = [0]\n",
    "\n",
    "solar_N_data = len(solar_multi_mc_ID_cut)\n",
    "\n",
    "for solar_i in range(solar_N_data-1):\n",
    "    if solar_multi_mc_ID_cut[solar_i] != solar_multi_mc_ID_cut[solar_i+1]:\n",
    "        solar_break_i.append(solar_i+1)\n",
    "\n",
    "N_solar_evs = len(solar_break_i)\n",
    "\n",
    "print('Nº Solar Events: despues de corte ', N_solar_evs)"
   ]
  },
  {
   "cell_type": "markdown",
   "id": "d0cdf1a9-a669-40d4-ab22-0b06ae75a5e0",
   "metadata": {},
   "source": [
    "## 4.1 - Extraer Datos para Solar $ν_e$"
   ]
  },
  {
   "cell_type": "code",
   "execution_count": 13,
   "id": "14e1d59c-2d74-4c10-bdd0-179307862b26",
   "metadata": {},
   "outputs": [
    {
     "name": "stderr",
     "output_type": "stream",
     "text": [
      "C:\\Users\\joanc\\AppData\\Local\\Temp\\ipykernel_4656\\3100496135.py:26: RuntimeWarning: invalid value encountered in divide\n",
      "  H_nu_ev_norm = H_nu_ev/sum_hit_nu_ev\n"
     ]
    }
   ],
   "source": [
    "bins = 10\n",
    "\n",
    "H_flaten_nu = []  #flatten images of solar nu evs\n",
    "labels_nu = []  #save label of solar nu evs (1)\n",
    "energy_nu = []\n",
    "radi_nu = []\n",
    "\n",
    "N_terms = len(solar_break_i)\n",
    "\n",
    "for nu_i in range(N_terms - 1):\n",
    "    init_nu = solar_break_i[nu_i]\n",
    "    final_nu = solar_break_i[nu_i + 1]\n",
    "\n",
    "    solar_time_res_ev = solar_multi_time_residual_cut[init_nu: final_nu]\n",
    "    solar_cos_ev = solar_multi_cos_angle_cut[init_nu: final_nu]\n",
    "    solar_energy_ev = solar_multi_energy_cut[init_nu]\n",
    "    solar_radi_ev = solar_multi_radi_cut[init_nu]\n",
    "\n",
    "    #COLOCAR AQUI ABAJO CORTE DE CALIDAD CASO SEA NECESARION (Nº DE REGOISTROS, ETC...)\n",
    "\n",
    "    #raw histogram\n",
    "    H_nu_ev, _, _ = np.histogram2d(x = solar_cos_ev, y =  solar_time_res_ev, bins = [bins, bins])\n",
    "\n",
    "    #normalization by NHits\n",
    "    sum_hit_nu_ev = np.sum(H_nu_ev,axis=0)\n",
    "    H_nu_ev_norm = H_nu_ev/sum_hit_nu_ev\n",
    "    H_nu_ev_norm = np.nan_to_num(H_nu_ev_norm, nan = 0.0)\n",
    "\n",
    "    H_flatten_ev = H_nu_ev_norm.ravel()\n",
    "    H_flaten_nu.append(H_flatten_ev)\n",
    "    labels_nu.append(np.ones(len(H_flatten_ev), dtype = np.int8))\n",
    "    energy_nu.append(np.ones(len(H_flatten_ev))*solar_energy_ev)\n",
    "    radi_nu.append(np.ones(len(H_flatten_ev))*solar_radi_ev)\n",
    "\n",
    "H_flaten_nu = np.array(H_flaten_nu).ravel()\n",
    "labels_nu = np.array(labels_nu).ravel()\n",
    "energy_nu = np.array(energy_nu).ravel()\n",
    "radi_nu = np.array(radi_nu).ravel()\n",
    "\n",
    "#Extraer imagenes Normalizadas y hacer flaten de los datos. "
   ]
  },
  {
   "cell_type": "markdown",
   "id": "64068a9a-70f2-454d-b243-3ce35533278d",
   "metadata": {},
   "source": [
    "# 5 - Organizar los Datos:\n",
    "\n",
    "Crear un PandasDataFrame que guarde los pixeles y su Label. Guardar DataFrame como archivo csv"
   ]
  },
  {
   "cell_type": "code",
   "execution_count": 14,
   "id": "af2425e4-e0eb-4a69-947b-181b67e827d9",
   "metadata": {},
   "outputs": [
    {
     "data": {
      "text/html": [
       "<div>\n",
       "<style scoped>\n",
       "    .dataframe tbody tr th:only-of-type {\n",
       "        vertical-align: middle;\n",
       "    }\n",
       "\n",
       "    .dataframe tbody tr th {\n",
       "        vertical-align: top;\n",
       "    }\n",
       "\n",
       "    .dataframe thead th {\n",
       "        text-align: right;\n",
       "    }\n",
       "</style>\n",
       "<table border=\"1\" class=\"dataframe\">\n",
       "  <thead>\n",
       "    <tr style=\"text-align: right;\">\n",
       "      <th></th>\n",
       "      <th>pixel value</th>\n",
       "      <th>labels</th>\n",
       "      <th>energy (MeV)</th>\n",
       "      <th>event radius (mm)</th>\n",
       "    </tr>\n",
       "  </thead>\n",
       "  <tbody>\n",
       "    <tr>\n",
       "      <th>0</th>\n",
       "      <td>0.000000</td>\n",
       "      <td>1</td>\n",
       "      <td>5.922100</td>\n",
       "      <td>5053.448242</td>\n",
       "    </tr>\n",
       "    <tr>\n",
       "      <th>1</th>\n",
       "      <td>0.000000</td>\n",
       "      <td>1</td>\n",
       "      <td>5.922100</td>\n",
       "      <td>5053.448242</td>\n",
       "    </tr>\n",
       "    <tr>\n",
       "      <th>2</th>\n",
       "      <td>0.055556</td>\n",
       "      <td>1</td>\n",
       "      <td>5.922100</td>\n",
       "      <td>5053.448242</td>\n",
       "    </tr>\n",
       "    <tr>\n",
       "      <th>3</th>\n",
       "      <td>0.192308</td>\n",
       "      <td>1</td>\n",
       "      <td>5.922100</td>\n",
       "      <td>5053.448242</td>\n",
       "    </tr>\n",
       "    <tr>\n",
       "      <th>4</th>\n",
       "      <td>0.058824</td>\n",
       "      <td>1</td>\n",
       "      <td>5.922100</td>\n",
       "      <td>5053.448242</td>\n",
       "    </tr>\n",
       "    <tr>\n",
       "      <th>...</th>\n",
       "      <td>...</td>\n",
       "      <td>...</td>\n",
       "      <td>...</td>\n",
       "      <td>...</td>\n",
       "    </tr>\n",
       "    <tr>\n",
       "      <th>16102495</th>\n",
       "      <td>0.604651</td>\n",
       "      <td>1</td>\n",
       "      <td>6.668801</td>\n",
       "      <td>4756.330566</td>\n",
       "    </tr>\n",
       "    <tr>\n",
       "      <th>16102496</th>\n",
       "      <td>0.566038</td>\n",
       "      <td>1</td>\n",
       "      <td>6.668801</td>\n",
       "      <td>4756.330566</td>\n",
       "    </tr>\n",
       "    <tr>\n",
       "      <th>16102497</th>\n",
       "      <td>0.511111</td>\n",
       "      <td>1</td>\n",
       "      <td>6.668801</td>\n",
       "      <td>4756.330566</td>\n",
       "    </tr>\n",
       "    <tr>\n",
       "      <th>16102498</th>\n",
       "      <td>0.396552</td>\n",
       "      <td>1</td>\n",
       "      <td>6.668801</td>\n",
       "      <td>4756.330566</td>\n",
       "    </tr>\n",
       "    <tr>\n",
       "      <th>16102499</th>\n",
       "      <td>0.192771</td>\n",
       "      <td>1</td>\n",
       "      <td>6.668801</td>\n",
       "      <td>4756.330566</td>\n",
       "    </tr>\n",
       "  </tbody>\n",
       "</table>\n",
       "<p>16102500 rows × 4 columns</p>\n",
       "</div>"
      ],
      "text/plain": [
       "          pixel value  labels  energy (MeV)  event radius (mm)\n",
       "0            0.000000       1      5.922100        5053.448242\n",
       "1            0.000000       1      5.922100        5053.448242\n",
       "2            0.055556       1      5.922100        5053.448242\n",
       "3            0.192308       1      5.922100        5053.448242\n",
       "4            0.058824       1      5.922100        5053.448242\n",
       "...               ...     ...           ...                ...\n",
       "16102495     0.604651       1      6.668801        4756.330566\n",
       "16102496     0.566038       1      6.668801        4756.330566\n",
       "16102497     0.511111       1      6.668801        4756.330566\n",
       "16102498     0.396552       1      6.668801        4756.330566\n",
       "16102499     0.192771       1      6.668801        4756.330566\n",
       "\n",
       "[16102500 rows x 4 columns]"
      ]
     },
     "execution_count": 14,
     "metadata": {},
     "output_type": "execute_result"
    }
   ],
   "source": [
    "all_pixels = H_flaten_nu\n",
    "all_labels = labels_nu\n",
    "all_energy = energy_nu\n",
    "all_radi = radi_nu\n",
    "\n",
    "data = {'pixel value': all_pixels,\n",
    "       'labels': all_labels,\n",
    "        'energy (MeV)': all_energy,\n",
    "        'event radius (mm)': all_radi,\n",
    "        }\n",
    "\n",
    "df = pd.DataFrame(data)\n",
    "df"
   ]
  },
  {
   "cell_type": "code",
   "execution_count": 19,
   "id": "b9f26447-c121-4556-86a1-18e9fac1abf2",
   "metadata": {},
   "outputs": [],
   "source": [
    "df.to_csv(\"Data/High Stat/OnlySolarDF/df_solar3_5500_10_(2.5_14)_(-5_7).csv\")"
   ]
  },
  {
   "cell_type": "markdown",
   "id": "82db98d3-78cd-49d2-9e0d-3c171348391d",
   "metadata": {},
   "source": [
    "# 6 - Observar y Representar Datos"
   ]
  },
  {
   "cell_type": "code",
   "execution_count": 17,
   "id": "d26cf91d-30c9-445e-b631-eebb36cc4623",
   "metadata": {},
   "outputs": [],
   "source": [
    "df_read = pd.read_csv(\"Data/High Stat/OnlySolarDF/df_solar3_5500_10_(2.5_14)_(-5_7).csv\").drop(columns = ['Unnamed: 0'])"
   ]
  },
  {
   "cell_type": "code",
   "execution_count": 18,
   "id": "269ea8b4-7f51-4ac5-979e-10d0d471d96d",
   "metadata": {},
   "outputs": [
    {
     "data": {
      "text/html": [
       "<div>\n",
       "<style scoped>\n",
       "    .dataframe tbody tr th:only-of-type {\n",
       "        vertical-align: middle;\n",
       "    }\n",
       "\n",
       "    .dataframe tbody tr th {\n",
       "        vertical-align: top;\n",
       "    }\n",
       "\n",
       "    .dataframe thead th {\n",
       "        text-align: right;\n",
       "    }\n",
       "</style>\n",
       "<table border=\"1\" class=\"dataframe\">\n",
       "  <thead>\n",
       "    <tr style=\"text-align: right;\">\n",
       "      <th></th>\n",
       "      <th>pixel value</th>\n",
       "      <th>labels</th>\n",
       "      <th>energy (MeV)</th>\n",
       "      <th>event radius (mm)</th>\n",
       "    </tr>\n",
       "  </thead>\n",
       "  <tbody>\n",
       "    <tr>\n",
       "      <th>0</th>\n",
       "      <td>0.000000</td>\n",
       "      <td>1</td>\n",
       "      <td>5.922100</td>\n",
       "      <td>5053.448242</td>\n",
       "    </tr>\n",
       "    <tr>\n",
       "      <th>1</th>\n",
       "      <td>0.000000</td>\n",
       "      <td>1</td>\n",
       "      <td>5.922100</td>\n",
       "      <td>5053.448242</td>\n",
       "    </tr>\n",
       "    <tr>\n",
       "      <th>2</th>\n",
       "      <td>0.055556</td>\n",
       "      <td>1</td>\n",
       "      <td>5.922100</td>\n",
       "      <td>5053.448242</td>\n",
       "    </tr>\n",
       "    <tr>\n",
       "      <th>3</th>\n",
       "      <td>0.192308</td>\n",
       "      <td>1</td>\n",
       "      <td>5.922100</td>\n",
       "      <td>5053.448242</td>\n",
       "    </tr>\n",
       "    <tr>\n",
       "      <th>4</th>\n",
       "      <td>0.058824</td>\n",
       "      <td>1</td>\n",
       "      <td>5.922100</td>\n",
       "      <td>5053.448242</td>\n",
       "    </tr>\n",
       "    <tr>\n",
       "      <th>...</th>\n",
       "      <td>...</td>\n",
       "      <td>...</td>\n",
       "      <td>...</td>\n",
       "      <td>...</td>\n",
       "    </tr>\n",
       "    <tr>\n",
       "      <th>16102495</th>\n",
       "      <td>0.604651</td>\n",
       "      <td>1</td>\n",
       "      <td>6.668801</td>\n",
       "      <td>4756.330566</td>\n",
       "    </tr>\n",
       "    <tr>\n",
       "      <th>16102496</th>\n",
       "      <td>0.566038</td>\n",
       "      <td>1</td>\n",
       "      <td>6.668801</td>\n",
       "      <td>4756.330566</td>\n",
       "    </tr>\n",
       "    <tr>\n",
       "      <th>16102497</th>\n",
       "      <td>0.511111</td>\n",
       "      <td>1</td>\n",
       "      <td>6.668801</td>\n",
       "      <td>4756.330566</td>\n",
       "    </tr>\n",
       "    <tr>\n",
       "      <th>16102498</th>\n",
       "      <td>0.396552</td>\n",
       "      <td>1</td>\n",
       "      <td>6.668801</td>\n",
       "      <td>4756.330566</td>\n",
       "    </tr>\n",
       "    <tr>\n",
       "      <th>16102499</th>\n",
       "      <td>0.192771</td>\n",
       "      <td>1</td>\n",
       "      <td>6.668801</td>\n",
       "      <td>4756.330566</td>\n",
       "    </tr>\n",
       "  </tbody>\n",
       "</table>\n",
       "<p>16102500 rows × 4 columns</p>\n",
       "</div>"
      ],
      "text/plain": [
       "          pixel value  labels  energy (MeV)  event radius (mm)\n",
       "0            0.000000       1      5.922100        5053.448242\n",
       "1            0.000000       1      5.922100        5053.448242\n",
       "2            0.055556       1      5.922100        5053.448242\n",
       "3            0.192308       1      5.922100        5053.448242\n",
       "4            0.058824       1      5.922100        5053.448242\n",
       "...               ...     ...           ...                ...\n",
       "16102495     0.604651       1      6.668801        4756.330566\n",
       "16102496     0.566038       1      6.668801        4756.330566\n",
       "16102497     0.511111       1      6.668801        4756.330566\n",
       "16102498     0.396552       1      6.668801        4756.330566\n",
       "16102499     0.192771       1      6.668801        4756.330566\n",
       "\n",
       "[16102500 rows x 4 columns]"
      ]
     },
     "execution_count": 18,
     "metadata": {},
     "output_type": "execute_result"
    }
   ],
   "source": [
    "df_read"
   ]
  },
  {
   "cell_type": "code",
   "execution_count": 22,
   "id": "97c3cb82-c808-47f7-97d8-98c7366574fe",
   "metadata": {},
   "outputs": [
    {
     "data": {
      "text/html": [
       "<div>\n",
       "<style scoped>\n",
       "    .dataframe tbody tr th:only-of-type {\n",
       "        vertical-align: middle;\n",
       "    }\n",
       "\n",
       "    .dataframe tbody tr th {\n",
       "        vertical-align: top;\n",
       "    }\n",
       "\n",
       "    .dataframe thead th {\n",
       "        text-align: right;\n",
       "    }\n",
       "</style>\n",
       "<table border=\"1\" class=\"dataframe\">\n",
       "  <thead>\n",
       "    <tr style=\"text-align: right;\">\n",
       "      <th></th>\n",
       "      <th>pixel value</th>\n",
       "      <th>labels</th>\n",
       "      <th>energy (MeV)</th>\n",
       "      <th>event radius (mm)</th>\n",
       "    </tr>\n",
       "  </thead>\n",
       "  <tbody>\n",
       "    <tr>\n",
       "      <th>count</th>\n",
       "      <td>5.225100e+06</td>\n",
       "      <td>5225100.0</td>\n",
       "      <td>5.225100e+06</td>\n",
       "      <td>5.225100e+06</td>\n",
       "    </tr>\n",
       "    <tr>\n",
       "      <th>mean</th>\n",
       "      <td>9.808597e-02</td>\n",
       "      <td>1.0</td>\n",
       "      <td>5.150071e+00</td>\n",
       "      <td>4.100877e+03</td>\n",
       "    </tr>\n",
       "    <tr>\n",
       "      <th>std</th>\n",
       "      <td>1.358340e-01</td>\n",
       "      <td>0.0</td>\n",
       "      <td>1.951896e+00</td>\n",
       "      <td>1.070668e+03</td>\n",
       "    </tr>\n",
       "    <tr>\n",
       "      <th>min</th>\n",
       "      <td>0.000000e+00</td>\n",
       "      <td>1.0</td>\n",
       "      <td>2.500030e+00</td>\n",
       "      <td>1.061544e+02</td>\n",
       "    </tr>\n",
       "    <tr>\n",
       "      <th>25%</th>\n",
       "      <td>0.000000e+00</td>\n",
       "      <td>1.0</td>\n",
       "      <td>3.546517e+00</td>\n",
       "      <td>3.420602e+03</td>\n",
       "    </tr>\n",
       "    <tr>\n",
       "      <th>50%</th>\n",
       "      <td>5.882353e-02</td>\n",
       "      <td>1.0</td>\n",
       "      <td>4.785972e+00</td>\n",
       "      <td>4.340379e+03</td>\n",
       "    </tr>\n",
       "    <tr>\n",
       "      <th>75%</th>\n",
       "      <td>1.428571e-01</td>\n",
       "      <td>1.0</td>\n",
       "      <td>6.417796e+00</td>\n",
       "      <td>4.979320e+03</td>\n",
       "    </tr>\n",
       "    <tr>\n",
       "      <th>max</th>\n",
       "      <td>1.000000e+00</td>\n",
       "      <td>1.0</td>\n",
       "      <td>1.368808e+01</td>\n",
       "      <td>5.499972e+03</td>\n",
       "    </tr>\n",
       "  </tbody>\n",
       "</table>\n",
       "</div>"
      ],
      "text/plain": [
       "        pixel value     labels  energy (MeV)  event radius (mm)\n",
       "count  5.225100e+06  5225100.0  5.225100e+06       5.225100e+06\n",
       "mean   9.808597e-02        1.0  5.150071e+00       4.100877e+03\n",
       "std    1.358340e-01        0.0  1.951896e+00       1.070668e+03\n",
       "min    0.000000e+00        1.0  2.500030e+00       1.061544e+02\n",
       "25%    0.000000e+00        1.0  3.546517e+00       3.420602e+03\n",
       "50%    5.882353e-02        1.0  4.785972e+00       4.340379e+03\n",
       "75%    1.428571e-01        1.0  6.417796e+00       4.979320e+03\n",
       "max    1.000000e+00        1.0  1.368808e+01       5.499972e+03"
      ]
     },
     "execution_count": 22,
     "metadata": {},
     "output_type": "execute_result"
    }
   ],
   "source": [
    "df_read.describe()"
   ]
  },
  {
   "cell_type": "code",
   "execution_count": 23,
   "id": "7b352231-06d0-4b8d-bad6-c8b523578201",
   "metadata": {},
   "outputs": [
    {
     "data": {
      "text/plain": [
       "<Axes: xlabel='event radius (mm)', ylabel='Count'>"
      ]
     },
     "execution_count": 23,
     "metadata": {},
     "output_type": "execute_result"
    },
    {
     "data": {
      "image/png": "[encoded data removed]",
      "text/plain": [
       "<Figure size 1800x1200 with 4 Axes>"
      ]
     },
     "metadata": {},
     "output_type": "display_data"
    }
   ],
   "source": [
    "fig, axes = plt.subplots(2, 2,  figsize=(18, 12))\n",
    "\n",
    "sn.histplot(data = df_read['pixel value'] , bins = 25, log = True, ax=axes[0,0])\n",
    "sn.histplot(data = df_read['energy (MeV)'] , binwidth = 0.08, log = True ,ax=axes[1,0])\n",
    "sn.histplot(data = df_read['labels'], ax=axes[0,1])\n",
    "sn.histplot(data = df_read['event radius (mm)'], binwidth = 100 ,ax=axes[1,1])\n",
    "#plt.savefig('figs/First Model/10x10/Data/data_set_representation.png', format = 'png', bbox_inches = 'tight')"
   ]
  },
  {
   "cell_type": "code",
   "execution_count": null,
   "id": "9bc9b157-8206-4731-a894-ac6828d7aaef",
   "metadata": {},
   "outputs": [],
   "source": []
  }
 ],
 "metadata": {
  "kernelspec": {
   "display_name": "Python 3 (ipykernel)",
   "language": "python",
   "name": "python3"
  },
  "language_info": {
   "codemirror_mode": {
    "name": "ipython",
    "version": 3
   },
   "file_extension": ".py",
   "mimetype": "text/x-python",
   "name": "python",
   "nbconvert_exporter": "python",
   "pygments_lexer": "ipython3",
   "version": "3.12.2"
  }
 },
 "nbformat": 4,
 "nbformat_minor": 5
}
