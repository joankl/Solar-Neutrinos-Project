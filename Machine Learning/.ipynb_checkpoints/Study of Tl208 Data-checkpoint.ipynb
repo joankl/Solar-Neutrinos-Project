{
 "cells": [
  {
   "cell_type": "markdown",
   "id": "bbc81ad6-edcb-401b-a53b-a05c94cdf75b",
   "metadata": {},
   "source": [
    "# Notebook Dedicated to Observe the Tl208 Data"
   ]
  },
  {
   "cell_type": "code",
   "execution_count": 2,
   "id": "7f72599e-3867-4124-b297-f25310d91124",
   "metadata": {},
   "outputs": [],
   "source": [
    "import uproot\n",
    "import numpy as np\n",
    "\n",
    "import matplotlib\n",
    "import matplotlib.pyplot as plt\n",
    "from matplotlib import cm\n",
    "\n",
    "import seaborn as sn\n",
    "import pandas as pd \n",
    "\n",
    "#from sklearn.preprocessing import RobustScaler, normalize"
   ]
  },
  {
   "cell_type": "code",
   "execution_count": 15,
   "id": "8938e5ea-ce43-442b-af2c-19bd5d918c95",
   "metadata": {},
   "outputs": [],
   "source": [
    "def magnitude(vector): \n",
    "    #Funcion para calcular radio de eventos al centro del detector\n",
    "    \n",
    "    norm = []\n",
    "    for vec in vector:\n",
    "    \tnorm.append(np.linalg.norm(vec))\n",
    "\n",
    "    return np.array(norm, dtype = np.float32)"
   ]
  },
  {
   "cell_type": "markdown",
   "id": "48ab8851-48c7-44a5-8d10-72de0c25d853",
   "metadata": {},
   "source": [
    "# 1 - Extraer datos"
   ]
  },
  {
   "cell_type": "code",
   "execution_count": 8,
   "id": "175bc673-62d4-4c40-93a9-be3b8fea7fbf",
   "metadata": {},
   "outputs": [
    {
     "data": {
      "text/plain": [
       "['T;41', 'T;40', 'pmt;2', 'pmt;1']"
      ]
     },
     "execution_count": 8,
     "metadata": {},
     "output_type": "execute_result"
    }
   ],
   "source": [
    "# Archivo de Ruido (Talio)\n",
    "tl_file = uproot.open(\"/snoplus simulations/talio/High Stat/split_4_simu_Analysis_Tl.root\")\n",
    "tl_data = tl_file['T;41']\n",
    "pmt_info = tl_file['pmt;1']\n",
    "tl_file.keys()"
   ]
  },
  {
   "cell_type": "markdown",
   "id": "86184669-1f47-43f9-8add-c7414f8dd0ce",
   "metadata": {},
   "source": [
    "## 1.1 - PMT info"
   ]
  },
  {
   "cell_type": "code",
   "execution_count": 9,
   "id": "77422e88-3160-49c2-986c-d783f3bd6adc",
   "metadata": {},
   "outputs": [],
   "source": [
    "pmt_id = np.array(pmt_info['pmt_id'], dtype = np.int16)\n",
    "pmt_pos_xyz = np.array(pmt_info['pmt_pos_xyz'])\n",
    "pmt_pos_sph = np.array(pmt_info['pmt_pos_sph'])\n",
    "pmt_type = np.array(pmt_info['pmt_type'], dtype = np.int16)"
   ]
  },
  {
   "cell_type": "markdown",
   "id": "8c0d4bb4-8133-485c-9229-9e573dbd82b9",
   "metadata": {
    "editable": true,
    "slideshow": {
     "slide_type": ""
    },
    "tags": []
   },
   "source": [
    "## 1.3 - Thallium Variables"
   ]
  },
  {
   "cell_type": "code",
   "execution_count": 10,
   "id": "05d97107-4815-4869-96c3-e20fe9b152e6",
   "metadata": {},
   "outputs": [],
   "source": [
    "tl_mcID = np.array(tl_data['mcID'], dtype = np.int16)#[:tl_limit]\n",
    "tl_energy = np.array(tl_data['energy'], dtype = np.float32)#[:tl_limit]\n",
    "tl_mc_position = np.array(tl_data['mc_position'])#[:tl_limit]   #-> Position Generation\n",
    "tl_mc_momentum = np.array(tl_data['mc_momentum'])#[:tl_limit]   #-> IMPORTANT: Direction of simulated event\n",
    "tl_position = np.array(tl_data['position'])#[:tl_limit]        \n",
    "tl_hit_pmtid = np.array(tl_data['hit_pmtid'], dtype = np.int16)#[:tl_limit]\n",
    "tl_time_residual = np.array(tl_data['hit_residual'])#[:tl_limit]\n",
    "tl_hit_type = np.array(tl_data['hit_type'], dtype = np.int16)#[:tl_limit]"
   ]
  },
  {
   "cell_type": "markdown",
   "id": "607bb177-156a-48eb-9f50-f579f7377f6e",
   "metadata": {
    "editable": true,
    "slideshow": {
     "slide_type": ""
    },
    "tags": []
   },
   "source": [
    "# 2 - Select Valid Data\n",
    "\n",
    "Select only hits that verify pmt_type = 1"
   ]
  },
  {
   "cell_type": "code",
   "execution_count": 11,
   "id": "d55fb2f1-9478-4c2d-9e09-c942e7da15b3",
   "metadata": {},
   "outputs": [],
   "source": [
    "valid_pmt_id = np.array(np.where(pmt_type == 1)[0]) # PMT valid ID match with index where pmt_type=1\n",
    "\n",
    "#extract valid indices in data\n",
    "tl_valid_id_info__i = np.array(np.where(np.in1d(tl_hit_pmtid, valid_pmt_id))[0])\n",
    "\n",
    "#extract coordinates of pmt_type = 1\n",
    "valid_pmt_xyz = []   #List of valid PMT coordinates (type 1)\n",
    "for i_dx in valid_pmt_id:\n",
    "    valid_pmt_xyz.append(pmt_pos_xyz[i_dx])\n",
    "valid_pmt_xyz = np.array(valid_pmt_xyz)"
   ]
  },
  {
   "cell_type": "markdown",
   "id": "0741b6b2-435c-4c77-8552-9b0eef9fbb14",
   "metadata": {},
   "source": [
    "# 3 - Process Data\n",
    "\n",
    "Procesamiento de datos (corte en volumen, energia y tiempo), calculo de observable cos(α)"
   ]
  },
  {
   "cell_type": "markdown",
   "id": "21c0a8c6-ddaa-401b-86e8-5a7b14f1c59a",
   "metadata": {},
   "source": [
    "## 3.1 - Ajuste de Procesamiento\n",
    "\n",
    "El ajuste será aplicado a simulaciones de Tálio y de neutrinos Solares"
   ]
  },
  {
   "cell_type": "code",
   "execution_count": 13,
   "id": "159d4e8b-a37d-409c-b1c1-d0d81cc9869e",
   "metadata": {},
   "outputs": [],
   "source": [
    "#params to adjust the cuts--------------------------------------------\n",
    "#Split Data\n",
    "split = 20\n",
    "\n",
    "#energy cut\n",
    "inf_en_cut = 2.5\n",
    "up_en_cut = 14\n",
    "\n",
    "#time cut (ns)\n",
    "inf_cut = -5.0\n",
    "up_cut = 7.0\n",
    "\n",
    "#radial cut\n",
    "radi_cut_method = True   #If true, apply radial cuts given by rad_cut_val to data\n",
    "rad_cut_val = 5500.0   # Buen valor de corte para observar una identificación efizas de neutrinos solares\n",
    "#--------------------------------------------------------------------------"
   ]
  },
  {
   "cell_type": "markdown",
   "id": "f299d83f-606b-4a5a-8747-978a909a2530",
   "metadata": {},
   "source": [
    "### 3.1.2 - Procesamiento de Tálio"
   ]
  },
  {
   "cell_type": "code",
   "execution_count": 16,
   "id": "e5ea7782-3801-45e1-ab00-a5cad4ac2a0d",
   "metadata": {
    "editable": true,
    "slideshow": {
     "slide_type": ""
    },
    "tags": []
   },
   "outputs": [
    {
     "name": "stdout",
     "output_type": "stream",
     "text": [
      "slipt nº: 0\n",
      "In energy cut\n",
      "In radi_cut\n",
      "computing cos(alpha)\n",
      "doing time residual cuts\n",
      "slipt nº: 1\n",
      "In energy cut\n",
      "In radi_cut\n",
      "computing cos(alpha)\n",
      "doing time residual cuts\n",
      "slipt nº: 2\n",
      "In energy cut\n",
      "In radi_cut\n",
      "computing cos(alpha)\n",
      "doing time residual cuts\n",
      "slipt nº: 3\n",
      "In energy cut\n",
      "In radi_cut\n",
      "computing cos(alpha)\n",
      "doing time residual cuts\n",
      "slipt nº: 4\n",
      "In energy cut\n",
      "In radi_cut\n",
      "computing cos(alpha)\n",
      "doing time residual cuts\n",
      "slipt nº: 5\n",
      "In energy cut\n",
      "In radi_cut\n",
      "computing cos(alpha)\n",
      "doing time residual cuts\n",
      "slipt nº: 6\n",
      "In energy cut\n",
      "In radi_cut\n",
      "computing cos(alpha)\n",
      "doing time residual cuts\n",
      "slipt nº: 7\n",
      "In energy cut\n",
      "In radi_cut\n",
      "computing cos(alpha)\n",
      "doing time residual cuts\n",
      "slipt nº: 8\n",
      "In energy cut\n",
      "In radi_cut\n",
      "computing cos(alpha)\n",
      "doing time residual cuts\n",
      "slipt nº: 9\n",
      "In energy cut\n",
      "In radi_cut\n",
      "computing cos(alpha)\n",
      "doing time residual cuts\n",
      "slipt nº: 10\n",
      "In energy cut\n",
      "In radi_cut\n",
      "computing cos(alpha)\n",
      "doing time residual cuts\n",
      "slipt nº: 11\n",
      "In energy cut\n",
      "In radi_cut\n",
      "computing cos(alpha)\n",
      "doing time residual cuts\n",
      "slipt nº: 12\n",
      "In energy cut\n",
      "In radi_cut\n",
      "computing cos(alpha)\n",
      "doing time residual cuts\n",
      "slipt nº: 13\n",
      "In energy cut\n",
      "In radi_cut\n",
      "computing cos(alpha)\n",
      "doing time residual cuts\n",
      "slipt nº: 14\n",
      "In energy cut\n",
      "In radi_cut\n",
      "computing cos(alpha)\n",
      "doing time residual cuts\n",
      "slipt nº: 15\n",
      "In energy cut\n",
      "In radi_cut\n",
      "computing cos(alpha)\n",
      "doing time residual cuts\n",
      "slipt nº: 16\n",
      "In energy cut\n",
      "In radi_cut\n",
      "computing cos(alpha)\n",
      "doing time residual cuts\n",
      "slipt nº: 17\n",
      "In energy cut\n",
      "In radi_cut\n",
      "computing cos(alpha)\n",
      "doing time residual cuts\n",
      "slipt nº: 18\n",
      "In energy cut\n",
      "In radi_cut\n",
      "computing cos(alpha)\n",
      "doing time residual cuts\n",
      "slipt nº: 19\n",
      "In energy cut\n",
      "In radi_cut\n",
      "computing cos(alpha)\n",
      "doing time residual cuts\n"
     ]
    }
   ],
   "source": [
    "# Dividir valid_id_info_ev_i en partes\n",
    "valid_info_ev_split = np.array_split(tl_valid_id_info__i, split)  #---> split(array, parts)\n",
    "\n",
    "#variables to save: with time residual cuts and radi cut (radi cut is optional, depends on the simulation)\n",
    "tl_multi_time_residual_cut = []\n",
    "tl_multi_cos_angle_cut = []\n",
    "#multi_position_cut = []\n",
    "tl_multi_mc_momentum_cut = []\n",
    "tl_multi_mc_ID_cut = []\n",
    "tl_multi_energy_cut = []\n",
    "tl_multi_hit_xyz_cut = []  #save the coordinates of hits to be used to generate the background with (random direction != mc_momentum)\n",
    "tl_multi_radi_cut = []\n",
    "\n",
    "#loop over valid_info_ev_split\n",
    "for n_loop, split_array in enumerate(valid_info_ev_split):\n",
    "    print('slipt nº:', n_loop)\n",
    "    # extract all valid simulated info \n",
    "    multi_radi = []\n",
    "    multi_energy = []\n",
    "    multi_mc_ID = []\n",
    "    multi_time_residual = []\n",
    "    multi_pmt_id_hit = []\n",
    "    multi_position = []\n",
    "    #multi_mc_position = []\n",
    "    multi_mc_momentum = []   \n",
    "    multi_xyz_hit = []\n",
    "\n",
    "    for valid_i in split_array:\n",
    "        multi_energy.append(tl_energy[valid_i])\n",
    "        multi_mc_ID.append(tl_mcID[valid_i])\n",
    "        multi_time_residual.append(tl_time_residual[valid_i])\n",
    "        multi_pmt_id_hit.append(tl_hit_pmtid[valid_i])\n",
    "        multi_position.append(tl_position[valid_i])\n",
    "        #multi_mc_position.append(mc_position[valid_i])\n",
    "        multi_mc_momentum.append(tl_mc_momentum[valid_i])\n",
    "    multi_energy = np.array(multi_energy)\n",
    "    multi_time_residual = np.array(multi_time_residual)\n",
    "    multi_pmt_id_hit = np.array(multi_pmt_id_hit)\n",
    "    multi_position = np.array(multi_position)\n",
    "\n",
    "    for id_i in multi_pmt_id_hit:\n",
    "        multi_xyz_hit.append(pmt_pos_xyz[id_i])\n",
    "    multi_xyz_hit = np.array(multi_xyz_hit)\n",
    "\n",
    "    #energy_cut:\n",
    "    print('In energy cut')\n",
    "    condition_en_cut = (multi_energy > inf_en_cut) & (multi_energy < up_en_cut)\n",
    "    \n",
    "    #variables to extract\n",
    "    multi_energy = np.extract(condition_en_cut, multi_energy)\n",
    "    multi_mc_ID = np.extract(condition_en_cut, multi_mc_ID)\n",
    "    multi_time_residual = np.extract(condition_en_cut, multi_time_residual)\n",
    "    multi_pmt_id_hit = np.extract(condition_en_cut, multi_pmt_id_hit)\n",
    "\n",
    "    multi_mc_momentum_en_cut = []\n",
    "    multi_position_en_cut = []\n",
    "    for e_dx in np.where(condition_en_cut)[0]:\n",
    "        multi_mc_momentum_en_cut.append(multi_mc_momentum[e_dx])\n",
    "        multi_position_en_cut.append(multi_position[e_dx])\n",
    "    multi_mc_momentum = np.array(multi_mc_momentum_en_cut)\n",
    "    multi_position = np.array(multi_position_en_cut)\n",
    "    #freed memory\n",
    "    multi_mc_momentum_en_cut = None\n",
    "    multi_position_en_cut = None\n",
    "            \n",
    "    #Radial Cut:\n",
    "    if radi_cut_method == True:\n",
    "        print('In radi_cut')\n",
    "        #mc_position_norm = magnitude(multi_mc_position)\n",
    "        position_norm = magnitude(multi_position)\n",
    "        multi_radi.append(position_norm)\n",
    "        \n",
    "        max_radi = rad_cut_val\n",
    "        radi_condition = (position_norm < max_radi)\n",
    "        index_cut_radi = np.array(np.where(radi_condition)[0])\n",
    "        #variables to extract\n",
    "        multi_time_residual = np.extract(radi_condition, multi_time_residual)\n",
    "        multi_pmt_id_hit = np.extract(radi_condition, multi_pmt_id_hit)\n",
    "        multi_energy = np.extract(radi_condition, multi_energy)\n",
    "        multi_radi = np.extract(radi_condition, multi_radi)\n",
    "\n",
    "        multi_mc_ID_radi_cut = []\n",
    "        multi_mc_momentum_radi_cut = []\n",
    "        multi_position_radi_cut = []\n",
    "        multi_xyz_hit_radi_cut = [] \n",
    "\n",
    "        for j_dx in index_cut_radi:\n",
    "            multi_mc_momentum_radi_cut.append(multi_mc_momentum[j_dx])\n",
    "            multi_position_radi_cut.append(multi_position[j_dx])          #HERE\n",
    "            multi_mc_ID_radi_cut.append(multi_mc_ID[j_dx])\n",
    "\n",
    "        for id_i in multi_pmt_id_hit:\n",
    "            multi_xyz_hit_radi_cut.append(pmt_pos_xyz[id_i])\n",
    "\n",
    "        multi_mc_ID = multi_mc_ID_radi_cut\n",
    "        multi_mc_momentum = multi_mc_momentum_radi_cut   #HERE\n",
    "        multi_position = multi_position_radi_cut\n",
    "        multi_xyz_hit = multi_xyz_hit_radi_cut\n",
    "        \n",
    "        #freed memory\n",
    "        multi_mc_ID_radi_cut = None\n",
    "        multi_mc_momentum_radi_cut = None\n",
    "        multi_position_radi_cut = None\n",
    "        multi_xyz_hit_radi_cut = None\n",
    "        radi_condition = None\n",
    "        index_cut_radi = None\n",
    "        \n",
    "    #cos(alpha) calculation -> Uses the definition of scalar product\n",
    "    multi_cos_angle = []\n",
    "    N = np.shape(multi_xyz_hit)[0]\n",
    "\n",
    "    print('computing cos(alpha)')\n",
    "    for k in range(N):\n",
    "        #event_direction = np.array([0,0,-1])\n",
    "        event_direction = multi_mc_momentum[k]\n",
    "        scalar_product = np.dot(multi_xyz_hit[k], event_direction)\n",
    "        norm_1 = np.linalg.norm(event_direction)\n",
    "        norm_2 = np.linalg.norm(multi_xyz_hit[k])\n",
    "        cos_val = scalar_product/(norm_1*norm_2)\n",
    "        \n",
    "        multi_cos_angle.append(cos_val)\n",
    "\n",
    "    #Time residual cut:\n",
    "    print('doing time residual cuts')\n",
    "    for i in np.where((multi_time_residual > inf_cut) & (multi_time_residual < up_cut))[0]:\n",
    "        tl_multi_time_residual_cut.append(multi_time_residual[i])\n",
    "        tl_multi_cos_angle_cut.append(multi_cos_angle[i])\n",
    "        #multi_position_cut.append(multi_position[i])\n",
    "        tl_multi_mc_momentum_cut.append(multi_mc_momentum[i])\n",
    "        tl_multi_mc_ID_cut.append(multi_mc_ID[i])\n",
    "        tl_multi_energy_cut.append(multi_energy[i])\n",
    "        tl_multi_hit_xyz_cut.append(multi_xyz_hit[i])\n",
    "        tl_multi_radi_cut.append(multi_radi[i])\n",
    "\n",
    "    #freed memory\n",
    "    multi_cos_angle = None\n",
    "\n",
    "    #freen memory:    \n",
    "    multi_mc_ID = None\n",
    "    multi_time_residual = None\n",
    "    multi_pmt_id_hit = None\n",
    "    multi_position = None\n",
    "    multi_mc_position = None\n",
    "    multi_mc_momentum = None\n",
    "    multi_xyz_hit = None\n",
    "    multi_energy = None\n",
    "\n",
    "#multi_position_cut = np.array(multi_position_cut)\n",
    "tl_multi_mc_momentum_cut = np.array(tl_multi_mc_momentum_cut)\n",
    "tl_multi_mc_ID_cut = np.array(tl_multi_mc_ID_cut, dtype = np.int16)\n",
    "tl_multi_energy_cut = np.array(tl_multi_energy_cut)\n",
    "tl_multi_hit_xyz_cut = np.array(tl_multi_hit_xyz_cut)\n",
    "tl_multi_radi_cut = np.array(tl_multi_radi_cut)\n",
    "\n",
    "tl_multi_time_residual_cut = np.array(tl_multi_time_residual_cut)\n",
    "tl_multi_cos_angle_cut = np.array(tl_multi_cos_angle_cut)"
   ]
  },
  {
   "cell_type": "code",
   "execution_count": 22,
   "id": "3b304a4d-6285-4fdb-b850-c6af0bd628e8",
   "metadata": {},
   "outputs": [
    {
     "data": {
      "text/plain": [
       "(11793125,)"
      ]
     },
     "execution_count": 22,
     "metadata": {},
     "output_type": "execute_result"
    }
   ],
   "source": [
    "tl_multi_time_residual_cut.shape"
   ]
  },
  {
   "cell_type": "code",
   "execution_count": 21,
   "id": "91760df7-f7c3-4a8b-b815-957e748b64db",
   "metadata": {},
   "outputs": [
    {
     "data": {
      "text/plain": [
       "(11793125,)"
      ]
     },
     "execution_count": 21,
     "metadata": {},
     "output_type": "execute_result"
    }
   ],
   "source": [
    "tl_multi_cos_angle_cut.shape"
   ]
  },
  {
   "cell_type": "code",
   "execution_count": 35,
   "id": "35ea2220-d8e3-44b6-ac92-2dc96d36fdc8",
   "metadata": {},
   "outputs": [
    {
     "data": {
      "text/plain": [
       "array([ 5.01095784, -0.43983189,  1.66588468, ...,  4.39128071,\n",
       "        6.19525151,  6.62061207])"
      ]
     },
     "execution_count": 35,
     "metadata": {},
     "output_type": "execute_result"
    }
   ],
   "source": [
    "tl_multi_time_residual_cut"
   ]
  },
  {
   "cell_type": "code",
   "execution_count": 36,
   "id": "7a680775-87c0-4c21-9617-249a11a7309b",
   "metadata": {},
   "outputs": [
    {
     "data": {
      "text/plain": [
       "array([ 0.58700833,  0.61876501,  0.53957374, ..., -0.46430317,\n",
       "       -0.65942918, -0.90541918])"
      ]
     },
     "execution_count": 36,
     "metadata": {},
     "output_type": "execute_result"
    }
   ],
   "source": [
    "tl_multi_cos_angle_cut"
   ]
  },
  {
   "cell_type": "markdown",
   "id": "fe3ecb3c-5019-4191-aacb-62880cd5ef09",
   "metadata": {},
   "source": [
    "# 4 - Plots"
   ]
  },
  {
   "cell_type": "code",
   "execution_count": 48,
   "id": "74ef20cc-f912-4dbf-988b-3bf4db938444",
   "metadata": {},
   "outputs": [
    {
     "data": {
      "image/png": "[encoded data removed]",
      "text/plain": [
       "<Figure size 1400x500 with 2 Axes>"
      ]
     },
     "metadata": {},
     "output_type": "display_data"
    }
   ],
   "source": [
    "fig, axes = plt.subplots(1, 2, figsize = (14, 5))\n",
    "\n",
    "sn.histplot(tl_multi_cos_angle_cut, bins = 35, ax = axes[0], element='step', alpha = 0)\n",
    "sn.histplot(tl_multi_time_residual_cut, bins = 35, ax = axes[1], element='step', alpha = 0)\n",
    "\n",
    "axes[0].set_xlabel(r'cos($\\alpha$)')\n",
    "axes[1].set_xlabel('Time Residual (ns)')\n",
    "\n",
    "plt.show()"
   ]
  },
  {
   "cell_type": "markdown",
   "id": "4f9be30b-871b-4de6-b427-ce551f85247b",
   "metadata": {},
   "source": [
    "## 4.1 - 2D Histogram $\\Delta\\alpha$"
   ]
  },
  {
   "cell_type": "code",
   "execution_count": 37,
   "id": "d4949b88-f6d1-4006-9dfa-420885873b6d",
   "metadata": {},
   "outputs": [
    {
     "data": {
      "text/plain": [
       "<matplotlib.image.AxesImage at 0x179d8412180>"
      ]
     },
     "execution_count": 37,
     "metadata": {},
     "output_type": "execute_result"
    },
    {
     "data": {
      "image/png": "[encoded data removed]",
      "text/plain": [
       "<Figure size 640x480 with 1 Axes>"
      ]
     },
     "metadata": {},
     "output_type": "display_data"
    }
   ],
   "source": [
    "bins = 10\n",
    "\n",
    "#Recover the data axis representation of time residual vs cos(alpha)\n",
    "left = np.min(tl_multi_time_residual_cut)\n",
    "right = np.max(tl_multi_time_residual_cut)\n",
    "bottom = np.min(tl_multi_cos_angle_cut)\n",
    "top = np.max(tl_multi_cos_angle_cut)\n",
    "\n",
    "#Transform Data into an Image Matrix\n",
    "H, xedges, yedges = np.histogram2d(x = tl_multi_cos_angle_cut, y = tl_multi_time_residual_cut, bins = [bins, bins])\n",
    "\n",
    "#Plot\n",
    "bins = 10\n",
    "\n",
    "plt.imshow(H, aspect = 'auto', cmap = cm.PuBuGn)"
   ]
  },
  {
   "cell_type": "markdown",
   "id": "d8d23211-b452-45a3-8f01-646214346b9c",
   "metadata": {},
   "source": [
    "## 4.2 - Normalization by Nhits in cos(α) slices"
   ]
  },
  {
   "cell_type": "code",
   "execution_count": 38,
   "id": "8940a478-5ce3-4607-a5a5-4706521bc910",
   "metadata": {
    "editable": true,
    "slideshow": {
     "slide_type": ""
    },
    "tags": []
   },
   "outputs": [
    {
     "data": {
      "image/png": "[encoded data removed]",
      "text/plain": [
       "<Figure size 800x600 with 2 Axes>"
      ]
     },
     "metadata": {},
     "output_type": "display_data"
    }
   ],
   "source": [
    "bins = 10\n",
    "\n",
    "#Transforma Data into an Image Matrix\n",
    "H, xedges, yedges = np.histogram2d(x = tl_multi_cos_angle_cut, y = tl_multi_time_residual_cut, bins = [bins, bins])\n",
    "\n",
    "\n",
    "#Normalization process\n",
    "sum_hit = np.sum(H,axis=0)\n",
    "H_normalized1 = H / sum_hit\n",
    "\n",
    "#Now recover the data axis representation of time residual vs cos(alpha)\n",
    "left = np.min(tl_multi_time_residual_cut)\n",
    "right = np.max(tl_multi_time_residual_cut)\n",
    "bottom = np.min(tl_multi_cos_angle_cut)\n",
    "top = np.max(tl_multi_cos_angle_cut)\n",
    "\n",
    "#titles\n",
    "N_title = r'Normalizarion by NHits - $\\mathcal{L}(Δ,α)$ of Tl208'\n",
    "N_ylabel = 'cosα - α'\n",
    "N_xlabel = 'Time Residual (ns) - Δ'\n",
    "\n",
    "plt.figure(figsize=(8,6))\n",
    "plt.imshow(H_normalized1, extent = [left, right, top, bottom], aspect=\"auto\", cmap = cm.PuBuGn)#, vmin = 0, vmax = 0.08) #---> Here is our image as a Matrix Pixel\n",
    "plt.title(N_title, fontsize= 12, fontstyle = 'normal')#, fontweight='bold')\n",
    "plt.ylabel(N_ylabel)\n",
    "plt.xlabel(N_xlabel)\n",
    "plt.xlim(inf_cut, up_cut)\n",
    "#plt.ylim(1,-1)\n",
    "plt.colorbar()\n",
    "#plt.savefig('figs/Norm Δα Distribution - 10 MeV.png', format = 'png', bbox_inches = 'tight')\n",
    "plt.show()"
   ]
  },
  {
   "cell_type": "code",
   "execution_count": null,
   "id": "1f8c0490-a0ad-49f8-ad67-dd60b67bd5ac",
   "metadata": {},
   "outputs": [],
   "source": []
  }
 ],
 "metadata": {
  "kernelspec": {
   "display_name": "Python 3 (ipykernel)",
   "language": "python",
   "name": "python3"
  },
  "language_info": {
   "codemirror_mode": {
    "name": "ipython",
    "version": 3
   },
   "file_extension": ".py",
   "mimetype": "text/x-python",
   "name": "python",
   "nbconvert_exporter": "python",
   "pygments_lexer": "ipython3",
   "version": "3.12.2"
  }
 },
 "nbformat": 4,
 "nbformat_minor": 5
}
