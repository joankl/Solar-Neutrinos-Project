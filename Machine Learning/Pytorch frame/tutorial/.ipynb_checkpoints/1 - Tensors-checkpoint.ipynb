{
 "cells": [
  {
   "cell_type": "markdown",
   "id": "d067ed26-d608-4f4b-8dc5-d5d37287c883",
   "metadata": {},
   "source": [
    "# 1 - Tensors"
   ]
  },
  {
   "cell_type": "markdown",
   "id": "456a49d4-4694-410b-9657-b8fea25122bd",
   "metadata": {},
   "source": [
    "Following https://pytorch.org/tutorials/beginner/blitz/tensor_tutorial.html"
   ]
  },
  {
   "cell_type": "markdown",
   "id": "443ad36d-cbad-471c-a4b0-6ca5133dcdeb",
   "metadata": {},
   "source": [
    "In PyTorch tensors are used do encode inputs nad outputs of a model, as well as the model's parameters.\n",
    "Tensors are similar to NumPy's ndarrays, exept that tensors can run on GPUs to accelerate computing. "
   ]
  },
  {
   "cell_type": "code",
   "execution_count": 2,
   "id": "c7d67d93-0efc-45ad-9d25-0cadbe2a8d02",
   "metadata": {},
   "outputs": [],
   "source": [
    "import torch\n",
    "import numpy as np"
   ]
  },
  {
   "cell_type": "markdown",
   "id": "9f5cf6cd-bf16-4817-a154-38d4e3e3c20b",
   "metadata": {},
   "source": [
    "## 1.1 Tensor initialization"
   ]
  },
  {
   "cell_type": "markdown",
   "id": "d9fe9f07-28e1-46be-9fc9-303f880a4067",
   "metadata": {},
   "source": [
    "$\\textbf{Tensors can be created directly from data. The data type is automatically inferred.}$"
   ]
  },
  {
   "cell_type": "code",
   "execution_count": 6,
   "id": "38df9b1a-8f05-4f47-adc9-76f2b76f3540",
   "metadata": {},
   "outputs": [
    {
     "name": "stdout",
     "output_type": "stream",
     "text": [
      "tensor([[1, 2],\n",
      "        [3, 4]])\n"
     ]
    }
   ],
   "source": [
    "data = [[1, 2], [3, 4]]\n",
    "x_data = torch.tensor(data)\n",
    "print(x_data)"
   ]
  },
  {
   "cell_type": "markdown",
   "id": "cd4130d7-a217-468f-9019-f369af69125e",
   "metadata": {},
   "source": [
    "$\\textbf{or directly from NumPy Array}$"
   ]
  },
  {
   "cell_type": "code",
   "execution_count": 7,
   "id": "29b0c3c5-8284-4bd9-82f6-8302aa89e607",
   "metadata": {},
   "outputs": [
    {
     "name": "stdout",
     "output_type": "stream",
     "text": [
      "tensor([[1, 2],\n",
      "        [3, 4]], dtype=torch.int32)\n"
     ]
    }
   ],
   "source": [
    "np_array = np.array(data)\n",
    "x_np = torch.from_numpy(np_array)\n",
    "print(x_np)"
   ]
  },
  {
   "cell_type": "markdown",
   "id": "b07b92eb-c6df-498d-9932-f122669b9d3a",
   "metadata": {},
   "source": [
    "$\\textbf{From another tensor: The new tensor retains the properties (shape, datatype) of the argument tensor, unless explicitly stated.}$"
   ]
  },
  {
   "cell_type": "code",
   "execution_count": 9,
   "id": "9267340b-372c-4e92-a4ab-c714ec7e5aab",
   "metadata": {},
   "outputs": [
    {
     "name": "stdout",
     "output_type": "stream",
     "text": [
      "Ones Tensor: \n",
      " tensor([[1, 1],\n",
      "        [1, 1]]) \n",
      "\n",
      "Random Tensor: \n",
      " tensor([[0.2120, 0.5956],\n",
      "        [0.3751, 0.9216]]) \n",
      "\n"
     ]
    }
   ],
   "source": [
    "x_ones = torch.ones_like(x_data) # retains the properties of x_data\n",
    "print(f\"Ones Tensor: \\n {x_ones} \\n\")\n",
    "\n",
    "x_rand = torch.rand_like(x_data, dtype=torch.float) # overrides the datatype of x_data\n",
    "print(f\"Random Tensor: \\n {x_rand} \\n\")"
   ]
  },
  {
   "cell_type": "markdown",
   "id": "82e64fa0-69b5-4051-94a5-b46d67005b80",
   "metadata": {},
   "source": [
    "$\\textbf{With random or constant values:}$"
   ]
  },
  {
   "cell_type": "code",
   "execution_count": 10,
   "id": "865be7f7-7b74-4beb-9044-ce0ca32406a3",
   "metadata": {},
   "outputs": [
    {
     "name": "stdout",
     "output_type": "stream",
     "text": [
      "Random Tensor: \n",
      " tensor([[0.7360, 0.4647, 0.1388],\n",
      "        [0.7110, 0.9926, 0.3631]]) \n",
      "\n",
      "Ones Tensor: \n",
      " tensor([[1., 1., 1.],\n",
      "        [1., 1., 1.]]) \n",
      "\n",
      "Zeros Tensor: \n",
      " tensor([[0., 0., 0.],\n",
      "        [0., 0., 0.]])\n"
     ]
    }
   ],
   "source": [
    "shape = (2, 3,)  # Shape will be used as tensor dimensions\n",
    "rand_tensor = torch.rand(shape)  # .rand is random generation of a tensor with [shape]-dimensions\n",
    "ones_tensor = torch.ones(shape)  # .ones Tensor\n",
    "zeros_tensor = torch.zeros(shape)\n",
    "\n",
    "print(f\"Random Tensor: \\n {rand_tensor} \\n\")\n",
    "print(f\"Ones Tensor: \\n {ones_tensor} \\n\")\n",
    "print(f\"Zeros Tensor: \\n {zeros_tensor}\")"
   ]
  },
  {
   "cell_type": "markdown",
   "id": "0584a77d-5aa4-4750-ae00-7efc28f485b0",
   "metadata": {},
   "source": [
    "## 1.2 Tensor Attributes"
   ]
  },
  {
   "cell_type": "markdown",
   "id": "fd420864-0327-422b-9407-f6af62ee2bcb",
   "metadata": {},
   "source": [
    "$\\textbf{Tensor attributes describe their shape, datatype, and the device on which they are stored.}$"
   ]
  },
  {
   "cell_type": "markdown",
   "id": "854f70e1-aef8-4242-ae9f-5462c532eaa4",
   "metadata": {},
   "source": [
    "Extract tensor Attributes"
   ]
  },
  {
   "cell_type": "code",
   "execution_count": 15,
   "id": "be8a6f43-021d-4d4b-ab1c-372e5324a01e",
   "metadata": {},
   "outputs": [
    {
     "name": "stdout",
     "output_type": "stream",
     "text": [
      "Shape of tensor: torch.Size([3, 4])\n",
      "Datatype of tensor: torch.float32\n",
      "Device tensor is stored on: cpu\n"
     ]
    }
   ],
   "source": [
    "tensor = torch.rand(3, 4)\n",
    "                                \n",
    "#How to extract tensor Attributes\n",
    "\n",
    "print(f\"Shape of tensor: {tensor.shape}\")\n",
    "print(f\"Datatype of tensor: {tensor.dtype}\")\n",
    "print(f\"Device tensor is stored on: {tensor.device}\")"
   ]
  },
  {
   "cell_type": "markdown",
   "id": "1bcd16dd-84c6-48e9-b31c-c47765217fa5",
   "metadata": {},
   "source": [
    "## 1.3 Tensor Operations"
   ]
  },
  {
   "cell_type": "markdown",
   "id": "561532b8-e5d2-4b94-891a-14daad2b25a8",
   "metadata": {},
   "source": [
    "$\\textbf{Over 100 tensor operations, including transposing, indexing, slicing, mathematical operations, linear algebra, random sampling, and more are comprehensively described}$ https://pytorch.org/docs/stable/torch.html"
   ]
  },
  {
   "cell_type": "markdown",
   "id": "92c0bd19-fe74-42a5-a3c8-b263aba42f64",
   "metadata": {},
   "source": [
    "Each of them can be run on the GPU (at typically higher speeds than on a CPU). If you’re using Colab, allocate a GPU by going to Edit > Notebook Settings."
   ]
  },
  {
   "cell_type": "code",
   "execution_count": 16,
   "id": "bdaf0e31-8d32-476a-b189-6002676a5acd",
   "metadata": {},
   "outputs": [],
   "source": [
    "# We move our tensor to the GPU if available\n",
    "if torch.cuda.is_available():\n",
    "    tensor = tensor.to('cuda')\n",
    "    print(f\"Device tensor is stored on: {tensor.device}\")"
   ]
  },
  {
   "cell_type": "markdown",
   "id": "a29f65df-3f18-4c73-b397-9cda502d5f22",
   "metadata": {},
   "source": [
    "### 1.3.1 Standard numpy-like indexing and slicing:"
   ]
  },
  {
   "cell_type": "code",
   "execution_count": 17,
   "id": "4334eeb8-a5ee-4d3f-8dd8-a9d27f86c861",
   "metadata": {},
   "outputs": [
    {
     "name": "stdout",
     "output_type": "stream",
     "text": [
      "tensor([[1., 0., 1., 1.],\n",
      "        [1., 0., 1., 1.],\n",
      "        [1., 0., 1., 1.],\n",
      "        [1., 0., 1., 1.]])\n"
     ]
    }
   ],
   "source": [
    "tensor = torch.ones(4, 4)\n",
    "tensor[:,1] = 0  #state all elements in 2nd column equals to zero\n",
    "print(tensor)"
   ]
  },
  {
   "cell_type": "markdown",
   "id": "e49ba7c3-268a-4a21-a6dc-e1d15a20f562",
   "metadata": {},
   "source": [
    "### 1.3.2 Joining tensors"
   ]
  },
  {
   "cell_type": "markdown",
   "id": "a4d4d4ce-2f21-4008-97ca-61262065de45",
   "metadata": {},
   "source": [
    "You can use torch.cat to concatenate a sequence of tensors along a given dimension. See also torch.stack (https://pytorch.org/docs/stable/generated/torch.stack.html), another tensor joining op that is subtly different from torch.cat."
   ]
  },
  {
   "cell_type": "code",
   "execution_count": 20,
   "id": "ecab728b-5715-4bb3-84a4-83c11c9d47f4",
   "metadata": {},
   "outputs": [
    {
     "name": "stdout",
     "output_type": "stream",
     "text": [
      "tensor([[1., 0., 1., 1., 1., 0., 1., 1., 1., 0., 1., 1.],\n",
      "        [1., 0., 1., 1., 1., 0., 1., 1., 1., 0., 1., 1.],\n",
      "        [1., 0., 1., 1., 1., 0., 1., 1., 1., 0., 1., 1.],\n",
      "        [1., 0., 1., 1., 1., 0., 1., 1., 1., 0., 1., 1.]])\n"
     ]
    }
   ],
   "source": [
    "t1 = torch.cat([tensor, tensor, tensor], dim = 1)\n",
    "print(t1)"
   ]
  },
  {
   "cell_type": "markdown",
   "id": "c6092aec-6e3d-4378-8195-e6643c0c58b2",
   "metadata": {},
   "source": [
    "### 1.3.3 Multiplying tensors"
   ]
  },
  {
   "cell_type": "code",
   "execution_count": 22,
   "id": "4f4763e1-4335-4b1b-a280-7a001f6f2d05",
   "metadata": {},
   "outputs": [
    {
     "name": "stdout",
     "output_type": "stream",
     "text": [
      "tensor.mul(tensor) \n",
      " tensor([[1., 0., 1., 1.],\n",
      "        [1., 0., 1., 1.],\n",
      "        [1., 0., 1., 1.],\n",
      "        [1., 0., 1., 1.]]) \n",
      "\n",
      "tensor * tensor \n",
      " tensor([[1., 0., 1., 1.],\n",
      "        [1., 0., 1., 1.],\n",
      "        [1., 0., 1., 1.],\n",
      "        [1., 0., 1., 1.]])\n"
     ]
    }
   ],
   "source": [
    "# This computes the element-wise product (element by element)\n",
    "print(f\"tensor.mul(tensor) \\n {tensor.mul(tensor)} \\n\")\n",
    "\n",
    "# Alternative syntax:\n",
    "print(f\"tensor * tensor \\n {tensor * tensor}\")"
   ]
  },
  {
   "cell_type": "markdown",
   "id": "e4dc287a-0153-4612-b4af-42c6f3c6f025",
   "metadata": {},
   "source": [
    "This computes the matrix multiplication between two tensors"
   ]
  },
  {
   "cell_type": "code",
   "execution_count": 24,
   "id": "ce4a7480-d828-48f9-9f55-781f8ddaaf24",
   "metadata": {},
   "outputs": [
    {
     "name": "stdout",
     "output_type": "stream",
     "text": [
      "tensor.matmul(tensor.T) \n",
      " tensor([[3., 3., 3., 3.],\n",
      "        [3., 3., 3., 3.],\n",
      "        [3., 3., 3., 3.],\n",
      "        [3., 3., 3., 3.]]) \n",
      "\n",
      "tensor @ tensor.T \n",
      " tensor([[3., 3., 3., 3.],\n",
      "        [3., 3., 3., 3.],\n",
      "        [3., 3., 3., 3.],\n",
      "        [3., 3., 3., 3.]])\n"
     ]
    }
   ],
   "source": [
    "print(f\"tensor.matmul(tensor.T) \\n {tensor.matmul(tensor.T)} \\n\")\n",
    "# Alternative syntax:\n",
    "print(f\"tensor @ tensor.T \\n {tensor @ tensor.T}\")"
   ]
  },
  {
   "cell_type": "markdown",
   "id": "ffea8b84-2457-41b4-8bd5-f0573df66e07",
   "metadata": {},
   "source": [
    "### 1.3.4 In-place operations"
   ]
  },
  {
   "cell_type": "markdown",
   "id": "166507cb-99c0-4df2-ad23-f45951ea3d43",
   "metadata": {},
   "source": [
    "Operations that have a _ suffix are in-place. For example: x.copy_(y), x.t_(), will change x."
   ]
  },
  {
   "cell_type": "code",
   "execution_count": 26,
   "id": "45be9e81-b6b9-40b9-a40d-f94391347703",
   "metadata": {},
   "outputs": [
    {
     "name": "stdout",
     "output_type": "stream",
     "text": [
      "tensor([[1., 0., 1., 1.],\n",
      "        [1., 0., 1., 1.],\n",
      "        [1., 0., 1., 1.],\n",
      "        [1., 0., 1., 1.]]) \n",
      "\n",
      "tensor([[6., 5., 6., 6.],\n",
      "        [6., 5., 6., 6.],\n",
      "        [6., 5., 6., 6.],\n",
      "        [6., 5., 6., 6.]])\n"
     ]
    }
   ],
   "source": [
    "print(tensor, \"\\n\")\n",
    "tensor.add_(5)\n",
    "print(tensor)"
   ]
  },
  {
   "cell_type": "markdown",
   "id": "961cae40-f8cf-462d-b611-5d860147206b",
   "metadata": {},
   "source": [
    "## 1.4 Bridge with NumPy"
   ]
  },
  {
   "cell_type": "markdown",
   "id": "615c340e-1581-4728-b957-ae97612c9c62",
   "metadata": {},
   "source": [
    "$\\textbf{Tensors on the CPU and NumPy arrays can share their underlying memory locations, and changing one will change the other.}$"
   ]
  },
  {
   "cell_type": "markdown",
   "id": "792d2fd4-9854-444c-bd19-69c39a9061af",
   "metadata": {},
   "source": [
    "### 1.4.1 Tensor to NumPy array"
   ]
  },
  {
   "cell_type": "code",
   "execution_count": 29,
   "id": "37e56d49-d198-48cf-b179-9e6666afb3b8",
   "metadata": {},
   "outputs": [
    {
     "name": "stdout",
     "output_type": "stream",
     "text": [
      "t: tensor([1., 1., 1., 1., 1.])\n",
      "<class 'torch.Tensor'>\n",
      "n: [1. 1. 1. 1. 1.]\n",
      "<class 'numpy.ndarray'>\n"
     ]
    }
   ],
   "source": [
    "t = torch.ones(5)\n",
    "print(f\"t: {t}\")\n",
    "print(type(t))\n",
    "\n",
    "n = t.numpy()\n",
    "print(f\"n: {n}\")\n",
    "print(type(n))"
   ]
  },
  {
   "cell_type": "markdown",
   "id": "d18b7bcc-fd84-4fab-8331-6e7a9d9e72a2",
   "metadata": {},
   "source": [
    "$\\textbf{A change in the tensor reflects in the NumPy array:}$"
   ]
  },
  {
   "cell_type": "code",
   "execution_count": 30,
   "id": "1c0891ae-9805-4207-b462-d2ab2e1fd6f1",
   "metadata": {},
   "outputs": [
    {
     "name": "stdout",
     "output_type": "stream",
     "text": [
      "t: tensor([2., 2., 2., 2., 2.])\n",
      "n: [2. 2. 2. 2. 2.]\n"
     ]
    }
   ],
   "source": [
    "t.add_(1)\n",
    "print(f\"t: {t}\")\n",
    "print(f\"n: {n}\")"
   ]
  },
  {
   "cell_type": "markdown",
   "id": "e97a030c-4cd9-493b-ae41-165210e8a358",
   "metadata": {},
   "source": [
    "### 1.4.2 NumPy array to Tensor"
   ]
  },
  {
   "cell_type": "code",
   "execution_count": 31,
   "id": "73e082e4-ef44-4820-8a9d-a912d6b87c5b",
   "metadata": {},
   "outputs": [],
   "source": [
    "n = np.ones(5)\n",
    "t = torch.from_numpy(n)"
   ]
  },
  {
   "cell_type": "markdown",
   "id": "a45e373d-8662-4f40-a00f-a19174ee62a9",
   "metadata": {},
   "source": [
    "$\\textbf{Changes in the NumPy array reflects in the tensor.}$"
   ]
  },
  {
   "cell_type": "code",
   "execution_count": 34,
   "id": "a61a7060-8c70-4a91-ac5a-9e7b20b49c97",
   "metadata": {},
   "outputs": [
    {
     "name": "stdout",
     "output_type": "stream",
     "text": [
      "n: [4. 4. 4. 4. 4.]\n",
      "t: tensor([4., 4., 4., 4., 4.], dtype=torch.float64)\n"
     ]
    }
   ],
   "source": [
    "np.add(n, 1, out = n)\n",
    "print(f\"n: {n}\")\n",
    "print(f\"t: {t}\")"
   ]
  },
  {
   "cell_type": "code",
   "execution_count": null,
   "id": "44ec1558-6c43-43d7-952d-dfa17183b427",
   "metadata": {},
   "outputs": [],
   "source": []
  }
 ],
 "metadata": {
  "kernelspec": {
   "display_name": "Python 3",
   "language": "python",
   "name": "python3"
  },
  "language_info": {
   "codemirror_mode": {
    "name": "ipython",
    "version": 3
   },
   "file_extension": ".py",
   "mimetype": "text/x-python",
   "name": "python",
   "nbconvert_exporter": "python",
   "pygments_lexer": "ipython3",
   "version": "3.8.8"
  }
 },
 "nbformat": 4,
 "nbformat_minor": 5
}
