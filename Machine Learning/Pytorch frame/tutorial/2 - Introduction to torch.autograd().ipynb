{
 "cells": [
  {
   "cell_type": "markdown",
   "id": "14e85141-57cc-46f1-873a-fc91cfc270ab",
   "metadata": {},
   "source": [
    "# 2 - A GENTLE INTRODUCTION TO TORCH.AUTOGRAD"
   ]
  },
  {
   "cell_type": "markdown",
   "id": "40c38fd1-a3b5-43ad-a7c7-60fb5b4cbe23",
   "metadata": {},
   "source": [
    "$\\texttt{torch.autograd}$ is PyTorch’s automatic differentiation engine that powers neural network training. In this section, you will get a conceptual understanding of how autograd helps a neural network train."
   ]
  },
  {
   "cell_type": "markdown",
   "id": "a391e044-b0a8-45ae-8cd5-c2d6ab88c1ce",
   "metadata": {},
   "source": [
    "## 2.1 Background"
   ]
  },
  {
   "cell_type": "markdown",
   "id": "a5a097af-501a-41b7-a2fa-6cc9000eaf24",
   "metadata": {},
   "source": [
    "Neural networks (NNs) are a collection of nested functions that are executed on some input data. These functions are defined by parameters (consisting of weights and biases), which in PyTorch are stored in tensors."
   ]
  },
  {
   "cell_type": "markdown",
   "id": "94e40d00-d785-4168-9304-4409d6a979d0",
   "metadata": {},
   "source": [
    "Training a NN happens in two steps:"
   ]
  },
  {
   "cell_type": "markdown",
   "id": "101212a7-da26-4cbf-bae7-4b374bb905f2",
   "metadata": {},
   "source": [
    "$\\textbf{Forward Propagation}$: In forward prop, the NN makes its best guess about the correct output. It runs the input data through each of its functions to make this guess.\n",
    "\n",
    "$\\textbf{Backward Propagation}$: In backprop, the NN adjusts its parameters proportionate to the error in its guess. It does this by traversing backwards from the output, collecting the derivatives of the error with respect to the parameters of the functions (gradients), and optimizing the parameters using gradient descent."
   ]
  },
  {
   "cell_type": "markdown",
   "id": "45c92b65-b0b2-4854-b3e1-66e1281687a4",
   "metadata": {},
   "source": [
    "## 2.2 Usage in PyTorch"
   ]
  },
  {
   "cell_type": "markdown",
   "id": "d2997a4c-161c-45b3-b159-6f0b57cd0b27",
   "metadata": {},
   "source": [
    "Let’s take a look at a single training step. For this example, we load a pretrained resnet18 model from $\\texttt{torchvision}$. We create a random data tensor to represent a single image with 3 channels, and height & width of 64, and its corresponding $\\texttt{label}$ initialized to some random values. Label in pretrained models has shape (1,1000)."
   ]
  },
  {
   "cell_type": "code",
   "execution_count": 1,
   "id": "ace9e583-e139-4e5e-9e9e-a262dc191f04",
   "metadata": {},
   "outputs": [
    {
     "name": "stderr",
     "output_type": "stream",
     "text": [
      "Downloading: \"https://download.pytorch.org/models/resnet18-f37072fd.pth\" to C:\\Users\\Acer~/.cache\\torch\\hub\\checkpoints\\resnet18-f37072fd.pth\n",
      "100%|█████████████████████████████████████████████████████████████████████████████| 44.7M/44.7M [00:35<00:00, 1.31MB/s]\n"
     ]
    }
   ],
   "source": [
    "import torch\n",
    "from torchvision.models import resnet18, ResNet18_Weights\n",
    "model = resnet18(weights=ResNet18_Weights.DEFAULT)\n",
    "data = torch.rand(1, 3, 64, 64)\n",
    "labels = torch.rand(1, 1000)"
   ]
  },
  {
   "cell_type": "markdown",
   "id": "84d05301-a1d5-4841-8b38-366a3f36a797",
   "metadata": {},
   "source": [
    "Next, we run the input data through the model through each of its layers to make a prediction. This is the $\\textbf{forward pass}$."
   ]
  },
  {
   "cell_type": "code",
   "execution_count": 2,
   "id": "7bfbdfda-0364-4816-b46f-0d8d1e622379",
   "metadata": {},
   "outputs": [],
   "source": [
    "prediction = model(data) # forward pass"
   ]
  },
  {
   "cell_type": "markdown",
   "id": "52745f6b-b589-4668-a5a4-0ab8926b5ca3",
   "metadata": {},
   "source": [
    "We use the model’s prediction and the corresponding label to calculate the error ($\\texttt{loss}$). The next step is to backpropagate this error through the network. Backward propagation is kicked off when we call $\\texttt{.backward}$() on the error tensor. Autograd then calculates and stores the gradients for each model parameter in the parameter’s $\\texttt{.grad}$ attribute."
   ]
  },
  {
   "cell_type": "code",
   "execution_count": 3,
   "id": "4796f832-58f5-4fa1-ba0c-5f914428460b",
   "metadata": {},
   "outputs": [],
   "source": [
    "loss = (prediction - labels).sum()\n",
    "loss.backward() # backward pass"
   ]
  },
  {
   "cell_type": "markdown",
   "id": "9ed99e0d-e3b4-4c8a-ac7b-09d01709f48b",
   "metadata": {},
   "source": [
    "Next, we load an optimizer, in this case SGD (Stochastic Gradient Descent) with a learning rate of 0.01 and momentum (https://towardsdatascience.com/stochastic-gradient-descent-with-momentum-a84097641a5d) of 0.9. We register all the parameters of the model in the optimizer."
   ]
  },
  {
   "cell_type": "code",
   "execution_count": 4,
   "id": "4b1e56f6-803b-4723-9922-60d7c009cbba",
   "metadata": {},
   "outputs": [],
   "source": [
    "optim = torch.optim.SGD(model.parameters(), lr=1e-2, momentum=0.9)"
   ]
  },
  {
   "cell_type": "markdown",
   "id": "cfdc0a07-7570-480f-b043-ea8bd6748135",
   "metadata": {},
   "source": [
    "Finally, we call $\\texttt{.step()}$ to initiate gradient descent. The optimizer adjusts each parameter by its gradient stored in $\\texttt{.grad}$."
   ]
  },
  {
   "cell_type": "code",
   "execution_count": 5,
   "id": "20666e85-612c-4c1c-9bdb-a6035e924e6d",
   "metadata": {},
   "outputs": [],
   "source": [
    "optim.step() #gradient descent"
   ]
  },
  {
   "cell_type": "markdown",
   "id": "f5e227d3-717c-4b53-b6f7-643704db5753",
   "metadata": {},
   "source": [
    "At this point, you have everything you need to train your neural network. For more detalis about how autograd work visit the final sections of https://pytorch.org/tutorials/beginner/blitz/autograd_tutorial.html"
   ]
  },
  {
   "cell_type": "code",
   "execution_count": null,
   "id": "3ea6be27-f41e-4768-95c1-84c818ee2697",
   "metadata": {},
   "outputs": [],
   "source": []
  }
 ],
 "metadata": {
  "kernelspec": {
   "display_name": "Python 3",
   "language": "python",
   "name": "python3"
  },
  "language_info": {
   "codemirror_mode": {
    "name": "ipython",
    "version": 3
   },
   "file_extension": ".py",
   "mimetype": "text/x-python",
   "name": "python",
   "nbconvert_exporter": "python",
   "pygments_lexer": "ipython3",
   "version": "3.8.8"
  }
 },
 "nbformat": 4,
 "nbformat_minor": 5
}
