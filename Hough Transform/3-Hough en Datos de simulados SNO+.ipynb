{
 "cells": [
  {
   "cell_type": "markdown",
   "id": "139823b7-dbd5-419e-9a03-810b5dde59be",
   "metadata": {},
   "source": [
    "# 3 - Hough Transform en Datos Simulados con Ruido\n",
    "\n",
    "Los datos son electron point like, generados en el centro del detector con direcion -z e de energia 10MeV"
   ]
  },
  {
   "cell_type": "code",
   "execution_count": 1,
   "id": "5c08cd13-6e98-4b6f-aca3-1b5861a99b38",
   "metadata": {},
   "outputs": [],
   "source": [
    "from analysis_simulation import Analysis_simulation, magnitude\n",
    "from modulus_simplification import GetPMTCoord\n",
    "\n",
    "import uproot\n",
    "\n",
    "import matplotlib.pyplot as plt\n",
    "from mpl_toolkits import mplot3d\n",
    "from mpl_toolkits.mplot3d import Axes3D\n",
    "from matplotlib import cm\n",
    "import seaborn as sn\n",
    "from tqdm import tqdm\n",
    "from matplotlib import style\n",
    "\n",
    "import numpy as np\n",
    "from numpy import array, where, shape, reshape, pi, cos, sin, sqrt, linspace\n",
    "np.set_printoptions(threshold=1000)\n",
    "\n",
    "from skimage.transform import hough_ellipse\n",
    "from skimage.draw import ellipse_perimeter"
   ]
  },
  {
   "cell_type": "markdown",
   "id": "44069d33-f38a-456b-8c80-ef54cba55429",
   "metadata": {},
   "source": [
    "## 3.1 - Data Loading"
   ]
  },
  {
   "cell_type": "code",
   "execution_count": 2,
   "id": "d063945e-a7f4-4bb4-9795-4784ce591659",
   "metadata": {},
   "outputs": [],
   "source": [
    "file = uproot.open(\"/snoplus simulations/electron bulk/center point/simu_Analysis_elec_z_10MeV.root\")"
   ]
  },
  {
   "cell_type": "code",
   "execution_count": 3,
   "id": "c8fab4a5-143f-4f6b-84b3-c474ffa27e99",
   "metadata": {},
   "outputs": [
    {
     "data": {
      "text/plain": [
       "['T;1', 'pmt;2', 'pmt;1']"
      ]
     },
     "execution_count": 3,
     "metadata": {},
     "output_type": "execute_result"
    }
   ],
   "source": [
    "file.keys()"
   ]
  },
  {
   "cell_type": "code",
   "execution_count": 4,
   "id": "09325e97-a7e4-4796-be76-4343806f6819",
   "metadata": {
    "scrolled": true
   },
   "outputs": [
    {
     "data": {
      "text/html": [
       "<div>\n",
       "<style scoped>\n",
       "    .dataframe tbody tr th:only-of-type {\n",
       "        vertical-align: middle;\n",
       "    }\n",
       "\n",
       "    .dataframe tbody tr th {\n",
       "        vertical-align: top;\n",
       "    }\n",
       "\n",
       "    .dataframe thead th {\n",
       "        text-align: right;\n",
       "    }\n",
       "</style>\n",
       "<table border=\"1\" class=\"dataframe\">\n",
       "  <thead>\n",
       "    <tr style=\"text-align: right;\">\n",
       "      <th></th>\n",
       "      <th>eventID</th>\n",
       "      <th>hitpmt ID</th>\n",
       "      <th>hit type</th>\n",
       "      <th>time residual</th>\n",
       "      <th>mc coordinates</th>\n",
       "      <th>mc radius</th>\n",
       "      <th>reconst radius</th>\n",
       "      <th>reconst error</th>\n",
       "      <th>hitpmt ID hit 1</th>\n",
       "      <th>hitpmt ID hit 2</th>\n",
       "      <th>time residual hit 1</th>\n",
       "      <th>time residual hit 2</th>\n",
       "      <th>xyz hit 1</th>\n",
       "      <th>spherical hit 1</th>\n",
       "      <th>xyz hit 2</th>\n",
       "      <th>spherical hit 2</th>\n",
       "    </tr>\n",
       "  </thead>\n",
       "  <tbody>\n",
       "    <tr>\n",
       "      <th>0</th>\n",
       "      <td>0</td>\n",
       "      <td>[8977, 8612, 345, 130, 2611, 9304, 7699, 9406,...</td>\n",
       "      <td>[0, 0, 1, 1, 1, 1, 1, 1, 1, 1, 1, 1, 1, 1, 1, ...</td>\n",
       "      <td>[-10262.855285398655, -103.41211156190079, 3.8...</td>\n",
       "      <td>[0.0, 0.0, 0.0]</td>\n",
       "      <td>0.0</td>\n",
       "      <td>185.545119</td>\n",
       "      <td>185.545119</td>\n",
       "      <td>[345, 130, 2611, 9304, 7699, 9406, 6731, 286, ...</td>\n",
       "      <td>[5174, 1098, 7356, 1129, 5239, 3393, 1554, 782...</td>\n",
       "      <td>[3.869806997546192, 2.270226627645343, 5.56628...</td>\n",
       "      <td>[2.4794606286397993, 4.829957529245803, 3.2249...</td>\n",
       "      <td>[[[6668.18, 1782.97, -4799.28], [7049.55, 1754...</td>\n",
       "      <td>[[[2.1783626255075417, 0.2612727316361346, 840...</td>\n",
       "      <td>[[[5272.759999999999, 922.26, -6502.7599999999...</td>\n",
       "      <td>[[[2.4528887196313756, 0.17315862440897745, 84...</td>\n",
       "    </tr>\n",
       "    <tr>\n",
       "      <th>1</th>\n",
       "      <td>2</td>\n",
       "      <td>[2124, 4725, 8343, 4831, 8080, 559, 1072, 7764...</td>\n",
       "      <td>[1, 1, 1, 1, 1, 1, 1, 1, 1, 1, 1, 1, 1, 1, 1, ...</td>\n",
       "      <td>[13.159421608678315, 2.531283321579764, 19.853...</td>\n",
       "      <td>[0.0, 0.0, 0.0]</td>\n",
       "      <td>0.0</td>\n",
       "      <td>129.920578</td>\n",
       "      <td>129.920578</td>\n",
       "      <td>[2124, 4725, 8343, 4831, 8080, 559, 1072, 7764...</td>\n",
       "      <td>[1937, 8265, 4771, 1616, 5995, 9418, 1592, 211...</td>\n",
       "      <td>[13.159421608678315, 2.531283321579764, 19.853...</td>\n",
       "      <td>[2.177199566410337, 1.5682771433617404, 3.0151...</td>\n",
       "      <td>[[[8179.28, 1654.9299999999998, 1018.400000000...</td>\n",
       "      <td>[[[1.4493599942093995, 0.19963684914228993, 84...</td>\n",
       "      <td>[[[5615.16, 266.8, -6251.09], [5762.7300000000...</td>\n",
       "      <td>[[[2.409174192144538, 0.04747852161922757, 840...</td>\n",
       "    </tr>\n",
       "    <tr>\n",
       "      <th>2</th>\n",
       "      <td>3</td>\n",
       "      <td>[314, 5809, 3348, 3765, 4638, 6207, 2908, 5616...</td>\n",
       "      <td>[2, 1, 1, 1, 1, 1, 1, 1, 1, 1, 1, 1, 1, 1, 1, ...</td>\n",
       "      <td>[0.8496730137599968, 5.220689772135614, 2.0454...</td>\n",
       "      <td>[0.0, 0.0, 0.0]</td>\n",
       "      <td>0.0</td>\n",
       "      <td>231.633386</td>\n",
       "      <td>231.633386</td>\n",
       "      <td>[5809, 3348, 3765, 4638, 6207, 2908, 5616, 928...</td>\n",
       "      <td>[314, 6002, 2056, 2592, 8291, 2832, 4178, 2619...</td>\n",
       "      <td>[5.220689772135614, 2.045420372057208, 3.18573...</td>\n",
       "      <td>[0.8496730137599968, 2.2756390845492263, 4.121...</td>\n",
       "      <td>[[[6568.8, 2134.37, -4807.94], [7388.03, 2866....</td>\n",
       "      <td>[[[2.1789075611188267, 0.3141644289285388, 841...</td>\n",
       "      <td>[[[5467.54, 63.440000000000005, -6406.26999999...</td>\n",
       "      <td>[[[2.435056023684957, 0.01160250373120548, 842...</td>\n",
       "    </tr>\n",
       "    <tr>\n",
       "      <th>3</th>\n",
       "      <td>4</td>\n",
       "      <td>[8173, 4172, 5496, 7703, 3135, 2, 5489, 1163, ...</td>\n",
       "      <td>[2, 1, 1, 1, 1, 1, 1, 1, 1, 1, 1, 1, 1, 1, 1, ...</td>\n",
       "      <td>[-93.43472440002114, 1.0648843778353125, 1.182...</td>\n",
       "      <td>[0.0, 0.0, 0.0]</td>\n",
       "      <td>0.0</td>\n",
       "      <td>258.310677</td>\n",
       "      <td>258.310677</td>\n",
       "      <td>[4172, 5496, 7703, 3135, 2, 5489, 1163, 3725, ...</td>\n",
       "      <td>[8173, 9379, 5726, 6976, 4455, 5720, 6342, 223...</td>\n",
       "      <td>[1.0648843778353125, 1.1827966532061396, 2.629...</td>\n",
       "      <td>[-93.43472440002114, 24.229577339077196, 3.387...</td>\n",
       "      <td>[[[5615.16, 266.8, -6251.09], [7085.14, 2457.3...</td>\n",
       "      <td>[[[2.409174192144538, 0.04747852161922757, 840...</td>\n",
       "      <td>[[[5467.54, 63.440000000000005, -6406.26999999...</td>\n",
       "      <td>[[[2.435056023684957, 0.01160250373120548, 842...</td>\n",
       "    </tr>\n",
       "  </tbody>\n",
       "</table>\n",
       "</div>"
      ],
      "text/plain": [
       "   eventID                                          hitpmt ID  \\\n",
       "0        0  [8977, 8612, 345, 130, 2611, 9304, 7699, 9406,...   \n",
       "1        2  [2124, 4725, 8343, 4831, 8080, 559, 1072, 7764...   \n",
       "2        3  [314, 5809, 3348, 3765, 4638, 6207, 2908, 5616...   \n",
       "3        4  [8173, 4172, 5496, 7703, 3135, 2, 5489, 1163, ...   \n",
       "\n",
       "                                            hit type  \\\n",
       "0  [0, 0, 1, 1, 1, 1, 1, 1, 1, 1, 1, 1, 1, 1, 1, ...   \n",
       "1  [1, 1, 1, 1, 1, 1, 1, 1, 1, 1, 1, 1, 1, 1, 1, ...   \n",
       "2  [2, 1, 1, 1, 1, 1, 1, 1, 1, 1, 1, 1, 1, 1, 1, ...   \n",
       "3  [2, 1, 1, 1, 1, 1, 1, 1, 1, 1, 1, 1, 1, 1, 1, ...   \n",
       "\n",
       "                                       time residual   mc coordinates  \\\n",
       "0  [-10262.855285398655, -103.41211156190079, 3.8...  [0.0, 0.0, 0.0]   \n",
       "1  [13.159421608678315, 2.531283321579764, 19.853...  [0.0, 0.0, 0.0]   \n",
       "2  [0.8496730137599968, 5.220689772135614, 2.0454...  [0.0, 0.0, 0.0]   \n",
       "3  [-93.43472440002114, 1.0648843778353125, 1.182...  [0.0, 0.0, 0.0]   \n",
       "\n",
       "   mc radius  reconst radius  reconst error  \\\n",
       "0        0.0      185.545119     185.545119   \n",
       "1        0.0      129.920578     129.920578   \n",
       "2        0.0      231.633386     231.633386   \n",
       "3        0.0      258.310677     258.310677   \n",
       "\n",
       "                                     hitpmt ID hit 1  \\\n",
       "0  [345, 130, 2611, 9304, 7699, 9406, 6731, 286, ...   \n",
       "1  [2124, 4725, 8343, 4831, 8080, 559, 1072, 7764...   \n",
       "2  [5809, 3348, 3765, 4638, 6207, 2908, 5616, 928...   \n",
       "3  [4172, 5496, 7703, 3135, 2, 5489, 1163, 3725, ...   \n",
       "\n",
       "                                     hitpmt ID hit 2  \\\n",
       "0  [5174, 1098, 7356, 1129, 5239, 3393, 1554, 782...   \n",
       "1  [1937, 8265, 4771, 1616, 5995, 9418, 1592, 211...   \n",
       "2  [314, 6002, 2056, 2592, 8291, 2832, 4178, 2619...   \n",
       "3  [8173, 9379, 5726, 6976, 4455, 5720, 6342, 223...   \n",
       "\n",
       "                                 time residual hit 1  \\\n",
       "0  [3.869806997546192, 2.270226627645343, 5.56628...   \n",
       "1  [13.159421608678315, 2.531283321579764, 19.853...   \n",
       "2  [5.220689772135614, 2.045420372057208, 3.18573...   \n",
       "3  [1.0648843778353125, 1.1827966532061396, 2.629...   \n",
       "\n",
       "                                 time residual hit 2  \\\n",
       "0  [2.4794606286397993, 4.829957529245803, 3.2249...   \n",
       "1  [2.177199566410337, 1.5682771433617404, 3.0151...   \n",
       "2  [0.8496730137599968, 2.2756390845492263, 4.121...   \n",
       "3  [-93.43472440002114, 24.229577339077196, 3.387...   \n",
       "\n",
       "                                           xyz hit 1  \\\n",
       "0  [[[6668.18, 1782.97, -4799.28], [7049.55, 1754...   \n",
       "1  [[[8179.28, 1654.9299999999998, 1018.400000000...   \n",
       "2  [[[6568.8, 2134.37, -4807.94], [7388.03, 2866....   \n",
       "3  [[[5615.16, 266.8, -6251.09], [7085.14, 2457.3...   \n",
       "\n",
       "                                     spherical hit 1  \\\n",
       "0  [[[2.1783626255075417, 0.2612727316361346, 840...   \n",
       "1  [[[1.4493599942093995, 0.19963684914228993, 84...   \n",
       "2  [[[2.1789075611188267, 0.3141644289285388, 841...   \n",
       "3  [[[2.409174192144538, 0.04747852161922757, 840...   \n",
       "\n",
       "                                           xyz hit 2  \\\n",
       "0  [[[5272.759999999999, 922.26, -6502.7599999999...   \n",
       "1  [[[5615.16, 266.8, -6251.09], [5762.7300000000...   \n",
       "2  [[[5467.54, 63.440000000000005, -6406.26999999...   \n",
       "3  [[[5467.54, 63.440000000000005, -6406.26999999...   \n",
       "\n",
       "                                     spherical hit 2  \n",
       "0  [[[2.4528887196313756, 0.17315862440897745, 84...  \n",
       "1  [[[2.409174192144538, 0.04747852161922757, 840...  \n",
       "2  [[[2.435056023684957, 0.01160250373120548, 842...  \n",
       "3  [[[2.435056023684957, 0.01160250373120548, 842...  "
      ]
     },
     "execution_count": 4,
     "metadata": {},
     "output_type": "execute_result"
    }
   ],
   "source": [
    "df = Analysis_simulation(file, [0,2,3,4])\n",
    "df.head()"
   ]
  },
  {
   "cell_type": "markdown",
   "id": "2335a980-3035-4989-925d-82bbf241c881",
   "metadata": {},
   "source": [
    "------------------------------"
   ]
  },
  {
   "cell_type": "code",
   "execution_count": 13,
   "id": "69db4f02-c937-4cbe-be0e-56e64bca176b",
   "metadata": {},
   "outputs": [],
   "source": [
    "# extract the xyz_hit_coordinantes_type1 and time_residuals of ev_id = ?\n",
    "ID = 0\n",
    "evt_id_n = df.loc[df['eventID'] == ID]\n",
    "\n",
    "time_residual_1 = (evt_id_n['time residual hit 1']).to_numpy()[0]\n",
    "xyz_hit_1 = (evt_id_n['xyz hit 1']).to_numpy()[0][0]\n",
    "\n",
    "pmt_id_hit = (evt_id_n['hitpmt ID']).to_numpy()[0]"
   ]
  },
  {
   "cell_type": "code",
   "execution_count": 14,
   "id": "14179b0e-763a-4e47-a608-900e09acd7a6",
   "metadata": {},
   "outputs": [],
   "source": [
    "#Compute cos(angle)\n",
    "vec_ev = np.array([0.0, 0.0, -1.0])\n",
    "cos_angle = np.array([])\n",
    "\n",
    "N = shape(xyz_hit_1)[0] \n",
    "for i in range(N):\n",
    "    cos_val = np.dot(xyz_hit_1[i],vec_ev)/np.linalg.norm(xyz_hit_1[i])\n",
    "    cos_angle = np.append(cos_angle, cos_val)"
   ]
  },
  {
   "cell_type": "code",
   "execution_count": 15,
   "id": "f8eb0842-c611-4824-b633-76c89946c915",
   "metadata": {},
   "outputs": [
    {
     "data": {
      "text/plain": [
       "126"
      ]
     },
     "execution_count": 15,
     "metadata": {},
     "output_type": "execute_result"
    }
   ],
   "source": [
    "len(time_residual_1)"
   ]
  },
  {
   "cell_type": "markdown",
   "id": "61cd4a66-cc98-4514-9831-4fdbea301eb4",
   "metadata": {},
   "source": [
    "Innecesario! solo quiero el hit type 1, que ya esta en el analisis de la simulacion!"
   ]
  },
  {
   "cell_type": "code",
   "execution_count": null,
   "id": "931a5868-7d04-4ce5-bc30-fe8059982688",
   "metadata": {},
   "outputs": [],
   "source": []
  },
  {
   "cell_type": "code",
   "execution_count": 16,
   "id": "dae407b6-9718-484f-a3c5-7dbfa565e420",
   "metadata": {
    "scrolled": true
   },
   "outputs": [
    {
     "data": {
      "text/html": [
       "<div>\n",
       "<style scoped>\n",
       "    .dataframe tbody tr th:only-of-type {\n",
       "        vertical-align: middle;\n",
       "    }\n",
       "\n",
       "    .dataframe tbody tr th {\n",
       "        vertical-align: top;\n",
       "    }\n",
       "\n",
       "    .dataframe thead th {\n",
       "        text-align: right;\n",
       "    }\n",
       "</style>\n",
       "<table border=\"1\" class=\"dataframe\">\n",
       "  <thead>\n",
       "    <tr style=\"text-align: right;\">\n",
       "      <th></th>\n",
       "      <th>x</th>\n",
       "      <th>y</th>\n",
       "      <th>z</th>\n",
       "      <th>zenit</th>\n",
       "      <th>azimut</th>\n",
       "      <th>rad</th>\n",
       "    </tr>\n",
       "  </thead>\n",
       "  <tbody>\n",
       "    <tr>\n",
       "      <th>0</th>\n",
       "      <td>5272.76</td>\n",
       "      <td>922.26</td>\n",
       "      <td>-6502.76</td>\n",
       "      <td>2.452889</td>\n",
       "      <td>0.173159</td>\n",
       "      <td>8422.496610</td>\n",
       "    </tr>\n",
       "    <tr>\n",
       "      <th>1</th>\n",
       "      <td>6773.45</td>\n",
       "      <td>1974.38</td>\n",
       "      <td>-4600.32</td>\n",
       "      <td>2.148600</td>\n",
       "      <td>0.283630</td>\n",
       "      <td>8422.632925</td>\n",
       "    </tr>\n",
       "    <tr>\n",
       "      <th>2</th>\n",
       "      <td>6668.18</td>\n",
       "      <td>1782.97</td>\n",
       "      <td>-4799.28</td>\n",
       "      <td>2.178363</td>\n",
       "      <td>0.261273</td>\n",
       "      <td>8406.943264</td>\n",
       "    </tr>\n",
       "    <tr>\n",
       "      <th>3</th>\n",
       "      <td>6817.22</td>\n",
       "      <td>1212.37</td>\n",
       "      <td>-4767.84</td>\n",
       "      <td>2.173815</td>\n",
       "      <td>0.175999</td>\n",
       "      <td>8406.939265</td>\n",
       "    </tr>\n",
       "    <tr>\n",
       "      <th>4</th>\n",
       "      <td>6712.07</td>\n",
       "      <td>1021.37</td>\n",
       "      <td>-4966.88</td>\n",
       "      <td>2.202398</td>\n",
       "      <td>0.151011</td>\n",
       "      <td>8412.192181</td>\n",
       "    </tr>\n",
       "  </tbody>\n",
       "</table>\n",
       "</div>"
      ],
      "text/plain": [
       "         x        y        z     zenit    azimut          rad\n",
       "0  5272.76   922.26 -6502.76  2.452889  0.173159  8422.496610\n",
       "1  6773.45  1974.38 -4600.32  2.148600  0.283630  8422.632925\n",
       "2  6668.18  1782.97 -4799.28  2.178363  0.261273  8406.943264\n",
       "3  6817.22  1212.37 -4767.84  2.173815  0.175999  8406.939265\n",
       "4  6712.07  1021.37 -4966.88  2.202398  0.151011  8412.192181"
      ]
     },
     "execution_count": 16,
     "metadata": {},
     "output_type": "execute_result"
    }
   ],
   "source": [
    "pmt_hit_1_coord = GetPMTCoord(file, pmt_id_hit_1)\n",
    "pmt_hit_1_coord.head()"
   ]
  },
  {
   "cell_type": "markdown",
   "id": "057f4e44-285e-4fea-abf5-1005e28f0665",
   "metadata": {},
   "source": [
    "------------------------------"
   ]
  },
  {
   "cell_type": "markdown",
   "id": "d643f2be-a3cd-4572-a41b-0e7f28bba587",
   "metadata": {},
   "source": [
    "## 3.2 Time Residual Cuts"
   ]
  },
  {
   "cell_type": "code",
   "execution_count": 63,
   "id": "0c4915b8-1935-400c-9a6a-d28776cfc5da",
   "metadata": {},
   "outputs": [],
   "source": [
    "inf_cut = -5\n",
    "up_cut = 15\n",
    "\n",
    "time_residual_1_cut = np.array([]) \n",
    "xyz_hit_cut = np.array([])\n",
    "cos_angle_cut = np.array([])                                  \n",
    "\n",
    "#cuts\n",
    "for i in np.where((np.array(time_residual_1) > inf_cut) & (np.array(time_residual_1) < up_cut))[0]:\n",
    "    time_residual_1_cut = np.append(time_residual_1_cut, time_residual_1[i])\n",
    "    xyz_hit_cut = np.append(xyz_hit_cut, xyz_hit_1[i])\n",
    "    cos_angle_cut = np.append(cos_angle_cut, cos_angle[i])\n",
    "    \n",
    "xyz_hit_cut = xyz_hit_cut.reshape(-1,3)"
   ]
  },
  {
   "cell_type": "code",
   "execution_count": 64,
   "id": "bcd6a1bf-9c53-486f-b2ea-2da0ec1446a7",
   "metadata": {},
   "outputs": [
    {
     "data": {
      "text/plain": [
       "85"
      ]
     },
     "execution_count": 64,
     "metadata": {},
     "output_type": "execute_result"
    }
   ],
   "source": [
    "len(time_residual_1_cut)"
   ]
  },
  {
   "cell_type": "markdown",
   "id": "8122dbe3-2724-43d1-a5f5-30c555e3a765",
   "metadata": {},
   "source": [
    "### 3.2.1 $\\alpha$ angle and time residual"
   ]
  },
  {
   "cell_type": "code",
   "execution_count": 57,
   "id": "8f7eb39e-0ada-42f2-bb10-f65169baaa39",
   "metadata": {},
   "outputs": [
    {
     "data": {
      "image/png": "[encoded data removed]",
      "text/plain": [
       "<Figure size 800x800 with 2 Axes>"
      ]
     },
     "metadata": {},
     "output_type": "display_data"
    }
   ],
   "source": [
    "title = 'cos(α)(time residual) cut - hit type 1 - evtID = 3 - 10MeV'\n",
    "\n",
    "plt.figure(figsize=(8,8))\n",
    "sn.set_style(rc = {'axes.facecolor': 'black'})\n",
    "sn.histplot(x = cos_angle_cut, y = time_residual_1_cut, bins = [30,30], stat='count', cbar = 'True', cmap = cm.nipy_spectral)\n",
    "plt.ylabel('time res.')\n",
    "plt.xlabel('cos(α)')\n",
    "plt.title(title)\n",
    "\n",
    "#equal acis ration\n",
    "#ax = plt.gca()\n",
    "#ax.set_aspect('equal', adjustable='box')\n",
    "plt.show()"
   ]
  },
  {
   "cell_type": "markdown",
   "id": "b53d0446-58d6-46ac-b281-d61e0f4ad261",
   "metadata": {},
   "source": [
    "### 3.2.2 xyz hit distribution"
   ]
  },
  {
   "cell_type": "code",
   "execution_count": 103,
   "id": "0f39edfe-dacf-4818-b7f7-7fbf0e8d70bb",
   "metadata": {},
   "outputs": [
    {
     "data": {
      "image/png": "[encoded data removed]",
      "text/plain": [
       "<Figure size 800x800 with 2 Axes>"
      ]
     },
     "metadata": {},
     "output_type": "display_data"
    }
   ],
   "source": [
    "x_cut = xyz_hit_cut[:,0]\n",
    "y_cut = xyz_hit_cut[:,1]\n",
    "z_cut = xyz_hit_cut[:,2]\n",
    "\n",
    "title = 'xy hits cut - hit type 1 - evtID = 3 - 10MeV'\n",
    "\n",
    "plt.figure(figsize=(8,8))\n",
    "sn.set_style(rc = {'axes.facecolor': 'black'})\n",
    "sn.histplot(x = x_cut, y = y_cut, bins = [30,30], stat='count', cbar = 'True', cmap = cm.nipy_spectral)\n",
    "plt.ylabel('pmt_y')\n",
    "plt.xlabel('pmt_x')\n",
    "plt.title(title)\n",
    "\n",
    "#equal acis ration\n",
    "#ax = plt.gca()\n",
    "#ax.set_aspect('equal', adjustable='box')\n",
    "plt.show()"
   ]
  },
  {
   "cell_type": "markdown",
   "id": "3a5c7899-b1e3-4e74-bb75-428871492907",
   "metadata": {},
   "source": [
    "## 3.2 Hough Transform with time cuts"
   ]
  },
  {
   "cell_type": "code",
   "execution_count": 104,
   "id": "565c69fc-3a7c-40d5-a859-f6a398ad2742",
   "metadata": {},
   "outputs": [
    {
     "data": {
      "text/plain": [
       "85"
      ]
     },
     "execution_count": 104,
     "metadata": {},
     "output_type": "execute_result"
    }
   ],
   "source": [
    "len(x_cut)"
   ]
  },
  {
   "cell_type": "code",
   "execution_count": 124,
   "id": "66d7aa76-b85a-4431-9e7d-be84beb05d6b",
   "metadata": {},
   "outputs": [
    {
     "data": {
      "text/plain": [
       "<matplotlib.image.AxesImage at 0x2246aabb380>"
      ]
     },
     "execution_count": 124,
     "metadata": {},
     "output_type": "execute_result"
    },
    {
     "data": {
      "image/png": "[encoded data removed]",
      "text/plain": [
       "<Figure size 640x480 with 1 Axes>"
      ]
     },
     "metadata": {},
     "output_type": "display_data"
    }
   ],
   "source": [
    "bins = 15\n",
    "imag_xyz, _, _ = np.histogram2d(x = x_cut, y = y_cut, bins = [bins, bins])\n",
    "plt.imshow(imag_xyz)"
   ]
  },
  {
   "cell_type": "code",
   "execution_count": 125,
   "id": "d47e2908-66b2-44fa-a3f4-bc348363cdda",
   "metadata": {},
   "outputs": [],
   "source": [
    "result_xyz = hough_ellipse(imag_xyz, accuracy = 0.5, threshold = 4)"
   ]
  },
  {
   "cell_type": "code",
   "execution_count": 126,
   "id": "27643c34-4b45-49f1-a236-a4f280649a26",
   "metadata": {},
   "outputs": [
    {
     "data": {
      "text/plain": [
       "[8, 7.5, 7.5, 5.70087712549569, 5.70087712549569, 2.480549484739106]"
      ]
     },
     "execution_count": 126,
     "metadata": {},
     "output_type": "execute_result"
    }
   ],
   "source": [
    "# ordenar por acumulador creciente\n",
    "result_xyz.sort(order = 'accumulator')\n",
    "\n",
    "#mejor acumulador\n",
    "best = list(result_xyz[-1])\n",
    "best"
   ]
  },
  {
   "cell_type": "code",
   "execution_count": 127,
   "id": "11ba5c8f-7a1c-4233-b3ec-e9271e4d867a",
   "metadata": {},
   "outputs": [],
   "source": [
    "#extraer paramentos de elipse\n",
    "yc, xc, a, b = (int(round(x)) for x in best[1:5]) #iterate over best[1:5]\n",
    "orientation = best[5]"
   ]
  },
  {
   "cell_type": "code",
   "execution_count": 128,
   "id": "71f6d454-0363-4b54-a196-04f70148c18f",
   "metadata": {},
   "outputs": [
    {
     "data": {
      "image/png": "[encoded data removed]",
      "text/plain": [
       "<Figure size 640x480 with 1 Axes>"
      ]
     },
     "metadata": {},
     "output_type": "display_data"
    }
   ],
   "source": [
    "# extraer parametros de elipse\n",
    "cy, cx = ellipse_perimeter(yc, xc, a, b, orientation)\n",
    "#cy, cx -> Index of pixels that belong to the ellipse perimeter\n",
    "\n",
    "# Resaltar pixeles en la imagen original de modo a ver la elipse reconstruida\n",
    "imag_xyz[cy,cx] = 5\n",
    "\n",
    "plt.imshow(imag_xyz, cmap = cm.nipy_spectral, aspect = 'auto')\n",
    "plt.show()"
   ]
  },
  {
   "cell_type": "code",
   "execution_count": null,
   "id": "d8e3d66b-44a2-4fca-9bd2-d3349836f15f",
   "metadata": {},
   "outputs": [],
   "source": []
  },
  {
   "cell_type": "code",
   "execution_count": null,
   "id": "2bbe50e7-373d-42d9-90a7-0094f0abd57b",
   "metadata": {},
   "outputs": [],
   "source": []
  }
 ],
 "metadata": {
  "kernelspec": {
   "display_name": "Python 3 (ipykernel)",
   "language": "python",
   "name": "python3"
  },
  "language_info": {
   "codemirror_mode": {
    "name": "ipython",
    "version": 3
   },
   "file_extension": ".py",
   "mimetype": "text/x-python",
   "name": "python",
   "nbconvert_exporter": "python",
   "pygments_lexer": "ipython3",
   "version": "3.12.2"
  }
 },
 "nbformat": 4,
 "nbformat_minor": 5
}
