{
 "cells": [
  {
   "cell_type": "markdown",
   "id": "5a0804a6-a0b6-46d3-9ba0-f3b19c8b442f",
   "metadata": {},
   "source": [
    "# 2 - Hough Transform aplicado a puntos Discretos en una Esfera\n",
    "\n",
    "Generar puntos que dibujen una circunferencia en la superficie de una esfera y despues intentar aplicar la transformada de Hough de modo a recuperar los parametros de esas circunferência."
   ]
  },
  {
   "cell_type": "code",
   "execution_count": 1,
   "id": "489de028-9ebc-40d3-b806-4ff3dc4610c6",
   "metadata": {},
   "outputs": [],
   "source": [
    "import uproot\n",
    "\n",
    "import matplotlib.pyplot as plt\n",
    "from mpl_toolkits import mplot3d\n",
    "from mpl_toolkits.mplot3d import Axes3D\n",
    "from matplotlib import cm\n",
    "import seaborn as sn\n",
    "from tqdm import tqdm\n",
    "from matplotlib import style\n",
    "\n",
    "import numpy as np\n",
    "from numpy import array, where, shape, reshape, pi, cos, sin, sqrt, linspace\n",
    "np.set_printoptions(threshold=1000)\n",
    "\n",
    "from skimage.transform import hough_ellipse\n",
    "from skimage.draw import ellipse_perimeter"
   ]
  },
  {
   "cell_type": "code",
   "execution_count": 2,
   "id": "cc8ddfa5-8ea8-470c-8d8e-342286fd3bca",
   "metadata": {},
   "outputs": [],
   "source": [
    "file = uproot.open(\"/snoplus simulations/py_out1.root\")"
   ]
  },
  {
   "cell_type": "markdown",
   "id": "2d1adeda-a78b-439d-a081-88efa5ba02f8",
   "metadata": {},
   "source": [
    "## 2.1 PMT data base is used as points"
   ]
  },
  {
   "cell_type": "code",
   "execution_count": 3,
   "id": "777d8bc7-03e3-4ae8-a07a-0433ae8ba072",
   "metadata": {},
   "outputs": [
    {
     "data": {
      "text/plain": [
       "['pmt_id', 'pmt_pos_xyz', 'pmt_pos_sph', 'pmt_type']"
      ]
     },
     "execution_count": 3,
     "metadata": {},
     "output_type": "execute_result"
    }
   ],
   "source": [
    "pmt_info = file['pmt;1']\n",
    "pmt_info.keys()"
   ]
  },
  {
   "cell_type": "code",
   "execution_count": 4,
   "id": "3b91d877-47b1-45a8-bba9-79daceec8fa2",
   "metadata": {},
   "outputs": [],
   "source": [
    "pmt_id = array(pmt_info['pmt_id'])\n",
    "pmt_pos_xyz = array(pmt_info['pmt_pos_xyz'])\n",
    "pmt_pos_sph = array(pmt_info['pmt_pos_sph'])\n",
    "pmt_type = array(pmt_info['pmt_type'])"
   ]
  },
  {
   "cell_type": "code",
   "execution_count": 5,
   "id": "ae382fb8-b31e-4dc0-bc34-6c7c36f16429",
   "metadata": {
    "tags": []
   },
   "outputs": [
    {
     "data": {
      "text/plain": [
       "array([[ 2.18627604e+00, -2.35619449e+00,  1.73203349e+05],\n",
       "       [ 2.43505602e+00,  1.16025037e-02,  8.42248856e+03],\n",
       "       [ 2.40917419e+00,  4.74785216e-02,  8.40698104e+03],\n",
       "       ...,\n",
       "       [ 6.54226614e-01, -1.48191511e+00,  9.20079013e+03],\n",
       "       [ 7.32698456e-01, -8.70981952e-01,  9.20131295e+03],\n",
       "       [ 3.22890171e-01, -8.01377433e-01,  9.20467647e+03]])"
      ]
     },
     "execution_count": 5,
     "metadata": {},
     "output_type": "execute_result"
    }
   ],
   "source": [
    "pmt_pos_sph"
   ]
  },
  {
   "cell_type": "code",
   "execution_count": 6,
   "id": "84c9ae1b-60cf-468e-a26a-6593b1c74e2c",
   "metadata": {},
   "outputs": [],
   "source": [
    "#Lets separate their coordinates\n",
    "#xyz:\n",
    "\n",
    "prefix_xyz = 'type_'\n",
    "suffix_xyz = '_xyz'\n",
    "\n",
    "type_var = np.unique(pmt_type)\n",
    "\n",
    "for i in type_var:\n",
    "    condition = (pmt_type == i)\n",
    "    locals()[prefix_xyz + str(i) + suffix_xyz] = []\n",
    "    \n",
    "    for j in (where(condition)[0]):\n",
    "        locals()[prefix_xyz + str(i) + suffix_xyz].append(pmt_pos_xyz[j])\n",
    "    locals()[prefix_xyz + str(i) + suffix_xyz] = np.array(locals()[prefix_xyz + str(i) + suffix_xyz])\n",
    "    \n",
    "#spherical:\n",
    "\n",
    "prefix_sph = 'type_'\n",
    "suffix_sph = '_sph'\n",
    "\n",
    "type_var = np.unique(pmt_type)\n",
    "\n",
    "for i in type_var:\n",
    "    condition = (pmt_type == i)\n",
    "    locals()[prefix_sph + str(i) + suffix_sph] = []\n",
    "    \n",
    "    for j in (where(condition)[0]):\n",
    "        locals()[prefix_sph + str(i) + suffix_sph].append(pmt_pos_sph[j])\n",
    "    locals()[prefix_sph + str(i) + suffix_sph] = np.array(locals()[prefix_sph + str(i) + suffix_sph])"
   ]
  },
  {
   "cell_type": "code",
   "execution_count": 7,
   "id": "9bb67a14-c902-4e31-84e3-70644669cf77",
   "metadata": {},
   "outputs": [],
   "source": [
    "# Choice of PMT 'ring' -> usar grosura de angulo zenital para seleccionar conjuntos de PMTs\n",
    "\n",
    "delta_alpha = 5 #degrees\n",
    "delta_rad = pi*delta_alpha/180 #pass to radians\n",
    "\n",
    "#choose zenith\n",
    "zenit_1 = 3*pi/4\n",
    "zenit_2 = zenit_1 + delta_rad\n",
    "\n",
    "#choose azimuth\n",
    "azimut_1 = -pi/2 \n",
    "azimut_2 =  pi/2\n",
    "\n",
    "sector_xyz = []\n",
    "\n",
    "size = shape(type_1_sph)[0]\n",
    "\n",
    "for i in range(size):\n",
    "    \n",
    "    #cos_azimut = cos(type_1_sph[i][0])\n",
    "    #cos_polar = cos(type_1_sph[i][1])\n",
    "    zenit = type_1_sph[i][0]\n",
    "    azimut = type_1_sph[i][1]\n",
    "    \n",
    "    #choose the sector\n",
    "    if (zenit >= zenit_1 and zenit <= zenit_2):\n",
    "        sector_xyz.append(type_1_xyz[i])\n",
    "        \n",
    "sector_xyz = np.array(sector_xyz)"
   ]
  },
  {
   "cell_type": "code",
   "execution_count": 9,
   "id": "c13c36d5-c01e-4f69-b6ce-3c6c8f9a4170",
   "metadata": {},
   "outputs": [
    {
     "name": "stdout",
     "output_type": "stream",
     "text": [
      "Using matplotlib backend: TkAgg\n"
     ]
    },
    {
     "data": {
      "text/plain": [
       "(-8000.0, 8000.0)"
      ]
     },
     "execution_count": 9,
     "metadata": {},
     "output_type": "execute_result"
    }
   ],
   "source": [
    "%matplotlib\n",
    "fig = plt.figure(figsize = (10,10))\n",
    "ax = plt.axes(projection='3d')\n",
    "ax.grid()\n",
    "\n",
    "\n",
    "x = sector_xyz[:,0]\n",
    "y = sector_xyz[:,1]\n",
    "z = sector_xyz[:,2]\n",
    "\n",
    "ax.scatter(x, y, z, c = 'r', s = 5)\n",
    "\n",
    "ax.set_xlabel('X')\n",
    "ax.set_ylabel('Y')\n",
    "ax.set_zlabel('Z')\n",
    "#ax.legend()\n",
    "\n",
    "ax.axes.set_xlim3d(left=-8000, right=8000) \n",
    "ax.axes.set_ylim3d(bottom=-8000, top=8000) \n",
    "ax.axes.set_zlim3d(bottom=-8000, top=8000)"
   ]
  },
  {
   "cell_type": "markdown",
   "id": "b7f01ae4-3140-47cf-b49e-a0f0d1a7ffcd",
   "metadata": {},
   "source": [
    "### Now, rotate the data by a rotation matrix $R_x(\\theta)$"
   ]
  },
  {
   "cell_type": "code",
   "execution_count": 10,
   "id": "ea9a59ea-283d-4d21-bbb9-4d2a5fcc901b",
   "metadata": {},
   "outputs": [],
   "source": [
    "# Rotations matrix around x axis\n",
    "\n",
    "theta = pi*45/180 #45 degree rotation to radian\n",
    "R_x = np.array([[1, 0, 0], \n",
    "              [0, cos(theta), -sin(theta)], \n",
    "              [ 0, sin(theta), cos(theta)]])\n",
    "\n",
    "rot_data_xyz = []\n",
    "\n",
    "size = sector_xyz.shape[0]\n",
    "\n",
    "for i in range(size):\n",
    "    point = sector_xyz[i,:]\n",
    "    rot_point = np.dot(point, R_x)\n",
    "    rot_data_xyz.append(rot_point)\n",
    "    \n",
    "rot_data_xyz = np.array(rot_data_xyz)"
   ]
  },
  {
   "cell_type": "markdown",
   "id": "39b0be0c-f2db-4dcf-b184-b4e935331496",
   "metadata": {},
   "source": [
    "### 2.3 Representation in xyz coordinates"
   ]
  },
  {
   "cell_type": "code",
   "execution_count": 11,
   "id": "6dfd7794-221d-440b-9bf1-daf03deb4589",
   "metadata": {
    "tags": []
   },
   "outputs": [
    {
     "data": {
      "text/plain": [
       "(-8000.0, 8000.0)"
      ]
     },
     "execution_count": 11,
     "metadata": {},
     "output_type": "execute_result"
    }
   ],
   "source": [
    "sn.set_style(rc = {'axes.facecolor': 'white'})\n",
    "fig = plt.figure(figsize = (10,10))\n",
    "ax = plt.axes(projection='3d')\n",
    "ax.grid()\n",
    "\n",
    "x_rot = rot_data_xyz[:,0]\n",
    "y_rot = rot_data_xyz[:,1]\n",
    "z_rot = rot_data_xyz[:,2]\n",
    "\n",
    "ax.scatter(x_rot, y_rot, z_rot, c = 'r', s = 5)\n",
    "\n",
    "ax.set_xlabel('X')\n",
    "ax.set_ylabel('Y')\n",
    "ax.set_zlabel('Z')\n",
    "#ax.legend()\n",
    "\n",
    "ax.axes.set_xlim3d(left=-8000, right=8000) \n",
    "ax.axes.set_ylim3d(bottom=-8000, top=8000) \n",
    "ax.axes.set_zlim3d(bottom=-8000, top=8000)"
   ]
  },
  {
   "cell_type": "code",
   "execution_count": 12,
   "id": "8e856a99-7e93-479a-96cc-12844e1bdc46",
   "metadata": {},
   "outputs": [],
   "source": [
    "title = 'xy plane'\n",
    "bins = len(x_rot)\n",
    "\n",
    "plt.figure(figsize=(8,8))\n",
    "sn.set_style(rc = {'axes.facecolor': 'black'})\n",
    "sn.histplot(x = x_rot, y = y_rot, bins = [bins,bins], stat='count', cbar = 'True', cmap = cm.nipy_spectral)\n",
    "plt.ylabel('y_pmt')\n",
    "plt.xlabel('x_pmt')\n",
    "# plt.xlim(-8000,8000)\n",
    "# plt.ylim(-8000,8000)\n",
    "plt.title(title)\n",
    "\n",
    "#equal acis ration\n",
    "ax = plt.gca()\n",
    "ax.set_aspect('equal', adjustable='box')\n",
    "plt.show()"
   ]
  },
  {
   "cell_type": "markdown",
   "id": "9a332bf2-d708-401e-a4b0-7cffd797153e",
   "metadata": {},
   "source": [
    "### 2.4 Representation in spherical coordinates"
   ]
  },
  {
   "cell_type": "markdown",
   "id": "003a4762-923b-4fd1-9d7f-91ce5f2d9bdb",
   "metadata": {},
   "source": [
    "#### Function to pass from Cart. to Sphe."
   ]
  },
  {
   "cell_type": "code",
   "execution_count": 13,
   "id": "ee82f6be-226a-4aff-9ee3-45d2e9619b84",
   "metadata": {},
   "outputs": [],
   "source": [
    "def cart2spher(point_xyz):\n",
    "    \n",
    "    #point_xyz -> array with nx3 entries!\n",
    "    \n",
    "    import math\n",
    "    \n",
    "    x = point_xyz[:,0]\n",
    "    y = point_xyz[:,1]\n",
    "    z = point_xyz[:,2]\n",
    "    \n",
    "\n",
    "    # Calcular la distancia radial\n",
    "    r = np.sqrt(x**2 + y**2 + z**2)\n",
    "    \n",
    "    # Calcular la latitud (theta)\n",
    "    zenit = np.arccos(z / r)\n",
    "    \n",
    "    # Calcular la longitud (phi)\n",
    "    azimut = np.arctan2(y,x) #arctan(y/x)\n",
    "    \n",
    "    return np.transpose(np.array([r, azimut, zenit]))\n"
   ]
  },
  {
   "cell_type": "code",
   "execution_count": 14,
   "id": "7215e287-c8c4-4328-bc59-21a363ba88ae",
   "metadata": {
    "tags": []
   },
   "outputs": [],
   "source": [
    "r = cart2spher(rot_data_xyz)[:,0]\n",
    "azimut_rot = cart2spher(rot_data_xyz)[:,1]\n",
    "zenit_rot = cart2spher(rot_data_xyz)[:,2]"
   ]
  },
  {
   "cell_type": "code",
   "execution_count": 15,
   "id": "6ce60ca8-ba67-4904-b297-325ed75f8fa1",
   "metadata": {},
   "outputs": [
    {
     "name": "stderr",
     "output_type": "stream",
     "text": [
      "<>:1: SyntaxWarning: invalid escape sequence '\\p'\n",
      "<>:1: SyntaxWarning: invalid escape sequence '\\p'\n",
      "C:\\Users\\joanc\\AppData\\Local\\Temp\\ipykernel_23472\\1323377076.py:1: SyntaxWarning: invalid escape sequence '\\p'\n",
      "  title = '$\\phi (\\Theta))$ plane'\n"
     ]
    }
   ],
   "source": [
    "title = '$\\phi (\\Theta))$ plane'\n",
    "bins = 40\n",
    "\n",
    "plt.figure(figsize=(8,8))\n",
    "sn.set_style(rc = {'axes.facecolor': 'black'})\n",
    "sn.histplot(x = (zenit_rot), y = azimut_rot, bins = [bins,bins], stat='count', cmap = cm.nipy_spectral)\n",
    "plt.ylabel('$azimuth$')\n",
    "plt.xlabel('$zenith$')\n",
    "# plt.xlim(-8000,8000)\n",
    "# plt.ylim(-8000,8000)\n",
    "plt.title(title)\n",
    "\n",
    "#equal acis ration\n",
    "# ax = plt.gca()\n",
    "# ax.set_aspect('equal', adjustable='box')\n",
    "plt.show()"
   ]
  },
  {
   "cell_type": "code",
   "execution_count": 526,
   "id": "dd84444a-3147-4bfc-86fd-611e47c8b668",
   "metadata": {},
   "outputs": [],
   "source": [
    "title = '$\\phi (cos(\\Theta))$ plane'\n",
    "bins = 40\n",
    "\n",
    "plt.figure(figsize=(8,8))\n",
    "sn.set_style(rc = {'axes.facecolor': 'black'})\n",
    "sn.histplot(x = np.cos(zenit_rot), y = azimut_rot, bins = [bins,bins], stat='count', cbar = 'True', cmap = cm.nipy_spectral)\n",
    "plt.ylabel('$azimuth$')\n",
    "plt.xlabel('$cos(zenith)$')\n",
    "# plt.xlim(-8000,8000)\n",
    "# plt.ylim(-8000,8000)\n",
    "plt.title(title)\n",
    "\n",
    "#equal acis ration\n",
    "# ax = plt.gca()\n",
    "# ax.set_aspect('equal', adjustable='box')\n",
    "plt.show()"
   ]
  },
  {
   "cell_type": "markdown",
   "id": "d8316881-0417-4d93-9338-20492216cd42",
   "metadata": {},
   "source": [
    "--------------------------------------------\n",
    "\n",
    "#### Check if data is recovered -> YES"
   ]
  },
  {
   "cell_type": "code",
   "execution_count": 16,
   "id": "89499b5d-7669-4692-9481-ac6ed6d1ae35",
   "metadata": {
    "tags": []
   },
   "outputs": [],
   "source": [
    "sphe = cart2spher(rot_data_xyz)[0,:]\n",
    "x = sphe[0]*np.sin(sphe[2])*np.cos(sphe[1])\n",
    "y = sphe[0]*np.sin(sphe[1])*np.sin(sphe[2])\n",
    "z = sphe[0]*np.cos(sphe[2])"
   ]
  },
  {
   "cell_type": "code",
   "execution_count": 21,
   "id": "7d4da6c2-a73d-47d4-9c36-ce134779835c",
   "metadata": {},
   "outputs": [
    {
     "data": {
      "text/plain": [
       "5467.54"
      ]
     },
     "execution_count": 21,
     "metadata": {},
     "output_type": "execute_result"
    }
   ],
   "source": [
    "x "
   ]
  },
  {
   "cell_type": "code",
   "execution_count": 22,
   "id": "d7b77587-d8db-46a9-a2f9-952b2caec706",
   "metadata": {},
   "outputs": [
    {
     "data": {
      "text/plain": [
       "-4485.058104913468"
      ]
     },
     "execution_count": 22,
     "metadata": {},
     "output_type": "execute_result"
    }
   ],
   "source": [
    "y"
   ]
  },
  {
   "cell_type": "code",
   "execution_count": 23,
   "id": "ef7bd166-8a94-4452-b38f-70055ca95b25",
   "metadata": {},
   "outputs": [
    {
     "data": {
      "text/plain": [
       "-4574.775813310417"
      ]
     },
     "execution_count": 23,
     "metadata": {},
     "output_type": "execute_result"
    }
   ],
   "source": [
    "z"
   ]
  },
  {
   "cell_type": "code",
   "execution_count": 24,
   "id": "c5d1601f-9cf6-468f-84f2-aae666e7540b",
   "metadata": {},
   "outputs": [
    {
     "data": {
      "text/plain": [
       "array([ 5467.54      , -4485.05810491, -4574.77581331])"
      ]
     },
     "execution_count": 24,
     "metadata": {},
     "output_type": "execute_result"
    }
   ],
   "source": [
    "rot_data_xyz[0,:]"
   ]
  },
  {
   "cell_type": "markdown",
   "id": "69972a1d-5eb6-44b0-9c52-dd7d79e3b04f",
   "metadata": {},
   "source": [
    "-------------------------------------"
   ]
  },
  {
   "cell_type": "markdown",
   "id": "80bfeed1-6bcd-4112-bb7e-639c33b64ad5",
   "metadata": {},
   "source": [
    "## 2.5 Extraer pixeles"
   ]
  },
  {
   "cell_type": "code",
   "execution_count": 17,
   "id": "dca32bd8-07d3-48d6-87d9-55aa7f766ba4",
   "metadata": {},
   "outputs": [],
   "source": [
    "title = 'xy plane'\n",
    "bins = 41\n",
    "\n",
    "plt.figure(figsize=(8,8))\n",
    "sn.set_style(rc = {'axes.facecolor': 'black'})\n",
    "#imag contiene la imagen\n",
    "imag_xyz, xbin, ybin, im = plt.hist2d(x = x_rot, y = y_rot, bins = [bins,bins],  cmap = cm.nipy_spectral) \n",
    "plt.ylabel('y_pmt')\n",
    "plt.xlabel('x_pmt')\n",
    "# plt.xlim(-8000,8000)\n",
    "# plt.ylim(-8000,8000)\n",
    "plt.title(title)\n",
    "\n",
    "#equal acis ration\n",
    "ax = plt.gca()\n",
    "ax.set_aspect('equal', adjustable='box')\n",
    "plt.show()"
   ]
  },
  {
   "cell_type": "code",
   "execution_count": 18,
   "id": "8006a3e7-5ea4-4a8f-8c0b-4b450b3b501b",
   "metadata": {},
   "outputs": [
    {
     "data": {
      "text/plain": [
       "<matplotlib.image.AxesImage at 0x29bbf36a120>"
      ]
     },
     "execution_count": 18,
     "metadata": {},
     "output_type": "execute_result"
    }
   ],
   "source": [
    "plt.imshow(imag_xyz)"
   ]
  },
  {
   "cell_type": "code",
   "execution_count": 58,
   "id": "778f628e-bc7a-434c-9dea-2e144ec31e5e",
   "metadata": {},
   "outputs": [
    {
     "name": "stderr",
     "output_type": "stream",
     "text": [
      "<>:1: SyntaxWarning: invalid escape sequence '\\p'\n",
      "<>:1: SyntaxWarning: invalid escape sequence '\\p'\n",
      "C:\\Users\\joanc\\AppData\\Local\\Temp\\ipykernel_23472\\1171037903.py:1: SyntaxWarning: invalid escape sequence '\\p'\n",
      "  title = '$\\phi (\\Theta)$ plane'\n"
     ]
    }
   ],
   "source": [
    "title = '$\\phi (\\Theta)$ plane'\n",
    "bins = 50\n",
    "\n",
    "plt.figure(figsize=(8,8))\n",
    "sn.set_style(rc = {'axes.facecolor': 'black'})\n",
    "imag_sphe , xbin, ybin, im = plt.hist2d(x = zenit_rot, y = azimut_rot, bins = [bins,bins],  cmap = cm.nipy_spectral) \n",
    "plt.ylabel('$azimuth$')\n",
    "plt.xlabel('$zenith$')\n",
    "# plt.xlim(-8000,8000)\n",
    "# plt.ylim(-8000,8000)\n",
    "plt.title(title)\n",
    "\n",
    "#equal acis ration\n",
    "# ax = plt.gca()\n",
    "# ax.set_aspect('equal', adjustable='box')\n",
    "plt.show()"
   ]
  },
  {
   "cell_type": "code",
   "execution_count": 21,
   "id": "3bbadffb-beeb-465b-ba0b-0b565cd7659a",
   "metadata": {
    "tags": []
   },
   "outputs": [
    {
     "data": {
      "text/plain": [
       "<matplotlib.image.AxesImage at 0x29bbdf1e570>"
      ]
     },
     "execution_count": 21,
     "metadata": {},
     "output_type": "execute_result"
    }
   ],
   "source": [
    "plt.imshow(imag_sphe, aspect = 'auto')"
   ]
  },
  {
   "cell_type": "markdown",
   "id": "717846b9-114c-4065-9145-c7c3f90b6f45",
   "metadata": {},
   "source": [
    "## 2.5 Aplicar la transformada de Hough"
   ]
  },
  {
   "cell_type": "markdown",
   "id": "848a687f-4608-4f36-af8a-45fd23213692",
   "metadata": {},
   "source": [
    "### 2.5.1 xyz data - Identificar una elipse"
   ]
  },
  {
   "cell_type": "code",
   "execution_count": 182,
   "id": "1ae60409-f7d1-4f8d-b732-83ba04342473",
   "metadata": {},
   "outputs": [
    {
     "data": {
      "text/plain": [
       "280"
      ]
     },
     "execution_count": 182,
     "metadata": {},
     "output_type": "execute_result"
    }
   ],
   "source": [
    "len(x_rot)"
   ]
  },
  {
   "cell_type": "code",
   "execution_count": 256,
   "id": "4a4aa6d7-a9ca-4afb-b1c1-70051c68192b",
   "metadata": {},
   "outputs": [],
   "source": [
    "bins = 50\n",
    "imag_xyz, _, _ =  np.histogram2d(x = x_rot, y = y_rot, bins = [bins,bins])\n",
    "plt.imshow(imag_xyz)\n",
    "plt.show()"
   ]
  },
  {
   "cell_type": "code",
   "execution_count": 269,
   "id": "a1257e40-0069-457a-9157-47f9a4caf1ec",
   "metadata": {},
   "outputs": [],
   "source": [
    "result_xyz = hough_ellipse(imag_xyz, accuracy = 1, threshold = 4)"
   ]
  },
  {
   "cell_type": "code",
   "execution_count": 270,
   "id": "da0c9902-f414-40a4-9c0e-bc83d4cf2783",
   "metadata": {},
   "outputs": [
    {
     "data": {
      "text/plain": [
       "(16051,)"
      ]
     },
     "execution_count": 270,
     "metadata": {},
     "output_type": "execute_result"
    }
   ],
   "source": [
    "shape(result_xyz)"
   ]
  },
  {
   "cell_type": "code",
   "execution_count": 271,
   "id": "6f18a6c8-6002-4892-b7ce-327a3f1f0362",
   "metadata": {},
   "outputs": [
    {
     "data": {
      "text/plain": [
       "numpy.ndarray"
      ]
     },
     "execution_count": 271,
     "metadata": {},
     "output_type": "execute_result"
    }
   ],
   "source": [
    "type(result_xyz)"
   ]
  },
  {
   "cell_type": "code",
   "execution_count": 272,
   "id": "dfd7f1c1-ae90-459a-8f8e-c159ce8e388c",
   "metadata": {
    "scrolled": true
   },
   "outputs": [
    {
     "data": {
      "text/plain": [
       "array([( 5,  0.5, 22.5,  0.        ,  8.51469318, 3.08283683),\n",
       "       ( 5,  0.5, 23.5,  0.        ,  7.51664819, 3.07502449),\n",
       "       ( 5,  0.5, 26. ,  7.01783442,  0.        , 1.64210379), ...,\n",
       "       (22, 24.5, 23.5, 23.50531855, 23.49468025, 2.23557082),\n",
       "       (22, 24.5, 23.5, 23.50531855, 23.49468025, 2.47681816),\n",
       "       (22, 24.5, 23.5, 23.50531855, 23.49468025, 2.72552815)],\n",
       "      dtype=[('accumulator', '<i8'), ('yc', '<f8'), ('xc', '<f8'), ('a', '<f8'), ('b', '<f8'), ('orientation', '<f8')])"
      ]
     },
     "execution_count": 272,
     "metadata": {},
     "output_type": "execute_result"
    }
   ],
   "source": [
    "result"
   ]
  },
  {
   "cell_type": "markdown",
   "id": "957bc693-031c-48df-b315-8692edf4a465",
   "metadata": {},
   "source": [
    "Esta estructura de np.array significa que por cada (data) los datos estan organizados como (accumulator, yc, xc, a, b, orientation)"
   ]
  },
  {
   "cell_type": "code",
   "execution_count": 273,
   "id": "59747fa1-89c8-4e41-bb21-6f027de3ebd9",
   "metadata": {},
   "outputs": [
    {
     "data": {
      "text/plain": [
       "[28, 24.5, 23.5, 23.50531854708632, 23.49468024894146, 3.120319267565732]"
      ]
     },
     "execution_count": 273,
     "metadata": {},
     "output_type": "execute_result"
    }
   ],
   "source": [
    "# ordenar por acumulador creciente\n",
    "result_xyz.sort(order = 'accumulator')\n",
    "\n",
    "#mejor acumulador\n",
    "best = list(result_xyz[-1])\n",
    "best"
   ]
  },
  {
   "cell_type": "code",
   "execution_count": 262,
   "id": "449d8504-8892-42ad-8ec4-3dbf926f0d86",
   "metadata": {},
   "outputs": [],
   "source": [
    "#extraer paramentos de elipse\n",
    "yc, xc, a, b = (int(round(x)) for x in best[1:5]) #iterate over best[1:5]\n",
    "orientation = best[5]"
   ]
  },
  {
   "cell_type": "code",
   "execution_count": 263,
   "id": "9eef6a81-3284-41b6-9d73-a82be2346862",
   "metadata": {},
   "outputs": [],
   "source": [
    "# extraer parametros de elipse\n",
    "cy, cx = ellipse_perimeter(yc, xc, a, b, orientation)\n",
    "#cy, cx -> Index of pixels that belong to the ellipse perimeter\n",
    "\n",
    "# Resaltar pixeles en la imagen original de modo a ver la elipse reconstruida\n",
    "imag_xyz[cy,cx] = 5"
   ]
  },
  {
   "cell_type": "code",
   "execution_count": 264,
   "id": "f138bf0b-02fe-4999-ad10-1dc9179a236a",
   "metadata": {
    "tags": []
   },
   "outputs": [],
   "source": [
    "#plt.title('Branco: Anel reconstruido | Azul: dados')\n",
    "plt.imshow(imag_xyz, cmap = cm.nipy_spectral, aspect = 'auto')\n",
    "plt.show()\n",
    "#plt.savefig('figs/good recons/ellipse recons bins =' + str(bins) + '.jpg', format= 'jpg')"
   ]
  },
  {
   "cell_type": "markdown",
   "id": "0806753a-b6af-4bfb-968b-b5987dc5d05e",
   "metadata": {},
   "source": [
    "###  Observar máximos en el espacio de Hough usando xyz data"
   ]
  },
  {
   "cell_type": "markdown",
   "id": "0984ff53-5147-4f5f-a4dd-bae1af57b549",
   "metadata": {},
   "source": [
    "Existen maximos por fuera de la elipse o que no reconstruyen bien -> Observar estos máximos en una distribución 3D en el espacio de Hough"
   ]
  },
  {
   "cell_type": "markdown",
   "id": "fe585b8b-8a8f-49b1-8101-f7dfd8647f6b",
   "metadata": {},
   "source": [
    "- Extraer campos de parametros"
   ]
  },
  {
   "cell_type": "code",
   "execution_count": 265,
   "id": "3fb6db46-6195-4a9f-932a-b6cd62597253",
   "metadata": {},
   "outputs": [],
   "source": [
    "accumulator_field = result['accumulator']\n",
    "xc_field = result_xyz['xc']\n",
    "yc_field = result_xyz['yc']\n",
    "a_field = result_xyz['a']\n",
    "b_field = result_xyz['b']"
   ]
  },
  {
   "cell_type": "markdown",
   "id": "4c6fa1b5-9865-4ab3-a1e4-3f5cdf7f0e5f",
   "metadata": {},
   "source": [
    "- Observar su distribuciones 2D"
   ]
  },
  {
   "cell_type": "code",
   "execution_count": 266,
   "id": "d9072d8f-4cab-4a1e-b263-1a6b819fcf77",
   "metadata": {},
   "outputs": [],
   "source": [
    "title = 'Ellipse Center Fields - Hough Space'\n",
    "\n",
    "plt.figure(figsize=(8,8))\n",
    "sn.set_style(rc = {'axes.facecolor': 'black'})\n",
    "sn.histplot(x = a_field, y = b_field, bins = [50,50], stat='count', cbar = 'True', cmap = cm.nipy_spectral)\n",
    "plt.xlabel('x center field')\n",
    "plt.ylabel('y center field')\n",
    "plt.title(title)\n",
    "\n",
    "#equal acis ration\n",
    "#ax = plt.gca()\n",
    "#ax.set_aspect('equal', adjustable='box')\n",
    "plt.show()\n",
    "#plt.savefig('figs/good recons/(a,b) field bins =' + str(bins) + '.jpg', format= 'jpg')"
   ]
  },
  {
   "cell_type": "code",
   "execution_count": 267,
   "id": "ce6e614f-4b00-481d-9298-a48d5cc2568b",
   "metadata": {},
   "outputs": [],
   "source": [
    "title = 'Ellipse Axis Fields - Hough Space'\n",
    "\n",
    "plt.figure(figsize=(8,8))\n",
    "sn.set_style(rc = {'axes.facecolor': 'black'})\n",
    "sn.histplot(x = xc_field, y = yc_field, bins = [50,50], stat='count', cbar = 'True', cmap = cm.nipy_spectral)\n",
    "plt.xlabel('x axis field')\n",
    "plt.ylabel('y axis field')\n",
    "plt.title(title)\n",
    "\n",
    "#equal acis ration\n",
    "#ax = plt.gca()\n",
    "#ax.set_aspect('equal', adjustable='box')\n",
    "plt.show()\n",
    "#plt.savefig('figs/good recons/(xc,yc) field bins =' + str(bins) + '.jpg', format= 'jpg')"
   ]
  },
  {
   "cell_type": "markdown",
   "id": "71f37dd9-20ae-408b-938b-f58cd51c6197",
   "metadata": {},
   "source": [
    "Como interpretar estos resultados?\n",
    "\n",
    "Son los campos de los parametros a ajustar, y su maximo coincide con el mayor acumulador (interseción máxima)"
   ]
  },
  {
   "cell_type": "markdown",
   "id": "1a8c2989-9c8a-495d-b03b-4953f61d7b0c",
   "metadata": {},
   "source": [
    "- Observar histogramas a 3D"
   ]
  },
  {
   "cell_type": "code",
   "execution_count": 43,
   "id": "e1b51885-e443-4a16-8763-03ab0891098b",
   "metadata": {},
   "outputs": [],
   "source": [
    "import matplotlib as mpl\n",
    "mpl.rcParams.update(mpl.rcParamsDefault)\n",
    "\n",
    "x, y = a_field, b_field\n",
    "z = 0\n",
    "\n",
    "dx = 1\n",
    "dy = 1\n",
    "dz = accumulator_field\n",
    "\n",
    "style.use('seaborn-v0_8-colorblind')\n",
    "fig = plt.figure()\n",
    "ax = fig.add_subplot(111, projection='3d')\n",
    "#colors: https://matplotlib.org/stable/gallery/color/named_colors.html\n",
    "ax.bar3d(x, y, z, dx, dy, dz, color='cornflowerblue' )\n",
    "#ax.view_init(elev=24., azim=-33)\n",
    "\n",
    "plt.title('Ellipse Center Fields - Hough Space')\n",
    "ax.set_xlabel('x center field')\n",
    "ax.set_ylabel('y center field')\n",
    "ax.set_zlabel('Accumulator')\n",
    "plt.show()"
   ]
  },
  {
   "cell_type": "code",
   "execution_count": 44,
   "id": "f834238c-30ae-4258-8fd2-fb9afa2c46ce",
   "metadata": {},
   "outputs": [],
   "source": [
    "import matplotlib as mpl\n",
    "mpl.rcParams.update(mpl.rcParamsDefault)\n",
    "\n",
    "x, y = xc_field, yc_field\n",
    "z = 0\n",
    "\n",
    "dx = 1\n",
    "dy = 1\n",
    "dz = accumulator_field\n",
    "\n",
    "style.use('seaborn-v0_8-colorblind')\n",
    "fig = plt.figure()\n",
    "ax = fig.add_subplot(111, projection='3d')\n",
    "#colors: https://matplotlib.org/stable/gallery/color/named_colors.html\n",
    "ax.bar3d(x, y, z, dx, dy, dz, color='cornflowerblue' )\n",
    "#ax.view_init(elev=24., azim=-33)\n",
    "\n",
    "plt.title('Ellipse Axis Fields - Hough Space')\n",
    "plt.xlabel('x axis field')\n",
    "plt.ylabel('y axis field')\n",
    "ax.set_zlabel('Accumulator')\n",
    "plt.show()"
   ]
  },
  {
   "cell_type": "markdown",
   "id": "95bb70be-8e2d-4490-8f00-bcb3efd9d301",
   "metadata": {},
   "source": [
    "Problemas de reconstrucciõn surgen al aumentar el número de pixeles en la imagen! ->\n",
    "Probar coordenadas esfericas"
   ]
  },
  {
   "cell_type": "markdown",
   "id": "8f4d625e-b73c-415b-9e66-d0e6d1110cb4",
   "metadata": {},
   "source": [
    "### 2.5.2 spherical data - Identificar una elipse"
   ]
  },
  {
   "cell_type": "code",
   "execution_count": 304,
   "id": "df088e23-79e3-4a4d-87a9-fb5b052dc552",
   "metadata": {},
   "outputs": [],
   "source": [
    "bins = 55\n",
    "imag_sph, _, _ =  np.histogram2d(x = zenit_rot, y = azimut_rot, bins = [bins,bins])\n",
    "plt.imshow(imag_sph)\n",
    "plt.show()"
   ]
  },
  {
   "cell_type": "code",
   "execution_count": 305,
   "id": "adb05cff-af0d-4025-8a24-4827fdd373bc",
   "metadata": {},
   "outputs": [],
   "source": [
    "result_sph = hough_ellipse(imag_sph, accuracy = 1, threshold = 4)"
   ]
  },
  {
   "cell_type": "code",
   "execution_count": 306,
   "id": "98a04770-09c8-4f85-8063-c02b425eea7d",
   "metadata": {},
   "outputs": [
    {
     "data": {
      "text/plain": [
       "[31, 27.0, 47.0, 20.248456731316587, 0.0, 2.788602265762883]"
      ]
     },
     "execution_count": 306,
     "metadata": {},
     "output_type": "execute_result"
    }
   ],
   "source": [
    "# ordenar por acumulador creciente\n",
    "result_sph.sort(order = 'accumulator')\n",
    "\n",
    "#mejor acumulador: No muy relevante en este caso ya que no estamos identificando una elipse usando datos cartesianos\n",
    "best = list(result_sph[-1])\n",
    "best"
   ]
  },
  {
   "cell_type": "code",
   "execution_count": 307,
   "id": "6ad8aec3-0ceb-4d86-a0af-07cf4af59527",
   "metadata": {},
   "outputs": [],
   "source": [
    "#extraer paramentos de elipse\n",
    "yc, xc, a, b = (int(round(x)) for x in best[1:5]) #iterate over best[1:5]\n",
    "orientation = best[5]"
   ]
  },
  {
   "cell_type": "code",
   "execution_count": 308,
   "id": "73f8b089-7599-46f9-98a4-b09c2ac5d68b",
   "metadata": {},
   "outputs": [],
   "source": [
    "# extraer parametros de elipse\n",
    "cy, cx = ellipse_perimeter(yc, xc, a, b, orientation)\n",
    "#cy, cx -> Index of pixels that belong to the ellipse perimeter\n",
    "\n",
    "# Resaltar pixeles en la imagen original de modo a ver la elipse reconstruida\n",
    "imag_sph[cy,cx] = 5"
   ]
  },
  {
   "cell_type": "code",
   "execution_count": 309,
   "id": "1d4903de-f3f4-4c6f-8197-38066b228d0c",
   "metadata": {
    "tags": []
   },
   "outputs": [],
   "source": [
    "#plt.title('Branco: Anel reconstruido | Azul: dados')\n",
    "plt.imshow(imag_sph, cmap = cm.nipy_spectral, aspect = 'auto')\n",
    "plt.show()\n",
    "#plt.savefig('figs/good recons/ellipse recons bins =' + str(bins) + '.jpg', format= 'jpg')"
   ]
  },
  {
   "cell_type": "markdown",
   "id": "605930b0-d725-4519-9b64-91f2182a267a",
   "metadata": {},
   "source": [
    "La aplicación directa de la transfomrda de Hough para una elipse en datos esfericos parece no resultar"
   ]
  },
  {
   "cell_type": "code",
   "execution_count": null,
   "id": "ea62b9b0-7a85-44f7-a516-d4ee4fdb98b5",
   "metadata": {},
   "outputs": [],
   "source": []
  }
 ],
 "metadata": {
  "kernelspec": {
   "display_name": "Python 3 (ipykernel)",
   "language": "python",
   "name": "python3"
  },
  "language_info": {
   "codemirror_mode": {
    "name": "ipython",
    "version": 3
   },
   "file_extension": ".py",
   "mimetype": "text/x-python",
   "name": "python",
   "nbconvert_exporter": "python",
   "pygments_lexer": "ipython3",
   "version": "3.12.2"
  }
 },
 "nbformat": 4,
 "nbformat_minor": 5
}
