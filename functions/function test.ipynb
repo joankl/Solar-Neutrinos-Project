{
 "cells": [
  {
   "cell_type": "code",
   "execution_count": 36,
   "id": "a6d260bc-aa76-441f-aae9-3a9135c85765",
   "metadata": {},
   "outputs": [],
   "source": [
    "import numpy as np\n",
    "import uproot"
   ]
  },
  {
   "cell_type": "code",
   "execution_count": 39,
   "id": "a5ecb799-2792-4ddb-8882-e77042e2605f",
   "metadata": {},
   "outputs": [],
   "source": [
    "def split_list(lst):\n",
    "    \"\"\"Divide a list in chunck_size sublists\"\"\"\n",
    "    chuck_size = 2\n",
    "    return [lst[i:i + chuck_size] for i in range(0, len(lst), chuck_size)]"
   ]
  },
  {
   "cell_type": "code",
   "execution_count": 40,
   "id": "b5c8364f-217b-4e74-b49c-98e5dbf0bc01",
   "metadata": {},
   "outputs": [
    {
     "data": {
      "text/plain": [
       "[[1, 2], [3, 4], [5, 6], [7, 8], [9]]"
      ]
     },
     "execution_count": 40,
     "metadata": {},
     "output_type": "execute_result"
    }
   ],
   "source": [
    "lista = [1,2,3,4,5,6,7,8,9]\n",
    "split_list(lista)"
   ]
  },
  {
   "cell_type": "code",
   "execution_count": 30,
   "id": "52b948f9-8c76-4144-be2b-ddd546485596",
   "metadata": {},
   "outputs": [],
   "source": [
    "directory = 'C:/snoplus data/solarnu_analysis/mc/solar_nu/split_simu_Analysis_solar_Nue.root'\n",
    "\n",
    "file = uproot.open(directory)\n",
    "file.keys()\n",
    "\n",
    "data = file['T;4']\n",
    "pmt_info = file['pmt;2']"
   ]
  },
  {
   "cell_type": "code",
   "execution_count": 32,
   "id": "ea8fa529-d3a9-4f95-95f1-c5991e1a2072",
   "metadata": {},
   "outputs": [
    {
     "data": {
      "text/plain": [
       "uproot.models.TTree.Model_TTree_v20"
      ]
     },
     "execution_count": 32,
     "metadata": {},
     "output_type": "execute_result"
    }
   ],
   "source": [
    "type(pmt_info)"
   ]
  },
  {
   "cell_type": "code",
   "execution_count": 20,
   "id": "f703cef4-0160-44b6-ad88-a6518c29b710",
   "metadata": {},
   "outputs": [
    {
     "data": {
      "text/plain": [
       "['pmt_id', 'pmt_pos_xyz', 'pmt_pos_sph', 'pmt_type']"
      ]
     },
     "execution_count": 20,
     "metadata": {},
     "output_type": "execute_result"
    }
   ],
   "source": [
    "pmt_info.keys()"
   ]
  },
  {
   "cell_type": "code",
   "execution_count": 22,
   "id": "a950668c-b115-4062-a2eb-3c3715663890",
   "metadata": {},
   "outputs": [
    {
     "data": {
      "text/plain": [
       "array([-99999., -99999., -99999.])"
      ]
     },
     "execution_count": 22,
     "metadata": {},
     "output_type": "execute_result"
    }
   ],
   "source": [
    "pmt_pos = np.array(pmt_info['pmt_pos_xyz'])[0]\n",
    "vec = np.array([1,1,1])"
   ]
  },
  {
   "cell_type": "markdown",
   "id": "434859b6-760b-42a4-8324-7e45689cb1f5",
   "metadata": {},
   "source": [
    "# SunDirection Function"
   ]
  },
  {
   "cell_type": "code",
   "execution_count": 3,
   "id": "f34b1463-917e-4fae-b4e5-a7c334c14f42",
   "metadata": {},
   "outputs": [],
   "source": [
    "import numpy as np\n",
    "\n",
    "def sun_direction(UTdays, UTsecs, UTnsecs):\n",
    "\n",
    "    #Esta funcion no recibe un array de numeros! solo valores numericos y no listas.\n",
    "    # Constantes\n",
    "    labtwist_degrees = -49.58\n",
    "    pi = np.pi\n",
    "    twopi = 2 * pi\n",
    "    to_rad = pi / 180.0\n",
    "\n",
    "    # Offset en días: diferencia entre el tiempo cero de SNO+ (1 Jan 2010) y Jan 0, 2000\n",
    "    days_offset = 2451543.5 - 2455197.5\n",
    "\n",
    "    # Días desde Jan 0, 2000\n",
    "    days = UTdays + UTsecs / 86400.0 + UTnsecs / (1.0e9 * 86400.0) - days_offset\n",
    "\n",
    "    # Constantes astronómicas\n",
    "    ecl = (23.4393 - 3.563E-7 * days) * to_rad\n",
    "    w = (282.9404 + 4.70935E-5 * days) * to_rad\n",
    "    e = 0.016709 - 1.151E-9 * days\n",
    "    ma = (356.0470 + 0.9856002585 * days) * to_rad\n",
    "\n",
    "    # Eccentric anomaly\n",
    "    ea = ma + e * np.sin(ma) * (1.0 + e * np.cos(ma))\n",
    "\n",
    "    # Dirección hacia el Sol (coordenadas eclípticas)\n",
    "    xv = np.cos(ea) - e\n",
    "    yv = np.sqrt(1.0 - e * e) * np.sin(ea)\n",
    "\n",
    "    # True anomaly\n",
    "    v = np.arctan2(yv, xv)\n",
    "\n",
    "    # Longitud solar\n",
    "    sun_longitude = v + w\n",
    "\n",
    "    # Coordenadas geocéntricas eclípticas\n",
    "    xs = np.cos(sun_longitude)\n",
    "    ys = np.sin(sun_longitude)\n",
    "    vec1 = np.array([\n",
    "        ys * np.cos(ecl),\n",
    "        ys * np.sin(ecl),\n",
    "        xs\n",
    "    ])\n",
    "\n",
    "    # Rotación terrestre diaria\n",
    "    k0 = 0.27499\n",
    "    k1 = 1.0 + 1.0 / 365.2425\n",
    "    spin = k0 + k1 * days\n",
    "    spin_angle = (spin - int(spin)) * twopi\n",
    "\n",
    "    # Latitud y longitud del detector (en radianes)\n",
    "    longitude = (81 + 12 / 60 + 5 / 3600) * to_rad\n",
    "    latitude = (46 + 28 / 60 + 31.0 / 3600) * to_rad\n",
    "    labtwist = labtwist_degrees * to_rad\n",
    "\n",
    "    # Rotaciones: Z(labtwist) * X(latitude) * Y(longitude - spin_angle)\n",
    "    def rotation_matrix_y(angle):\n",
    "        return np.array([\n",
    "            [np.cos(angle), 0, np.sin(angle)],\n",
    "            [0, 1, 0],\n",
    "            [-np.sin(angle), 0, np.cos(angle)]\n",
    "        ])\n",
    "\n",
    "    def rotation_matrix_x(angle):\n",
    "        return np.array([\n",
    "            [1, 0, 0],\n",
    "            [0, np.cos(angle), -np.sin(angle)],\n",
    "            [0, np.sin(angle), np.cos(angle)]\n",
    "        ])\n",
    "\n",
    "    def rotation_matrix_z(angle):\n",
    "        return np.array([\n",
    "            [np.cos(angle), -np.sin(angle), 0],\n",
    "            [np.sin(angle), np.cos(angle), 0],\n",
    "            [0, 0, 1]\n",
    "        ])\n",
    "\n",
    "    rot = (\n",
    "        rotation_matrix_z(labtwist) @\n",
    "        rotation_matrix_x(latitude) @\n",
    "        rotation_matrix_y(longitude - spin_angle)\n",
    "    )\n",
    "\n",
    "    sun_dir = rot @ vec1  # Producto matriz * vector\n",
    "\n",
    "    return sun_dir  # Es un array de 3 elementos: [x, y, z]"
   ]
  },
  {
   "cell_type": "code",
   "execution_count": 27,
   "id": "0eea8ba4-f426-4c82-8489-4e8f93ae8038",
   "metadata": {},
   "outputs": [
    {
     "data": {
      "text/plain": [
       "1.0"
      ]
     },
     "execution_count": 27,
     "metadata": {},
     "output_type": "execute_result"
    }
   ],
   "source": [
    "UTdays = np.array([1,1,1])\n",
    "UTsecs = np.array([1,1,1])\n",
    "UTnsecs = np.array([1,1,1])\n",
    "\n",
    "np.linalg.norm(sun_direction(UTdays = 100, UTsecs = 0.1, UTnsecs = 50))"
   ]
  },
  {
   "cell_type": "markdown",
   "id": "45b5e764-1399-42cd-87a0-6d67a2245f41",
   "metadata": {},
   "source": [
    "# Build function to Extract the Observables for Solarnu Analysis"
   ]
  },
  {
   "cell_type": "code",
   "execution_count": 59,
   "id": "1ab807d6-17e0-41e0-baae-c40b1fb55c7d",
   "metadata": {},
   "outputs": [],
   "source": [
    "import numpy as np\n",
    "import uproot\n",
    "\n",
    "#Function to Compute the radial position of events\n",
    "def magnitude(vector): \n",
    "    x = vector[:,0]\n",
    "    y = vector[:,1]\n",
    "    z = vector[:,2]\n",
    "\n",
    "    r = np.sqrt(x**2 + y**2 + z**2)\n",
    "    r = r.astype(np.float32)\n",
    "    return r\n",
    "\n",
    "#Analysis code settings  ------------------------------\n",
    "#Read files:\n",
    "input_file_dir = '' #directory and name to read the input file\n",
    "out_file_dir = '' #directory to save the output files\n",
    "\n",
    "#Data Cuts:\n",
    "energy_inf_cut = 2.5\n",
    "energy_sup_cut = 12\n",
    "\n",
    "time_res_inf_cut = -5.0\n",
    "time_res_sup_cut = 7.0\n",
    "\n",
    "posr_cut = 5500\n",
    "\n",
    "dcflag_cut = int(0x2100000042C2)\n",
    "\n",
    "#Nº of splitten loops to analyze the data: \n",
    "#N_split = 20 # the more split, the less memory expensive is the code\n",
    "#------------------------------------------------------\n",
    "\n",
    "#Load the Data:\n",
    "load_data = uproot.open(input_file_dir)\n",
    "\n",
    "#select the tree of event data and PMT info\n",
    "event_data = load_data['T;4']\n",
    "pmt_data = load_data['pmt;2']\n",
    "\n",
    "#event info to be used:\n",
    "var_event_list = ['evtid', 'energy', 'position', 'hit_pmtid', \n",
    "                  'hit_residual', 'dc_flag', 'ev_time_day', \n",
    "                  'ev_time_sec', 'ev_time_nanosec']  #list the name of the varibles to be extracted and used for the solarnu analysis.\n",
    "\n",
    "#pmt info to be used\n",
    "var_pmt_list = ['pmt_id', 'pmt_pos_xyz', 'pmt_type']\n",
    "\n",
    "#Observables to save\n",
    "var_name_save_list = ['energy', 'posr', 'hit_residual']\n",
    "multi_cos_alpha = np.array([]) #create the empty list of the cos_alpha for the multiple PMTs record\n",
    "\n",
    "# Extract the variables with the name of the var_event_list in numpy.array from the .root file\n",
    "for var_name_i in var_event_list:\n",
    "    locals()[var_name_i] = np.array(event_data[var_name_i])\n",
    "    print(f'Loaded Observable {var_name_i} and value: ', locals()[var_name_i])\n",
    "\n",
    "# Compute the distance from the reconst. vertx to the center of the detector\n",
    "posr = magnitude(position)\n",
    "\n",
    "# Extract the pmt info\n",
    "for var_name_i in var_pmt_list:\n",
    "    locals()[var_name_i] = np.array(pmt_data[var_name_i])\n",
    "    print(f'Loaded PMT infor {var_name_i} and values: ', locals()[var_name_i])\n",
    "\n",
    "# Select the valid PMT information through pmt_type selection\n",
    "pmt_type_condition = (pmt_type == 1)\n",
    "\n",
    "#Selecting the pmt_id_valid is enough to filter all the PMT info (as the pmt_pos):\n",
    "#for example, selecting the valid hit_pmtid will automatically choose the valid pmt_pos using the pmtid as the index of the data\n",
    "pmt_id_valid = pmt_id[pmt_type_condition] #list with the valid pmt_id\n",
    "\n",
    "#Extract the valid components of the event data through the selection of the pmt_id_valid:\n",
    "hit_pmt_id_condition = np.in1d(hit_pmtid, pmt_id_valid)\n",
    "#Also include  general cuts on energy and event position, and a dcFlag cut\n",
    "energy_condition = (energy >= energy_inf_cut) & (energy <= energy_sup_cut)\n",
    "time_res_condition = (hit_residual >= time_res_inf_cut) & (hit_residual <= time_res_sup_cut)\n",
    "posr_condition = (posr <= 5500 )\n",
    "dcFlag_condition = ((dcflag_cut & dc_flag) == int(mask_cut))\n",
    "\n",
    "general_condition = hit_pmt_id_condition & energy_condition & time_res_condition & posr_condition & dcFlag_condition\n",
    "\n",
    "#Loop to extract the samples which verify general condition\n",
    "for var_name_i in var_event_list:\n",
    "    #print('before pmt_id selection', locals()[var_name_i].shape)\n",
    "    locals()[var_name_i] = locals()[var_name_i][general_condition]  #selection of the observable entries that verify the general condition\n",
    "    #print('after pmt_id selection', locals()[var_name_i].shape)\n",
    "posr = posr[general_condition]\n",
    "\n",
    "#Now, save the observables of interest from var_event_list after general condition cut. This include the Time Residuals!\n",
    "for var_name_i in var_name_save_list:\n",
    "    np.save(out_file_dir + var_name_i, locals()[var_name_i])\n",
    "\n",
    "#Loop over PMTs records to compute the angle between each hit PMT and the Sun direction:\n",
    "N_samples = len(hit_residual) #Number of samples to be analyzed\n",
    "#sample_idx_split = np.slipt(np.array(range(N_samples)), N_split) # A list splitten in N_sample arrays which contains the sample index\n",
    "\n",
    "for sample_idx in range(N_samples):\n",
    "\n",
    "    #Extract universal time for this event:\n",
    "    Utime_day = ev_time_day[sample_idx]\n",
    "    Utime_sec = ev_time_sec[sample_idx]\n",
    "    Utime_nsec = ev_time_nanosec[sample_idx]\n",
    "\n",
    "    #Compute the Sun's outward direction\n",
    "    sun_dir = sun_direction(UTdays = Utime_day, UTsecs = Utime_sec, UTnsecs = Utime_nsec)*(-1)\n",
    "    print(f'sun direction: {sun_dir}')\n",
    "\n",
    "    #Extract the hit PMT coordinates:\n",
    "    pmt_hit_id = hit_pmtid[sample_idx]  # first take the id of the hit PMT to look for its coordinates. \n",
    "    pmt_hit_xyz = pmt_pos_xyz[pmt_hit_id] # The ID is equivalent to the index of the pmt_pos.\n",
    "    print(f'pmt direction: {pmt_hit_xyz}')\n",
    "\n",
    "    #Compute the cos_alpha of the angles between hit_pmt with the sun direction by the scalar product definition: The Sun vector verifies norm = 1\n",
    "    #cos(alpha) = dot_prod/norm1*norm2  \n",
    "    norm2 = np.linalg.norm(pmt_hit_xyz)\n",
    "    pmt_hit_xyz = pmt_hit_xyz/norm2  #normalized vector\n",
    "    \n",
    "    dot_prod = np.dot(sun_dir, pmt_hit_xyz)\n",
    "    \n",
    "    cos_alpha = dot_prod\n",
    "    print(f'cos of angle = {cos_alpha}')\n",
    "    \n",
    "    multi_cos_alpha = np.append(multi_cos_alpha, cos_alpha)\n",
    "\n",
    "    #save the cos_alpha computation\n",
    "    np.save(out_file_dir + 'cos_alpha', multi_cos_alpha)\n"
   ]
  },
  {
   "cell_type": "code",
   "execution_count": null,
   "id": "501d3a05-d92a-4767-94d2-07664113c413",
   "metadata": {},
   "outputs": [],
   "source": []
  }
 ],
 "metadata": {
  "kernelspec": {
   "display_name": "Python 3 (ipykernel)",
   "language": "python",
   "name": "python3"
  },
  "language_info": {
   "codemirror_mode": {
    "name": "ipython",
    "version": 3
   },
   "file_extension": ".py",
   "mimetype": "text/x-python",
   "name": "python",
   "nbconvert_exporter": "python",
   "pygments_lexer": "ipython3",
   "version": "3.12.2"
  }
 },
 "nbformat": 4,
 "nbformat_minor": 5
}
