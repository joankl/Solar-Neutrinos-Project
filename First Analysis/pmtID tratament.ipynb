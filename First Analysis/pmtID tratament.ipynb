{
 "cells": [
  {
   "cell_type": "markdown",
   "id": "0c07e60c-88b3-420a-8d82-bf6951aa97da",
   "metadata": {},
   "source": [
    "# Firts Analysis"
   ]
  },
  {
   "cell_type": "markdown",
   "id": "5822557b-0cc5-4893-bfc1-d622fb4f14f3",
   "metadata": {},
   "source": [
    "### quickly functions"
   ]
  },
  {
   "cell_type": "code",
   "execution_count": 1,
   "id": "146ca955-3d10-43d1-a385-fecc57209b93",
   "metadata": {},
   "outputs": [],
   "source": [
    "def magnitude(vector): \n",
    "    return np.sqrt(sum(pow(element, 2) for element in vector))"
   ]
  },
  {
   "cell_type": "code",
   "execution_count": 2,
   "id": "d28e155e-47e5-4e5c-a70c-8eb7133e06ec",
   "metadata": {},
   "outputs": [],
   "source": [
    "def hist(x, bins, xtitle, ytitle = None, title = None):\n",
    "    \n",
    "    plt.figure(figsize=(8,6))\n",
    "    sn.histplot(x, bins = bins)\n",
    "    plt.xlabel(xtitle)\n",
    "    \n",
    "    if ytitle == None:\n",
    "        plt.ylabel('events')\n",
    "    else:\n",
    "        plt.ylabel(ytitle)\n",
    "    if title == None:\n",
    "        plt.title(xtitle + ' vs ' + ytitle)\n",
    "    else:\n",
    "        plt.title(title)\n",
    "        \n",
    "    plt.yscale('log')"
   ]
  },
  {
   "cell_type": "code",
   "execution_count": 3,
   "id": "c9ea0a2f-ce0c-4406-94d3-a30872293cba",
   "metadata": {},
   "outputs": [],
   "source": [
    "def hist2D(x_var, y_var, bins, xtitle, ytitle):\n",
    "    plt.figure(figsize=(8,6))\n",
    "    sn.histplot(x = x_var, y = y_var, bins = bins)\n",
    "    plt.xlabel(xtitle)\n",
    "    plt.ylabel(ytitle)\n",
    "    #plt.xlim(-800,500)\n",
    "    plt.show()"
   ]
  },
  {
   "cell_type": "markdown",
   "id": "c6d0b27c-995d-4928-a39b-a0ddb4f556fb",
   "metadata": {},
   "source": [
    "------------------------------------"
   ]
  },
  {
   "cell_type": "code",
   "execution_count": 4,
   "id": "1e8b602f-4be5-44eb-879c-8e0eaac78b43",
   "metadata": {},
   "outputs": [
    {
     "name": "stderr",
     "output_type": "stream",
     "text": [
      "C:\\ProgramData\\Anaconda3\\lib\\site-packages\\scipy\\__init__.py:138: UserWarning: A NumPy version >=1.16.5 and <1.23.0 is required for this version of SciPy (detected version 1.24.2)\n",
      "  warnings.warn(f\"A NumPy version >={np_minversion} and <{np_maxversion} is required for this version of \"\n"
     ]
    }
   ],
   "source": [
    "import uproot\n",
    "import numpy as np\n",
    "import matplotlib.pyplot as plt\n",
    "import seaborn as sn\n",
    "from tqdm import tqdm\n",
    "from mpl_toolkits import mplot3d\n",
    "from numpy import array, where, shape, reshape\n",
    "np.set_printoptions(threshold=1000)"
   ]
  },
  {
   "cell_type": "markdown",
   "id": "508d8556-ae35-483a-b3e5-1dc9f1f0e30e",
   "metadata": {},
   "source": [
    "### Importar archivos"
   ]
  },
  {
   "cell_type": "code",
   "execution_count": 3,
   "id": "5cc6df6c-530e-4c48-911a-dae2cce08140",
   "metadata": {},
   "outputs": [],
   "source": [
    "file = uproot.open(\"/sno/py_out1.root\")"
   ]
  },
  {
   "cell_type": "markdown",
   "id": "81d6b719-842b-4951-ab10-2e56b57ec0e6",
   "metadata": {},
   "source": [
    "### Explorar TTrees"
   ]
  },
  {
   "cell_type": "code",
   "execution_count": 4,
   "id": "5e39ce7d-6294-496d-8b60-91fe8a6b30ab",
   "metadata": {},
   "outputs": [
    {
     "data": {
      "text/plain": [
       "['T;7', 'T;6', 'pmt;1']"
      ]
     },
     "execution_count": 4,
     "metadata": {},
     "output_type": "execute_result"
    }
   ],
   "source": [
    "branches = file.keys()\n",
    "branches"
   ]
  },
  {
   "cell_type": "code",
   "execution_count": 5,
   "id": "813a3a77-9d52-4e33-8cf0-4ad08aa4f387",
   "metadata": {},
   "outputs": [
    {
     "data": {
      "text/plain": [
       "['evtid',\n",
       " 'mc_position',\n",
       " 'mc_momentum',\n",
       " 'position',\n",
       " 'momentum',\n",
       " 'hit_pmtid',\n",
       " 'hit_pmttime',\n",
       " 'hit_residual',\n",
       " 'hit_type']"
      ]
     },
     "execution_count": 5,
     "metadata": {},
     "output_type": "execute_result"
    }
   ],
   "source": [
    "data1 = file['T;7']\n",
    "data1.keys()"
   ]
  },
  {
   "cell_type": "code",
   "execution_count": 6,
   "id": "aa30d673-b42b-409a-abb4-fabacaed4a95",
   "metadata": {},
   "outputs": [],
   "source": [
    "evtid = np.array(data1['evtid'])\n",
    "mc_position = np.array(data1['mc_position'])\n",
    "position = np.array(data1['position'])\n",
    "hit_pmtid = np.array(data1['hit_pmtid'])\n",
    "hit_pmttime = np.array(data1['hit_pmttime'])\n",
    "hit_residual = np.array(data1['hit_residual'])\n",
    "hit_type = np.array(data1['hit_type'])"
   ]
  },
  {
   "cell_type": "markdown",
   "id": "23e10fed-0c39-4e02-afaf-5774e5ee270b",
   "metadata": {},
   "source": [
    "#### Nº of events"
   ]
  },
  {
   "cell_type": "code",
   "execution_count": 7,
   "id": "c98f1a7a-aa43-432d-ae68-ade3b3f81f7f",
   "metadata": {},
   "outputs": [
    {
     "data": {
      "text/plain": [
       "14618962"
      ]
     },
     "execution_count": 7,
     "metadata": {},
     "output_type": "execute_result"
    }
   ],
   "source": [
    "len(evtid)"
   ]
  },
  {
   "cell_type": "markdown",
   "id": "a24f9806-d865-4c59-ae33-df235efd217b",
   "metadata": {},
   "source": [
    "### Verify if plots make sence"
   ]
  },
  {
   "cell_type": "code",
   "execution_count": 320,
   "id": "a72eb3d3-8058-4eb7-a852-4e0fe28882a8",
   "metadata": {},
   "outputs": [],
   "source": [
    "var = hit_residual\n",
    "\n",
    "hist(var, 100, 'hit_residual')"
   ]
  },
  {
   "cell_type": "code",
   "execution_count": 9,
   "id": "3f9d4cbb-f094-495b-8c44-931d70f4359e",
   "metadata": {
    "collapsed": true,
    "jupyter": {
     "outputs_hidden": true
    },
    "tags": []
   },
   "outputs": [
    {
     "data": {
      "text/plain": [
       "(array([    8496,    17942,    24294,    54177,    62623,    71097,\n",
       "           96783,   109677,   133324,   177416,   222694,   241540,\n",
       "          242989,   267741,   286499,   297883,   297884,   322279,\n",
       "          323721,   336923,   358067,   366261,   375682,   376907,\n",
       "          383911,   406250,   422409,   451001,   464363,   465126,\n",
       "          465946,   468328,   481663,   505454,   568770,   578153,\n",
       "          582870,   603927,   607919,   626504,   656223,   676579,\n",
       "          718026,   734900,   743677,   783994,   783995,   837603,\n",
       "          841501,   850630,   860903,   867864,   873123,   892160,\n",
       "          892161,   895359,   903470,   922094,   932258,   951231,\n",
       "          954963,   984849,   988796,  1025885,  1033181,  1072282,\n",
       "         1082607,  1099407,  1110264,  1131202,  1157636,  1210117,\n",
       "         1242447,  1250070,  1267689,  1268553,  1293839,  1305322,\n",
       "         1313635,  1320564,  1335565,  1355148,  1385422,  1390936,\n",
       "         1404421,  1407461,  1465975,  1468118,  1496214,  1513517,\n",
       "         1527176,  1532812,  1536363,  1550006,  1573278,  1613605,\n",
       "         1619702,  1630840,  1639687,  1677184,  1694598,  1712683,\n",
       "         1724522,  1728455,  1749671,  1768797,  1785159,  1802747,\n",
       "         1819861,  1853417,  1872174,  1879593,  1888893,  1912781,\n",
       "         1919048,  1929214,  1934147,  1942781,  1946807,  1975617,\n",
       "         1992032,  2011120,  2012791,  2013601,  2022108,  2038145,\n",
       "         2070559,  2080254,  2085548,  2149139,  2153900,  2166758,\n",
       "         2187621,  2190573,  2202554,  2212377,  2239701,  2277156,\n",
       "         2282359,  2343557,  2345694,  2358058,  2381181,  2438251,\n",
       "         2452361,  2491653,  2493210,  2518846,  2532697,  2540316,\n",
       "         2552888,  2564183,  2569596,  2576396,  2589730,  2593331,\n",
       "         2597022,  2603385,  2614065,  2632152,  2660287,  2671393,\n",
       "         2677494,  2680860,  2689597,  2734728,  2788725,  2789576,\n",
       "         2797365,  2804654,  2839410,  2844354,  2851357,  2858406,\n",
       "         2861566,  2879891,  2882154,  2895734,  2900668,  2911097,\n",
       "         2913327,  2927419,  2958697,  2961608,  2961609,  2973734,\n",
       "         3003158,  3032719,  3035837,  3038075,  3048186,  3054329,\n",
       "         3071467,  3094162,  3097366,  3108247,  3119009,  3150622,\n",
       "         3153685,  3153686,  3154438,  3171982,  3200603,  3234884,\n",
       "         3250463,  3270444,  3286332,  3313012,  3318579,  3338914,\n",
       "         3340460,  3351952,  3403141,  3419405,  3439942,  3492866,\n",
       "         3505096,  3512427,  3570968,  3603910,  3617111,  3628846,\n",
       "         3630426,  3662970,  3687125,  3702685,  3816331,  3859831,\n",
       "         3870257,  3879669,  3887888,  3909802,  3920119,  3926225,\n",
       "         3960110,  3982065,  3985992,  4011646,  4021527,  4031615,\n",
       "         4056757,  4067518,  4075679,  4081943,  4118949,  4124382,\n",
       "         4130937,  4131756,  4154032,  4189912,  4193850,  4209864,\n",
       "         4260380,  4276084,  4285623,  4290400,  4362087,  4368045,\n",
       "         4380248,  4398322,  4399142,  4405360,  4418048,  4427522,\n",
       "         4430354,  4438021,  4457124,  4457125,  4463441,  4494351,\n",
       "         4495660,  4518868,  4540239,  4568010,  4577463,  4578160,\n",
       "         4581968,  4588327,  4593144,  4618065,  4630010,  4630011,\n",
       "         4660040,  4660815,  4677244,  4688478,  4689263,  4694518,\n",
       "         4704896,  4784157,  4802122,  4806671,  4806672,  4818580,\n",
       "         4821577,  4822355,  4837326,  4839002,  4874608,  4902946,\n",
       "         4923341,  4951840,  4958687,  4972741,  4982536,  4993799,\n",
       "         5005388,  5006026,  5018196,  5018886,  5048151,  5056052,\n",
       "         5061268,  5073750,  5088003,  5106952,  5109253,  5117966,\n",
       "         5119635,  5120392,  5144295,  5163582,  5174676,  5188159,\n",
       "         5191853,  5194176,  5197465,  5226632,  5240352,  5250915,\n",
       "         5257835,  5263519,  5268252,  5273424,  5311039,  5311854,\n",
       "         5349517,  5350257,  5351928,  5354903,  5354904,  5360423,\n",
       "         5371489,  5384665,  5396442,  5435207,  5442015,  5451443,\n",
       "         5456568,  5482070,  5509656,  5516959,  5521085,  5544491,\n",
       "         5573518,  5600743,  5614875,  5620961,  5633991,  5636994,\n",
       "         5641655,  5641656,  5655232,  5665863,  5670900,  5689808,\n",
       "         5689809,  5702587,  5713791,  5746663,  5759777,  5764584,\n",
       "         5776386,  5786275,  5799639,  5815157,  5818986,  5822684,\n",
       "         5868458,  5876813,  5901253,  5914308,  5922138,  5925224,\n",
       "         5934048,  5935703,  5944542,  5968035,  5997031,  5997799,\n",
       "         6003080,  6011184,  6018395,  6035613,  6055674,  6098850,\n",
       "         6109021,  6112899,  6118337,  6125387,  6169513,  6221969,\n",
       "         6238283,  6269767,  6274251,  6276657,  6315379,  6320045,\n",
       "         6320046,  6337237,  6349097,  6352317,  6355258,  6372183,\n",
       "         6383405,  6389540,  6445720,  6451147,  6476669,  6536341,\n",
       "         6549112,  6553749,  6556871,  6567363,  6585448,  6593707,\n",
       "         6657997,  6668126,  6721852,  6732978,  6737418,  6751923,\n",
       "         6752675,  6772475,  6775366,  6777402,  6854639,  6869407,\n",
       "         6894732,  6896258,  6900341,  6916117,  6923988,  6940188,\n",
       "         6944123,  6953057,  6966605,  6975182,  6999179,  7004601,\n",
       "         7017792,  7018656,  7098444,  7099278,  7100795,  7128313,\n",
       "         7131730,  7153332,  7165835,  7166665,  7177481,  7177482,\n",
       "         7177483,  7184677,  7193270,  7246624,  7252801,  7257052,\n",
       "         7292958,  7299148,  7301398,  7320536,  7368460,  7393592,\n",
       "         7396444,  7418311,  7421237,  7421944,  7446474,  7455805,\n",
       "         7458231,  7514193,  7527749,  7600787,  7662495,  7672884,\n",
       "         7686191,  7724198,  7736558,  7748568,  7787247,  7792857,\n",
       "         7822593,  7862865,  7882305,  7886426,  7904086,  7912336,\n",
       "         7942692,  7974299,  8016874,  8041761,  8054284,  8069313,\n",
       "         8070857,  8072515,  8077745,  8079993,  8094617,  8106324,\n",
       "         8143602,  8143603,  8147440,  8156432,  8158883,  8162109,\n",
       "         8169239,  8180488,  8192930,  8200689,  8224174,  8239084,\n",
       "         8258005,  8258864,  8261139,  8292360,  8303411,  8315038,\n",
       "         8322375,  8325465,  8361304,  8370697,  8380075,  8408060,\n",
       "         8501639,  8540824,  8541398,  8542963,  8549912,  8549913,\n",
       "         8558531,  8578017,  8582759,  8608479,  8619583,  8637859,\n",
       "         8645031,  8651114,  8653219,  8658152,  8661406,  8668538,\n",
       "         8710099,  8722521,  8747417,  8799327,  8817040,  8832339,\n",
       "         8844624,  8849812,  8867767,  8895960,  8926509,  8927271,\n",
       "         8929744,  8944278,  8982393,  8991479,  8993974,  9043124,\n",
       "         9048727,  9072843,  9082057,  9084472,  9088468,  9116438,\n",
       "         9132813,  9142782,  9148391,  9156949,  9162819,  9164408,\n",
       "         9180741,  9197789,  9251335,  9253712,  9263053,  9276968,\n",
       "         9287315,  9310581,  9313494,  9335296,  9359000,  9424518,\n",
       "         9462812,  9479762,  9488255,  9526076,  9529115,  9532232,\n",
       "         9537046,  9538537,  9550709,  9560095,  9566567,  9572021,\n",
       "         9576028,  9617739,  9622624,  9631280,  9641521,  9643148,\n",
       "         9651173,  9671411,  9688613,  9704318,  9711083,  9712724,\n",
       "         9729221,  9754175,  9760215,  9770104,  9775916,  9780759,\n",
       "         9803465,  9872790,  9894025,  9899640,  9906710,  9908805,\n",
       "         9911940,  9918993,  9945616,  9971687,  9980635, 10014616,\n",
       "        10054512, 10081885, 10121184, 10152709, 10193259, 10244881,\n",
       "        10256738, 10268196, 10269006, 10318905, 10321364, 10348513,\n",
       "        10358123, 10364333, 10384267, 10399688, 10410792, 10410793,\n",
       "        10446580, 10448789, 10456661, 10462230, 10488434, 10491525,\n",
       "        10495515, 10501140, 10525908, 10528043, 10530251, 10541346,\n",
       "        10542916, 10559921, 10616164, 10620805, 10643379, 10657903,\n",
       "        10709370, 10716088, 10739491, 10745702, 10752071, 10756695,\n",
       "        10788921, 10789581, 10807885, 10827104, 10834070, 10852089,\n",
       "        10859877, 10870208, 10934512, 10970912, 10981460, 10983110,\n",
       "        10987732, 10996008, 11007138, 11036609, 11040985, 11049743,\n",
       "        11055369, 11077167, 11081249, 11093803, 11133604, 11146534,\n",
       "        11149013, 11153455, 11153456, 11156647, 11162085, 11163594,\n",
       "        11215965, 11223110, 11278770, 11279560, 11285156, 11293744,\n",
       "        11309454, 11327339, 11333235, 11353953, 11364460, 11380405,\n",
       "        11403478, 11426520, 11440709, 11442309, 11442335, 11475677,\n",
       "        11478821, 11484230, 11493184, 11525980, 11525981, 11530744,\n",
       "        11531553, 11536051, 11536052, 11538141, 11543169, 11543925,\n",
       "        11569831, 11609145, 11628553, 11651550, 11692231, 11695196,\n",
       "        11732101, 11750263, 11768419, 11781677, 11793571, 11801426,\n",
       "        11848406, 11875443, 11925310, 11925997, 11941372, 11960384,\n",
       "        11962886, 11985552, 11985553, 12001017, 12048342, 12053841,\n",
       "        12058378, 12071313, 12082903, 12111891, 12114350, 12164933,\n",
       "        12171086, 12182655, 12186301, 12192807, 12196011, 12198490,\n",
       "        12203576, 12218407, 12226886, 12247820, 12253245, 12256817,\n",
       "        12288731, 12291056, 12310991, 12369814, 12387319, 12396858,\n",
       "        12402553, 12410662, 12413168, 12434779, 12445952, 12463699,\n",
       "        12485185, 12493598, 12495708, 12545880, 12546686, 12572856,\n",
       "        12624453, 12650847, 12655440, 12660855, 12667276, 12690093,\n",
       "        12698094, 12705234, 12707575, 12716369, 12773839, 12778893,\n",
       "        12782125, 12789230, 12820432, 12825766, 12829670, 12830493,\n",
       "        12832943, 12841703, 12851881, 12862878, 12898423, 12903793,\n",
       "        12908455, 12933754, 12936169, 12967455, 12975155, 13024748,\n",
       "        13072104, 13075224, 13095563, 13121784, 13152964, 13175566,\n",
       "        13178560, 13182233, 13182234, 13190481, 13214561, 13221402,\n",
       "        13224720, 13264853, 13268035, 13300180, 13312934, 13329578,\n",
       "        13330385, 13340737, 13347090, 13408973, 13421315, 13442412,\n",
       "        13520333, 13522850, 13526891, 13543252, 13544823, 13558834,\n",
       "        13592825, 13602939, 13625805, 13633341, 13640400, 13644984,\n",
       "        13650414, 13655991, 13658329, 13671039, 13686470, 13689559,\n",
       "        13735986, 13743624, 13744402, 13748526, 13813138, 13815602,\n",
       "        13821052, 13821845, 13848407, 13851366, 13855838, 13868177,\n",
       "        13883542, 13887455, 13908214, 13920303, 13933057, 13953653,\n",
       "        13976708, 13986856, 14017540, 14018307, 14049599, 14057046,\n",
       "        14083670, 14100629, 14106022, 14117522, 14157313, 14172456,\n",
       "        14192013, 14196502, 14196503, 14205287, 14210715, 14213029,\n",
       "        14231187, 14246246, 14250193, 14250859, 14268175, 14299867,\n",
       "        14304438, 14351180, 14404951, 14417654, 14423950, 14433998,\n",
       "        14446244, 14459972, 14478094, 14535498, 14577665, 14616525],\n",
       "       dtype=int64),)"
      ]
     },
     "execution_count": 9,
     "metadata": {},
     "output_type": "execute_result"
    }
   ],
   "source": [
    "where(hit_residual<-8000)  "
   ]
  },
  {
   "cell_type": "code",
   "execution_count": 350,
   "id": "b763b063-e990-4e9f-9ee5-63b2f16bd3e5",
   "metadata": {},
   "outputs": [
    {
     "data": {
      "text/plain": [
       "23"
      ]
     },
     "execution_count": 350,
     "metadata": {},
     "output_type": "execute_result"
    }
   ],
   "source": [
    "#take one of the eventsID with high negative time residual value\n",
    "evtid[17942]"
   ]
  },
  {
   "cell_type": "markdown",
   "id": "ed76289c-d1e1-46e3-a5a6-3a0912f56cf5",
   "metadata": {},
   "source": [
    "#### pmtID giving hits with time residual too negative! (t_res about -10.000 and -600)"
   ]
  },
  {
   "cell_type": "code",
   "execution_count": 312,
   "id": "b28b7f46-8359-400e-b588-54facf2011f2",
   "metadata": {},
   "outputs": [
    {
     "data": {
      "text/plain": [
       "(-800.0, 500.0)"
      ]
     },
     "execution_count": 312,
     "metadata": {},
     "output_type": "execute_result"
    }
   ],
   "source": [
    "hist2D(hit_residual, hit_pmtid, 100, 'hit_residual','hit_pmtid')\n",
    "plt.xlim(-800,500)"
   ]
  },
  {
   "cell_type": "markdown",
   "id": "c67314a3-c6f8-4dbf-883d-e1c0241a82d6",
   "metadata": {},
   "source": [
    "### Extract PMT info.\n",
    "PMT info. is relative to its standar positions, identificators, etc. They dont correspond to hits of events!"
   ]
  },
  {
   "cell_type": "code",
   "execution_count": 276,
   "id": "cf96700a-b5b9-4e5b-938b-df5ada24f7ca",
   "metadata": {},
   "outputs": [
    {
     "data": {
      "text/plain": [
       "['pmt_id', 'pmt_pos_xyz', 'pmt_pos_sph', 'pmt_type']"
      ]
     },
     "execution_count": 276,
     "metadata": {},
     "output_type": "execute_result"
    }
   ],
   "source": [
    "pmt_info = file['pmt;1']\n",
    "pmt_info.keys()"
   ]
  },
  {
   "cell_type": "code",
   "execution_count": 277,
   "id": "717c10a4-25ec-4e16-b529-16be614e5c20",
   "metadata": {},
   "outputs": [],
   "source": [
    "pmt_id = array(pmt_info['pmt_id'])\n",
    "pmt_pos_xyz = array(pmt_info['pmt_pos_xyz'])\n",
    "pmt_pos_sph = array(pmt_info['pmt_pos_sph'])\n",
    "pmt_type = array(pmt_info['pmt_type'])\n",
    "\n",
    "#Now, pass to array--------------\n",
    "\n",
    "#pmt_id = np.array(pmt_id)\n",
    "#pmt_pos_xyz = np.array(pmt_pos_xyz)\n",
    "#pmt_pos_sph = np.array(pmt_pos_sph)\n",
    "#pmt_type = np.array(pmt_type)"
   ]
  },
  {
   "cell_type": "code",
   "execution_count": 278,
   "id": "0477bc25-6001-41d3-93bc-c676a50377b0",
   "metadata": {},
   "outputs": [
    {
     "data": {
      "text/plain": [
       "(9728, 3)"
      ]
     },
     "execution_count": 278,
     "metadata": {},
     "output_type": "execute_result"
    }
   ],
   "source": [
    "np.shape(pmt_pos_xyz)"
   ]
  },
  {
   "cell_type": "code",
   "execution_count": 279,
   "id": "fb1b16d0-61b8-4aec-8d53-3cc8baed2fcb",
   "metadata": {},
   "outputs": [
    {
     "data": {
      "text/plain": [
       "(9728, 3)"
      ]
     },
     "execution_count": 279,
     "metadata": {},
     "output_type": "execute_result"
    }
   ],
   "source": [
    "np.shape(pmt_pos_sph)"
   ]
  },
  {
   "cell_type": "code",
   "execution_count": 280,
   "id": "19a1c577-216f-414f-aa21-32e29ce6770b",
   "metadata": {
    "tags": []
   },
   "outputs": [
    {
     "data": {
      "text/plain": [
       "(9728,)"
      ]
     },
     "execution_count": 280,
     "metadata": {},
     "output_type": "execute_result"
    }
   ],
   "source": [
    "np.shape(pmt_type)"
   ]
  },
  {
   "cell_type": "markdown",
   "id": "01d8de6c-46ae-4afc-8ab3-59d3c8981285",
   "metadata": {},
   "source": [
    "### Clean PMT type (just pmt_type = 1 || pmt_type = 7)\n",
    "Get the list of pmtID which are valid in the PMT info"
   ]
  },
  {
   "cell_type": "code",
   "execution_count": 281,
   "id": "d11b8ae5-0998-4a05-b64d-65a81825fc34",
   "metadata": {
    "tags": []
   },
   "outputs": [
    {
     "name": "stderr",
     "output_type": "stream",
     "text": [
      "100%|██████████████████████████████████████████████████████████████████████████████████| 2/2 [00:00<00:00, 2005.40it/s]\n",
      "100%|███████████████████████████████████████████████████████████████████████████| 9394/9394 [00:00<00:00, 67143.17it/s]"
     ]
    },
    {
     "name": "stdout",
     "output_type": "stream",
     "text": [
      "[   1    2    3 ... 3536 3856 8163]\n"
     ]
    },
    {
     "name": "stderr",
     "output_type": "stream",
     "text": [
      "\n"
     ]
    },
    {
     "data": {
      "text/plain": [
       "9394"
      ]
     },
     "execution_count": 281,
     "metadata": {},
     "output_type": "execute_result"
    }
   ],
   "source": [
    "type_ = array([1,7])\n",
    "valid_index_pmt_type = np.array([],np.int32)\n",
    "clean_pmt_id = np.array([],np.int32) #pmtID which are valid\n",
    "\n",
    "#valid_index_pmt_type_list = [] # List of Indices of valids pmtID (util solo en pmt info, no en registro de eventos -> guardo el array, no la lista!!)\n",
    "\n",
    "for i_type in tqdm(type_):\n",
    "    p = where(pmt_type == i_type)[0] #look for indices ef valid PMT\n",
    "    #if i_type == 7:\n",
    "    #    print(p)\n",
    "    valid_index_pmt_type = np.concatenate((valid_index_pmt_type,p))\n",
    "    \n",
    "    #valid_index_list.append(p)\n",
    "    #print(valid_index_list)\n",
    "    #valid_index_pmt_type = valid_index_list[0][0] #extact the np.array\n",
    "#print(valid_index_pmt_type_list)\n",
    "\n",
    "for valid_i in tqdm(valid_index_pmt_type):\n",
    "    clean_pmt_id = np.append(clean_pmt_id,pmt_id[valid_i])\n",
    "    \n",
    "print(clean_pmt_id)\n",
    "len(clean_pmt_id)"
   ]
  },
  {
   "cell_type": "markdown",
   "id": "7d82c2a9-7ec9-45b9-b304-e45badf12d9f",
   "metadata": {},
   "source": [
    "# Event Analysis\n",
    "\n",
    "Lest choose one event and see what we can see"
   ]
  },
  {
   "cell_type": "markdown",
   "id": "b5389cb9-d6da-47d0-ade5-8cbc3a872c32",
   "metadata": {},
   "source": [
    "### Useful variables"
   ]
  },
  {
   "cell_type": "code",
   "execution_count": 369,
   "id": "76ba0cb2-f109-42df-a5e5-575cce4541e7",
   "metadata": {
    "tags": []
   },
   "outputs": [
    {
     "data": {
      "text/plain": [
       "7674"
      ]
     },
     "execution_count": 369,
     "metadata": {},
     "output_type": "execute_result"
    }
   ],
   "source": [
    "event = 11 #EventID = 14 #EventID = 11,23,... is problematic\n",
    "condition = (evtid == event) #which event ID is true \n",
    "\n",
    "pmtid_ev = np.extract(condition, hit_pmtid) #Indices for which elements are True in eventID then extract the hit_pmtID\n",
    "time_res_ev = np.extract(condition, hit_residual)\n",
    "pmttime_ev = np.extract(condition, hit_pmttime)\n",
    "N_events = len(pmtid_ev)\n",
    "\n",
    "#special trait to extract positions...\n",
    "pre_mc_position_ev = np.array([]) #Monte Carlo position (pre bc need to be reshaped - coordinates are all aligned)\n",
    "pre_position_ev = np.array([]) \n",
    "\n",
    "mc_radius_ev = np.array([])  #Monte Carlo radius\n",
    "radius_ev = np.array([]) #reconstructed radius\n",
    "\n",
    "for i in where(condition)[0]:\n",
    "    pre_mc_position_ev = np.append(pre_mc_position_ev, mc_position[i])\n",
    "    pre_position_ev = np.append(pre_position_ev, position[i])\n",
    "mc_position_ev = pre_mc_position_ev.reshape(N_events,3)\n",
    "position_ev = pre_position_ev.reshape(N_events,3)\n",
    "\n",
    "for i in range(N_events):\n",
    "    mc_radius_ev = np.append(mc_radius_ev,magnitude(mc_position_ev[i]))\n",
    "    radius_ev = np.append(radius_ev, magnitude(position_ev[i]))\n",
    "\n",
    "#Now, lets compare the radius of mc and reconstructed radius\n",
    "\n",
    "dif_radi_ev = radius_ev - mc_radius_ev  # mc_radius_ev - radius_ev : useful to see where a bad reconstruction happened\n",
    "\n",
    "N_events\n",
    "#print(pmtid_ev)"
   ]
  },
  {
   "cell_type": "code",
   "execution_count": 370,
   "id": "859ac85e-f268-4865-8c01-f4ec42b53f19",
   "metadata": {},
   "outputs": [
    {
     "data": {
      "text/plain": [
       "array([27.57906944, 27.57906944, 27.57906944, ..., 43.70641415,\n",
       "       43.70641415, 43.70641415])"
      ]
     },
     "execution_count": 370,
     "metadata": {},
     "output_type": "execute_result"
    }
   ],
   "source": [
    "dif_radi"
   ]
  },
  {
   "cell_type": "markdown",
   "id": "709e8fa8-c511-45de-a497-13b31ad76c8c",
   "metadata": {},
   "source": [
    "### Distribuitions of variables for a choosen eventID"
   ]
  },
  {
   "cell_type": "code",
   "execution_count": 371,
   "id": "b5b81515-49a6-400f-9299-02ee921eaec3",
   "metadata": {},
   "outputs": [],
   "source": [
    "# distribuitions of variables for a choosen eventID\n",
    "var = [mc_radius_ev, radius_ev, dif_radi_ev ,time_res_ev, pmttime_ev]\n",
    "i = 3\n",
    "hist(var[i], 100, 'time_res_ev')"
   ]
  },
  {
   "cell_type": "code",
   "execution_count": 330,
   "id": "59e90c41-c1c1-49a5-852f-cf8dd7585a02",
   "metadata": {},
   "outputs": [],
   "source": [
    "hist2D(dif_radi_ev, pmtid_ev, 100, 'dif_radi_ev','pmtid_ev')"
   ]
  },
  {
   "cell_type": "code",
   "execution_count": 334,
   "id": "acffb7a7-e492-49d1-a323-8d49581301dc",
   "metadata": {},
   "outputs": [],
   "source": [
    "hist2D(mc_radius_ev, dif_radi_ev, 30, 'mc_radius_ev','dif_radi_ev')"
   ]
  },
  {
   "cell_type": "markdown",
   "id": "ec8efae9-e1c9-4bf7-bc66-199f474adae4",
   "metadata": {},
   "source": [
    "### Proof if it is right\n",
    "Was verified using ROOT, same entries!\n",
    "Open file .py in ROOT,\n",
    "T-> GetEntries('evtid==14')"
   ]
  },
  {
   "cell_type": "code",
   "execution_count": 372,
   "id": "0c9cad75-c38d-46cf-9cd8-2a1f881454c9",
   "metadata": {},
   "outputs": [
    {
     "data": {
      "text/plain": [
       "(array([ 1,  2,  3,  4,  5,  6,  7, 10]),\n",
       " array([9390,   91,   49,   22,    4,   32,    4,  136], dtype=int64))"
      ]
     },
     "execution_count": 372,
     "metadata": {},
     "output_type": "execute_result"
    }
   ],
   "source": [
    "np.unique(pmt_type,return_counts=True) #([Nº PMT Type],[Nº of PMTs])"
   ]
  },
  {
   "cell_type": "markdown",
   "id": "981e94a5-d90d-476f-8751-3c8064f1cb81",
   "metadata": {},
   "source": [
    "### Looking for the index of the PMT by mean their ID and extract coordinates"
   ]
  },
  {
   "cell_type": "markdown",
   "id": "ace65754-0730-4c00-8108-2b3c47450231",
   "metadata": {},
   "source": [
    "---------------------------------------"
   ]
  },
  {
   "cell_type": "markdown",
   "id": "1b34b747-db05-45ad-97a1-7235252024fb",
   "metadata": {},
   "source": [
    "Pruebas"
   ]
  },
  {
   "cell_type": "code",
   "execution_count": 286,
   "id": "bd4c572e-bfd9-4fae-8b3c-4fdc19a5b42c",
   "metadata": {
    "tags": []
   },
   "outputs": [
    {
     "data": {
      "text/plain": [
       "array([2, 3], dtype=int64)"
      ]
     },
     "execution_count": 286,
     "metadata": {},
     "output_type": "execute_result"
    }
   ],
   "source": [
    "# prueba\n",
    "a = np.array([1,1,2,2,4])\n",
    "(np.array(np.where(a == 2)))[0]"
   ]
  },
  {
   "cell_type": "code",
   "execution_count": 287,
   "id": "9827d3e5-b4d0-4797-b5a6-461b345ebf34",
   "metadata": {},
   "outputs": [
    {
     "name": "stdout",
     "output_type": "stream",
     "text": [
      "[ True False False  True  True  True]\n",
      "[ True False False  True]\n"
     ]
    }
   ],
   "source": [
    "#compare elements between arrays\n",
    "\n",
    "x = array([1,2,3,4])\n",
    "y = array([1,8,9,4,1,1])\n",
    "print(np.in1d(y,x)) #y in x -less convenient because of dim(y)>dim(x)\n",
    "print(np.in1d(x,y)) #x in y"
   ]
  },
  {
   "cell_type": "markdown",
   "id": "64ea1a19-bff8-424f-9591-9567015f6fec",
   "metadata": {},
   "source": [
    "-----------------------------------------"
   ]
  },
  {
   "cell_type": "code",
   "execution_count": 355,
   "id": "cb828f5a-5fd3-4e3e-98eb-61535a61e539",
   "metadata": {
    "tags": []
   },
   "outputs": [],
   "source": [
    "pmt_ids_idx = np.where(np.in1d(clean_pmt_id,pmtid_ev))[0] #index of PMTsID in pmtINFO in which is verified a hit in data"
   ]
  },
  {
   "cell_type": "code",
   "execution_count": 356,
   "id": "c6b8a912-fe6f-4417-82c5-8af682a063fd",
   "metadata": {},
   "outputs": [
    {
     "name": "stdout",
     "output_type": "stream",
     "text": [
      "[-99999. -99999. -99999.]\n",
      "[ 5467.54    63.44 -6406.27]\n",
      "[ 5615.16   266.8  -6251.09]\n",
      "[ 5762.73   469.91 -6095.92]\n",
      "[ 5910.5    673.23 -5940.54]\n",
      "[ 7295.12  3775.89 -1812.97]\n",
      "[ 5402.51   349.82 -6438.44]\n",
      "[ 5550.13   553.18 -6283.26]\n",
      "[ 5697.85   756.25 -6127.89]\n",
      "[ 2380.63  -176.3  -8059.18]\n"
     ]
    }
   ],
   "source": [
    "#index_pmt = array([index_pmt]).reshape((len(index)))\n",
    "for i_idx in range(0,10):\n",
    "    print(pmt_pos_xyz[i_idx])"
   ]
  },
  {
   "cell_type": "code",
   "execution_count": 357,
   "id": "7dc9d6d5-9b72-4032-b9a3-47587abef909",
   "metadata": {
    "tags": []
   },
   "outputs": [
    {
     "name": "stderr",
     "output_type": "stream",
     "text": [
      "100%|██████████████████████████████████████████████████████████████████████████| 4941/4941 [00:00<00:00, 215406.63it/s]\n"
     ]
    },
    {
     "data": {
      "text/plain": [
       "5467.54"
      ]
     },
     "execution_count": 357,
     "metadata": {},
     "output_type": "execute_result"
    }
   ],
   "source": [
    "#Extract coordinates of PMTs with hits\n",
    "\n",
    "hitpmt_coord = []\n",
    "\n",
    "#print(index_pmt)\n",
    "for i in tqdm(pmt_ids_idx):\n",
    "    #print(clean_pmt_id[i])\n",
    "    hitpmt_coord.append(pmt_pos_xyz[clean_pmt_id[i]])\n",
    "\n",
    "#print(len(hitpmt_coord))\n",
    "hitpmt_coord = np.array(hitpmt_coord)#.reshape((len(hitpmt_coord),3))\n",
    "hitpmt_coord[0][0]                              "
   ]
  },
  {
   "cell_type": "code",
   "execution_count": 291,
   "id": "f909babe-12e1-4329-8141-cc57437fe493",
   "metadata": {
    "tags": []
   },
   "outputs": [
    {
     "data": {
      "text/plain": [
       "array([   1,    2,    3, ..., 3536, 3856, 8163])"
      ]
     },
     "execution_count": 291,
     "metadata": {},
     "output_type": "execute_result"
    }
   ],
   "source": [
    "clean_pmt_id"
   ]
  },
  {
   "cell_type": "code",
   "execution_count": 292,
   "id": "3d940a4d-2ab0-4062-89e2-0c279ad025f5",
   "metadata": {
    "tags": []
   },
   "outputs": [
    {
     "data": {
      "text/plain": [
       "array([   0,    1,    2, ..., 9390, 9391, 9393], dtype=int64)"
      ]
     },
     "execution_count": 292,
     "metadata": {},
     "output_type": "execute_result"
    }
   ],
   "source": [
    "pmt_ids_idx"
   ]
  },
  {
   "cell_type": "code",
   "execution_count": 293,
   "id": "ac6f2c71-9e9f-40aa-8473-bc3f2fdb3368",
   "metadata": {},
   "outputs": [
    {
     "data": {
      "text/plain": [
       "5337"
      ]
     },
     "execution_count": 293,
     "metadata": {},
     "output_type": "execute_result"
    }
   ],
   "source": [
    "len(pmt_ids_idx)"
   ]
  },
  {
   "cell_type": "code",
   "execution_count": 294,
   "id": "a9ff2d2c-97ee-4db3-9e52-ab4a75becb1f",
   "metadata": {
    "tags": []
   },
   "outputs": [
    {
     "data": {
      "text/plain": [
       "(5337, 3)"
      ]
     },
     "execution_count": 294,
     "metadata": {},
     "output_type": "execute_result"
    }
   ],
   "source": [
    "np.shape(hitpmt_coord)"
   ]
  },
  {
   "cell_type": "code",
   "execution_count": 295,
   "id": "e54c98e0-fa41-4773-853d-98c05662f4bf",
   "metadata": {
    "tags": []
   },
   "outputs": [
    {
     "data": {
      "text/plain": [
       "array([[ 5467.54,    63.44, -6406.27],\n",
       "       [ 5615.16,   266.8 , -6251.09],\n",
       "       [ 5762.73,   469.91, -6095.92],\n",
       "       ...,\n",
       "       [ 1050.26,  7415.17,  3846.69],\n",
       "       [-4287.58,  6152.61,  3796.11],\n",
       "       [ 2545.4 , -7078.81,  3737.76]])"
      ]
     },
     "execution_count": 295,
     "metadata": {},
     "output_type": "execute_result"
    }
   ],
   "source": [
    "hitpmt_coord"
   ]
  },
  {
   "cell_type": "markdown",
   "id": "2318f9d6-03d4-4f79-aaa0-e8dacccc6b5c",
   "metadata": {},
   "source": [
    "### PMT hit coord distribution"
   ]
  },
  {
   "cell_type": "code",
   "execution_count": 149,
   "id": "a15353fa-46f7-4ffe-9947-107b430ad1c5",
   "metadata": {},
   "outputs": [
    {
     "name": "stdout",
     "output_type": "stream",
     "text": [
      "Using matplotlib backend: Qt5Agg\n"
     ]
    },
    {
     "data": {
      "text/plain": [
       "<mpl_toolkits.mplot3d.art3d.Path3DCollection at 0x2db37514df0>"
      ]
     },
     "execution_count": 149,
     "metadata": {},
     "output_type": "execute_result"
    }
   ],
   "source": [
    "%matplotlib\n",
    "fig = plt.figure(figsize = (10,10))\n",
    "ax = plt.axes(projection='3d')\n",
    "ax.grid()\n",
    "\n",
    "x = hitpmt_coord[:,0]\n",
    "y = hitpmt_coord[:,1]\n",
    "z = hitpmt_coord[:,2]\n",
    "\n",
    "ax.scatter(x, y, z, c = 'r', s = 1)\n",
    "#plt.xlim(-10000,10000)\n",
    "#plt.ylim(-10000,10000)"
   ]
  },
  {
   "cell_type": "markdown",
   "id": "b4dc4de9-9356-415b-9d5c-b381c91b4b38",
   "metadata": {},
   "source": [
    "### Now, take this cleaned PMT id and lets clean data for a given event ID"
   ]
  },
  {
   "cell_type": "markdown",
   "id": "49ffdb2d-8414-43b2-8c27-ecd0176f74f4",
   "metadata": {},
   "source": [
    "- Usar PMTid_clean para buscar los indices de los pmts que dieron hit --> comparar (clean_pmt_id, hit_pmtid);\n",
    "- Teniendo esa comparación extraer indices y extraer clean info. usando los indices;"
   ]
  },
  {
   "cell_type": "markdown",
   "id": "9644505f-feff-4abe-ad02-3be090965f56",
   "metadata": {},
   "source": [
    "#### Lets see the time residuals for the clean type PMT\n"
   ]
  },
  {
   "cell_type": "code",
   "execution_count": 373,
   "id": "fcfe7e39-47cf-4a8d-a34b-1cde262e303a",
   "metadata": {},
   "outputs": [
    {
     "name": "stderr",
     "output_type": "stream",
     "text": [
      "100%|███████████████████████████████████████████████████████████████████████████| 7662/7662 [00:00<00:00, 20430.30it/s]\n"
     ]
    }
   ],
   "source": [
    "time_res_clean = np.array([]) #Time residuals of clean data given a event\n",
    "pmttime_clean = np.array([]) #time of pmt hit of in clean data given a event\n",
    "pmtid_clean_ev = np.array([], dtype = np.int32) #clean pmt ID given a event\n",
    "dif_radi_clean_ev = np.array([])  #clean radius diference\n",
    "\n",
    "for i in tqdm(where(np.in1d(pmtid_ev, clean_pmt_id))[0]):\n",
    "    pmtid_clean_ev = np.append(pmtid_clean_ev, pmtid_ev[i])\n",
    "    time_res_clean = np.append(time_res_clean, hit_residual[i])\n",
    "    pmttime_clean = np.append(pmttime_clean,hit_pmttime[i])\n",
    "    dif_radi_clean_ev = np.append(dif_radi_clean_ev,dif_radi_ev[i])"
   ]
  },
  {
   "cell_type": "code",
   "execution_count": 374,
   "id": "83f11ed6-51cf-43ca-9906-559052d4a4dc",
   "metadata": {},
   "outputs": [],
   "source": [
    "var_clean  = [time_res_clean, pmttime_clean, pmtid_clean_ev, dif_radi_clean_ev]\n",
    "i = 0\n",
    "hist(var_clean[i], 100,'time_res_clean')\n",
    "\n",
    "# It shows how time residuals still getting high nevative values! Lets look the PMT ID which cause this ..."
   ]
  },
  {
   "cell_type": "markdown",
   "id": "1cd3acb4-318f-44fe-bd91-dde5371af9f9",
   "metadata": {},
   "source": [
    "Hace sentido time residual a -600? ya verifique los cortes y desaparece el pico t t_res = -10.000 usando evento ID=11"
   ]
  },
  {
   "cell_type": "code",
   "execution_count": 324,
   "id": "08f34426-376b-4b36-b868-8c300ac85aff",
   "metadata": {},
   "outputs": [],
   "source": [
    "hist2D(dif_radi_clean_ev, pmtid_clean_ev, 100, 'dif_radi_clean_ev','pmtid_clean_ev')"
   ]
  },
  {
   "cell_type": "markdown",
   "id": "9db1dfb6-286e-4e3a-a66a-9ded838d9f68",
   "metadata": {},
   "source": [
    "Cortar time residuar < -200 ns"
   ]
  },
  {
   "cell_type": "code",
   "execution_count": 360,
   "id": "616a17a9-b6d2-4ddc-ab9b-ed35f64d6020",
   "metadata": {},
   "outputs": [
    {
     "name": "stdout",
     "output_type": "stream",
     "text": [
      "here\n",
      "here\n",
      "here\n",
      "here\n",
      "here\n",
      "here\n",
      "here\n",
      "here\n"
     ]
    }
   ],
   "source": [
    "r = time_res_clean < -200\n",
    "for i in r:\n",
    "    if i == True:\n",
    "        print('here')"
   ]
  },
  {
   "cell_type": "code",
   "execution_count": 361,
   "id": "18a3a6b6-a001-474e-b7ee-5714d1ddd2d0",
   "metadata": {},
   "outputs": [],
   "source": [
    "for i in pmtid_clean_ev:\n",
    "    #if i == 9207:\n",
    "    if i == 8080:\n",
    "        print('here')"
   ]
  },
  {
   "cell_type": "code",
   "execution_count": 362,
   "id": "d6d7d10f-2d0a-49b1-82b2-123205e9fbcb",
   "metadata": {},
   "outputs": [],
   "source": [
    "hist(pmttime_clean, 100, 'hit_pmttime')"
   ]
  },
  {
   "cell_type": "markdown",
   "id": "c5f4d406-c812-4435-a70a-e5ab063672d7",
   "metadata": {},
   "source": [
    "No es culpa del pmt time visto que corta su valor negativo para el evento ID = 11"
   ]
  },
  {
   "cell_type": "markdown",
   "id": "24e242fb-c95d-4d80-8846-71a39eb3c68f",
   "metadata": {},
   "source": [
    "##### IDs and postion of PMTs giving t_res<-200 for this evet"
   ]
  },
  {
   "cell_type": "code",
   "execution_count": 375,
   "id": "d52470e4-8f83-41e5-8283-e31fb956a23d",
   "metadata": {},
   "outputs": [
    {
     "data": {
      "text/plain": [
       "array([5737, 8947, 9496, 6517,  407,  604,  330, 2440, 6491])"
      ]
     },
     "execution_count": 375,
     "metadata": {},
     "output_type": "execute_result"
    }
   ],
   "source": [
    "pmtid_fail_ev = np.array([], dtype = np.int32) #id of pmt giving time residual < -200\n",
    "\n",
    "fail_i = where(time_res_clean < -200)[0]\n",
    "\n",
    "for i in fail_i:\n",
    "    pmtid_fail_ev = np.append(pmtid_fail_ev, pmtid_clean_ev[i])\n",
    "pmtid_fail_ev"
   ]
  },
  {
   "cell_type": "code",
   "execution_count": 376,
   "id": "4c93e582-4a4a-43aa-b06c-ef072c04fae8",
   "metadata": {},
   "outputs": [
    {
     "data": {
      "text/plain": [
       "array([[ 7623.35,  3569.09,  -290.55],\n",
       "       [ 7852.84,   628.75,  2993.56],\n",
       "       [ 5739.77,  3835.63, -4825.13],\n",
       "       [  295.16,  8271.94, -1059.26],\n",
       "       [-4547.3 , -5391.39, -4584.72],\n",
       "       [-2088.14, -1833.55,  7950.91],\n",
       "       [-3061.25,  -454.16,  7811.11],\n",
       "       [ 5420.38, -1125.62,  6347.57],\n",
       "       [ 8340.54,   118.36,  1047.87]])"
      ]
     },
     "execution_count": 376,
     "metadata": {},
     "output_type": "execute_result"
    }
   ],
   "source": [
    "#now see where are these PMTs fails\n",
    "fail_coord_xyz_ev = []\n",
    "\n",
    "fail_pmtid_i = where(np.in1d(pmt_id, pmtid_fail_ev))[0] #pmt ID index in pmt info for which time residual < -200 for this evtID\n",
    "#fail_pos_i\n",
    "\n",
    "for i in fail_pmtid_i:\n",
    "    fail_coord_xyz_ev.append(pmt_pos_xyz[pmt_id[i]])\n",
    "    \n",
    "fail_coord_xyz_ev = np.array(fail_coord_xyz_ev)\n",
    "fail_coord_xyz_ev"
   ]
  },
  {
   "cell_type": "code",
   "execution_count": 377,
   "id": "20944168-401a-44e2-8efb-e1e1a6827d18",
   "metadata": {},
   "outputs": [
    {
     "data": {
      "text/plain": [
       "<mpl_toolkits.mplot3d.art3d.Path3DCollection at 0x2db37f43790>"
      ]
     },
     "execution_count": 377,
     "metadata": {},
     "output_type": "execute_result"
    }
   ],
   "source": [
    "fig = plt.figure(figsize = (10,10))\n",
    "ax = plt.axes(projection='3d')\n",
    "ax.grid()\n",
    "\n",
    "x = fail_coord_xyz_ev[:,0]\n",
    "y = fail_coord_xyz_ev[:,1]\n",
    "z = fail_coord_xyz_ev[:,2]\n",
    "\n",
    "ax.scatter(x, y, z, c = 'r', s = 10)\n",
    "#plt.xlim(-10000,10000)\n",
    "#plt.ylim(-10000,10000)"
   ]
  },
  {
   "cell_type": "markdown",
   "id": "0cb5d1b0-e0f6-4b84-871a-fec93641df08",
   "metadata": {},
   "source": [
    "## Ultracleaning process after the clean_variables are gotten - pmtIDs of high negative time residuals for a given eventsID\n",
    "\n",
    "#### The ultracleaning process variates with the eventID choosen, so the PMT info. derived will not be general!!"
   ]
  },
  {
   "cell_type": "code",
   "execution_count": 208,
   "id": "7334bc64-3972-4ede-8e46-b80570c02e5f",
   "metadata": {},
   "outputs": [
    {
     "data": {
      "text/plain": [
       "array([2579, 8519, 8484, ..., 2876, 8143, 2515])"
      ]
     },
     "execution_count": 208,
     "metadata": {},
     "output_type": "execute_result"
    }
   ],
   "source": [
    "ultraclean_pmtid_ev = np.array([],dtype= np.int32) #PMT ID corresponding to time_residuals > -200\n",
    "ultraclean_time_res = np.array([])  #Time residual values after the ultraclean process\n",
    "\n",
    "ultra_i = where(time_res_clean > -200)[0] #Index from which will pick up  the PMT ID ultra clean (without time_residual < -200)\n",
    "\n",
    "for i in ultra_i:\n",
    "    ultraclean_pmtid_ev = np.append(ultraclean_pmtid_ev,pmtid_clean_ev[i])\n",
    "    ultraclean_time_res = np.append(ultraclean_time_res, time_res_clean[i])\n",
    "ultraclean_pmtid_ev\n",
    "\n",
    "#AQUI NO HAY PROBLEMA"
   ]
  },
  {
   "cell_type": "code",
   "execution_count": 209,
   "id": "7f5ea92f-728d-4d02-8c23-8be96bb392fa",
   "metadata": {},
   "outputs": [],
   "source": [
    "hist(ultraclean_time_res, 100, 'ultraclean_time_res')"
   ]
  },
  {
   "cell_type": "code",
   "execution_count": 198,
   "id": "d609f16c-8e18-47c5-8254-ae46cca258a1",
   "metadata": {},
   "outputs": [],
   "source": [
    "for i in ultra_i:\n",
    "    if i < -200:\n",
    "        print('here')"
   ]
  },
  {
   "cell_type": "code",
   "execution_count": 199,
   "id": "94a48bd8-9837-4386-adf5-597e1f885415",
   "metadata": {},
   "outputs": [
    {
     "data": {
      "text/plain": [
       "7653"
      ]
     },
     "execution_count": 199,
     "metadata": {},
     "output_type": "execute_result"
    }
   ],
   "source": [
    "len(pmtid_clean_ev)\n",
    "len(ultraclean_pmtid_ev)"
   ]
  },
  {
   "cell_type": "markdown",
   "id": "fcf3e7e2-b969-4382-8d93-cce90232ac3f",
   "metadata": {},
   "source": [
    "#### (ultraclean) PMT id"
   ]
  },
  {
   "cell_type": "code",
   "execution_count": 211,
   "id": "a665054f-9267-494e-bf18-1922bc9d2ba9",
   "metadata": {},
   "outputs": [
    {
     "data": {
      "text/plain": [
       "array([   1,    2,    3, ..., 2515, 3536, 8163])"
      ]
     },
     "execution_count": 211,
     "metadata": {},
     "output_type": "execute_result"
    }
   ],
   "source": [
    "#extract the PMT ID ultra Clean for this event\n",
    "\n",
    "ultra_PMTid = np.array([], dtype = np.int32)\n",
    "index = where(np.in1d(clean_pmt_id, ultraclean_pmtid_ev))[0]\n",
    "\n",
    "for i in index:\n",
    "    ultra_PMTid = np.append(ultra_PMTid, clean_pmt_id[i])\n",
    "ultra_PMTid"
   ]
  },
  {
   "cell_type": "markdown",
   "id": "4b9ed4eb-e8bc-4600-b674-90b2a5711e9f",
   "metadata": {},
   "source": [
    "## Lest cut and look for Cherenkov usign the ultraclean data"
   ]
  },
  {
   "cell_type": "code",
   "execution_count": 241,
   "id": "0d05cc08-bafd-47ee-ba64-8045711a0ff2",
   "metadata": {},
   "outputs": [
    {
     "data": {
      "text/plain": [
       "array([2579, 8519, 8484, ..., 8472, 2171, 1518], dtype=int64)"
      ]
     },
     "execution_count": 241,
     "metadata": {},
     "output_type": "execute_result"
    }
   ],
   "source": [
    "cut = 1 #cut for 10 ns in time residual\n",
    "\n",
    "cev_pmt_id_ev = np.array([], dtype = np.int64) #PMT id of the cherenkov event \n",
    "\n",
    "cev_index = where(ultraclean_time_res <= 10)[0]\n",
    "\n",
    "for i_dx in cev_index:\n",
    "    cev_pmt_id_ev = np.append(cev_pmt_id_ev, ultraclean_pmtid_ev[i_dx])\n",
    "    \n",
    "cev_pmt_id_ev"
   ]
  },
  {
   "cell_type": "code",
   "execution_count": 242,
   "id": "312699c6-38aa-4cbe-8427-31165ceb7a3f",
   "metadata": {},
   "outputs": [
    {
     "data": {
      "text/plain": [
       "array([[ 5467.54,    63.44, -6406.27],\n",
       "       [ 5762.73,   469.91, -6095.92],\n",
       "       [ 7295.12,  3775.89, -1812.97],\n",
       "       ...,\n",
       "       [ 6497.03, -5090.15,  1679.06],\n",
       "       [ 6196.91, -5402.28,  1664.71],\n",
       "       [ 6078.68, -5666.4 ,  1149.76]])"
      ]
     },
     "execution_count": 242,
     "metadata": {},
     "output_type": "execute_result"
    }
   ],
   "source": [
    "cev_coord_xyz = []\n",
    "\n",
    "for j in where(np.in1d(pmt_id, cev_pmt_id_ev))[0]:\n",
    "    cev_coord_xyz.append(pmt_pos_xyz[pmt_id[j]])\n",
    "cev_coord_xyz = np.array(cev_coord_xyz)\n",
    "cev_coord_xyz"
   ]
  },
  {
   "cell_type": "markdown",
   "id": "00ad89d7-8e4a-4d41-869f-bc82cb514f8c",
   "metadata": {},
   "source": [
    "### Now, lets see how the events looks -> See the coordinates of ultraclean PMTs giving hits"
   ]
  },
  {
   "cell_type": "markdown",
   "id": "c92d9882-42c6-440d-b34b-c6dc55d3caa5",
   "metadata": {},
   "source": [
    "#### (ultraclean) PMT coordinates with hits and PMT id in PMT info"
   ]
  },
  {
   "cell_type": "code",
   "execution_count": 230,
   "id": "4b4f6572-39be-4919-a425-020e2058f26f",
   "metadata": {},
   "outputs": [],
   "source": [
    "ultra_coordinates = [] #coordinates od PMTs after an ultracleaning\n",
    "\n",
    "ultra_PMTid_i = where(np.in1d(pmt_id, ultraclean_pmtid_ev))[0] #index of ultraclean PMT ID in info PMT\n",
    "\n",
    "for i in ultra_PMTid_i:\n",
    "    ultra_coordinates.append(pmt_pos_xyz[pmt_id[i]])\n",
    "    \n",
    "ultra_coordinates = np.array(ultra_coordinates)"
   ]
  },
  {
   "cell_type": "code",
   "execution_count": 213,
   "id": "80e55c8f-1a07-4044-aaa2-203bfc8f56d1",
   "metadata": {},
   "outputs": [
    {
     "data": {
      "text/plain": [
       "<mpl_toolkits.mplot3d.art3d.Path3DCollection at 0x2db3b182c70>"
      ]
     },
     "execution_count": 213,
     "metadata": {},
     "output_type": "execute_result"
    }
   ],
   "source": [
    "fig = plt.figure(figsize = (10,10))\n",
    "ax = plt.axes(projection='3d')\n",
    "ax.grid()\n",
    "\n",
    "x = ultra_coordinates[:,0]\n",
    "y = ultra_coordinates[:,1]\n",
    "z = ultra_coordinates[:,2]\n",
    "\n",
    "ax.scatter(x, y, z, c = 'r', s = 1)"
   ]
  },
  {
   "cell_type": "code",
   "execution_count": 243,
   "id": "146eacb3-78ac-4de5-82c9-8f91e03c92b9",
   "metadata": {},
   "outputs": [
    {
     "data": {
      "text/plain": [
       "<mpl_toolkits.mplot3d.art3d.Path3DCollection at 0x2db5ce69850>"
      ]
     },
     "execution_count": 243,
     "metadata": {},
     "output_type": "execute_result"
    }
   ],
   "source": [
    "fig = plt.figure(figsize = (10,10))\n",
    "ax = plt.axes(projection='3d')\n",
    "ax.grid()\n",
    "\n",
    "x = cev_coord_xyz[:,0]\n",
    "y = cev_coord_xyz[:,1]\n",
    "z = cev_coord_xyz[:,2]\n",
    "\n",
    "ax.scatter(x, y, z, c = 'r', s = 1)"
   ]
  },
  {
   "cell_type": "markdown",
   "id": "75d43ac4-5678-4628-b444-55e7256c38c3",
   "metadata": {},
   "source": [
    "#### (ultraclean) Time Residual"
   ]
  },
  {
   "cell_type": "code",
   "execution_count": 135,
   "id": "d3a6da56-4f15-4832-807c-597fc104fef4",
   "metadata": {},
   "outputs": [],
   "source": [
    "ultra_timeresidual_ev = np.array([])  #time residual after all the cuts of PMT ID - should give exactly time_res > -200\n",
    "\n",
    "index = where(np.in1d(pmtid_clean_ev,ultra_PMTid))[0]\n",
    "\n",
    "for i in index:\n",
    "    ultra_time_residual_ev = np.append(ultra_time_residual_ev, time_res_clean[i])"
   ]
  },
  {
   "cell_type": "code",
   "execution_count": 136,
   "id": "9b9281c0-a26b-4489-bdaf-383eddeceb2b",
   "metadata": {},
   "outputs": [],
   "source": [
    "hist(ultra_time_residual_ev, 100, 'ultra_time_residual_ev')"
   ]
  },
  {
   "cell_type": "markdown",
   "id": "d410adeb-3f63-43f5-8639-6b2cf064c0ba",
   "metadata": {},
   "source": [
    "### Looks fine! Now lest cut in Time Residual values and see what we find (pray for me...)"
   ]
  },
  {
   "cell_type": "code",
   "execution_count": null,
   "id": "2af2e037-7447-4dbe-a449-f71dcebf404f",
   "metadata": {},
   "outputs": [],
   "source": []
  }
 ],
 "metadata": {
  "kernelspec": {
   "display_name": "Python 3",
   "language": "python",
   "name": "python3"
  },
  "language_info": {
   "codemirror_mode": {
    "name": "ipython",
    "version": 3
   },
   "file_extension": ".py",
   "mimetype": "text/x-python",
   "name": "python",
   "nbconvert_exporter": "python",
   "pygments_lexer": "ipython3",
   "version": "3.8.8"
  }
 },
 "nbformat": 4,
 "nbformat_minor": 5
}
