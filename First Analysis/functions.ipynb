{
 "cells": [
  {
   "cell_type": "code",
   "execution_count": 40,
   "id": "8b6d2050-86b3-4c0b-a597-875e5764e3ea",
   "metadata": {},
   "outputs": [],
   "source": [
    "import uproot\n",
    "import numpy as np\n",
    "import matplotlib.pyplot as plt\n",
    "import seaborn as sn\n",
    "from tqdm import tqdm\n",
    "from mpl_toolkits import mplot3d\n",
    "from numpy import array, where, shape, reshape"
   ]
  },
  {
   "cell_type": "code",
   "execution_count": 41,
   "id": "cb1ec15b-1aa9-4d84-83fa-3a925226d06f",
   "metadata": {},
   "outputs": [],
   "source": [
    "file = uproot.open(\"/sno/py_out1.root\")"
   ]
  },
  {
   "cell_type": "code",
   "execution_count": 42,
   "id": "49437f55-4547-4650-8f43-6a290746ce2b",
   "metadata": {},
   "outputs": [],
   "source": [
    "def EV_info(file ,evID):\n",
    "    #function which extracts info. of an event given the event ID\n",
    "    \n",
    "    import uproot\n",
    "    import numpy as np\n",
    "    from numpy import array, where, shape, reshape\n",
    "    \n",
    "    #Load file\n",
    "    #file = uproot.open(\"/sno/py_out1.root\")\n",
    "    #EV info\n",
    "    data1 = file['T;7']\n",
    "    \n",
    "    evtid = np.array(data1['evtid'])\n",
    "    mc_position = np.array(data1['mc_position'])\n",
    "    position = np.array(data1['position'])\n",
    "    hit_pmtid = np.array(data1['hit_pmtid'])\n",
    "    hit_residual = np.array(data1['hit_residual'])\n",
    "    hit_type = np.array(data1['hit_type'])\n",
    "    \n",
    "    #Extract the event given the evtid----------------------\n",
    "    condition = (evID == evtid)\n",
    "    \n",
    "    #if condition satisfied, extract the information in the index where the condition is True\n",
    "    mc_position_ev = np.extract(condition, mc_position)\n",
    "    position_ev = np.extract(condition, position)\n",
    "    residual_ev = np.extract(condition, hit_residual)\n",
    "    type_e = np.extract(condition, hit_type)\n",
    "    \n",
    "    #Indices for which elements are True in eventID then extract the hit_pmtID and save in pmtif_ev\n",
    "    pmtid_ev = np.extract(condition, hit_pmtid) \n",
    "    \n",
    "    return pmtid_ev"
   ]
  },
  {
   "cell_type": "code",
   "execution_count": 43,
   "id": "84a89ae5-8235-4831-81ed-d0b624a59e6c",
   "metadata": {},
   "outputs": [],
   "source": [
    "def clean_pmt_type(file, type_, evID):\n",
    "    \n",
    "    #clean_pmt <=> list of PMT id and index of the pmt_type desired\n",
    "    #Function that receive the type of PMT desired to clean the PMT type for a given event ID (evID).\n",
    "    \n",
    "    # Receive the pmtid of the hit pmt given an event and return the id and index (onto PMT info) of the PMT \n",
    "    # such that the coordinate of PMT can be extracted.\n",
    "    \n",
    "    import uproot\n",
    "    import numpy as np\n",
    "    import matplotlib.pyplot as plt\n",
    "    import seaborn as sn\n",
    "    from tqdm import tqdm\n",
    "    from mpl_toolkits import mplot3d\n",
    "    from numpy import array, where, shape, reshape\n",
    "    \n",
    "    #upload file\n",
    "    #file = uproot.open(\"/sno/py_out1.root\")\n",
    "    \n",
    "    #pmt_info\n",
    "    pmt_info = file['pmt;1']\n",
    "    \n",
    "    pmt_id = array(pmt_info['pmt_id'])\n",
    "    #pmt_pos_xyz = array(pmt_info['pmt_pos_xyz'])\n",
    "    #pmt_pos_sph = array(pmt_info['pmt_pos_sph'])\n",
    "    pmt_type = array(pmt_info['pmt_type'])\n",
    "    \n",
    "    #selection of PMT type-------------------------------------\n",
    "    clean_pmt_id = np.array([],np.int32)                   #pmtID of the desired type\n",
    "    valid_index_pmt_type = np.array([],np.int32)           #index of the desired PMTs for the type required\n",
    "    \n",
    "    for type_i in type_:\n",
    "        p = where(pmt_type == type_i)[0]  # p get the indices where the PMT_type are for each type_ desired\n",
    "        valid_index_pmt_type = np.concatenate((valid_index_pmt_type,p))\n",
    "        \n",
    "    for valid_i in valid_index_pmt_type:\n",
    "        clean_pmt_id = np.append(clean_pmt_id,pmt_id[valid_i])\n",
    "        \n",
    "\n",
    "    # Extract the indices and ID of the clean PMT given the event-------------------\n",
    "    \n",
    "    pmtid_ev = EV_info(file, evID)                                    #Get the array of pmtID which verify a hit\n",
    "    \n",
    "    pmt_clean_id_i = where(np.in1d(clean_pmt_id, pmtid_ev))[0]        # Get the index on the PMT info when the PMT cleaned list is in the PMT ID event\n",
    "    \n",
    "    return pmt_clean_id_i, clean_pmt_id"
   ]
  },
  {
   "cell_type": "code",
   "execution_count": 44,
   "id": "d8822e1f-ee0e-4cc9-9257-aa835d54a305",
   "metadata": {},
   "outputs": [
    {
     "name": "stdout",
     "output_type": "stream",
     "text": [
      "[   1    2    3 ... 3536 3856 8163]\n"
     ]
    }
   ],
   "source": [
    " , clean_pmt_id = clean_pmt_type(file, [1,7], 14)\n",
    "#print(PMT_i_clean)\n",
    "print(clean_pmt_id)"
   ]
  },
  {
   "cell_type": "code",
   "execution_count": 48,
   "id": "ea4b901e-e538-4e3d-a22d-152dc1064286",
   "metadata": {},
   "outputs": [],
   "source": [
    "def GetCoordinateshitPMT(file, type_, evID):\n",
    "    \n",
    "    #Function that receives the type of PMT and event ID of interest and return the PMT coordinates\n",
    "    #ruturn PMT coordinates in [(x,y,z), (tetha,phi,r)]\n",
    "    \n",
    "    #Load file\n",
    "    file = uproot.open(\"/sno/py_out1.root\")\n",
    "    pmt_info = file['pmt;1']\n",
    "    \n",
    "    pmt_id = array(pmt_info['pmt_id'])\n",
    "    pmt_pos_xyz = array(pmt_info['pmt_pos_xyz'])\n",
    "    pmt_pos_sph = array(pmt_info['pmt_pos_sph'])\n",
    "    \n",
    "    hitpmt_coordxyz = []\n",
    "    hitpmt_coordsphe = []\n",
    "    \n",
    "    #Look fot the clean PMT IDs from clean_pmt_type function\n",
    "    \n",
    "    pmt_clean_id_i ,clean_pmt_id = clean_pmt_type(file, type_, evID)\n",
    "    \n",
    "    for i in pmt_clean_id_i:\n",
    "        hitpmt_coordxyz.append(pmt_pos_xyz[clean_pmt_id[i]])\n",
    "        hitpmt_coordsphe.append(pmt_pos_sph[clean_pmt_id[i]])\n",
    "        \n",
    "    #arange of information\n",
    "    \n",
    "    \n",
    "        \n",
    "    return array(hitpmt_coordxyz), array(hitpmt_coordsphe)\n",
    "    "
   ]
  },
  {
   "cell_type": "code",
   "execution_count": 49,
   "id": "159eefa0-987e-4369-a390-23f4a0cfcb9d",
   "metadata": {
    "tags": []
   },
   "outputs": [],
   "source": [
    "hitpmt_coordxyz,_ = GetCoordinateshitPMT(file, [1,7], 15)"
   ]
  },
  {
   "cell_type": "code",
   "execution_count": 50,
   "id": "11dcaa40-ed92-4169-acce-d35bfe0a843f",
   "metadata": {
    "tags": []
   },
   "outputs": [
    {
     "data": {
      "text/plain": [
       "array([[ 5467.54,    63.44, -6406.27],\n",
       "       [ 5615.16,   266.8 , -6251.09],\n",
       "       [ 5762.73,   469.91, -6095.92],\n",
       "       ...,\n",
       "       [-4287.58,  6152.61,  3796.11],\n",
       "       [-6600.28,  3114.85,  4197.48],\n",
       "       [ 2545.4 , -7078.81,  3737.76]])"
      ]
     },
     "execution_count": 50,
     "metadata": {},
     "output_type": "execute_result"
    }
   ],
   "source": [
    "hitpmt_coordxyz"
   ]
  },
  {
   "cell_type": "code",
   "execution_count": 30,
   "id": "c0475e96-835f-4434-a101-554201f8f7c3",
   "metadata": {},
   "outputs": [
    {
     "name": "stdout",
     "output_type": "stream",
     "text": [
      "Using matplotlib backend: Qt5Agg\n"
     ]
    },
    {
     "data": {
      "text/plain": [
       "<mpl_toolkits.mplot3d.art3d.Path3DCollection at 0x1afadfea5b0>"
      ]
     },
     "execution_count": 30,
     "metadata": {},
     "output_type": "execute_result"
    }
   ],
   "source": [
    "%matplotlib\n",
    "\n",
    "fig = plt.figure(figsize = (10,10))\n",
    "ax = plt.axes(projection='3d')\n",
    "ax.grid()\n",
    "\n",
    "x = hitpmt_coordxyz[:,0]\n",
    "y = hitpmt_coordxyz[:,1]\n",
    "z = hitpmt_coordxyz[:,2]\n",
    "\n",
    "ax.scatter(x, y, z, c = 'r', s = 1)"
   ]
  },
  {
   "cell_type": "markdown",
   "id": "870d6b96-5176-494d-aa51-732621901a53",
   "metadata": {},
   "source": [
    "## Plot functions"
   ]
  },
  {
   "cell_type": "code",
   "execution_count": null,
   "id": "fe37c80f-3071-47ab-b19e-a98b1379409e",
   "metadata": {},
   "outputs": [],
   "source": [
    "def hist(x):\n",
    "    \n",
    "    import seaborn as sn\n",
    "    \n",
    "    \n",
    "    #histogram function\n",
    "    \n",
    "    plt.figure(figsize=(8,6))\n",
    "    sn.histplot(x, bins = 100)\n",
    "    plt.xlabel('hit_time_residual')\n",
    "    plt.ylabel('events')\n",
    "    plt.yscale('log')"
   ]
  }
 ],
 "metadata": {
  "kernelspec": {
   "display_name": "Python 3",
   "language": "python",
   "name": "python3"
  },
  "language_info": {
   "codemirror_mode": {
    "name": "ipython",
    "version": 3
   },
   "file_extension": ".py",
   "mimetype": "text/x-python",
   "name": "python",
   "nbconvert_exporter": "python",
   "pygments_lexer": "ipython3",
   "version": "3.8.8"
  }
 },
 "nbformat": 4,
 "nbformat_minor": 5
}
