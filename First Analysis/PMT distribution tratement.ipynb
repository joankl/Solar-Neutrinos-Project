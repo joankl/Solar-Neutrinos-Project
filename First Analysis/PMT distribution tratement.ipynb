{
 "cells": [
  {
   "cell_type": "code",
   "execution_count": 1,
   "id": "90c9f90e-4dc3-4d95-b5a8-fb3c178778dd",
   "metadata": {},
   "outputs": [
    {
     "name": "stderr",
     "output_type": "stream",
     "text": [
      "C:\\ProgramData\\Anaconda3\\lib\\site-packages\\scipy\\__init__.py:138: UserWarning: A NumPy version >=1.16.5 and <1.23.0 is required for this version of SciPy (detected version 1.24.2)\n",
      "  warnings.warn(f\"A NumPy version >={np_minversion} and <{np_maxversion} is required for this version of \"\n"
     ]
    }
   ],
   "source": [
    "import uproot\n",
    "\n",
    "from analysis_simulation import Analysis_simulation, magnitude\n",
    "\n",
    "import matplotlib.pyplot as plt\n",
    "from mpl_toolkits import mplot3d\n",
    "from matplotlib import cm\n",
    "import seaborn as sn\n",
    "from tqdm import tqdm\n",
    "\n",
    "import numpy as np\n",
    "from numpy import array, where, shape, reshape, pi, cos, sin, sqrt, linspace\n",
    "np.set_printoptions(threshold=1000)"
   ]
  },
  {
   "cell_type": "markdown",
   "id": "2a256332-eec7-407c-80f2-e246a8acf8dd",
   "metadata": {},
   "source": [
    "# 1) Mapping all PMT"
   ]
  },
  {
   "cell_type": "code",
   "execution_count": 2,
   "id": "274aac8a-5e8a-4677-8c19-eefbedfd25bc",
   "metadata": {},
   "outputs": [],
   "source": [
    "file = uproot.open(\"/sno/py_out1.root\")"
   ]
  },
  {
   "cell_type": "markdown",
   "id": "e5b0f5d2-1b7e-4bc9-8d4d-89544c1c847c",
   "metadata": {},
   "source": [
    "### Simulation data"
   ]
  },
  {
   "cell_type": "code",
   "execution_count": 3,
   "id": "9f827343-c35f-4ffe-a026-c9bee42ac6e2",
   "metadata": {},
   "outputs": [
    {
     "data": {
      "text/plain": [
       "['evtid',\n",
       " 'mc_position',\n",
       " 'mc_momentum',\n",
       " 'position',\n",
       " 'momentum',\n",
       " 'hit_pmtid',\n",
       " 'hit_pmttime',\n",
       " 'hit_residual',\n",
       " 'hit_type']"
      ]
     },
     "execution_count": 3,
     "metadata": {},
     "output_type": "execute_result"
    }
   ],
   "source": [
    "data1 = file['T;7']\n",
    "data1.keys()"
   ]
  },
  {
   "cell_type": "code",
   "execution_count": 4,
   "id": "a6fa577e-58a8-4448-93d0-13f65ca54020",
   "metadata": {},
   "outputs": [],
   "source": [
    "evtid = np.array(data1['evtid'])\n",
    "mc_position = np.array(data1['mc_position'])\n",
    "position = np.array(data1['position'])\n",
    "hit_pmtid = np.array(data1['hit_pmtid'])\n",
    "hit_pmttime = np.array(data1['hit_pmttime'])\n",
    "hit_residual = np.array(data1['hit_residual'])\n",
    "hit_type = np.array(data1['hit_type'])"
   ]
  },
  {
   "cell_type": "markdown",
   "id": "ab828395-41bb-43ab-a707-8a4d3b5cee70",
   "metadata": {},
   "source": [
    "### PMT info."
   ]
  },
  {
   "cell_type": "code",
   "execution_count": 5,
   "id": "07b2592a-153d-4f85-91e2-967f648562a1",
   "metadata": {},
   "outputs": [
    {
     "data": {
      "text/plain": [
       "['pmt_id', 'pmt_pos_xyz', 'pmt_pos_sph', 'pmt_type']"
      ]
     },
     "execution_count": 5,
     "metadata": {},
     "output_type": "execute_result"
    }
   ],
   "source": [
    "pmt_info = file['pmt;1']\n",
    "pmt_info.keys()"
   ]
  },
  {
   "cell_type": "code",
   "execution_count": 6,
   "id": "5fdaf4ab-092a-40b5-b284-4cca98408677",
   "metadata": {},
   "outputs": [],
   "source": [
    "pmt_id = array(pmt_info['pmt_id'])\n",
    "pmt_pos_xyz = array(pmt_info['pmt_pos_xyz'])\n",
    "pmt_pos_sph = array(pmt_info['pmt_pos_sph'])\n",
    "pmt_type = array(pmt_info['pmt_type'])"
   ]
  },
  {
   "cell_type": "markdown",
   "id": "5cca2f9d-c56c-48d9-8bd7-ef51951a6ebd",
   "metadata": {},
   "source": [
    "### Separate PMT type coordinates"
   ]
  },
  {
   "cell_type": "code",
   "execution_count": 7,
   "id": "92579640-a208-47a8-9377-acb228aa9148",
   "metadata": {},
   "outputs": [],
   "source": [
    "#Lets separate their coordinates\n",
    "#xyz:\n",
    "\n",
    "prefix_xyz = 'type_'\n",
    "suffix_xyz = '_xyz'\n",
    "\n",
    "type_var = np.unique(pmt_type)\n",
    "\n",
    "for i in type_var:\n",
    "    condition = (pmt_type == i)\n",
    "    locals()[prefix_xyz + str(i) + suffix_xyz] = []\n",
    "    \n",
    "    for j in (where(condition)[0]):\n",
    "        locals()[prefix_xyz + str(i) + suffix_xyz].append(pmt_pos_xyz[j])\n",
    "    locals()[prefix_xyz + str(i) + suffix_xyz] = np.array(locals()[prefix_xyz + str(i) + suffix_xyz])\n",
    "    \n",
    "#spherical:\n",
    "\n",
    "prefix_sph = 'type_'\n",
    "suffix_sph = '_sph'\n",
    "\n",
    "type_var = np.unique(pmt_type)\n",
    "\n",
    "for i in type_var:\n",
    "    condition = (pmt_type == i)\n",
    "    locals()[prefix_sph + str(i) + suffix_sph] = []\n",
    "    \n",
    "    for j in (where(condition)[0]):\n",
    "        locals()[prefix_sph + str(i) + suffix_sph].append(pmt_pos_sph[j])\n",
    "    locals()[prefix_sph + str(i) + suffix_sph] = np.array(locals()[prefix_sph + str(i) + suffix_sph])"
   ]
  },
  {
   "cell_type": "markdown",
   "id": "bebf149a-445f-4b2b-a5bd-1a3bd9432553",
   "metadata": {},
   "source": [
    "## 1.1) Create PMT distribution in $\\theta\\phi$ plane"
   ]
  },
  {
   "cell_type": "code",
   "execution_count": 8,
   "id": "bff1936d-96e5-4321-a7cf-7a799244ec2b",
   "metadata": {},
   "outputs": [],
   "source": [
    "zenit = type_1_sph[:,0]\n",
    "azimut = type_1_sph[:,1]"
   ]
  },
  {
   "cell_type": "code",
   "execution_count": 15,
   "id": "4a323e0b-e660-4161-abb9-9fa23501cf95",
   "metadata": {},
   "outputs": [
    {
     "name": "stdout",
     "output_type": "stream",
     "text": [
      "Using matplotlib backend: Qt5Agg\n"
     ]
    }
   ],
   "source": [
    "%matplotlib\n",
    "\n",
    "plt.figure(figsize = (10,7))\n",
    "plt.hist2d(x = np.cos(zenit), y = (azimut), bins = [100,100])\n",
    "plt.ylabel('azimuth')\n",
    "plt.xlabel('cos(zenith)')\n",
    "plt.title('All PMT type = 1 Map')\n",
    "#plt.colorbar()\n",
    "plt.show()\n",
    "plt.savefig('All PMT type1 Map.jpg')"
   ]
  },
  {
   "cell_type": "code",
   "execution_count": 11,
   "id": "85f777b8-6025-4d1c-ae40-e3926b64b2ec",
   "metadata": {},
   "outputs": [],
   "source": [
    "#Transformtion of zenith\n",
    "\n",
    "zenit_T = zenit + np.pi/2"
   ]
  },
  {
   "cell_type": "code",
   "execution_count": 23,
   "id": "7426f23f-9a61-4aef-ad31-724542ccbf38",
   "metadata": {},
   "outputs": [],
   "source": [
    "plt.figure(figsize = (10,7))\n",
    "plt.hist2d(x = np.cos(zenit+pi/2), y = (azimut), bins = [50,100])\n",
    "plt.ylabel('azimuth')\n",
    "plt.xlabel('cos(zenith)')\n",
    "plt.title('All PMT type = 1 Map Transformed')\n",
    "#plt.colorbar()\n",
    "plt.show()"
   ]
  },
  {
   "cell_type": "markdown",
   "id": "8122bdd8-d502-4cd2-adf4-436812d2f349",
   "metadata": {},
   "source": [
    "# 2) Tratement of and event"
   ]
  },
  {
   "cell_type": "code",
   "execution_count": 16,
   "id": "44a25924-134c-4242-af93-05e3911a1bf8",
   "metadata": {},
   "outputs": [],
   "source": [
    "df = Analysis_simulation(file, [11,20,50])"
   ]
  },
  {
   "cell_type": "code",
   "execution_count": 24,
   "id": "efd2210a-fec8-447d-981b-6eaea4b81633",
   "metadata": {},
   "outputs": [
    {
     "data": {
      "text/html": [
       "<div>\n",
       "<style scoped>\n",
       "    .dataframe tbody tr th:only-of-type {\n",
       "        vertical-align: middle;\n",
       "    }\n",
       "\n",
       "    .dataframe tbody tr th {\n",
       "        vertical-align: top;\n",
       "    }\n",
       "\n",
       "    .dataframe thead th {\n",
       "        text-align: right;\n",
       "    }\n",
       "</style>\n",
       "<table border=\"1\" class=\"dataframe\">\n",
       "  <thead>\n",
       "    <tr style=\"text-align: right;\">\n",
       "      <th></th>\n",
       "      <th>eventID</th>\n",
       "      <th>hitpmt ID</th>\n",
       "      <th>hit type</th>\n",
       "      <th>mc coordinates</th>\n",
       "      <th>mc radius</th>\n",
       "      <th>reconst radius</th>\n",
       "      <th>reconst error</th>\n",
       "    </tr>\n",
       "  </thead>\n",
       "  <tbody>\n",
       "    <tr>\n",
       "      <th>0</th>\n",
       "      <td>11</td>\n",
       "      <td>[2579, 8519, 8484, 8966, 8511, 8507, 8486, 897...</td>\n",
       "      <td>[2, 2, 2, 2, 2, 2, 2, 2, 2, 2, 2, 2, 2, 2, 2, ...</td>\n",
       "      <td>[3557.810791015625, -2256.099365234375, 3368.9...</td>\n",
       "      <td>5394.239748</td>\n",
       "      <td>5421.818817</td>\n",
       "      <td>48.522873</td>\n",
       "    </tr>\n",
       "    <tr>\n",
       "      <th>1</th>\n",
       "      <td>20</td>\n",
       "      <td>[8360, 8243, 8780, 8344, 8352, 8266, 8849, 835...</td>\n",
       "      <td>[1, 2, 2, 2, 2, 2, 2, 2, 2, 2, 2, 2, 2, 2, 2, ...</td>\n",
       "      <td>[1800.2008056640625, -1955.141845703125, -4592...</td>\n",
       "      <td>5305.681847</td>\n",
       "      <td>5356.561970</td>\n",
       "      <td>112.391825</td>\n",
       "    </tr>\n",
       "    <tr>\n",
       "      <th>2</th>\n",
       "      <td>50</td>\n",
       "      <td>[3101, 5526, 4806, 5302, 5200, 6218, 6237, 517...</td>\n",
       "      <td>[2, 2, 1, 1, 2, 2, 1, 2, 2, 1, 2, 2, 1, 2, 2, ...</td>\n",
       "      <td>[-1761.8115234375, -815.3781127929688, -1181.5...</td>\n",
       "      <td>2272.642333</td>\n",
       "      <td>2406.404738</td>\n",
       "      <td>229.281677</td>\n",
       "    </tr>\n",
       "  </tbody>\n",
       "</table>\n",
       "</div>"
      ],
      "text/plain": [
       "   eventID                                          hitpmt ID  \\\n",
       "0       11  [2579, 8519, 8484, 8966, 8511, 8507, 8486, 897...   \n",
       "1       20  [8360, 8243, 8780, 8344, 8352, 8266, 8849, 835...   \n",
       "2       50  [3101, 5526, 4806, 5302, 5200, 6218, 6237, 517...   \n",
       "\n",
       "                                            hit type  \\\n",
       "0  [2, 2, 2, 2, 2, 2, 2, 2, 2, 2, 2, 2, 2, 2, 2, ...   \n",
       "1  [1, 2, 2, 2, 2, 2, 2, 2, 2, 2, 2, 2, 2, 2, 2, ...   \n",
       "2  [2, 2, 1, 1, 2, 2, 1, 2, 2, 1, 2, 2, 1, 2, 2, ...   \n",
       "\n",
       "                                      mc coordinates    mc radius  \\\n",
       "0  [3557.810791015625, -2256.099365234375, 3368.9...  5394.239748   \n",
       "1  [1800.2008056640625, -1955.141845703125, -4592...  5305.681847   \n",
       "2  [-1761.8115234375, -815.3781127929688, -1181.5...  2272.642333   \n",
       "\n",
       "   reconst radius  reconst error  \n",
       "0     5421.818817      48.522873  \n",
       "1     5356.561970     112.391825  \n",
       "2     2406.404738     229.281677  "
      ]
     },
     "execution_count": 24,
     "metadata": {},
     "output_type": "execute_result"
    }
   ],
   "source": [
    "df"
   ]
  },
  {
   "cell_type": "code",
   "execution_count": null,
   "id": "e4f6dc54-6c9e-4171-b0fc-36bccb2b4065",
   "metadata": {},
   "outputs": [],
   "source": []
  }
 ],
 "metadata": {
  "kernelspec": {
   "display_name": "Python 3",
   "language": "python",
   "name": "python3"
  },
  "language_info": {
   "codemirror_mode": {
    "name": "ipython",
    "version": 3
   },
   "file_extension": ".py",
   "mimetype": "text/x-python",
   "name": "python",
   "nbconvert_exporter": "python",
   "pygments_lexer": "ipython3",
   "version": "3.8.8"
  }
 },
 "nbformat": 4,
 "nbformat_minor": 5
}
