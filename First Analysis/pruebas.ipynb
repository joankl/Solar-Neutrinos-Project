{
 "cells": [
  {
   "cell_type": "code",
   "execution_count": 2,
   "id": "ce46aab1-af8b-43ca-a510-d5ffe62384a4",
   "metadata": {},
   "outputs": [
    {
     "name": "stderr",
     "output_type": "stream",
     "text": [
      "C:\\ProgramData\\Anaconda3\\lib\\site-packages\\scipy\\__init__.py:138: UserWarning: A NumPy version >=1.16.5 and <1.23.0 is required for this version of SciPy (detected version 1.24.2)\n",
      "  warnings.warn(f\"A NumPy version >={np_minversion} and <{np_maxversion} is required for this version of \"\n"
     ]
    }
   ],
   "source": [
    "#from sum_ import sum_\n",
    "from clean_func import EV_info, clean_pmt_type, GetCoordinateshitPMT\n",
    "from analysis_simulation import Analysis_simulation\n",
    "import uproot\n",
    "import numpy as np\n",
    "\n",
    "import matplotlib.pyplot as plt\n",
    "from mpl_toolkits import mplot3d\n",
    "from matplotlib import cm\n",
    "import seaborn as sn\n",
    "from tqdm import tqdm\n",
    "\n",
    "import numpy as np\n",
    "from numpy import array, where, shape, reshape\n",
    "\n",
    "import pandas as pd\n",
    "\n",
    "import uproot"
   ]
  },
  {
   "cell_type": "code",
   "execution_count": 3,
   "id": "0893bceb-ea71-4a92-af99-1fbd206f3c34",
   "metadata": {},
   "outputs": [],
   "source": [
    "def magnitude(vector): \n",
    "    return np.sqrt(sum(pow(element, 2) for element in vector))"
   ]
  },
  {
   "cell_type": "code",
   "execution_count": 4,
   "id": "ea1ea2e9-06e8-4306-b956-fc8df27c5783",
   "metadata": {},
   "outputs": [],
   "source": [
    "file = uproot.open(\"/sno/py_out1.root\")"
   ]
  },
  {
   "cell_type": "code",
   "execution_count": 3,
   "id": "9ec55b46-41d6-4bfa-bc0c-0bc5f157e153",
   "metadata": {
    "tags": []
   },
   "outputs": [
    {
     "data": {
      "text/html": [
       "<div>\n",
       "<style scoped>\n",
       "    .dataframe tbody tr th:only-of-type {\n",
       "        vertical-align: middle;\n",
       "    }\n",
       "\n",
       "    .dataframe tbody tr th {\n",
       "        vertical-align: top;\n",
       "    }\n",
       "\n",
       "    .dataframe thead th {\n",
       "        text-align: right;\n",
       "    }\n",
       "</style>\n",
       "<table border=\"1\" class=\"dataframe\">\n",
       "  <thead>\n",
       "    <tr style=\"text-align: right;\">\n",
       "      <th></th>\n",
       "      <th>eventID</th>\n",
       "      <th>hitpmt ID</th>\n",
       "      <th>hit type</th>\n",
       "      <th>mc radius</th>\n",
       "      <th>reconst radius</th>\n",
       "      <th>reconst error</th>\n",
       "    </tr>\n",
       "  </thead>\n",
       "  <tbody>\n",
       "    <tr>\n",
       "      <th>0</th>\n",
       "      <td>1</td>\n",
       "      <td>[8967, 539, 998, 1015, 1496, 987, 931, 493, 92...</td>\n",
       "      <td>[2, 2, 2, 2, 2, 2, 2, 2, 1, 2, 2, 2, 2, 2, 2, ...</td>\n",
       "      <td>4424.431649</td>\n",
       "      <td>4393.412025</td>\n",
       "      <td>189.052592</td>\n",
       "    </tr>\n",
       "    <tr>\n",
       "      <th>1</th>\n",
       "      <td>2</td>\n",
       "      <td>[9695, 9039, 9586, 9156, 9673, 9072, 9675, 956...</td>\n",
       "      <td>[2, 2, 2, 2, 1, 2, 2, 2, 1, 2, 2, 2, 2, 2, 2, ...</td>\n",
       "      <td>3987.383832</td>\n",
       "      <td>4029.665232</td>\n",
       "      <td>98.109757</td>\n",
       "    </tr>\n",
       "    <tr>\n",
       "      <th>2</th>\n",
       "      <td>50</td>\n",
       "      <td>[3101, 5526, 4806, 5302, 5200, 6218, 6237, 517...</td>\n",
       "      <td>[2, 2, 1, 1, 2, 2, 1, 2, 2, 1, 2, 2, 1, 2, 2, ...</td>\n",
       "      <td>2272.642333</td>\n",
       "      <td>2406.404738</td>\n",
       "      <td>229.281677</td>\n",
       "    </tr>\n",
       "    <tr>\n",
       "      <th>3</th>\n",
       "      <td>31</td>\n",
       "      <td>[8080, 9385, 4967, 4972, 5543, 4977, 4810, 469...</td>\n",
       "      <td>[2, 2, 2, 2, 2, 2, 1, 2, 2, 2, 1, 1, 2, 2, 2, ...</td>\n",
       "      <td>2891.501632</td>\n",
       "      <td>2908.134733</td>\n",
       "      <td>130.861423</td>\n",
       "    </tr>\n",
       "    <tr>\n",
       "      <th>4</th>\n",
       "      <td>23</td>\n",
       "      <td>[4604, 1801, 1858, 1403, 2246, 2245, 2324, 177...</td>\n",
       "      <td>[2, 2, 2, 2, 2, 2, 2, 2, 2, 2, 2, 1, 2, 1, 2, ...</td>\n",
       "      <td>5067.835612</td>\n",
       "      <td>4979.220167</td>\n",
       "      <td>93.709500</td>\n",
       "    </tr>\n",
       "    <tr>\n",
       "      <th>5</th>\n",
       "      <td>11</td>\n",
       "      <td>[2579, 8519, 8484, 8966, 8511, 8507, 8486, 897...</td>\n",
       "      <td>[2, 2, 2, 2, 2, 2, 2, 2, 2, 2, 2, 2, 2, 2, 2, ...</td>\n",
       "      <td>5394.239748</td>\n",
       "      <td>5421.818817</td>\n",
       "      <td>48.522873</td>\n",
       "    </tr>\n",
       "  </tbody>\n",
       "</table>\n",
       "</div>"
      ],
      "text/plain": [
       "   eventID                                          hitpmt ID  \\\n",
       "0        1  [8967, 539, 998, 1015, 1496, 987, 931, 493, 92...   \n",
       "1        2  [9695, 9039, 9586, 9156, 9673, 9072, 9675, 956...   \n",
       "2       50  [3101, 5526, 4806, 5302, 5200, 6218, 6237, 517...   \n",
       "3       31  [8080, 9385, 4967, 4972, 5543, 4977, 4810, 469...   \n",
       "4       23  [4604, 1801, 1858, 1403, 2246, 2245, 2324, 177...   \n",
       "5       11  [2579, 8519, 8484, 8966, 8511, 8507, 8486, 897...   \n",
       "\n",
       "                                            hit type    mc radius  \\\n",
       "0  [2, 2, 2, 2, 2, 2, 2, 2, 1, 2, 2, 2, 2, 2, 2, ...  4424.431649   \n",
       "1  [2, 2, 2, 2, 1, 2, 2, 2, 1, 2, 2, 2, 2, 2, 2, ...  3987.383832   \n",
       "2  [2, 2, 1, 1, 2, 2, 1, 2, 2, 1, 2, 2, 1, 2, 2, ...  2272.642333   \n",
       "3  [2, 2, 2, 2, 2, 2, 1, 2, 2, 2, 1, 1, 2, 2, 2, ...  2891.501632   \n",
       "4  [2, 2, 2, 2, 2, 2, 2, 2, 2, 2, 2, 1, 2, 1, 2, ...  5067.835612   \n",
       "5  [2, 2, 2, 2, 2, 2, 2, 2, 2, 2, 2, 2, 2, 2, 2, ...  5394.239748   \n",
       "\n",
       "   reconst radius  reconst error  \n",
       "0     4393.412025     189.052592  \n",
       "1     4029.665232      98.109757  \n",
       "2     2406.404738     229.281677  \n",
       "3     2908.134733     130.861423  \n",
       "4     4979.220167      93.709500  \n",
       "5     5421.818817      48.522873  "
      ]
     },
     "execution_count": 3,
     "metadata": {},
     "output_type": "execute_result"
    }
   ],
   "source": [
    "IDs = [1,2,50,31,23,11]\n",
    "#IDs = np.arange(0,51)\n",
    "Analysis_simulation(file, IDs)"
   ]
  },
  {
   "cell_type": "code",
   "execution_count": 5,
   "id": "1396d585-0738-461b-9703-b54358b5733e",
   "metadata": {},
   "outputs": [
    {
     "data": {
      "text/plain": [
       "list"
      ]
     },
     "execution_count": 5,
     "metadata": {},
     "output_type": "execute_result"
    }
   ],
   "source": [
    "type(IDs)"
   ]
  },
  {
   "cell_type": "code",
   "execution_count": 7,
   "id": "2ad9f94b-bdfc-4238-9470-bd49622d7a25",
   "metadata": {},
   "outputs": [],
   "source": [
    "from typing import Union"
   ]
  },
  {
   "cell_type": "code",
   "execution_count": 8,
   "id": "e4aff65d-81ca-4557-baff-bd24b75de35b",
   "metadata": {},
   "outputs": [],
   "source": [
    "r, _ = GetCoordinateshitPMT(file, [1,7], 15)"
   ]
  },
  {
   "cell_type": "code",
   "execution_count": 9,
   "id": "c7ceb913-c7e7-4f24-9e8a-274167048f10",
   "metadata": {},
   "outputs": [
    {
     "data": {
      "text/plain": [
       "4735"
      ]
     },
     "execution_count": 9,
     "metadata": {},
     "output_type": "execute_result"
    }
   ],
   "source": [
    "len(r)"
   ]
  },
  {
   "cell_type": "code",
   "execution_count": 10,
   "id": "dc9b20fa-348a-40f5-8572-c69347c2aac6",
   "metadata": {},
   "outputs": [
    {
     "data": {
      "text/plain": [
       "array([[ 5467.54,    63.44, -6406.27],\n",
       "       [ 5615.16,   266.8 , -6251.09],\n",
       "       [ 5762.73,   469.91, -6095.92],\n",
       "       ...,\n",
       "       [-4287.58,  6152.61,  3796.11],\n",
       "       [-6600.28,  3114.85,  4197.48],\n",
       "       [ 2545.4 , -7078.81,  3737.76]])"
      ]
     },
     "execution_count": 10,
     "metadata": {},
     "output_type": "execute_result"
    }
   ],
   "source": [
    "r"
   ]
  },
  {
   "cell_type": "code",
   "execution_count": 23,
   "id": "4943d5fd-1b63-47df-87f8-55630c6c5b0e",
   "metadata": {},
   "outputs": [
    {
     "data": {
      "text/plain": [
       "array([1, 2])"
      ]
     },
     "execution_count": 23,
     "metadata": {},
     "output_type": "execute_result"
    }
   ],
   "source": [
    "pos = np.array([[1,2],[3,4],[5,6]])\n",
    "evID = 0\n",
    "pos[0]"
   ]
  },
  {
   "cell_type": "code",
   "execution_count": 30,
   "id": "8f80951c-917a-42f4-8a8d-60599f332aea",
   "metadata": {},
   "outputs": [
    {
     "data": {
      "text/plain": [
       "array([1, 2, 5, 6])"
      ]
     },
     "execution_count": 30,
     "metadata": {},
     "output_type": "execute_result"
    }
   ],
   "source": [
    "e = np.array([], dtype = np.int32)\n",
    "\n",
    "for i in [0,2]:\n",
    "    e = np.append(e,pos[i])\n",
    "    \n",
    "e"
   ]
  },
  {
   "cell_type": "code",
   "execution_count": 7,
   "id": "812a4a1b-a2a6-4933-b881-11cb9adea219",
   "metadata": {
    "jupyter": {
     "source_hidden": true
    },
    "tags": []
   },
   "outputs": [],
   "source": [
    "# Simulation Info\n",
    "data1 = file['T;7']\n",
    "#Extract Simulation Data\n",
    "evtid = np.array(data1['evtid'])\n",
    "mc_position = np.array(data1['mc_position'])\n",
    "position = np.array(data1['position'])\n",
    "hit_pmtid = np.array(data1['hit_pmtid'])\n",
    "hit_pmttime = np.array(data1['hit_pmttime'])\n",
    "hit_residual = np.array(data1['hit_residual'])\n",
    "hit_type = np.array(data1['hit_type'])\n",
    "\n",
    "#PMT Information\n",
    "pmt_info = file['pmt;1']\n",
    "#Extract PMT info.\n",
    "pmt_id = array(pmt_info['pmt_id'])\n",
    "pmt_pos_xyz = array(pmt_info['pmt_pos_xyz'])\n",
    "pmt_pos_sph = array(pmt_info['pmt_pos_sph'])\n",
    "pmt_type = array(pmt_info['pmt_type'])\n",
    "\n",
    "\n",
    "mc_rad_ID = np.array([])\t\t\t\t\t\t\t# mc event radio\n",
    "recons_rad_ID = np.array([])    \t\t\t\t\t# reconstructed radio\n",
    "reconstructed_error_ID = np.array([])\t\t\t\t# reconstruction error (magnitude of diference os position vectors)\n",
    "hit_pmtid_ID = []\t\t#ID of PMTs giving hits\n",
    "\n",
    "\n",
    "evID = [11, 50]\n",
    "\n",
    "for i_id in evID:\n",
    "\n",
    "    #When simulation data includes many simulations the IDs are repeated, then execute the following to separate subsets:\n",
    "    condition_1 = (evtid == i_id)\n",
    "    index = where(condition_1)[0]               \n",
    "    break_data = np.array([index[0]], dtype = np.int64)    #indices where data Breaks - Indices where subsets start\n",
    "    # extract the index where data breaks\n",
    "    for i in range(len(index)-1):\n",
    "        if index[i+1] != index[i]+1:\n",
    "            break_data = np.append(break_data,index[i+1])\n",
    "\n",
    "    break_data = np.append(break_data,index[-1]+1)\n",
    "\n",
    "    subset = [0,1]  #first subset\n",
    "\n",
    "    init =  break_data[subset[0]]\n",
    "    final_ = break_data[subset[1]]\n",
    "\n",
    "    #Extract new data of subset: \n",
    "    sub_evtid = evtid[init:final_]\n",
    "    sub_mc_position = mc_position[init:final_]\n",
    "    sub_position = position[init:final_]\n",
    "    #print(sub_position)\n",
    "    sub_hit_pmtid = hit_pmtid[init:final_]\n",
    "    sub_hit_pmttime = hit_pmttime[init:final_]\n",
    "    sub_hit_residual = hit_residual[init:final_]\n",
    "    sub_hit_type = hit_type[init:final_]\n",
    "\n",
    "    #Retaking data of eventID desired in subset\n",
    "    condition_2 = (sub_evtid == i_id)\n",
    "    pmtid_ev = np.extract(condition_2, sub_hit_pmtid) \t\t\t#Indices for which elements are True in eventID then extract the hit_pmtID\n",
    "    time_res_ev = np.extract(condition_2, sub_hit_residual)\n",
    "    pmttime_ev = np.extract(condition_2, sub_hit_pmttime)\n",
    "    pmt_type_ev = np.extract(condition_2, sub_hit_type)\n",
    "\n",
    "    #Positions and radi\n",
    "    mc_position_ev = []\n",
    "    recons_position_ev = []\n",
    "    mc_radius_ev = np.array([])\n",
    "    recons_radius_ev = np.array([])\n",
    "    for i in where(condition_2)[0]:\n",
    "        mc_position_ev.append(sub_mc_position[i])\n",
    "        recons_position_ev.append(sub_position[i])\n",
    "    mc_position_ev = np.array(mc_position_ev)\n",
    "    recons_position_ev = np.array(recons_position_ev)\n",
    "   # print(recons_position_ev)\n",
    "\n",
    "    for i in range(shape(mc_position_ev)[0]):\n",
    "        MC_radius = magnitude(mc_position_ev[i])\n",
    "        RECONS_radius = magnitude(recons_position_ev[i])\n",
    "        mc_radius_ev = np.append(mc_radius_ev, RECONS_radius)\n",
    "        recons_radius_ev = np.append(recons_radius_ev, RECONS_radius)\n",
    "\n",
    "    #APPEND\n",
    "    recons_rad_ID = np.append(recons_rad_ID, recons_radius_ev[0])\n",
    "    mc_rad_ID = np.append(mc_rad_ID, mc_radius_ev[0])\n",
    "\n",
    "    #Calculate error of reconstruction\n",
    "    mc_xyz = mc_position_ev[0]\n",
    "    recons_xyz = recons_position_ev[0]\n",
    "    dif_v = mc_xyz - recons_xyz\t\t\t\t\t\t\t\t\t\t\t#vector diference\n",
    "    error = magnitude(dif_v)\t\t\t\t\t\t\t\t\t\t\t#recontruction error - a simple calculation\n",
    "    #APPEND\n",
    "    reconstructed_error_ID = np.append(reconstructed_error_ID, error)\n",
    "\n",
    "    #PMT type selection\n",
    "    valid_type = 1\n",
    "    valid_pmt_id = np.array([],dtype = np.int64)\t#valid PMTid\n",
    "\n",
    "    valid_info_pmt_i = where(pmt_type == valid_type)[0]\n",
    "\n",
    "    for i in valid_info_pmt_i:\n",
    "        valid_pmt_id = np.append(valid_pmt_id, pmt_id[i])\n",
    "\n",
    "\n",
    "    # Buscar información valida dentro del eventos:\n",
    "\n",
    "    #indices de info. valida\n",
    "    valid_info_ev_i = where(np.in1d(pmtid_ev, valid_pmt_id))\n",
    "\n",
    "    #información que deseo observar\n",
    "    time_res_ev_valid = np.array([])\n",
    "    pmt_id_ev_valid = np.array([], dtype = np.int64)\n",
    "\n",
    "    for j in valid_info_ev_i:\n",
    "        time_res_ev_valid = np.append(time_res_ev_valid, time_res_ev[j])\n",
    "        pmt_id_ev_valid = np.append(pmt_id_ev_valid, pmtid_ev[j])\n",
    "\n",
    "    #APPEND\n",
    "    hit_pmtid_ID.append(pmt_id_ev_valid)\n",
    "\n",
    "    #Save useful plots\n",
    "#     hist(time_res_ev_valid, 100, 'time_res_ev', title = 'ID=' +str(evID))\n",
    "#     hist(mc_radius_ev, 100, 'mc_radius_ev',  'data quantity', title = 'ID = ' + str(evID))\n",
    "\n",
    "#Construct DataFrame\n",
    "data = {'eventID': evID,\n",
    "        'hitpmt ID': hit_pmtid_ID,\n",
    "        'mc radius': mc_rad_ID,\n",
    "        'reconst radius': recons_rad_ID,\n",
    "        'reconst error': reconstructed_error_ID,\n",
    "        }\n",
    "DataFrame_analysis = pd.DataFrame(data)"
   ]
  },
  {
   "cell_type": "code",
   "execution_count": 30,
   "id": "3280fb6f-4ad4-4746-9620-ce57665fe394",
   "metadata": {},
   "outputs": [
    {
     "data": {
      "text/plain": [
       "(1559,)"
      ]
     },
     "execution_count": 30,
     "metadata": {},
     "output_type": "execute_result"
    }
   ],
   "source": [
    "shape(hit_pmtid_ID)"
   ]
  },
  {
   "cell_type": "code",
   "execution_count": 22,
   "id": "7d9a1032-9280-469d-ac7c-b653e02e53c0",
   "metadata": {},
   "outputs": [
    {
     "data": {
      "text/plain": [
       "array([5421.81881698, 2406.40473757])"
      ]
     },
     "execution_count": 22,
     "metadata": {},
     "output_type": "execute_result"
    }
   ],
   "source": [
    "mc_rad_ID"
   ]
  },
  {
   "cell_type": "code",
   "execution_count": 24,
   "id": "2c2ce003-b916-4137-887e-85b6c3984406",
   "metadata": {},
   "outputs": [
    {
     "data": {
      "text/plain": [
       "array([5421.81881698, 2406.40473757])"
      ]
     },
     "execution_count": 24,
     "metadata": {},
     "output_type": "execute_result"
    }
   ],
   "source": [
    "recons_rad_ID"
   ]
  },
  {
   "cell_type": "code",
   "execution_count": 68,
   "id": "e29426da-406f-4918-b108-bb95b31d84dd",
   "metadata": {
    "collapsed": true,
    "jupyter": {
     "outputs_hidden": true
    },
    "tags": []
   },
   "outputs": [
    {
     "data": {
      "text/plain": [
       "array([2579, 8519, 8484, 8966, 8511, 8507, 8486, 8976, 8964, 7949, 8510,\n",
       "       8661, 7908, 8118, 7936, 7961, 8523, 8949, 8967, 8970, 9141, 8535,\n",
       "       8500, 7909, 8459, 8527, 8481, 8489, 7899, 8948, 8666, 9122, 8466,\n",
       "       8961, 9162, 8498, 7990, 8975, 8457, 8485, 7935, 7965, 7954, 9155,\n",
       "       7864, 7973, 9167, 7916, 8465, 8471, 9118, 8451, 7952, 7938, 8516,\n",
       "       8514, 7918, 8986, 8476, 9116, 9126, 8143, 9662, 7869, 8517, 8540,\n",
       "       7946, 8938, 9684, 8983, 8483, 9109, 7978, 8549, 7838, 7902, 8496,\n",
       "       8462, 8971, 8534, 7867, 8508, 8532, 9172, 7957, 9135, 8530, 8443,\n",
       "       7834, 7880, 9149, 7898, 8935, 9120, 9628, 8654, 7839, 8981, 7969,\n",
       "       1677, 7846, 8972, 7962, 7964, 8942, 7404, 7982, 8005, 1690, 8643,\n",
       "       7981, 9689, 9642, 9171, 8550, 7986, 9180, 7897, 8453, 8965, 8974,\n",
       "       9669, 7991, 8487, 9089, 7877, 9138, 8439, 9087,  229, 8644,  726,\n",
       "       9695, 9173, 8555, 8482, 8973, 7390, 8124, 7925, 1700, 7429, 9646,\n",
       "       9159, 9097, 9613,  724, 8670, 8134, 7882, 8960, 8694, 7413, 8034,\n",
       "       8503,  230,  737, 7923, 7901, 9558, 7593, 7378, 9674, 8518, 8982,\n",
       "       8646,  805, 8454, 8001, 9181, 9589, 7403,  413, 9056, 9651, 8131,\n",
       "       8141, 7434, 9175, 1481, 8697, 7411, 8522, 9593, 8671, 8490, 7382,\n",
       "       7836, 7442, 8013, 9687, 8177, 7910, 9598,  228, 9105, 9615, 7931,\n",
       "       9137, 7980, 6890, 7425, 8656, 8619, 1896, 9533, 8494, 8649, 9582,\n",
       "       9643, 8046, 7453, 7364,  812, 8054, 7634, 8923, 1480, 6932,  808,\n",
       "       8631, 7922, 7967, 7893,  455, 8467, 1901, 8539, 7874, 8478, 8015,\n",
       "       7926, 7851, 8515, 7484, 8648, 1710, 8702, 8537, 7976, 7999, 8442,\n",
       "       9479, 8140, 8491, 8468, 9053, 7518, 6849, 7623,  734, 9502, 8606,\n",
       "       8495, 8996, 9057, 7637, 1827, 1344, 8098, 8138,  742, 7379, 8605,\n",
       "       9100, 9630, 7082, 6326, 9636, 9410, 7891, 7398, 7871, 7780, 7512,\n",
       "       7920, 9152, 9524,  809, 9612, 9161, 7488,  722, 1312, 9409, 9169,\n",
       "        856, 9117, 1361, 1825,  773, 9577, 1346, 8577, 7407,  761,  814,\n",
       "       8941, 8033, 9497, 9499,  760, 6934, 8533, 1691, 9003, 8958, 6467,\n",
       "        819, 9588, 7868, 1762, 6857, 7490, 8165, 7842, 9078, 6470,  442,\n",
       "        503, 1696, 8579, 8043, 9372, 7530, 1830, 9058,  930, 8525, 8695,\n",
       "       7578, 6333, 1766, 9472, 6887, 5873, 6922, 8169, 8035, 9343, 6337,\n",
       "        254, 1494,  344, 8501, 8881, 3379,  409,  401, 7825, 1415, 7889,\n",
       "       9041, 1479, 9408, 7858, 7420, 8167,  246, 8016, 9562,  788, 8642,\n",
       "       9373,  937, 9463, 1799, 7635, 7924, 9688, 8088, 3381, 7800, 8014,\n",
       "       7487, 6939,  845, 6964, 8020,  272, 7304, 7513, 2817, 6478, 8152,\n",
       "       7128, 5965, 9661, 8006, 9682, 8042, 8075,   84, 8591, 1893, 9111,\n",
       "       7781, 9131,   88, 7798, 6363, 8179, 9369, 6599, 9332, 9179, 1755,\n",
       "        468, 9676, 1345, 1754, 7052, 6296, 8528, 9358, 3345,  197, 7302,\n",
       "       6925, 9045, 9295, 8905,  303, 8422, 7350, 8126, 9606, 7330,  120,\n",
       "       9450, 7770,  375, 7958, 6870, 1838, 7106, 3386,  232, 6568, 6331,\n",
       "       3914, 5932,  725,  920,  143, 6652, 1019, 8433, 3283, 1355, 8612,\n",
       "       1463, 1804,  839, 9310, 3424, 9247,  142, 5992,  721, 9386, 3393,\n",
       "       3338, 2358, 8633, 8428, 9538, 5514, 8410, 3250, 7624,  385, 9379,\n",
       "       7232, 8625, 6608, 8408, 6420, 5554, 6131, 1292, 6852,  592,  310,\n",
       "       1998, 6157,  881, 9648, 9098, 2530, 2487, 7134, 8652, 1400,  572,\n",
       "       7327, 3001, 9019, 6388, 1669, 6125, 1138, 2284, 9096, 6412, 8601,\n",
       "       7099, 5047, 2796, 3912,  547, 1502,  536, 2828, 5832, 8301, 1272,\n",
       "       4089, 1934, 3922,  903,   74,   13, 2474, 4562, 5110, 2283, 1953,\n",
       "       1903, 3315, 9487, 6405, 5383, 2733, 1496, 8668, 4073, 6722, 3284,\n",
       "        871, 2382, 5427, 7056, 5436, 6757, 6811, 8701,  873, 2091, 1073,\n",
       "       3353, 1797, 3026, 3285, 8827, 1658,  751, 3987, 1927, 3867, 3048,\n",
       "       6821,  646, 2840, 2772, 2552, 5914,  629, 3999,  980, 4764, 9417,\n",
       "       5657,  469, 3390,  580, 5361, 6217, 9237, 8306, 5089,  797, 7019,\n",
       "       5008, 6718, 1097, 3382,  874, 6332,    9,  270, 6173, 8224, 2486,\n",
       "       2385, 4905, 2190, 5050, 3108, 4691, 5644, 3677, 1013, 5568, 1177,\n",
       "       9399, 5733,  362, 5174, 7367, 8992, 7912, 2899, 9583, 5334, 8069,\n",
       "       4452, 3402, 8023, 2567,  596, 1342, 2942,  404, 4413, 5826, 8867,\n",
       "       8087, 3799,  420, 2709, 5295, 7571, 4062, 4560, 3049, 8791, 5882,\n",
       "       3459, 8361, 6349, 2638,  743,  241, 4067, 4231, 1206,  146, 2868,\n",
       "       6053, 4253, 5853, 6421, 2869, 8943, 5251, 3908, 5573, 7322, 5622,\n",
       "        472, 4269, 8596, 5254, 5842, 3662, 5994, 2582, 5018, 5641, 2169,\n",
       "       6748, 4616, 5896, 2736, 1444, 8770, 2463,  189, 5202, 4766, 2201,\n",
       "       5485,  548, 3484, 1048, 4041, 4922, 5970, 7289, 2410, 1913, 7013,\n",
       "        106, 1789, 7756, 2649, 4598, 1006, 8954, 3930, 1170, 9281, 3164,\n",
       "       7501, 9240, 9470, 3548, 4501, 6731, 7913,  578, 4771, 4412, 3741,\n",
       "       4627, 4118, 3432, 4620, 5798, 8669, 5561, 8120, 3554, 4146, 8953,\n",
       "        309, 7412, 5094, 8979, 7005, 1945, 6670, 4122, 3112, 6263, 7452,\n",
       "       7626, 3760, 9000, 2883, 3632, 6078, 5907, 9300, 3901, 8349, 4456,\n",
       "       2452, 6554,  410, 6969, 2698, 2499, 5593, 4811, 5016, 2081,  624,\n",
       "       2542,  830, 2966, 8688, 7103, 3735, 5737,  741, 6613, 6846,  275,\n",
       "       7948, 6481, 4705, 6143, 1197, 4695, 3233, 2082,  297, 1260,  714,\n",
       "       1267, 9516, 7914, 3016, 7464, 2060, 7567, 8548], dtype=int64)"
      ]
     },
     "execution_count": 68,
     "metadata": {},
     "output_type": "execute_result"
    }
   ],
   "source": [
    "hit_pmtid_ID[0]"
   ]
  },
  {
   "cell_type": "code",
   "execution_count": 58,
   "id": "7fa4825c-0a51-43dc-af10-dcb656f4ca4a",
   "metadata": {},
   "outputs": [
    {
     "data": {
      "text/plain": [
       "(1, 1559)"
      ]
     },
     "execution_count": 58,
     "metadata": {},
     "output_type": "execute_result"
    }
   ],
   "source": [
    "shape(hit_pmtid_ID)"
   ]
  },
  {
   "cell_type": "code",
   "execution_count": 8,
   "id": "caa753df-dcd5-4831-9788-eb2c67c62511",
   "metadata": {},
   "outputs": [
    {
     "data": {
      "text/html": [
       "<div>\n",
       "<style scoped>\n",
       "    .dataframe tbody tr th:only-of-type {\n",
       "        vertical-align: middle;\n",
       "    }\n",
       "\n",
       "    .dataframe tbody tr th {\n",
       "        vertical-align: top;\n",
       "    }\n",
       "\n",
       "    .dataframe thead th {\n",
       "        text-align: right;\n",
       "    }\n",
       "</style>\n",
       "<table border=\"1\" class=\"dataframe\">\n",
       "  <thead>\n",
       "    <tr style=\"text-align: right;\">\n",
       "      <th></th>\n",
       "      <th>eventID</th>\n",
       "      <th>hitpmt ID</th>\n",
       "      <th>mc radius</th>\n",
       "      <th>reconst radius</th>\n",
       "      <th>reconst error</th>\n",
       "    </tr>\n",
       "  </thead>\n",
       "  <tbody>\n",
       "    <tr>\n",
       "      <th>0</th>\n",
       "      <td>11</td>\n",
       "      <td>[2579, 8519, 8484, 8966, 8511, 8507, 8486, 897...</td>\n",
       "      <td>5421.818817</td>\n",
       "      <td>5421.818817</td>\n",
       "      <td>48.522873</td>\n",
       "    </tr>\n",
       "    <tr>\n",
       "      <th>1</th>\n",
       "      <td>50</td>\n",
       "      <td>[3101, 5526, 4806, 5302, 5200, 6218, 6237, 517...</td>\n",
       "      <td>2406.404738</td>\n",
       "      <td>2406.404738</td>\n",
       "      <td>229.281677</td>\n",
       "    </tr>\n",
       "  </tbody>\n",
       "</table>\n",
       "</div>"
      ],
      "text/plain": [
       "   eventID                                          hitpmt ID    mc radius  \\\n",
       "0       11  [2579, 8519, 8484, 8966, 8511, 8507, 8486, 897...  5421.818817   \n",
       "1       50  [3101, 5526, 4806, 5302, 5200, 6218, 6237, 517...  2406.404738   \n",
       "\n",
       "   reconst radius  reconst error  \n",
       "0     5421.818817      48.522873  \n",
       "1     2406.404738     229.281677  "
      ]
     },
     "execution_count": 8,
     "metadata": {},
     "output_type": "execute_result"
    }
   ],
   "source": [
    "DataFrame_analysis"
   ]
  },
  {
   "cell_type": "markdown",
   "id": "5e5dd3de-3318-4558-ab33-e3b904fc012a",
   "metadata": {},
   "source": [
    "## Transformation of PMT coordinates\n",
    "\n",
    "$\\phi = 0 $ (zenith) in the $xy$ plane"
   ]
  },
  {
   "cell_type": "code",
   "execution_count": 5,
   "id": "68c1229e-f3d8-417b-86ed-a3bbd4bd020d",
   "metadata": {},
   "outputs": [
    {
     "data": {
      "text/plain": [
       "['pmt_id', 'pmt_pos_xyz', 'pmt_pos_sph', 'pmt_type']"
      ]
     },
     "execution_count": 5,
     "metadata": {},
     "output_type": "execute_result"
    }
   ],
   "source": [
    "pmt_info = file['pmt;1']\n",
    "pmt_info.keys()"
   ]
  },
  {
   "cell_type": "code",
   "execution_count": 6,
   "id": "c38736f7-9843-4064-ad93-7cd6b28a13f6",
   "metadata": {},
   "outputs": [],
   "source": [
    "pmt_id = array(pmt_info['pmt_id'])\n",
    "pmt_pos_xyz = array(pmt_info['pmt_pos_xyz'])\n",
    "pmt_pos_sph = array(pmt_info['pmt_pos_sph'])\n",
    "pmt_type = array(pmt_info['pmt_type'])"
   ]
  },
  {
   "cell_type": "code",
   "execution_count": 21,
   "id": "e9b6b85f-f70f-4793-b370-048cf1925737",
   "metadata": {},
   "outputs": [
    {
     "data": {
      "text/plain": [
       "array([[ 2.18627604e+00, -2.35619449e+00,  1.73203349e+05],\n",
       "       [ 2.43505602e+00,  1.16025037e-02,  8.42248856e+03],\n",
       "       [ 2.40917419e+00,  4.74785216e-02,  8.40698104e+03],\n",
       "       ...,\n",
       "       [ 6.54226614e-01, -1.48191511e+00,  9.20079013e+03],\n",
       "       [ 7.32698456e-01, -8.70981952e-01,  9.20131295e+03],\n",
       "       [ 3.22890171e-01, -8.01377433e-01,  9.20467647e+03]])"
      ]
     },
     "execution_count": 21,
     "metadata": {},
     "output_type": "execute_result"
    }
   ],
   "source": [
    "pmt_pos_sph"
   ]
  },
  {
   "cell_type": "code",
   "execution_count": 22,
   "id": "7cf6afc0-d925-45df-9fd5-df68b11b78b8",
   "metadata": {},
   "outputs": [],
   "source": [
    "pmt_pos_sph[:,0] += np.pi/2"
   ]
  },
  {
   "cell_type": "code",
   "execution_count": 23,
   "id": "0382b85a-824a-4c7a-99c9-bdae547ba0eb",
   "metadata": {},
   "outputs": [
    {
     "data": {
      "text/plain": [
       "array([[ 3.75707236e+00, -2.35619449e+00,  1.73203349e+05],\n",
       "       [ 4.00585235e+00,  1.16025037e-02,  8.42248856e+03],\n",
       "       [ 3.97997052e+00,  4.74785216e-02,  8.40698104e+03],\n",
       "       ...,\n",
       "       [ 2.22502294e+00, -1.48191511e+00,  9.20079013e+03],\n",
       "       [ 2.30349478e+00, -8.70981952e-01,  9.20131295e+03],\n",
       "       [ 1.89368650e+00, -8.01377433e-01,  9.20467647e+03]])"
      ]
     },
     "execution_count": 23,
     "metadata": {},
     "output_type": "execute_result"
    }
   ],
   "source": [
    "pmt_pos_sph"
   ]
  },
  {
   "cell_type": "code",
   "execution_count": null,
   "id": "9effaeaf-1888-4888-a84d-e931584cf1d2",
   "metadata": {},
   "outputs": [],
   "source": []
  }
 ],
 "metadata": {
  "kernelspec": {
   "display_name": "Python 3",
   "language": "python",
   "name": "python3"
  },
  "language_info": {
   "codemirror_mode": {
    "name": "ipython",
    "version": 3
   },
   "file_extension": ".py",
   "mimetype": "text/x-python",
   "name": "python",
   "nbconvert_exporter": "python",
   "pygments_lexer": "ipython3",
   "version": "3.8.8"
  }
 },
 "nbformat": 4,
 "nbformat_minor": 5
}
