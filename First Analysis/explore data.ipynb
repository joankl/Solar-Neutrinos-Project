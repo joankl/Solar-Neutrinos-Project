{
 "cells": [
  {
   "cell_type": "code",
   "execution_count": 1,
   "id": "0c241292-a523-4890-83fa-85b776949f3a",
   "metadata": {},
   "outputs": [
    {
     "name": "stderr",
     "output_type": "stream",
     "text": [
      "C:\\ProgramData\\Anaconda3\\lib\\site-packages\\scipy\\__init__.py:138: UserWarning: A NumPy version >=1.16.5 and <1.23.0 is required for this version of SciPy (detected version 1.24.2)\n",
      "  warnings.warn(f\"A NumPy version >={np_minversion} and <{np_maxversion} is required for this version of \"\n"
     ]
    }
   ],
   "source": [
    "import uproot\n",
    "\n",
    "import matplotlib.pyplot as plt\n",
    "from mpl_toolkits import mplot3d\n",
    "from matplotlib import cm\n",
    "import seaborn as sn\n",
    "from tqdm import tqdm\n",
    "\n",
    "import numpy as np\n",
    "from numpy import array, where, shape, reshape\n",
    "np.set_printoptions(threshold=1000)\n",
    "\n",
    "import pandas as pd\n",
    "\n",
    "from analysis_simulation import Analysis_simulation, hist"
   ]
  },
  {
   "cell_type": "markdown",
   "id": "7fcb3a46-5dfa-4c71-b844-d1fbec7e8e70",
   "metadata": {},
   "source": [
    "## Useful Functions"
   ]
  },
  {
   "cell_type": "code",
   "execution_count": 2,
   "id": "041e76b6-4ffd-46dd-8e66-e74cb75494c8",
   "metadata": {},
   "outputs": [],
   "source": [
    "def magnitude(vector): \n",
    "    return np.sqrt(sum(pow(element, 2) for element in vector))"
   ]
  },
  {
   "cell_type": "code",
   "execution_count": 3,
   "id": "541968a0-45d2-423c-8751-5e24e027c954",
   "metadata": {},
   "outputs": [],
   "source": [
    "def hist2D(x_var, y_var, bins, xtitle, ytitle):\n",
    "    plt.figure(figsize=(8,6))\n",
    "    sn.histplot(x = x_var, y = y_var, bins = bins)\n",
    "    plt.xlabel(xtitle)\n",
    "    plt.ylabel(ytitle)\n",
    "    #plt.xlim(-800,500)\n",
    "    plt.show()"
   ]
  },
  {
   "cell_type": "code",
   "execution_count": 4,
   "id": "563aeab4-7670-42e0-a90c-1e0eebc5e6b0",
   "metadata": {},
   "outputs": [],
   "source": [
    "def hist(x, bins, xtitle, ytitle = None, title = None):\n",
    "    \n",
    "    plt.figure(figsize=(8,6))\n",
    "    sn.histplot(x, bins = bins)\n",
    "    plt.xlabel(xtitle)\n",
    "    \n",
    "    if ytitle == None:\n",
    "        plt.ylabel('events')\n",
    "    else:\n",
    "        plt.ylabel(ytitle)\n",
    "        \n",
    "    if title == None:\n",
    "        plt.title(xtitle)\n",
    "    else:\n",
    "        plt.title(title)\n",
    "        \n",
    "    plt.yscale('log')\n",
    "    plt.savefig('figs/'+str(xtitle) + str(title)+'.pdf', format = 'pdf')\n",
    "    #plt.show()"
   ]
  },
  {
   "cell_type": "code",
   "execution_count": 5,
   "id": "8c8fb75a-63e3-4c69-b422-5915fac52cc9",
   "metadata": {},
   "outputs": [
    {
     "ename": "NameError",
     "evalue": "name 'mc_radius_ev' is not defined",
     "output_type": "error",
     "traceback": [
      "\u001b[1;31m---------------------------------------------------------------------------\u001b[0m",
      "\u001b[1;31mNameError\u001b[0m                                 Traceback (most recent call last)",
      "\u001b[1;32m<ipython-input-5-a7e2d331d549>\u001b[0m in \u001b[0;36m<module>\u001b[1;34m\u001b[0m\n\u001b[1;32m----> 1\u001b[1;33m \u001b[0mhist\u001b[0m\u001b[1;33m(\u001b[0m\u001b[0mmc_radius_ev\u001b[0m\u001b[1;33m,\u001b[0m \u001b[1;36m100\u001b[0m\u001b[1;33m,\u001b[0m \u001b[1;34m'mc_radius_ev'\u001b[0m\u001b[1;33m,\u001b[0m \u001b[1;34m'data quantity'\u001b[0m\u001b[1;33m,\u001b[0m \u001b[1;34m'Radius generation ID = '\u001b[0m \u001b[1;33m+\u001b[0m \u001b[0mstr\u001b[0m\u001b[1;33m(\u001b[0m\u001b[0mevID\u001b[0m\u001b[1;33m)\u001b[0m\u001b[1;33m)\u001b[0m\u001b[1;33m\u001b[0m\u001b[1;33m\u001b[0m\u001b[0m\n\u001b[0m",
      "\u001b[1;31mNameError\u001b[0m: name 'mc_radius_ev' is not defined"
     ]
    }
   ],
   "source": [
    "hist(mc_radius_ev, 100, 'mc_radius_ev', 'data quantity', 'Radius generation ID = ' + str(evID))"
   ]
  },
  {
   "cell_type": "markdown",
   "id": "fc6ae278-1898-44b8-a0d2-1c27731dcddb",
   "metadata": {},
   "source": [
    "--------------------------"
   ]
  },
  {
   "cell_type": "code",
   "execution_count": 6,
   "id": "286e9adb-83cb-4862-8cbf-03e8187ac90f",
   "metadata": {},
   "outputs": [],
   "source": [
    "file = uproot.open(\"/sno/py_out1.root\")"
   ]
  },
  {
   "cell_type": "markdown",
   "id": "92bf4ccc-09ba-4a6b-94eb-c8e7d88816fc",
   "metadata": {},
   "source": [
    "### Event Info."
   ]
  },
  {
   "cell_type": "code",
   "execution_count": 7,
   "id": "40c4727c-5d31-47ca-9915-29b97da4f119",
   "metadata": {},
   "outputs": [
    {
     "data": {
      "text/plain": [
       "['evtid',\n",
       " 'mc_position',\n",
       " 'mc_momentum',\n",
       " 'position',\n",
       " 'momentum',\n",
       " 'hit_pmtid',\n",
       " 'hit_pmttime',\n",
       " 'hit_residual',\n",
       " 'hit_type']"
      ]
     },
     "execution_count": 7,
     "metadata": {},
     "output_type": "execute_result"
    }
   ],
   "source": [
    "data1 = file['T;7']\n",
    "data1.keys()"
   ]
  },
  {
   "cell_type": "code",
   "execution_count": 8,
   "id": "e5efed58-a425-44db-95f4-08aacfd2e1e1",
   "metadata": {},
   "outputs": [],
   "source": [
    "evtid = np.array(data1['evtid'])\n",
    "mc_position = np.array(data1['mc_position'])\n",
    "position = np.array(data1['position'])\n",
    "hit_pmtid = np.array(data1['hit_pmtid'])\n",
    "hit_pmttime = np.array(data1['hit_pmttime'])\n",
    "hit_residual = np.array(data1['hit_residual'])\n",
    "hit_type = np.array(data1['hit_type'])"
   ]
  },
  {
   "cell_type": "markdown",
   "id": "c14662de-6443-4a43-bc9b-61a9938fdfe6",
   "metadata": {},
   "source": [
    "### PMT Info."
   ]
  },
  {
   "cell_type": "code",
   "execution_count": 9,
   "id": "3de9fbc7-8fbc-4709-a84a-966a19f97fc9",
   "metadata": {},
   "outputs": [
    {
     "data": {
      "text/plain": [
       "['pmt_id', 'pmt_pos_xyz', 'pmt_pos_sph', 'pmt_type']"
      ]
     },
     "execution_count": 9,
     "metadata": {},
     "output_type": "execute_result"
    }
   ],
   "source": [
    "pmt_info = file['pmt;1']\n",
    "pmt_info.keys()"
   ]
  },
  {
   "cell_type": "code",
   "execution_count": 10,
   "id": "7e5a0d84-fd39-495a-ab06-0840dd71d55d",
   "metadata": {},
   "outputs": [],
   "source": [
    "pmt_id = array(pmt_info['pmt_id'])\n",
    "pmt_pos_xyz = array(pmt_info['pmt_pos_xyz'])\n",
    "pmt_pos_sph = array(pmt_info['pmt_pos_sph'])\n",
    "pmt_type = array(pmt_info['pmt_type'])"
   ]
  },
  {
   "cell_type": "markdown",
   "id": "2b84c41a-46ca-4cec-9001-b77646f46f9d",
   "metadata": {},
   "source": [
    "# Explore PMT Type"
   ]
  },
  {
   "cell_type": "code",
   "execution_count": 11,
   "id": "e6ffd371-c2de-4769-afae-e8b6943ffca4",
   "metadata": {},
   "outputs": [
    {
     "data": {
      "text/plain": [
       "array([ 1,  2,  3,  4,  5,  6,  7, 10])"
      ]
     },
     "execution_count": 11,
     "metadata": {},
     "output_type": "execute_result"
    }
   ],
   "source": [
    "#how many differents of pmt types are? There is the answer\n",
    "types_pmt = np.unique(pmt_type)\n",
    "types_pmt"
   ]
  },
  {
   "cell_type": "markdown",
   "id": "86b6454f-de26-4e50-8e02-430e98446e47",
   "metadata": {},
   "source": [
    "-----------------------------"
   ]
  },
  {
   "cell_type": "markdown",
   "id": "aa0ad25f-3374-490d-8ed9-3fefcd14fbcf",
   "metadata": {},
   "source": [
    "### Pruebas: variables dinamicas"
   ]
  },
  {
   "cell_type": "code",
   "execution_count": 12,
   "id": "3d1aa19a-2886-40a5-b3d8-bd6677d91f4d",
   "metadata": {},
   "outputs": [
    {
     "ename": "KeyError",
     "evalue": "'dynamic_1_variable'",
     "output_type": "error",
     "traceback": [
      "\u001b[1;31m---------------------------------------------------------------------------\u001b[0m",
      "\u001b[1;31mKeyError\u001b[0m                                  Traceback (most recent call last)",
      "\u001b[1;32m<ipython-input-12-7765c081b659>\u001b[0m in \u001b[0;36m<module>\u001b[1;34m\u001b[0m\n\u001b[0;32m      6\u001b[0m \u001b[1;31m# Creating dynamic variable name using globals()\u001b[0m\u001b[1;33m\u001b[0m\u001b[1;33m\u001b[0m\u001b[1;33m\u001b[0m\u001b[0m\n\u001b[0;32m      7\u001b[0m \u001b[1;32mfor\u001b[0m \u001b[0mi\u001b[0m \u001b[1;32min\u001b[0m \u001b[0mrange\u001b[0m\u001b[1;33m(\u001b[0m\u001b[1;36m2\u001b[0m\u001b[1;33m)\u001b[0m\u001b[1;33m:\u001b[0m\u001b[1;33m\u001b[0m\u001b[1;33m\u001b[0m\u001b[0m\n\u001b[1;32m----> 8\u001b[1;33m     \u001b[0mv\u001b[0m \u001b[1;33m=\u001b[0m \u001b[0mlocals\u001b[0m\u001b[1;33m(\u001b[0m\u001b[1;33m)\u001b[0m\u001b[1;33m[\u001b[0m\u001b[0mprefix\u001b[0m \u001b[1;33m+\u001b[0m \u001b[0mstr\u001b[0m\u001b[1;33m(\u001b[0m\u001b[0mvar_num\u001b[0m\u001b[1;33m[\u001b[0m\u001b[0mi\u001b[0m\u001b[1;33m]\u001b[0m\u001b[1;33m)\u001b[0m \u001b[1;33m+\u001b[0m \u001b[0msuffix\u001b[0m\u001b[1;33m]\u001b[0m\u001b[1;33m\u001b[0m\u001b[1;33m\u001b[0m\u001b[0m\n\u001b[0m\u001b[0;32m      9\u001b[0m     \u001b[0mv\u001b[0m \u001b[1;33m=\u001b[0m \u001b[0mequal\u001b[0m\u001b[1;33m[\u001b[0m\u001b[0mi\u001b[0m\u001b[1;33m]\u001b[0m\u001b[1;33m\u001b[0m\u001b[1;33m\u001b[0m\u001b[0m\n\u001b[0;32m     10\u001b[0m     \u001b[0mv\u001b[0m \u001b[1;33m=\u001b[0m \u001b[0mv\u001b[0m \u001b[1;33m+\u001b[0m \u001b[1;36m1\u001b[0m\u001b[1;33m\u001b[0m\u001b[1;33m\u001b[0m\u001b[0m\n",
      "\u001b[1;31mKeyError\u001b[0m: 'dynamic_1_variable'"
     ]
    }
   ],
   "source": [
    "prefix = \"dynamic_\"\n",
    "suffix = \"_variable\"\n",
    "var_num = [1,2,3]\n",
    "equal = [42, 52, 62]\n",
    "\n",
    "# Creating dynamic variable name using globals()\n",
    "for i in range(2):\n",
    "    v = locals()[prefix + str(var_num[i]) + suffix]\n",
    "    v = equal[i]\n",
    "    v = v + 1\n",
    "# Accessing dynamic variable\n",
    "print(dynamic_1_variable) "
   ]
  },
  {
   "cell_type": "markdown",
   "id": "05b33ebc-9476-4a28-9932-76cb9e90ba0b",
   "metadata": {},
   "source": [
    "------------------------------------------"
   ]
  },
  {
   "cell_type": "code",
   "execution_count": 13,
   "id": "8d394ebb-8b2a-4464-b065-4675faebf155",
   "metadata": {},
   "outputs": [],
   "source": [
    "#Lets separate their coordinates\n",
    "\n",
    "prefix = 'type_'\n",
    "suffix = '_xyz'\n",
    "\n",
    "type_var = np.unique(pmt_type)\n",
    "\n",
    "for i in type_var:\n",
    "    condition = (pmt_type == i)\n",
    "    locals()[prefix + str(i) + suffix] = []\n",
    "    \n",
    "    for j in (where(condition)[0]):\n",
    "        locals()[prefix + str(i) + suffix].append(pmt_pos_xyz[j])\n",
    "    locals()[prefix + str(i) + suffix] = np.array(locals()[prefix + str(i) + suffix])"
   ]
  },
  {
   "cell_type": "code",
   "execution_count": 14,
   "id": "5d0eacf2-2bb1-4a67-a476-1e4f4d633632",
   "metadata": {
    "tags": []
   },
   "outputs": [
    {
     "data": {
      "text/plain": [
       "array([[ 5467.54,    63.44, -6406.27],\n",
       "       [ 5615.16,   266.8 , -6251.09],\n",
       "       [ 5762.73,   469.91, -6095.92],\n",
       "       ...,\n",
       "       [ 6275.45, -5446.47,  1161.1 ],\n",
       "       [ 5941.19, -5754.32,  1395.85],\n",
       "       [ 6078.68, -5666.4 ,  1149.76]])"
      ]
     },
     "execution_count": 14,
     "metadata": {},
     "output_type": "execute_result"
    }
   ],
   "source": [
    "type_1_xyz"
   ]
  },
  {
   "cell_type": "markdown",
   "id": "0396b63c-e3a1-4cbb-9e46-45d8500cb412",
   "metadata": {},
   "source": [
    "### Distribution of PMT positions around the vesel"
   ]
  },
  {
   "cell_type": "code",
   "execution_count": 15,
   "id": "49fe38e4-fb32-44cb-aaa1-70ffc8bee197",
   "metadata": {},
   "outputs": [
    {
     "name": "stdout",
     "output_type": "stream",
     "text": [
      "Using matplotlib backend: Qt5Agg\n"
     ]
    }
   ],
   "source": [
    "%matplotlib\n",
    "\n",
    "#Add points - PMT coords!\n",
    "\n",
    "type_x = type_1_xyz[:,0]\n",
    "type_y = type_1_xyz[:,1]\n",
    "type_z = type_1_xyz[:,2]\n",
    "\n",
    "fig = plt.figure(figsize = (10,10))\n",
    "\n",
    "# Parámetros para crear la esfera\n",
    "r = 6000  # Radio de la esfera\n",
    "phi = np.linspace(0, np.pi, 100)\n",
    "theta = np.linspace(0, 2 * np.pi, 100)\n",
    "phi, theta = np.meshgrid(phi, theta)\n",
    "\n",
    "# Coordenadas cartesianas para la esfera\n",
    "x = r * np.sin(phi) * np.cos(theta)\n",
    "y = r * np.sin(phi) * np.sin(theta)\n",
    "z = r * np.cos(phi)\n",
    "\n",
    "# Configuración de la figura 3D\n",
    "ax = fig.add_subplot(projection='3d')\n",
    "\n",
    "# Graficar la esfera\n",
    "ax.scatter(type_x, type_y, type_z, c = 'r', s = 1, label = 'PMT')\n",
    "#ax.scatter(x, y, z, alpha=0.5, color = 'blue',label = '2')\n",
    "ax.plot_wireframe(x, y, z, alpha=0.5, color = 'blue',label = 'VESEL')\n",
    "\n",
    "ax.set_xlabel('X')\n",
    "ax.set_ylabel('Y')\n",
    "ax.set_zlabel('Z')\n",
    "ax.legend()\n",
    "\n",
    "# Mostrar la gráfica\n",
    "plt.show()\n"
   ]
  },
  {
   "cell_type": "markdown",
   "id": "897bd124-18e2-4d17-ba72-31061af2fc4e",
   "metadata": {},
   "source": [
    "# 1. Explorara eventos simulados"
   ]
  },
  {
   "cell_type": "markdown",
   "id": "8f75d923-3628-4a4d-9a23-69438ed0bd48",
   "metadata": {},
   "source": [
    "## 1.1 Generación de eventos"
   ]
  },
  {
   "cell_type": "markdown",
   "id": "3a4f92ac-eb29-4896-b1b6-f8b2f70c176e",
   "metadata": {},
   "source": [
    "#### NOTAS \n",
    "\n",
    "- Las coordenadas de PMTs se repiten a lo largo del mismo PMTid (logico, un eventID es un unico evento con un vertex definido)\n",
    "- Los eventID no estan uniformemente distribuidos, osea, no sigue una secuencia de números crecientes."
   ]
  },
  {
   "cell_type": "code",
   "execution_count": 17,
   "id": "5fe616c0-b120-45c4-b886-213293d8cd01",
   "metadata": {},
   "outputs": [
    {
     "data": {
      "image/png": "[encoded data removed]",
      "text/plain": [
       "<Figure size 576x432 with 1 Axes>"
      ]
     },
     "metadata": {
      "needs_background": "light"
     },
     "output_type": "display_data"
    }
   ],
   "source": [
    "hist(hit_residual, 100, 'residual')"
   ]
  },
  {
   "cell_type": "code",
   "execution_count": 18,
   "id": "73f76950-5918-4724-a9a8-94489854cea2",
   "metadata": {},
   "outputs": [
    {
     "data": {
      "text/plain": [
       "array([  -0.6514766 ,   -1.27928804,    2.2321641 , ...,  217.41476103,\n",
       "        230.00421411, -592.20768888])"
      ]
     },
     "execution_count": 18,
     "metadata": {},
     "output_type": "execute_result"
    }
   ],
   "source": [
    "hit_residual"
   ]
  },
  {
   "cell_type": "code",
   "execution_count": 19,
   "id": "d80a0954-cf5a-4bb1-8c6f-7a2e70d03e22",
   "metadata": {},
   "outputs": [
    {
     "data": {
      "text/plain": [
       "array([   0,    0,    0, ..., 1994, 1994, 1994])"
      ]
     },
     "execution_count": 19,
     "metadata": {},
     "output_type": "execute_result"
    }
   ],
   "source": [
    "evtid"
   ]
  },
  {
   "cell_type": "code",
   "execution_count": 24,
   "id": "5a55490b-6dfd-429f-8804-6da77650de02",
   "metadata": {},
   "outputs": [
    {
     "data": {
      "text/plain": [
       "4424.431648988956"
      ]
     },
     "execution_count": 24,
     "metadata": {},
     "output_type": "execute_result"
    }
   ],
   "source": [
    "magnitude(mc_position[1001]) "
   ]
  },
  {
   "cell_type": "code",
   "execution_count": 25,
   "id": "fda23943-dbca-4a79-9034-bbe47c60d6d1",
   "metadata": {},
   "outputs": [
    {
     "data": {
      "text/plain": [
       "array([[ 2494.06640625, -2212.07226562,  1598.22375488],\n",
       "       [ 2494.06640625, -2212.07226562,  1598.22375488],\n",
       "       [ 2494.06640625, -2212.07226562,  1598.22375488],\n",
       "       ...,\n",
       "       [-2837.71142578,  -448.9992981 , -2005.33300781],\n",
       "       [-2837.71142578,  -448.9992981 , -2005.33300781],\n",
       "       [-2837.71142578,  -448.9992981 , -2005.33300781]])"
      ]
     },
     "execution_count": 25,
     "metadata": {},
     "output_type": "execute_result"
    }
   ],
   "source": [
    "mc_position"
   ]
  },
  {
   "cell_type": "code",
   "execution_count": 26,
   "id": "813229cb-5e86-4ce1-bc47-997dd9416888",
   "metadata": {},
   "outputs": [
    {
     "data": {
      "text/plain": [
       "(14618962, 3)"
      ]
     },
     "execution_count": 26,
     "metadata": {},
     "output_type": "execute_result"
    }
   ],
   "source": [
    "shape(mc_position)"
   ]
  },
  {
   "cell_type": "code",
   "execution_count": 27,
   "id": "d061fb82-0e41-4cf4-a2be-b27ba98588e5",
   "metadata": {},
   "outputs": [
    {
     "data": {
      "text/plain": [
       "array([ 4392209,  4392210,  4392211, ..., 11706741, 11706742, 11706743],\n",
       "      dtype=int64)"
      ]
     },
     "execution_count": 27,
     "metadata": {},
     "output_type": "execute_result"
    }
   ],
   "source": [
    "where(evtid == 2000)[0]"
   ]
  },
  {
   "cell_type": "code",
   "execution_count": 28,
   "id": "201e90e9-cc82-45b8-84e0-930b2c349d17",
   "metadata": {},
   "outputs": [
    {
     "data": {
      "text/plain": [
       "array([[ 1277.87878418,  2039.73510742,   114.69667053],\n",
       "       [-1219.36608887,  4914.97949219, -1109.62072754],\n",
       "       [-1219.36608887,  4914.97949219, -1109.62072754],\n",
       "       [-1219.36608887,  4914.97949219, -1109.62072754],\n",
       "       [-1219.36608887,  4914.97949219, -1109.62072754]])"
      ]
     },
     "execution_count": 28,
     "metadata": {},
     "output_type": "execute_result"
    }
   ],
   "source": [
    "mc_position[73999:74004]"
   ]
  },
  {
   "cell_type": "code",
   "execution_count": 29,
   "id": "9c03bdfd-90f3-47df-a54a-6f557f35ee04",
   "metadata": {},
   "outputs": [
    {
     "data": {
      "text/plain": [
       "array([[ 2494.06640625, -2212.07226562,  1598.22375488],\n",
       "       [ 2494.06640625, -2212.07226562,  1598.22375488],\n",
       "       [ 2494.06640625, -2212.07226562,  1598.22375488],\n",
       "       [ 2494.06640625, -2212.07226562,  1598.22375488],\n",
       "       [ 2494.06640625, -2212.07226562,  1598.22375488]])"
      ]
     },
     "execution_count": 29,
     "metadata": {},
     "output_type": "execute_result"
    }
   ],
   "source": [
    "mc_position[0:5]"
   ]
  },
  {
   "cell_type": "code",
   "execution_count": 30,
   "id": "856f8a36-d0ec-40e7-a01c-15d15d39d5fd",
   "metadata": {},
   "outputs": [
    {
     "data": {
      "text/plain": [
       "(array([   0,    1,    2, ..., 1998, 1999, 2000]),\n",
       " array([7772, 7495, 7926, ..., 2187, 2453, 1525], dtype=int64))"
      ]
     },
     "execution_count": 30,
     "metadata": {},
     "output_type": "execute_result"
    }
   ],
   "source": [
    "np.unique(evtid,return_counts=True)"
   ]
  },
  {
   "cell_type": "code",
   "execution_count": 31,
   "id": "9f4c3382-7365-4694-84d9-4e5240bb450d",
   "metadata": {},
   "outputs": [
    {
     "data": {
      "text/plain": [
       "array([[ 2494.06640625, -2212.07226562,  1598.22375488],\n",
       "       [ 2494.06640625, -2212.07226562,  1598.22375488],\n",
       "       [ 2494.06640625, -2212.07226562,  1598.22375488],\n",
       "       ...,\n",
       "       [ 3944.20922852, -4488.93115234,   519.58605957],\n",
       "       [  443.98831177,   847.4755249 ,  4560.33203125],\n",
       "       [  443.98831177,   847.4755249 ,  4560.33203125]])"
      ]
     },
     "execution_count": 31,
     "metadata": {},
     "output_type": "execute_result"
    }
   ],
   "source": [
    "mc_position[0:7772-1]"
   ]
  },
  {
   "cell_type": "code",
   "execution_count": 32,
   "id": "738562c0-6531-4bdc-b057-a1e8814aba66",
   "metadata": {},
   "outputs": [
    {
     "data": {
      "text/plain": [
       "array([ 0,  0,  0, ...,  9, 10, 10])"
      ]
     },
     "execution_count": 32,
     "metadata": {},
     "output_type": "execute_result"
    }
   ],
   "source": [
    "evtid[0:7772-1]"
   ]
  },
  {
   "cell_type": "markdown",
   "id": "9a7e8099-f051-444a-93d3-bb010f16b317",
   "metadata": {},
   "source": [
    "### Rádio de evento para un event ID (es esperado observar un unico radio por eventID)"
   ]
  },
  {
   "cell_type": "code",
   "execution_count": 36,
   "id": "4fe5eb6d-d3dd-4fc6-82b9-f92a892e9f4b",
   "metadata": {},
   "outputs": [],
   "source": [
    "ID = 1\n",
    "condition = (evtid == ID)\n",
    "\n",
    "mc_position_ev = []\n",
    "mc_radius_ev = np.array([])\n",
    "\n",
    "for i in where(condition)[0]:\n",
    "    mc_position_ev.append(mc_position[i])\n",
    "mc_position_ev = np.array(mc_position_ev)\n",
    "\n",
    "for i in range(shape(mc_position_ev)[0]):\n",
    "    radius = magnitude(mc_position_ev[i])\n",
    "    mc_radius_ev = np.append(mc_radius_ev, radius)"
   ]
  },
  {
   "cell_type": "code",
   "execution_count": 37,
   "id": "437ad058-12ab-4c85-b02d-6e8c7d1ee1bd",
   "metadata": {},
   "outputs": [
    {
     "data": {
      "text/plain": [
       "array([4424.43164899, 4424.43164899, 4424.43164899, ..., 1421.43670778,\n",
       "       1421.43670778, 1421.43670778])"
      ]
     },
     "execution_count": 37,
     "metadata": {},
     "output_type": "execute_result"
    }
   ],
   "source": [
    "mc_radius_ev"
   ]
  },
  {
   "cell_type": "code",
   "execution_count": 53,
   "id": "607bd3d5-cf04-482e-af28-530989760ab6",
   "metadata": {},
   "outputs": [
    {
     "data": {
      "image/png": "[encoded data removed]",
      "text/plain": [
       "<Figure size 576x432 with 1 Axes>"
      ]
     },
     "metadata": {
      "needs_background": "light"
     },
     "output_type": "display_data"
    }
   ],
   "source": [
    "#Diferentes radios de generación para un mismo ID.... Muy extraño.\n",
    "hist(mc_radius_ev, 100, 'mc_radius_ev', 'data quantity', 'Radius generation ID = ' + str(ID))\n",
    "\n",
    "#RESPUESTA: Hay mas que una run de simulación dentro de estos datos!"
   ]
  },
  {
   "cell_type": "markdown",
   "id": "5ad69a0d-ed0b-4c26-8749-a78fff71d150",
   "metadata": {},
   "source": [
    "### 1.2 Separar estos eventos ID repetidos"
   ]
  },
  {
   "cell_type": "markdown",
   "id": "adfe9dc1-bb46-4349-a37c-37ac42c20ef7",
   "metadata": {},
   "source": [
    "El siguinte procedimiento solo es valido si queremos analisar un unico evento ID"
   ]
  },
  {
   "cell_type": "code",
   "execution_count": 19,
   "id": "f328921b-65c4-4209-a842-3ece22cc0e4e",
   "metadata": {},
   "outputs": [
    {
     "name": "stdout",
     "output_type": "stream",
     "text": [
      "[0 0 0 0 1 1 1]\n"
     ]
    }
   ],
   "source": [
    "# PRUEBA\n",
    "\n",
    "#Funcionamineto: Esta série de instrucciones agrupa elementos repetido en un array y los separa en subconjuntos. Dado un break del subconjunto (\n",
    "# usando una descontinuidad de contaje en la función where) ocurria una quiebra del conjunto al encontrar esta descontinuidad e se grabará el indice\n",
    "# de inicio del conunto en break_data. Luego, los conjuntos podran ser separados usando el elemento inicial del un (n)subgrupo y el elemento inicial\n",
    "# del (n+1)subgrupo. \n",
    "# NOTA: Caso estemos lidiando con el ultimo de los subgrupos, unicamente apareceran los elementos repetidos que deseamos obtener de ese subgrupo, y por\n",
    "# lo tanto break_data solo almacena los limites de este ultimo subgrupo donde se encuentran los elementos repetidos.\n",
    "\n",
    "a = np.array([0,0,0,1,1,1,0,0,0,0,1,1,1,0,0,0,0,0,1,1,1,1,1])\n",
    "\n",
    "element = 0\n",
    "\n",
    "index = where(a == element)[0]\n",
    "break_data = np.array([index[0]], dtype = np.int64)    #indices where data Breaks - Indices where subsets start\n",
    "\n",
    "# extract the index where data breaks\n",
    "for i in range(len(index)-1):\n",
    "    #print(index[i])\n",
    "    if index[i+1] != index[i]+1:\n",
    "        break_data = np.append(break_data,index[i+1])\n",
    "        \n",
    "break_data = np.append(break_data,index[-1]+1)\n",
    "\n",
    "#Observe subsets-------------------------\n",
    "a_new = a[break_data[1]:break_data[2]]\n",
    "print(a_new)\n",
    "#-----------------------------------------\n",
    "\n",
    "#Then, break_data[i]:break_data[i+1] contains the index of elements in subset desired\n"
   ]
  },
  {
   "cell_type": "code",
   "execution_count": 20,
   "id": "3408f2e9-92eb-46ce-af4b-ef69aa723638",
   "metadata": {},
   "outputs": [
    {
     "data": {
      "text/plain": [
       "array([ 0,  6, 13, 18], dtype=int64)"
      ]
     },
     "execution_count": 20,
     "metadata": {},
     "output_type": "execute_result"
    }
   ],
   "source": [
    "break_data"
   ]
  },
  {
   "cell_type": "code",
   "execution_count": 21,
   "id": "8f1da0e2-5ebb-43c2-9e8f-43562b75ed57",
   "metadata": {},
   "outputs": [
    {
     "data": {
      "text/plain": [
       "array([ 0,  1,  2,  6,  7,  8,  9, 13, 14, 15, 16, 17], dtype=int64)"
      ]
     },
     "execution_count": 21,
     "metadata": {},
     "output_type": "execute_result"
    }
   ],
   "source": [
    "index"
   ]
  },
  {
   "cell_type": "code",
   "execution_count": 22,
   "id": "5f77a51a-2319-4d7b-984d-e21782fe8a1d",
   "metadata": {},
   "outputs": [
    {
     "data": {
      "text/plain": [
       "1"
      ]
     },
     "execution_count": 22,
     "metadata": {},
     "output_type": "execute_result"
    }
   ],
   "source": [
    "a[3]"
   ]
  },
  {
   "cell_type": "markdown",
   "id": "1742b08a-6fcc-4890-91a1-a94d21bee903",
   "metadata": {},
   "source": [
    "#### testing eventID subset separation"
   ]
  },
  {
   "cell_type": "code",
   "execution_count": 54,
   "id": "5ce37255-0b3b-4885-9904-91a7202ad3ae",
   "metadata": {},
   "outputs": [],
   "source": [
    "ID = 50\n",
    "\n",
    "index = where(evtid == ID)[0]\n",
    "break_data = np.array([index[0]], dtype = np.int64)    #indices where data Breaks - Indices where subsets start\n",
    "\n",
    "# extract the index where data breaks\n",
    "for i in range(len(index)-1):\n",
    "    #print(index[i])\n",
    "    if index[i+1] != index[i]+1:\n",
    "        break_data = np.append(break_data,index[i+1])\n",
    "        \n",
    "break_data = np.append(break_data,index[-1]+1)"
   ]
  },
  {
   "cell_type": "code",
   "execution_count": 55,
   "id": "827b835f-f6bf-41b6-a369-ade4e32a0a56",
   "metadata": {},
   "outputs": [
    {
     "data": {
      "text/plain": [
       "array([   36248,  1498592,  2968505,  5890054,  7367733,  8810312,\n",
       "       10273722, 11742822, 13192075, 13192932], dtype=int64)"
      ]
     },
     "execution_count": 55,
     "metadata": {},
     "output_type": "execute_result"
    }
   ],
   "source": [
    "break_data"
   ]
  },
  {
   "cell_type": "code",
   "execution_count": 56,
   "id": "496e6105-19d0-44a5-ae44-636b1fef67d3",
   "metadata": {},
   "outputs": [],
   "source": [
    "new_evtid = evtid[break_data[0]:break_data[1]]\n",
    "new_pmtid = hit_pmtid[break_data[0]:break_data[1]]\n",
    "new_pmt_coord = position[break_data[0]:break_data[1]]"
   ]
  },
  {
   "cell_type": "code",
   "execution_count": 57,
   "id": "2d0070d8-391b-4e3d-84fe-a560580b7107",
   "metadata": {},
   "outputs": [
    {
     "data": {
      "text/plain": [
       "array([[-1776.94067383,  -803.19329834, -1410.01635742],\n",
       "       [-1776.94067383,  -803.19329834, -1410.01635742],\n",
       "       [-1776.94067383,  -803.19329834, -1410.01635742],\n",
       "       ...,\n",
       "       [ 1700.28027344, -3139.0234375 ,  1201.49853516],\n",
       "       [ 1700.28027344, -3139.0234375 ,  1201.49853516],\n",
       "       [ 1700.28027344, -3139.0234375 ,  1201.49853516]])"
      ]
     },
     "execution_count": 57,
     "metadata": {},
     "output_type": "execute_result"
    }
   ],
   "source": [
    "new_pmt_coord"
   ]
  },
  {
   "cell_type": "code",
   "execution_count": 58,
   "id": "d67c69cd-217d-4778-b3f4-cb41986dd72f",
   "metadata": {},
   "outputs": [
    {
     "data": {
      "text/plain": [
       "array([   0,    0,    0, ..., 1994, 1994, 1994])"
      ]
     },
     "execution_count": 58,
     "metadata": {},
     "output_type": "execute_result"
    }
   ],
   "source": [
    "evtid"
   ]
  },
  {
   "cell_type": "code",
   "execution_count": 59,
   "id": "718a4beb-3246-4bdc-b4f8-0d5449eeaeb1",
   "metadata": {},
   "outputs": [
    {
     "data": {
      "text/plain": [
       "1462344"
      ]
     },
     "execution_count": 59,
     "metadata": {},
     "output_type": "execute_result"
    }
   ],
   "source": [
    "len(new_evtid)"
   ]
  },
  {
   "cell_type": "code",
   "execution_count": 60,
   "id": "08743ebe-a710-4f3a-ac7a-bb94676087d3",
   "metadata": {},
   "outputs": [
    {
     "data": {
      "text/plain": [
       "1462344"
      ]
     },
     "execution_count": 60,
     "metadata": {},
     "output_type": "execute_result"
    }
   ],
   "source": [
    "len(new_pmtid)"
   ]
  },
  {
   "cell_type": "code",
   "execution_count": 61,
   "id": "941956e0-d62e-4b35-854a-6144d42b511f",
   "metadata": {},
   "outputs": [
    {
     "data": {
      "text/plain": [
       "14618962"
      ]
     },
     "execution_count": 61,
     "metadata": {},
     "output_type": "execute_result"
    }
   ],
   "source": [
    "len(hit_pmtid)"
   ]
  },
  {
   "cell_type": "code",
   "execution_count": 62,
   "id": "8e8b962d-793a-4097-993a-75ee8248a6f6",
   "metadata": {},
   "outputs": [],
   "source": [
    "# It works, know is necessary to create a new dataset ..."
   ]
  },
  {
   "cell_type": "markdown",
   "id": "ba81c654-11dd-4908-ad42-ed9222083b18",
   "metadata": {},
   "source": [
    "#### Puebas Creating new Dataset: construct the new Data set using Pandas -----------------"
   ]
  },
  {
   "cell_type": "code",
   "execution_count": 63,
   "id": "543b8a4a-1083-4f1a-b177-589ef1aa983f",
   "metadata": {},
   "outputs": [
    {
     "data": {
      "text/plain": [
       "array(['1', '2', '1'], dtype='<U11')"
      ]
     },
     "execution_count": 63,
     "metadata": {},
     "output_type": "execute_result"
    }
   ],
   "source": [
    "np.array(['residual:', 1,2,1])[1:]"
   ]
  },
  {
   "cell_type": "code",
   "execution_count": 64,
   "id": "2e529ad8-8f93-4a77-a416-247e5be52973",
   "metadata": {},
   "outputs": [],
   "source": [
    "data = {'ID': new_evtid,\n",
    "       'position': new_pmt_coord.tolist(),\n",
    "       'ID': new_evtid}"
   ]
  },
  {
   "cell_type": "code",
   "execution_count": 65,
   "id": "15a95d51-a6ee-41ae-aacb-8334debe7b20",
   "metadata": {},
   "outputs": [
    {
     "data": {
      "text/html": [
       "<div>\n",
       "<style scoped>\n",
       "    .dataframe tbody tr th:only-of-type {\n",
       "        vertical-align: middle;\n",
       "    }\n",
       "\n",
       "    .dataframe tbody tr th {\n",
       "        vertical-align: top;\n",
       "    }\n",
       "\n",
       "    .dataframe thead th {\n",
       "        text-align: right;\n",
       "    }\n",
       "</style>\n",
       "<table border=\"1\" class=\"dataframe\">\n",
       "  <thead>\n",
       "    <tr style=\"text-align: right;\">\n",
       "      <th></th>\n",
       "      <th>ID</th>\n",
       "      <th>position</th>\n",
       "    </tr>\n",
       "  </thead>\n",
       "  <tbody>\n",
       "    <tr>\n",
       "      <th>0</th>\n",
       "      <td>50</td>\n",
       "      <td>[-1776.940673828125, -803.1932983398438, -1410...</td>\n",
       "    </tr>\n",
       "    <tr>\n",
       "      <th>1</th>\n",
       "      <td>50</td>\n",
       "      <td>[-1776.940673828125, -803.1932983398438, -1410...</td>\n",
       "    </tr>\n",
       "    <tr>\n",
       "      <th>2</th>\n",
       "      <td>50</td>\n",
       "      <td>[-1776.940673828125, -803.1932983398438, -1410...</td>\n",
       "    </tr>\n",
       "    <tr>\n",
       "      <th>3</th>\n",
       "      <td>50</td>\n",
       "      <td>[-1776.940673828125, -803.1932983398438, -1410...</td>\n",
       "    </tr>\n",
       "    <tr>\n",
       "      <th>4</th>\n",
       "      <td>50</td>\n",
       "      <td>[-1776.940673828125, -803.1932983398438, -1410...</td>\n",
       "    </tr>\n",
       "    <tr>\n",
       "      <th>...</th>\n",
       "      <td>...</td>\n",
       "      <td>...</td>\n",
       "    </tr>\n",
       "    <tr>\n",
       "      <th>1462339</th>\n",
       "      <td>49</td>\n",
       "      <td>[1700.2802734375, -3139.0234375, 1201.49853515...</td>\n",
       "    </tr>\n",
       "    <tr>\n",
       "      <th>1462340</th>\n",
       "      <td>49</td>\n",
       "      <td>[1700.2802734375, -3139.0234375, 1201.49853515...</td>\n",
       "    </tr>\n",
       "    <tr>\n",
       "      <th>1462341</th>\n",
       "      <td>49</td>\n",
       "      <td>[1700.2802734375, -3139.0234375, 1201.49853515...</td>\n",
       "    </tr>\n",
       "    <tr>\n",
       "      <th>1462342</th>\n",
       "      <td>49</td>\n",
       "      <td>[1700.2802734375, -3139.0234375, 1201.49853515...</td>\n",
       "    </tr>\n",
       "    <tr>\n",
       "      <th>1462343</th>\n",
       "      <td>49</td>\n",
       "      <td>[1700.2802734375, -3139.0234375, 1201.49853515...</td>\n",
       "    </tr>\n",
       "  </tbody>\n",
       "</table>\n",
       "<p>1462344 rows × 2 columns</p>\n",
       "</div>"
      ],
      "text/plain": [
       "         ID                                           position\n",
       "0        50  [-1776.940673828125, -803.1932983398438, -1410...\n",
       "1        50  [-1776.940673828125, -803.1932983398438, -1410...\n",
       "2        50  [-1776.940673828125, -803.1932983398438, -1410...\n",
       "3        50  [-1776.940673828125, -803.1932983398438, -1410...\n",
       "4        50  [-1776.940673828125, -803.1932983398438, -1410...\n",
       "...      ..                                                ...\n",
       "1462339  49  [1700.2802734375, -3139.0234375, 1201.49853515...\n",
       "1462340  49  [1700.2802734375, -3139.0234375, 1201.49853515...\n",
       "1462341  49  [1700.2802734375, -3139.0234375, 1201.49853515...\n",
       "1462342  49  [1700.2802734375, -3139.0234375, 1201.49853515...\n",
       "1462343  49  [1700.2802734375, -3139.0234375, 1201.49853515...\n",
       "\n",
       "[1462344 rows x 2 columns]"
      ]
     },
     "execution_count": 65,
     "metadata": {},
     "output_type": "execute_result"
    }
   ],
   "source": [
    "df = pd.DataFrame(data)\n",
    "df"
   ]
  },
  {
   "cell_type": "code",
   "execution_count": 66,
   "id": "91c25b6f-6124-47f4-9fcf-e9c3e8c8680d",
   "metadata": {},
   "outputs": [
    {
     "data": {
      "text/plain": [
       "0          50\n",
       "1          50\n",
       "2          50\n",
       "3          50\n",
       "4          50\n",
       "           ..\n",
       "1462339    49\n",
       "1462340    49\n",
       "1462341    49\n",
       "1462342    49\n",
       "1462343    49\n",
       "Name: ID, Length: 1462344, dtype: int32"
      ]
     },
     "execution_count": 66,
     "metadata": {},
     "output_type": "execute_result"
    }
   ],
   "source": [
    "df['ID']"
   ]
  },
  {
   "cell_type": "markdown",
   "id": "0b312251-eabf-471d-b7ed-a098da78aa79",
   "metadata": {},
   "source": [
    "### Something wrong with the Sublime text function ..."
   ]
  },
  {
   "cell_type": "code",
   "execution_count": 67,
   "id": "3c33abfa-3963-4508-8192-e5f99876888f",
   "metadata": {},
   "outputs": [],
   "source": [
    "from clean_func import unique_ID"
   ]
  },
  {
   "cell_type": "code",
   "execution_count": 68,
   "id": "32d3caad-72c7-4181-9bfa-1b65daf55c6a",
   "metadata": {
    "tags": []
   },
   "outputs": [],
   "source": [
    "new_data = unique_ID(file,11,[0,1])"
   ]
  },
  {
   "cell_type": "code",
   "execution_count": 69,
   "id": "6d164d56-ffd6-4958-96ca-fbf2a1308722",
   "metadata": {
    "tags": []
   },
   "outputs": [
    {
     "data": {
      "text/html": [
       "<div>\n",
       "<style scoped>\n",
       "    .dataframe tbody tr th:only-of-type {\n",
       "        vertical-align: middle;\n",
       "    }\n",
       "\n",
       "    .dataframe tbody tr th {\n",
       "        vertical-align: top;\n",
       "    }\n",
       "\n",
       "    .dataframe thead th {\n",
       "        text-align: right;\n",
       "    }\n",
       "</style>\n",
       "<table border=\"1\" class=\"dataframe\">\n",
       "  <thead>\n",
       "    <tr style=\"text-align: right;\">\n",
       "      <th></th>\n",
       "      <th>ID</th>\n",
       "      <th>mc_position</th>\n",
       "      <th>position</th>\n",
       "      <th>hit_pmtid</th>\n",
       "      <th>hit_residual</th>\n",
       "      <th>hit_type</th>\n",
       "    </tr>\n",
       "  </thead>\n",
       "  <tbody>\n",
       "    <tr>\n",
       "      <th>0</th>\n",
       "      <td>11</td>\n",
       "      <td>[3557.810791015625, -2256.099365234375, 3368.9...</td>\n",
       "      <td>[3561.62646484375, -2245.269775390625, 3416.09...</td>\n",
       "      <td>2579</td>\n",
       "      <td>-10318.783516</td>\n",
       "      <td>2</td>\n",
       "    </tr>\n",
       "    <tr>\n",
       "      <th>1</th>\n",
       "      <td>11</td>\n",
       "      <td>[3557.810791015625, -2256.099365234375, 3368.9...</td>\n",
       "      <td>[3561.62646484375, -2245.269775390625, 3416.09...</td>\n",
       "      <td>8519</td>\n",
       "      <td>0.693626</td>\n",
       "      <td>2</td>\n",
       "    </tr>\n",
       "    <tr>\n",
       "      <th>2</th>\n",
       "      <td>11</td>\n",
       "      <td>[3557.810791015625, -2256.099365234375, 3368.9...</td>\n",
       "      <td>[3561.62646484375, -2245.269775390625, 3416.09...</td>\n",
       "      <td>8484</td>\n",
       "      <td>4.454419</td>\n",
       "      <td>2</td>\n",
       "    </tr>\n",
       "    <tr>\n",
       "      <th>3</th>\n",
       "      <td>11</td>\n",
       "      <td>[3557.810791015625, -2256.099365234375, 3368.9...</td>\n",
       "      <td>[3561.62646484375, -2245.269775390625, 3416.09...</td>\n",
       "      <td>8966</td>\n",
       "      <td>2.283129</td>\n",
       "      <td>2</td>\n",
       "    </tr>\n",
       "    <tr>\n",
       "      <th>4</th>\n",
       "      <td>11</td>\n",
       "      <td>[3557.810791015625, -2256.099365234375, 3368.9...</td>\n",
       "      <td>[3561.62646484375, -2245.269775390625, 3416.09...</td>\n",
       "      <td>8511</td>\n",
       "      <td>2.395939</td>\n",
       "      <td>2</td>\n",
       "    </tr>\n",
       "    <tr>\n",
       "      <th>...</th>\n",
       "      <td>...</td>\n",
       "      <td>...</td>\n",
       "      <td>...</td>\n",
       "      <td>...</td>\n",
       "      <td>...</td>\n",
       "      <td>...</td>\n",
       "    </tr>\n",
       "    <tr>\n",
       "      <th>1462618</th>\n",
       "      <td>10</td>\n",
       "      <td>[-780.6781616210938, -968.087646484375, 2086.3...</td>\n",
       "      <td>[-651.8865356445312, -986.0009765625, 2008.384...</td>\n",
       "      <td>951</td>\n",
       "      <td>208.997852</td>\n",
       "      <td>2</td>\n",
       "    </tr>\n",
       "    <tr>\n",
       "      <th>1462619</th>\n",
       "      <td>10</td>\n",
       "      <td>[-780.6781616210938, -968.087646484375, 2086.3...</td>\n",
       "      <td>[-651.8865356445312, -986.0009765625, 2008.384...</td>\n",
       "      <td>5092</td>\n",
       "      <td>217.645433</td>\n",
       "      <td>2</td>\n",
       "    </tr>\n",
       "    <tr>\n",
       "      <th>1462620</th>\n",
       "      <td>10</td>\n",
       "      <td>[-780.6781616210938, -968.087646484375, 2086.3...</td>\n",
       "      <td>[-651.8865356445312, -986.0009765625, 2008.384...</td>\n",
       "      <td>1861</td>\n",
       "      <td>215.030181</td>\n",
       "      <td>2</td>\n",
       "    </tr>\n",
       "    <tr>\n",
       "      <th>1462621</th>\n",
       "      <td>10</td>\n",
       "      <td>[-780.6781616210938, -968.087646484375, 2086.3...</td>\n",
       "      <td>[-651.8865356445312, -986.0009765625, 2008.384...</td>\n",
       "      <td>384</td>\n",
       "      <td>219.721655</td>\n",
       "      <td>2</td>\n",
       "    </tr>\n",
       "    <tr>\n",
       "      <th>1462622</th>\n",
       "      <td>10</td>\n",
       "      <td>[-780.6781616210938, -968.087646484375, 2086.3...</td>\n",
       "      <td>[-651.8865356445312, -986.0009765625, 2008.384...</td>\n",
       "      <td>9207</td>\n",
       "      <td>-601.175306</td>\n",
       "      <td>2</td>\n",
       "    </tr>\n",
       "  </tbody>\n",
       "</table>\n",
       "<p>1462623 rows × 6 columns</p>\n",
       "</div>"
      ],
      "text/plain": [
       "         ID                                        mc_position  \\\n",
       "0        11  [3557.810791015625, -2256.099365234375, 3368.9...   \n",
       "1        11  [3557.810791015625, -2256.099365234375, 3368.9...   \n",
       "2        11  [3557.810791015625, -2256.099365234375, 3368.9...   \n",
       "3        11  [3557.810791015625, -2256.099365234375, 3368.9...   \n",
       "4        11  [3557.810791015625, -2256.099365234375, 3368.9...   \n",
       "...      ..                                                ...   \n",
       "1462618  10  [-780.6781616210938, -968.087646484375, 2086.3...   \n",
       "1462619  10  [-780.6781616210938, -968.087646484375, 2086.3...   \n",
       "1462620  10  [-780.6781616210938, -968.087646484375, 2086.3...   \n",
       "1462621  10  [-780.6781616210938, -968.087646484375, 2086.3...   \n",
       "1462622  10  [-780.6781616210938, -968.087646484375, 2086.3...   \n",
       "\n",
       "                                                  position  hit_pmtid  \\\n",
       "0        [3561.62646484375, -2245.269775390625, 3416.09...       2579   \n",
       "1        [3561.62646484375, -2245.269775390625, 3416.09...       8519   \n",
       "2        [3561.62646484375, -2245.269775390625, 3416.09...       8484   \n",
       "3        [3561.62646484375, -2245.269775390625, 3416.09...       8966   \n",
       "4        [3561.62646484375, -2245.269775390625, 3416.09...       8511   \n",
       "...                                                    ...        ...   \n",
       "1462618  [-651.8865356445312, -986.0009765625, 2008.384...        951   \n",
       "1462619  [-651.8865356445312, -986.0009765625, 2008.384...       5092   \n",
       "1462620  [-651.8865356445312, -986.0009765625, 2008.384...       1861   \n",
       "1462621  [-651.8865356445312, -986.0009765625, 2008.384...        384   \n",
       "1462622  [-651.8865356445312, -986.0009765625, 2008.384...       9207   \n",
       "\n",
       "         hit_residual  hit_type  \n",
       "0       -10318.783516         2  \n",
       "1            0.693626         2  \n",
       "2            4.454419         2  \n",
       "3            2.283129         2  \n",
       "4            2.395939         2  \n",
       "...               ...       ...  \n",
       "1462618    208.997852         2  \n",
       "1462619    217.645433         2  \n",
       "1462620    215.030181         2  \n",
       "1462621    219.721655         2  \n",
       "1462622   -601.175306         2  \n",
       "\n",
       "[1462623 rows x 6 columns]"
      ]
     },
     "execution_count": 69,
     "metadata": {},
     "output_type": "execute_result"
    }
   ],
   "source": [
    "new_data"
   ]
  },
  {
   "cell_type": "code",
   "execution_count": 70,
   "id": "4b159486-1d3d-4a5f-bf0b-5f0929c994cf",
   "metadata": {
    "tags": []
   },
   "outputs": [
    {
     "data": {
      "text/html": [
       "<div>\n",
       "<style scoped>\n",
       "    .dataframe tbody tr th:only-of-type {\n",
       "        vertical-align: middle;\n",
       "    }\n",
       "\n",
       "    .dataframe tbody tr th {\n",
       "        vertical-align: top;\n",
       "    }\n",
       "\n",
       "    .dataframe thead th {\n",
       "        text-align: right;\n",
       "    }\n",
       "</style>\n",
       "<table border=\"1\" class=\"dataframe\">\n",
       "  <thead>\n",
       "    <tr style=\"text-align: right;\">\n",
       "      <th></th>\n",
       "      <th>ID</th>\n",
       "      <th>mc_position</th>\n",
       "      <th>position</th>\n",
       "      <th>hit_pmtid</th>\n",
       "      <th>hit_pmttime</th>\n",
       "      <th>hit_residual</th>\n",
       "      <th>hit_type</th>\n",
       "    </tr>\n",
       "  </thead>\n",
       "  <tbody>\n",
       "    <tr>\n",
       "      <th>0</th>\n",
       "      <td>50</td>\n",
       "      <td>[-1761.8115234375, -815.3781127929688, -1181.5...</td>\n",
       "      <td>[-1776.940673828125, -803.1932983398438, -1410...</td>\n",
       "      <td>3101</td>\n",
       "      <td>170.705887</td>\n",
       "      <td>-99.241001</td>\n",
       "      <td>2</td>\n",
       "    </tr>\n",
       "    <tr>\n",
       "      <th>1</th>\n",
       "      <td>50</td>\n",
       "      <td>[-1761.8115234375, -815.3781127929688, -1181.5...</td>\n",
       "      <td>[-1776.940673828125, -803.1932983398438, -1410...</td>\n",
       "      <td>5526</td>\n",
       "      <td>200.857147</td>\n",
       "      <td>-65.833732</td>\n",
       "      <td>2</td>\n",
       "    </tr>\n",
       "    <tr>\n",
       "      <th>2</th>\n",
       "      <td>50</td>\n",
       "      <td>[-1761.8115234375, -815.3781127929688, -1181.5...</td>\n",
       "      <td>[-1776.940673828125, -803.1932983398438, -1410...</td>\n",
       "      <td>4806</td>\n",
       "      <td>267.919067</td>\n",
       "      <td>3.481335</td>\n",
       "      <td>1</td>\n",
       "    </tr>\n",
       "    <tr>\n",
       "      <th>3</th>\n",
       "      <td>50</td>\n",
       "      <td>[-1761.8115234375, -815.3781127929688, -1181.5...</td>\n",
       "      <td>[-1776.940673828125, -803.1932983398438, -1410...</td>\n",
       "      <td>5302</td>\n",
       "      <td>267.341034</td>\n",
       "      <td>2.830712</td>\n",
       "      <td>1</td>\n",
       "    </tr>\n",
       "    <tr>\n",
       "      <th>4</th>\n",
       "      <td>50</td>\n",
       "      <td>[-1761.8115234375, -815.3781127929688, -1181.5...</td>\n",
       "      <td>[-1776.940673828125, -803.1932983398438, -1410...</td>\n",
       "      <td>5200</td>\n",
       "      <td>268.381500</td>\n",
       "      <td>3.795559</td>\n",
       "      <td>2</td>\n",
       "    </tr>\n",
       "    <tr>\n",
       "      <th>...</th>\n",
       "      <td>...</td>\n",
       "      <td>...</td>\n",
       "      <td>...</td>\n",
       "      <td>...</td>\n",
       "      <td>...</td>\n",
       "      <td>...</td>\n",
       "      <td>...</td>\n",
       "    </tr>\n",
       "    <tr>\n",
       "      <th>1462339</th>\n",
       "      <td>49</td>\n",
       "      <td>[1594.3828125, -3157.965576171875, 1442.112182...</td>\n",
       "      <td>[1700.2802734375, -3139.0234375, 1201.49853515...</td>\n",
       "      <td>8525</td>\n",
       "      <td>471.194031</td>\n",
       "      <td>204.287631</td>\n",
       "      <td>2</td>\n",
       "    </tr>\n",
       "    <tr>\n",
       "      <th>1462340</th>\n",
       "      <td>49</td>\n",
       "      <td>[1594.3828125, -3157.965576171875, 1442.112182...</td>\n",
       "      <td>[1700.2802734375, -3139.0234375, 1201.49853515...</td>\n",
       "      <td>6866</td>\n",
       "      <td>470.895508</td>\n",
       "      <td>200.414580</td>\n",
       "      <td>2</td>\n",
       "    </tr>\n",
       "    <tr>\n",
       "      <th>1462341</th>\n",
       "      <td>49</td>\n",
       "      <td>[1594.3828125, -3157.965576171875, 1442.112182...</td>\n",
       "      <td>[1700.2802734375, -3139.0234375, 1201.49853515...</td>\n",
       "      <td>1470</td>\n",
       "      <td>472.835815</td>\n",
       "      <td>179.318511</td>\n",
       "      <td>2</td>\n",
       "    </tr>\n",
       "    <tr>\n",
       "      <th>1462342</th>\n",
       "      <td>49</td>\n",
       "      <td>[1594.3828125, -3157.965576171875, 1442.112182...</td>\n",
       "      <td>[1700.2802734375, -3139.0234375, 1201.49853515...</td>\n",
       "      <td>1328</td>\n",
       "      <td>480.000000</td>\n",
       "      <td>198.561695</td>\n",
       "      <td>2</td>\n",
       "    </tr>\n",
       "    <tr>\n",
       "      <th>1462343</th>\n",
       "      <td>49</td>\n",
       "      <td>[1594.3828125, -3157.965576171875, 1442.112182...</td>\n",
       "      <td>[1700.2802734375, -3139.0234375, 1201.49853515...</td>\n",
       "      <td>9207</td>\n",
       "      <td>430.947357</td>\n",
       "      <td>-608.061652</td>\n",
       "      <td>2</td>\n",
       "    </tr>\n",
       "  </tbody>\n",
       "</table>\n",
       "<p>1462344 rows × 7 columns</p>\n",
       "</div>"
      ],
      "text/plain": [
       "         ID                                        mc_position  \\\n",
       "0        50  [-1761.8115234375, -815.3781127929688, -1181.5...   \n",
       "1        50  [-1761.8115234375, -815.3781127929688, -1181.5...   \n",
       "2        50  [-1761.8115234375, -815.3781127929688, -1181.5...   \n",
       "3        50  [-1761.8115234375, -815.3781127929688, -1181.5...   \n",
       "4        50  [-1761.8115234375, -815.3781127929688, -1181.5...   \n",
       "...      ..                                                ...   \n",
       "1462339  49  [1594.3828125, -3157.965576171875, 1442.112182...   \n",
       "1462340  49  [1594.3828125, -3157.965576171875, 1442.112182...   \n",
       "1462341  49  [1594.3828125, -3157.965576171875, 1442.112182...   \n",
       "1462342  49  [1594.3828125, -3157.965576171875, 1442.112182...   \n",
       "1462343  49  [1594.3828125, -3157.965576171875, 1442.112182...   \n",
       "\n",
       "                                                  position  hit_pmtid  \\\n",
       "0        [-1776.940673828125, -803.1932983398438, -1410...       3101   \n",
       "1        [-1776.940673828125, -803.1932983398438, -1410...       5526   \n",
       "2        [-1776.940673828125, -803.1932983398438, -1410...       4806   \n",
       "3        [-1776.940673828125, -803.1932983398438, -1410...       5302   \n",
       "4        [-1776.940673828125, -803.1932983398438, -1410...       5200   \n",
       "...                                                    ...        ...   \n",
       "1462339  [1700.2802734375, -3139.0234375, 1201.49853515...       8525   \n",
       "1462340  [1700.2802734375, -3139.0234375, 1201.49853515...       6866   \n",
       "1462341  [1700.2802734375, -3139.0234375, 1201.49853515...       1470   \n",
       "1462342  [1700.2802734375, -3139.0234375, 1201.49853515...       1328   \n",
       "1462343  [1700.2802734375, -3139.0234375, 1201.49853515...       9207   \n",
       "\n",
       "         hit_pmttime  hit_residual  hit_type  \n",
       "0         170.705887    -99.241001         2  \n",
       "1         200.857147    -65.833732         2  \n",
       "2         267.919067      3.481335         1  \n",
       "3         267.341034      2.830712         1  \n",
       "4         268.381500      3.795559         2  \n",
       "...              ...           ...       ...  \n",
       "1462339   471.194031    204.287631         2  \n",
       "1462340   470.895508    200.414580         2  \n",
       "1462341   472.835815    179.318511         2  \n",
       "1462342   480.000000    198.561695         2  \n",
       "1462343   430.947357   -608.061652         2  \n",
       "\n",
       "[1462344 rows x 7 columns]"
      ]
     },
     "execution_count": 70,
     "metadata": {},
     "output_type": "execute_result"
    }
   ],
   "source": [
    "subset = [0,1]  #first subset\n",
    "\n",
    "init =  break_data[subset[0]]\n",
    "final = break_data[subset[1]]\n",
    "\n",
    "#Extract new data: \n",
    "new_evtid = evtid[init:final]\n",
    "new_mc_position = mc_position[init:final]\n",
    "new_position = position[init:final]\n",
    "new_hit_pmtid = hit_pmtid[init:final]\n",
    "new_hit_pmttime = hit_pmttime[init:final]\n",
    "new_hit_residual = hit_residual[init:final]\n",
    "new_hit_type = hit_type[init:final]\n",
    "\n",
    "#Construct DataFrame: Only useful if I want to return it from a function\n",
    "\n",
    "data = {'ID': new_evtid,\n",
    "        'mc_position': new_mc_position.tolist(),\n",
    "        'position': new_position.tolist(),\n",
    "        'hit_pmtid': new_hit_pmtid,\n",
    "        'hit_pmttime': new_hit_pmttime,\n",
    "        'hit_residual': new_hit_residual,\n",
    "        'hit_type': new_hit_type,\n",
    "        }\n",
    "\n",
    "data_frame = pd.DataFrame(data)\n",
    "data_frame"
   ]
  },
  {
   "cell_type": "markdown",
   "id": "396abf8d-d317-4993-8381-83a6eba14d88",
   "metadata": {},
   "source": [
    "### unique_ID function here"
   ]
  },
  {
   "cell_type": "code",
   "execution_count": 40,
   "id": "f1769848-6ea3-4b15-810a-d5368ecce280",
   "metadata": {
    "tags": []
   },
   "outputs": [],
   "source": [
    "def unique_ID(file, evID, subset):\n",
    "\n",
    "    #function which extracts info. of an event given the event ID.\n",
    "    #It function also clean the repeated eventID in PMT info using subsets division\n",
    "    #It function return a Pandas Dataframe with the information\n",
    "\n",
    "    # -Parameters:\n",
    "\n",
    "    #file: file with information after passing through uproot\n",
    "    #evID is the ID number\n",
    "    #subset -> 2x1 array of index: [i_init_subset(n) , i_init_subset(n+1)]. exm: [0,1], [1,2], [2,3], ...\n",
    "    #-------------------------------------------------------\n",
    "    import numpy as np\n",
    "    from numpy import array, where, shape, reshape\n",
    "    import pandas as pd\n",
    "\n",
    "    #Load file\n",
    "    #EV info\n",
    "    data1 = file['T;7']\n",
    "    \n",
    "    evtid = np.array(data1['evtid'])\n",
    "    mc_position = np.array(data1['mc_position'])\n",
    "    position = np.array(data1['position'])\n",
    "    hit_pmtid = np.array(data1['hit_pmtid'])\n",
    "    hit_pmttime = np.array(data1['hit_pmttime'])\n",
    "    hit_residual = np.array(data1['hit_residual'])\n",
    "    hit_type = np.array(data1['hit_type'])\n",
    "\n",
    "\n",
    "    #Exclusion of repeated eventID of different simulations: Subset division\n",
    "\n",
    "    index = where(evtid == evID)[0]\n",
    "    break_data = np.array([index[0]], dtype = np.int64)  # #indices where data Breaks - Indices where subsets start\n",
    "\n",
    "    for i in range(len(index)-1):\n",
    "        if index[i+1] != index[i]+1:\n",
    "            break_data = np.append(break_data,index[i+1])\n",
    "    break_data = np.append(break_data,index[-1]+1)\n",
    "\n",
    "    init =  break_data[subset[0]]\n",
    "    final = break_data[subset[1]]\n",
    "\n",
    "    #Extract new data: \n",
    "\n",
    "    new_evit = evtid[init:final]\n",
    "    new_mc_position = mc_position[init:final]\n",
    "    new_position = position[init:final]\n",
    "    new_hit_pmtid = hit_pmtid[init:final]\n",
    "    new_hit_pmttime = hit_pmttime[init:final]\n",
    "    new_hit_residual = hit_residual[init:final]\n",
    "    new_hit_type = hit_type[init:final]\n",
    "\n",
    "    #Construct DataFrame:\n",
    "\n",
    "    data = {'ID': new_evit,\n",
    "            'mc_position': new_mc_position.tolist(),\n",
    "            'position': new_position.tolist(),\n",
    "            'hit_pmtid': new_hit_pmtid,\n",
    "            'hit_pmttime': new_hit_pmttime,\n",
    "            'hit_residual': new_hit_residual,\n",
    "            'hit_type': new_hit_type,\n",
    "            }\n",
    "\n",
    "    data_frame = pd.DataFrame(data)\n",
    "\n",
    "    return data_frame"
   ]
  },
  {
   "cell_type": "code",
   "execution_count": 41,
   "id": "3d0a8000-703f-4392-8154-b97141b129f0",
   "metadata": {
    "tags": []
   },
   "outputs": [],
   "source": [
    "new_data = unique_ID(file,11,[0,1])"
   ]
  },
  {
   "cell_type": "code",
   "execution_count": 77,
   "id": "e90530fc-2986-4279-b925-5614df084bb8",
   "metadata": {},
   "outputs": [
    {
     "data": {
      "text/plain": [
       "array([[-1776.94067383,  -803.19329834, -1410.01635742],\n",
       "       [-1776.94067383,  -803.19329834, -1410.01635742],\n",
       "       [-1776.94067383,  -803.19329834, -1410.01635742],\n",
       "       ...,\n",
       "       [ 1700.28027344, -3139.0234375 ,  1201.49853516],\n",
       "       [ 1700.28027344, -3139.0234375 ,  1201.49853516],\n",
       "       [ 1700.28027344, -3139.0234375 ,  1201.49853516]])"
      ]
     },
     "execution_count": 77,
     "metadata": {},
     "output_type": "execute_result"
    }
   ],
   "source": [
    "new_position"
   ]
  },
  {
   "cell_type": "markdown",
   "id": "2009b046-b852-4aca-aa76-657c4aa3936e",
   "metadata": {},
   "source": [
    "### 1.3 Analisar datos de eventID de una sola simulación"
   ]
  },
  {
   "cell_type": "code",
   "execution_count": 72,
   "id": "7a1d9b49-92f1-4732-b641-70dc5d5d346b",
   "metadata": {},
   "outputs": [],
   "source": [
    "condition = (new_evtid == ID)\n",
    "\n",
    "pmtid_ev = np.extract(condition, new_hit_pmtid) #Indices for which elements are True in eventID then extract the hit_pmtID\n",
    "time_res_ev = np.extract(condition, new_hit_residual)\n",
    "pmttime_ev = np.extract(condition, new_hit_pmttime)\n",
    "pmt_type_ev = np.extract(condition, new_hit_type)\n",
    "\n",
    "#Position\n",
    "mc_position_ev = []\n",
    "position_ev = []\n",
    "mc_radius_ev = np.array([])\n",
    "\n",
    "for i in where(condition)[0]:\n",
    "    mc_position_ev.append(new_mc_position[i])\n",
    "    position_ev.append(new_position[i])\n",
    "mc_position_ev = np.array(mc_position_ev)\n",
    "position_ev = np.array(position_ev)\n",
    "\n",
    "for i in range(shape(mc_position_ev)[0]):\n",
    "    radius = magnitude(mc_position_ev[i])\n",
    "    mc_radius_ev = np.append(mc_radius_ev, radius)"
   ]
  },
  {
   "cell_type": "code",
   "execution_count": 74,
   "id": "4aaa39f9-acf4-4906-9d71-fc2d6de48f4e",
   "metadata": {},
   "outputs": [
    {
     "data": {
      "text/plain": [
       "array([-1776.94067383,  -803.19329834, -1410.01635742])"
      ]
     },
     "execution_count": 74,
     "metadata": {},
     "output_type": "execute_result"
    }
   ],
   "source": [
    "position_ev[0]"
   ]
  },
  {
   "cell_type": "code",
   "execution_count": 72,
   "id": "0a5ea12d-b80f-4f0c-bcf5-912055468e3e",
   "metadata": {
    "collapsed": true,
    "jupyter": {
     "outputs_hidden": true
    },
    "tags": []
   },
   "outputs": [
    {
     "data": {
      "image/png": "[encoded data removed]",
      "text/plain": [
       "<Figure size 576x432 with 1 Axes>"
      ]
     },
     "metadata": {
      "needs_background": "light"
     },
     "output_type": "display_data"
    }
   ],
   "source": [
    "#Separación existosa :) \n",
    "hist(mc_radius_ev, 100, 'mc_radius_ev', 'data quantity', 'Radius generation ID = ' + str(ID))\n",
    "\n",
    "#evtID=50 es un buen evento (se genera lejos del VESEL)"
   ]
  },
  {
   "cell_type": "code",
   "execution_count": 85,
   "id": "2b7f137d-1d43-44fa-a497-e1dd4b157a6d",
   "metadata": {},
   "outputs": [
    {
     "data": {
      "text/plain": [
       "229.281677361509"
      ]
     },
     "execution_count": 85,
     "metadata": {},
     "output_type": "execute_result"
    }
   ],
   "source": [
    "dif=magnitude(mc_position_ev[0]-position_ev[0])\n",
    "dif"
   ]
  },
  {
   "cell_type": "code",
   "execution_count": 86,
   "id": "8ea95661-7751-4a23-9d52-ac7ef958ceeb",
   "metadata": {},
   "outputs": [
    {
     "data": {
      "text/plain": [
       "array([-1761.81152344,  -815.37811279, -1181.55908203])"
      ]
     },
     "execution_count": 86,
     "metadata": {},
     "output_type": "execute_result"
    }
   ],
   "source": [
    "mc_position_ev[0]"
   ]
  },
  {
   "cell_type": "code",
   "execution_count": 89,
   "id": "87f456b8-11ee-44f6-b592-57fbafb2d246",
   "metadata": {},
   "outputs": [
    {
     "data": {
      "text/plain": [
       "array([-1776.94067383,  -803.19329834, -1410.01635742])"
      ]
     },
     "execution_count": 89,
     "metadata": {},
     "output_type": "execute_result"
    }
   ],
   "source": [
    "position_ev[0]"
   ]
  },
  {
   "cell_type": "code",
   "execution_count": 88,
   "id": "c08ae73a-cfb4-4120-a99b-88e281a7655c",
   "metadata": {},
   "outputs": [
    {
     "data": {
      "text/plain": [
       "array([ -15.12915039,   12.18481445, -228.45727539])"
      ]
     },
     "execution_count": 88,
     "metadata": {},
     "output_type": "execute_result"
    }
   ],
   "source": [
    "position_ev[0]-mc_position_ev[0]"
   ]
  },
  {
   "cell_type": "code",
   "execution_count": 73,
   "id": "51d4dbc9-673a-45a1-b041-f82204684392",
   "metadata": {},
   "outputs": [
    {
     "data": {
      "image/png": "[encoded data removed]",
      "text/plain": [
       "<Figure size 576x432 with 1 Axes>"
      ]
     },
     "metadata": {
      "needs_background": "light"
     },
     "output_type": "display_data"
    }
   ],
   "source": [
    "#Time residual\n",
    "hist(time_res_ev, 100, 'time_res_ev')"
   ]
  },
  {
   "cell_type": "markdown",
   "id": "6457a0b6-407c-4afc-ad8a-93f3fce60281",
   "metadata": {},
   "source": [
    "#### Demostración que los time residual < -200 ns pueden ser debidos a pmt_type diferentes de 1"
   ]
  },
  {
   "cell_type": "code",
   "execution_count": 74,
   "id": "0cbd3076-813b-435c-ba2d-84c90379bb41",
   "metadata": {},
   "outputs": [
    {
     "data": {
      "text/plain": [
       "9207"
      ]
     },
     "execution_count": 74,
     "metadata": {},
     "output_type": "execute_result"
    }
   ],
   "source": [
    "pmtid_ev[where(time_res_ev<-200)[0][0]]"
   ]
  },
  {
   "cell_type": "code",
   "execution_count": 75,
   "id": "43a00787-ddeb-4a5e-bf87-d6fb4093b3d3",
   "metadata": {},
   "outputs": [
    {
     "data": {
      "text/plain": [
       "6"
      ]
     },
     "execution_count": 75,
     "metadata": {},
     "output_type": "execute_result"
    }
   ],
   "source": [
    "pmt_type[9207]"
   ]
  },
  {
   "cell_type": "markdown",
   "id": "39fa32ef-44d7-4114-b887-62da9b8caa3a",
   "metadata": {},
   "source": [
    "### 1.4 Ahora hagamos cortes en PMT type"
   ]
  },
  {
   "cell_type": "code",
   "execution_count": 76,
   "id": "1854ab4d-24e3-4dbc-8056-76221d9b807f",
   "metadata": {},
   "outputs": [],
   "source": [
    "#PMT type deseado\n",
    "valid_type = 1\n",
    "\n",
    "# PMT id validos\n",
    "valid_pmt_id = np.array([],dtype = np.int64)\n",
    "\n",
    "valid_info_pmt_i = where(pmt_type == valid_type)[0]\n",
    "\n",
    "for i in valid_info_pmt_i:\n",
    "    valid_pmt_id = np.append(valid_pmt_id, pmt_id[i])\n",
    "\n",
    "    \n",
    "# Buscar información valida dentro del eventos:\n",
    "\n",
    "#indices de info. valida\n",
    "valid_info_ev_i = where(np.in1d(pmtid_ev, valid_pmt_id))\n",
    "\n",
    "#informacón que deseo observar\n",
    "time_res_ev_valid = np.array([])\n",
    "pmt_id_ev_valid = np.array([], dtype = np.int64)\n",
    "\n",
    "for j in valid_info_ev_i:\n",
    "    time_res_ev_valid = np.append(time_res_ev_valid, time_res_ev[j])\n",
    "    pmt_id_ev_valid = np.append(pmt_id_ev_valid, pmtid_ev[j])"
   ]
  },
  {
   "cell_type": "markdown",
   "id": "45255b30-c2a2-4c12-9bfa-43bc7f5e0afe",
   "metadata": {},
   "source": [
    "### Nueva distribución de time residual para un único evento ID de simulación + cortes en pmt type\n"
   ]
  },
  {
   "cell_type": "code",
   "execution_count": 77,
   "id": "e19de619-91ca-478d-8c23-5c1a018a079f",
   "metadata": {
    "tags": []
   },
   "outputs": [
    {
     "data": {
      "image/png": "[encoded data removed]",
      "text/plain": [
       "<Figure size 576x432 with 1 Axes>"
      ]
     },
     "metadata": {
      "needs_background": "light"
     },
     "output_type": "display_data"
    }
   ],
   "source": [
    "#LO CONSEGUI! (evtid = 50)\n",
    "hist(time_res_ev_valid, 100, 'time_res_ev')"
   ]
  },
  {
   "cell_type": "markdown",
   "id": "784efac3-6608-4a75-a543-6a842243cbee",
   "metadata": {},
   "source": [
    "### 1.5 Cortes en time residual y observar PMT que dan hits"
   ]
  },
  {
   "cell_type": "code",
   "execution_count": 78,
   "id": "baaf661a-c631-4565-b016-c75d549bddd5",
   "metadata": {},
   "outputs": [],
   "source": [
    "cut_time = 50\n",
    "\n",
    "condition = (time_res_ev_valid < cut_time)\n",
    "#index of info in event where condition is verified\n",
    "cut_i = where(condition)[0]\n",
    "\n",
    "pmt_id_ev_cut = np.array([], dtype = np.int64)\n",
    "\n",
    "for i_dx in cut_i:\n",
    "    pmt_id_ev_cut = np.append(pmt_id_ev_cut, pmt_id_ev_valid[i_dx])"
   ]
  },
  {
   "cell_type": "code",
   "execution_count": 79,
   "id": "daef82a7-d9e9-4e26-973e-f0378227bf24",
   "metadata": {
    "tags": []
   },
   "outputs": [],
   "source": [
    "# coordinates xys of PMT giving hit in the time residual cut\n",
    "coord_pmt_cut = []\n",
    "\n",
    "for k in pmt_id_ev_cut:\n",
    "    coord_pmt_cut.append(pmt_pos_xyz[k])\n",
    "coord_pmt_cut = np.array(coord_pmt_cut)"
   ]
  },
  {
   "cell_type": "code",
   "execution_count": 82,
   "id": "92427167-8fbe-4d82-a769-9c2ad56eb464",
   "metadata": {},
   "outputs": [
    {
     "name": "stdout",
     "output_type": "stream",
     "text": [
      "Using matplotlib backend: Qt5Agg\n"
     ]
    },
    {
     "data": {
      "text/plain": [
       "<matplotlib.legend.Legend at 0x1730dc41460>"
      ]
     },
     "execution_count": 82,
     "metadata": {},
     "output_type": "execute_result"
    }
   ],
   "source": [
    "%matplotlib\n",
    "ax = fig.add_subplot(projection='3d')\n",
    "fig = plt.figure(figsize = (10,10))\n",
    "ax = plt.axes(projection='3d')\n",
    "ax.grid()\n",
    "\n",
    "x = coord_pmt_cut[:,0]\n",
    "y = coord_pmt_cut[:,1]\n",
    "z = coord_pmt_cut[:,2]\n",
    "\n",
    "mc_event_coord = mc_position_ev[0]\n",
    "recons_ev_coord = position_ev[0]\n",
    "\n",
    "ax.scatter(mc_event_coord[0], mc_event_coord[1], mc_event_coord[2], c = 'r', s =6, label = 'mc event')\n",
    "ax.scatter(recons_ev_coord[0], recons_ev_coord[1], recons_ev_coord[2], c = 'g', s =6, label = 'reconstructed events')\n",
    "ax.scatter(x, y, z, c = 'b', s = 2, label = 'PMT hit')\n",
    "\n",
    "ax.legend()"
   ]
  },
  {
   "cell_type": "code",
   "execution_count": 166,
   "id": "fe14fe4a-6eae-4cb4-bcc9-724c3acfab80",
   "metadata": {},
   "outputs": [],
   "source": [
    "fig, ax = plt.subplots()\n",
    "ax.scatter(x, y, c=z, s= 5)\n",
    "plt.show()"
   ]
  },
  {
   "cell_type": "code",
   "execution_count": 6,
   "id": "035f89f9-f338-4ca0-91f3-6a8401c27e59",
   "metadata": {},
   "outputs": [],
   "source": [
    "from analysis_simulation import Analysis_simulation"
   ]
  },
  {
   "cell_type": "code",
   "execution_count": 9,
   "id": "bb230afd-ed0b-40fc-976d-88a9cc77d89a",
   "metadata": {},
   "outputs": [
    {
     "data": {
      "text/html": [
       "<div>\n",
       "<style scoped>\n",
       "    .dataframe tbody tr th:only-of-type {\n",
       "        vertical-align: middle;\n",
       "    }\n",
       "\n",
       "    .dataframe tbody tr th {\n",
       "        vertical-align: top;\n",
       "    }\n",
       "\n",
       "    .dataframe thead th {\n",
       "        text-align: right;\n",
       "    }\n",
       "</style>\n",
       "<table border=\"1\" class=\"dataframe\">\n",
       "  <thead>\n",
       "    <tr style=\"text-align: right;\">\n",
       "      <th></th>\n",
       "      <th>eventID</th>\n",
       "      <th>hitpmt ID</th>\n",
       "      <th>mc radius</th>\n",
       "      <th>reconst radius</th>\n",
       "      <th>reconst error</th>\n",
       "    </tr>\n",
       "  </thead>\n",
       "  <tbody>\n",
       "    <tr>\n",
       "      <th>0</th>\n",
       "      <td>11</td>\n",
       "      <td>[2579, 8519, 8484, 8966, 8511, 8507, 8486, 897...</td>\n",
       "      <td>5394.239748</td>\n",
       "      <td>5421.818817</td>\n",
       "      <td>48.522873</td>\n",
       "    </tr>\n",
       "  </tbody>\n",
       "</table>\n",
       "</div>"
      ],
      "text/plain": [
       "   eventID                                          hitpmt ID    mc radius  \\\n",
       "0       11  [2579, 8519, 8484, 8966, 8511, 8507, 8486, 897...  5394.239748   \n",
       "\n",
       "   reconst radius  reconst error  \n",
       "0     5421.818817      48.522873  "
      ]
     },
     "execution_count": 9,
     "metadata": {},
     "output_type": "execute_result"
    }
   ],
   "source": [
    "Analysis_simulation(file,[11])"
   ]
  },
  {
   "cell_type": "markdown",
   "id": "48529653-9752-4c2a-9fe5-3a1b82984a02",
   "metadata": {},
   "source": [
    "### 1.6 Explorar eventos mal reconstruidos dentro de un subconjunto"
   ]
  },
  {
   "cell_type": "markdown",
   "id": "beafa511-b9f5-4a58-8156-fcf6bc57034a",
   "metadata": {},
   "source": [
    "#### 1.6.1 Error vs mc_rad"
   ]
  },
  {
   "cell_type": "code",
   "execution_count": 10,
   "id": "9592ee77-70c1-4999-9ed5-536f98b93b07",
   "metadata": {
    "tags": []
   },
   "outputs": [],
   "source": [
    "IDs = np.arange(100)\n",
    "df = Analysis_simulation(file, IDs)"
   ]
  },
  {
   "cell_type": "code",
   "execution_count": 11,
   "id": "b88fdae9-160e-45fe-ae3e-aa450a998c38",
   "metadata": {},
   "outputs": [
    {
     "data": {
      "image/png": "[encoded data removed]",
      "text/plain": [
       "<Figure size 576x360 with 1 Axes>"
      ]
     },
     "metadata": {
      "needs_background": "light"
     },
     "output_type": "display_data"
    }
   ],
   "source": [
    "mc_rad = np.array(df['mc radius'])\n",
    "recons_error= np.array(df['reconst error'])\n",
    "\n",
    "plt.figure(figsize=(8,5))\n",
    "plt.plot(mc_rad, recons_error, 'o')\n",
    "plt.xlabel('mc rad')\n",
    "plt.ylabel('recons error')\n",
    "plt.yscale('log')"
   ]
  },
  {
   "cell_type": "code",
   "execution_count": 10,
   "id": "a9cce49d-634d-4b3d-963b-042ddbb202ba",
   "metadata": {},
   "outputs": [
    {
     "data": {
      "text/plain": [
       "uproot.reading.ReadOnlyDirectory"
      ]
     },
     "execution_count": 10,
     "metadata": {},
     "output_type": "execute_result"
    }
   ],
   "source": [
    "type(file\n",
    ")"
   ]
  },
  {
   "cell_type": "code",
   "execution_count": 9,
   "id": "a54eb873-d786-4c75-942b-e96c25a58f00",
   "metadata": {},
   "outputs": [
    {
     "data": {
      "text/plain": [
       "array([ 0,  1,  2,  3,  4,  5,  6,  7,  8,  9, 10, 11, 12, 13, 14, 15, 16,\n",
       "       17, 18, 19, 20, 21, 22, 23, 24, 25, 26, 27, 28, 29, 30, 31, 32, 33,\n",
       "       34, 35, 36, 37, 38, 39, 40, 41, 42, 43, 44, 45, 46, 47, 48, 49, 50])"
      ]
     },
     "execution_count": 9,
     "metadata": {},
     "output_type": "execute_result"
    }
   ],
   "source": [
    "np.arange(51)"
   ]
  },
  {
   "cell_type": "code",
   "execution_count": null,
   "id": "2d9cbd1d-c201-4054-85a8-0df5563e3f4d",
   "metadata": {},
   "outputs": [],
   "source": []
  }
 ],
 "metadata": {
  "kernelspec": {
   "display_name": "Python 3 (ipykernel)",
   "language": "python",
   "name": "python3"
  },
  "language_info": {
   "codemirror_mode": {
    "name": "ipython",
    "version": 3
   },
   "file_extension": ".py",
   "mimetype": "text/x-python",
   "name": "python",
   "nbconvert_exporter": "python",
   "pygments_lexer": "ipython3",
   "version": "3.12.2"
  },
  "toc-autonumbering": false,
  "toc-showcode": false,
  "toc-showmarkdowntxt": false
 },
 "nbformat": 4,
 "nbformat_minor": 5
}
