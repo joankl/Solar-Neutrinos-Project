{
 "cells": [
  {
   "cell_type": "markdown",
   "id": "617284dc-1b07-4db9-8656-db898b5ce4b4",
   "metadata": {},
   "source": [
    "# Separation of Scint.(hit_type=2) from Cher.(hit_type=1)"
   ]
  },
  {
   "cell_type": "code",
   "execution_count": 1,
   "id": "e1a052b2-5bb1-4d41-abaa-d2b169d25ef8",
   "metadata": {},
   "outputs": [
    {
     "name": "stderr",
     "output_type": "stream",
     "text": [
      "C:\\ProgramData\\Anaconda3\\lib\\site-packages\\scipy\\__init__.py:138: UserWarning: A NumPy version >=1.16.5 and <1.23.0 is required for this version of SciPy (detected version 1.24.2)\n",
      "  warnings.warn(f\"A NumPy version >={np_minversion} and <{np_maxversion} is required for this version of \"\n"
     ]
    }
   ],
   "source": [
    "from analysis_simulation import Analysis_simulation, magnitude\n",
    "from modulus_simplification import GetPMTCoord\n",
    "from Chev_Scint_analysis import Chev_Scint_analysis\n",
    "import uproot\n",
    "import numpy as np\n",
    "\n",
    "import matplotlib.pyplot as plt\n",
    "from mpl_toolkits import mplot3d\n",
    "from matplotlib import cm\n",
    "import seaborn as sn\n",
    "from tqdm import tqdm\n",
    "\n",
    "import numpy as np\n",
    "from numpy import array, where, shape, reshape, pi\n",
    "\n",
    "import pandas as pd"
   ]
  },
  {
   "cell_type": "code",
   "execution_count": 2,
   "id": "f15ae7e8-ac54-4149-b60d-c6d737e30393",
   "metadata": {},
   "outputs": [],
   "source": [
    "file = uproot.open(\"/sno/py_out1.root\")"
   ]
  },
  {
   "cell_type": "code",
   "execution_count": 3,
   "id": "15abe978-834d-4e3f-8a8e-b5dd44734622",
   "metadata": {},
   "outputs": [
    {
     "data": {
      "text/html": [
       "<div>\n",
       "<style scoped>\n",
       "    .dataframe tbody tr th:only-of-type {\n",
       "        vertical-align: middle;\n",
       "    }\n",
       "\n",
       "    .dataframe tbody tr th {\n",
       "        vertical-align: top;\n",
       "    }\n",
       "\n",
       "    .dataframe thead th {\n",
       "        text-align: right;\n",
       "    }\n",
       "</style>\n",
       "<table border=\"1\" class=\"dataframe\">\n",
       "  <thead>\n",
       "    <tr style=\"text-align: right;\">\n",
       "      <th></th>\n",
       "      <th>eventID</th>\n",
       "      <th>hitpmt ID</th>\n",
       "      <th>hit type</th>\n",
       "      <th>mc coordinates</th>\n",
       "      <th>mc radius</th>\n",
       "      <th>reconst radius</th>\n",
       "      <th>reconst error</th>\n",
       "      <th>time residual</th>\n",
       "    </tr>\n",
       "  </thead>\n",
       "  <tbody>\n",
       "    <tr>\n",
       "      <th>0</th>\n",
       "      <td>11</td>\n",
       "      <td>[2579, 8519, 8484, 8966, 8511, 8507, 8486, 897...</td>\n",
       "      <td>[2, 2, 2, 2, 2, 2, 2, 2, 2, 2, 2, 2, 2, 2, 2, ...</td>\n",
       "      <td>[3557.810791015625, -2256.099365234375, 3368.9...</td>\n",
       "      <td>5394.239748</td>\n",
       "      <td>5421.818817</td>\n",
       "      <td>48.522873</td>\n",
       "      <td>[-10318.78351583185, 0.693626196607795, 4.4544...</td>\n",
       "    </tr>\n",
       "    <tr>\n",
       "      <th>1</th>\n",
       "      <td>50</td>\n",
       "      <td>[3101, 5526, 4806, 5302, 5200, 6218, 6237, 517...</td>\n",
       "      <td>[2, 2, 1, 1, 2, 2, 1, 2, 2, 1, 2, 2, 1, 2, 2, ...</td>\n",
       "      <td>[-1761.8115234375, -815.3781127929688, -1181.5...</td>\n",
       "      <td>2272.642333</td>\n",
       "      <td>2406.404738</td>\n",
       "      <td>229.281677</td>\n",
       "      <td>[-99.24100136131969, -65.8337323923507, 3.4813...</td>\n",
       "    </tr>\n",
       "    <tr>\n",
       "      <th>2</th>\n",
       "      <td>20</td>\n",
       "      <td>[8360, 8243, 8780, 8344, 8352, 8266, 8849, 835...</td>\n",
       "      <td>[1, 2, 2, 2, 2, 2, 2, 2, 2, 2, 2, 2, 2, 2, 2, ...</td>\n",
       "      <td>[1800.2008056640625, -1955.141845703125, -4592...</td>\n",
       "      <td>5305.681847</td>\n",
       "      <td>5356.561970</td>\n",
       "      <td>112.391825</td>\n",
       "      <td>[4.619022652213744, 15.081729435269267, -0.516...</td>\n",
       "    </tr>\n",
       "    <tr>\n",
       "      <th>3</th>\n",
       "      <td>30</td>\n",
       "      <td>[4087, 9632, 8111, 9637, 9130, 9629, 9627, 959...</td>\n",
       "      <td>[1, 2, 2, 2, 2, 1, 2, 2, 2, 2, 1, 2, 2, 2, 2, ...</td>\n",
       "      <td>[4960.79345703125, -861.577880859375, 1421.911...</td>\n",
       "      <td>5231.980484</td>\n",
       "      <td>5220.358921</td>\n",
       "      <td>141.831138</td>\n",
       "      <td>[-98.72868451792661, 6.058132894250832, 0.2099...</td>\n",
       "    </tr>\n",
       "  </tbody>\n",
       "</table>\n",
       "</div>"
      ],
      "text/plain": [
       "   eventID                                          hitpmt ID  \\\n",
       "0       11  [2579, 8519, 8484, 8966, 8511, 8507, 8486, 897...   \n",
       "1       50  [3101, 5526, 4806, 5302, 5200, 6218, 6237, 517...   \n",
       "2       20  [8360, 8243, 8780, 8344, 8352, 8266, 8849, 835...   \n",
       "3       30  [4087, 9632, 8111, 9637, 9130, 9629, 9627, 959...   \n",
       "\n",
       "                                            hit type  \\\n",
       "0  [2, 2, 2, 2, 2, 2, 2, 2, 2, 2, 2, 2, 2, 2, 2, ...   \n",
       "1  [2, 2, 1, 1, 2, 2, 1, 2, 2, 1, 2, 2, 1, 2, 2, ...   \n",
       "2  [1, 2, 2, 2, 2, 2, 2, 2, 2, 2, 2, 2, 2, 2, 2, ...   \n",
       "3  [1, 2, 2, 2, 2, 1, 2, 2, 2, 2, 1, 2, 2, 2, 2, ...   \n",
       "\n",
       "                                      mc coordinates    mc radius  \\\n",
       "0  [3557.810791015625, -2256.099365234375, 3368.9...  5394.239748   \n",
       "1  [-1761.8115234375, -815.3781127929688, -1181.5...  2272.642333   \n",
       "2  [1800.2008056640625, -1955.141845703125, -4592...  5305.681847   \n",
       "3  [4960.79345703125, -861.577880859375, 1421.911...  5231.980484   \n",
       "\n",
       "   reconst radius  reconst error  \\\n",
       "0     5421.818817      48.522873   \n",
       "1     2406.404738     229.281677   \n",
       "2     5356.561970     112.391825   \n",
       "3     5220.358921     141.831138   \n",
       "\n",
       "                                       time residual  \n",
       "0  [-10318.78351583185, 0.693626196607795, 4.4544...  \n",
       "1  [-99.24100136131969, -65.8337323923507, 3.4813...  \n",
       "2  [4.619022652213744, 15.081729435269267, -0.516...  \n",
       "3  [-98.72868451792661, 6.058132894250832, 0.2099...  "
      ]
     },
     "execution_count": 3,
     "metadata": {},
     "output_type": "execute_result"
    }
   ],
   "source": [
    "#IDs = [1,2,50,31,23,11]\n",
    "#IDs = np.arange(0,51)\n",
    "df = Analysis_simulation(file, [11,50,20,30])\n",
    "df.head()"
   ]
  },
  {
   "cell_type": "code",
   "execution_count": 4,
   "id": "b219dd25-8a98-40d9-9ab4-4d792bdec862",
   "metadata": {},
   "outputs": [
    {
     "data": {
      "text/html": [
       "<div>\n",
       "<style scoped>\n",
       "    .dataframe tbody tr th:only-of-type {\n",
       "        vertical-align: middle;\n",
       "    }\n",
       "\n",
       "    .dataframe tbody tr th {\n",
       "        vertical-align: top;\n",
       "    }\n",
       "\n",
       "    .dataframe thead th {\n",
       "        text-align: right;\n",
       "    }\n",
       "</style>\n",
       "<table border=\"1\" class=\"dataframe\">\n",
       "  <thead>\n",
       "    <tr style=\"text-align: right;\">\n",
       "      <th></th>\n",
       "      <th>xyz hit 1</th>\n",
       "      <th>spherical hit 1</th>\n",
       "      <th>xyz hit 2</th>\n",
       "      <th>spherical hit 2</th>\n",
       "    </tr>\n",
       "  </thead>\n",
       "  <tbody>\n",
       "    <tr>\n",
       "      <th>0</th>\n",
       "      <td>[[[6576.25, 1326.2, 5080.24], [6725.2300000000...</td>\n",
       "      <td>[[[0.9226598564133693, 0.19899608702303165, 84...</td>\n",
       "      <td>[[[2380.63, -176.29999999999998, -8059.18], [5...</td>\n",
       "      <td>[[[2.853623452336046, -0.07392108922842211, 84...</td>\n",
       "    </tr>\n",
       "    <tr>\n",
       "      <th>1</th>\n",
       "      <td>[[[6023.8099999999995, 1646.85, -5628.40000000...</td>\n",
       "      <td>[[[2.3043202399205414, 0.26686888169336476, 84...</td>\n",
       "      <td>[[[5762.7300000000005, 469.90999999999997, -60...</td>\n",
       "      <td>[[[2.382629542298147, 0.08136293367767145, 840...</td>\n",
       "    </tr>\n",
       "    <tr>\n",
       "      <th>2</th>\n",
       "      <td>[[[4815.12, 2814.96, -6283.24], [3164.94000000...</td>\n",
       "      <td>[[[2.415619630382534, 0.5290253276258652, 8401...</td>\n",
       "      <td>[[[5762.7300000000005, 469.90999999999997, -60...</td>\n",
       "      <td>[[[2.382629542298147, 0.08136293367767145, 840...</td>\n",
       "    </tr>\n",
       "    <tr>\n",
       "      <th>3</th>\n",
       "      <td>[[[6817.219999999999, 1212.37, -4767.84], [594...</td>\n",
       "      <td>[[[2.1738152130415207, 0.17599931442645309, 84...</td>\n",
       "      <td>[[[6352.75, 1209.37, -5396.18], [6712.07, 1021...</td>\n",
       "      <td>[[[2.2661865195697617, 0.18811857227807793, 84...</td>\n",
       "    </tr>\n",
       "  </tbody>\n",
       "</table>\n",
       "</div>"
      ],
      "text/plain": [
       "                                           xyz hit 1  \\\n",
       "0  [[[6576.25, 1326.2, 5080.24], [6725.2300000000...   \n",
       "1  [[[6023.8099999999995, 1646.85, -5628.40000000...   \n",
       "2  [[[4815.12, 2814.96, -6283.24], [3164.94000000...   \n",
       "3  [[[6817.219999999999, 1212.37, -4767.84], [594...   \n",
       "\n",
       "                                     spherical hit 1  \\\n",
       "0  [[[0.9226598564133693, 0.19899608702303165, 84...   \n",
       "1  [[[2.3043202399205414, 0.26686888169336476, 84...   \n",
       "2  [[[2.415619630382534, 0.5290253276258652, 8401...   \n",
       "3  [[[2.1738152130415207, 0.17599931442645309, 84...   \n",
       "\n",
       "                                           xyz hit 2  \\\n",
       "0  [[[2380.63, -176.29999999999998, -8059.18], [5...   \n",
       "1  [[[5762.7300000000005, 469.90999999999997, -60...   \n",
       "2  [[[5762.7300000000005, 469.90999999999997, -60...   \n",
       "3  [[[6352.75, 1209.37, -5396.18], [6712.07, 1021...   \n",
       "\n",
       "                                     spherical hit 2  \n",
       "0  [[[2.853623452336046, -0.07392108922842211, 84...  \n",
       "1  [[[2.382629542298147, 0.08136293367767145, 840...  \n",
       "2  [[[2.382629542298147, 0.08136293367767145, 840...  \n",
       "3  [[[2.2661865195697617, 0.18811857227807793, 84...  "
      ]
     },
     "execution_count": 4,
     "metadata": {},
     "output_type": "execute_result"
    }
   ],
   "source": [
    "Chev_Scint_analysis(df)"
   ]
  },
  {
   "cell_type": "code",
   "execution_count": 5,
   "id": "7eae2dd5-434f-4fbe-8f00-c2ab2af3a1b8",
   "metadata": {},
   "outputs": [
    {
     "data": {
      "text/html": [
       "<div>\n",
       "<style scoped>\n",
       "    .dataframe tbody tr th:only-of-type {\n",
       "        vertical-align: middle;\n",
       "    }\n",
       "\n",
       "    .dataframe tbody tr th {\n",
       "        vertical-align: top;\n",
       "    }\n",
       "\n",
       "    .dataframe thead th {\n",
       "        text-align: right;\n",
       "    }\n",
       "</style>\n",
       "<table border=\"1\" class=\"dataframe\">\n",
       "  <thead>\n",
       "    <tr style=\"text-align: right;\">\n",
       "      <th></th>\n",
       "      <th>eventID</th>\n",
       "      <th>hitpmt ID</th>\n",
       "      <th>hit type</th>\n",
       "      <th>mc coordinates</th>\n",
       "      <th>mc radius</th>\n",
       "      <th>reconst radius</th>\n",
       "      <th>reconst error</th>\n",
       "      <th>time residual</th>\n",
       "    </tr>\n",
       "  </thead>\n",
       "  <tbody>\n",
       "    <tr>\n",
       "      <th>0</th>\n",
       "      <td>11</td>\n",
       "      <td>[2579, 8519, 8484, 8966, 8511, 8507, 8486, 897...</td>\n",
       "      <td>[2, 2, 2, 2, 2, 2, 2, 2, 2, 2, 2, 2, 2, 2, 2, ...</td>\n",
       "      <td>[3557.810791015625, -2256.099365234375, 3368.9...</td>\n",
       "      <td>5394.239748</td>\n",
       "      <td>5421.818817</td>\n",
       "      <td>48.522873</td>\n",
       "      <td>[-10318.78351583185, 0.693626196607795, 4.4544...</td>\n",
       "    </tr>\n",
       "  </tbody>\n",
       "</table>\n",
       "</div>"
      ],
      "text/plain": [
       "   eventID                                          hitpmt ID  \\\n",
       "0       11  [2579, 8519, 8484, 8966, 8511, 8507, 8486, 897...   \n",
       "\n",
       "                                            hit type  \\\n",
       "0  [2, 2, 2, 2, 2, 2, 2, 2, 2, 2, 2, 2, 2, 2, 2, ...   \n",
       "\n",
       "                                      mc coordinates    mc radius  \\\n",
       "0  [3557.810791015625, -2256.099365234375, 3368.9...  5394.239748   \n",
       "\n",
       "   reconst radius  reconst error  \\\n",
       "0     5421.818817      48.522873   \n",
       "\n",
       "                                       time residual  \n",
       "0  [-10318.78351583185, 0.693626196607795, 4.4544...  "
      ]
     },
     "execution_count": 5,
     "metadata": {},
     "output_type": "execute_result"
    }
   ],
   "source": [
    "#extarct one eventID info\n",
    "evt_id_n = df.loc[df['eventID'] == 11]\n",
    "evt_id_n"
   ]
  },
  {
   "cell_type": "markdown",
   "id": "08aa6318-d2b4-40e3-aa50-a824f8f800df",
   "metadata": {},
   "source": [
    "### Extract useful variables from Analisis simulation"
   ]
  },
  {
   "cell_type": "code",
   "execution_count": 6,
   "id": "76286fed-bcec-403b-a743-4ccc453718b1",
   "metadata": {},
   "outputs": [],
   "source": [
    "hit_type_ev = np.array(evt_id_n['hit type'])[0]\n",
    "pmt_ID_ev = np.array(evt_id_n['hitpmt ID'])[0]\n",
    "vertex_coord = np.array(evt_id_n['mc coordinates'])[0]\n",
    "time_res = np.array(evt_id_n['time residual'])[0]\n",
    "hitpmt_ID = np.array(evt_id_n['hitpmt ID'])[0]"
   ]
  },
  {
   "cell_type": "code",
   "execution_count": 7,
   "id": "819deaa9-1ce7-482f-bff9-1bf0e0e8643b",
   "metadata": {},
   "outputs": [
    {
     "data": {
      "text/plain": [
       "array([ 3557.81079102, -2256.09936523,  3368.94946289])"
      ]
     },
     "execution_count": 7,
     "metadata": {},
     "output_type": "execute_result"
    }
   ],
   "source": [
    "vertex_coord"
   ]
  },
  {
   "cell_type": "markdown",
   "id": "106aac53-2f8a-4a73-9038-36198fccde48",
   "metadata": {},
   "source": [
    "### Separate PMT id relative to hit_type of event"
   ]
  },
  {
   "cell_type": "code",
   "execution_count": 8,
   "id": "a5c9233a-ee5e-42b5-b8e4-ed74d6074aa7",
   "metadata": {
    "tags": []
   },
   "outputs": [],
   "source": [
    "import itertools\n",
    "\n",
    "condition_1 = (hit_type_ev == 1)\n",
    "condition_2 = (hit_type_ev == 2)\n",
    "\n",
    "pmtID_hit_1 = np.array([], dtype = np.int64)  #ID of PMTs detecting hit_type = 1\n",
    "pmtID_hit_2 = np.array([], dtype = np.int64)  #ID of PMTs detecting hit_type = 2\n",
    "\n",
    "time_res_hit_1 = np.array([])                 #Time residuals of hit type = 1\n",
    "hitpmt_ID_hit_1 = np.array([], dtype = np.int64)  #ID of PMTS that recorded hit_type = 1\n",
    "\n",
    "for (i,j) in zip(where(condition_1), where(condition_2)):\n",
    "    pmtID_hit_1 = np.append(pmtID_hit_1, pmt_ID_ev[i])\n",
    "    pmtID_hit_2 = np.append(pmtID_hit_2, pmt_ID_ev[j])\n",
    "    \n",
    "    time_res_hit_1 = np.append(time_res_hit_1, time_res[i])\n",
    "    hitpmt_ID_hit_1 = np.append(hitpmt_ID_hit_1, hitpmt_ID[i])"
   ]
  },
  {
   "cell_type": "code",
   "execution_count": 9,
   "id": "14d88aa6-d737-40b5-8840-f238ea501c70",
   "metadata": {},
   "outputs": [
    {
     "data": {
      "text/plain": [
       "array([ 1.45351789e+01,  2.91509183e+00,  3.25459286e+00,  2.35421433e+00,\n",
       "        3.75434356e-01,  4.11415225e+00,  4.77545825e+00,  8.50549135e+00,\n",
       "        5.07921859e-02,  1.56134593e+01,  1.09029465e+01,  5.42648003e+00,\n",
       "        4.81364170e+00, -1.30515953e-01,  5.86764300e+00,  5.06614912e+00,\n",
       "        1.14956364e+01,  1.34283898e+00,  4.89344529e+00,  2.22758282e+01,\n",
       "        3.24633102e+00,  5.98667702e+00,  5.75462470e+00,  1.63787634e+01,\n",
       "        8.03168152e+00,  3.41280305e+01,  3.81937619e+01,  3.81709266e+01,\n",
       "        2.11237033e+01,  4.33360956e+01,  5.19138681e+01,  4.67311019e+01,\n",
       "        5.33329167e+01])"
      ]
     },
     "execution_count": 9,
     "metadata": {},
     "output_type": "execute_result"
    }
   ],
   "source": [
    "time_res_hit_1"
   ]
  },
  {
   "cell_type": "markdown",
   "id": "59e6e368-54cf-4454-a268-87b263891be1",
   "metadata": {},
   "source": [
    "### Now see the coordinate of such PMTs once separated"
   ]
  },
  {
   "cell_type": "code",
   "execution_count": 10,
   "id": "770453cd-3e41-436b-9893-a366226ae63b",
   "metadata": {},
   "outputs": [],
   "source": [
    "from modulus_simplification import GetPMTCoord"
   ]
  },
  {
   "cell_type": "code",
   "execution_count": 11,
   "id": "48adf559-5cbb-42cb-8be3-a5897a63d3a3",
   "metadata": {},
   "outputs": [],
   "source": [
    "hit_type_1_coord = GetPMTCoord(file,pmtID_hit_1)\n",
    "hit_type_2_coord = GetPMTCoord(file,pmtID_hit_2)"
   ]
  },
  {
   "cell_type": "code",
   "execution_count": 12,
   "id": "783a8629-9e0b-4e9c-945f-e9cfce02bd4b",
   "metadata": {},
   "outputs": [
    {
     "data": {
      "text/html": [
       "<div>\n",
       "<style scoped>\n",
       "    .dataframe tbody tr th:only-of-type {\n",
       "        vertical-align: middle;\n",
       "    }\n",
       "\n",
       "    .dataframe tbody tr th {\n",
       "        vertical-align: top;\n",
       "    }\n",
       "\n",
       "    .dataframe thead th {\n",
       "        text-align: right;\n",
       "    }\n",
       "</style>\n",
       "<table border=\"1\" class=\"dataframe\">\n",
       "  <thead>\n",
       "    <tr style=\"text-align: right;\">\n",
       "      <th></th>\n",
       "      <th>x</th>\n",
       "      <th>y</th>\n",
       "      <th>z</th>\n",
       "      <th>zenit</th>\n",
       "      <th>azimut</th>\n",
       "      <th>rad</th>\n",
       "    </tr>\n",
       "  </thead>\n",
       "  <tbody>\n",
       "    <tr>\n",
       "      <th>0</th>\n",
       "      <td>6576.25</td>\n",
       "      <td>1326.20</td>\n",
       "      <td>5080.24</td>\n",
       "      <td>0.922660</td>\n",
       "      <td>0.198996</td>\n",
       "      <td>8415.147590</td>\n",
       "    </tr>\n",
       "    <tr>\n",
       "      <th>1</th>\n",
       "      <td>6725.23</td>\n",
       "      <td>3698.58</td>\n",
       "      <td>3420.12</td>\n",
       "      <td>1.151600</td>\n",
       "      <td>0.502809</td>\n",
       "      <td>8402.703933</td>\n",
       "    </tr>\n",
       "    <tr>\n",
       "      <th>2</th>\n",
       "      <td>4069.56</td>\n",
       "      <td>3035.35</td>\n",
       "      <td>-6720.39</td>\n",
       "      <td>2.494617</td>\n",
       "      <td>0.640851</td>\n",
       "      <td>8422.488348</td>\n",
       "    </tr>\n",
       "    <tr>\n",
       "      <th>3</th>\n",
       "      <td>5447.62</td>\n",
       "      <td>4683.72</td>\n",
       "      <td>4320.90</td>\n",
       "      <td>1.029320</td>\n",
       "      <td>0.710141</td>\n",
       "      <td>8383.553752</td>\n",
       "    </tr>\n",
       "    <tr>\n",
       "      <th>4</th>\n",
       "      <td>3302.21</td>\n",
       "      <td>5467.24</td>\n",
       "      <td>-5455.65</td>\n",
       "      <td>2.277703</td>\n",
       "      <td>1.027441</td>\n",
       "      <td>8399.965537</td>\n",
       "    </tr>\n",
       "  </tbody>\n",
       "</table>\n",
       "</div>"
      ],
      "text/plain": [
       "         x        y        z     zenit    azimut          rad\n",
       "0  6576.25  1326.20  5080.24  0.922660  0.198996  8415.147590\n",
       "1  6725.23  3698.58  3420.12  1.151600  0.502809  8402.703933\n",
       "2  4069.56  3035.35 -6720.39  2.494617  0.640851  8422.488348\n",
       "3  5447.62  4683.72  4320.90  1.029320  0.710141  8383.553752\n",
       "4  3302.21  5467.24 -5455.65  2.277703  1.027441  8399.965537"
      ]
     },
     "execution_count": 12,
     "metadata": {},
     "output_type": "execute_result"
    }
   ],
   "source": [
    "hit_type_1_coord.head()"
   ]
  },
  {
   "cell_type": "code",
   "execution_count": 13,
   "id": "edf8d509-e6da-4cfb-9bbb-c69da55bc39c",
   "metadata": {},
   "outputs": [
    {
     "data": {
      "text/html": [
       "<div>\n",
       "<style scoped>\n",
       "    .dataframe tbody tr th:only-of-type {\n",
       "        vertical-align: middle;\n",
       "    }\n",
       "\n",
       "    .dataframe tbody tr th {\n",
       "        vertical-align: top;\n",
       "    }\n",
       "\n",
       "    .dataframe thead th {\n",
       "        text-align: right;\n",
       "    }\n",
       "</style>\n",
       "<table border=\"1\" class=\"dataframe\">\n",
       "  <thead>\n",
       "    <tr style=\"text-align: right;\">\n",
       "      <th></th>\n",
       "      <th>x</th>\n",
       "      <th>y</th>\n",
       "      <th>z</th>\n",
       "      <th>zenit</th>\n",
       "      <th>azimut</th>\n",
       "      <th>rad</th>\n",
       "    </tr>\n",
       "  </thead>\n",
       "  <tbody>\n",
       "    <tr>\n",
       "      <th>0</th>\n",
       "      <td>2380.63</td>\n",
       "      <td>-176.30</td>\n",
       "      <td>-8059.18</td>\n",
       "      <td>2.853623</td>\n",
       "      <td>-0.073921</td>\n",
       "      <td>8405.287809</td>\n",
       "    </tr>\n",
       "    <tr>\n",
       "      <th>1</th>\n",
       "      <td>5272.76</td>\n",
       "      <td>922.26</td>\n",
       "      <td>-6502.76</td>\n",
       "      <td>2.452889</td>\n",
       "      <td>0.173159</td>\n",
       "      <td>8422.496610</td>\n",
       "    </tr>\n",
       "    <tr>\n",
       "      <th>2</th>\n",
       "      <td>7589.93</td>\n",
       "      <td>640.41</td>\n",
       "      <td>-3558.01</td>\n",
       "      <td>2.007796</td>\n",
       "      <td>0.084177</td>\n",
       "      <td>8406.937465</td>\n",
       "    </tr>\n",
       "    <tr>\n",
       "      <th>3</th>\n",
       "      <td>7944.53</td>\n",
       "      <td>241.22</td>\n",
       "      <td>-2765.36</td>\n",
       "      <td>1.905620</td>\n",
       "      <td>0.030354</td>\n",
       "      <td>8415.518994</td>\n",
       "    </tr>\n",
       "    <tr>\n",
       "      <th>4</th>\n",
       "      <td>8081.78</td>\n",
       "      <td>1068.09</td>\n",
       "      <td>-2054.53</td>\n",
       "      <td>1.817681</td>\n",
       "      <td>0.131399</td>\n",
       "      <td>8406.966025</td>\n",
       "    </tr>\n",
       "  </tbody>\n",
       "</table>\n",
       "</div>"
      ],
      "text/plain": [
       "         x        y        z     zenit    azimut          rad\n",
       "0  2380.63  -176.30 -8059.18  2.853623 -0.073921  8405.287809\n",
       "1  5272.76   922.26 -6502.76  2.452889  0.173159  8422.496610\n",
       "2  7589.93   640.41 -3558.01  2.007796  0.084177  8406.937465\n",
       "3  7944.53   241.22 -2765.36  1.905620  0.030354  8415.518994\n",
       "4  8081.78  1068.09 -2054.53  1.817681  0.131399  8406.966025"
      ]
     },
     "execution_count": 13,
     "metadata": {},
     "output_type": "execute_result"
    }
   ],
   "source": [
    "hit_type_2_coord.head()"
   ]
  },
  {
   "cell_type": "code",
   "execution_count": 14,
   "id": "5faba17c-7609-49fa-a833-25416aaf2b27",
   "metadata": {},
   "outputs": [],
   "source": [
    "#hit type coordinates\n",
    "zenit_1 = array(hit_type_1_coord['zenit'])\n",
    "azimut_1 = array(hit_type_1_coord['azimut'])\n",
    "\n",
    "zenit_2 = array(hit_type_2_coord['zenit'])\n",
    "azimut_2 = array(hit_type_2_coord['azimut'])"
   ]
  },
  {
   "cell_type": "code",
   "execution_count": 15,
   "id": "6c4dce72-a96f-4b3b-a526-6879fca9d33e",
   "metadata": {},
   "outputs": [
    {
     "data": {
      "image/png": "[encoded data removed]",
      "text/plain": [
       "<Figure size 576x432 with 1 Axes>"
      ]
     },
     "metadata": {
      "needs_background": "light"
     },
     "output_type": "display_data"
    }
   ],
   "source": [
    "#%matplotlib\n",
    "\n",
    "plt.figure(figsize=(8,6))\n",
    "plt.hist2d(x = np.cos(zenit_1+pi/2), y = azimut_1, bins = [50,50], density = True)\n",
    "plt.ylabel('azimuth')\n",
    "plt.xlabel('cos(zenith)')\n",
    "plt.title('PMT map')\n",
    "#plt.colorbar()\n",
    "plt.show()"
   ]
  },
  {
   "cell_type": "markdown",
   "id": "01c32480-8ab2-47f6-a4d1-ca5a4a35afee",
   "metadata": {},
   "source": [
    "### 3D Plot hit_types for this event"
   ]
  },
  {
   "cell_type": "code",
   "execution_count": 16,
   "id": "58406656-d55a-4649-9eaa-0bc1b162f112",
   "metadata": {},
   "outputs": [
    {
     "name": "stdout",
     "output_type": "stream",
     "text": [
      "Using matplotlib backend: Qt5Agg\n"
     ]
    }
   ],
   "source": [
    "%matplotlib\n",
    "\n",
    "#cev\n",
    "x_hit_1 = array(hit_type_1_coord['x'])\n",
    "y_hit_1 = array(hit_type_1_coord['y'])\n",
    "z_hit_1 = array(hit_type_1_coord['z'])\n",
    "\n",
    "#scint\n",
    "x_hit_2 = array(hit_type_2_coord['x'])\n",
    "y_hit_2 = array(hit_type_2_coord['y'])\n",
    "z_hit_2 = array(hit_type_2_coord['z'])\n",
    "\n",
    "#event generation\n",
    "x_ev = vertex_coord[0]\n",
    "y_ev = vertex_coord[1]\n",
    "z_ev = vertex_coord[2]\n",
    "\n",
    "fig = plt.figure(figsize = (10,10))\n",
    "ax = fig.add_subplot(projection='3d')\n",
    "\n",
    "ax.scatter(x_hit_1, y_hit_1, z_hit_1, c = 'r', s = 10, label = 'CEV')\n",
    "#ax.scatter(x_hit_2, y_hit_2, z_hit_2, c = 'b', s = 10, label = 'SCINT')\n",
    "ax.scatter(x_ev, y_ev, z_ev, c = 'g', s = 10, label = 'VERTEX')\n",
    "plt.legend()\n",
    "\n",
    "plt.show()"
   ]
  },
  {
   "cell_type": "markdown",
   "id": "81b27724-62c3-4722-93b3-f6b25dfbd6e8",
   "metadata": {},
   "source": [
    "### Lets see the xy plane"
   ]
  },
  {
   "cell_type": "code",
   "execution_count": 17,
   "id": "112c0aa2-daf2-4210-807a-159744883094",
   "metadata": {},
   "outputs": [],
   "source": [
    "plt.figure(figsize=(8,6))\n",
    "plt.scatter(x_hit_1, y_hit_1)\n",
    "plt.ylabel('y_pmt')\n",
    "plt.xlabel('x_pmt')\n",
    "#plt.title('PMT map')\n",
    "\n",
    "plt.show()"
   ]
  },
  {
   "cell_type": "code",
   "execution_count": 18,
   "id": "1bba9b5a-e6c0-417e-b2a0-0c1ad90091a9",
   "metadata": {},
   "outputs": [],
   "source": [
    "plt.figure(figsize=(8,8))\n",
    "plt.hist2d(x = x_hit_1, y = y_hit_1, bins = [20,20], density = True)\n",
    "plt.ylabel('y_pmt')\n",
    "plt.xlabel('x_pmt')\n",
    "plt.title('Type1 Hit - xy plane')\n",
    "\n",
    "#equal acis ration\n",
    "ax = plt.gca()\n",
    "ax.set_aspect('equal', adjustable='box')\n",
    "plt.show()"
   ]
  },
  {
   "cell_type": "markdown",
   "id": "2ccd5938-89bd-4f04-bc85-06dac21d7fcd",
   "metadata": {},
   "source": [
    "### Study of cut in Time residual after selection of photon type"
   ]
  },
  {
   "cell_type": "code",
   "execution_count": 19,
   "id": "352d722f-b6f3-4ee8-9376-6aac10cc8fde",
   "metadata": {},
   "outputs": [
    {
     "data": {
      "text/html": [
       "<div>\n",
       "<style scoped>\n",
       "    .dataframe tbody tr th:only-of-type {\n",
       "        vertical-align: middle;\n",
       "    }\n",
       "\n",
       "    .dataframe tbody tr th {\n",
       "        vertical-align: top;\n",
       "    }\n",
       "\n",
       "    .dataframe thead th {\n",
       "        text-align: right;\n",
       "    }\n",
       "</style>\n",
       "<table border=\"1\" class=\"dataframe\">\n",
       "  <thead>\n",
       "    <tr style=\"text-align: right;\">\n",
       "      <th></th>\n",
       "      <th>eventID</th>\n",
       "      <th>hitpmt ID</th>\n",
       "      <th>hit type</th>\n",
       "      <th>mc coordinates</th>\n",
       "      <th>mc radius</th>\n",
       "      <th>reconst radius</th>\n",
       "      <th>reconst error</th>\n",
       "      <th>time residual</th>\n",
       "    </tr>\n",
       "  </thead>\n",
       "  <tbody>\n",
       "    <tr>\n",
       "      <th>0</th>\n",
       "      <td>11</td>\n",
       "      <td>[2579, 8519, 8484, 8966, 8511, 8507, 8486, 897...</td>\n",
       "      <td>[2, 2, 2, 2, 2, 2, 2, 2, 2, 2, 2, 2, 2, 2, 2, ...</td>\n",
       "      <td>[3557.810791015625, -2256.099365234375, 3368.9...</td>\n",
       "      <td>5394.239748</td>\n",
       "      <td>5421.818817</td>\n",
       "      <td>48.522873</td>\n",
       "      <td>[-10318.78351583185, 0.693626196607795, 4.4544...</td>\n",
       "    </tr>\n",
       "  </tbody>\n",
       "</table>\n",
       "</div>"
      ],
      "text/plain": [
       "   eventID                                          hitpmt ID  \\\n",
       "0       11  [2579, 8519, 8484, 8966, 8511, 8507, 8486, 897...   \n",
       "\n",
       "                                            hit type  \\\n",
       "0  [2, 2, 2, 2, 2, 2, 2, 2, 2, 2, 2, 2, 2, 2, 2, ...   \n",
       "\n",
       "                                      mc coordinates    mc radius  \\\n",
       "0  [3557.810791015625, -2256.099365234375, 3368.9...  5394.239748   \n",
       "\n",
       "   reconst radius  reconst error  \\\n",
       "0     5421.818817      48.522873   \n",
       "\n",
       "                                       time residual  \n",
       "0  [-10318.78351583185, 0.693626196607795, 4.4544...  "
      ]
     },
     "execution_count": 19,
     "metadata": {},
     "output_type": "execute_result"
    }
   ],
   "source": [
    "evt_id_n"
   ]
  },
  {
   "cell_type": "code",
   "execution_count": 20,
   "id": "58543411-8991-44cb-812e-b6e91c2e10b5",
   "metadata": {
    "tags": []
   },
   "outputs": [],
   "source": [
    "time_res = np.array(evt_id_n['time residual'])[0]\n",
    "hitpmt_ID = np.array(evt_id_n['hitpmt ID'])[0]"
   ]
  },
  {
   "cell_type": "code",
   "execution_count": 22,
   "id": "d001e8be-b223-468e-b355-ff985a9418a3",
   "metadata": {},
   "outputs": [
    {
     "data": {
      "text/plain": [
       "numpy.ndarray"
      ]
     },
     "execution_count": 22,
     "metadata": {},
     "output_type": "execute_result"
    }
   ],
   "source": [
    "time_res_cut = np.array([])\n",
    "hitpmt_ID_cut = np.array([], dtype = np.int64)  # ID´s after cut\n",
    "\n",
    "#cuts\n",
    "up_cut = 5\n",
    "inf_cut = -50\n",
    "\n",
    "#conditions\n",
    "condition_1 = time_res_hit_1 > inf_cut\n",
    "condition_2 = time_res_hit_1 < up_cut\n",
    "\n",
    "for i in np.where((time_res_hit_1 > inf_cut) & (time_res_hit_1 < up_cut))[0]:\n",
    "    \n",
    "    time_res_cut = np.append(time_res_cut, time_res_hit_1[i])\n",
    "    hitpmt_ID_cut = np.append(hitpmt_ID_cut, hitpmt_ID_hit_1[i])\n",
    "type(time_res_hit_1)"
   ]
  },
  {
   "cell_type": "code",
   "execution_count": 206,
   "id": "91041597-ec16-4595-97bc-ba27085acf51",
   "metadata": {
    "tags": []
   },
   "outputs": [
    {
     "data": {
      "text/html": [
       "<div>\n",
       "<style scoped>\n",
       "    .dataframe tbody tr th:only-of-type {\n",
       "        vertical-align: middle;\n",
       "    }\n",
       "\n",
       "    .dataframe tbody tr th {\n",
       "        vertical-align: top;\n",
       "    }\n",
       "\n",
       "    .dataframe thead th {\n",
       "        text-align: right;\n",
       "    }\n",
       "</style>\n",
       "<table border=\"1\" class=\"dataframe\">\n",
       "  <thead>\n",
       "    <tr style=\"text-align: right;\">\n",
       "      <th></th>\n",
       "      <th>x</th>\n",
       "      <th>y</th>\n",
       "      <th>z</th>\n",
       "      <th>zenit</th>\n",
       "      <th>azimut</th>\n",
       "      <th>rad</th>\n",
       "    </tr>\n",
       "  </thead>\n",
       "  <tbody>\n",
       "    <tr>\n",
       "      <th>0</th>\n",
       "      <td>6576.25</td>\n",
       "      <td>1326.20</td>\n",
       "      <td>5080.24</td>\n",
       "      <td>0.922660</td>\n",
       "      <td>0.198996</td>\n",
       "      <td>8415.147590</td>\n",
       "    </tr>\n",
       "    <tr>\n",
       "      <th>1</th>\n",
       "      <td>-5529.81</td>\n",
       "      <td>587.34</td>\n",
       "      <td>6311.97</td>\n",
       "      <td>0.722224</td>\n",
       "      <td>3.035776</td>\n",
       "      <td>8412.177613</td>\n",
       "    </tr>\n",
       "    <tr>\n",
       "      <th>2</th>\n",
       "      <td>1828.68</td>\n",
       "      <td>-7662.79</td>\n",
       "      <td>-2993.56</td>\n",
       "      <td>1.933936</td>\n",
       "      <td>-1.336534</td>\n",
       "      <td>8427.563266</td>\n",
       "    </tr>\n",
       "    <tr>\n",
       "      <th>3</th>\n",
       "      <td>3222.91</td>\n",
       "      <td>-4871.25</td>\n",
       "      <td>6020.09</td>\n",
       "      <td>0.770293</td>\n",
       "      <td>-0.986297</td>\n",
       "      <td>8387.950229</td>\n",
       "    </tr>\n",
       "    <tr>\n",
       "      <th>4</th>\n",
       "      <td>3436.46</td>\n",
       "      <td>-5607.91</td>\n",
       "      <td>5233.65</td>\n",
       "      <td>0.898658</td>\n",
       "      <td>-1.021027</td>\n",
       "      <td>8405.296201</td>\n",
       "    </tr>\n",
       "    <tr>\n",
       "      <th>5</th>\n",
       "      <td>3777.41</td>\n",
       "      <td>-6499.82</td>\n",
       "      <td>3808.92</td>\n",
       "      <td>1.101837</td>\n",
       "      <td>-1.044348</td>\n",
       "      <td>8427.595025</td>\n",
       "    </tr>\n",
       "    <tr>\n",
       "      <th>6</th>\n",
       "      <td>4353.29</td>\n",
       "      <td>-7113.34</td>\n",
       "      <td>1018.18</td>\n",
       "      <td>1.449309</td>\n",
       "      <td>-1.021608</td>\n",
       "      <td>8401.632597</td>\n",
       "    </tr>\n",
       "    <tr>\n",
       "      <th>7</th>\n",
       "      <td>8363.38</td>\n",
       "      <td>40.02</td>\n",
       "      <td>-799.72</td>\n",
       "      <td>1.666127</td>\n",
       "      <td>0.004785</td>\n",
       "      <td>8401.623575</td>\n",
       "    </tr>\n",
       "    <tr>\n",
       "      <th>8</th>\n",
       "      <td>6668.21</td>\n",
       "      <td>-5089.93</td>\n",
       "      <td>-551.53</td>\n",
       "      <td>1.636448</td>\n",
       "      <td>-0.651967</td>\n",
       "      <td>8406.937454</td>\n",
       "    </tr>\n",
       "    <tr>\n",
       "      <th>9</th>\n",
       "      <td>7415.27</td>\n",
       "      <td>-1249.69</td>\n",
       "      <td>3770.62</td>\n",
       "      <td>1.106011</td>\n",
       "      <td>-0.166960</td>\n",
       "      <td>8412.225000</td>\n",
       "    </tr>\n",
       "    <tr>\n",
       "      <th>10</th>\n",
       "      <td>6716.57</td>\n",
       "      <td>-4219.18</td>\n",
       "      <td>2781.18</td>\n",
       "      <td>1.233555</td>\n",
       "      <td>-0.560879</td>\n",
       "      <td>8405.281353</td>\n",
       "    </tr>\n",
       "    <tr>\n",
       "      <th>11</th>\n",
       "      <td>6767.07</td>\n",
       "      <td>-2385.07</td>\n",
       "      <td>-4420.69</td>\n",
       "      <td>2.122982</td>\n",
       "      <td>-0.338858</td>\n",
       "      <td>8427.591315</td>\n",
       "    </tr>\n",
       "  </tbody>\n",
       "</table>\n",
       "</div>"
      ],
      "text/plain": [
       "          x        y        z     zenit    azimut          rad\n",
       "0   6576.25  1326.20  5080.24  0.922660  0.198996  8415.147590\n",
       "1  -5529.81   587.34  6311.97  0.722224  3.035776  8412.177613\n",
       "2   1828.68 -7662.79 -2993.56  1.933936 -1.336534  8427.563266\n",
       "3   3222.91 -4871.25  6020.09  0.770293 -0.986297  8387.950229\n",
       "4   3436.46 -5607.91  5233.65  0.898658 -1.021027  8405.296201\n",
       "5   3777.41 -6499.82  3808.92  1.101837 -1.044348  8427.595025\n",
       "6   4353.29 -7113.34  1018.18  1.449309 -1.021608  8401.632597\n",
       "7   8363.38    40.02  -799.72  1.666127  0.004785  8401.623575\n",
       "8   6668.21 -5089.93  -551.53  1.636448 -0.651967  8406.937454\n",
       "9   7415.27 -1249.69  3770.62  1.106011 -0.166960  8412.225000\n",
       "10  6716.57 -4219.18  2781.18  1.233555 -0.560879  8405.281353\n",
       "11  6767.07 -2385.07 -4420.69  2.122982 -0.338858  8427.591315"
      ]
     },
     "execution_count": 206,
     "metadata": {},
     "output_type": "execute_result"
    }
   ],
   "source": [
    "GetPMTCoord(file, hitpmt_ID_cut)"
   ]
  },
  {
   "cell_type": "code",
   "execution_count": 207,
   "id": "e845a28a-be53-4ae6-af27-133b11238729",
   "metadata": {},
   "outputs": [],
   "source": [
    "cut_pmt = GetPMTCoord(file,hitpmt_ID_cut)"
   ]
  },
  {
   "cell_type": "code",
   "execution_count": 208,
   "id": "43e5e579-70f1-4a3d-bec2-890a0d7e4f02",
   "metadata": {},
   "outputs": [
    {
     "name": "stdout",
     "output_type": "stream",
     "text": [
      "Using matplotlib backend: Qt5Agg\n"
     ]
    }
   ],
   "source": [
    "%matplotlib\n",
    "\n",
    "#cev\n",
    "x_hit_1 = array(cut_pmt['x'])\n",
    "y_hit_1 = array(cut_pmt['y'])\n",
    "z_hit_1 = array(cut_pmt['z'])\n",
    "\n",
    "#event generation\n",
    "x_ev = vertex_coord[0]\n",
    "y_ev = vertex_coord[1]\n",
    "z_ev = vertex_coord[2]\n",
    "\n",
    "\n",
    "fig = plt.figure(figsize = (10,10))\n",
    "ax = fig.add_subplot(projection='3d')\n",
    "\n",
    "ax.scatter(x_hit_1, y_hit_1, z_hit_1, c = 'r', s = 15, label = 'CEV')\n",
    "#ax.scatter(x_hit_2, y_hit_2, z_hit_2, c = 'b', s = 10, label = 'SCINT')\n",
    "ax.scatter(x_ev, y_ev, z_ev, c = 'g', s = 10, label = 'VERTEX')\n",
    "plt.legend()\n",
    "\n",
    "ax.axes.set_xlim3d(left=-9000, right=9000) \n",
    "ax.axes.set_ylim3d(bottom=-9000, top=9000) \n",
    "ax.axes.set_zlim3d(bottom=-9000, top=9000) \n",
    "\n",
    "plt.show()"
   ]
  },
  {
   "cell_type": "code",
   "execution_count": 183,
   "id": "9a6ad38a-9219-475b-80a5-3974b4205ed3",
   "metadata": {},
   "outputs": [],
   "source": [
    "plt.figure(figsize=(8,8))\n",
    "plt.hist2d(x = x_hit_1, y = y_hit_1, bins = [20,20], density = True)\n",
    "plt.ylabel('y_pmt')\n",
    "plt.xlabel('x_pmt')\n",
    "plt.title('PMT map')\n",
    "\n",
    "\n",
    "# ax = plt.gca()\n",
    "# ax.set_aspect('equal', adjustable='box')\n",
    "plt.show()"
   ]
  },
  {
   "cell_type": "code",
   "execution_count": null,
   "id": "04ed73f3-976d-49f6-ae7e-98229082ff31",
   "metadata": {},
   "outputs": [],
   "source": []
  }
 ],
 "metadata": {
  "kernelspec": {
   "display_name": "Python 3",
   "language": "python",
   "name": "python3"
  },
  "language_info": {
   "codemirror_mode": {
    "name": "ipython",
    "version": 3
   },
   "file_extension": ".py",
   "mimetype": "text/x-python",
   "name": "python",
   "nbconvert_exporter": "python",
   "pygments_lexer": "ipython3",
   "version": "3.8.8"
  }
 },
 "nbformat": 4,
 "nbformat_minor": 5
}
