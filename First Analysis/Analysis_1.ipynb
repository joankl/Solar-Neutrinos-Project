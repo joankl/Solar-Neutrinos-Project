{
 "cells": [
  {
   "cell_type": "code",
   "execution_count": 2,
   "id": "146ca955-3d10-43d1-a385-fecc57209b93",
   "metadata": {},
   "outputs": [],
   "source": [
    "def magnitude(vector): \n",
    "    return np.sqrt(sum(pow(element, 2) for element in vector))"
   ]
  },
  {
   "cell_type": "code",
   "execution_count": 2,
   "id": "1e8b602f-4be5-44eb-879c-8e0eaac78b43",
   "metadata": {},
   "outputs": [],
   "source": [
    "import uproot\n",
    "import numpy as np\n",
    "import matplotlib.pyplot as plt\n",
    "import seaborn as sn\n",
    "from tqdm import tqdm\n",
    "from mpl_toolkits import mplot3d\n",
    "from numpy import array, where, shape, reshape\n",
    "np.set_printoptions(threshold=1000)"
   ]
  },
  {
   "cell_type": "markdown",
   "id": "508d8556-ae35-483a-b3e5-1dc9f1f0e30e",
   "metadata": {},
   "source": [
    "### Importar archivos"
   ]
  },
  {
   "cell_type": "code",
   "execution_count": 3,
   "id": "5cc6df6c-530e-4c48-911a-dae2cce08140",
   "metadata": {},
   "outputs": [
    {
     "data": {
      "text/plain": [
       "uproot.reading.ReadOnlyDirectory"
      ]
     },
     "execution_count": 3,
     "metadata": {},
     "output_type": "execute_result"
    }
   ],
   "source": [
    "file = uproot.open(\"/snoplus simulations/electron bulk/center point/simu_Analysis_elec_z_10MeV.root\")\n",
    "\n",
    "type(file)"
   ]
  },
  {
   "cell_type": "markdown",
   "id": "81d6b719-842b-4951-ab10-2e56b57ec0e6",
   "metadata": {},
   "source": [
    "### Explorar TTrees"
   ]
  },
  {
   "cell_type": "code",
   "execution_count": 4,
   "id": "5e39ce7d-6294-496d-8b60-91fe8a6b30ab",
   "metadata": {},
   "outputs": [
    {
     "data": {
      "text/plain": [
       "['T;1', 'pmt;2', 'pmt;1']"
      ]
     },
     "execution_count": 4,
     "metadata": {},
     "output_type": "execute_result"
    }
   ],
   "source": [
    "branches = file.keys()\n",
    "branches"
   ]
  },
  {
   "cell_type": "code",
   "execution_count": 5,
   "id": "813a3a77-9d52-4e33-8cf0-4ad08aa4f387",
   "metadata": {},
   "outputs": [
    {
     "data": {
      "text/plain": [
       "['evtid',\n",
       " 'mcID',\n",
       " 'mc_position',\n",
       " 'mc_momentum',\n",
       " 'position',\n",
       " 'momentum',\n",
       " 'hit_pmtid',\n",
       " 'hit_pmttime',\n",
       " 'hit_residual',\n",
       " 'hit_type']"
      ]
     },
     "execution_count": 5,
     "metadata": {},
     "output_type": "execute_result"
    }
   ],
   "source": [
    "data1 = file['T;1']\n",
    "data1.keys()"
   ]
  },
  {
   "cell_type": "code",
   "execution_count": 6,
   "id": "aa30d673-b42b-409a-abb4-fabacaed4a95",
   "metadata": {},
   "outputs": [],
   "source": [
    "evtid = np.array(data1['evtid'])\n",
    "mc_position = np.array(data1['mc_position'])\n",
    "position = np.array(data1['position'])\n",
    "hit_pmtid = np.array(data1['hit_pmtid'])\n",
    "hit_pmttime = np.array(data1['hit_pmttime'])\n",
    "hit_residual = np.array(data1['hit_residual'])\n",
    "hit_type = np.array(data1['hit_type'])"
   ]
  },
  {
   "cell_type": "code",
   "execution_count": 7,
   "id": "f46c0d92-bb2c-4576-b9c1-8502915959f1",
   "metadata": {},
   "outputs": [
    {
     "data": {
      "text/plain": [
       "array([8977, 8612,  345, ..., 1784, 7472, 9207])"
      ]
     },
     "execution_count": 7,
     "metadata": {},
     "output_type": "execute_result"
    }
   ],
   "source": [
    "hit_pmtid"
   ]
  },
  {
   "cell_type": "code",
   "execution_count": 11,
   "id": "e443cce0-548b-4bc1-b571-c5386493d618",
   "metadata": {
    "collapsed": true,
    "jupyter": {
     "outputs_hidden": true
    },
    "tags": []
   },
   "outputs": [
    {
     "name": "stdout",
     "output_type": "stream",
     "text": [
      "2\n",
      "2\n",
      "2\n",
      "2\n",
      "2\n",
      "2\n",
      "2\n",
      "2\n",
      "2\n",
      "2\n",
      "2\n",
      "2\n",
      "2\n",
      "2\n",
      "2\n",
      "2\n",
      "2\n",
      "2\n",
      "2\n",
      "2\n",
      "2\n",
      "2\n",
      "2\n",
      "2\n",
      "2\n",
      "2\n",
      "2\n",
      "2\n",
      "2\n",
      "2\n",
      "2\n",
      "2\n",
      "2\n",
      "2\n",
      "2\n",
      "2\n",
      "2\n",
      "2\n",
      "2\n",
      "2\n",
      "2\n",
      "2\n",
      "2\n",
      "2\n",
      "1\n",
      "2\n",
      "2\n",
      "2\n",
      "1\n",
      "2\n",
      "2\n",
      "2\n",
      "2\n",
      "2\n",
      "2\n",
      "2\n",
      "2\n",
      "2\n",
      "2\n",
      "2\n",
      "2\n",
      "2\n",
      "2\n",
      "2\n",
      "2\n",
      "2\n",
      "2\n",
      "2\n",
      "2\n",
      "2\n",
      "2\n",
      "2\n",
      "2\n",
      "2\n",
      "2\n",
      "2\n",
      "2\n",
      "2\n",
      "2\n",
      "2\n",
      "2\n",
      "2\n",
      "2\n",
      "2\n",
      "2\n",
      "2\n",
      "2\n",
      "2\n",
      "2\n",
      "2\n",
      "2\n",
      "2\n",
      "2\n",
      "2\n",
      "2\n",
      "2\n",
      "1\n",
      "1\n",
      "2\n",
      "2\n"
     ]
    }
   ],
   "source": [
    "for i in hit_type[0:100]:\n",
    "    print (i)"
   ]
  },
  {
   "cell_type": "markdown",
   "id": "23e10fed-0c39-4e02-afaf-5774e5ee270b",
   "metadata": {},
   "source": [
    "#### Nº of events"
   ]
  },
  {
   "cell_type": "code",
   "execution_count": 20,
   "id": "5df8a468-4b56-43be-9fcf-7076175c9967",
   "metadata": {},
   "outputs": [
    {
     "data": {
      "text/plain": [
       "2000"
      ]
     },
     "execution_count": 20,
     "metadata": {},
     "output_type": "execute_result"
    }
   ],
   "source": [
    "np.max(evtid)"
   ]
  },
  {
   "cell_type": "markdown",
   "id": "a24f9806-d865-4c59-ae33-df235efd217b",
   "metadata": {},
   "source": [
    "### Verify if plots make sence"
   ]
  },
  {
   "cell_type": "code",
   "execution_count": 21,
   "id": "a72eb3d3-8058-4eb7-a852-4e0fe28882a8",
   "metadata": {},
   "outputs": [
    {
     "data": {
      "image/png": "[encoded data removed]",
      "text/plain": [
       "<Figure size 576x432 with 1 Axes>"
      ]
     },
     "metadata": {
      "needs_background": "light"
     },
     "output_type": "display_data"
    }
   ],
   "source": [
    "var = hit_residual\n",
    "\n",
    "plt.figure(figsize=(8,6))\n",
    "sn.histplot(var, bins = 100)\n",
    "plt.xlabel('var')\n",
    "plt.ylabel('events')\n",
    "plt.yscale('log')"
   ]
  },
  {
   "cell_type": "code",
   "execution_count": 1,
   "id": "3f9d4cbb-f094-495b-8c44-931d70f4359e",
   "metadata": {
    "tags": []
   },
   "outputs": [
    {
     "ename": "NameError",
     "evalue": "name 'where' is not defined",
     "output_type": "error",
     "traceback": [
      "\u001b[1;31m---------------------------------------------------------------------------\u001b[0m",
      "\u001b[1;31mNameError\u001b[0m                                 Traceback (most recent call last)",
      "\u001b[1;32m<ipython-input-1-5e318e2ec6bf>\u001b[0m in \u001b[0;36m<module>\u001b[1;34m\u001b[0m\n\u001b[1;32m----> 1\u001b[1;33m \u001b[0mwhere\u001b[0m\u001b[1;33m(\u001b[0m\u001b[0mhit_residual\u001b[0m\u001b[1;33m<\u001b[0m\u001b[1;33m-\u001b[0m\u001b[1;36m8000\u001b[0m\u001b[1;33m)\u001b[0m\u001b[1;33m\u001b[0m\u001b[1;33m\u001b[0m\u001b[0m\n\u001b[0m",
      "\u001b[1;31mNameError\u001b[0m: name 'where' is not defined"
     ]
    }
   ],
   "source": [
    "where(hit_residual<-8000)  "
   ]
  },
  {
   "cell_type": "code",
   "execution_count": 23,
   "id": "b763b063-e990-4e9f-9ee5-63b2f16bd3e5",
   "metadata": {},
   "outputs": [
    {
     "data": {
      "text/plain": [
       "31"
      ]
     },
     "execution_count": 23,
     "metadata": {},
     "output_type": "execute_result"
    }
   ],
   "source": [
    "#take one of the eventsID with high negative time residual value\n",
    "evtid[24294]"
   ]
  },
  {
   "cell_type": "markdown",
   "id": "ed76289c-d1e1-46e3-a5a6-3a0912f56cf5",
   "metadata": {},
   "source": [
    "#### pmtID giving hits with time residual too negative! (t_res about -10.000 and -600)"
   ]
  },
  {
   "cell_type": "code",
   "execution_count": 24,
   "id": "b28b7f46-8359-400e-b588-54facf2011f2",
   "metadata": {},
   "outputs": [
    {
     "data": {
      "image/png": "[encoded data removed]",
      "text/plain": [
       "<Figure size 576x432 with 1 Axes>"
      ]
     },
     "metadata": {
      "needs_background": "light"
     },
     "output_type": "display_data"
    }
   ],
   "source": [
    "plt.figure(figsize=(8,6))\n",
    "sn.histplot(x=hit_residual, y = hit_pmtid, bins = 100)\n",
    "plt.xlabel('time_res')\n",
    "plt.ylabel('pmtID')\n",
    "plt.xlim(-800,500)\n",
    "plt.show()"
   ]
  },
  {
   "cell_type": "markdown",
   "id": "2675a86c-a37e-4832-bcb2-705b85b5a922",
   "metadata": {},
   "source": [
    "## Fail PMTid"
   ]
  },
  {
   "cell_type": "markdown",
   "id": "780ff675-977e-4d83-86ba-a3ac4af6194b",
   "metadata": {},
   "source": [
    "Lets identify the ID of these problematic PMTs ..."
   ]
  },
  {
   "cell_type": "code",
   "execution_count": 25,
   "id": "e338ce89-6edc-4818-98a8-8621f744623b",
   "metadata": {
    "tags": []
   },
   "outputs": [
    {
     "name": "stderr",
     "output_type": "stream",
     "text": [
      "100%|████████████████████████████████████████████████████████████████████████████████████| 1/1 [00:00<00:00,  4.70it/s]\n"
     ]
    },
    {
     "data": {
      "text/plain": [
       "array([   3,   40,   52,   59,   75,   97,  116,  132,  141,  144,  187,\n",
       "        189,  217,  232,  235,  236,  267,  285,  289,  292,  302,  308,\n",
       "        315,  316,  318,  324,  342,  361,  363,  366,  374,  401,  414,\n",
       "        421,  435,  437,  458,  466,  469,  482,  486,  503,  531,  538,\n",
       "        550,  553,  560,  565,  568,  579,  583,  587,  596,  597,  600,\n",
       "        633,  636,  648,  663,  664,  677,  679,  684,  692,  694,  697,\n",
       "        705,  713,  717,  720,  739,  741,  742,  751,  764,  765,  766,\n",
       "        775,  823,  828,  830,  834,  850,  852,  873,  889,  892,  893,\n",
       "        895,  918,  922,  931,  962, 1004, 1035, 1048, 1082, 1101, 1107,\n",
       "       1118, 1123, 1140, 1141, 1153, 1164, 1190, 1200, 1219, 1225, 1237,\n",
       "       1244, 1248, 1265, 1276, 1282, 1292, 1296, 1311, 1333, 1335, 1351,\n",
       "       1359, 1367, 1373, 1378, 1384, 1399, 1408, 1409, 1419, 1427, 1430,\n",
       "       1433, 1435, 1450, 1459, 1462, 1464, 1469, 1476, 1504, 1515, 1526,\n",
       "       1544, 1551, 1562, 1575, 1576, 1578, 1590, 1605, 1615, 1621, 1634,\n",
       "       1637, 1650, 1657, 1666, 1683, 1686, 1688, 1693, 1713, 1732, 1754,\n",
       "       1757, 1761, 1764, 1777, 1789, 1791, 1820, 1842, 1853, 1857, 1874,\n",
       "       1901, 1902, 1905, 1907, 1912, 1914, 1935, 1948, 1962, 1972, 1975,\n",
       "       1986, 2004, 2005, 2015, 2023, 2032, 2036, 2054, 2067, 2071, 2075,\n",
       "       2082, 2096, 2100, 2126, 2128, 2152, 2183, 2193, 2199, 2225, 2226,\n",
       "       2237, 2266, 2267, 2268, 2295, 2299, 2300, 2317, 2340, 2353, 2362,\n",
       "       2367, 2371, 2376, 2379, 2386, 2397, 2398, 2400, 2405, 2409, 2413,\n",
       "       2415, 2422, 2424, 2427, 2435, 2438, 2444, 2450, 2468, 2514, 2516,\n",
       "       2544, 2552, 2556, 2579, 2583, 2593, 2601, 2606, 2648, 2653, 2666,\n",
       "       2673, 2692, 2698, 2701, 2709, 2713, 2720, 2723, 2730, 2732, 2733,\n",
       "       2744, 2748, 2762, 2765, 2782, 2814, 2818, 2827, 2841, 2874, 2892,\n",
       "       2893, 2920, 2928, 2936, 2943, 2948, 2952, 2958, 2972, 2998, 3028,\n",
       "       3031, 3033, 3037, 3049, 3058, 3069, 3100, 3139, 3157, 3220, 3235,\n",
       "       3244, 3259, 3263, 3265, 3266, 3292, 3310, 3320, 3336, 3340, 3352,\n",
       "       3364, 3370, 3373, 3374, 3402, 3424, 3431, 3436, 3461, 3462, 3485,\n",
       "       3495, 3506, 3509, 3536, 3544, 3555, 3562, 3565, 3570, 3581, 3589,\n",
       "       3592, 3593, 3598, 3608, 3610, 3613, 3621, 3622, 3629, 3648, 3654,\n",
       "       3664, 3667, 3671, 3673, 3678, 3682, 3691, 3696, 3700, 3701, 3714,\n",
       "       3716, 3741, 3745, 3773, 3777, 3781, 3782, 3784, 3830, 3831, 3835,\n",
       "       3852, 3853, 3862, 3869, 3870, 3872, 3882, 3902, 3911, 3916, 3918,\n",
       "       3920, 3930, 3939, 3941, 3942, 3944, 3969, 3986, 4027, 4039, 4041,\n",
       "       4073, 4116, 4148, 4164, 4180, 4189, 4202, 4205, 4220, 4222, 4244,\n",
       "       4256, 4281, 4296, 4315, 4317, 4336, 4365, 4385, 4394, 4395, 4404,\n",
       "       4413, 4416, 4420, 4426, 4428, 4429, 4442, 4453, 4485, 4487, 4493,\n",
       "       4494, 4495, 4526, 4537, 4538, 4542, 4558, 4559, 4564, 4570, 4572,\n",
       "       4576, 4581, 4585, 4591, 4600, 4604, 4628, 4629, 4650, 4652, 4669,\n",
       "       4687, 4693, 4728, 4731, 4734, 4745, 4749, 4750, 4758, 4769, 4784,\n",
       "       4785, 4787, 4788, 4817, 4821, 4826, 4834, 4836, 4838, 4850, 4866,\n",
       "       4869, 4874, 4883, 4893, 4917, 4920, 4925, 4935, 4937, 4947, 4969,\n",
       "       4970, 4971, 4985, 5009, 5013, 5018, 5019, 5021, 5053, 5070, 5084,\n",
       "       5091, 5099, 5118, 5135, 5138, 5149, 5168, 5173, 5182, 5213, 5223,\n",
       "       5238, 5254, 5268, 5274, 5283, 5284, 5301, 5313, 5316, 5331, 5342,\n",
       "       5348, 5365, 5370, 5387, 5390, 5391, 5408, 5415, 5458, 5463, 5468,\n",
       "       5475, 5479, 5512, 5521, 5540, 5549, 5553, 5558, 5571, 5575, 5579,\n",
       "       5583, 5624, 5625, 5629, 5641, 5642, 5647, 5667, 5668, 5669, 5670,\n",
       "       5671, 5678, 5685, 5697, 5741, 5768, 5774, 5783, 5795, 5814, 5818,\n",
       "       5828, 5833, 5845, 5849, 5857, 5861, 5867, 5891, 5900, 5908, 5913,\n",
       "       5974, 5985, 5988, 5993, 5994, 5997, 6015, 6018, 6021, 6024, 6025,\n",
       "       6066, 6067, 6076, 6102, 6112, 6119, 6125, 6136, 6165, 6174, 6186,\n",
       "       6214, 6231, 6266, 6276, 6292, 6297, 6312, 6315, 6328, 6329, 6331,\n",
       "       6332, 6334, 6360, 6366, 6371, 6375, 6397, 6422, 6426, 6430, 6442,\n",
       "       6467, 6470, 6479, 6487, 6493, 6517, 6519, 6521, 6522, 6525, 6531,\n",
       "       6536, 6554, 6580, 6583, 6588, 6606, 6611, 6615, 6618, 6619, 6622,\n",
       "       6629, 6632, 6681, 6685, 6728, 6736, 6739, 6741, 6745, 6770, 6786,\n",
       "       6802, 6807, 6808, 6812, 6820, 6829, 6845, 6855, 6857, 6872, 6913,\n",
       "       6927, 6936, 6947, 6949, 6958, 6959, 6973, 6975, 6984, 6998, 7000,\n",
       "       7026, 7028, 7037, 7056, 7060, 7062, 7075, 7085, 7116, 7120, 7124,\n",
       "       7162, 7188, 7208, 7212, 7249, 7268, 7283, 7287, 7291, 7292, 7294,\n",
       "       7343, 7357, 7373, 7386, 7389, 7404, 7410, 7418, 7420, 7434, 7440,\n",
       "       7453, 7467, 7487, 7521, 7524, 7542, 7545, 7554, 7564, 7566, 7570,\n",
       "       7577, 7594, 7613, 7630, 7640, 7642, 7650, 7658, 7662, 7696, 7701,\n",
       "       7702, 7722, 7736, 7740, 7762, 7778, 7816, 7819, 7874, 7881, 7902,\n",
       "       7915, 7926, 7941, 7947, 7975, 7980, 7985, 8000, 8007, 8011, 8029,\n",
       "       8047, 8048, 8053, 8060, 8066, 8075, 8080, 8084, 8092, 8094, 8107,\n",
       "       8108, 8110, 8114, 8141, 8187, 8216, 8218, 8223, 8224, 8248, 8257,\n",
       "       8269, 8272, 8301, 8320, 8322, 8337, 8343, 8345, 8346, 8353, 8356,\n",
       "       8368, 8372, 8374, 8384, 8388, 8389, 8390, 8405, 8441, 8487, 8489,\n",
       "       8522, 8527, 8545, 8553, 8559, 8564, 8573, 8586, 8589, 8590, 8592,\n",
       "       8599, 8615, 8638, 8647, 8681, 8690, 8723, 8726, 8738, 8741, 8742,\n",
       "       8744, 8764, 8793, 8794, 8797, 8822, 8861, 8932, 8949, 8954, 8956,\n",
       "       9002, 9035, 9058, 9064, 9072, 9080, 9086, 9095, 9099, 9103, 9109,\n",
       "       9116, 9135, 9139, 9148, 9158, 9162, 9165, 9167, 9207, 9241, 9247,\n",
       "       9294, 9303, 9311, 9318, 9355, 9368, 9369, 9370, 9371, 9384, 9386,\n",
       "       9391, 9392, 9407, 9411, 9414, 9440, 9456, 9473, 9476, 9483, 9487,\n",
       "       9498, 9500, 9503, 9511, 9519, 9520, 9531, 9532, 9551, 9562, 9578,\n",
       "       9586, 9600, 9605, 9609, 9623, 9628, 9631, 9646, 9662, 9686, 9693,\n",
       "       9695, 9726], dtype=int64)"
      ]
     },
     "execution_count": 25,
     "metadata": {},
     "output_type": "execute_result"
    }
   ],
   "source": [
    "fail_pmt_index = where(hit_residual < -200)\n",
    "fail_pmt_id = np.array([], dtype = np.int64)\n",
    "\n",
    "for index in tqdm(fail_pmt_index):\n",
    "    fail_pmt_id = np.append(fail_pmt_id, hit_pmtid[index])\n",
    "\n",
    "fail_pmt_id = np.unique(fail_pmt_id)\n",
    "fail_pmt_id"
   ]
  },
  {
   "cell_type": "markdown",
   "id": "c67314a3-c6f8-4dbf-883d-e1c0241a82d6",
   "metadata": {},
   "source": [
    "### Extract PMT info.\n",
    "PMT info. is relative to its standar positions, identificators, etc. They dont correspond to hits of events!"
   ]
  },
  {
   "cell_type": "code",
   "execution_count": 9,
   "id": "cf96700a-b5b9-4e5b-938b-df5ada24f7ca",
   "metadata": {},
   "outputs": [
    {
     "data": {
      "text/plain": [
       "['pmt_id', 'pmt_pos_xyz', 'pmt_pos_sph', 'pmt_type']"
      ]
     },
     "execution_count": 9,
     "metadata": {},
     "output_type": "execute_result"
    }
   ],
   "source": [
    "pmt_info = file['pmt;1']\n",
    "pmt_info.keys()"
   ]
  },
  {
   "cell_type": "code",
   "execution_count": 10,
   "id": "717c10a4-25ec-4e16-b529-16be614e5c20",
   "metadata": {},
   "outputs": [],
   "source": [
    "pmt_id = array(pmt_info['pmt_id'])\n",
    "pmt_pos_xyz = array(pmt_info['pmt_pos_xyz'])\n",
    "pmt_pos_sph = array(pmt_info['pmt_pos_sph'])\n",
    "pmt_type = array(pmt_info['pmt_type'])\n",
    "\n",
    "#Now, pass to array--------------\n",
    "\n",
    "#pmt_id = np.array(pmt_id)\n",
    "#pmt_pos_xyz = np.array(pmt_pos_xyz)\n",
    "#pmt_pos_sph = np.array(pmt_pos_sph)\n",
    "#pmt_type = np.array(pmt_type)"
   ]
  },
  {
   "cell_type": "code",
   "execution_count": 11,
   "id": "fe4d44a0-b207-4659-bf9c-094a223983f7",
   "metadata": {},
   "outputs": [
    {
     "data": {
      "text/plain": [
       "array([ 6047.76, -2662.56,  5197.2 ])"
      ]
     },
     "execution_count": 11,
     "metadata": {},
     "output_type": "execute_result"
    }
   ],
   "source": [
    "pmt_pos_xyz[8977]"
   ]
  },
  {
   "cell_type": "code",
   "execution_count": 32,
   "id": "0477bc25-6001-41d3-93bc-c676a50377b0",
   "metadata": {},
   "outputs": [
    {
     "data": {
      "text/plain": [
       "(9728, 3)"
      ]
     },
     "execution_count": 32,
     "metadata": {},
     "output_type": "execute_result"
    }
   ],
   "source": [
    "np.shape(pmt_pos_xyz)"
   ]
  },
  {
   "cell_type": "code",
   "execution_count": 33,
   "id": "fb1b16d0-61b8-4aec-8d53-3cc8baed2fcb",
   "metadata": {},
   "outputs": [
    {
     "data": {
      "text/plain": [
       "(9728, 3)"
      ]
     },
     "execution_count": 33,
     "metadata": {},
     "output_type": "execute_result"
    }
   ],
   "source": [
    "np.shape(pmt_pos_sph)"
   ]
  },
  {
   "cell_type": "code",
   "execution_count": 34,
   "id": "19a1c577-216f-414f-aa21-32e29ce6770b",
   "metadata": {
    "tags": []
   },
   "outputs": [
    {
     "data": {
      "text/plain": [
       "(9728,)"
      ]
     },
     "execution_count": 34,
     "metadata": {},
     "output_type": "execute_result"
    }
   ],
   "source": [
    "np.shape(pmt_type)"
   ]
  },
  {
   "cell_type": "markdown",
   "id": "01d8de6c-46ae-4afc-8ab3-59d3c8981285",
   "metadata": {},
   "source": [
    "### Clean PMT type (just pmt_type = 1 || pmt_type = 7)\n",
    "Get the list of pmtID which are valid in the PMT info"
   ]
  },
  {
   "cell_type": "code",
   "execution_count": 75,
   "id": "d11b8ae5-0998-4a05-b64d-65a81825fc34",
   "metadata": {
    "tags": []
   },
   "outputs": [
    {
     "name": "stderr",
     "output_type": "stream",
     "text": [
      "100%|███████████████████████████████████████████████████████████████████████████████████| 2/2 [00:00<00:00, 501.41it/s]\n",
      "100%|███████████████████████████████████████████████████████████████████████████| 9394/9394 [00:00<00:00, 38454.28it/s]"
     ]
    },
    {
     "name": "stdout",
     "output_type": "stream",
     "text": [
      "[   1    2    3 ... 3536 3856 8163]\n"
     ]
    },
    {
     "name": "stderr",
     "output_type": "stream",
     "text": [
      "\n"
     ]
    },
    {
     "data": {
      "text/plain": [
       "9394"
      ]
     },
     "execution_count": 75,
     "metadata": {},
     "output_type": "execute_result"
    }
   ],
   "source": [
    "type_ = array([1,7])\n",
    "clean_pmt_id = np.array([],np.int32) #pmtID which are valid\n",
    "valid_index_pmt_type = np.array([],np.int32)\n",
    "\n",
    "#valid_index_pmt_type_list = [] # List of Indices of valids pmtID (util solo en pmt info, no en registro de eventos -> guardo el array, no la lista!!)\n",
    "\n",
    "for i_type in tqdm(type_):\n",
    "    p = where(pmt_type == i_type)[0] #look for indices ef valid PMT\n",
    "    #if i_type == 7:\n",
    "    #    print(p)\n",
    "    valid_index_pmt_type = np.concatenate((valid_index_pmt_type,p))\n",
    "    \n",
    "    #valid_index_list.append(p)\n",
    "    #print(valid_index_list)\n",
    "    #valid_index_pmt_type = valid_index_list[0][0] #extact the np.array\n",
    "#print(valid_index_pmt_type_list)\n",
    "\n",
    "for valid_i in tqdm(valid_index_pmt_type):\n",
    "    clean_pmt_id = np.append(clean_pmt_id,pmt_id[valid_i])\n",
    "    \n",
    "print(clean_pmt_id)\n",
    "len(clean_pmt_id)"
   ]
  },
  {
   "cell_type": "code",
   "execution_count": 69,
   "id": "b5b81515-49a6-400f-9299-02ee921eaec3",
   "metadata": {},
   "outputs": [
    {
     "data": {
      "image/png": "[encoded data removed]",
      "text/plain": [
       "<Figure size 576x432 with 1 Axes>"
      ]
     },
     "metadata": {
      "needs_background": "light"
     },
     "output_type": "display_data"
    }
   ],
   "source": [
    "var = mc_radius_ev\n",
    "\n",
    "plt.figure(figsize=(8,6))\n",
    "sn.histplot(var, bins = 100)\n",
    "plt.xlabel('var')\n",
    "plt.ylabel('events')\n",
    "plt.yscale('log')"
   ]
  },
  {
   "cell_type": "code",
   "execution_count": 37,
   "id": "7f6d5262-2f06-4f70-a7f0-26886112161f",
   "metadata": {
    "tags": []
   },
   "outputs": [
    {
     "data": {
      "text/plain": [
       "array([   0,    1,    2, ..., 9725, 9726, 9727])"
      ]
     },
     "execution_count": 37,
     "metadata": {},
     "output_type": "execute_result"
    }
   ],
   "source": [
    "pmt_id"
   ]
  },
  {
   "cell_type": "code",
   "execution_count": 38,
   "id": "748a1fe1-e844-491f-b649-4b5b92d7ea8e",
   "metadata": {},
   "outputs": [
    {
     "data": {
      "text/plain": [
       "9394"
      ]
     },
     "execution_count": 38,
     "metadata": {},
     "output_type": "execute_result"
    }
   ],
   "source": [
    "len(valid_index_pmt_type)"
   ]
  },
  {
   "cell_type": "code",
   "execution_count": 39,
   "id": "adf724b6-d04d-41a4-b36b-b6c0a83bb25d",
   "metadata": {
    "tags": []
   },
   "outputs": [
    {
     "data": {
      "text/plain": [
       "array([10,  1,  1, ...,  2,  2,  2])"
      ]
     },
     "execution_count": 39,
     "metadata": {},
     "output_type": "execute_result"
    }
   ],
   "source": [
    "pmt_type"
   ]
  },
  {
   "cell_type": "markdown",
   "id": "7d82c2a9-7ec9-45b9-b304-e45badf12d9f",
   "metadata": {},
   "source": [
    "# Event Analysis\n",
    "\n",
    "Lest choose one event and see what we can see"
   ]
  },
  {
   "cell_type": "code",
   "execution_count": 40,
   "id": "76ba0cb2-f109-42df-a5e5-575cce4541e7",
   "metadata": {
    "tags": []
   },
   "outputs": [
    {
     "data": {
      "text/plain": [
       "7674"
      ]
     },
     "execution_count": 40,
     "metadata": {},
     "output_type": "execute_result"
    }
   ],
   "source": [
    "event = 11 #EventID = 14 #EventID = 11 is problematic\n",
    "condition = (evtid == event) #which event ID is true \n",
    "\n",
    "pmtid_ev = np.extract(condition, hit_pmtid) #Indices for which elements are True in eventID then extract the hit_pmtID\n",
    "time_res_ev = np.extract(condition, hit_residual)\n",
    "pmttime_ev = np.extract(condition, hit_pmttime)\n",
    "N_events = len(pmtid_ev)\n",
    "\n",
    "#special trait to extract positions...\n",
    "pre_mc_position_ev = np.array([]) #Monte Carlo position (pre bc need to be reshaped - coordinates are all aligned)\n",
    "mc_radius_ev = np.array([])  #Monte Carlo radius\n",
    "\n",
    "for i in where(condition)[0]:\n",
    "    pre_mc_position_ev = np.append(pre_mc_position_ev, mc_position[i])\n",
    "mc_position_ev = pre_mc_position_ev.reshape(N_events,3)\n",
    "\n",
    "for i in range(N_events):\n",
    "    mc_radius_ev = np.append(mc_radius_ev,magnitude(mc_position_ev[i]))\n",
    "    \n",
    "N_events\n",
    "#print(pmtid_ev)"
   ]
  },
  {
   "cell_type": "code",
   "execution_count": 41,
   "id": "25a0cc30-4151-4c6f-bc90-6740bedc3685",
   "metadata": {},
   "outputs": [
    {
     "data": {
      "text/plain": [
       "array([5394.23974754, 5394.23974754, 5394.23974754, ..., 5465.10539011,\n",
       "       5465.10539011, 5465.10539011])"
      ]
     },
     "execution_count": 41,
     "metadata": {},
     "output_type": "execute_result"
    }
   ],
   "source": [
    "mc_radius_ev"
   ]
  },
  {
   "cell_type": "code",
   "execution_count": 42,
   "id": "a4082ace-8eb4-4b72-9b1b-7b220d577b7a",
   "metadata": {},
   "outputs": [
    {
     "data": {
      "text/plain": [
       "array([[ 3557.81079102, -2256.09936523,  3368.94946289],\n",
       "       [ 3557.81079102, -2256.09936523,  3368.94946289],\n",
       "       [ 3557.81079102, -2256.09936523,  3368.94946289],\n",
       "       ...,\n",
       "       [-1791.13085938, -2320.78710938,  4612.28515625],\n",
       "       [-1791.13085938, -2320.78710938,  4612.28515625],\n",
       "       [-1791.13085938, -2320.78710938,  4612.28515625]])"
      ]
     },
     "execution_count": 42,
     "metadata": {},
     "output_type": "execute_result"
    }
   ],
   "source": [
    "mc_position_ev"
   ]
  },
  {
   "cell_type": "markdown",
   "id": "709e8fa8-c511-45de-a497-13b31ad76c8c",
   "metadata": {},
   "source": [
    "### Time residual of the event = event"
   ]
  },
  {
   "cell_type": "code",
   "execution_count": 43,
   "id": "9acdbf57-2349-43ba-b39d-6eae2f346ffa",
   "metadata": {},
   "outputs": [
    {
     "data": {
      "image/png": "[encoded data removed]",
      "text/plain": [
       "<Figure size 576x432 with 1 Axes>"
      ]
     },
     "metadata": {
      "needs_background": "light"
     },
     "output_type": "display_data"
    }
   ],
   "source": [
    "plt.figure(figsize=(8,6))\n",
    "sn.histplot(time_res_ev, bins = 100)\n",
    "plt.xlabel('hit_time_residual')\n",
    "plt.ylabel('events')\n",
    "plt.yscale('log')"
   ]
  },
  {
   "cell_type": "code",
   "execution_count": 77,
   "id": "5a057e4f-e53f-4552-95ce-d078c3dbd464",
   "metadata": {},
   "outputs": [
    {
     "data": {
      "image/png": "[encoded data removed]",
      "text/plain": [
       "<Figure size 576x432 with 1 Axes>"
      ]
     },
     "metadata": {
      "needs_background": "light"
     },
     "output_type": "display_data"
    }
   ],
   "source": [
    "plt.figure(figsize=(8,6))\n",
    "sn.histplot(pmttime_ev, bins = 100)\n",
    "plt.xlabel('pmttime')\n",
    "plt.ylabel('events')\n",
    "plt.yscale('log')"
   ]
  },
  {
   "cell_type": "code",
   "execution_count": 78,
   "id": "c3ba460b-22c0-47a5-b53e-7b6e4d418f0c",
   "metadata": {},
   "outputs": [
    {
     "data": {
      "image/png": "[encoded data removed]",
      "text/plain": [
       "<Figure size 576x432 with 1 Axes>"
      ]
     },
     "metadata": {
      "needs_background": "light"
     },
     "output_type": "display_data"
    }
   ],
   "source": [
    "plt.figure(figsize=(8,6))\n",
    "sn.histplot(mc_radius_ev, bins = 100)\n",
    "plt.xlabel('mc_radius')\n",
    "plt.ylabel('events')\n",
    "plt.yscale('log')"
   ]
  },
  {
   "cell_type": "markdown",
   "id": "ec8efae9-e1c9-4bf7-bc66-199f474adae4",
   "metadata": {},
   "source": [
    "### Proof if it is right\n",
    "Was verified using ROOT, same entries!\n",
    "Open file .py in ROOT,\n",
    "T-> GetEntries('evtid==14')"
   ]
  },
  {
   "cell_type": "code",
   "execution_count": 46,
   "id": "0c9cad75-c38d-46cf-9cd8-2a1f881454c9",
   "metadata": {},
   "outputs": [
    {
     "data": {
      "text/plain": [
       "(array([ 1,  2,  3,  4,  5,  6,  7, 10]),\n",
       " array([9390,   91,   49,   22,    4,   32,    4,  136], dtype=int64))"
      ]
     },
     "execution_count": 46,
     "metadata": {},
     "output_type": "execute_result"
    }
   ],
   "source": [
    "np.unique(pmt_type,return_counts=True) #([Nº PMT Type],[Nº of PMTs])"
   ]
  },
  {
   "cell_type": "markdown",
   "id": "981e94a5-d90d-476f-8751-3c8064f1cb81",
   "metadata": {},
   "source": [
    "### Looking for the index of the PMT by mean their ID and extract coordinates"
   ]
  },
  {
   "cell_type": "code",
   "execution_count": 47,
   "id": "bd4c572e-bfd9-4fae-8b3c-4fdc19a5b42c",
   "metadata": {
    "tags": []
   },
   "outputs": [
    {
     "data": {
      "text/plain": [
       "array([2, 3], dtype=int64)"
      ]
     },
     "execution_count": 47,
     "metadata": {},
     "output_type": "execute_result"
    }
   ],
   "source": [
    "# prueba\n",
    "a = np.array([1,1,2,2,4])\n",
    "(np.array(np.where(a == 2)))[0]"
   ]
  },
  {
   "cell_type": "code",
   "execution_count": 48,
   "id": "9827d3e5-b4d0-4797-b5a6-461b345ebf34",
   "metadata": {},
   "outputs": [
    {
     "name": "stdout",
     "output_type": "stream",
     "text": [
      "[ True False False  True  True  True]\n",
      "[ True False False  True]\n"
     ]
    }
   ],
   "source": [
    "#compare elements between arrays\n",
    "\n",
    "x = array([1,2,3,4])\n",
    "y = array([1,8,9,4,1,1])\n",
    "print(np.in1d(y,x)) #y in x -less convenient because of dim(y)>dim(x)\n",
    "print(np.in1d(x,y)) #x in y"
   ]
  },
  {
   "cell_type": "code",
   "execution_count": 79,
   "id": "cb828f5a-5fd3-4e3e-98eb-61535a61e539",
   "metadata": {
    "tags": []
   },
   "outputs": [],
   "source": [
    "pmt_ids_idx = np.where(np.in1d(clean_pmt_id,pmtid_ev))[0] #index of PMTsID in pmtINFO in which is verified a hit in data"
   ]
  },
  {
   "cell_type": "code",
   "execution_count": 81,
   "id": "c6b8a912-fe6f-4417-82c5-8af682a063fd",
   "metadata": {},
   "outputs": [
    {
     "name": "stdout",
     "output_type": "stream",
     "text": [
      "[-99999. -99999. -99999.]\n",
      "[ 5467.54    63.44 -6406.27]\n",
      "[ 5615.16   266.8  -6251.09]\n",
      "[ 5762.73   469.91 -6095.92]\n",
      "[ 5910.5    673.23 -5940.54]\n",
      "[ 7295.12  3775.89 -1812.97]\n",
      "[ 5402.51   349.82 -6438.44]\n",
      "[ 5550.13   553.18 -6283.26]\n",
      "[ 5697.85   756.25 -6127.89]\n",
      "[ 2380.63  -176.3  -8059.18]\n"
     ]
    }
   ],
   "source": [
    "#index_pmt = array([index_pmt]).reshape((len(index)))\n",
    "for i_idx in range(0,10):\n",
    "    print(pmt_pos_xyz[i_idx])"
   ]
  },
  {
   "cell_type": "code",
   "execution_count": 82,
   "id": "7dc9d6d5-9b72-4032-b9a3-47587abef909",
   "metadata": {
    "tags": []
   },
   "outputs": [
    {
     "name": "stderr",
     "output_type": "stream",
     "text": [
      "100%|██████████████████████████████████████████████████████████████████████████| 4847/4847 [00:00<00:00, 607494.14it/s]\n"
     ]
    },
    {
     "data": {
      "text/plain": [
       "5467.54"
      ]
     },
     "execution_count": 82,
     "metadata": {},
     "output_type": "execute_result"
    }
   ],
   "source": [
    "#Extract coordinates of PMTs with hits\n",
    "\n",
    "hitpmt_coord = []\n",
    "\n",
    "#print(index_pmt)\n",
    "for i in tqdm(pmt_ids_idx):\n",
    "    #print(clean_pmt_id[i])\n",
    "    hitpmt_coord.append(pmt_pos_xyz[clean_pmt_id[i]])\n",
    "\n",
    "#print(len(hitpmt_coord))\n",
    "hitpmt_coord = np.array(hitpmt_coord)#.reshape((len(hitpmt_coord),3))\n",
    "hitpmt_coord[0][0]                              "
   ]
  },
  {
   "cell_type": "code",
   "execution_count": 84,
   "id": "f909babe-12e1-4329-8141-cc57437fe493",
   "metadata": {
    "tags": []
   },
   "outputs": [
    {
     "data": {
      "text/plain": [
       "array([   1,    2,    3, ..., 3536, 3856, 8163])"
      ]
     },
     "execution_count": 84,
     "metadata": {},
     "output_type": "execute_result"
    }
   ],
   "source": [
    "clean_pmt_id"
   ]
  },
  {
   "cell_type": "code",
   "execution_count": 85,
   "id": "3d940a4d-2ab0-4062-89e2-0c279ad025f5",
   "metadata": {
    "tags": []
   },
   "outputs": [
    {
     "data": {
      "text/plain": [
       "array([   0,    1,    3, ..., 8514, 8515, 8517], dtype=int64)"
      ]
     },
     "execution_count": 85,
     "metadata": {},
     "output_type": "execute_result"
    }
   ],
   "source": [
    "pmt_ids_idx"
   ]
  },
  {
   "cell_type": "code",
   "execution_count": 86,
   "id": "ac6f2c71-9e9f-40aa-8473-bc3f2fdb3368",
   "metadata": {},
   "outputs": [
    {
     "data": {
      "text/plain": [
       "4847"
      ]
     },
     "execution_count": 86,
     "metadata": {},
     "output_type": "execute_result"
    }
   ],
   "source": [
    "len(pmt_ids_idx)"
   ]
  },
  {
   "cell_type": "code",
   "execution_count": 87,
   "id": "a9ff2d2c-97ee-4db3-9e52-ab4a75becb1f",
   "metadata": {
    "tags": []
   },
   "outputs": [
    {
     "data": {
      "text/plain": [
       "(4847, 3)"
      ]
     },
     "execution_count": 87,
     "metadata": {},
     "output_type": "execute_result"
    }
   ],
   "source": [
    "np.shape(hitpmt_coord)"
   ]
  },
  {
   "cell_type": "code",
   "execution_count": 88,
   "id": "e54c98e0-fa41-4773-853d-98c05662f4bf",
   "metadata": {
    "tags": []
   },
   "outputs": [
    {
     "data": {
      "text/plain": [
       "array([[ 5467.54,    63.44, -6406.27],\n",
       "       [ 5615.16,   266.8 , -6251.09],\n",
       "       [ 5910.5 ,   673.23, -5940.54],\n",
       "       ...,\n",
       "       [ 4446.56, -1228.43, -7046.97],\n",
       "       [ 5222.62,  -687.16, -6558.71],\n",
       "       [ 4855.54, -1099.81, -6767.98]])"
      ]
     },
     "execution_count": 88,
     "metadata": {},
     "output_type": "execute_result"
    }
   ],
   "source": [
    "hitpmt_coord"
   ]
  },
  {
   "cell_type": "markdown",
   "id": "2318f9d6-03d4-4f79-aaa0-e8dacccc6b5c",
   "metadata": {},
   "source": [
    "### PMT hit coord distribution"
   ]
  },
  {
   "cell_type": "code",
   "execution_count": 101,
   "id": "a15353fa-46f7-4ffe-9947-107b430ad1c5",
   "metadata": {},
   "outputs": [
    {
     "name": "stdout",
     "output_type": "stream",
     "text": [
      "Using matplotlib backend: Qt5Agg\n"
     ]
    },
    {
     "data": {
      "text/plain": [
       "<mpl_toolkits.mplot3d.art3d.Path3DCollection at 0x1ab294a5790>"
      ]
     },
     "execution_count": 101,
     "metadata": {},
     "output_type": "execute_result"
    }
   ],
   "source": [
    "%matplotlib\n",
    "fig = plt.figure(figsize = (10,10))\n",
    "ax = plt.axes(projection='3d')\n",
    "ax.grid()\n",
    "\n",
    "x = hitpmt_coord[:,0]\n",
    "y = hitpmt_coord[:,1]\n",
    "z = hitpmt_coord[:,2]\n",
    "\n",
    "ax.scatter(x, y, z, c = 'r', s = 1)\n",
    "#plt.xlim(-10000,10000)\n",
    "#plt.ylim(-10000,10000)"
   ]
  },
  {
   "cell_type": "markdown",
   "id": "b4dc4de9-9356-415b-9d5c-b381c91b4b38",
   "metadata": {},
   "source": [
    "# Now, take this cleaned PMT id and lets clean data for a given event ID"
   ]
  },
  {
   "cell_type": "markdown",
   "id": "49ffdb2d-8414-43b2-8c27-ecd0176f74f4",
   "metadata": {},
   "source": [
    "- Usar PMTid_clean para buscar los indices de los pmts que dieron hit --> comparar (clean_pmt_id, hit_pmtid);\n",
    "- Teniendo esa comparación extraer indices y extraer clean info. usando los indices;"
   ]
  },
  {
   "cell_type": "code",
   "execution_count": 91,
   "id": "c835ca53-1013-4a52-bf31-ce0c48bc87ca",
   "metadata": {},
   "outputs": [
    {
     "data": {
      "text/plain": [
       "(array([0, 3, 4, 7], dtype=int64),)"
      ]
     },
     "execution_count": 91,
     "metadata": {},
     "output_type": "execute_result"
    }
   ],
   "source": [
    "x = np.array([1, 3, 4, 5])\n",
    "y = np.array([1, 2, 2, 5, 3, 6, 7, 1])\n",
    "\n",
    "where(np.in1d(y, x))"
   ]
  },
  {
   "cell_type": "markdown",
   "id": "289bb5d4-9ade-496b-9cfa-370dae2c0ca8",
   "metadata": {},
   "source": [
    "#### Indices of data clean"
   ]
  },
  {
   "cell_type": "code",
   "execution_count": 92,
   "id": "be81e3a9-711c-40d1-963c-67256f57eb3b",
   "metadata": {},
   "outputs": [
    {
     "data": {
      "text/plain": [
       "6967"
      ]
     },
     "execution_count": 92,
     "metadata": {},
     "output_type": "execute_result"
    }
   ],
   "source": [
    "len(where(np.in1d(pmtid_ev, clean_pmt_id))[0])"
   ]
  },
  {
   "cell_type": "code",
   "execution_count": 93,
   "id": "9d268746-09e4-4d38-8a15-643973f06953",
   "metadata": {},
   "outputs": [
    {
     "data": {
      "text/plain": [
       "7674"
      ]
     },
     "execution_count": 93,
     "metadata": {},
     "output_type": "execute_result"
    }
   ],
   "source": [
    "len(pmtid_ev)"
   ]
  },
  {
   "cell_type": "code",
   "execution_count": 94,
   "id": "d5ee76e4-78e7-48c8-8831-313971a7a353",
   "metadata": {},
   "outputs": [
    {
     "name": "stdout",
     "output_type": "stream",
     "text": [
      "here\n",
      "here\n",
      "here\n",
      "here\n",
      "here\n",
      "here\n",
      "here\n",
      "here\n",
      "here\n",
      "here\n"
     ]
    }
   ],
   "source": [
    "for i in pmtid_ev:\n",
    "    if i == 9207:\n",
    "        print('here')"
   ]
  },
  {
   "cell_type": "markdown",
   "id": "9644505f-feff-4abe-ad02-3be090965f56",
   "metadata": {},
   "source": [
    "#### Lets see the time residuals"
   ]
  },
  {
   "cell_type": "code",
   "execution_count": 104,
   "id": "fcfe7e39-47cf-4a8d-a34b-1cde262e303a",
   "metadata": {},
   "outputs": [
    {
     "name": "stderr",
     "output_type": "stream",
     "text": [
      "100%|███████████████████████████████████████████████████████████████████████████| 6967/6967 [00:00<00:00, 23958.88it/s]\n"
     ]
    }
   ],
   "source": [
    "time_res_clean = np.array([]) #Time residuals of clean data given a event\n",
    "pmttime_clean = np.array([]) #time of pmt hit of in clean data given a event\n",
    "pmtid_clean_ev = np.array([], dtype = np.int32) #clean pmt ID given a event\n",
    "\n",
    "for i in tqdm((where(np.in1d(pmtid_ev, clean_pmt_id))[0])):\n",
    "    pmtid_clean_ev = np.append(pmtid_clean_ev, pmtid_ev[i])\n",
    "    time_res_clean = np.append(time_res_clean, hit_residual[i])\n",
    "    pmttime_clean = np.append(pmttime_clean,hit_pmttime[i])"
   ]
  },
  {
   "cell_type": "code",
   "execution_count": 96,
   "id": "8472a123-7575-46a0-9606-3430b3f27f8d",
   "metadata": {},
   "outputs": [
    {
     "data": {
      "text/plain": [
       "array([8519, 8484, 8966, ..., 2876, 8143, 2515])"
      ]
     },
     "execution_count": 96,
     "metadata": {},
     "output_type": "execute_result"
    }
   ],
   "source": [
    "pmtid_clean_ev"
   ]
  },
  {
   "cell_type": "code",
   "execution_count": 116,
   "id": "616a17a9-b6d2-4ddc-ab9b-ed35f64d6020",
   "metadata": {},
   "outputs": [
    {
     "name": "stdout",
     "output_type": "stream",
     "text": [
      "here\n",
      "here\n",
      "here\n",
      "here\n",
      "here\n",
      "here\n",
      "here\n",
      "here\n"
     ]
    }
   ],
   "source": [
    "r = time_res_clean < -200\n",
    "for i in r:\n",
    "    if i == True:\n",
    "        print('here')"
   ]
  },
  {
   "cell_type": "code",
   "execution_count": 114,
   "id": "18a3a6b6-a001-474e-b7ee-5714d1ddd2d0",
   "metadata": {},
   "outputs": [],
   "source": [
    "for i in pmtid_clean_ev:\n",
    "    #if i == 9207:\n",
    "    if i == 8080:\n",
    "        print('here')"
   ]
  },
  {
   "cell_type": "code",
   "execution_count": 98,
   "id": "d28e155e-47e5-4e5c-a70c-8eb7133e06ec",
   "metadata": {},
   "outputs": [],
   "source": [
    "def hist(x, bins, xtitle):\n",
    "    \n",
    "    plt.figure(figsize=(8,6))\n",
    "    sn.histplot(x, bins = bins)\n",
    "    plt.xlabel(xtitle)\n",
    "    plt.ylabel('events')\n",
    "    plt.yscale('log')"
   ]
  },
  {
   "cell_type": "code",
   "execution_count": 117,
   "id": "0532c05b-574f-48d0-b824-1975c7cc22be",
   "metadata": {},
   "outputs": [],
   "source": [
    "hist(time_res_clean, 100, 'hit_time_residual')"
   ]
  },
  {
   "cell_type": "markdown",
   "id": "1cd3acb4-318f-44fe-bd91-dde5371af9f9",
   "metadata": {},
   "source": [
    "Hace sentido time residual a -600? ya verifique los cortes y desaparece el pico t t_res = -10.000 usando evento ID=11"
   ]
  },
  {
   "cell_type": "code",
   "execution_count": 102,
   "id": "d6d7d10f-2d0a-49b1-82b2-123205e9fbcb",
   "metadata": {},
   "outputs": [],
   "source": [
    "hist(pmttime_clean, 100, 'hit_pmttime')"
   ]
  },
  {
   "cell_type": "markdown",
   "id": "c5f4d406-c812-4435-a70a-e5ab063672d7",
   "metadata": {},
   "source": [
    "No es culpa del pmt time visto que corta su valor negativo para el evento ID = 11"
   ]
  },
  {
   "cell_type": "markdown",
   "id": "3103fb49-7c69-4fdd-b7cd-8a94171e984d",
   "metadata": {},
   "source": [
    "### Cuts in Time residual - Looking for Cherenkov!\n",
    "\n",
    "Lets choose $t_{res} = [[0,5] , [0,10], [0,15]]ns$"
   ]
  },
  {
   "cell_type": "code",
   "execution_count": 441,
   "id": "795173f9-3322-4e68-8b7a-011ef7d87e67",
   "metadata": {},
   "outputs": [],
   "source": [
    "#up_condition_cev = (time_res_clean <= 4)\n",
    "#do_condition_cev = (time_res_clean >= -4)\n",
    "\n",
    "#all_condition_cev = (up_condition_cev == do_condition_cev)\n",
    "\n",
    "#time_res_cev = np.extract(all_condition_cev, time_res_clean)\n",
    "#pmtid_cev_ev = np.extract(all_condition_cev, pmtid_clean_ev)"
   ]
  },
  {
   "cell_type": "code",
   "execution_count": 107,
   "id": "c2087738-5796-490a-8403-06eb1793a589",
   "metadata": {},
   "outputs": [
    {
     "name": "stderr",
     "output_type": "stream",
     "text": [
      "100%|██████████████████████████████████████████████████████████████████████████| 6967/6967 [00:00<00:00, 332620.58it/s]\n"
     ]
    }
   ],
   "source": [
    "time_res_cev = np.array([])\n",
    "pmtid_cev_ev = np.array([], dtype = np.int64)\n",
    "\n",
    "terms = len(time_res_clean)\n",
    "\n",
    "for i in tqdm(range(terms)):\n",
    "    if (time_res_clean[i] <= 3 and time_res_clean[i]>=0):\n",
    "        time_res_cev = np.append(time_res_cev, time_res_clean[i])\n",
    "        pmtid_cev_ev = np.append(pmtid_cev_ev, pmtid_clean_ev[i])"
   ]
  },
  {
   "cell_type": "code",
   "execution_count": 108,
   "id": "4ef00012-c55f-42b6-8d72-a2c2cbfb4d56",
   "metadata": {},
   "outputs": [],
   "source": [
    "#pmtid_cev_ev\n",
    "#pmtid_clean_ev"
   ]
  },
  {
   "cell_type": "code",
   "execution_count": 109,
   "id": "9175569e-024e-4d6b-8cb1-baecd6a5db86",
   "metadata": {},
   "outputs": [],
   "source": [
    "hist(time_res_cev, 100, 'time_res_cev')"
   ]
  },
  {
   "cell_type": "code",
   "execution_count": 111,
   "id": "813ae8ec-80e5-4375-889d-a9279c2f19b7",
   "metadata": {
    "collapsed": true,
    "jupyter": {
     "outputs_hidden": true
    },
    "tags": []
   },
   "outputs": [
    {
     "data": {
      "text/plain": [
       "array([   0,    4,   28,   58,   66,   73,   95,  102,  114,  171,  173,\n",
       "        185,  190,  192,  210,  234,  254,  268,  297,  298,  324,  340,\n",
       "        351,  354,  382,  405,  418,  442,  472,  473,  601,  606,  640,\n",
       "        641,  648,  656,  701,  712,  714,  749,  762,  787,  800,  894,\n",
       "        907,  923,  934,  948,  949,  962,  996, 1016, 1021, 1023, 1028,\n",
       "       1032, 1035, 1038, 1057, 1060, 1073, 1076, 1136, 1166, 1229, 1237,\n",
       "       1303, 1328, 1332, 1342, 1368, 1403, 1404, 1407, 1429, 1435, 1443,\n",
       "       1448, 1502, 1511, 1541, 1593, 1619, 1658, 1686, 1705, 1736, 1831,\n",
       "       1839, 1869, 1871, 1977, 1986, 1988, 2099, 2107, 2114, 2181, 2278,\n",
       "       2295, 2324, 2424, 2435, 2473, 2489, 2495, 2497, 2526, 2529, 2532,\n",
       "       2568, 2597, 2606, 2637, 2664, 2785, 2850, 2905, 2919, 2927, 2986,\n",
       "       2990, 3000, 3031, 3033, 3107, 3125, 3149, 3166, 3207, 3218, 3227,\n",
       "       3267, 3336, 3351, 3402, 3430, 3431, 3435, 3465, 3501, 3554, 3556,\n",
       "       3581, 3588, 3830, 3847, 3875, 3882, 3884, 3985, 3993, 3998, 4020,\n",
       "       4022, 4052, 4058, 4110, 4122, 4161, 4192, 4227, 4245, 4313, 4323,\n",
       "       4325, 4333, 4385, 4401, 4454, 4456, 4492, 4502, 4524, 4574, 4578,\n",
       "       4634, 4643, 4673, 4762, 4774, 4787, 4796, 4836, 4838, 4848, 4874,\n",
       "       4935, 4937, 4953, 5039, 5148, 5234, 5276, 5296, 5299, 5350, 5396,\n",
       "       5404, 5425, 5450, 5456, 5504, 5552, 5579, 5593, 5596, 5597, 5656,\n",
       "       5665, 5732, 5780, 5809, 5817, 5841, 5859, 5867, 5869, 5891, 5897,\n",
       "       5898, 5921, 5945, 6022, 6042, 6049, 6091, 6095, 6110, 6152, 6182,\n",
       "       6190, 6213, 6243, 6254, 6267, 6269, 6273, 6275, 6282, 6308, 6314,\n",
       "       6377, 6386, 6404, 6413, 6419, 6478, 6493, 6508, 6588, 6594, 6634,\n",
       "       6637, 6660, 6728, 6729, 6821, 6864, 6906, 6921, 6937, 6949, 6966,\n",
       "       6967, 6978, 6988, 7001, 7009, 7014, 7021, 7027, 7045, 7049, 7066,\n",
       "       7090, 7114, 7128, 7143, 7148, 7163, 7172, 7190, 7191, 7196, 7209,\n",
       "       7246, 7250, 7291, 7358, 7369, 7397, 7436, 7449, 7469, 7478, 7479,\n",
       "       7481, 7492, 7493, 7494, 7497, 7520, 7522, 7528, 7546, 7551, 7562,\n",
       "       7567, 7597, 7652, 7655, 7665, 7713, 7714, 7730, 7737, 7752, 7787,\n",
       "       7788, 7798, 7807, 7818, 7845, 7846, 7888, 7891, 7900, 7908, 7910,\n",
       "       7930, 7936, 7940, 7945, 7966, 8070, 8074, 8104, 8135, 8187, 8190,\n",
       "       8193, 8200, 8220, 8252, 8266, 8278, 8297, 8316, 8377, 8382, 8416,\n",
       "       8463, 8476, 8477, 8487], dtype=int64)"
      ]
     },
     "execution_count": 111,
     "metadata": {},
     "output_type": "execute_result"
    }
   ],
   "source": [
    "#extract indices of PMT info and to extract the coordinates\n",
    "index_pmt_cev = np.where(np.in1d(clean_pmt_id, pmtid_cev_ev))[0] #index of PMTs in pmtINFO in which is verified a hit in data\n",
    "index_pmt_cev"
   ]
  },
  {
   "cell_type": "code",
   "execution_count": 112,
   "id": "dfcfa541-14b8-4270-9724-d625ded83206",
   "metadata": {},
   "outputs": [
    {
     "name": "stderr",
     "output_type": "stream",
     "text": [
      "100%|████████████████████████████████████████████████████████████████████████████| 356/356 [00:00<00:00, 178651.86it/s]\n"
     ]
    }
   ],
   "source": [
    "hitpmt_coord_cev = []\n",
    "\n",
    "for i_dx in tqdm(index_pmt_cev):\n",
    "    hitpmt_coord_cev.append(pmt_pos_xyz[clean_pmt_id[i_dx]])\n",
    "    #print(hitpmt_coord_cev)\n",
    "    \n",
    "hitpmt_coord_cev = np.array(hitpmt_coord_cev)\n",
    "#shape(hitpmt_coord_cev)"
   ]
  },
  {
   "cell_type": "code",
   "execution_count": 130,
   "id": "0a04794a-b1f6-4497-858d-7f161ab34cc8",
   "metadata": {},
   "outputs": [
    {
     "data": {
      "text/plain": [
       "<mpl_toolkits.mplot3d.art3d.Path3DCollection at 0x1ab2a7d3190>"
      ]
     },
     "execution_count": 130,
     "metadata": {},
     "output_type": "execute_result"
    }
   ],
   "source": [
    "#%matplotlib\n",
    "fig = plt.figure(figsize = (10,10))\n",
    "ax = plt.axes(projection='3d')\n",
    "ax.grid()\n",
    "\n",
    "x = hitpmt_coord_cev[:,0]\n",
    "y = hitpmt_coord_cev[:,1]\n",
    "z = hitpmt_coord_cev[:,2]\n",
    "\n",
    "ax.scatter(x, y, z, c = 'b', s = 2)\n",
    "#plt.xlim(-10000,10000)\n",
    "#plt.ylim(-10000,10000)"
   ]
  },
  {
   "cell_type": "code",
   "execution_count": 480,
   "id": "82f500de-8cc6-42b4-8fd2-a52297c1d84d",
   "metadata": {},
   "outputs": [
    {
     "data": {
      "text/plain": [
       "array([[ 5467.54,    63.44, -6406.27],\n",
       "       [ 5402.51,   349.82, -6438.44],\n",
       "       [ 6457.81,  1400.72, -5197.09],\n",
       "       ...,\n",
       "       [ 7166.11, -3420.45,  2808.21],\n",
       "       [ 6536.7 , -4801.31,  2192.39],\n",
       "       [ 6078.68, -5666.4 ,  1149.76]])"
      ]
     },
     "execution_count": 480,
     "metadata": {},
     "output_type": "execute_result"
    }
   ],
   "source": [
    "hitpmt_coord_cev"
   ]
  },
  {
   "cell_type": "markdown",
   "id": "7b0b9d7c-d496-4b81-86f6-c6c622732ff1",
   "metadata": {},
   "source": [
    "### Vale la pena cortar time residual < -200? veamos esto rapidamente para un evento ID"
   ]
  },
  {
   "cell_type": "code",
   "execution_count": 180,
   "id": "39c6124d-b7ae-4921-a844-153230920635",
   "metadata": {},
   "outputs": [],
   "source": [
    "i_proof = np.array([], dtype = np.int32)  #indices de residuals filtrados\n",
    "id_proof_ev = np.array([], dtype = np.int32) #PMTid de pmt que dieron hit dado un eventos y que cumplen con los indices de residuals filtrados\n",
    "# id_proof = np.array([]) #PMTid de pmt info que cumplan con los residuales filtrados\n",
    "coord_proof = []\n",
    "\n",
    "for i in time_res_ev:\n",
    "    if i > -200 and i < 5:\n",
    "        i_proof = np.append(i_proof, where(time_res_ev == i)[0][0])\n",
    "\n",
    "#ID_removed = np.delete(pmtid_ev,i_proof) \n",
    "for i in i_proof:\n",
    "    id_proof_ev = np.append(id_proof_ev, pmtid_ev[i])\n",
    "\n",
    "# where(pmt_id == id_proof_ev)[0]\n",
    "for i in where(np.in1d(pmt_id,id_proof_ev))[0]:\n",
    "    coord_proof.append(pmt_pos_xyz[pmt_id[i]])\n",
    "coord_proof = np.array(coord_proof)"
   ]
  },
  {
   "cell_type": "code",
   "execution_count": 181,
   "id": "3aa0ca41-f8a2-426e-a63e-433c0dee7eee",
   "metadata": {},
   "outputs": [
    {
     "data": {
      "text/plain": [
       "array([[ 5697.85,   756.25, -6127.89],\n",
       "       [ 5632.83,  1042.63, -6160.06],\n",
       "       [ 6563.03,  1591.96, -4998.31],\n",
       "       ...,\n",
       "       [ 6371.14, -5044.94,  2172.51],\n",
       "       [ 6196.91, -5402.28,  1664.71],\n",
       "       [ 6078.68, -5666.4 ,  1149.76]])"
      ]
     },
     "execution_count": 181,
     "metadata": {},
     "output_type": "execute_result"
    }
   ],
   "source": [
    "coord_proof"
   ]
  },
  {
   "cell_type": "code",
   "execution_count": 186,
   "id": "40219d75-09e9-436c-b25b-26d6476e10fd",
   "metadata": {},
   "outputs": [
    {
     "data": {
      "text/plain": [
       "<mpl_toolkits.mplot3d.art3d.Path3DCollection at 0x1ab282dabb0>"
      ]
     },
     "execution_count": 186,
     "metadata": {},
     "output_type": "execute_result"
    }
   ],
   "source": [
    "fig = plt.figure(figsize = (10,10))\n",
    "ax = plt.axes(projection='3d')\n",
    "ax.grid()\n",
    "\n",
    "x = coord_proof[:,0]\n",
    "y = coord_proof[:,1]\n",
    "z = coord_proof[:,2]\n",
    "\n",
    "ax.scatter(x, y, z, c = 'r', s = 1)"
   ]
  },
  {
   "cell_type": "code",
   "execution_count": 157,
   "id": "f152d527-ecc2-4cfe-a493-2d90e546a933",
   "metadata": {},
   "outputs": [
    {
     "data": {
      "text/plain": [
       "0"
      ]
     },
     "execution_count": 157,
     "metadata": {},
     "output_type": "execute_result"
    }
   ],
   "source": [
    "x = array([1,2,3,4])\n",
    "\n",
    "where(x==1)[0][0]"
   ]
  },
  {
   "cell_type": "code",
   "execution_count": null,
   "id": "14d2db87-03ba-4599-ada8-c3960a408b1e",
   "metadata": {},
   "outputs": [],
   "source": []
  }
 ],
 "metadata": {
  "kernelspec": {
   "display_name": "Python 3 (ipykernel)",
   "language": "python",
   "name": "python3"
  },
  "language_info": {
   "codemirror_mode": {
    "name": "ipython",
    "version": 3
   },
   "file_extension": ".py",
   "mimetype": "text/x-python",
   "name": "python",
   "nbconvert_exporter": "python",
   "pygments_lexer": "ipython3",
   "version": "3.12.2"
  }
 },
 "nbformat": 4,
 "nbformat_minor": 5
}
